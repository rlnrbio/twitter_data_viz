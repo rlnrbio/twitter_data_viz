{
 "cells": [
  {
   "cell_type": "markdown",
   "metadata": {
    "id": "4eZ1MYQmLJ3b"
   },
   "source": [
    "\n",
    "# Test twitter data from github repo\n",
    "\n",
    "Load data from github repo"
   ]
  },
  {
   "cell_type": "code",
   "execution_count": 47,
   "metadata": {
    "id": "RgO98q3_LJ3d"
   },
   "outputs": [],
   "source": [
    "import pandas as pd\n",
    "import numpy as np\n",
    "import datetime as dt\n",
    "import matplotlib\n",
    "\n",
    "\n",
    "import os\n",
    "import re\n",
    "\n",
    "import networkx as nx\n",
    "import nx_altair as nxa\n",
    "import altair as alt\n",
    "\n",
    "twittercol = '#1da1f2'\n",
    "\n",
    "col2 = \"#0062a2\"\n",
    "\n",
    "range_twittercol = [twittercol,  \"#0062a2\"]"
   ]
  },
  {
   "cell_type": "markdown",
   "metadata": {
    "id": "l1JS-d7lLJ3o"
   },
   "source": [
    "# Load Corona data\n"
   ]
  },
  {
   "cell_type": "code",
   "execution_count": 2,
   "metadata": {
    "colab": {
     "base_uri": "https://localhost:8080/",
     "height": 889
    },
    "id": "PmQVrwcoLJ3s",
    "outputId": "7fc4299d-a7aa-426a-ed82-de75113075dc"
   },
   "outputs": [
    {
     "name": "stdout",
     "output_type": "stream",
     "text": [
      "<class 'pandas.core.frame.DataFrame'>\n",
      "RangeIndex: 51371 entries, 0 to 51370\n",
      "Data columns (total 41 columns):\n",
      " #   Column                           Non-Null Count  Dtype         \n",
      "---  ------                           --------------  -----         \n",
      " 0   iso_code                         51076 non-null  object        \n",
      " 1   continent                        50781 non-null  object        \n",
      " 2   location                         51371 non-null  object        \n",
      " 3   date                             51371 non-null  datetime64[ns]\n",
      " 4   total_cases                      47764 non-null  float64       \n",
      " 5   new_cases                        50491 non-null  float64       \n",
      " 6   new_cases_smoothed               49704 non-null  float64       \n",
      " 7   total_deaths                     38980 non-null  float64       \n",
      " 8   new_deaths                       50491 non-null  float64       \n",
      " 9   new_deaths_smoothed              49704 non-null  float64       \n",
      " 10  total_cases_per_million          47505 non-null  float64       \n",
      " 11  new_cases_per_million            50427 non-null  float64       \n",
      " 12  new_cases_smoothed_per_million   49639 non-null  float64       \n",
      " 13  total_deaths_per_million         38736 non-null  float64       \n",
      " 14  new_deaths_per_million           50427 non-null  float64       \n",
      " 15  new_deaths_smoothed_per_million  49639 non-null  float64       \n",
      " 16  total_tests                      19447 non-null  float64       \n",
      " 17  new_tests                        19096 non-null  float64       \n",
      " 18  total_tests_per_thousand         19447 non-null  float64       \n",
      " 19  new_tests_per_thousand           19096 non-null  float64       \n",
      " 20  new_tests_smoothed               21464 non-null  float64       \n",
      " 21  new_tests_smoothed_per_thousand  21464 non-null  float64       \n",
      " 22  tests_per_case                   19779 non-null  float64       \n",
      " 23  positive_rate                    20117 non-null  float64       \n",
      " 24  tests_units                      22415 non-null  object        \n",
      " 25  stringency_index                 42777 non-null  float64       \n",
      " 26  population                       51076 non-null  float64       \n",
      " 27  population_density               48716 non-null  float64       \n",
      " 28  median_age                       45763 non-null  float64       \n",
      " 29  aged_65_older                    45078 non-null  float64       \n",
      " 30  aged_70_older                    45525 non-null  float64       \n",
      " 31  gdp_per_capita                   45160 non-null  float64       \n",
      " 32  extreme_poverty                  30114 non-null  float64       \n",
      " 33  cardiovasc_death_rate            45743 non-null  float64       \n",
      " 34  diabetes_prevalence              47394 non-null  float64       \n",
      " 35  female_smokers                   35707 non-null  float64       \n",
      " 36  male_smokers                     35250 non-null  float64       \n",
      " 37  handwashing_facilities           21547 non-null  float64       \n",
      " 38  hospital_beds_per_thousand       41261 non-null  float64       \n",
      " 39  life_expectancy                  50425 non-null  float64       \n",
      " 40  human_development_index          44152 non-null  float64       \n",
      "dtypes: datetime64[ns](1), float64(36), object(4)\n",
      "memory usage: 16.1+ MB\n"
     ]
    }
   ],
   "source": [
    "covid_data = pd.read_csv(\"https://covid.ourworldindata.org/data/owid-covid-data.csv\")\n",
    "\n",
    "covid_data[\"date\"] = pd.to_datetime(covid_data[\"date\"])\n",
    "\n",
    "covid_data.info()"
   ]
  },
  {
   "cell_type": "code",
   "execution_count": 3,
   "metadata": {
    "colab": {
     "base_uri": "https://localhost:8080/",
     "height": 204
    },
    "id": "j7-T_lnILJ3_",
    "outputId": "9573e879-fbfa-460f-fdbe-e2bbe3db2d43"
   },
   "outputs": [
    {
     "name": "stdout",
     "output_type": "stream",
     "text": [
      "<class 'pandas.core.frame.DataFrame'>\n",
      "Int64Index: 98 entries, 1 to 98\n",
      "Data columns (total 4 columns):\n",
      " #   Column       Non-Null Count  Dtype         \n",
      "---  ------       --------------  -----         \n",
      " 0   date         98 non-null     datetime64[ns]\n",
      " 1   total_cases  98 non-null     float64       \n",
      " 2   new_cases    98 non-null     float64       \n",
      " 3   new_deaths   98 non-null     float64       \n",
      "dtypes: datetime64[ns](1), float64(3)\n",
      "memory usage: 3.8 KB\n"
     ]
    }
   ],
   "source": [
    "covid_data[\"date\"] = pd.to_datetime(covid_data[\"date\"])\n",
    "\n",
    "cov_selection = covid_data[[\"date\", \"total_cases\", \"new_cases\", \"new_deaths\"]]\n",
    "\n",
    "cov_selection = cov_selection.groupby('date').sum().reset_index()\n",
    "\n",
    "start_date = '12-31-2019'\n",
    "end_date = '04-07-2020'\n",
    "\n",
    "mask = (cov_selection['date'] > start_date) & (cov_selection['date'] <= end_date)\n",
    "\n",
    "cov_selection = cov_selection.loc[mask]\n",
    "\n",
    "cov_selection.info()"
   ]
  },
  {
   "cell_type": "markdown",
   "metadata": {
    "id": "-ar54jx0LJ4H"
   },
   "source": [
    "# Load news articles from github project\n",
    "\n",
    "Load CNN articles from xlsx file"
   ]
  },
  {
   "cell_type": "code",
   "execution_count": 4,
   "metadata": {
    "colab": {
     "base_uri": "https://localhost:8080/",
     "height": 170
    },
    "format": "row",
    "id": "Px4YSULxLJ4I",
    "outputId": "850c80bf-596f-4df2-ac84-37882f134116"
   },
   "outputs": [
    {
     "name": "stdout",
     "output_type": "stream",
     "text": [
      "<class 'pandas.core.frame.DataFrame'>\n",
      "RangeIndex: 66 entries, 0 to 65\n",
      "Data columns (total 2 columns):\n",
      " #   Column        Non-Null Count  Dtype         \n",
      "---  ------        --------------  -----         \n",
      " 0   date          66 non-null     datetime64[ns]\n",
      " 1   cnn_articles  66 non-null     int64         \n",
      "dtypes: datetime64[ns](1), int64(1)\n",
      "memory usage: 1.2 KB\n"
     ]
    }
   ],
   "source": [
    "cnn_news = pd.read_excel(\"https://github.com/xxz-jessica/COVID-19_UCD_Challenge/blob/master/News_Fox_CNN/CNN_full.xlsx?raw=true\")\n",
    "cnn_news = cnn_news.dropna()\n",
    "\n",
    "cnn_news = cnn_news.rename(columns = {\"true_time\": \"published_date\"})\n",
    "cnn_news[\"published_date\"] = pd.to_datetime(cnn_news[\"published_date\"])\n",
    "\n",
    "counted_news_cnn = cnn_news[\"published_date\"].value_counts()\n",
    "counted_news_cnn = counted_news_cnn.to_frame()\n",
    "mask2 = (counted_news_cnn.index > start_date) & (counted_news_cnn.index <= end_date)\n",
    "counted_news_cnn = counted_news_cnn.loc[mask2]\n",
    "\n",
    "counted_news_cnn.reset_index(level=0, inplace=True)\n",
    "counted_news_cnn = counted_news_cnn.rename(columns = {\"index\" : \"date\", \"published_date\" : \"cnn_articles\"})\n",
    "\n",
    "\n",
    "counted_news_cnn.info()"
   ]
  },
  {
   "cell_type": "code",
   "execution_count": 5,
   "metadata": {
    "colab": {
     "base_uri": "https://localhost:8080/",
     "height": 170
    },
    "id": "_dQsR0BdLJ4P",
    "outputId": "1de1e645-c69a-4595-dc3e-dac90029e449"
   },
   "outputs": [
    {
     "name": "stdout",
     "output_type": "stream",
     "text": [
      "<class 'pandas.core.frame.DataFrame'>\n",
      "RangeIndex: 84 entries, 0 to 83\n",
      "Data columns (total 2 columns):\n",
      " #   Column        Non-Null Count  Dtype         \n",
      "---  ------        --------------  -----         \n",
      " 0   date          84 non-null     datetime64[ns]\n",
      " 1   fox_articles  84 non-null     int64         \n",
      "dtypes: datetime64[ns](1), int64(1)\n",
      "memory usage: 1.4 KB\n"
     ]
    }
   ],
   "source": [
    "fox_news = pd.read_excel(\"https://github.com/xxz-jessica/COVID-19_UCD_Challenge/blob/master/News_Fox_CNN/foxnews_article_form.xlsx?raw=true\")\n",
    "\n",
    "fox_news = fox_news.dropna()\n",
    "\n",
    "fox_news = fox_news.rename(columns = {\"true_time\": \"published_date\"})\n",
    "\n",
    "fox_news[\"published_date\"] = pd.to_datetime(fox_news[\"published_date\"])\n",
    "\n",
    "counted_news_fox = fox_news[\"published_date\"].value_counts()\n",
    "counted_news_fox = counted_news_fox.to_frame()\n",
    "mask3 = (counted_news_fox.index > start_date) & (counted_news_fox.index <= end_date)\n",
    "counted_news_fox = counted_news_fox.loc[mask3]\n",
    "\n",
    "counted_news_fox.reset_index(level=0, inplace=True)\n",
    "counted_news_fox = counted_news_fox.rename(columns = {\"index\" : \"date\", \"published_date\" : \"fox_articles\"})\n",
    "\n",
    "\n",
    "counted_news_fox.info()"
   ]
  },
  {
   "cell_type": "markdown",
   "metadata": {
    "id": "3pwe_6T2LJ4V"
   },
   "source": [
    "# Visualize number of daily tweets, news articles and Covid cases from github project"
   ]
  },
  {
   "cell_type": "code",
   "execution_count": 6,
   "metadata": {
    "colab": {
     "base_uri": "https://localhost:8080/",
     "height": 170
    },
    "id": "U3Ul1Ck5LJ4Y",
    "outputId": "f1260098-4db3-4716-87b5-f902dac84aaf"
   },
   "outputs": [
    {
     "name": "stdout",
     "output_type": "stream",
     "text": [
      "<class 'pandas.core.frame.DataFrame'>\n",
      "RangeIndex: 98 entries, 0 to 97\n",
      "Data columns (total 2 columns):\n",
      " #   Column  Non-Null Count  Dtype         \n",
      "---  ------  --------------  -----         \n",
      " 0   date    98 non-null     datetime64[ns]\n",
      " 1   Tweets  98 non-null     int32         \n",
      "dtypes: datetime64[ns](1), int32(1)\n",
      "memory usage: 1.3 KB\n"
     ]
    }
   ],
   "source": [
    "num_tweets = pd.read_csv(\"https://raw.githubusercontent.com/xxz-jessica/COVID-19_UCD_Challenge/master/Tweet_Raw_Data/tweet_per_day_1.csv\")\n",
    "\n",
    "num_tweets[\"Tweets\"] = num_tweets[\"Tweets\"].str.replace(\",\", \"\").astype(int)\n",
    "num_tweets[\"Day\"] = pd.to_datetime(num_tweets[\"Day\"])\n",
    "\n",
    "num_tweets = num_tweets.rename(columns = {\"Day\": \"date\"})\n",
    "\n",
    "num_tweets.info()\n"
   ]
  },
  {
   "cell_type": "code",
   "execution_count": 7,
   "metadata": {
    "colab": {
     "base_uri": "https://localhost:8080/",
     "height": 255
    },
    "id": "aqWvVAgsLJ4g",
    "outputId": "ed49175d-dc72-4247-ff42-422abfb4225c"
   },
   "outputs": [
    {
     "name": "stdout",
     "output_type": "stream",
     "text": [
      "<class 'pandas.core.frame.DataFrame'>\n",
      "Int64Index: 98 entries, 0 to 97\n",
      "Data columns (total 7 columns):\n",
      " #   Column        Non-Null Count  Dtype         \n",
      "---  ------        --------------  -----         \n",
      " 0   date          98 non-null     datetime64[ns]\n",
      " 1   Tweets        98 non-null     int32         \n",
      " 2   total_cases   98 non-null     float64       \n",
      " 3   new_cases     98 non-null     float64       \n",
      " 4   new_deaths    98 non-null     float64       \n",
      " 5   cnn_articles  66 non-null     float64       \n",
      " 6   fox_articles  84 non-null     float64       \n",
      "dtypes: datetime64[ns](1), float64(5), int32(1)\n",
      "memory usage: 5.7 KB\n"
     ]
    }
   ],
   "source": [
    "#merge data\n",
    "merged_3 = pd.merge(num_tweets, cov_selection).merge(counted_news_cnn, how = \"outer\").merge(counted_news_fox, how = \"outer\")\n",
    "merged_3.info()\n",
    "\n",
    "merged_3 = merged_3.fillna(0)"
   ]
  },
  {
   "cell_type": "code",
   "execution_count": 8,
   "metadata": {
    "colab": {
     "base_uri": "https://localhost:8080/",
     "height": 253
    },
    "id": "6-A2haLYLJ4m",
    "outputId": "01ba0fdf-74cf-4db9-9877-145266f8fca8"
   },
   "outputs": [
    {
     "data": {
      "text/html": [
       "\n",
       "<div id=\"altair-viz-8a102ccadd0c4ac6a8754df87935ec2b\"></div>\n",
       "<script type=\"text/javascript\">\n",
       "  (function(spec, embedOpt){\n",
       "    let outputDiv = document.currentScript.previousElementSibling;\n",
       "    if (outputDiv.id !== \"altair-viz-8a102ccadd0c4ac6a8754df87935ec2b\") {\n",
       "      outputDiv = document.getElementById(\"altair-viz-8a102ccadd0c4ac6a8754df87935ec2b\");\n",
       "    }\n",
       "    const paths = {\n",
       "      \"vega\": \"https://cdn.jsdelivr.net/npm//vega@5?noext\",\n",
       "      \"vega-lib\": \"https://cdn.jsdelivr.net/npm//vega-lib?noext\",\n",
       "      \"vega-lite\": \"https://cdn.jsdelivr.net/npm//vega-lite@4.8.1?noext\",\n",
       "      \"vega-embed\": \"https://cdn.jsdelivr.net/npm//vega-embed@6?noext\",\n",
       "    };\n",
       "\n",
       "    function loadScript(lib) {\n",
       "      return new Promise(function(resolve, reject) {\n",
       "        var s = document.createElement('script');\n",
       "        s.src = paths[lib];\n",
       "        s.async = true;\n",
       "        s.onload = () => resolve(paths[lib]);\n",
       "        s.onerror = () => reject(`Error loading script: ${paths[lib]}`);\n",
       "        document.getElementsByTagName(\"head\")[0].appendChild(s);\n",
       "      });\n",
       "    }\n",
       "\n",
       "    function showError(err) {\n",
       "      outputDiv.innerHTML = `<div class=\"error\" style=\"color:red;\">${err}</div>`;\n",
       "      throw err;\n",
       "    }\n",
       "\n",
       "    function displayChart(vegaEmbed) {\n",
       "      vegaEmbed(outputDiv, spec, embedOpt)\n",
       "        .catch(err => showError(`Javascript Error: ${err.message}<br>This usually means there's a typo in your chart specification. See the javascript console for the full traceback.`));\n",
       "    }\n",
       "\n",
       "    if(typeof define === \"function\" && define.amd) {\n",
       "      requirejs.config({paths});\n",
       "      require([\"vega-embed\"], displayChart, err => showError(`Error loading script: ${err.message}`));\n",
       "    } else if (typeof vegaEmbed === \"function\") {\n",
       "      displayChart(vegaEmbed);\n",
       "    } else {\n",
       "      loadScript(\"vega\")\n",
       "        .then(() => loadScript(\"vega-lite\"))\n",
       "        .then(() => loadScript(\"vega-embed\"))\n",
       "        .catch(showError)\n",
       "        .then(() => displayChart(vegaEmbed));\n",
       "    }\n",
       "  })({\"config\": {\"view\": {\"continuousWidth\": 400, \"continuousHeight\": 300}}, \"layer\": [{\"mark\": {\"type\": \"line\", \"interpolate\": \"monotone\", \"stroke\": \"#1da1f2\"}, \"encoding\": {\"x\": {\"type\": \"temporal\", \"axis\": {\"title\": null}, \"field\": \"date\"}, \"y\": {\"type\": \"quantitative\", \"axis\": {\"title\": \"Number of tweets\", \"titleColor\": \"#1da1f2\"}, \"field\": \"Tweets\"}}, \"height\": 200, \"width\": 500}, {\"mark\": {\"type\": \"line\", \"interpolate\": \"monotone\", \"stroke\": \"#eb34eb\"}, \"encoding\": {\"x\": {\"type\": \"temporal\", \"axis\": {\"title\": null}, \"field\": \"date\"}, \"y\": {\"type\": \"quantitative\", \"axis\": {\"title\": \"New cases\", \"titleColor\": \"#eb34eb\"}, \"field\": \"new_cases\"}}, \"height\": 200, \"width\": 500}], \"data\": {\"name\": \"data-c52386b390aaacd1788aec8708cf5aa7\"}, \"resolve\": {\"scale\": {\"y\": \"independent\"}}, \"$schema\": \"https://vega.github.io/schema/vega-lite/v4.8.1.json\", \"datasets\": {\"data-c52386b390aaacd1788aec8708cf5aa7\": [{\"date\": \"2020-04-07T00:00:00\", \"Tweets\": 7877346, \"total_cases\": 2691782.0, \"new_cases\": 146530.0, \"new_deaths\": 10680.0, \"cnn_articles\": 77.0, \"fox_articles\": 230.0}, {\"date\": \"2020-04-06T00:00:00\", \"Tweets\": 8153966, \"total_cases\": 2545252.0, \"new_cases\": 132520.0, \"new_deaths\": 9512.0, \"cnn_articles\": 74.0, \"fox_articles\": 169.0}, {\"date\": \"2020-04-05T00:00:00\", \"Tweets\": 7421877, \"total_cases\": 2412577.0, \"new_cases\": 170540.0, \"new_deaths\": 12616.0, \"cnn_articles\": 48.0, \"fox_articles\": 96.0}, {\"date\": \"2020-04-04T00:00:00\", \"Tweets\": 7928225, \"total_cases\": 2242192.0, \"new_cases\": 163998.0, \"new_deaths\": 13552.0, \"cnn_articles\": 36.0, \"fox_articles\": 120.0}, {\"date\": \"2020-04-03T00:00:00\", \"Tweets\": 9357113, \"total_cases\": 2078194.0, \"new_cases\": 155292.0, \"new_deaths\": 10018.0, \"cnn_articles\": 80.0, \"fox_articles\": 235.0}, {\"date\": \"2020-04-02T00:00:00\", \"Tweets\": 9767918, \"total_cases\": 1922902.0, \"new_cases\": 155294.0, \"new_deaths\": 10020.0, \"cnn_articles\": 85.0, \"fox_articles\": 260.0}, {\"date\": \"2020-04-01T00:00:00\", \"Tweets\": 10402981, \"total_cases\": 1767603.0, \"new_cases\": 149678.0, \"new_deaths\": 9348.0, \"cnn_articles\": 71.0, \"fox_articles\": 260.0}, {\"date\": \"2020-03-31T00:00:00\", \"Tweets\": 10442432, \"total_cases\": 1617838.0, \"new_cases\": 129426.0, \"new_deaths\": 7972.0, \"cnn_articles\": 75.0, \"fox_articles\": 144.0}, {\"date\": \"2020-03-30T00:00:00\", \"Tweets\": 10125714, \"total_cases\": 1488504.0, \"new_cases\": 114728.0, \"new_deaths\": 6456.0, \"cnn_articles\": 60.0, \"fox_articles\": 204.0}, {\"date\": \"2020-03-29T00:00:00\", \"Tweets\": 9333426, \"total_cases\": 1373776.0, \"new_cases\": 125708.0, \"new_deaths\": 7174.0, \"cnn_articles\": 33.0, \"fox_articles\": 108.0}, {\"date\": \"2020-03-28T00:00:00\", \"Tweets\": 10434671, \"total_cases\": 1248068.0, \"new_cases\": 130370.0, \"new_deaths\": 6982.0, \"cnn_articles\": 29.0, \"fox_articles\": 84.0}, {\"date\": \"2020-03-27T00:00:00\", \"Tweets\": 12209011, \"total_cases\": 1117698.0, \"new_cases\": 122218.0, \"new_deaths\": 5610.0, \"cnn_articles\": 61.0, \"fox_articles\": 210.0}, {\"date\": \"2020-03-26T00:00:00\", \"Tweets\": 12236719, \"total_cases\": 995480.0, \"new_cases\": 107670.0, \"new_deaths\": 5288.0, \"cnn_articles\": 81.0, \"fox_articles\": 256.0}, {\"date\": \"2020-03-25T00:00:00\", \"Tweets\": 13000269, \"total_cases\": 887803.0, \"new_cases\": 85072.0, \"new_deaths\": 4610.0, \"cnn_articles\": 61.0, \"fox_articles\": 260.0}, {\"date\": \"2020-03-24T00:00:00\", \"Tweets\": 14445841, \"total_cases\": 802736.0, \"new_cases\": 89140.0, \"new_deaths\": 3708.0, \"cnn_articles\": 69.0, \"fox_articles\": 253.0}, {\"date\": \"2020-03-23T00:00:00\", \"Tweets\": 15446246, \"total_cases\": 713589.0, \"new_cases\": 68540.0, \"new_deaths\": 3376.0, \"cnn_articles\": 54.0, \"fox_articles\": 231.0}, {\"date\": \"2020-03-22T00:00:00\", \"Tweets\": 14392561, \"total_cases\": 645049.0, \"new_cases\": 68452.0, \"new_deaths\": 3434.0, \"cnn_articles\": 33.0, \"fox_articles\": 101.0}, {\"date\": \"2020-03-21T00:00:00\", \"Tweets\": 12861351, \"total_cases\": 576597.0, \"new_cases\": 63976.0, \"new_deaths\": 2770.0, \"cnn_articles\": 30.0, \"fox_articles\": 75.0}, {\"date\": \"2020-03-20T00:00:00\", \"Tweets\": 15200259, \"total_cases\": 512626.0, \"new_cases\": 62392.0, \"new_deaths\": 2148.0, \"cnn_articles\": 54.0, \"fox_articles\": 186.0}, {\"date\": \"2020-03-19T00:00:00\", \"Tweets\": 16582131, \"total_cases\": 450230.0, \"new_cases\": 40588.0, \"new_deaths\": 1916.0, \"cnn_articles\": 67.0, \"fox_articles\": 246.0}, {\"date\": \"2020-03-18T00:00:00\", \"Tweets\": 16561524, \"total_cases\": 409642.0, \"new_cases\": 34184.0, \"new_deaths\": 1624.0, \"cnn_articles\": 57.0, \"fox_articles\": 241.0}, {\"date\": \"2020-03-17T00:00:00\", \"Tweets\": 17417142, \"total_cases\": 375446.0, \"new_cases\": 28482.0, \"new_deaths\": 1212.0, \"cnn_articles\": 57.0, \"fox_articles\": 247.0}, {\"date\": \"2020-03-16T00:00:00\", \"Tweets\": 17227182, \"total_cases\": 346948.0, \"new_cases\": 24958.0, \"new_deaths\": 1500.0, \"cnn_articles\": 57.0, \"fox_articles\": 204.0}, {\"date\": \"2020-03-15T00:00:00\", \"Tweets\": 16438760, \"total_cases\": 321919.0, \"new_cases\": 24400.0, \"new_deaths\": 734.0, \"cnn_articles\": 17.0, \"fox_articles\": 91.0}, {\"date\": \"2020-03-14T00:00:00\", \"Tweets\": 16823148, \"total_cases\": 297395.0, \"new_cases\": 20910.0, \"new_deaths\": 884.0, \"cnn_articles\": 25.0, \"fox_articles\": 49.0}, {\"date\": \"2020-03-13T00:00:00\", \"Tweets\": 19802671, \"total_cases\": 276218.0, \"new_cases\": 18948.0, \"new_deaths\": 702.0, \"cnn_articles\": 44.0, \"fox_articles\": 159.0}, {\"date\": \"2020-03-12T00:00:00\", \"Tweets\": 18799722, \"total_cases\": 257589.0, \"new_cases\": 15844.0, \"new_deaths\": 662.0, \"cnn_articles\": 43.0, \"fox_articles\": 185.0}, {\"date\": \"2020-03-11T00:00:00\", \"Tweets\": 9923317, \"total_cases\": 241807.0, \"new_cases\": 10236.0, \"new_deaths\": 544.0, \"cnn_articles\": 24.0, \"fox_articles\": 107.0}, {\"date\": \"2020-03-10T00:00:00\", \"Tweets\": 8284672, \"total_cases\": 231365.0, \"new_cases\": 9636.0, \"new_deaths\": 418.0, \"cnn_articles\": 21.0, \"fox_articles\": 104.0}, {\"date\": \"2020-03-09T00:00:00\", \"Tweets\": 6386122, \"total_cases\": 221802.0, \"new_cases\": 8358.0, \"new_deaths\": 456.0, \"cnn_articles\": 24.0, \"fox_articles\": 89.0}, {\"date\": \"2020-03-08T00:00:00\", \"Tweets\": 4533476, \"total_cases\": 213462.0, \"new_cases\": 7956.0, \"new_deaths\": 194.0, \"cnn_articles\": 7.0, \"fox_articles\": 39.0}, {\"date\": \"2020-03-07T00:00:00\", \"Tweets\": 4632239, \"total_cases\": 205522.0, \"new_cases\": 8240.0, \"new_deaths\": 208.0, \"cnn_articles\": 9.0, \"fox_articles\": 37.0}, {\"date\": \"2020-03-06T00:00:00\", \"Tweets\": 4581032, \"total_cases\": 197390.0, \"new_cases\": 6120.0, \"new_deaths\": 204.0, \"cnn_articles\": 16.0, \"fox_articles\": 60.0}, {\"date\": \"2020-03-05T00:00:00\", \"Tweets\": 4323687, \"total_cases\": 191200.0, \"new_cases\": 4714.0, \"new_deaths\": 160.0, \"cnn_articles\": 12.0, \"fox_articles\": 50.0}, {\"date\": \"2020-03-04T00:00:00\", \"Tweets\": 4323670, \"total_cases\": 186473.0, \"new_cases\": 4630.0, \"new_deaths\": 168.0, \"cnn_articles\": 14.0, \"fox_articles\": 65.0}, {\"date\": \"2020-03-03T00:00:00\", \"Tweets\": 4342139, \"total_cases\": 181806.0, \"new_cases\": 3716.0, \"new_deaths\": 144.0, \"cnn_articles\": 7.0, \"fox_articles\": 49.0}, {\"date\": \"2020-03-02T00:00:00\", \"Tweets\": 4240721, \"total_cases\": 178318.0, \"new_cases\": 4136.0, \"new_deaths\": 134.0, \"cnn_articles\": 9.0, \"fox_articles\": 62.0}, {\"date\": \"2020-03-01T00:00:00\", \"Tweets\": 3632689, \"total_cases\": 174182.0, \"new_cases\": 3686.0, \"new_deaths\": 116.0, \"cnn_articles\": 9.0, \"fox_articles\": 24.0}, {\"date\": \"2020-02-29T00:00:00\", \"Tweets\": 4666121, \"total_cases\": 170496.0, \"new_cases\": 3720.0, \"new_deaths\": 128.0, \"cnn_articles\": 6.0, \"fox_articles\": 27.0}, {\"date\": \"2020-02-28T00:00:00\", \"Tweets\": 5685321, \"total_cases\": 166776.0, \"new_cases\": 2542.0, \"new_deaths\": 114.0, \"cnn_articles\": 6.0, \"fox_articles\": 43.0}, {\"date\": \"2020-02-27T00:00:00\", \"Tweets\": 4597412, \"total_cases\": 164234.0, \"new_cases\": 2228.0, \"new_deaths\": 76.0, \"cnn_articles\": 10.0, \"fox_articles\": 69.0}, {\"date\": \"2020-02-26T00:00:00\", \"Tweets\": 3989533, \"total_cases\": 162006.0, \"new_cases\": 1734.0, \"new_deaths\": 128.0, \"cnn_articles\": 9.0, \"fox_articles\": 52.0}, {\"date\": \"2020-02-25T00:00:00\", \"Tweets\": 2844369, \"total_cases\": 160272.0, \"new_cases\": 1590.0, \"new_deaths\": 158.0, \"cnn_articles\": 8.0, \"fox_articles\": 22.0}, {\"date\": \"2020-02-24T00:00:00\", \"Tweets\": 1643544, \"total_cases\": 158682.0, \"new_cases\": 1046.0, \"new_deaths\": 312.0, \"cnn_articles\": 6.0, \"fox_articles\": 19.0}, {\"date\": \"2020-02-23T00:00:00\", \"Tweets\": 1233511, \"total_cases\": 157636.0, \"new_cases\": 2020.0, \"new_deaths\": 208.0, \"cnn_articles\": 2.0, \"fox_articles\": 4.0}, {\"date\": \"2020-02-22T00:00:00\", \"Tweets\": 997638, \"total_cases\": 155616.0, \"new_cases\": 2170.0, \"new_deaths\": 224.0, \"cnn_articles\": 1.0, \"fox_articles\": 4.0}, {\"date\": \"2020-02-21T00:00:00\", \"Tweets\": 954321, \"total_cases\": 153446.0, \"new_cases\": 1992.0, \"new_deaths\": 238.0, \"cnn_articles\": 3.0, \"fox_articles\": 19.0}, {\"date\": \"2020-02-20T00:00:00\", \"Tweets\": 622349, \"total_cases\": 151454.0, \"new_cases\": 1064.0, \"new_deaths\": 232.0, \"cnn_articles\": 2.0, \"fox_articles\": 9.0}, {\"date\": \"2020-02-19T00:00:00\", \"Tweets\": 626237, \"total_cases\": 150390.0, \"new_cases\": 3728.0, \"new_deaths\": 278.0, \"cnn_articles\": 3.0, \"fox_articles\": 12.0}, {\"date\": \"2020-02-18T00:00:00\", \"Tweets\": 628043, \"total_cases\": 146662.0, \"new_cases\": 3990.0, \"new_deaths\": 196.0, \"cnn_articles\": 4.0, \"fox_articles\": 17.0}, {\"date\": \"2020-02-17T00:00:00\", \"Tweets\": 626732, \"total_cases\": 142672.0, \"new_cases\": 4134.0, \"new_deaths\": 212.0, \"cnn_articles\": 5.0, \"fox_articles\": 18.0}, {\"date\": \"2020-02-16T00:00:00\", \"Tweets\": 625127, \"total_cases\": 138538.0, \"new_cases\": 4324.0, \"new_deaths\": 284.0, \"cnn_articles\": 4.0, \"fox_articles\": 6.0}, {\"date\": \"2020-02-15T00:00:00\", \"Tweets\": 624555, \"total_cases\": 134214.0, \"new_cases\": 5120.0, \"new_deaths\": 288.0, \"cnn_articles\": 3.0, \"fox_articles\": 8.0}, {\"date\": \"2020-02-14T00:00:00\", \"Tweets\": 622722, \"total_cases\": 129094.0, \"new_cases\": 8430.0, \"new_deaths\": 26.0, \"cnn_articles\": 6.0, \"fox_articles\": 14.0}, {\"date\": \"2020-02-13T00:00:00\", \"Tweets\": 956877, \"total_cases\": 120664.0, \"new_cases\": 30302.0, \"new_deaths\": 510.0, \"cnn_articles\": 4.0, \"fox_articles\": 21.0}, {\"date\": \"2020-02-12T00:00:00\", \"Tweets\": 911098, \"total_cases\": 90362.0, \"new_cases\": 4144.0, \"new_deaths\": 194.0, \"cnn_articles\": 2.0, \"fox_articles\": 20.0}, {\"date\": \"2020-02-11T00:00:00\", \"Tweets\": 908627, \"total_cases\": 86218.0, \"new_cases\": 5126.0, \"new_deaths\": 216.0, \"cnn_articles\": 4.0, \"fox_articles\": 18.0}, {\"date\": \"2020-02-10T00:00:00\", \"Tweets\": 807654, \"total_cases\": 81092.0, \"new_cases\": 5984.0, \"new_deaths\": 194.0, \"cnn_articles\": 1.0, \"fox_articles\": 13.0}, {\"date\": \"2020-02-09T00:00:00\", \"Tweets\": 796739, \"total_cases\": 75108.0, \"new_cases\": 5236.0, \"new_deaths\": 178.0, \"cnn_articles\": 0.0, \"fox_articles\": 10.0}, {\"date\": \"2020-02-08T00:00:00\", \"Tweets\": 803453, \"total_cases\": 69872.0, \"new_cases\": 6884.0, \"new_deaths\": 172.0, \"cnn_articles\": 0.0, \"fox_articles\": 11.0}, {\"date\": \"2020-02-07T00:00:00\", \"Tweets\": 987563, \"total_cases\": 62988.0, \"new_cases\": 6436.0, \"new_deaths\": 146.0, \"cnn_articles\": 0.0, \"fox_articles\": 22.0}, {\"date\": \"2020-02-06T00:00:00\", \"Tweets\": 834673, \"total_cases\": 56552.0, \"new_cases\": 7502.0, \"new_deaths\": 144.0, \"cnn_articles\": 1.0, \"fox_articles\": 17.0}, {\"date\": \"2020-02-05T00:00:00\", \"Tweets\": 803587, \"total_cases\": 49050.0, \"new_cases\": 7816.0, \"new_deaths\": 132.0, \"cnn_articles\": 0.0, \"fox_articles\": 20.0}, {\"date\": \"2020-02-04T00:00:00\", \"Tweets\": 997862, \"total_cases\": 41234.0, \"new_cases\": 6486.0, \"new_deaths\": 130.0, \"cnn_articles\": 1.0, \"fox_articles\": 28.0}, {\"date\": \"2020-02-03T00:00:00\", \"Tweets\": 1000752, \"total_cases\": 34748.0, \"new_cases\": 5636.0, \"new_deaths\": 114.0, \"cnn_articles\": 0.0, \"fox_articles\": 20.0}, {\"date\": \"2020-02-02T00:00:00\", \"Tweets\": 1298476, \"total_cases\": 29112.0, \"new_cases\": 5216.0, \"new_deaths\": 92.0, \"cnn_articles\": 0.0, \"fox_articles\": 7.0}, {\"date\": \"2020-02-01T00:00:00\", \"Tweets\": 1287963, \"total_cases\": 23896.0, \"new_cases\": 4244.0, \"new_deaths\": 92.0, \"cnn_articles\": 0.0, \"fox_articles\": 7.0}, {\"date\": \"2020-01-31T00:00:00\", \"Tweets\": 1997635, \"total_cases\": 19652.0, \"new_cases\": 4002.0, \"new_deaths\": 86.0, \"cnn_articles\": 1.0, \"fox_articles\": 19.0}, {\"date\": \"2020-01-30T00:00:00\", \"Tweets\": 2010976, \"total_cases\": 15650.0, \"new_cases\": 3514.0, \"new_deaths\": 76.0, \"cnn_articles\": 1.0, \"fox_articles\": 32.0}, {\"date\": \"2020-01-29T00:00:00\", \"Tweets\": 1623497, \"total_cases\": 12136.0, \"new_cases\": 2960.0, \"new_deaths\": 52.0, \"cnn_articles\": 1.0, \"fox_articles\": 33.0}, {\"date\": \"2020-01-28T00:00:00\", \"Tweets\": 1497653, \"total_cases\": 9176.0, \"new_cases\": 3534.0, \"new_deaths\": 50.0, \"cnn_articles\": 0.0, \"fox_articles\": 22.0}, {\"date\": \"2020-01-27T00:00:00\", \"Tweets\": 1467598, \"total_cases\": 5642.0, \"new_cases\": 1594.0, \"new_deaths\": 50.0, \"cnn_articles\": 0.0, \"fox_articles\": 20.0}, {\"date\": \"2020-01-26T00:00:00\", \"Tweets\": 1678953, \"total_cases\": 4048.0, \"new_cases\": 1346.0, \"new_deaths\": 30.0, \"cnn_articles\": 0.0, \"fox_articles\": 9.0}, {\"date\": \"2020-01-25T00:00:00\", \"Tweets\": 1536784, \"total_cases\": 2702.0, \"new_cases\": 906.0, \"new_deaths\": 30.0, \"cnn_articles\": 0.0, \"fox_articles\": 5.0}, {\"date\": \"2020-01-24T00:00:00\", \"Tweets\": 1153245, \"total_cases\": 1796.0, \"new_cases\": 532.0, \"new_deaths\": 18.0, \"cnn_articles\": 0.0, \"fox_articles\": 10.0}, {\"date\": \"2020-01-23T00:00:00\", \"Tweets\": 905673, \"total_cases\": 1264.0, \"new_cases\": 194.0, \"new_deaths\": 0.0, \"cnn_articles\": 2.0, \"fox_articles\": 20.0}, {\"date\": \"2020-01-22T00:00:00\", \"Tweets\": 508623, \"total_cases\": 1070.0, \"new_cases\": 284.0, \"new_deaths\": 22.0, \"cnn_articles\": 2.0, \"fox_articles\": 10.0}, {\"date\": \"2020-01-21T00:00:00\", \"Tweets\": 259864, \"total_cases\": 786.0, \"new_cases\": 306.0, \"new_deaths\": 6.0, \"cnn_articles\": 0.0, \"fox_articles\": 6.0}, {\"date\": \"2020-01-20T00:00:00\", \"Tweets\": 100124, \"total_cases\": 480.0, \"new_cases\": 40.0, \"new_deaths\": 0.0, \"cnn_articles\": 0.0, \"fox_articles\": 3.0}, {\"date\": \"2020-01-19T00:00:00\", \"Tweets\": 20987, \"total_cases\": 440.0, \"new_cases\": 272.0, \"new_deaths\": 2.0, \"cnn_articles\": 0.0, \"fox_articles\": 0.0}, {\"date\": \"2020-01-18T00:00:00\", \"Tweets\": 23432, \"total_cases\": 168.0, \"new_cases\": 34.0, \"new_deaths\": 0.0, \"cnn_articles\": 0.0, \"fox_articles\": 0.0}, {\"date\": \"2020-01-17T00:00:00\", \"Tweets\": 22431, \"total_cases\": 134.0, \"new_cases\": 10.0, \"new_deaths\": 0.0, \"cnn_articles\": 1.0, \"fox_articles\": 2.0}, {\"date\": \"2020-01-16T00:00:00\", \"Tweets\": 22342, \"total_cases\": 124.0, \"new_cases\": 0.0, \"new_deaths\": 0.0, \"cnn_articles\": 0.0, \"fox_articles\": 1.0}, {\"date\": \"2020-01-15T00:00:00\", \"Tweets\": 10987, \"total_cases\": 124.0, \"new_cases\": 2.0, \"new_deaths\": 2.0, \"cnn_articles\": 0.0, \"fox_articles\": 1.0}, {\"date\": \"2020-01-14T00:00:00\", \"Tweets\": 10023, \"total_cases\": 122.0, \"new_cases\": 2.0, \"new_deaths\": 0.0, \"cnn_articles\": 0.0, \"fox_articles\": 0.0}, {\"date\": \"2020-01-13T00:00:00\", \"Tweets\": 16475, \"total_cases\": 120.0, \"new_cases\": 2.0, \"new_deaths\": 0.0, \"cnn_articles\": 0.0, \"fox_articles\": 1.0}, {\"date\": \"2020-01-12T00:00:00\", \"Tweets\": 10045, \"total_cases\": 118.0, \"new_cases\": 0.0, \"new_deaths\": 0.0, \"cnn_articles\": 0.0, \"fox_articles\": 0.0}, {\"date\": \"2020-01-11T00:00:00\", \"Tweets\": 2812, \"total_cases\": 118.0, \"new_cases\": 0.0, \"new_deaths\": 2.0, \"cnn_articles\": 0.0, \"fox_articles\": 0.0}, {\"date\": \"2020-01-10T00:00:00\", \"Tweets\": 2347, \"total_cases\": 118.0, \"new_cases\": 0.0, \"new_deaths\": 0.0, \"cnn_articles\": 0.0, \"fox_articles\": 0.0}, {\"date\": \"2020-01-09T00:00:00\", \"Tweets\": 3451, \"total_cases\": 118.0, \"new_cases\": 0.0, \"new_deaths\": 0.0, \"cnn_articles\": 0.0, \"fox_articles\": 1.0}, {\"date\": \"2020-01-08T00:00:00\", \"Tweets\": 421, \"total_cases\": 118.0, \"new_cases\": 0.0, \"new_deaths\": 0.0, \"cnn_articles\": 0.0, \"fox_articles\": 0.0}, {\"date\": \"2020-01-07T00:00:00\", \"Tweets\": 293, \"total_cases\": 118.0, \"new_cases\": 0.0, \"new_deaths\": 0.0, \"cnn_articles\": 0.0, \"fox_articles\": 0.0}, {\"date\": \"2020-01-06T00:00:00\", \"Tweets\": 86, \"total_cases\": 118.0, \"new_cases\": 0.0, \"new_deaths\": 0.0, \"cnn_articles\": 0.0, \"fox_articles\": 0.0}, {\"date\": \"2020-01-05T00:00:00\", \"Tweets\": 127, \"total_cases\": 118.0, \"new_cases\": 30.0, \"new_deaths\": 0.0, \"cnn_articles\": 0.0, \"fox_articles\": 0.0}, {\"date\": \"2020-01-04T00:00:00\", \"Tweets\": 172, \"total_cases\": 88.0, \"new_cases\": 0.0, \"new_deaths\": 0.0, \"cnn_articles\": 0.0, \"fox_articles\": 0.0}, {\"date\": \"2020-01-03T00:00:00\", \"Tweets\": 94, \"total_cases\": 88.0, \"new_cases\": 34.0, \"new_deaths\": 0.0, \"cnn_articles\": 0.0, \"fox_articles\": 0.0}, {\"date\": \"2020-01-02T00:00:00\", \"Tweets\": 41, \"total_cases\": 54.0, \"new_cases\": 0.0, \"new_deaths\": 0.0, \"cnn_articles\": 0.0, \"fox_articles\": 0.0}, {\"date\": \"2020-01-01T00:00:00\", \"Tweets\": 63, \"total_cases\": 54.0, \"new_cases\": 0.0, \"new_deaths\": 0.0, \"cnn_articles\": 0.0, \"fox_articles\": 0.0}]}}, {\"mode\": \"vega-lite\"});\n",
       "</script>"
      ],
      "text/plain": [
       "alt.LayerChart(...)"
      ]
     },
     "execution_count": 8,
     "metadata": {},
     "output_type": "execute_result"
    }
   ],
   "source": [
    "base = alt.Chart(merged_3).encode(\n",
    "    alt.X('date:T', axis=alt.Axis(title=None))\n",
    ").properties(\n",
    "    width=500,\n",
    "    height=200\n",
    ")\n",
    "\n",
    "\n",
    "line_tweets = base.mark_line(stroke='#1da1f2', interpolate='monotone').encode(\n",
    "    alt.Y('Tweets',\n",
    "          axis=alt.Axis(title='Number of tweets', titleColor='#1da1f2'))\n",
    ")\n",
    "\n",
    "line_cases = base.mark_line( interpolate='monotone', stroke='#eb34eb').encode(\n",
    "    alt.Y('new_cases',\n",
    "          axis=alt.Axis(title='New cases', titleColor='#eb34eb'))\n",
    ")\n",
    "\n",
    "alt.layer(line_tweets, line_cases).resolve_scale(\n",
    "    y = 'independent'\n",
    ")"
   ]
  },
  {
   "cell_type": "code",
   "execution_count": 9,
   "metadata": {
    "colab": {
     "base_uri": "https://localhost:8080/",
     "height": 275
    },
    "id": "R-xNp6Y6LJ4s",
    "outputId": "9f71b45c-8ba9-4b14-ac9a-e4ab7d2d7044"
   },
   "outputs": [
    {
     "data": {
      "text/html": [
       "\n",
       "<div id=\"altair-viz-28914b726d5043039c62a64705a7e7f8\"></div>\n",
       "<script type=\"text/javascript\">\n",
       "  (function(spec, embedOpt){\n",
       "    let outputDiv = document.currentScript.previousElementSibling;\n",
       "    if (outputDiv.id !== \"altair-viz-28914b726d5043039c62a64705a7e7f8\") {\n",
       "      outputDiv = document.getElementById(\"altair-viz-28914b726d5043039c62a64705a7e7f8\");\n",
       "    }\n",
       "    const paths = {\n",
       "      \"vega\": \"https://cdn.jsdelivr.net/npm//vega@5?noext\",\n",
       "      \"vega-lib\": \"https://cdn.jsdelivr.net/npm//vega-lib?noext\",\n",
       "      \"vega-lite\": \"https://cdn.jsdelivr.net/npm//vega-lite@4.8.1?noext\",\n",
       "      \"vega-embed\": \"https://cdn.jsdelivr.net/npm//vega-embed@6?noext\",\n",
       "    };\n",
       "\n",
       "    function loadScript(lib) {\n",
       "      return new Promise(function(resolve, reject) {\n",
       "        var s = document.createElement('script');\n",
       "        s.src = paths[lib];\n",
       "        s.async = true;\n",
       "        s.onload = () => resolve(paths[lib]);\n",
       "        s.onerror = () => reject(`Error loading script: ${paths[lib]}`);\n",
       "        document.getElementsByTagName(\"head\")[0].appendChild(s);\n",
       "      });\n",
       "    }\n",
       "\n",
       "    function showError(err) {\n",
       "      outputDiv.innerHTML = `<div class=\"error\" style=\"color:red;\">${err}</div>`;\n",
       "      throw err;\n",
       "    }\n",
       "\n",
       "    function displayChart(vegaEmbed) {\n",
       "      vegaEmbed(outputDiv, spec, embedOpt)\n",
       "        .catch(err => showError(`Javascript Error: ${err.message}<br>This usually means there's a typo in your chart specification. See the javascript console for the full traceback.`));\n",
       "    }\n",
       "\n",
       "    if(typeof define === \"function\" && define.amd) {\n",
       "      requirejs.config({paths});\n",
       "      require([\"vega-embed\"], displayChart, err => showError(`Error loading script: ${err.message}`));\n",
       "    } else if (typeof vegaEmbed === \"function\") {\n",
       "      displayChart(vegaEmbed);\n",
       "    } else {\n",
       "      loadScript(\"vega\")\n",
       "        .then(() => loadScript(\"vega-lite\"))\n",
       "        .then(() => loadScript(\"vega-embed\"))\n",
       "        .catch(showError)\n",
       "        .then(() => displayChart(vegaEmbed));\n",
       "    }\n",
       "  })({\"config\": {\"view\": {\"continuousWidth\": 400, \"continuousHeight\": 300}}, \"layer\": [{\"mark\": {\"type\": \"line\", \"interpolate\": \"monotone\", \"stroke\": \"#1da1f2\"}, \"encoding\": {\"x\": {\"type\": \"temporal\", \"axis\": {\"title\": null}, \"field\": \"date\"}, \"y\": {\"type\": \"quantitative\", \"axis\": {\"title\": \"Number of tweets\", \"titleColor\": \"#1da1f2\"}, \"field\": \"Tweets\"}}, \"height\": 200, \"width\": 500}, {\"mark\": {\"type\": \"line\", \"interpolate\": \"monotone\", \"stroke\": \"#eb34eb\"}, \"encoding\": {\"x\": {\"type\": \"temporal\", \"axis\": {\"title\": null}, \"field\": \"date\"}, \"y\": {\"type\": \"quantitative\", \"axis\": {\"title\": \"value\", \"titleColor\": \"#eb34eb\"}, \"field\": \"value\"}}, \"height\": 200, \"selection\": {\"selector001\": {\"type\": \"single\", \"fields\": [\"column\"], \"bind\": {\"input\": \"select\", \"options\": [\"new_cases\", \"new_deaths\"], \"name\": \"Pandemic data\"}, \"init\": {\"column\": \"new_cases\"}}}, \"transform\": [{\"fold\": [\"new_cases\", \"new_deaths\"], \"as\": [\"column\", \"value\"]}, {\"filter\": {\"selection\": \"selector001\"}}], \"width\": 500}], \"data\": {\"name\": \"data-c52386b390aaacd1788aec8708cf5aa7\"}, \"resolve\": {\"scale\": {\"y\": \"independent\"}}, \"$schema\": \"https://vega.github.io/schema/vega-lite/v4.8.1.json\", \"datasets\": {\"data-c52386b390aaacd1788aec8708cf5aa7\": [{\"date\": \"2020-04-07T00:00:00\", \"Tweets\": 7877346, \"total_cases\": 2691782.0, \"new_cases\": 146530.0, \"new_deaths\": 10680.0, \"cnn_articles\": 77.0, \"fox_articles\": 230.0}, {\"date\": \"2020-04-06T00:00:00\", \"Tweets\": 8153966, \"total_cases\": 2545252.0, \"new_cases\": 132520.0, \"new_deaths\": 9512.0, \"cnn_articles\": 74.0, \"fox_articles\": 169.0}, {\"date\": \"2020-04-05T00:00:00\", \"Tweets\": 7421877, \"total_cases\": 2412577.0, \"new_cases\": 170540.0, \"new_deaths\": 12616.0, \"cnn_articles\": 48.0, \"fox_articles\": 96.0}, {\"date\": \"2020-04-04T00:00:00\", \"Tweets\": 7928225, \"total_cases\": 2242192.0, \"new_cases\": 163998.0, \"new_deaths\": 13552.0, \"cnn_articles\": 36.0, \"fox_articles\": 120.0}, {\"date\": \"2020-04-03T00:00:00\", \"Tweets\": 9357113, \"total_cases\": 2078194.0, \"new_cases\": 155292.0, \"new_deaths\": 10018.0, \"cnn_articles\": 80.0, \"fox_articles\": 235.0}, {\"date\": \"2020-04-02T00:00:00\", \"Tweets\": 9767918, \"total_cases\": 1922902.0, \"new_cases\": 155294.0, \"new_deaths\": 10020.0, \"cnn_articles\": 85.0, \"fox_articles\": 260.0}, {\"date\": \"2020-04-01T00:00:00\", \"Tweets\": 10402981, \"total_cases\": 1767603.0, \"new_cases\": 149678.0, \"new_deaths\": 9348.0, \"cnn_articles\": 71.0, \"fox_articles\": 260.0}, {\"date\": \"2020-03-31T00:00:00\", \"Tweets\": 10442432, \"total_cases\": 1617838.0, \"new_cases\": 129426.0, \"new_deaths\": 7972.0, \"cnn_articles\": 75.0, \"fox_articles\": 144.0}, {\"date\": \"2020-03-30T00:00:00\", \"Tweets\": 10125714, \"total_cases\": 1488504.0, \"new_cases\": 114728.0, \"new_deaths\": 6456.0, \"cnn_articles\": 60.0, \"fox_articles\": 204.0}, {\"date\": \"2020-03-29T00:00:00\", \"Tweets\": 9333426, \"total_cases\": 1373776.0, \"new_cases\": 125708.0, \"new_deaths\": 7174.0, \"cnn_articles\": 33.0, \"fox_articles\": 108.0}, {\"date\": \"2020-03-28T00:00:00\", \"Tweets\": 10434671, \"total_cases\": 1248068.0, \"new_cases\": 130370.0, \"new_deaths\": 6982.0, \"cnn_articles\": 29.0, \"fox_articles\": 84.0}, {\"date\": \"2020-03-27T00:00:00\", \"Tweets\": 12209011, \"total_cases\": 1117698.0, \"new_cases\": 122218.0, \"new_deaths\": 5610.0, \"cnn_articles\": 61.0, \"fox_articles\": 210.0}, {\"date\": \"2020-03-26T00:00:00\", \"Tweets\": 12236719, \"total_cases\": 995480.0, \"new_cases\": 107670.0, \"new_deaths\": 5288.0, \"cnn_articles\": 81.0, \"fox_articles\": 256.0}, {\"date\": \"2020-03-25T00:00:00\", \"Tweets\": 13000269, \"total_cases\": 887803.0, \"new_cases\": 85072.0, \"new_deaths\": 4610.0, \"cnn_articles\": 61.0, \"fox_articles\": 260.0}, {\"date\": \"2020-03-24T00:00:00\", \"Tweets\": 14445841, \"total_cases\": 802736.0, \"new_cases\": 89140.0, \"new_deaths\": 3708.0, \"cnn_articles\": 69.0, \"fox_articles\": 253.0}, {\"date\": \"2020-03-23T00:00:00\", \"Tweets\": 15446246, \"total_cases\": 713589.0, \"new_cases\": 68540.0, \"new_deaths\": 3376.0, \"cnn_articles\": 54.0, \"fox_articles\": 231.0}, {\"date\": \"2020-03-22T00:00:00\", \"Tweets\": 14392561, \"total_cases\": 645049.0, \"new_cases\": 68452.0, \"new_deaths\": 3434.0, \"cnn_articles\": 33.0, \"fox_articles\": 101.0}, {\"date\": \"2020-03-21T00:00:00\", \"Tweets\": 12861351, \"total_cases\": 576597.0, \"new_cases\": 63976.0, \"new_deaths\": 2770.0, \"cnn_articles\": 30.0, \"fox_articles\": 75.0}, {\"date\": \"2020-03-20T00:00:00\", \"Tweets\": 15200259, \"total_cases\": 512626.0, \"new_cases\": 62392.0, \"new_deaths\": 2148.0, \"cnn_articles\": 54.0, \"fox_articles\": 186.0}, {\"date\": \"2020-03-19T00:00:00\", \"Tweets\": 16582131, \"total_cases\": 450230.0, \"new_cases\": 40588.0, \"new_deaths\": 1916.0, \"cnn_articles\": 67.0, \"fox_articles\": 246.0}, {\"date\": \"2020-03-18T00:00:00\", \"Tweets\": 16561524, \"total_cases\": 409642.0, \"new_cases\": 34184.0, \"new_deaths\": 1624.0, \"cnn_articles\": 57.0, \"fox_articles\": 241.0}, {\"date\": \"2020-03-17T00:00:00\", \"Tweets\": 17417142, \"total_cases\": 375446.0, \"new_cases\": 28482.0, \"new_deaths\": 1212.0, \"cnn_articles\": 57.0, \"fox_articles\": 247.0}, {\"date\": \"2020-03-16T00:00:00\", \"Tweets\": 17227182, \"total_cases\": 346948.0, \"new_cases\": 24958.0, \"new_deaths\": 1500.0, \"cnn_articles\": 57.0, \"fox_articles\": 204.0}, {\"date\": \"2020-03-15T00:00:00\", \"Tweets\": 16438760, \"total_cases\": 321919.0, \"new_cases\": 24400.0, \"new_deaths\": 734.0, \"cnn_articles\": 17.0, \"fox_articles\": 91.0}, {\"date\": \"2020-03-14T00:00:00\", \"Tweets\": 16823148, \"total_cases\": 297395.0, \"new_cases\": 20910.0, \"new_deaths\": 884.0, \"cnn_articles\": 25.0, \"fox_articles\": 49.0}, {\"date\": \"2020-03-13T00:00:00\", \"Tweets\": 19802671, \"total_cases\": 276218.0, \"new_cases\": 18948.0, \"new_deaths\": 702.0, \"cnn_articles\": 44.0, \"fox_articles\": 159.0}, {\"date\": \"2020-03-12T00:00:00\", \"Tweets\": 18799722, \"total_cases\": 257589.0, \"new_cases\": 15844.0, \"new_deaths\": 662.0, \"cnn_articles\": 43.0, \"fox_articles\": 185.0}, {\"date\": \"2020-03-11T00:00:00\", \"Tweets\": 9923317, \"total_cases\": 241807.0, \"new_cases\": 10236.0, \"new_deaths\": 544.0, \"cnn_articles\": 24.0, \"fox_articles\": 107.0}, {\"date\": \"2020-03-10T00:00:00\", \"Tweets\": 8284672, \"total_cases\": 231365.0, \"new_cases\": 9636.0, \"new_deaths\": 418.0, \"cnn_articles\": 21.0, \"fox_articles\": 104.0}, {\"date\": \"2020-03-09T00:00:00\", \"Tweets\": 6386122, \"total_cases\": 221802.0, \"new_cases\": 8358.0, \"new_deaths\": 456.0, \"cnn_articles\": 24.0, \"fox_articles\": 89.0}, {\"date\": \"2020-03-08T00:00:00\", \"Tweets\": 4533476, \"total_cases\": 213462.0, \"new_cases\": 7956.0, \"new_deaths\": 194.0, \"cnn_articles\": 7.0, \"fox_articles\": 39.0}, {\"date\": \"2020-03-07T00:00:00\", \"Tweets\": 4632239, \"total_cases\": 205522.0, \"new_cases\": 8240.0, \"new_deaths\": 208.0, \"cnn_articles\": 9.0, \"fox_articles\": 37.0}, {\"date\": \"2020-03-06T00:00:00\", \"Tweets\": 4581032, \"total_cases\": 197390.0, \"new_cases\": 6120.0, \"new_deaths\": 204.0, \"cnn_articles\": 16.0, \"fox_articles\": 60.0}, {\"date\": \"2020-03-05T00:00:00\", \"Tweets\": 4323687, \"total_cases\": 191200.0, \"new_cases\": 4714.0, \"new_deaths\": 160.0, \"cnn_articles\": 12.0, \"fox_articles\": 50.0}, {\"date\": \"2020-03-04T00:00:00\", \"Tweets\": 4323670, \"total_cases\": 186473.0, \"new_cases\": 4630.0, \"new_deaths\": 168.0, \"cnn_articles\": 14.0, \"fox_articles\": 65.0}, {\"date\": \"2020-03-03T00:00:00\", \"Tweets\": 4342139, \"total_cases\": 181806.0, \"new_cases\": 3716.0, \"new_deaths\": 144.0, \"cnn_articles\": 7.0, \"fox_articles\": 49.0}, {\"date\": \"2020-03-02T00:00:00\", \"Tweets\": 4240721, \"total_cases\": 178318.0, \"new_cases\": 4136.0, \"new_deaths\": 134.0, \"cnn_articles\": 9.0, \"fox_articles\": 62.0}, {\"date\": \"2020-03-01T00:00:00\", \"Tweets\": 3632689, \"total_cases\": 174182.0, \"new_cases\": 3686.0, \"new_deaths\": 116.0, \"cnn_articles\": 9.0, \"fox_articles\": 24.0}, {\"date\": \"2020-02-29T00:00:00\", \"Tweets\": 4666121, \"total_cases\": 170496.0, \"new_cases\": 3720.0, \"new_deaths\": 128.0, \"cnn_articles\": 6.0, \"fox_articles\": 27.0}, {\"date\": \"2020-02-28T00:00:00\", \"Tweets\": 5685321, \"total_cases\": 166776.0, \"new_cases\": 2542.0, \"new_deaths\": 114.0, \"cnn_articles\": 6.0, \"fox_articles\": 43.0}, {\"date\": \"2020-02-27T00:00:00\", \"Tweets\": 4597412, \"total_cases\": 164234.0, \"new_cases\": 2228.0, \"new_deaths\": 76.0, \"cnn_articles\": 10.0, \"fox_articles\": 69.0}, {\"date\": \"2020-02-26T00:00:00\", \"Tweets\": 3989533, \"total_cases\": 162006.0, \"new_cases\": 1734.0, \"new_deaths\": 128.0, \"cnn_articles\": 9.0, \"fox_articles\": 52.0}, {\"date\": \"2020-02-25T00:00:00\", \"Tweets\": 2844369, \"total_cases\": 160272.0, \"new_cases\": 1590.0, \"new_deaths\": 158.0, \"cnn_articles\": 8.0, \"fox_articles\": 22.0}, {\"date\": \"2020-02-24T00:00:00\", \"Tweets\": 1643544, \"total_cases\": 158682.0, \"new_cases\": 1046.0, \"new_deaths\": 312.0, \"cnn_articles\": 6.0, \"fox_articles\": 19.0}, {\"date\": \"2020-02-23T00:00:00\", \"Tweets\": 1233511, \"total_cases\": 157636.0, \"new_cases\": 2020.0, \"new_deaths\": 208.0, \"cnn_articles\": 2.0, \"fox_articles\": 4.0}, {\"date\": \"2020-02-22T00:00:00\", \"Tweets\": 997638, \"total_cases\": 155616.0, \"new_cases\": 2170.0, \"new_deaths\": 224.0, \"cnn_articles\": 1.0, \"fox_articles\": 4.0}, {\"date\": \"2020-02-21T00:00:00\", \"Tweets\": 954321, \"total_cases\": 153446.0, \"new_cases\": 1992.0, \"new_deaths\": 238.0, \"cnn_articles\": 3.0, \"fox_articles\": 19.0}, {\"date\": \"2020-02-20T00:00:00\", \"Tweets\": 622349, \"total_cases\": 151454.0, \"new_cases\": 1064.0, \"new_deaths\": 232.0, \"cnn_articles\": 2.0, \"fox_articles\": 9.0}, {\"date\": \"2020-02-19T00:00:00\", \"Tweets\": 626237, \"total_cases\": 150390.0, \"new_cases\": 3728.0, \"new_deaths\": 278.0, \"cnn_articles\": 3.0, \"fox_articles\": 12.0}, {\"date\": \"2020-02-18T00:00:00\", \"Tweets\": 628043, \"total_cases\": 146662.0, \"new_cases\": 3990.0, \"new_deaths\": 196.0, \"cnn_articles\": 4.0, \"fox_articles\": 17.0}, {\"date\": \"2020-02-17T00:00:00\", \"Tweets\": 626732, \"total_cases\": 142672.0, \"new_cases\": 4134.0, \"new_deaths\": 212.0, \"cnn_articles\": 5.0, \"fox_articles\": 18.0}, {\"date\": \"2020-02-16T00:00:00\", \"Tweets\": 625127, \"total_cases\": 138538.0, \"new_cases\": 4324.0, \"new_deaths\": 284.0, \"cnn_articles\": 4.0, \"fox_articles\": 6.0}, {\"date\": \"2020-02-15T00:00:00\", \"Tweets\": 624555, \"total_cases\": 134214.0, \"new_cases\": 5120.0, \"new_deaths\": 288.0, \"cnn_articles\": 3.0, \"fox_articles\": 8.0}, {\"date\": \"2020-02-14T00:00:00\", \"Tweets\": 622722, \"total_cases\": 129094.0, \"new_cases\": 8430.0, \"new_deaths\": 26.0, \"cnn_articles\": 6.0, \"fox_articles\": 14.0}, {\"date\": \"2020-02-13T00:00:00\", \"Tweets\": 956877, \"total_cases\": 120664.0, \"new_cases\": 30302.0, \"new_deaths\": 510.0, \"cnn_articles\": 4.0, \"fox_articles\": 21.0}, {\"date\": \"2020-02-12T00:00:00\", \"Tweets\": 911098, \"total_cases\": 90362.0, \"new_cases\": 4144.0, \"new_deaths\": 194.0, \"cnn_articles\": 2.0, \"fox_articles\": 20.0}, {\"date\": \"2020-02-11T00:00:00\", \"Tweets\": 908627, \"total_cases\": 86218.0, \"new_cases\": 5126.0, \"new_deaths\": 216.0, \"cnn_articles\": 4.0, \"fox_articles\": 18.0}, {\"date\": \"2020-02-10T00:00:00\", \"Tweets\": 807654, \"total_cases\": 81092.0, \"new_cases\": 5984.0, \"new_deaths\": 194.0, \"cnn_articles\": 1.0, \"fox_articles\": 13.0}, {\"date\": \"2020-02-09T00:00:00\", \"Tweets\": 796739, \"total_cases\": 75108.0, \"new_cases\": 5236.0, \"new_deaths\": 178.0, \"cnn_articles\": 0.0, \"fox_articles\": 10.0}, {\"date\": \"2020-02-08T00:00:00\", \"Tweets\": 803453, \"total_cases\": 69872.0, \"new_cases\": 6884.0, \"new_deaths\": 172.0, \"cnn_articles\": 0.0, \"fox_articles\": 11.0}, {\"date\": \"2020-02-07T00:00:00\", \"Tweets\": 987563, \"total_cases\": 62988.0, \"new_cases\": 6436.0, \"new_deaths\": 146.0, \"cnn_articles\": 0.0, \"fox_articles\": 22.0}, {\"date\": \"2020-02-06T00:00:00\", \"Tweets\": 834673, \"total_cases\": 56552.0, \"new_cases\": 7502.0, \"new_deaths\": 144.0, \"cnn_articles\": 1.0, \"fox_articles\": 17.0}, {\"date\": \"2020-02-05T00:00:00\", \"Tweets\": 803587, \"total_cases\": 49050.0, \"new_cases\": 7816.0, \"new_deaths\": 132.0, \"cnn_articles\": 0.0, \"fox_articles\": 20.0}, {\"date\": \"2020-02-04T00:00:00\", \"Tweets\": 997862, \"total_cases\": 41234.0, \"new_cases\": 6486.0, \"new_deaths\": 130.0, \"cnn_articles\": 1.0, \"fox_articles\": 28.0}, {\"date\": \"2020-02-03T00:00:00\", \"Tweets\": 1000752, \"total_cases\": 34748.0, \"new_cases\": 5636.0, \"new_deaths\": 114.0, \"cnn_articles\": 0.0, \"fox_articles\": 20.0}, {\"date\": \"2020-02-02T00:00:00\", \"Tweets\": 1298476, \"total_cases\": 29112.0, \"new_cases\": 5216.0, \"new_deaths\": 92.0, \"cnn_articles\": 0.0, \"fox_articles\": 7.0}, {\"date\": \"2020-02-01T00:00:00\", \"Tweets\": 1287963, \"total_cases\": 23896.0, \"new_cases\": 4244.0, \"new_deaths\": 92.0, \"cnn_articles\": 0.0, \"fox_articles\": 7.0}, {\"date\": \"2020-01-31T00:00:00\", \"Tweets\": 1997635, \"total_cases\": 19652.0, \"new_cases\": 4002.0, \"new_deaths\": 86.0, \"cnn_articles\": 1.0, \"fox_articles\": 19.0}, {\"date\": \"2020-01-30T00:00:00\", \"Tweets\": 2010976, \"total_cases\": 15650.0, \"new_cases\": 3514.0, \"new_deaths\": 76.0, \"cnn_articles\": 1.0, \"fox_articles\": 32.0}, {\"date\": \"2020-01-29T00:00:00\", \"Tweets\": 1623497, \"total_cases\": 12136.0, \"new_cases\": 2960.0, \"new_deaths\": 52.0, \"cnn_articles\": 1.0, \"fox_articles\": 33.0}, {\"date\": \"2020-01-28T00:00:00\", \"Tweets\": 1497653, \"total_cases\": 9176.0, \"new_cases\": 3534.0, \"new_deaths\": 50.0, \"cnn_articles\": 0.0, \"fox_articles\": 22.0}, {\"date\": \"2020-01-27T00:00:00\", \"Tweets\": 1467598, \"total_cases\": 5642.0, \"new_cases\": 1594.0, \"new_deaths\": 50.0, \"cnn_articles\": 0.0, \"fox_articles\": 20.0}, {\"date\": \"2020-01-26T00:00:00\", \"Tweets\": 1678953, \"total_cases\": 4048.0, \"new_cases\": 1346.0, \"new_deaths\": 30.0, \"cnn_articles\": 0.0, \"fox_articles\": 9.0}, {\"date\": \"2020-01-25T00:00:00\", \"Tweets\": 1536784, \"total_cases\": 2702.0, \"new_cases\": 906.0, \"new_deaths\": 30.0, \"cnn_articles\": 0.0, \"fox_articles\": 5.0}, {\"date\": \"2020-01-24T00:00:00\", \"Tweets\": 1153245, \"total_cases\": 1796.0, \"new_cases\": 532.0, \"new_deaths\": 18.0, \"cnn_articles\": 0.0, \"fox_articles\": 10.0}, {\"date\": \"2020-01-23T00:00:00\", \"Tweets\": 905673, \"total_cases\": 1264.0, \"new_cases\": 194.0, \"new_deaths\": 0.0, \"cnn_articles\": 2.0, \"fox_articles\": 20.0}, {\"date\": \"2020-01-22T00:00:00\", \"Tweets\": 508623, \"total_cases\": 1070.0, \"new_cases\": 284.0, \"new_deaths\": 22.0, \"cnn_articles\": 2.0, \"fox_articles\": 10.0}, {\"date\": \"2020-01-21T00:00:00\", \"Tweets\": 259864, \"total_cases\": 786.0, \"new_cases\": 306.0, \"new_deaths\": 6.0, \"cnn_articles\": 0.0, \"fox_articles\": 6.0}, {\"date\": \"2020-01-20T00:00:00\", \"Tweets\": 100124, \"total_cases\": 480.0, \"new_cases\": 40.0, \"new_deaths\": 0.0, \"cnn_articles\": 0.0, \"fox_articles\": 3.0}, {\"date\": \"2020-01-19T00:00:00\", \"Tweets\": 20987, \"total_cases\": 440.0, \"new_cases\": 272.0, \"new_deaths\": 2.0, \"cnn_articles\": 0.0, \"fox_articles\": 0.0}, {\"date\": \"2020-01-18T00:00:00\", \"Tweets\": 23432, \"total_cases\": 168.0, \"new_cases\": 34.0, \"new_deaths\": 0.0, \"cnn_articles\": 0.0, \"fox_articles\": 0.0}, {\"date\": \"2020-01-17T00:00:00\", \"Tweets\": 22431, \"total_cases\": 134.0, \"new_cases\": 10.0, \"new_deaths\": 0.0, \"cnn_articles\": 1.0, \"fox_articles\": 2.0}, {\"date\": \"2020-01-16T00:00:00\", \"Tweets\": 22342, \"total_cases\": 124.0, \"new_cases\": 0.0, \"new_deaths\": 0.0, \"cnn_articles\": 0.0, \"fox_articles\": 1.0}, {\"date\": \"2020-01-15T00:00:00\", \"Tweets\": 10987, \"total_cases\": 124.0, \"new_cases\": 2.0, \"new_deaths\": 2.0, \"cnn_articles\": 0.0, \"fox_articles\": 1.0}, {\"date\": \"2020-01-14T00:00:00\", \"Tweets\": 10023, \"total_cases\": 122.0, \"new_cases\": 2.0, \"new_deaths\": 0.0, \"cnn_articles\": 0.0, \"fox_articles\": 0.0}, {\"date\": \"2020-01-13T00:00:00\", \"Tweets\": 16475, \"total_cases\": 120.0, \"new_cases\": 2.0, \"new_deaths\": 0.0, \"cnn_articles\": 0.0, \"fox_articles\": 1.0}, {\"date\": \"2020-01-12T00:00:00\", \"Tweets\": 10045, \"total_cases\": 118.0, \"new_cases\": 0.0, \"new_deaths\": 0.0, \"cnn_articles\": 0.0, \"fox_articles\": 0.0}, {\"date\": \"2020-01-11T00:00:00\", \"Tweets\": 2812, \"total_cases\": 118.0, \"new_cases\": 0.0, \"new_deaths\": 2.0, \"cnn_articles\": 0.0, \"fox_articles\": 0.0}, {\"date\": \"2020-01-10T00:00:00\", \"Tweets\": 2347, \"total_cases\": 118.0, \"new_cases\": 0.0, \"new_deaths\": 0.0, \"cnn_articles\": 0.0, \"fox_articles\": 0.0}, {\"date\": \"2020-01-09T00:00:00\", \"Tweets\": 3451, \"total_cases\": 118.0, \"new_cases\": 0.0, \"new_deaths\": 0.0, \"cnn_articles\": 0.0, \"fox_articles\": 1.0}, {\"date\": \"2020-01-08T00:00:00\", \"Tweets\": 421, \"total_cases\": 118.0, \"new_cases\": 0.0, \"new_deaths\": 0.0, \"cnn_articles\": 0.0, \"fox_articles\": 0.0}, {\"date\": \"2020-01-07T00:00:00\", \"Tweets\": 293, \"total_cases\": 118.0, \"new_cases\": 0.0, \"new_deaths\": 0.0, \"cnn_articles\": 0.0, \"fox_articles\": 0.0}, {\"date\": \"2020-01-06T00:00:00\", \"Tweets\": 86, \"total_cases\": 118.0, \"new_cases\": 0.0, \"new_deaths\": 0.0, \"cnn_articles\": 0.0, \"fox_articles\": 0.0}, {\"date\": \"2020-01-05T00:00:00\", \"Tweets\": 127, \"total_cases\": 118.0, \"new_cases\": 30.0, \"new_deaths\": 0.0, \"cnn_articles\": 0.0, \"fox_articles\": 0.0}, {\"date\": \"2020-01-04T00:00:00\", \"Tweets\": 172, \"total_cases\": 88.0, \"new_cases\": 0.0, \"new_deaths\": 0.0, \"cnn_articles\": 0.0, \"fox_articles\": 0.0}, {\"date\": \"2020-01-03T00:00:00\", \"Tweets\": 94, \"total_cases\": 88.0, \"new_cases\": 34.0, \"new_deaths\": 0.0, \"cnn_articles\": 0.0, \"fox_articles\": 0.0}, {\"date\": \"2020-01-02T00:00:00\", \"Tweets\": 41, \"total_cases\": 54.0, \"new_cases\": 0.0, \"new_deaths\": 0.0, \"cnn_articles\": 0.0, \"fox_articles\": 0.0}, {\"date\": \"2020-01-01T00:00:00\", \"Tweets\": 63, \"total_cases\": 54.0, \"new_cases\": 0.0, \"new_deaths\": 0.0, \"cnn_articles\": 0.0, \"fox_articles\": 0.0}]}}, {\"mode\": \"vega-lite\"});\n",
       "</script>"
      ],
      "text/plain": [
       "alt.LayerChart(...)"
      ]
     },
     "execution_count": 9,
     "metadata": {},
     "output_type": "execute_result"
    }
   ],
   "source": [
    "columns = ['new_cases', 'new_deaths']\n",
    "\n",
    "select_box = alt.binding_select(options=columns, name='Pandemic data')\n",
    "sel = alt.selection_single(fields=['column'], bind=select_box, init={'column': 'new_cases'})\n",
    "\n",
    "base = alt.Chart(merged_3).encode(\n",
    "    alt.X('date:T', axis=alt.Axis(title=None))\n",
    ").properties(\n",
    "    width=500,\n",
    "    height=200\n",
    ")\n",
    "\n",
    "\n",
    "line_cases = base.transform_fold(\n",
    "    columns,\n",
    "    as_=['column', 'value']\n",
    ").transform_filter(\n",
    "    sel  \n",
    ").mark_line( interpolate='monotone', stroke='#eb34eb').encode(\n",
    "    alt.Y('value:Q',\n",
    "          axis=alt.Axis(title=\"value\", titleColor='#eb34eb'))\n",
    ").add_selection(\n",
    "    sel\n",
    ")\n",
    "\n",
    "line_tweets = base.mark_line(stroke='#1da1f2', interpolate='monotone').encode(\n",
    "    alt.Y('Tweets',\n",
    "          axis=alt.Axis(title='Number of tweets', titleColor='#1da1f2'))\n",
    ")\n",
    "\n",
    "alt.layer(line_tweets, line_cases).resolve_scale(\n",
    "    y = 'independent'\n",
    ")"
   ]
  },
  {
   "cell_type": "markdown",
   "metadata": {
    "id": "Uj1o1urnLJ4y"
   },
   "source": [
    "# Compare tweet numbers to news articles on CNN and Fox News"
   ]
  },
  {
   "cell_type": "code",
   "execution_count": 10,
   "metadata": {
    "colab": {
     "base_uri": "https://localhost:8080/",
     "height": 275
    },
    "id": "6x3F76Y9LJ4z",
    "outputId": "fb0b6fa2-3419-41df-8d66-530e5eebbf74"
   },
   "outputs": [
    {
     "data": {
      "text/html": [
       "\n",
       "<div id=\"altair-viz-eda552c750a143ec909efd302342bd58\"></div>\n",
       "<script type=\"text/javascript\">\n",
       "  (function(spec, embedOpt){\n",
       "    let outputDiv = document.currentScript.previousElementSibling;\n",
       "    if (outputDiv.id !== \"altair-viz-eda552c750a143ec909efd302342bd58\") {\n",
       "      outputDiv = document.getElementById(\"altair-viz-eda552c750a143ec909efd302342bd58\");\n",
       "    }\n",
       "    const paths = {\n",
       "      \"vega\": \"https://cdn.jsdelivr.net/npm//vega@5?noext\",\n",
       "      \"vega-lib\": \"https://cdn.jsdelivr.net/npm//vega-lib?noext\",\n",
       "      \"vega-lite\": \"https://cdn.jsdelivr.net/npm//vega-lite@4.8.1?noext\",\n",
       "      \"vega-embed\": \"https://cdn.jsdelivr.net/npm//vega-embed@6?noext\",\n",
       "    };\n",
       "\n",
       "    function loadScript(lib) {\n",
       "      return new Promise(function(resolve, reject) {\n",
       "        var s = document.createElement('script');\n",
       "        s.src = paths[lib];\n",
       "        s.async = true;\n",
       "        s.onload = () => resolve(paths[lib]);\n",
       "        s.onerror = () => reject(`Error loading script: ${paths[lib]}`);\n",
       "        document.getElementsByTagName(\"head\")[0].appendChild(s);\n",
       "      });\n",
       "    }\n",
       "\n",
       "    function showError(err) {\n",
       "      outputDiv.innerHTML = `<div class=\"error\" style=\"color:red;\">${err}</div>`;\n",
       "      throw err;\n",
       "    }\n",
       "\n",
       "    function displayChart(vegaEmbed) {\n",
       "      vegaEmbed(outputDiv, spec, embedOpt)\n",
       "        .catch(err => showError(`Javascript Error: ${err.message}<br>This usually means there's a typo in your chart specification. See the javascript console for the full traceback.`));\n",
       "    }\n",
       "\n",
       "    if(typeof define === \"function\" && define.amd) {\n",
       "      requirejs.config({paths});\n",
       "      require([\"vega-embed\"], displayChart, err => showError(`Error loading script: ${err.message}`));\n",
       "    } else if (typeof vegaEmbed === \"function\") {\n",
       "      displayChart(vegaEmbed);\n",
       "    } else {\n",
       "      loadScript(\"vega\")\n",
       "        .then(() => loadScript(\"vega-lite\"))\n",
       "        .then(() => loadScript(\"vega-embed\"))\n",
       "        .catch(showError)\n",
       "        .then(() => displayChart(vegaEmbed));\n",
       "    }\n",
       "  })({\"config\": {\"view\": {\"continuousWidth\": 400, \"continuousHeight\": 300}}, \"layer\": [{\"mark\": {\"type\": \"line\", \"interpolate\": \"monotone\", \"stroke\": \"#eb34eb\"}, \"encoding\": {\"x\": {\"type\": \"temporal\", \"axis\": {\"title\": null}, \"field\": \"date\"}, \"y\": {\"type\": \"quantitative\", \"axis\": {\"title\": \"value\", \"titleColor\": \"#eb34eb\"}, \"field\": \"value\"}}, \"height\": 200, \"selection\": {\"selector002\": {\"type\": \"single\", \"fields\": [\"column\"], \"bind\": {\"input\": \"select\", \"options\": [\"fox_articles\", \"cnn_articles\"], \"name\": \"News source\"}, \"init\": {\"column\": \"cnn_articles\"}}}, \"transform\": [{\"fold\": [\"fox_articles\", \"cnn_articles\"], \"as\": [\"column\", \"value\"]}, {\"filter\": {\"selection\": \"selector002\"}}], \"width\": 500}, {\"mark\": {\"type\": \"line\", \"interpolate\": \"monotone\", \"stroke\": \"#1da1f2\"}, \"encoding\": {\"x\": {\"type\": \"temporal\", \"axis\": {\"title\": null}, \"field\": \"date\"}, \"y\": {\"type\": \"quantitative\", \"axis\": {\"title\": \"Number of tweets\", \"titleColor\": \"#1da1f2\"}, \"field\": \"Tweets\"}}, \"height\": 200, \"width\": 500}], \"data\": {\"name\": \"data-c52386b390aaacd1788aec8708cf5aa7\"}, \"resolve\": {\"scale\": {\"y\": \"independent\"}}, \"$schema\": \"https://vega.github.io/schema/vega-lite/v4.8.1.json\", \"datasets\": {\"data-c52386b390aaacd1788aec8708cf5aa7\": [{\"date\": \"2020-04-07T00:00:00\", \"Tweets\": 7877346, \"total_cases\": 2691782.0, \"new_cases\": 146530.0, \"new_deaths\": 10680.0, \"cnn_articles\": 77.0, \"fox_articles\": 230.0}, {\"date\": \"2020-04-06T00:00:00\", \"Tweets\": 8153966, \"total_cases\": 2545252.0, \"new_cases\": 132520.0, \"new_deaths\": 9512.0, \"cnn_articles\": 74.0, \"fox_articles\": 169.0}, {\"date\": \"2020-04-05T00:00:00\", \"Tweets\": 7421877, \"total_cases\": 2412577.0, \"new_cases\": 170540.0, \"new_deaths\": 12616.0, \"cnn_articles\": 48.0, \"fox_articles\": 96.0}, {\"date\": \"2020-04-04T00:00:00\", \"Tweets\": 7928225, \"total_cases\": 2242192.0, \"new_cases\": 163998.0, \"new_deaths\": 13552.0, \"cnn_articles\": 36.0, \"fox_articles\": 120.0}, {\"date\": \"2020-04-03T00:00:00\", \"Tweets\": 9357113, \"total_cases\": 2078194.0, \"new_cases\": 155292.0, \"new_deaths\": 10018.0, \"cnn_articles\": 80.0, \"fox_articles\": 235.0}, {\"date\": \"2020-04-02T00:00:00\", \"Tweets\": 9767918, \"total_cases\": 1922902.0, \"new_cases\": 155294.0, \"new_deaths\": 10020.0, \"cnn_articles\": 85.0, \"fox_articles\": 260.0}, {\"date\": \"2020-04-01T00:00:00\", \"Tweets\": 10402981, \"total_cases\": 1767603.0, \"new_cases\": 149678.0, \"new_deaths\": 9348.0, \"cnn_articles\": 71.0, \"fox_articles\": 260.0}, {\"date\": \"2020-03-31T00:00:00\", \"Tweets\": 10442432, \"total_cases\": 1617838.0, \"new_cases\": 129426.0, \"new_deaths\": 7972.0, \"cnn_articles\": 75.0, \"fox_articles\": 144.0}, {\"date\": \"2020-03-30T00:00:00\", \"Tweets\": 10125714, \"total_cases\": 1488504.0, \"new_cases\": 114728.0, \"new_deaths\": 6456.0, \"cnn_articles\": 60.0, \"fox_articles\": 204.0}, {\"date\": \"2020-03-29T00:00:00\", \"Tweets\": 9333426, \"total_cases\": 1373776.0, \"new_cases\": 125708.0, \"new_deaths\": 7174.0, \"cnn_articles\": 33.0, \"fox_articles\": 108.0}, {\"date\": \"2020-03-28T00:00:00\", \"Tweets\": 10434671, \"total_cases\": 1248068.0, \"new_cases\": 130370.0, \"new_deaths\": 6982.0, \"cnn_articles\": 29.0, \"fox_articles\": 84.0}, {\"date\": \"2020-03-27T00:00:00\", \"Tweets\": 12209011, \"total_cases\": 1117698.0, \"new_cases\": 122218.0, \"new_deaths\": 5610.0, \"cnn_articles\": 61.0, \"fox_articles\": 210.0}, {\"date\": \"2020-03-26T00:00:00\", \"Tweets\": 12236719, \"total_cases\": 995480.0, \"new_cases\": 107670.0, \"new_deaths\": 5288.0, \"cnn_articles\": 81.0, \"fox_articles\": 256.0}, {\"date\": \"2020-03-25T00:00:00\", \"Tweets\": 13000269, \"total_cases\": 887803.0, \"new_cases\": 85072.0, \"new_deaths\": 4610.0, \"cnn_articles\": 61.0, \"fox_articles\": 260.0}, {\"date\": \"2020-03-24T00:00:00\", \"Tweets\": 14445841, \"total_cases\": 802736.0, \"new_cases\": 89140.0, \"new_deaths\": 3708.0, \"cnn_articles\": 69.0, \"fox_articles\": 253.0}, {\"date\": \"2020-03-23T00:00:00\", \"Tweets\": 15446246, \"total_cases\": 713589.0, \"new_cases\": 68540.0, \"new_deaths\": 3376.0, \"cnn_articles\": 54.0, \"fox_articles\": 231.0}, {\"date\": \"2020-03-22T00:00:00\", \"Tweets\": 14392561, \"total_cases\": 645049.0, \"new_cases\": 68452.0, \"new_deaths\": 3434.0, \"cnn_articles\": 33.0, \"fox_articles\": 101.0}, {\"date\": \"2020-03-21T00:00:00\", \"Tweets\": 12861351, \"total_cases\": 576597.0, \"new_cases\": 63976.0, \"new_deaths\": 2770.0, \"cnn_articles\": 30.0, \"fox_articles\": 75.0}, {\"date\": \"2020-03-20T00:00:00\", \"Tweets\": 15200259, \"total_cases\": 512626.0, \"new_cases\": 62392.0, \"new_deaths\": 2148.0, \"cnn_articles\": 54.0, \"fox_articles\": 186.0}, {\"date\": \"2020-03-19T00:00:00\", \"Tweets\": 16582131, \"total_cases\": 450230.0, \"new_cases\": 40588.0, \"new_deaths\": 1916.0, \"cnn_articles\": 67.0, \"fox_articles\": 246.0}, {\"date\": \"2020-03-18T00:00:00\", \"Tweets\": 16561524, \"total_cases\": 409642.0, \"new_cases\": 34184.0, \"new_deaths\": 1624.0, \"cnn_articles\": 57.0, \"fox_articles\": 241.0}, {\"date\": \"2020-03-17T00:00:00\", \"Tweets\": 17417142, \"total_cases\": 375446.0, \"new_cases\": 28482.0, \"new_deaths\": 1212.0, \"cnn_articles\": 57.0, \"fox_articles\": 247.0}, {\"date\": \"2020-03-16T00:00:00\", \"Tweets\": 17227182, \"total_cases\": 346948.0, \"new_cases\": 24958.0, \"new_deaths\": 1500.0, \"cnn_articles\": 57.0, \"fox_articles\": 204.0}, {\"date\": \"2020-03-15T00:00:00\", \"Tweets\": 16438760, \"total_cases\": 321919.0, \"new_cases\": 24400.0, \"new_deaths\": 734.0, \"cnn_articles\": 17.0, \"fox_articles\": 91.0}, {\"date\": \"2020-03-14T00:00:00\", \"Tweets\": 16823148, \"total_cases\": 297395.0, \"new_cases\": 20910.0, \"new_deaths\": 884.0, \"cnn_articles\": 25.0, \"fox_articles\": 49.0}, {\"date\": \"2020-03-13T00:00:00\", \"Tweets\": 19802671, \"total_cases\": 276218.0, \"new_cases\": 18948.0, \"new_deaths\": 702.0, \"cnn_articles\": 44.0, \"fox_articles\": 159.0}, {\"date\": \"2020-03-12T00:00:00\", \"Tweets\": 18799722, \"total_cases\": 257589.0, \"new_cases\": 15844.0, \"new_deaths\": 662.0, \"cnn_articles\": 43.0, \"fox_articles\": 185.0}, {\"date\": \"2020-03-11T00:00:00\", \"Tweets\": 9923317, \"total_cases\": 241807.0, \"new_cases\": 10236.0, \"new_deaths\": 544.0, \"cnn_articles\": 24.0, \"fox_articles\": 107.0}, {\"date\": \"2020-03-10T00:00:00\", \"Tweets\": 8284672, \"total_cases\": 231365.0, \"new_cases\": 9636.0, \"new_deaths\": 418.0, \"cnn_articles\": 21.0, \"fox_articles\": 104.0}, {\"date\": \"2020-03-09T00:00:00\", \"Tweets\": 6386122, \"total_cases\": 221802.0, \"new_cases\": 8358.0, \"new_deaths\": 456.0, \"cnn_articles\": 24.0, \"fox_articles\": 89.0}, {\"date\": \"2020-03-08T00:00:00\", \"Tweets\": 4533476, \"total_cases\": 213462.0, \"new_cases\": 7956.0, \"new_deaths\": 194.0, \"cnn_articles\": 7.0, \"fox_articles\": 39.0}, {\"date\": \"2020-03-07T00:00:00\", \"Tweets\": 4632239, \"total_cases\": 205522.0, \"new_cases\": 8240.0, \"new_deaths\": 208.0, \"cnn_articles\": 9.0, \"fox_articles\": 37.0}, {\"date\": \"2020-03-06T00:00:00\", \"Tweets\": 4581032, \"total_cases\": 197390.0, \"new_cases\": 6120.0, \"new_deaths\": 204.0, \"cnn_articles\": 16.0, \"fox_articles\": 60.0}, {\"date\": \"2020-03-05T00:00:00\", \"Tweets\": 4323687, \"total_cases\": 191200.0, \"new_cases\": 4714.0, \"new_deaths\": 160.0, \"cnn_articles\": 12.0, \"fox_articles\": 50.0}, {\"date\": \"2020-03-04T00:00:00\", \"Tweets\": 4323670, \"total_cases\": 186473.0, \"new_cases\": 4630.0, \"new_deaths\": 168.0, \"cnn_articles\": 14.0, \"fox_articles\": 65.0}, {\"date\": \"2020-03-03T00:00:00\", \"Tweets\": 4342139, \"total_cases\": 181806.0, \"new_cases\": 3716.0, \"new_deaths\": 144.0, \"cnn_articles\": 7.0, \"fox_articles\": 49.0}, {\"date\": \"2020-03-02T00:00:00\", \"Tweets\": 4240721, \"total_cases\": 178318.0, \"new_cases\": 4136.0, \"new_deaths\": 134.0, \"cnn_articles\": 9.0, \"fox_articles\": 62.0}, {\"date\": \"2020-03-01T00:00:00\", \"Tweets\": 3632689, \"total_cases\": 174182.0, \"new_cases\": 3686.0, \"new_deaths\": 116.0, \"cnn_articles\": 9.0, \"fox_articles\": 24.0}, {\"date\": \"2020-02-29T00:00:00\", \"Tweets\": 4666121, \"total_cases\": 170496.0, \"new_cases\": 3720.0, \"new_deaths\": 128.0, \"cnn_articles\": 6.0, \"fox_articles\": 27.0}, {\"date\": \"2020-02-28T00:00:00\", \"Tweets\": 5685321, \"total_cases\": 166776.0, \"new_cases\": 2542.0, \"new_deaths\": 114.0, \"cnn_articles\": 6.0, \"fox_articles\": 43.0}, {\"date\": \"2020-02-27T00:00:00\", \"Tweets\": 4597412, \"total_cases\": 164234.0, \"new_cases\": 2228.0, \"new_deaths\": 76.0, \"cnn_articles\": 10.0, \"fox_articles\": 69.0}, {\"date\": \"2020-02-26T00:00:00\", \"Tweets\": 3989533, \"total_cases\": 162006.0, \"new_cases\": 1734.0, \"new_deaths\": 128.0, \"cnn_articles\": 9.0, \"fox_articles\": 52.0}, {\"date\": \"2020-02-25T00:00:00\", \"Tweets\": 2844369, \"total_cases\": 160272.0, \"new_cases\": 1590.0, \"new_deaths\": 158.0, \"cnn_articles\": 8.0, \"fox_articles\": 22.0}, {\"date\": \"2020-02-24T00:00:00\", \"Tweets\": 1643544, \"total_cases\": 158682.0, \"new_cases\": 1046.0, \"new_deaths\": 312.0, \"cnn_articles\": 6.0, \"fox_articles\": 19.0}, {\"date\": \"2020-02-23T00:00:00\", \"Tweets\": 1233511, \"total_cases\": 157636.0, \"new_cases\": 2020.0, \"new_deaths\": 208.0, \"cnn_articles\": 2.0, \"fox_articles\": 4.0}, {\"date\": \"2020-02-22T00:00:00\", \"Tweets\": 997638, \"total_cases\": 155616.0, \"new_cases\": 2170.0, \"new_deaths\": 224.0, \"cnn_articles\": 1.0, \"fox_articles\": 4.0}, {\"date\": \"2020-02-21T00:00:00\", \"Tweets\": 954321, \"total_cases\": 153446.0, \"new_cases\": 1992.0, \"new_deaths\": 238.0, \"cnn_articles\": 3.0, \"fox_articles\": 19.0}, {\"date\": \"2020-02-20T00:00:00\", \"Tweets\": 622349, \"total_cases\": 151454.0, \"new_cases\": 1064.0, \"new_deaths\": 232.0, \"cnn_articles\": 2.0, \"fox_articles\": 9.0}, {\"date\": \"2020-02-19T00:00:00\", \"Tweets\": 626237, \"total_cases\": 150390.0, \"new_cases\": 3728.0, \"new_deaths\": 278.0, \"cnn_articles\": 3.0, \"fox_articles\": 12.0}, {\"date\": \"2020-02-18T00:00:00\", \"Tweets\": 628043, \"total_cases\": 146662.0, \"new_cases\": 3990.0, \"new_deaths\": 196.0, \"cnn_articles\": 4.0, \"fox_articles\": 17.0}, {\"date\": \"2020-02-17T00:00:00\", \"Tweets\": 626732, \"total_cases\": 142672.0, \"new_cases\": 4134.0, \"new_deaths\": 212.0, \"cnn_articles\": 5.0, \"fox_articles\": 18.0}, {\"date\": \"2020-02-16T00:00:00\", \"Tweets\": 625127, \"total_cases\": 138538.0, \"new_cases\": 4324.0, \"new_deaths\": 284.0, \"cnn_articles\": 4.0, \"fox_articles\": 6.0}, {\"date\": \"2020-02-15T00:00:00\", \"Tweets\": 624555, \"total_cases\": 134214.0, \"new_cases\": 5120.0, \"new_deaths\": 288.0, \"cnn_articles\": 3.0, \"fox_articles\": 8.0}, {\"date\": \"2020-02-14T00:00:00\", \"Tweets\": 622722, \"total_cases\": 129094.0, \"new_cases\": 8430.0, \"new_deaths\": 26.0, \"cnn_articles\": 6.0, \"fox_articles\": 14.0}, {\"date\": \"2020-02-13T00:00:00\", \"Tweets\": 956877, \"total_cases\": 120664.0, \"new_cases\": 30302.0, \"new_deaths\": 510.0, \"cnn_articles\": 4.0, \"fox_articles\": 21.0}, {\"date\": \"2020-02-12T00:00:00\", \"Tweets\": 911098, \"total_cases\": 90362.0, \"new_cases\": 4144.0, \"new_deaths\": 194.0, \"cnn_articles\": 2.0, \"fox_articles\": 20.0}, {\"date\": \"2020-02-11T00:00:00\", \"Tweets\": 908627, \"total_cases\": 86218.0, \"new_cases\": 5126.0, \"new_deaths\": 216.0, \"cnn_articles\": 4.0, \"fox_articles\": 18.0}, {\"date\": \"2020-02-10T00:00:00\", \"Tweets\": 807654, \"total_cases\": 81092.0, \"new_cases\": 5984.0, \"new_deaths\": 194.0, \"cnn_articles\": 1.0, \"fox_articles\": 13.0}, {\"date\": \"2020-02-09T00:00:00\", \"Tweets\": 796739, \"total_cases\": 75108.0, \"new_cases\": 5236.0, \"new_deaths\": 178.0, \"cnn_articles\": 0.0, \"fox_articles\": 10.0}, {\"date\": \"2020-02-08T00:00:00\", \"Tweets\": 803453, \"total_cases\": 69872.0, \"new_cases\": 6884.0, \"new_deaths\": 172.0, \"cnn_articles\": 0.0, \"fox_articles\": 11.0}, {\"date\": \"2020-02-07T00:00:00\", \"Tweets\": 987563, \"total_cases\": 62988.0, \"new_cases\": 6436.0, \"new_deaths\": 146.0, \"cnn_articles\": 0.0, \"fox_articles\": 22.0}, {\"date\": \"2020-02-06T00:00:00\", \"Tweets\": 834673, \"total_cases\": 56552.0, \"new_cases\": 7502.0, \"new_deaths\": 144.0, \"cnn_articles\": 1.0, \"fox_articles\": 17.0}, {\"date\": \"2020-02-05T00:00:00\", \"Tweets\": 803587, \"total_cases\": 49050.0, \"new_cases\": 7816.0, \"new_deaths\": 132.0, \"cnn_articles\": 0.0, \"fox_articles\": 20.0}, {\"date\": \"2020-02-04T00:00:00\", \"Tweets\": 997862, \"total_cases\": 41234.0, \"new_cases\": 6486.0, \"new_deaths\": 130.0, \"cnn_articles\": 1.0, \"fox_articles\": 28.0}, {\"date\": \"2020-02-03T00:00:00\", \"Tweets\": 1000752, \"total_cases\": 34748.0, \"new_cases\": 5636.0, \"new_deaths\": 114.0, \"cnn_articles\": 0.0, \"fox_articles\": 20.0}, {\"date\": \"2020-02-02T00:00:00\", \"Tweets\": 1298476, \"total_cases\": 29112.0, \"new_cases\": 5216.0, \"new_deaths\": 92.0, \"cnn_articles\": 0.0, \"fox_articles\": 7.0}, {\"date\": \"2020-02-01T00:00:00\", \"Tweets\": 1287963, \"total_cases\": 23896.0, \"new_cases\": 4244.0, \"new_deaths\": 92.0, \"cnn_articles\": 0.0, \"fox_articles\": 7.0}, {\"date\": \"2020-01-31T00:00:00\", \"Tweets\": 1997635, \"total_cases\": 19652.0, \"new_cases\": 4002.0, \"new_deaths\": 86.0, \"cnn_articles\": 1.0, \"fox_articles\": 19.0}, {\"date\": \"2020-01-30T00:00:00\", \"Tweets\": 2010976, \"total_cases\": 15650.0, \"new_cases\": 3514.0, \"new_deaths\": 76.0, \"cnn_articles\": 1.0, \"fox_articles\": 32.0}, {\"date\": \"2020-01-29T00:00:00\", \"Tweets\": 1623497, \"total_cases\": 12136.0, \"new_cases\": 2960.0, \"new_deaths\": 52.0, \"cnn_articles\": 1.0, \"fox_articles\": 33.0}, {\"date\": \"2020-01-28T00:00:00\", \"Tweets\": 1497653, \"total_cases\": 9176.0, \"new_cases\": 3534.0, \"new_deaths\": 50.0, \"cnn_articles\": 0.0, \"fox_articles\": 22.0}, {\"date\": \"2020-01-27T00:00:00\", \"Tweets\": 1467598, \"total_cases\": 5642.0, \"new_cases\": 1594.0, \"new_deaths\": 50.0, \"cnn_articles\": 0.0, \"fox_articles\": 20.0}, {\"date\": \"2020-01-26T00:00:00\", \"Tweets\": 1678953, \"total_cases\": 4048.0, \"new_cases\": 1346.0, \"new_deaths\": 30.0, \"cnn_articles\": 0.0, \"fox_articles\": 9.0}, {\"date\": \"2020-01-25T00:00:00\", \"Tweets\": 1536784, \"total_cases\": 2702.0, \"new_cases\": 906.0, \"new_deaths\": 30.0, \"cnn_articles\": 0.0, \"fox_articles\": 5.0}, {\"date\": \"2020-01-24T00:00:00\", \"Tweets\": 1153245, \"total_cases\": 1796.0, \"new_cases\": 532.0, \"new_deaths\": 18.0, \"cnn_articles\": 0.0, \"fox_articles\": 10.0}, {\"date\": \"2020-01-23T00:00:00\", \"Tweets\": 905673, \"total_cases\": 1264.0, \"new_cases\": 194.0, \"new_deaths\": 0.0, \"cnn_articles\": 2.0, \"fox_articles\": 20.0}, {\"date\": \"2020-01-22T00:00:00\", \"Tweets\": 508623, \"total_cases\": 1070.0, \"new_cases\": 284.0, \"new_deaths\": 22.0, \"cnn_articles\": 2.0, \"fox_articles\": 10.0}, {\"date\": \"2020-01-21T00:00:00\", \"Tweets\": 259864, \"total_cases\": 786.0, \"new_cases\": 306.0, \"new_deaths\": 6.0, \"cnn_articles\": 0.0, \"fox_articles\": 6.0}, {\"date\": \"2020-01-20T00:00:00\", \"Tweets\": 100124, \"total_cases\": 480.0, \"new_cases\": 40.0, \"new_deaths\": 0.0, \"cnn_articles\": 0.0, \"fox_articles\": 3.0}, {\"date\": \"2020-01-19T00:00:00\", \"Tweets\": 20987, \"total_cases\": 440.0, \"new_cases\": 272.0, \"new_deaths\": 2.0, \"cnn_articles\": 0.0, \"fox_articles\": 0.0}, {\"date\": \"2020-01-18T00:00:00\", \"Tweets\": 23432, \"total_cases\": 168.0, \"new_cases\": 34.0, \"new_deaths\": 0.0, \"cnn_articles\": 0.0, \"fox_articles\": 0.0}, {\"date\": \"2020-01-17T00:00:00\", \"Tweets\": 22431, \"total_cases\": 134.0, \"new_cases\": 10.0, \"new_deaths\": 0.0, \"cnn_articles\": 1.0, \"fox_articles\": 2.0}, {\"date\": \"2020-01-16T00:00:00\", \"Tweets\": 22342, \"total_cases\": 124.0, \"new_cases\": 0.0, \"new_deaths\": 0.0, \"cnn_articles\": 0.0, \"fox_articles\": 1.0}, {\"date\": \"2020-01-15T00:00:00\", \"Tweets\": 10987, \"total_cases\": 124.0, \"new_cases\": 2.0, \"new_deaths\": 2.0, \"cnn_articles\": 0.0, \"fox_articles\": 1.0}, {\"date\": \"2020-01-14T00:00:00\", \"Tweets\": 10023, \"total_cases\": 122.0, \"new_cases\": 2.0, \"new_deaths\": 0.0, \"cnn_articles\": 0.0, \"fox_articles\": 0.0}, {\"date\": \"2020-01-13T00:00:00\", \"Tweets\": 16475, \"total_cases\": 120.0, \"new_cases\": 2.0, \"new_deaths\": 0.0, \"cnn_articles\": 0.0, \"fox_articles\": 1.0}, {\"date\": \"2020-01-12T00:00:00\", \"Tweets\": 10045, \"total_cases\": 118.0, \"new_cases\": 0.0, \"new_deaths\": 0.0, \"cnn_articles\": 0.0, \"fox_articles\": 0.0}, {\"date\": \"2020-01-11T00:00:00\", \"Tweets\": 2812, \"total_cases\": 118.0, \"new_cases\": 0.0, \"new_deaths\": 2.0, \"cnn_articles\": 0.0, \"fox_articles\": 0.0}, {\"date\": \"2020-01-10T00:00:00\", \"Tweets\": 2347, \"total_cases\": 118.0, \"new_cases\": 0.0, \"new_deaths\": 0.0, \"cnn_articles\": 0.0, \"fox_articles\": 0.0}, {\"date\": \"2020-01-09T00:00:00\", \"Tweets\": 3451, \"total_cases\": 118.0, \"new_cases\": 0.0, \"new_deaths\": 0.0, \"cnn_articles\": 0.0, \"fox_articles\": 1.0}, {\"date\": \"2020-01-08T00:00:00\", \"Tweets\": 421, \"total_cases\": 118.0, \"new_cases\": 0.0, \"new_deaths\": 0.0, \"cnn_articles\": 0.0, \"fox_articles\": 0.0}, {\"date\": \"2020-01-07T00:00:00\", \"Tweets\": 293, \"total_cases\": 118.0, \"new_cases\": 0.0, \"new_deaths\": 0.0, \"cnn_articles\": 0.0, \"fox_articles\": 0.0}, {\"date\": \"2020-01-06T00:00:00\", \"Tweets\": 86, \"total_cases\": 118.0, \"new_cases\": 0.0, \"new_deaths\": 0.0, \"cnn_articles\": 0.0, \"fox_articles\": 0.0}, {\"date\": \"2020-01-05T00:00:00\", \"Tweets\": 127, \"total_cases\": 118.0, \"new_cases\": 30.0, \"new_deaths\": 0.0, \"cnn_articles\": 0.0, \"fox_articles\": 0.0}, {\"date\": \"2020-01-04T00:00:00\", \"Tweets\": 172, \"total_cases\": 88.0, \"new_cases\": 0.0, \"new_deaths\": 0.0, \"cnn_articles\": 0.0, \"fox_articles\": 0.0}, {\"date\": \"2020-01-03T00:00:00\", \"Tweets\": 94, \"total_cases\": 88.0, \"new_cases\": 34.0, \"new_deaths\": 0.0, \"cnn_articles\": 0.0, \"fox_articles\": 0.0}, {\"date\": \"2020-01-02T00:00:00\", \"Tweets\": 41, \"total_cases\": 54.0, \"new_cases\": 0.0, \"new_deaths\": 0.0, \"cnn_articles\": 0.0, \"fox_articles\": 0.0}, {\"date\": \"2020-01-01T00:00:00\", \"Tweets\": 63, \"total_cases\": 54.0, \"new_cases\": 0.0, \"new_deaths\": 0.0, \"cnn_articles\": 0.0, \"fox_articles\": 0.0}]}}, {\"mode\": \"vega-lite\"});\n",
       "</script>"
      ],
      "text/plain": [
       "alt.LayerChart(...)"
      ]
     },
     "execution_count": 10,
     "metadata": {},
     "output_type": "execute_result"
    }
   ],
   "source": [
    "columns = ['fox_articles', 'cnn_articles']\n",
    "\n",
    "select_box = alt.binding_select(options=columns, name='News source')\n",
    "sel = alt.selection_single(fields=['column'], bind=select_box, init={'column': 'cnn_articles'})\n",
    "\n",
    "base = alt.Chart(merged_3).encode(\n",
    "    alt.X('date:T', axis=alt.Axis(title=None))\n",
    ").properties(\n",
    "    width=500,\n",
    "    height=200\n",
    ")\n",
    "\n",
    "line_articles = base.transform_fold(\n",
    "    columns,\n",
    "    as_=['column', 'value']\n",
    ").transform_filter(\n",
    "    sel\n",
    ").mark_line( interpolate='monotone', stroke='#eb34eb').encode(\n",
    "    alt.Y('value:Q',\n",
    "          axis=alt.Axis(title=\"value\", titleColor='#eb34eb'))\n",
    ").add_selection(\n",
    "    sel\n",
    ")\n",
    "\n",
    "line_tweets = base.mark_line(stroke='#1da1f2', interpolate='monotone').encode(\n",
    "    alt.Y('Tweets',\n",
    "          axis=alt.Axis(title='Number of tweets', titleColor='#1da1f2'))\n",
    ")\n",
    "\n",
    "alt.layer(line_articles, line_tweets).resolve_scale(\n",
    "    y = 'independent'\n",
    ")"
   ]
  },
  {
   "cell_type": "markdown",
   "metadata": {
    "id": "AxBIXU5NLJ47"
   },
   "source": [
    "# Load downloaded twitter raw data from Github"
   ]
  },
  {
   "cell_type": "code",
   "execution_count": 11,
   "metadata": {
    "id": "Nm7qoGToLJ49"
   },
   "outputs": [],
   "source": [
    "\n",
    "#path = r'C:/Users/rapha/DATA_VIS/twitter_project/data/raw_data/'\n",
    "onlinepath = \"https://raw.githubusercontent.com/xxz-jessica/COVID-19_UCD_Challenge/master/Tweet_Raw_Data/raw_data/\"\n",
    "#files = os.listdir(path)\n",
    "\n",
    "### filelist generated through download\n",
    "files_gen = ['covid2019_0120.csv',\n",
    " 'covid2019_0121.csv',\n",
    " 'covid2019_0122.csv',\n",
    " 'covid2019_0123.csv',\n",
    " 'covid2019_0124.csv',\n",
    " 'covid2019_0125.csv',\n",
    " 'covid2019_0126.csv',\n",
    " 'covid2019_0127.csv',\n",
    " 'covid2019_0128.csv',\n",
    " 'covid2019_0129.csv',\n",
    " 'covid2019_0130.csv',\n",
    " 'covid2019_0131.csv',\n",
    " 'covid2019_0201.csv',\n",
    " 'covid2019_0202.csv',\n",
    " 'covid2019_0203.csv',\n",
    " 'covid2019_0204.csv',\n",
    " 'covid2019_0205.csv',\n",
    " 'covid2019_0206.csv',\n",
    " 'covid2019_0207.csv',\n",
    " 'covid2019_0208.csv',\n",
    " 'covid2019_0209.csv',\n",
    " 'covid2019_0210.csv',\n",
    " 'covid2019_0211.csv',\n",
    " 'covid2019_0212.csv',\n",
    " 'covid2019_0213.csv',\n",
    " 'covid2019_0214.csv',\n",
    " 'covid2019_0215.csv',\n",
    " 'covid2019_0216.csv',\n",
    " 'covid2019_0217.csv',\n",
    " 'covid2019_0218.csv',\n",
    " 'covid2019_0219.csv',\n",
    " 'covid2019_0220.csv',\n",
    " 'covid2019_0308.csv',\n",
    " 'covid2019_0309.csv',\n",
    " 'covid2019_0310.csv',\n",
    " 'covid2019_0311.csv',\n",
    " 'covid2019_0312.csv',\n",
    " 'covid2019_0313.csv',\n",
    " 'covid2019_0314.csv',\n",
    " 'covid2019_0315.csv',\n",
    " 'covid2019_0316.csv',\n",
    " 'covid2019_0317.csv',\n",
    " 'covid2019_0318.csv',\n",
    " 'covid2019_0319.csv',\n",
    " 'covid2019_0320.csv',\n",
    " 'covid2019_0321.csv',\n",
    " 'covid2019_0322.csv',\n",
    " 'covid2019_0323.csv',\n",
    " 'covid2019_0324.csv',\n",
    " 'covid2019_0325.csv',\n",
    " 'covid2019_0326.csv',\n",
    " 'covid2019_0327.csv',\n",
    " 'covid2019_0328.csv',\n",
    " 'covid2019_0329.csv',\n",
    " 'covid2019_0330.csv',\n",
    " 'covid2019_0331.csv',\n",
    " 'covid2019_0401.csv',\n",
    " 'covid2019_0402.csv',\n",
    " 'covid2019_0403.csv',\n",
    " 'covid2019_0404.csv',\n",
    " 'covid2019_0405.csv',\n",
    " 'covid2019_0406.csv',\n",
    " 'covid2019_0407.csv',\n",
    " 'covid2019_0408.csv',\n",
    " 'random tweet 2020-02-21.csv',\n",
    " 'random tweet 2020-02-22.csv',\n",
    " 'random tweet 2020-02-23.csv',\n",
    " 'random tweet 2020-02-24.csv',\n",
    " 'random tweet 2020-02-25.csv',\n",
    " 'random tweet 2020-02-26.csv',\n",
    " 'random tweet 2020-02-27.csv',\n",
    " 'random tweet 2020-02-28.csv',\n",
    " 'random tweet 2020-02-29.csv',\n",
    " 'random tweet 2020-03-01.csv',\n",
    " 'random tweet 2020-03-02.csv',\n",
    " 'random tweet 2020-03-03.csv',\n",
    " 'random tweet 2020-03-04.csv',\n",
    " 'random tweet 2020-03-05.csv',\n",
    " 'random tweet 2020-03-06.csv',\n",
    " 'random tweet 2020-03-07.csv']"
   ]
  },
  {
   "cell_type": "code",
   "execution_count": 21,
   "metadata": {},
   "outputs": [
    {
     "ename": "KeyboardInterrupt",
     "evalue": "",
     "output_type": "error",
     "traceback": [
      "\u001b[1;31m---------------------------------------------------------------------------\u001b[0m",
      "\u001b[1;31mKeyboardInterrupt\u001b[0m                         Traceback (most recent call last)",
      "\u001b[1;32m<ipython-input-21-15f87078547d>\u001b[0m in \u001b[0;36m<module>\u001b[1;34m\u001b[0m\n\u001b[0;32m      1\u001b[0m \u001b[1;32mif\u001b[0m \u001b[0mos\u001b[0m\u001b[1;33m.\u001b[0m\u001b[0mpath\u001b[0m\u001b[1;33m.\u001b[0m\u001b[0mexists\u001b[0m\u001b[1;33m(\u001b[0m\u001b[1;34m\"all_twitter_data.csv\"\u001b[0m\u001b[1;33m)\u001b[0m\u001b[1;33m:\u001b[0m\u001b[1;33m\u001b[0m\u001b[1;33m\u001b[0m\u001b[0m\n\u001b[1;32m----> 2\u001b[1;33m     \u001b[0mcovid_twitter_data\u001b[0m \u001b[1;33m=\u001b[0m \u001b[0mpd\u001b[0m\u001b[1;33m.\u001b[0m\u001b[0mread_csv\u001b[0m\u001b[1;33m(\u001b[0m\u001b[1;34m\"all_twitter_data.csv\"\u001b[0m\u001b[1;33m,\u001b[0m \u001b[0mlow_memory\u001b[0m \u001b[1;33m=\u001b[0m \u001b[1;32mFalse\u001b[0m\u001b[1;33m)\u001b[0m\u001b[1;33m\u001b[0m\u001b[1;33m\u001b[0m\u001b[0m\n\u001b[0m\u001b[0;32m      3\u001b[0m \u001b[1;32melse\u001b[0m\u001b[1;33m:\u001b[0m\u001b[1;33m\u001b[0m\u001b[1;33m\u001b[0m\u001b[0m\n\u001b[0;32m      4\u001b[0m     \u001b[0mcovid_twitter_data\u001b[0m \u001b[1;33m=\u001b[0m \u001b[0mgenerate_combined\u001b[0m\u001b[1;33m(\u001b[0m\u001b[0mfiles_gen\u001b[0m\u001b[1;33m)\u001b[0m\u001b[1;33m\u001b[0m\u001b[1;33m\u001b[0m\u001b[0m\n\u001b[0;32m      5\u001b[0m     \u001b[1;31m#save all twitter data in one file\u001b[0m\u001b[1;33m\u001b[0m\u001b[1;33m\u001b[0m\u001b[1;33m\u001b[0m\u001b[0m\n",
      "\u001b[1;32m~\\Anaconda3\\lib\\site-packages\\pandas\\io\\parsers.py\u001b[0m in \u001b[0;36mparser_f\u001b[1;34m(filepath_or_buffer, sep, delimiter, header, names, index_col, usecols, squeeze, prefix, mangle_dupe_cols, dtype, engine, converters, true_values, false_values, skipinitialspace, skiprows, skipfooter, nrows, na_values, keep_default_na, na_filter, verbose, skip_blank_lines, parse_dates, infer_datetime_format, keep_date_col, date_parser, dayfirst, cache_dates, iterator, chunksize, compression, thousands, decimal, lineterminator, quotechar, quoting, doublequote, escapechar, comment, encoding, dialect, error_bad_lines, warn_bad_lines, delim_whitespace, low_memory, memory_map, float_precision)\u001b[0m\n\u001b[0;32m    674\u001b[0m         )\n\u001b[0;32m    675\u001b[0m \u001b[1;33m\u001b[0m\u001b[0m\n\u001b[1;32m--> 676\u001b[1;33m         \u001b[1;32mreturn\u001b[0m \u001b[0m_read\u001b[0m\u001b[1;33m(\u001b[0m\u001b[0mfilepath_or_buffer\u001b[0m\u001b[1;33m,\u001b[0m \u001b[0mkwds\u001b[0m\u001b[1;33m)\u001b[0m\u001b[1;33m\u001b[0m\u001b[1;33m\u001b[0m\u001b[0m\n\u001b[0m\u001b[0;32m    677\u001b[0m \u001b[1;33m\u001b[0m\u001b[0m\n\u001b[0;32m    678\u001b[0m     \u001b[0mparser_f\u001b[0m\u001b[1;33m.\u001b[0m\u001b[0m__name__\u001b[0m \u001b[1;33m=\u001b[0m \u001b[0mname\u001b[0m\u001b[1;33m\u001b[0m\u001b[1;33m\u001b[0m\u001b[0m\n",
      "\u001b[1;32m~\\Anaconda3\\lib\\site-packages\\pandas\\io\\parsers.py\u001b[0m in \u001b[0;36m_read\u001b[1;34m(filepath_or_buffer, kwds)\u001b[0m\n\u001b[0;32m    452\u001b[0m \u001b[1;33m\u001b[0m\u001b[0m\n\u001b[0;32m    453\u001b[0m     \u001b[1;32mtry\u001b[0m\u001b[1;33m:\u001b[0m\u001b[1;33m\u001b[0m\u001b[1;33m\u001b[0m\u001b[0m\n\u001b[1;32m--> 454\u001b[1;33m         \u001b[0mdata\u001b[0m \u001b[1;33m=\u001b[0m \u001b[0mparser\u001b[0m\u001b[1;33m.\u001b[0m\u001b[0mread\u001b[0m\u001b[1;33m(\u001b[0m\u001b[0mnrows\u001b[0m\u001b[1;33m)\u001b[0m\u001b[1;33m\u001b[0m\u001b[1;33m\u001b[0m\u001b[0m\n\u001b[0m\u001b[0;32m    455\u001b[0m     \u001b[1;32mfinally\u001b[0m\u001b[1;33m:\u001b[0m\u001b[1;33m\u001b[0m\u001b[1;33m\u001b[0m\u001b[0m\n\u001b[0;32m    456\u001b[0m         \u001b[0mparser\u001b[0m\u001b[1;33m.\u001b[0m\u001b[0mclose\u001b[0m\u001b[1;33m(\u001b[0m\u001b[1;33m)\u001b[0m\u001b[1;33m\u001b[0m\u001b[1;33m\u001b[0m\u001b[0m\n",
      "\u001b[1;32m~\\Anaconda3\\lib\\site-packages\\pandas\\io\\parsers.py\u001b[0m in \u001b[0;36mread\u001b[1;34m(self, nrows)\u001b[0m\n\u001b[0;32m   1131\u001b[0m     \u001b[1;32mdef\u001b[0m \u001b[0mread\u001b[0m\u001b[1;33m(\u001b[0m\u001b[0mself\u001b[0m\u001b[1;33m,\u001b[0m \u001b[0mnrows\u001b[0m\u001b[1;33m=\u001b[0m\u001b[1;32mNone\u001b[0m\u001b[1;33m)\u001b[0m\u001b[1;33m:\u001b[0m\u001b[1;33m\u001b[0m\u001b[1;33m\u001b[0m\u001b[0m\n\u001b[0;32m   1132\u001b[0m         \u001b[0mnrows\u001b[0m \u001b[1;33m=\u001b[0m \u001b[0m_validate_integer\u001b[0m\u001b[1;33m(\u001b[0m\u001b[1;34m\"nrows\"\u001b[0m\u001b[1;33m,\u001b[0m \u001b[0mnrows\u001b[0m\u001b[1;33m)\u001b[0m\u001b[1;33m\u001b[0m\u001b[1;33m\u001b[0m\u001b[0m\n\u001b[1;32m-> 1133\u001b[1;33m         \u001b[0mret\u001b[0m \u001b[1;33m=\u001b[0m \u001b[0mself\u001b[0m\u001b[1;33m.\u001b[0m\u001b[0m_engine\u001b[0m\u001b[1;33m.\u001b[0m\u001b[0mread\u001b[0m\u001b[1;33m(\u001b[0m\u001b[0mnrows\u001b[0m\u001b[1;33m)\u001b[0m\u001b[1;33m\u001b[0m\u001b[1;33m\u001b[0m\u001b[0m\n\u001b[0m\u001b[0;32m   1134\u001b[0m \u001b[1;33m\u001b[0m\u001b[0m\n\u001b[0;32m   1135\u001b[0m         \u001b[1;31m# May alter columns / col_dict\u001b[0m\u001b[1;33m\u001b[0m\u001b[1;33m\u001b[0m\u001b[1;33m\u001b[0m\u001b[0m\n",
      "\u001b[1;32m~\\Anaconda3\\lib\\site-packages\\pandas\\io\\parsers.py\u001b[0m in \u001b[0;36mread\u001b[1;34m(self, nrows)\u001b[0m\n\u001b[0;32m   2035\u001b[0m     \u001b[1;32mdef\u001b[0m \u001b[0mread\u001b[0m\u001b[1;33m(\u001b[0m\u001b[0mself\u001b[0m\u001b[1;33m,\u001b[0m \u001b[0mnrows\u001b[0m\u001b[1;33m=\u001b[0m\u001b[1;32mNone\u001b[0m\u001b[1;33m)\u001b[0m\u001b[1;33m:\u001b[0m\u001b[1;33m\u001b[0m\u001b[1;33m\u001b[0m\u001b[0m\n\u001b[0;32m   2036\u001b[0m         \u001b[1;32mtry\u001b[0m\u001b[1;33m:\u001b[0m\u001b[1;33m\u001b[0m\u001b[1;33m\u001b[0m\u001b[0m\n\u001b[1;32m-> 2037\u001b[1;33m             \u001b[0mdata\u001b[0m \u001b[1;33m=\u001b[0m \u001b[0mself\u001b[0m\u001b[1;33m.\u001b[0m\u001b[0m_reader\u001b[0m\u001b[1;33m.\u001b[0m\u001b[0mread\u001b[0m\u001b[1;33m(\u001b[0m\u001b[0mnrows\u001b[0m\u001b[1;33m)\u001b[0m\u001b[1;33m\u001b[0m\u001b[1;33m\u001b[0m\u001b[0m\n\u001b[0m\u001b[0;32m   2038\u001b[0m         \u001b[1;32mexcept\u001b[0m \u001b[0mStopIteration\u001b[0m\u001b[1;33m:\u001b[0m\u001b[1;33m\u001b[0m\u001b[1;33m\u001b[0m\u001b[0m\n\u001b[0;32m   2039\u001b[0m             \u001b[1;32mif\u001b[0m \u001b[0mself\u001b[0m\u001b[1;33m.\u001b[0m\u001b[0m_first_chunk\u001b[0m\u001b[1;33m:\u001b[0m\u001b[1;33m\u001b[0m\u001b[1;33m\u001b[0m\u001b[0m\n",
      "\u001b[1;32mpandas\\_libs\\parsers.pyx\u001b[0m in \u001b[0;36mpandas._libs.parsers.TextReader.read\u001b[1;34m()\u001b[0m\n",
      "\u001b[1;32mpandas\\_libs\\parsers.pyx\u001b[0m in \u001b[0;36mpandas._libs.parsers.TextReader._read_rows\u001b[1;34m()\u001b[0m\n",
      "\u001b[1;32mpandas\\_libs\\parsers.pyx\u001b[0m in \u001b[0;36mpandas._libs.parsers.TextReader._convert_column_data\u001b[1;34m()\u001b[0m\n",
      "\u001b[1;32mpandas\\_libs\\parsers.pyx\u001b[0m in \u001b[0;36mpandas._libs.parsers.TextReader._convert_tokens\u001b[1;34m()\u001b[0m\n",
      "\u001b[1;32mpandas\\_libs\\parsers.pyx\u001b[0m in \u001b[0;36mpandas._libs.parsers.TextReader._convert_with_dtype\u001b[1;34m()\u001b[0m\n",
      "\u001b[1;32m~\\Anaconda3\\lib\\site-packages\\pandas\\core\\dtypes\\common.py\u001b[0m in \u001b[0;36mis_categorical_dtype\u001b[1;34m(arr_or_dtype)\u001b[0m\n\u001b[0;32m    540\u001b[0m \u001b[1;33m\u001b[0m\u001b[0m\n\u001b[0;32m    541\u001b[0m \u001b[1;33m\u001b[0m\u001b[0m\n\u001b[1;32m--> 542\u001b[1;33m \u001b[1;32mdef\u001b[0m \u001b[0mis_categorical_dtype\u001b[0m\u001b[1;33m(\u001b[0m\u001b[0marr_or_dtype\u001b[0m\u001b[1;33m)\u001b[0m \u001b[1;33m->\u001b[0m \u001b[0mbool\u001b[0m\u001b[1;33m:\u001b[0m\u001b[1;33m\u001b[0m\u001b[1;33m\u001b[0m\u001b[0m\n\u001b[0m\u001b[0;32m    543\u001b[0m     \"\"\"\n\u001b[0;32m    544\u001b[0m     \u001b[0mCheck\u001b[0m \u001b[0mwhether\u001b[0m \u001b[0man\u001b[0m \u001b[0marray\u001b[0m\u001b[1;33m-\u001b[0m\u001b[0mlike\u001b[0m \u001b[1;32mor\u001b[0m \u001b[0mdtype\u001b[0m \u001b[1;32mis\u001b[0m \u001b[0mof\u001b[0m \u001b[0mthe\u001b[0m \u001b[0mCategorical\u001b[0m \u001b[0mdtype\u001b[0m\u001b[1;33m.\u001b[0m\u001b[1;33m\u001b[0m\u001b[1;33m\u001b[0m\u001b[0m\n",
      "\u001b[1;31mKeyboardInterrupt\u001b[0m: "
     ]
    }
   ],
   "source": [
    "if os.path.exists(\"all_twitter_data.csv\"):\n",
    "    covid_twitter_data = pd.read_csv(\"all_twitter_data.csv\", low_memory = False)\n",
    "else: \n",
    "    covid_twitter_data = generate_combined(files_gen)\n",
    "    #save all twitter data in one file\n",
    "    covid_twitter_data.to_csv(\"all_twitter_data.csv\", index = False)\n",
    "\n",
    "covid_twitter_data.info()"
   ]
  },
  {
   "cell_type": "code",
   "execution_count": null,
   "metadata": {},
   "outputs": [],
   "source": [
    "# get number of sampled tweets per day\n",
    "\n",
    "covid_twitter_data[\"timestamp\"] = pd.to_datetime(covid_twitter_data[\"timestamp\"]).map(lambda x: x.date())\n",
    "\n",
    "num = pd.DataFrame(covid_twitter_data[\"timestamp\"].value_counts().sort_index())\n",
    "num[\"date\"] = pd.to_datetime(num.index)\n"
   ]
  },
  {
   "cell_type": "code",
   "execution_count": null,
   "metadata": {
    "colab": {
     "base_uri": "https://localhost:8080/",
     "height": 215
    },
    "id": "LbRr3nbwLJ5D",
    "outputId": "4db80264-a5be-40ce-a234-82788506edc4"
   },
   "outputs": [],
   "source": [
    "# run this only once, once the file is saved it can be loaded\n",
    "def generate_combined(filenames = files_gen):\n",
    "    # Concat the Twitters data into one-table\n",
    "    covid_twitter_data = pd.DataFrame()\n",
    "    for file in files_gen:\n",
    "        dpath = (onlinepath + file).replace(\" \", \"%20\")\n",
    "        print(file)\n",
    "        data = pd.read_csv(dpath)\n",
    "        covid_twitter_data = covid_twitter_data.append(data, ignore_index=True)\n",
    "        covid_twitter_data[\"timestamp\"] = pd.to_datetime(covid_twitter_data[\"timestamp\"])\n",
    "        covid_twitter_data = covid_twitter_data.sort_values(by = [\"timestamp\"])\n",
    "    return covid_twitter_data\n",
    "    "
   ]
  },
  {
   "cell_type": "code",
   "execution_count": null,
   "metadata": {},
   "outputs": [],
   "source": [
    "merged_3_short = merged_3.merge(num, how = \"inner\")\n",
    "\n",
    "merged_3.info()\n",
    "merged_3_short.info()\n",
    "merged_3_short"
   ]
  },
  {
   "cell_type": "code",
   "execution_count": null,
   "metadata": {},
   "outputs": [],
   "source": [
    "melted = merged_3_short[[\"date\", \"Tweets\", \"timestamp\"]].rename(\n",
    "    columns = {\"Tweets\":\"Tweets total\", \"timestamp\":\"Tweets sampled\"}).melt(\"date\")\n",
    "melted[\"value\"] = melted[\"value\"]+ 1\n",
    "melted"
   ]
  },
  {
   "cell_type": "code",
   "execution_count": null,
   "metadata": {},
   "outputs": [],
   "source": [
    "chart = alt.Chart(melted).mark_area(opacity = .6).encode(\n",
    "    y = alt.Y('value',\n",
    "          scale=alt.Scale(type='log'), title = \"Number of Tweets, logscale\", stack = None),\n",
    "    x=\"date:T\",\n",
    "    color=alt.Color('variable', scale=alt.Scale(domain=[\"Tweets total\", \"Tweets sampled\"], range=[twittercol,  \"#0062a2\"]))\n",
    "\n",
    "    ).properties(\n",
    "    width=600,\n",
    "    height=300\n",
    ")\n",
    "\n",
    "\n",
    "nearest = alt.selection(type='single', nearest=True, on='mouseover',\n",
    "                        fields=['date'], empty='none')\n",
    "\n",
    "selectors = alt.Chart(melted).mark_point().encode(\n",
    "    x='date:T',\n",
    "    opacity=alt.value(0),\n",
    ").add_selection(\n",
    "    nearest\n",
    ")\n",
    "\n",
    "points = chart.mark_point().encode(\n",
    "    opacity=alt.condition(nearest, alt.value(1), alt.value(0))\n",
    ")\n",
    "\n",
    "text = chart.mark_text(align='left', dx=5, dy=-5).encode(\n",
    "    text=alt.condition(nearest, \"value:Q\", alt.value(' '))\n",
    ")\n",
    "\n",
    "\n",
    "rules = alt.Chart(melted).mark_rule(color='gray').encode(\n",
    "    x='date:T',\n",
    ").transform_filter(\n",
    "    nearest\n",
    ")\n",
    "\n",
    "alt.layer(chart, selectors, points, rules, text).resolve_scale(\n",
    "    y = 'shared'\n",
    ").properties(\n",
    "    width=600, height=300\n",
    ")"
   ]
  },
  {
   "cell_type": "code",
   "execution_count": null,
   "metadata": {},
   "outputs": [],
   "source": [
    "\n",
    "base = alt.Chart(merged_3_short[[\"date\", \"Tweets\", \"timestamp\"]]).mark_area(\n",
    "    color = twittercol, stroke = twittercol, opacity=1).encode(\n",
    "    alt.Y('Tweets',\n",
    "          scale=alt.Scale(type='log'), title = \"Number of Tweets\"),\n",
    "\n",
    "    x=\"date:T\"\n",
    "    )\n",
    "\n",
    "sampled_tweets = base.mark_area(stroke=twittercol, color = twittercol).encode(\n",
    "    alt.Y('timestamp',\n",
    "          scale=alt.Scale(type='log')),\n",
    "\n",
    "    x=\"date:T\",\n",
    "    )\n",
    "\n",
    "nearest = alt.selection(type='single', nearest=True, on='mouseover',\n",
    "                        fields=['date'], empty='none')\n",
    "\n",
    "selectors = alt.Chart(merged_3_short[[\"date\", \"Tweets\", \"timestamp\"]]).mark_point().encode(\n",
    "    x='date:T',\n",
    "    opacity=alt.value(0),\n",
    ").add_selection(\n",
    "    nearest\n",
    ")\n",
    "\n",
    "\n",
    "points = base.mark_point().encode(\n",
    "    opacity=alt.condition(nearest, alt.value(1), alt.value(0))\n",
    ")\n",
    "\n",
    "points_sampled = sampled_tweets.mark_point().encode(\n",
    "    opacity=alt.condition(nearest, alt.value(1), alt.value(0))\n",
    ")\n",
    "\n",
    "\n",
    "text = base.mark_text(align='left', dx=5, dy=-5).encode(\n",
    "    text=alt.condition(nearest, \"Tweets:Q\", alt.value(' '))\n",
    ")\n",
    "\n",
    "text_sampled = sampled_tweets.mark_text(align='left', dx=5, dy=-5).encode(\n",
    "    text=alt.condition(nearest, \"timestamp:Q\", alt.value(' '))\n",
    ")\n",
    "\n",
    "# Draw a rule at the location of the selection\n",
    "rules = alt.Chart(merged_3_short[[\"date\", \"Tweets\", \"timestamp\"]]).mark_rule(color='gray').encode(\n",
    "    x='date:T',\n",
    ").transform_filter(\n",
    "    nearest\n",
    ")\n",
    "\n",
    "\n",
    "alt.layer(base, sampled_tweets, selectors, points, rules, text, points_sampled, text_sampled).resolve_scale(\n",
    "    y = 'shared'\n",
    ").properties(\n",
    "    width=600, height=300\n",
    ")"
   ]
  },
  {
   "cell_type": "markdown",
   "metadata": {
    "id": "q2M4MvMOLJ5R"
   },
   "source": [
    "# Find keywords in the data\n",
    "\n",
    "keyword_list: global list of keywords we want to search for in the data\n",
    "\n",
    "count_keywords: function to count keywords in a tweet dataframe, best done for each day individually\n"
   ]
  },
  {
   "cell_type": "code",
   "execution_count": null,
   "metadata": {
    "id": "nUbLugSrLJ5S"
   },
   "outputs": [],
   "source": [
    "#use singular word (if plural just adds an \"s\")\n",
    "#for several words use space (eg. \"social distancing\"; \"social_distancing\" and \"socialdistancing\" automatically searched for)\n",
    "#if there are different words with the same meaning that do not contain each other, use \"|\" (eg. \"New York|NY\")\n",
    "#if two words should be in there but not necessarily together, use \".*\" (eg. stay.*home)\n",
    "#if order of two words doesnt matter use \"wash.*hands|hands.*wash\"\n",
    "keyword_list = [\"trump\", \"social distancing\", \"Wuhan\", \"chinese virus\", \"New York\", \"Los Angeles\", \"Chicago\", \"Washington\", \n",
    "               \"mask\", \"economy\", \"health care\", \"fauci\", \"death|deadly|mortality\", \"stay.*home\", \"Flatten the curve\", \n",
    "               \"Outbreak\", \"Epidemic\", \"Pandemic\", \"lockdown\", \"science\", \"China\", \"test\", \"wet market\",\n",
    "               \"travel ban\", \"vaccine\", \"symptoms\", \"wash.*hands\", \"treatment\", \"isolation\", \"panic buying\",\n",
    "               \"toilet paper\"]"
   ]
  },
  {
   "cell_type": "code",
   "execution_count": null,
   "metadata": {
    "id": "6JCYftbfLJ5Z"
   },
   "outputs": [],
   "source": [
    "# keyword counter functions to count from online files\n",
    "def count_keywords(keywords, tweetlist, column = \"text\"):\n",
    "    #function takes a list of keyword and a twitter dataset and counts the number of tweets containing each keyword\n",
    "    #return the keywords and the corresponding tweet counts\n",
    "    #search for words is case insensitive \n",
    "    #if word contains space (social distancing) it also searches for socialdistancing and social_distancing\n",
    "    date = pd.to_datetime(tweetlist[\"timestamp\"][0]).date()\n",
    "    counterdf = pd.DataFrame({'date': [date] })\n",
    "    counterlist = []\n",
    "    for word in keywords:\n",
    "        counter = 0\n",
    "        if \" \" in word:\n",
    "            searchword = word + \"|\" + word.replace(\" \", \"_\") + \"|\" + word.replace(\" \", \"\")\n",
    "        else:\n",
    "            searchword = word\n",
    "        for tweet in tweetlist[column].dropna():\n",
    "            if re.search(searchword, tweet, re.IGNORECASE):\n",
    "                counter = counter + 1\n",
    "        counterdf[word] = counter\n",
    "\n",
    "    return counterdf\n",
    "\n",
    "def count_keywords_complete(path = \"https://raw.githubusercontent.com/xxz-jessica/COVID-19_UCD_Challenge/master/Tweet_Raw_Data/raw_data/\", \n",
    "                            files_gen = files_gen,\n",
    "                            keywords = keyword_list,\n",
    "                            column = \"text\"):\n",
    "    #create dataframe that gives number of tweets containing hashtag for all dates for which data is available\n",
    "    countdata = pd.DataFrame()\n",
    "    for file in files_gen:\n",
    "        dpath = (path + file).replace(\" \", \"%20\")\n",
    "        print(file)\n",
    "        data = pd.read_csv(dpath)\n",
    "        countdata = countdata.append(count_keywords(keywords, data, column))\n",
    "    countdata[\"date\"] = pd.to_datetime(countdata[\"date\"])\n",
    "    countdata = countdata.sort_values(by = [\"date\"])\n",
    "    return countdata\n"
   ]
  },
  {
   "cell_type": "code",
   "execution_count": null,
   "metadata": {},
   "outputs": [],
   "source": [
    "#keyword counter function tocount from big file with tweets from several dates\n",
    "def count_from_all_loaded_data(twitter_data = covid_twitter_data,\n",
    "                              keywords = keyword_list,\n",
    "                              column = \"text\"):\n",
    "    #function to count tweets from large preloaded file with several dates\n",
    "    twitter_data[\"timestamp\"] = pd.to_datetime(twitter_data[\"timestamp\"]).map(lambda x: x.date())\n",
    "    twitter_data = twitter_data.sort_values(by = [\"timestamp\"])\n",
    "\n",
    "    dates = np.unique(twitter_data[\"timestamp\"])\n",
    "    results = pd.DataFrame(np.zeros((len(dates), len(keywords)), dtype = \"int64\"), columns = keywords, index = dates)\n",
    "    \n",
    "    for word in keywords:\n",
    "        print(word)\n",
    "        if \" \" in word:\n",
    "            searchword = word + \"|\" + word.replace(\" \", \"_\") + \"|\" + word.replace(\" \", \"\")\n",
    "        else:\n",
    "            searchword = word\n",
    "\n",
    "        for date in dates:\n",
    "            datemask = (twitter_data['timestamp'] > (date - dt.timedelta(days=1))) & (twitter_data['timestamp'] <= date)\n",
    "            counter = 0\n",
    "            for tweet in twitter_data[datemask][column].dropna():\n",
    "                if re.search(searchword, tweet, re.IGNORECASE):\n",
    "                    counter = counter + 1\n",
    "            results.at[date, word] = counter\n",
    "    results[\"date\"] = results.index\n",
    "    return results\n"
   ]
  },
  {
   "cell_type": "code",
   "execution_count": null,
   "metadata": {
    "colab": {
     "base_uri": "https://localhost:8080/",
     "height": 358
    },
    "id": "D0C4GXZ7LJ5c",
    "outputId": "5f076bc7-8387-41ce-9e8b-e22517b1ccc1",
    "scrolled": false
   },
   "outputs": [],
   "source": [
    "#Select how to count tweets, only run one!!!\n",
    "#If no new keywords were added since last creation of file data\n",
    "#Then no function needs to be run\n",
    "\n",
    "#count the tweets while loading separate files online\n",
    "\"\"\"keyword_data_old = count_keywords_complete(path = \"https://raw.githubusercontent.com/xxz-jessica/COVID-19_UCD_Challenge/master/Tweet_Raw_Data/raw_data/\", \n",
    "                                        files_gen = files_gen,\n",
    "                                        keywords = keyword_list,\n",
    "                                        column = \"text\")\"\"\"\n",
    "\n",
    "#count the tweets from large files with all tweets\n",
    "keyword_data = count_from_all_loaded_data(twitter_data = covid_twitter_data,\n",
    "                                          keywords = keyword_list,\n",
    "                                          column = \"text\")\n",
    "\n",
    "#save keyword data\n",
    "keyword_data.to_csv(\"keyword_counts.csv\", index = False)\n",
    "keyword_data.info()\n"
   ]
  },
  {
   "cell_type": "code",
   "execution_count": 22,
   "metadata": {},
   "outputs": [
    {
     "name": "stdout",
     "output_type": "stream",
     "text": [
      "<class 'pandas.core.frame.DataFrame'>\n",
      "RangeIndex: 80 entries, 0 to 79\n",
      "Data columns (total 32 columns):\n",
      " #   Column                  Non-Null Count  Dtype \n",
      "---  ------                  --------------  ----- \n",
      " 0   trump                   80 non-null     int64 \n",
      " 1   social distancing       80 non-null     int64 \n",
      " 2   Wuhan                   80 non-null     int64 \n",
      " 3   chinese virus           80 non-null     int64 \n",
      " 4   New York                80 non-null     int64 \n",
      " 5   Los Angeles             80 non-null     int64 \n",
      " 6   Chicago                 80 non-null     int64 \n",
      " 7   Washington              80 non-null     int64 \n",
      " 8   mask                    80 non-null     int64 \n",
      " 9   economy                 80 non-null     int64 \n",
      " 10  health care             80 non-null     int64 \n",
      " 11  fauci                   80 non-null     int64 \n",
      " 12  death|deadly|mortality  80 non-null     int64 \n",
      " 13  stay.*home              80 non-null     int64 \n",
      " 14  Flatten the curve       80 non-null     int64 \n",
      " 15  Outbreak                80 non-null     int64 \n",
      " 16  Epidemic                80 non-null     int64 \n",
      " 17  Pandemic                80 non-null     int64 \n",
      " 18  lockdown                80 non-null     int64 \n",
      " 19  science                 80 non-null     int64 \n",
      " 20  China                   80 non-null     int64 \n",
      " 21  test                    80 non-null     int64 \n",
      " 22  wet market              80 non-null     int64 \n",
      " 23  travel ban              80 non-null     int64 \n",
      " 24  vaccine                 80 non-null     int64 \n",
      " 25  symptoms                80 non-null     int64 \n",
      " 26  wash.*hands             80 non-null     int64 \n",
      " 27  treatment               80 non-null     int64 \n",
      " 28  isolation               80 non-null     int64 \n",
      " 29  panic buying            80 non-null     int64 \n",
      " 30  toilet paper            80 non-null     int64 \n",
      " 31  date                    80 non-null     object\n",
      "dtypes: int64(31), object(1)\n",
      "memory usage: 20.1+ KB\n"
     ]
    }
   ],
   "source": [
    "#load keyword data\n",
    "keyword_data = pd.read_csv(r\"C:\\Desktop\\twitter_data_viz\\keyword_counts.csv\")\n",
    "keyword_data.info()"
   ]
  },
  {
   "cell_type": "code",
   "execution_count": 23,
   "metadata": {},
   "outputs": [
    {
     "name": "stdout",
     "output_type": "stream",
     "text": [
      "<class 'pandas.core.frame.DataFrame'>\n",
      "Int64Index: 79 entries, 0 to 78\n",
      "Data columns (total 38 columns):\n",
      " #   Column                  Non-Null Count  Dtype         \n",
      "---  ------                  --------------  -----         \n",
      " 0   trump                   79 non-null     int64         \n",
      " 1   social distancing       79 non-null     int64         \n",
      " 2   Wuhan                   79 non-null     int64         \n",
      " 3   chinese virus           79 non-null     int64         \n",
      " 4   New York                79 non-null     int64         \n",
      " 5   Los Angeles             79 non-null     int64         \n",
      " 6   Chicago                 79 non-null     int64         \n",
      " 7   Washington              79 non-null     int64         \n",
      " 8   mask                    79 non-null     int64         \n",
      " 9   economy                 79 non-null     int64         \n",
      " 10  health care             79 non-null     int64         \n",
      " 11  fauci                   79 non-null     int64         \n",
      " 12  death|deadly|mortality  79 non-null     int64         \n",
      " 13  stay.*home              79 non-null     int64         \n",
      " 14  Flatten the curve       79 non-null     int64         \n",
      " 15  Outbreak                79 non-null     int64         \n",
      " 16  Epidemic                79 non-null     int64         \n",
      " 17  Pandemic                79 non-null     int64         \n",
      " 18  lockdown                79 non-null     int64         \n",
      " 19  science                 79 non-null     int64         \n",
      " 20  China                   79 non-null     int64         \n",
      " 21  test                    79 non-null     int64         \n",
      " 22  wet market              79 non-null     int64         \n",
      " 23  travel ban              79 non-null     int64         \n",
      " 24  vaccine                 79 non-null     int64         \n",
      " 25  symptoms                79 non-null     int64         \n",
      " 26  wash.*hands             79 non-null     int64         \n",
      " 27  treatment               79 non-null     int64         \n",
      " 28  isolation               79 non-null     int64         \n",
      " 29  panic buying            79 non-null     int64         \n",
      " 30  toilet paper            79 non-null     int64         \n",
      " 31  date                    79 non-null     datetime64[ns]\n",
      " 32  Tweets                  79 non-null     int32         \n",
      " 33  total_cases             79 non-null     float64       \n",
      " 34  new_cases               79 non-null     float64       \n",
      " 35  new_deaths              79 non-null     float64       \n",
      " 36  cnn_articles            79 non-null     float64       \n",
      " 37  fox_articles            79 non-null     float64       \n",
      "dtypes: datetime64[ns](1), float64(5), int32(1), int64(31)\n",
      "memory usage: 23.8 KB\n"
     ]
    }
   ],
   "source": [
    "keyword_data[\"date\"] = pd.to_datetime(keyword_data[\"date\"])\n",
    "key_merged = keyword_data.merge(merged_3)\n",
    "key_merged.info()"
   ]
  },
  {
   "cell_type": "markdown",
   "metadata": {},
   "source": [
    "# Count combined appearances of keywords"
   ]
  },
  {
   "cell_type": "code",
   "execution_count": null,
   "metadata": {},
   "outputs": [],
   "source": [
    "def count_keyword_combinations(keywords = keyword_list, tweetlist = covid_twitter_data):\n",
    "    #function to count which combinations of keywords appear in the tweets\n",
    "    results = pd.DataFrame(np.zeros((len(keywords), len(keywords)), dtype = \"int32\"), columns = keywords, index = keywords)\n",
    "    total_counts = pd.Series(np.zeros(len(keywords), dtype = \"int32\"), index = keywords)\n",
    "    for word in keywords:\n",
    "        print(word)\n",
    "        if \" \" in word:\n",
    "            searchword = word + \"|\" + word.replace(\" \", \"_\") + \"|\" + word.replace(\" \", \"\")\n",
    "        else:\n",
    "            searchword = word\n",
    "        for tweet in tweetlist[\"text\"].dropna():\n",
    "            if re.search(searchword, tweet, re.IGNORECASE):\n",
    "                total_counts[word] = total_counts[word] + 1\n",
    "                for word2 in keywords:\n",
    "                    if word == word2:\n",
    "                        continue\n",
    "                    if \" \" in word2:\n",
    "                        searchword2 = word2 + \"|\" + word2.replace(\" \", \"_\") + \"|\" + word2.replace(\" \", \"\")\n",
    "                    else:\n",
    "                        searchword2 = word2\n",
    "                    if re.search(searchword2, tweet, re.IGNORECASE):\n",
    "                        results.at[word, word2] = results.at[word, word2] + 1\n",
    "                        results.at[word2, word] = results.at[word2, word] + 1\n",
    "    return results, total_counts"
   ]
  },
  {
   "cell_type": "code",
   "execution_count": null,
   "metadata": {},
   "outputs": [],
   "source": [
    "# run and save combinations only if since last creation keyword list has been changed\n",
    "key_combinations, total_counts = count_keyword_combinations()  \n",
    "\n",
    "key_combinations.to_csv(\"keyword_combinations.csv\")\n",
    "total_counts.to_csv(\"total_tweets_keywords.csv\")"
   ]
  },
  {
   "cell_type": "code",
   "execution_count": null,
   "metadata": {},
   "outputs": [],
   "source": [
    "# load keyword combinations\n",
    "key_combinations = pd.read_csv(r\"C:\\Desktop\\twitter_data_viz\\keyword_combinations.csv\", index_col = 0)\n",
    "total_counts = pd.read_csv(r\"C:\\Desktop\\twitter_data_viz\\total_tweets_keywords.csv\", index_col = 0, squeeze = True)\n"
   ]
  },
  {
   "cell_type": "code",
   "execution_count": null,
   "metadata": {},
   "outputs": [],
   "source": [
    "G = nx.from_pandas_adjacency(key_combinations)\n",
    "\n",
    "[elem[2] for elem in list(G.edges.data(\"weight\"))]\n",
    "\n",
    "for n in G.nodes():\n",
    "    G.nodes[n][\"name\"] = str(n)\n",
    "    G.nodes[n][\"total tweets\"] = total_counts[str(n)]"
   ]
  },
  {
   "cell_type": "markdown",
   "metadata": {},
   "source": [
    "# Visualize combined appearances of keywords"
   ]
  },
  {
   "cell_type": "code",
   "execution_count": null,
   "metadata": {},
   "outputs": [],
   "source": [
    "weights = [elem[2]/2000 for elem in list(G.edges.data(\"weight\"))]\n",
    "pos = nx.spring_layout(G, iterations=100, k= 35)\n",
    "node_labels = G.nodes()"
   ]
  },
  {
   "cell_type": "code",
   "execution_count": null,
   "metadata": {},
   "outputs": [],
   "source": [
    "# interactive visualization using netgraph\n",
    "import matplotlib.pyplot as plt\n",
    "import matplotlib\n",
    "import netgraph\n",
    "from sklearn import preprocessing\n",
    "import mpld3\n",
    "%matplotlib"
   ]
  },
  {
   "cell_type": "code",
   "execution_count": null,
   "metadata": {},
   "outputs": [],
   "source": [
    "total_counts = total_counts.astype(\"float\")\n",
    "\n",
    "total_values = list(total_counts)\n",
    "total_vals = [np.log(elem)-5 for elem in total_values]\n",
    "total_vals = [((elem - min(total_vals))/(max(total_vals)-min(total_vals)))*8 for elem in total_vals]\n",
    "\n",
    "total_counts_new = pd.Series(total_vals, index = total_counts.index)\n",
    "counts_dict = total_counts_new.to_dict()\n",
    "\n",
    "\n",
    "count_names = pd.Series(total_counts.index, index = total_counts.index)\n",
    "names_dict = count_names.to_dict()\n",
    "\n",
    "edges_list = [elem[2]for elem in list(G.edges.data(\"weight\"))]\n",
    "edges_weight = pd.Series([((elem - min(edges_list))/(max(edges_list)-min(edges_list)))*8 for elem in edges_list], index = list(G.edges()))\n",
    "edges_dict = edges_weight.to_dict()"
   ]
  },
  {
   "cell_type": "code",
   "execution_count": null,
   "metadata": {},
   "outputs": [],
   "source": [
    "#non interactive version\n",
    "matplotlib.use('Qt5Agg')\n",
    "\n",
    "graph, ax = plt.subplots(figsize=(18,18))\n",
    "\n",
    "nodes = nx.draw_networkx_nodes(G, pos, node_color = twittercol, alpha = 0.6, node_size= [elem/50 for elem in list(total_counts)])\n",
    "edges = nx.draw_networkx_edges(G,pos,\n",
    "                    width=weights, edge_color = \"grey\")\n",
    "labels = nx.draw_networkx_labels(G, pos, font_size=12, font_weight= \"bold\")\n",
    "\n",
    "ax.text(\n",
    "    0.70,\n",
    "    0.10,\n",
    "    \"edge width = # times the keywords appeared together\",\n",
    "    horizontalalignment=\"center\",\n",
    "    transform=ax.transAxes,\n",
    "    color = \"grey\",\n",
    "    fontsize = 12\n",
    ")\n",
    "ax.text(\n",
    "    0.70,\n",
    "    0.06,\n",
    "    \"node size = # times the keyword appeared in total\",\n",
    "    horizontalalignment=\"center\",\n",
    "    transform=ax.transAxes,\n",
    "    color = twittercol,\n",
    "    fontsize = 12\n",
    ")\n",
    "\n",
    "plt.show()"
   ]
  },
  {
   "cell_type": "code",
   "execution_count": null,
   "metadata": {
    "scrolled": true
   },
   "outputs": [],
   "source": [
    "matplotlib.use('Qt5Agg')\n",
    "graph, ax = plt.subplots(figsize=(16,12))\n",
    "ax.set(xlim=[-1.2, 1.2], ylim=[-1.2, 1.2])\n",
    "\n",
    "\n",
    "plot_instance = netgraph.InteractiveGraph(graph = G,\n",
    "             node_positions = pos,\n",
    "             node_color = twittercol,\n",
    "             node_edge_color = twittercol,\n",
    "             node_size = counts_dict,\n",
    "             node_labels = names_dict, \n",
    "             node_label_font_size=12,\n",
    "             node_label_font_color='k',\n",
    "             node_label_font_family='sans-serif',\n",
    "             node_label_font_weight='normal',\n",
    "             node_label_font_alpha=1.,\n",
    "             node_label_bbox=dict(alpha=0.),\n",
    "             node_label_horizontalalignment='center',\n",
    "             node_label_verticalalignment='center',\n",
    "             node_label_offset=(0., 0.),\n",
    "             clip_on=False,\n",
    "             ax=None,\n",
    "             edge_width = edges_dict,\n",
    "             edge_color = \"grey\",\n",
    "             draw_arrows = False,\n",
    "             edge_alpha = .8\n",
    "            )\n",
    "\n",
    "ax.text(\n",
    "    0.70,\n",
    "    0.10,\n",
    "    \"edge width = # times the keywords appeared together\",\n",
    "    horizontalalignment=\"center\",\n",
    "    transform=ax.transAxes,\n",
    "    color = \"grey\",\n",
    "    fontsize = 12\n",
    ")\n",
    "ax.text(\n",
    "    0.70,\n",
    "    0.06,\n",
    "    \"node size = # times the keyword appeared in total\",\n",
    "    horizontalalignment=\"center\",\n",
    "    transform=ax.transAxes,\n",
    "    color = twittercol,\n",
    "    fontsize = 12\n",
    ")"
   ]
  },
  {
   "cell_type": "code",
   "execution_count": null,
   "metadata": {},
   "outputs": [],
   "source": [
    "# attempt at using nx_altair to make it interactive\n",
    "# isnt really working, because nx_altair is SHIT. Cant even draw labels\n",
    "\n",
    "G = nx.from_pandas_adjacency(key_combinations)\n",
    "pos = nx.spring_layout(G, iterations=100)\n",
    "weights = [elem[2]/1000 for elem in list(G.edges.data(\"weight\"))]\n",
    "print(pos)\n",
    "#nx.set_node_attributes(G, total_counts)\n",
    "\"\"\"\n",
    "nxa.draw_networkx(\n",
    "    G, pos=pos,\n",
    "    \n",
    "    #cmap='viridis',\n",
    "    width='weight',\n",
    "    edge_color=\"black\",\n",
    "    node_color = twittercol,\n",
    "    node_tooltip = [\"name\", \"total tweets\"]\n",
    ")\"\"\"\n",
    "#viz"
   ]
  },
  {
   "cell_type": "markdown",
   "metadata": {},
   "source": [
    "# Visualize keywords over time\n",
    "\n",
    "collect possible visualizations over time"
   ]
  },
  {
   "cell_type": "code",
   "execution_count": null,
   "metadata": {},
   "outputs": [],
   "source": [
    "keyword_data"
   ]
  },
  {
   "cell_type": "code",
   "execution_count": null,
   "metadata": {},
   "outputs": [],
   "source": [
    "#rename two columns (not sure why that is necessary, but :-|)\n",
    "key_merged.rename(columns = {'stay.*home': \"stay home\", 'wash.*hands': \"wash hands\"})\n",
    "\n",
    "keywordz = list(keyword_data.columns)\n",
    "keywordz.remove('stay.*home')\n",
    "keywordz.remove('wash.*hands')\n",
    "keywordz.append(\"stay home\")\n",
    "keywordz.append(\"wash hands\")\n"
   ]
  },
  {
   "cell_type": "code",
   "execution_count": null,
   "metadata": {},
   "outputs": [],
   "source": [
    "columns1 = list(keywordz)[:-1]\n",
    "columns2 = list(merged_3.columns)[1:]\n",
    "select_box1 = alt.binding_select(options=columns1, name='Keyword')\n",
    "sel1 = alt.selection_single(fields=['column'], bind=select_box1, init={'column': 'trump'})\n",
    "select_box2 = alt.binding_select(options=columns2, name='Compare to value')\n",
    "sel2 = alt.selection_single(fields=['column'], bind=select_box2, init={'column': 'new_cases'})\n"
   ]
  },
  {
   "cell_type": "code",
   "execution_count": null,
   "metadata": {},
   "outputs": [],
   "source": [
    "base = alt.Chart(key_merged).encode(\n",
    "    alt.X('date:T', axis=alt.Axis(title=\"Date\"))\n",
    ").properties(\n",
    "    width=500,\n",
    "    height=200\n",
    ")\n",
    "\n",
    "line_tweets = base.mark_line(stroke='#1da1f2', interpolate='monotone').encode(\n",
    "    alt.Y('Tweets',\n",
    "          axis=alt.Axis(title='Number of tweets', titleColor='#1da1f2')\n",
    "         ))\n",
    "\n",
    "\n",
    "line_one = base.transform_fold(\n",
    "    columns1,\n",
    "    as_=['column', 'value']\n",
    ").transform_filter(\n",
    "    sel1\n",
    ").mark_line( interpolate='monotone', stroke='#eb34eb').encode(\n",
    "    alt.Y('value:Q',\n",
    "          axis=alt.Axis(title=\"Keyword appearances\", titleColor='#eb34eb'))\n",
    ").add_selection(\n",
    "    sel1\n",
    ")\n",
    "\n",
    "line_two = base.transform_fold(\n",
    "    columns2,\n",
    "    as_=['column', 'value']\n",
    ").transform_filter(\n",
    "    sel2\n",
    ").mark_line( interpolate='monotone', stroke='#1da1f2').encode(\n",
    "    alt.Y('value:Q',\n",
    "          axis=alt.Axis(title=\"Data value\", titleColor='#1da1f2'))\n",
    ").add_selection(\n",
    "    sel2\n",
    ")\n",
    "\n",
    "alt.layer(line_one, line_two).resolve_scale(\n",
    "    y = 'independent'\n",
    ")"
   ]
  },
  {
   "cell_type": "markdown",
   "metadata": {},
   "source": [
    "# Visualize Keywords together"
   ]
  },
  {
   "cell_type": "code",
   "execution_count": 94,
   "metadata": {},
   "outputs": [
    {
     "data": {
      "text/html": [
       "<div>\n",
       "<style scoped>\n",
       "    .dataframe tbody tr th:only-of-type {\n",
       "        vertical-align: middle;\n",
       "    }\n",
       "\n",
       "    .dataframe tbody tr th {\n",
       "        vertical-align: top;\n",
       "    }\n",
       "\n",
       "    .dataframe thead th {\n",
       "        text-align: right;\n",
       "    }\n",
       "</style>\n",
       "<table border=\"1\" class=\"dataframe\">\n",
       "  <thead>\n",
       "    <tr style=\"text-align: right;\">\n",
       "      <th></th>\n",
       "      <th>trump</th>\n",
       "      <th>social distancing</th>\n",
       "      <th>Wuhan</th>\n",
       "      <th>chinese virus</th>\n",
       "      <th>New York</th>\n",
       "      <th>Los Angeles</th>\n",
       "      <th>Chicago</th>\n",
       "      <th>Washington</th>\n",
       "      <th>mask</th>\n",
       "      <th>economy</th>\n",
       "      <th>...</th>\n",
       "      <th>wet market</th>\n",
       "      <th>travel ban</th>\n",
       "      <th>vaccine</th>\n",
       "      <th>symptoms</th>\n",
       "      <th>wash.*hands</th>\n",
       "      <th>treatment</th>\n",
       "      <th>isolation</th>\n",
       "      <th>panic buying</th>\n",
       "      <th>toilet paper</th>\n",
       "      <th>date</th>\n",
       "    </tr>\n",
       "  </thead>\n",
       "  <tbody>\n",
       "    <tr>\n",
       "      <th>0</th>\n",
       "      <td>36</td>\n",
       "      <td>0</td>\n",
       "      <td>1310</td>\n",
       "      <td>18</td>\n",
       "      <td>56</td>\n",
       "      <td>16</td>\n",
       "      <td>3</td>\n",
       "      <td>16</td>\n",
       "      <td>41</td>\n",
       "      <td>11</td>\n",
       "      <td>...</td>\n",
       "      <td>3</td>\n",
       "      <td>2</td>\n",
       "      <td>24</td>\n",
       "      <td>188</td>\n",
       "      <td>19</td>\n",
       "      <td>33</td>\n",
       "      <td>11</td>\n",
       "      <td>0</td>\n",
       "      <td>0</td>\n",
       "      <td>2020-01-20</td>\n",
       "    </tr>\n",
       "    <tr>\n",
       "      <th>1</th>\n",
       "      <td>151</td>\n",
       "      <td>0</td>\n",
       "      <td>2138</td>\n",
       "      <td>12</td>\n",
       "      <td>91</td>\n",
       "      <td>17</td>\n",
       "      <td>53</td>\n",
       "      <td>1150</td>\n",
       "      <td>60</td>\n",
       "      <td>10</td>\n",
       "      <td>...</td>\n",
       "      <td>2</td>\n",
       "      <td>10</td>\n",
       "      <td>78</td>\n",
       "      <td>118</td>\n",
       "      <td>57</td>\n",
       "      <td>34</td>\n",
       "      <td>25</td>\n",
       "      <td>0</td>\n",
       "      <td>1</td>\n",
       "      <td>2020-01-21</td>\n",
       "    </tr>\n",
       "    <tr>\n",
       "      <th>2</th>\n",
       "      <td>153</td>\n",
       "      <td>0</td>\n",
       "      <td>1989</td>\n",
       "      <td>1</td>\n",
       "      <td>17</td>\n",
       "      <td>3</td>\n",
       "      <td>7</td>\n",
       "      <td>105</td>\n",
       "      <td>70</td>\n",
       "      <td>6</td>\n",
       "      <td>...</td>\n",
       "      <td>3</td>\n",
       "      <td>38</td>\n",
       "      <td>78</td>\n",
       "      <td>75</td>\n",
       "      <td>17</td>\n",
       "      <td>17</td>\n",
       "      <td>6</td>\n",
       "      <td>0</td>\n",
       "      <td>0</td>\n",
       "      <td>2020-01-22</td>\n",
       "    </tr>\n",
       "    <tr>\n",
       "      <th>3</th>\n",
       "      <td>128</td>\n",
       "      <td>0</td>\n",
       "      <td>1536</td>\n",
       "      <td>0</td>\n",
       "      <td>25</td>\n",
       "      <td>68</td>\n",
       "      <td>5</td>\n",
       "      <td>66</td>\n",
       "      <td>128</td>\n",
       "      <td>42</td>\n",
       "      <td>...</td>\n",
       "      <td>14</td>\n",
       "      <td>30</td>\n",
       "      <td>130</td>\n",
       "      <td>140</td>\n",
       "      <td>34</td>\n",
       "      <td>33</td>\n",
       "      <td>6</td>\n",
       "      <td>0</td>\n",
       "      <td>0</td>\n",
       "      <td>2020-01-23</td>\n",
       "    </tr>\n",
       "    <tr>\n",
       "      <th>4</th>\n",
       "      <td>194</td>\n",
       "      <td>0</td>\n",
       "      <td>1305</td>\n",
       "      <td>3</td>\n",
       "      <td>65</td>\n",
       "      <td>1</td>\n",
       "      <td>211</td>\n",
       "      <td>90</td>\n",
       "      <td>98</td>\n",
       "      <td>5</td>\n",
       "      <td>...</td>\n",
       "      <td>8</td>\n",
       "      <td>33</td>\n",
       "      <td>80</td>\n",
       "      <td>111</td>\n",
       "      <td>29</td>\n",
       "      <td>18</td>\n",
       "      <td>32</td>\n",
       "      <td>0</td>\n",
       "      <td>0</td>\n",
       "      <td>2020-01-24</td>\n",
       "    </tr>\n",
       "  </tbody>\n",
       "</table>\n",
       "<p>5 rows × 32 columns</p>\n",
       "</div>"
      ],
      "text/plain": [
       "   trump  social distancing  Wuhan  chinese virus  New York  Los Angeles  \\\n",
       "0     36                  0   1310             18        56           16   \n",
       "1    151                  0   2138             12        91           17   \n",
       "2    153                  0   1989              1        17            3   \n",
       "3    128                  0   1536              0        25           68   \n",
       "4    194                  0   1305              3        65            1   \n",
       "\n",
       "   Chicago  Washington  mask  economy  ...  wet market  travel ban  vaccine  \\\n",
       "0        3          16    41       11  ...           3           2       24   \n",
       "1       53        1150    60       10  ...           2          10       78   \n",
       "2        7         105    70        6  ...           3          38       78   \n",
       "3        5          66   128       42  ...          14          30      130   \n",
       "4      211          90    98        5  ...           8          33       80   \n",
       "\n",
       "   symptoms  wash.*hands  treatment  isolation  panic buying  toilet paper  \\\n",
       "0       188           19         33         11             0             0   \n",
       "1       118           57         34         25             0             1   \n",
       "2        75           17         17          6             0             0   \n",
       "3       140           34         33          6             0             0   \n",
       "4       111           29         18         32             0             0   \n",
       "\n",
       "        date  \n",
       "0 2020-01-20  \n",
       "1 2020-01-21  \n",
       "2 2020-01-22  \n",
       "3 2020-01-23  \n",
       "4 2020-01-24  \n",
       "\n",
       "[5 rows x 32 columns]"
      ]
     },
     "execution_count": 94,
     "metadata": {},
     "output_type": "execute_result"
    }
   ],
   "source": [
    "#keyword_data.head()"
   ]
  },
  {
   "cell_type": "markdown",
   "metadata": {},
   "source": [
    "## First keyword group"
   ]
  },
  {
   "cell_type": "code",
   "execution_count": 95,
   "metadata": {},
   "outputs": [],
   "source": [
    "First_Group = keyword_data[['panic buying', 'toilet paper', 'lockdown', 'date']]"
   ]
  },
  {
   "cell_type": "code",
   "execution_count": 96,
   "metadata": {},
   "outputs": [
    {
     "name": "stdout",
     "output_type": "stream",
     "text": [
      "<class 'pandas.core.frame.DataFrame'>\n",
      "RangeIndex: 240 entries, 0 to 239\n",
      "Data columns (total 3 columns):\n",
      " #   Column    Non-Null Count  Dtype         \n",
      "---  ------    --------------  -----         \n",
      " 0   date      240 non-null    datetime64[ns]\n",
      " 1   variable  240 non-null    object        \n",
      " 2   value     240 non-null    int64         \n",
      "dtypes: datetime64[ns](1), int64(1), object(1)\n",
      "memory usage: 5.8+ KB\n"
     ]
    }
   ],
   "source": [
    "First_Group_m= First_Group.melt('date')\n",
    "First_Group_m.info()"
   ]
  },
  {
   "cell_type": "code",
   "execution_count": 98,
   "metadata": {},
   "outputs": [
    {
     "data": {
      "text/html": [
       "\n",
       "<div id=\"altair-viz-cba442d1c57d44ebb5a5f41ea75673ef\"></div>\n",
       "<script type=\"text/javascript\">\n",
       "  (function(spec, embedOpt){\n",
       "    let outputDiv = document.currentScript.previousElementSibling;\n",
       "    if (outputDiv.id !== \"altair-viz-cba442d1c57d44ebb5a5f41ea75673ef\") {\n",
       "      outputDiv = document.getElementById(\"altair-viz-cba442d1c57d44ebb5a5f41ea75673ef\");\n",
       "    }\n",
       "    const paths = {\n",
       "      \"vega\": \"https://cdn.jsdelivr.net/npm//vega@5?noext\",\n",
       "      \"vega-lib\": \"https://cdn.jsdelivr.net/npm//vega-lib?noext\",\n",
       "      \"vega-lite\": \"https://cdn.jsdelivr.net/npm//vega-lite@4.8.1?noext\",\n",
       "      \"vega-embed\": \"https://cdn.jsdelivr.net/npm//vega-embed@6?noext\",\n",
       "    };\n",
       "\n",
       "    function loadScript(lib) {\n",
       "      return new Promise(function(resolve, reject) {\n",
       "        var s = document.createElement('script');\n",
       "        s.src = paths[lib];\n",
       "        s.async = true;\n",
       "        s.onload = () => resolve(paths[lib]);\n",
       "        s.onerror = () => reject(`Error loading script: ${paths[lib]}`);\n",
       "        document.getElementsByTagName(\"head\")[0].appendChild(s);\n",
       "      });\n",
       "    }\n",
       "\n",
       "    function showError(err) {\n",
       "      outputDiv.innerHTML = `<div class=\"error\" style=\"color:red;\">${err}</div>`;\n",
       "      throw err;\n",
       "    }\n",
       "\n",
       "    function displayChart(vegaEmbed) {\n",
       "      vegaEmbed(outputDiv, spec, embedOpt)\n",
       "        .catch(err => showError(`Javascript Error: ${err.message}<br>This usually means there's a typo in your chart specification. See the javascript console for the full traceback.`));\n",
       "    }\n",
       "\n",
       "    if(typeof define === \"function\" && define.amd) {\n",
       "      requirejs.config({paths});\n",
       "      require([\"vega-embed\"], displayChart, err => showError(`Error loading script: ${err.message}`));\n",
       "    } else if (typeof vegaEmbed === \"function\") {\n",
       "      displayChart(vegaEmbed);\n",
       "    } else {\n",
       "      loadScript(\"vega\")\n",
       "        .then(() => loadScript(\"vega-lite\"))\n",
       "        .then(() => loadScript(\"vega-embed\"))\n",
       "        .catch(showError)\n",
       "        .then(() => displayChart(vegaEmbed));\n",
       "    }\n",
       "  })({\"config\": {\"view\": {\"continuousWidth\": 400, \"continuousHeight\": 300}}, \"layer\": [{\"mark\": \"circle\", \"encoding\": {\"color\": {\"type\": \"nominal\", \"field\": \"variable\"}, \"opacity\": {\"value\": 0}, \"x\": {\"type\": \"temporal\", \"axis\": {\"format\": \"%b %Y\", \"title\": \"DATE\"}, \"field\": \"date\"}, \"y\": {\"type\": \"quantitative\", \"field\": \"value\"}}, \"selection\": {\"selector029\": {\"type\": \"single\", \"on\": \"mouseover\", \"fields\": [\"variable\"], \"nearest\": true}}, \"width\": 600}, {\"mark\": \"line\", \"encoding\": {\"color\": {\"type\": \"nominal\", \"field\": \"variable\"}, \"size\": {\"condition\": {\"value\": 1, \"selection\": {\"not\": \"selector029\"}}, \"value\": 3}, \"x\": {\"type\": \"temporal\", \"axis\": {\"format\": \"%b %Y\", \"title\": \"DATE\"}, \"field\": \"date\"}, \"y\": {\"type\": \"quantitative\", \"field\": \"value\"}}}], \"data\": {\"name\": \"data-91ff41319a3515a5b3478868427bcd5d\"}, \"$schema\": \"https://vega.github.io/schema/vega-lite/v4.8.1.json\", \"datasets\": {\"data-91ff41319a3515a5b3478868427bcd5d\": [{\"date\": \"2020-01-20T00:00:00\", \"variable\": \"panic buying\", \"value\": 0}, {\"date\": \"2020-01-21T00:00:00\", \"variable\": \"panic buying\", \"value\": 0}, {\"date\": \"2020-01-22T00:00:00\", \"variable\": \"panic buying\", \"value\": 0}, {\"date\": \"2020-01-23T00:00:00\", \"variable\": \"panic buying\", \"value\": 0}, {\"date\": \"2020-01-24T00:00:00\", \"variable\": \"panic buying\", \"value\": 0}, {\"date\": \"2020-01-25T00:00:00\", \"variable\": \"panic buying\", \"value\": 0}, {\"date\": \"2020-01-26T00:00:00\", \"variable\": \"panic buying\", \"value\": 1}, {\"date\": \"2020-01-27T00:00:00\", \"variable\": \"panic buying\", \"value\": 1}, {\"date\": \"2020-01-28T00:00:00\", \"variable\": \"panic buying\", \"value\": 0}, {\"date\": \"2020-01-29T00:00:00\", \"variable\": \"panic buying\", \"value\": 0}, {\"date\": \"2020-01-30T00:00:00\", \"variable\": \"panic buying\", \"value\": 0}, {\"date\": \"2020-01-31T00:00:00\", \"variable\": \"panic buying\", \"value\": 0}, {\"date\": \"2020-02-01T00:00:00\", \"variable\": \"panic buying\", \"value\": 4}, {\"date\": \"2020-02-02T00:00:00\", \"variable\": \"panic buying\", \"value\": 3}, {\"date\": \"2020-02-03T00:00:00\", \"variable\": \"panic buying\", \"value\": 0}, {\"date\": \"2020-02-04T00:00:00\", \"variable\": \"panic buying\", \"value\": 0}, {\"date\": \"2020-02-05T00:00:00\", \"variable\": \"panic buying\", \"value\": 1}, {\"date\": \"2020-02-06T00:00:00\", \"variable\": \"panic buying\", \"value\": 6}, {\"date\": \"2020-02-07T00:00:00\", \"variable\": \"panic buying\", \"value\": 2}, {\"date\": \"2020-02-08T00:00:00\", \"variable\": \"panic buying\", \"value\": 4}, {\"date\": \"2020-02-09T00:00:00\", \"variable\": \"panic buying\", \"value\": 3}, {\"date\": \"2020-02-10T00:00:00\", \"variable\": \"panic buying\", \"value\": 1}, {\"date\": \"2020-02-11T00:00:00\", \"variable\": \"panic buying\", \"value\": 2}, {\"date\": \"2020-02-12T00:00:00\", \"variable\": \"panic buying\", \"value\": 2}, {\"date\": \"2020-02-13T00:00:00\", \"variable\": \"panic buying\", \"value\": 0}, {\"date\": \"2020-02-14T00:00:00\", \"variable\": \"panic buying\", \"value\": 1}, {\"date\": \"2020-02-15T00:00:00\", \"variable\": \"panic buying\", \"value\": 0}, {\"date\": \"2020-02-16T00:00:00\", \"variable\": \"panic buying\", \"value\": 0}, {\"date\": \"2020-02-17T00:00:00\", \"variable\": \"panic buying\", \"value\": 1}, {\"date\": \"2020-02-18T00:00:00\", \"variable\": \"panic buying\", \"value\": 1}, {\"date\": \"2020-02-19T00:00:00\", \"variable\": \"panic buying\", \"value\": 0}, {\"date\": \"2020-02-20T00:00:00\", \"variable\": \"panic buying\", \"value\": 1}, {\"date\": \"2020-02-21T00:00:00\", \"variable\": \"panic buying\", \"value\": 0}, {\"date\": \"2020-02-22T00:00:00\", \"variable\": \"panic buying\", \"value\": 1}, {\"date\": \"2020-02-23T00:00:00\", \"variable\": \"panic buying\", \"value\": 6}, {\"date\": \"2020-02-24T00:00:00\", \"variable\": \"panic buying\", \"value\": 13}, {\"date\": \"2020-02-25T00:00:00\", \"variable\": \"panic buying\", \"value\": 3}, {\"date\": \"2020-02-26T00:00:00\", \"variable\": \"panic buying\", \"value\": 0}, {\"date\": \"2020-02-27T00:00:00\", \"variable\": \"panic buying\", \"value\": 2}, {\"date\": \"2020-02-28T00:00:00\", \"variable\": \"panic buying\", \"value\": 7}, {\"date\": \"2020-02-29T00:00:00\", \"variable\": \"panic buying\", \"value\": 9}, {\"date\": \"2020-03-01T00:00:00\", \"variable\": \"panic buying\", \"value\": 10}, {\"date\": \"2020-03-02T00:00:00\", \"variable\": \"panic buying\", \"value\": 25}, {\"date\": \"2020-03-03T00:00:00\", \"variable\": \"panic buying\", \"value\": 18}, {\"date\": \"2020-03-04T00:00:00\", \"variable\": \"panic buying\", \"value\": 19}, {\"date\": \"2020-03-05T00:00:00\", \"variable\": \"panic buying\", \"value\": 7}, {\"date\": \"2020-03-06T00:00:00\", \"variable\": \"panic buying\", \"value\": 13}, {\"date\": \"2020-03-07T00:00:00\", \"variable\": \"panic buying\", \"value\": 48}, {\"date\": \"2020-03-08T00:00:00\", \"variable\": \"panic buying\", \"value\": 7}, {\"date\": \"2020-03-09T00:00:00\", \"variable\": \"panic buying\", \"value\": 31}, {\"date\": \"2020-03-10T00:00:00\", \"variable\": \"panic buying\", \"value\": 13}, {\"date\": \"2020-03-11T00:00:00\", \"variable\": \"panic buying\", \"value\": 14}, {\"date\": \"2020-03-12T00:00:00\", \"variable\": \"panic buying\", \"value\": 13}, {\"date\": \"2020-03-13T00:00:00\", \"variable\": \"panic buying\", \"value\": 46}, {\"date\": \"2020-03-14T00:00:00\", \"variable\": \"panic buying\", \"value\": 36}, {\"date\": \"2020-03-15T00:00:00\", \"variable\": \"panic buying\", \"value\": 11}, {\"date\": \"2020-03-16T00:00:00\", \"variable\": \"panic buying\", \"value\": 15}, {\"date\": \"2020-03-17T00:00:00\", \"variable\": \"panic buying\", \"value\": 15}, {\"date\": \"2020-03-18T00:00:00\", \"variable\": \"panic buying\", \"value\": 16}, {\"date\": \"2020-03-19T00:00:00\", \"variable\": \"panic buying\", \"value\": 11}, {\"date\": \"2020-03-20T00:00:00\", \"variable\": \"panic buying\", \"value\": 14}, {\"date\": \"2020-03-21T00:00:00\", \"variable\": \"panic buying\", \"value\": 7}, {\"date\": \"2020-03-22T00:00:00\", \"variable\": \"panic buying\", \"value\": 10}, {\"date\": \"2020-03-23T00:00:00\", \"variable\": \"panic buying\", \"value\": 3}, {\"date\": \"2020-03-24T00:00:00\", \"variable\": \"panic buying\", \"value\": 1}, {\"date\": \"2020-03-25T00:00:00\", \"variable\": \"panic buying\", \"value\": 2}, {\"date\": \"2020-03-26T00:00:00\", \"variable\": \"panic buying\", \"value\": 4}, {\"date\": \"2020-03-27T00:00:00\", \"variable\": \"panic buying\", \"value\": 1}, {\"date\": \"2020-03-28T00:00:00\", \"variable\": \"panic buying\", \"value\": 3}, {\"date\": \"2020-03-29T00:00:00\", \"variable\": \"panic buying\", \"value\": 2}, {\"date\": \"2020-03-30T00:00:00\", \"variable\": \"panic buying\", \"value\": 3}, {\"date\": \"2020-03-31T00:00:00\", \"variable\": \"panic buying\", \"value\": 2}, {\"date\": \"2020-04-01T00:00:00\", \"variable\": \"panic buying\", \"value\": 1}, {\"date\": \"2020-04-02T00:00:00\", \"variable\": \"panic buying\", \"value\": 2}, {\"date\": \"2020-04-03T00:00:00\", \"variable\": \"panic buying\", \"value\": 1}, {\"date\": \"2020-04-04T00:00:00\", \"variable\": \"panic buying\", \"value\": 2}, {\"date\": \"2020-04-05T00:00:00\", \"variable\": \"panic buying\", \"value\": 0}, {\"date\": \"2020-04-06T00:00:00\", \"variable\": \"panic buying\", \"value\": 4}, {\"date\": \"2020-04-07T00:00:00\", \"variable\": \"panic buying\", \"value\": 2}, {\"date\": \"2020-04-08T00:00:00\", \"variable\": \"panic buying\", \"value\": 1}, {\"date\": \"2020-01-20T00:00:00\", \"variable\": \"toilet paper\", \"value\": 0}, {\"date\": \"2020-01-21T00:00:00\", \"variable\": \"toilet paper\", \"value\": 1}, {\"date\": \"2020-01-22T00:00:00\", \"variable\": \"toilet paper\", \"value\": 0}, {\"date\": \"2020-01-23T00:00:00\", \"variable\": \"toilet paper\", \"value\": 0}, {\"date\": \"2020-01-24T00:00:00\", \"variable\": \"toilet paper\", \"value\": 0}, {\"date\": \"2020-01-25T00:00:00\", \"variable\": \"toilet paper\", \"value\": 0}, {\"date\": \"2020-01-26T00:00:00\", \"variable\": \"toilet paper\", \"value\": 0}, {\"date\": \"2020-01-27T00:00:00\", \"variable\": \"toilet paper\", \"value\": 0}, {\"date\": \"2020-01-28T00:00:00\", \"variable\": \"toilet paper\", \"value\": 0}, {\"date\": \"2020-01-29T00:00:00\", \"variable\": \"toilet paper\", \"value\": 0}, {\"date\": \"2020-01-30T00:00:00\", \"variable\": \"toilet paper\", \"value\": 0}, {\"date\": \"2020-01-31T00:00:00\", \"variable\": \"toilet paper\", \"value\": 1}, {\"date\": \"2020-02-01T00:00:00\", \"variable\": \"toilet paper\", \"value\": 0}, {\"date\": \"2020-02-02T00:00:00\", \"variable\": \"toilet paper\", \"value\": 0}, {\"date\": \"2020-02-03T00:00:00\", \"variable\": \"toilet paper\", \"value\": 0}, {\"date\": \"2020-02-04T00:00:00\", \"variable\": \"toilet paper\", \"value\": 0}, {\"date\": \"2020-02-05T00:00:00\", \"variable\": \"toilet paper\", \"value\": 2}, {\"date\": \"2020-02-06T00:00:00\", \"variable\": \"toilet paper\", \"value\": 5}, {\"date\": \"2020-02-07T00:00:00\", \"variable\": \"toilet paper\", \"value\": 4}, {\"date\": \"2020-02-08T00:00:00\", \"variable\": \"toilet paper\", \"value\": 7}, {\"date\": \"2020-02-09T00:00:00\", \"variable\": \"toilet paper\", \"value\": 3}, {\"date\": \"2020-02-10T00:00:00\", \"variable\": \"toilet paper\", \"value\": 0}, {\"date\": \"2020-02-11T00:00:00\", \"variable\": \"toilet paper\", \"value\": 0}, {\"date\": \"2020-02-12T00:00:00\", \"variable\": \"toilet paper\", \"value\": 0}, {\"date\": \"2020-02-13T00:00:00\", \"variable\": \"toilet paper\", \"value\": 0}, {\"date\": \"2020-02-14T00:00:00\", \"variable\": \"toilet paper\", \"value\": 3}, {\"date\": \"2020-02-15T00:00:00\", \"variable\": \"toilet paper\", \"value\": 2}, {\"date\": \"2020-02-16T00:00:00\", \"variable\": \"toilet paper\", \"value\": 0}, {\"date\": \"2020-02-17T00:00:00\", \"variable\": \"toilet paper\", \"value\": 42}, {\"date\": \"2020-02-18T00:00:00\", \"variable\": \"toilet paper\", \"value\": 8}, {\"date\": \"2020-02-19T00:00:00\", \"variable\": \"toilet paper\", \"value\": 2}, {\"date\": \"2020-02-20T00:00:00\", \"variable\": \"toilet paper\", \"value\": 0}, {\"date\": \"2020-02-21T00:00:00\", \"variable\": \"toilet paper\", \"value\": 1}, {\"date\": \"2020-02-22T00:00:00\", \"variable\": \"toilet paper\", \"value\": 1}, {\"date\": \"2020-02-23T00:00:00\", \"variable\": \"toilet paper\", \"value\": 2}, {\"date\": \"2020-02-24T00:00:00\", \"variable\": \"toilet paper\", \"value\": 1}, {\"date\": \"2020-02-25T00:00:00\", \"variable\": \"toilet paper\", \"value\": 1}, {\"date\": \"2020-02-26T00:00:00\", \"variable\": \"toilet paper\", \"value\": 0}, {\"date\": \"2020-02-27T00:00:00\", \"variable\": \"toilet paper\", \"value\": 1}, {\"date\": \"2020-02-28T00:00:00\", \"variable\": \"toilet paper\", \"value\": 5}, {\"date\": \"2020-02-29T00:00:00\", \"variable\": \"toilet paper\", \"value\": 13}, {\"date\": \"2020-03-01T00:00:00\", \"variable\": \"toilet paper\", \"value\": 16}, {\"date\": \"2020-03-02T00:00:00\", \"variable\": \"toilet paper\", \"value\": 23}, {\"date\": \"2020-03-03T00:00:00\", \"variable\": \"toilet paper\", \"value\": 84}, {\"date\": \"2020-03-04T00:00:00\", \"variable\": \"toilet paper\", \"value\": 63}, {\"date\": \"2020-03-05T00:00:00\", \"variable\": \"toilet paper\", \"value\": 57}, {\"date\": \"2020-03-06T00:00:00\", \"variable\": \"toilet paper\", \"value\": 65}, {\"date\": \"2020-03-07T00:00:00\", \"variable\": \"toilet paper\", \"value\": 173}, {\"date\": \"2020-03-08T00:00:00\", \"variable\": \"toilet paper\", \"value\": 35}, {\"date\": \"2020-03-09T00:00:00\", \"variable\": \"toilet paper\", \"value\": 100}, {\"date\": \"2020-03-10T00:00:00\", \"variable\": \"toilet paper\", \"value\": 71}, {\"date\": \"2020-03-11T00:00:00\", \"variable\": \"toilet paper\", \"value\": 90}, {\"date\": \"2020-03-12T00:00:00\", \"variable\": \"toilet paper\", \"value\": 106}, {\"date\": \"2020-03-13T00:00:00\", \"variable\": \"toilet paper\", \"value\": 261}, {\"date\": \"2020-03-14T00:00:00\", \"variable\": \"toilet paper\", \"value\": 120}, {\"date\": \"2020-03-15T00:00:00\", \"variable\": \"toilet paper\", \"value\": 64}, {\"date\": \"2020-03-16T00:00:00\", \"variable\": \"toilet paper\", \"value\": 52}, {\"date\": \"2020-03-17T00:00:00\", \"variable\": \"toilet paper\", \"value\": 39}, {\"date\": \"2020-03-18T00:00:00\", \"variable\": \"toilet paper\", \"value\": 60}, {\"date\": \"2020-03-19T00:00:00\", \"variable\": \"toilet paper\", \"value\": 30}, {\"date\": \"2020-03-20T00:00:00\", \"variable\": \"toilet paper\", \"value\": 18}, {\"date\": \"2020-03-21T00:00:00\", \"variable\": \"toilet paper\", \"value\": 18}, {\"date\": \"2020-03-22T00:00:00\", \"variable\": \"toilet paper\", \"value\": 31}, {\"date\": \"2020-03-23T00:00:00\", \"variable\": \"toilet paper\", \"value\": 15}, {\"date\": \"2020-03-24T00:00:00\", \"variable\": \"toilet paper\", \"value\": 12}, {\"date\": \"2020-03-25T00:00:00\", \"variable\": \"toilet paper\", \"value\": 12}, {\"date\": \"2020-03-26T00:00:00\", \"variable\": \"toilet paper\", \"value\": 12}, {\"date\": \"2020-03-27T00:00:00\", \"variable\": \"toilet paper\", \"value\": 20}, {\"date\": \"2020-03-28T00:00:00\", \"variable\": \"toilet paper\", \"value\": 11}, {\"date\": \"2020-03-29T00:00:00\", \"variable\": \"toilet paper\", \"value\": 12}, {\"date\": \"2020-03-30T00:00:00\", \"variable\": \"toilet paper\", \"value\": 10}, {\"date\": \"2020-03-31T00:00:00\", \"variable\": \"toilet paper\", \"value\": 12}, {\"date\": \"2020-04-01T00:00:00\", \"variable\": \"toilet paper\", \"value\": 9}, {\"date\": \"2020-04-02T00:00:00\", \"variable\": \"toilet paper\", \"value\": 21}, {\"date\": \"2020-04-03T00:00:00\", \"variable\": \"toilet paper\", \"value\": 8}, {\"date\": \"2020-04-04T00:00:00\", \"variable\": \"toilet paper\", \"value\": 11}, {\"date\": \"2020-04-05T00:00:00\", \"variable\": \"toilet paper\", \"value\": 9}, {\"date\": \"2020-04-06T00:00:00\", \"variable\": \"toilet paper\", \"value\": 16}, {\"date\": \"2020-04-07T00:00:00\", \"variable\": \"toilet paper\", \"value\": 8}, {\"date\": \"2020-04-08T00:00:00\", \"variable\": \"toilet paper\", \"value\": 12}, {\"date\": \"2020-01-20T00:00:00\", \"variable\": \"lockdown\", \"value\": 2}, {\"date\": \"2020-01-21T00:00:00\", \"variable\": \"lockdown\", \"value\": 2}, {\"date\": \"2020-01-22T00:00:00\", \"variable\": \"lockdown\", \"value\": 60}, {\"date\": \"2020-01-23T00:00:00\", \"variable\": \"lockdown\", \"value\": 153}, {\"date\": \"2020-01-24T00:00:00\", \"variable\": \"lockdown\", \"value\": 96}, {\"date\": \"2020-01-25T00:00:00\", \"variable\": \"lockdown\", \"value\": 82}, {\"date\": \"2020-01-26T00:00:00\", \"variable\": \"lockdown\", \"value\": 31}, {\"date\": \"2020-01-27T00:00:00\", \"variable\": \"lockdown\", \"value\": 25}, {\"date\": \"2020-01-28T00:00:00\", \"variable\": \"lockdown\", \"value\": 16}, {\"date\": \"2020-01-29T00:00:00\", \"variable\": \"lockdown\", \"value\": 14}, {\"date\": \"2020-01-30T00:00:00\", \"variable\": \"lockdown\", \"value\": 42}, {\"date\": \"2020-01-31T00:00:00\", \"variable\": \"lockdown\", \"value\": 13}, {\"date\": \"2020-02-01T00:00:00\", \"variable\": \"lockdown\", \"value\": 51}, {\"date\": \"2020-02-02T00:00:00\", \"variable\": \"lockdown\", \"value\": 33}, {\"date\": \"2020-02-03T00:00:00\", \"variable\": \"lockdown\", \"value\": 32}, {\"date\": \"2020-02-04T00:00:00\", \"variable\": \"lockdown\", \"value\": 37}, {\"date\": \"2020-02-05T00:00:00\", \"variable\": \"lockdown\", \"value\": 42}, {\"date\": \"2020-02-06T00:00:00\", \"variable\": \"lockdown\", \"value\": 42}, {\"date\": \"2020-02-07T00:00:00\", \"variable\": \"lockdown\", \"value\": 52}, {\"date\": \"2020-02-08T00:00:00\", \"variable\": \"lockdown\", \"value\": 45}, {\"date\": \"2020-02-09T00:00:00\", \"variable\": \"lockdown\", \"value\": 29}, {\"date\": \"2020-02-10T00:00:00\", \"variable\": \"lockdown\", \"value\": 20}, {\"date\": \"2020-02-11T00:00:00\", \"variable\": \"lockdown\", \"value\": 21}, {\"date\": \"2020-02-12T00:00:00\", \"variable\": \"lockdown\", \"value\": 20}, {\"date\": \"2020-02-13T00:00:00\", \"variable\": \"lockdown\", \"value\": 59}, {\"date\": \"2020-02-14T00:00:00\", \"variable\": \"lockdown\", \"value\": 79}, {\"date\": \"2020-02-15T00:00:00\", \"variable\": \"lockdown\", \"value\": 44}, {\"date\": \"2020-02-16T00:00:00\", \"variable\": \"lockdown\", \"value\": 56}, {\"date\": \"2020-02-17T00:00:00\", \"variable\": \"lockdown\", \"value\": 40}, {\"date\": \"2020-02-18T00:00:00\", \"variable\": \"lockdown\", \"value\": 39}, {\"date\": \"2020-02-19T00:00:00\", \"variable\": \"lockdown\", \"value\": 56}, {\"date\": \"2020-02-20T00:00:00\", \"variable\": \"lockdown\", \"value\": 69}, {\"date\": \"2020-02-21T00:00:00\", \"variable\": \"lockdown\", \"value\": 66}, {\"date\": \"2020-02-22T00:00:00\", \"variable\": \"lockdown\", \"value\": 44}, {\"date\": \"2020-02-23T00:00:00\", \"variable\": \"lockdown\", \"value\": 137}, {\"date\": \"2020-02-24T00:00:00\", \"variable\": \"lockdown\", \"value\": 84}, {\"date\": \"2020-02-25T00:00:00\", \"variable\": \"lockdown\", \"value\": 44}, {\"date\": \"2020-02-26T00:00:00\", \"variable\": \"lockdown\", \"value\": 8}, {\"date\": \"2020-02-27T00:00:00\", \"variable\": \"lockdown\", \"value\": 10}, {\"date\": \"2020-02-28T00:00:00\", \"variable\": \"lockdown\", \"value\": 14}, {\"date\": \"2020-02-29T00:00:00\", \"variable\": \"lockdown\", \"value\": 12}, {\"date\": \"2020-03-01T00:00:00\", \"variable\": \"lockdown\", \"value\": 47}, {\"date\": \"2020-03-02T00:00:00\", \"variable\": \"lockdown\", \"value\": 16}, {\"date\": \"2020-03-03T00:00:00\", \"variable\": \"lockdown\", \"value\": 12}, {\"date\": \"2020-03-04T00:00:00\", \"variable\": \"lockdown\", \"value\": 18}, {\"date\": \"2020-03-05T00:00:00\", \"variable\": \"lockdown\", \"value\": 10}, {\"date\": \"2020-03-06T00:00:00\", \"variable\": \"lockdown\", \"value\": 8}, {\"date\": \"2020-03-07T00:00:00\", \"variable\": \"lockdown\", \"value\": 60}, {\"date\": \"2020-03-08T00:00:00\", \"variable\": \"lockdown\", \"value\": 20}, {\"date\": \"2020-03-09T00:00:00\", \"variable\": \"lockdown\", \"value\": 195}, {\"date\": \"2020-03-10T00:00:00\", \"variable\": \"lockdown\", \"value\": 83}, {\"date\": \"2020-03-11T00:00:00\", \"variable\": \"lockdown\", \"value\": 75}, {\"date\": \"2020-03-12T00:00:00\", \"variable\": \"lockdown\", \"value\": 38}, {\"date\": \"2020-03-13T00:00:00\", \"variable\": \"lockdown\", \"value\": 125}, {\"date\": \"2020-03-14T00:00:00\", \"variable\": \"lockdown\", \"value\": 95}, {\"date\": \"2020-03-15T00:00:00\", \"variable\": \"lockdown\", \"value\": 72}, {\"date\": \"2020-03-16T00:00:00\", \"variable\": \"lockdown\", \"value\": 88}, {\"date\": \"2020-03-17T00:00:00\", \"variable\": \"lockdown\", \"value\": 130}, {\"date\": \"2020-03-18T00:00:00\", \"variable\": \"lockdown\", \"value\": 162}, {\"date\": \"2020-03-19T00:00:00\", \"variable\": \"lockdown\", \"value\": 86}, {\"date\": \"2020-03-20T00:00:00\", \"variable\": \"lockdown\", \"value\": 96}, {\"date\": \"2020-03-21T00:00:00\", \"variable\": \"lockdown\", \"value\": 149}, {\"date\": \"2020-03-22T00:00:00\", \"variable\": \"lockdown\", \"value\": 190}, {\"date\": \"2020-03-23T00:00:00\", \"variable\": \"lockdown\", \"value\": 307}, {\"date\": \"2020-03-24T00:00:00\", \"variable\": \"lockdown\", \"value\": 349}, {\"date\": \"2020-03-25T00:00:00\", \"variable\": \"lockdown\", \"value\": 328}, {\"date\": \"2020-03-26T00:00:00\", \"variable\": \"lockdown\", \"value\": 191}, {\"date\": \"2020-03-27T00:00:00\", \"variable\": \"lockdown\", \"value\": 487}, {\"date\": \"2020-03-28T00:00:00\", \"variable\": \"lockdown\", \"value\": 299}, {\"date\": \"2020-03-29T00:00:00\", \"variable\": \"lockdown\", \"value\": 273}, {\"date\": \"2020-03-30T00:00:00\", \"variable\": \"lockdown\", \"value\": 325}, {\"date\": \"2020-03-31T00:00:00\", \"variable\": \"lockdown\", \"value\": 282}, {\"date\": \"2020-04-01T00:00:00\", \"variable\": \"lockdown\", \"value\": 236}, {\"date\": \"2020-04-02T00:00:00\", \"variable\": \"lockdown\", \"value\": 299}, {\"date\": \"2020-04-03T00:00:00\", \"variable\": \"lockdown\", \"value\": 207}, {\"date\": \"2020-04-04T00:00:00\", \"variable\": \"lockdown\", \"value\": 289}, {\"date\": \"2020-04-05T00:00:00\", \"variable\": \"lockdown\", \"value\": 223}, {\"date\": \"2020-04-06T00:00:00\", \"variable\": \"lockdown\", \"value\": 285}, {\"date\": \"2020-04-07T00:00:00\", \"variable\": \"lockdown\", \"value\": 214}, {\"date\": \"2020-04-08T00:00:00\", \"variable\": \"lockdown\", \"value\": 289}]}}, {\"mode\": \"vega-lite\"});\n",
       "</script>"
      ],
      "text/plain": [
       "alt.LayerChart(...)"
      ]
     },
     "execution_count": 98,
     "metadata": {},
     "output_type": "execute_result"
    }
   ],
   "source": [
    "highlight = alt.selection(type='single', on='mouseover',\n",
    "                          fields=['variable'], nearest=True)\n",
    "\n",
    "base = alt.Chart(First_Group_m).encode(\n",
    "    x=alt.X('date:T', axis = alt.Axis(title = 'Date'.upper(), format = (\"%b %Y\"))),\n",
    "    y='value:Q',\n",
    "    color='variable:N',\n",
    "    tooltip=['variable', 'value']\n",
    ")\n",
    "\n",
    "points = base.mark_circle().encode(\n",
    "    opacity=alt.value(0)\n",
    ").add_selection(\n",
    "    highlight\n",
    ").properties(\n",
    "    width=600\n",
    ")\n",
    "\n",
    "lines = base.mark_line().encode(\n",
    "    size=alt.condition(~highlight, alt.value(1), alt.value(3))\n",
    ")\n",
    "\n",
    "points + lines"
   ]
  },
  {
   "cell_type": "markdown",
   "metadata": {},
   "source": [
    "# Interactive Legend"
   ]
  },
  {
   "cell_type": "code",
   "execution_count": 99,
   "metadata": {},
   "outputs": [
    {
     "data": {
      "text/html": [
       "\n",
       "<div id=\"altair-viz-06d318c81da6454a8386ff2a3b4b64bb\"></div>\n",
       "<script type=\"text/javascript\">\n",
       "  (function(spec, embedOpt){\n",
       "    let outputDiv = document.currentScript.previousElementSibling;\n",
       "    if (outputDiv.id !== \"altair-viz-06d318c81da6454a8386ff2a3b4b64bb\") {\n",
       "      outputDiv = document.getElementById(\"altair-viz-06d318c81da6454a8386ff2a3b4b64bb\");\n",
       "    }\n",
       "    const paths = {\n",
       "      \"vega\": \"https://cdn.jsdelivr.net/npm//vega@5?noext\",\n",
       "      \"vega-lib\": \"https://cdn.jsdelivr.net/npm//vega-lib?noext\",\n",
       "      \"vega-lite\": \"https://cdn.jsdelivr.net/npm//vega-lite@4.8.1?noext\",\n",
       "      \"vega-embed\": \"https://cdn.jsdelivr.net/npm//vega-embed@6?noext\",\n",
       "    };\n",
       "\n",
       "    function loadScript(lib) {\n",
       "      return new Promise(function(resolve, reject) {\n",
       "        var s = document.createElement('script');\n",
       "        s.src = paths[lib];\n",
       "        s.async = true;\n",
       "        s.onload = () => resolve(paths[lib]);\n",
       "        s.onerror = () => reject(`Error loading script: ${paths[lib]}`);\n",
       "        document.getElementsByTagName(\"head\")[0].appendChild(s);\n",
       "      });\n",
       "    }\n",
       "\n",
       "    function showError(err) {\n",
       "      outputDiv.innerHTML = `<div class=\"error\" style=\"color:red;\">${err}</div>`;\n",
       "      throw err;\n",
       "    }\n",
       "\n",
       "    function displayChart(vegaEmbed) {\n",
       "      vegaEmbed(outputDiv, spec, embedOpt)\n",
       "        .catch(err => showError(`Javascript Error: ${err.message}<br>This usually means there's a typo in your chart specification. See the javascript console for the full traceback.`));\n",
       "    }\n",
       "\n",
       "    if(typeof define === \"function\" && define.amd) {\n",
       "      requirejs.config({paths});\n",
       "      require([\"vega-embed\"], displayChart, err => showError(`Error loading script: ${err.message}`));\n",
       "    } else if (typeof vegaEmbed === \"function\") {\n",
       "      displayChart(vegaEmbed);\n",
       "    } else {\n",
       "      loadScript(\"vega\")\n",
       "        .then(() => loadScript(\"vega-lite\"))\n",
       "        .then(() => loadScript(\"vega-embed\"))\n",
       "        .catch(showError)\n",
       "        .then(() => displayChart(vegaEmbed));\n",
       "    }\n",
       "  })({\"config\": {\"view\": {\"continuousWidth\": 400, \"continuousHeight\": 300}}, \"data\": {\"name\": \"data-91ff41319a3515a5b3478868427bcd5d\"}, \"mark\": \"line\", \"encoding\": {\"color\": {\"type\": \"nominal\", \"field\": \"variable\"}, \"opacity\": {\"condition\": {\"value\": 1, \"selection\": \"selector030\"}, \"value\": 0.1}, \"tooltip\": [{\"type\": \"nominal\", \"field\": \"variable\"}, {\"type\": \"quantitative\", \"field\": \"value\"}], \"x\": {\"type\": \"temporal\", \"field\": \"date\"}, \"y\": {\"type\": \"quantitative\", \"field\": \"value\"}}, \"height\": 400, \"selection\": {\"selector030\": {\"type\": \"multi\", \"fields\": [\"variable\"], \"bind\": \"legend\"}}, \"width\": 800, \"$schema\": \"https://vega.github.io/schema/vega-lite/v4.8.1.json\", \"datasets\": {\"data-91ff41319a3515a5b3478868427bcd5d\": [{\"date\": \"2020-01-20T00:00:00\", \"variable\": \"panic buying\", \"value\": 0}, {\"date\": \"2020-01-21T00:00:00\", \"variable\": \"panic buying\", \"value\": 0}, {\"date\": \"2020-01-22T00:00:00\", \"variable\": \"panic buying\", \"value\": 0}, {\"date\": \"2020-01-23T00:00:00\", \"variable\": \"panic buying\", \"value\": 0}, {\"date\": \"2020-01-24T00:00:00\", \"variable\": \"panic buying\", \"value\": 0}, {\"date\": \"2020-01-25T00:00:00\", \"variable\": \"panic buying\", \"value\": 0}, {\"date\": \"2020-01-26T00:00:00\", \"variable\": \"panic buying\", \"value\": 1}, {\"date\": \"2020-01-27T00:00:00\", \"variable\": \"panic buying\", \"value\": 1}, {\"date\": \"2020-01-28T00:00:00\", \"variable\": \"panic buying\", \"value\": 0}, {\"date\": \"2020-01-29T00:00:00\", \"variable\": \"panic buying\", \"value\": 0}, {\"date\": \"2020-01-30T00:00:00\", \"variable\": \"panic buying\", \"value\": 0}, {\"date\": \"2020-01-31T00:00:00\", \"variable\": \"panic buying\", \"value\": 0}, {\"date\": \"2020-02-01T00:00:00\", \"variable\": \"panic buying\", \"value\": 4}, {\"date\": \"2020-02-02T00:00:00\", \"variable\": \"panic buying\", \"value\": 3}, {\"date\": \"2020-02-03T00:00:00\", \"variable\": \"panic buying\", \"value\": 0}, {\"date\": \"2020-02-04T00:00:00\", \"variable\": \"panic buying\", \"value\": 0}, {\"date\": \"2020-02-05T00:00:00\", \"variable\": \"panic buying\", \"value\": 1}, {\"date\": \"2020-02-06T00:00:00\", \"variable\": \"panic buying\", \"value\": 6}, {\"date\": \"2020-02-07T00:00:00\", \"variable\": \"panic buying\", \"value\": 2}, {\"date\": \"2020-02-08T00:00:00\", \"variable\": \"panic buying\", \"value\": 4}, {\"date\": \"2020-02-09T00:00:00\", \"variable\": \"panic buying\", \"value\": 3}, {\"date\": \"2020-02-10T00:00:00\", \"variable\": \"panic buying\", \"value\": 1}, {\"date\": \"2020-02-11T00:00:00\", \"variable\": \"panic buying\", \"value\": 2}, {\"date\": \"2020-02-12T00:00:00\", \"variable\": \"panic buying\", \"value\": 2}, {\"date\": \"2020-02-13T00:00:00\", \"variable\": \"panic buying\", \"value\": 0}, {\"date\": \"2020-02-14T00:00:00\", \"variable\": \"panic buying\", \"value\": 1}, {\"date\": \"2020-02-15T00:00:00\", \"variable\": \"panic buying\", \"value\": 0}, {\"date\": \"2020-02-16T00:00:00\", \"variable\": \"panic buying\", \"value\": 0}, {\"date\": \"2020-02-17T00:00:00\", \"variable\": \"panic buying\", \"value\": 1}, {\"date\": \"2020-02-18T00:00:00\", \"variable\": \"panic buying\", \"value\": 1}, {\"date\": \"2020-02-19T00:00:00\", \"variable\": \"panic buying\", \"value\": 0}, {\"date\": \"2020-02-20T00:00:00\", \"variable\": \"panic buying\", \"value\": 1}, {\"date\": \"2020-02-21T00:00:00\", \"variable\": \"panic buying\", \"value\": 0}, {\"date\": \"2020-02-22T00:00:00\", \"variable\": \"panic buying\", \"value\": 1}, {\"date\": \"2020-02-23T00:00:00\", \"variable\": \"panic buying\", \"value\": 6}, {\"date\": \"2020-02-24T00:00:00\", \"variable\": \"panic buying\", \"value\": 13}, {\"date\": \"2020-02-25T00:00:00\", \"variable\": \"panic buying\", \"value\": 3}, {\"date\": \"2020-02-26T00:00:00\", \"variable\": \"panic buying\", \"value\": 0}, {\"date\": \"2020-02-27T00:00:00\", \"variable\": \"panic buying\", \"value\": 2}, {\"date\": \"2020-02-28T00:00:00\", \"variable\": \"panic buying\", \"value\": 7}, {\"date\": \"2020-02-29T00:00:00\", \"variable\": \"panic buying\", \"value\": 9}, {\"date\": \"2020-03-01T00:00:00\", \"variable\": \"panic buying\", \"value\": 10}, {\"date\": \"2020-03-02T00:00:00\", \"variable\": \"panic buying\", \"value\": 25}, {\"date\": \"2020-03-03T00:00:00\", \"variable\": \"panic buying\", \"value\": 18}, {\"date\": \"2020-03-04T00:00:00\", \"variable\": \"panic buying\", \"value\": 19}, {\"date\": \"2020-03-05T00:00:00\", \"variable\": \"panic buying\", \"value\": 7}, {\"date\": \"2020-03-06T00:00:00\", \"variable\": \"panic buying\", \"value\": 13}, {\"date\": \"2020-03-07T00:00:00\", \"variable\": \"panic buying\", \"value\": 48}, {\"date\": \"2020-03-08T00:00:00\", \"variable\": \"panic buying\", \"value\": 7}, {\"date\": \"2020-03-09T00:00:00\", \"variable\": \"panic buying\", \"value\": 31}, {\"date\": \"2020-03-10T00:00:00\", \"variable\": \"panic buying\", \"value\": 13}, {\"date\": \"2020-03-11T00:00:00\", \"variable\": \"panic buying\", \"value\": 14}, {\"date\": \"2020-03-12T00:00:00\", \"variable\": \"panic buying\", \"value\": 13}, {\"date\": \"2020-03-13T00:00:00\", \"variable\": \"panic buying\", \"value\": 46}, {\"date\": \"2020-03-14T00:00:00\", \"variable\": \"panic buying\", \"value\": 36}, {\"date\": \"2020-03-15T00:00:00\", \"variable\": \"panic buying\", \"value\": 11}, {\"date\": \"2020-03-16T00:00:00\", \"variable\": \"panic buying\", \"value\": 15}, {\"date\": \"2020-03-17T00:00:00\", \"variable\": \"panic buying\", \"value\": 15}, {\"date\": \"2020-03-18T00:00:00\", \"variable\": \"panic buying\", \"value\": 16}, {\"date\": \"2020-03-19T00:00:00\", \"variable\": \"panic buying\", \"value\": 11}, {\"date\": \"2020-03-20T00:00:00\", \"variable\": \"panic buying\", \"value\": 14}, {\"date\": \"2020-03-21T00:00:00\", \"variable\": \"panic buying\", \"value\": 7}, {\"date\": \"2020-03-22T00:00:00\", \"variable\": \"panic buying\", \"value\": 10}, {\"date\": \"2020-03-23T00:00:00\", \"variable\": \"panic buying\", \"value\": 3}, {\"date\": \"2020-03-24T00:00:00\", \"variable\": \"panic buying\", \"value\": 1}, {\"date\": \"2020-03-25T00:00:00\", \"variable\": \"panic buying\", \"value\": 2}, {\"date\": \"2020-03-26T00:00:00\", \"variable\": \"panic buying\", \"value\": 4}, {\"date\": \"2020-03-27T00:00:00\", \"variable\": \"panic buying\", \"value\": 1}, {\"date\": \"2020-03-28T00:00:00\", \"variable\": \"panic buying\", \"value\": 3}, {\"date\": \"2020-03-29T00:00:00\", \"variable\": \"panic buying\", \"value\": 2}, {\"date\": \"2020-03-30T00:00:00\", \"variable\": \"panic buying\", \"value\": 3}, {\"date\": \"2020-03-31T00:00:00\", \"variable\": \"panic buying\", \"value\": 2}, {\"date\": \"2020-04-01T00:00:00\", \"variable\": \"panic buying\", \"value\": 1}, {\"date\": \"2020-04-02T00:00:00\", \"variable\": \"panic buying\", \"value\": 2}, {\"date\": \"2020-04-03T00:00:00\", \"variable\": \"panic buying\", \"value\": 1}, {\"date\": \"2020-04-04T00:00:00\", \"variable\": \"panic buying\", \"value\": 2}, {\"date\": \"2020-04-05T00:00:00\", \"variable\": \"panic buying\", \"value\": 0}, {\"date\": \"2020-04-06T00:00:00\", \"variable\": \"panic buying\", \"value\": 4}, {\"date\": \"2020-04-07T00:00:00\", \"variable\": \"panic buying\", \"value\": 2}, {\"date\": \"2020-04-08T00:00:00\", \"variable\": \"panic buying\", \"value\": 1}, {\"date\": \"2020-01-20T00:00:00\", \"variable\": \"toilet paper\", \"value\": 0}, {\"date\": \"2020-01-21T00:00:00\", \"variable\": \"toilet paper\", \"value\": 1}, {\"date\": \"2020-01-22T00:00:00\", \"variable\": \"toilet paper\", \"value\": 0}, {\"date\": \"2020-01-23T00:00:00\", \"variable\": \"toilet paper\", \"value\": 0}, {\"date\": \"2020-01-24T00:00:00\", \"variable\": \"toilet paper\", \"value\": 0}, {\"date\": \"2020-01-25T00:00:00\", \"variable\": \"toilet paper\", \"value\": 0}, {\"date\": \"2020-01-26T00:00:00\", \"variable\": \"toilet paper\", \"value\": 0}, {\"date\": \"2020-01-27T00:00:00\", \"variable\": \"toilet paper\", \"value\": 0}, {\"date\": \"2020-01-28T00:00:00\", \"variable\": \"toilet paper\", \"value\": 0}, {\"date\": \"2020-01-29T00:00:00\", \"variable\": \"toilet paper\", \"value\": 0}, {\"date\": \"2020-01-30T00:00:00\", \"variable\": \"toilet paper\", \"value\": 0}, {\"date\": \"2020-01-31T00:00:00\", \"variable\": \"toilet paper\", \"value\": 1}, {\"date\": \"2020-02-01T00:00:00\", \"variable\": \"toilet paper\", \"value\": 0}, {\"date\": \"2020-02-02T00:00:00\", \"variable\": \"toilet paper\", \"value\": 0}, {\"date\": \"2020-02-03T00:00:00\", \"variable\": \"toilet paper\", \"value\": 0}, {\"date\": \"2020-02-04T00:00:00\", \"variable\": \"toilet paper\", \"value\": 0}, {\"date\": \"2020-02-05T00:00:00\", \"variable\": \"toilet paper\", \"value\": 2}, {\"date\": \"2020-02-06T00:00:00\", \"variable\": \"toilet paper\", \"value\": 5}, {\"date\": \"2020-02-07T00:00:00\", \"variable\": \"toilet paper\", \"value\": 4}, {\"date\": \"2020-02-08T00:00:00\", \"variable\": \"toilet paper\", \"value\": 7}, {\"date\": \"2020-02-09T00:00:00\", \"variable\": \"toilet paper\", \"value\": 3}, {\"date\": \"2020-02-10T00:00:00\", \"variable\": \"toilet paper\", \"value\": 0}, {\"date\": \"2020-02-11T00:00:00\", \"variable\": \"toilet paper\", \"value\": 0}, {\"date\": \"2020-02-12T00:00:00\", \"variable\": \"toilet paper\", \"value\": 0}, {\"date\": \"2020-02-13T00:00:00\", \"variable\": \"toilet paper\", \"value\": 0}, {\"date\": \"2020-02-14T00:00:00\", \"variable\": \"toilet paper\", \"value\": 3}, {\"date\": \"2020-02-15T00:00:00\", \"variable\": \"toilet paper\", \"value\": 2}, {\"date\": \"2020-02-16T00:00:00\", \"variable\": \"toilet paper\", \"value\": 0}, {\"date\": \"2020-02-17T00:00:00\", \"variable\": \"toilet paper\", \"value\": 42}, {\"date\": \"2020-02-18T00:00:00\", \"variable\": \"toilet paper\", \"value\": 8}, {\"date\": \"2020-02-19T00:00:00\", \"variable\": \"toilet paper\", \"value\": 2}, {\"date\": \"2020-02-20T00:00:00\", \"variable\": \"toilet paper\", \"value\": 0}, {\"date\": \"2020-02-21T00:00:00\", \"variable\": \"toilet paper\", \"value\": 1}, {\"date\": \"2020-02-22T00:00:00\", \"variable\": \"toilet paper\", \"value\": 1}, {\"date\": \"2020-02-23T00:00:00\", \"variable\": \"toilet paper\", \"value\": 2}, {\"date\": \"2020-02-24T00:00:00\", \"variable\": \"toilet paper\", \"value\": 1}, {\"date\": \"2020-02-25T00:00:00\", \"variable\": \"toilet paper\", \"value\": 1}, {\"date\": \"2020-02-26T00:00:00\", \"variable\": \"toilet paper\", \"value\": 0}, {\"date\": \"2020-02-27T00:00:00\", \"variable\": \"toilet paper\", \"value\": 1}, {\"date\": \"2020-02-28T00:00:00\", \"variable\": \"toilet paper\", \"value\": 5}, {\"date\": \"2020-02-29T00:00:00\", \"variable\": \"toilet paper\", \"value\": 13}, {\"date\": \"2020-03-01T00:00:00\", \"variable\": \"toilet paper\", \"value\": 16}, {\"date\": \"2020-03-02T00:00:00\", \"variable\": \"toilet paper\", \"value\": 23}, {\"date\": \"2020-03-03T00:00:00\", \"variable\": \"toilet paper\", \"value\": 84}, {\"date\": \"2020-03-04T00:00:00\", \"variable\": \"toilet paper\", \"value\": 63}, {\"date\": \"2020-03-05T00:00:00\", \"variable\": \"toilet paper\", \"value\": 57}, {\"date\": \"2020-03-06T00:00:00\", \"variable\": \"toilet paper\", \"value\": 65}, {\"date\": \"2020-03-07T00:00:00\", \"variable\": \"toilet paper\", \"value\": 173}, {\"date\": \"2020-03-08T00:00:00\", \"variable\": \"toilet paper\", \"value\": 35}, {\"date\": \"2020-03-09T00:00:00\", \"variable\": \"toilet paper\", \"value\": 100}, {\"date\": \"2020-03-10T00:00:00\", \"variable\": \"toilet paper\", \"value\": 71}, {\"date\": \"2020-03-11T00:00:00\", \"variable\": \"toilet paper\", \"value\": 90}, {\"date\": \"2020-03-12T00:00:00\", \"variable\": \"toilet paper\", \"value\": 106}, {\"date\": \"2020-03-13T00:00:00\", \"variable\": \"toilet paper\", \"value\": 261}, {\"date\": \"2020-03-14T00:00:00\", \"variable\": \"toilet paper\", \"value\": 120}, {\"date\": \"2020-03-15T00:00:00\", \"variable\": \"toilet paper\", \"value\": 64}, {\"date\": \"2020-03-16T00:00:00\", \"variable\": \"toilet paper\", \"value\": 52}, {\"date\": \"2020-03-17T00:00:00\", \"variable\": \"toilet paper\", \"value\": 39}, {\"date\": \"2020-03-18T00:00:00\", \"variable\": \"toilet paper\", \"value\": 60}, {\"date\": \"2020-03-19T00:00:00\", \"variable\": \"toilet paper\", \"value\": 30}, {\"date\": \"2020-03-20T00:00:00\", \"variable\": \"toilet paper\", \"value\": 18}, {\"date\": \"2020-03-21T00:00:00\", \"variable\": \"toilet paper\", \"value\": 18}, {\"date\": \"2020-03-22T00:00:00\", \"variable\": \"toilet paper\", \"value\": 31}, {\"date\": \"2020-03-23T00:00:00\", \"variable\": \"toilet paper\", \"value\": 15}, {\"date\": \"2020-03-24T00:00:00\", \"variable\": \"toilet paper\", \"value\": 12}, {\"date\": \"2020-03-25T00:00:00\", \"variable\": \"toilet paper\", \"value\": 12}, {\"date\": \"2020-03-26T00:00:00\", \"variable\": \"toilet paper\", \"value\": 12}, {\"date\": \"2020-03-27T00:00:00\", \"variable\": \"toilet paper\", \"value\": 20}, {\"date\": \"2020-03-28T00:00:00\", \"variable\": \"toilet paper\", \"value\": 11}, {\"date\": \"2020-03-29T00:00:00\", \"variable\": \"toilet paper\", \"value\": 12}, {\"date\": \"2020-03-30T00:00:00\", \"variable\": \"toilet paper\", \"value\": 10}, {\"date\": \"2020-03-31T00:00:00\", \"variable\": \"toilet paper\", \"value\": 12}, {\"date\": \"2020-04-01T00:00:00\", \"variable\": \"toilet paper\", \"value\": 9}, {\"date\": \"2020-04-02T00:00:00\", \"variable\": \"toilet paper\", \"value\": 21}, {\"date\": \"2020-04-03T00:00:00\", \"variable\": \"toilet paper\", \"value\": 8}, {\"date\": \"2020-04-04T00:00:00\", \"variable\": \"toilet paper\", \"value\": 11}, {\"date\": \"2020-04-05T00:00:00\", \"variable\": \"toilet paper\", \"value\": 9}, {\"date\": \"2020-04-06T00:00:00\", \"variable\": \"toilet paper\", \"value\": 16}, {\"date\": \"2020-04-07T00:00:00\", \"variable\": \"toilet paper\", \"value\": 8}, {\"date\": \"2020-04-08T00:00:00\", \"variable\": \"toilet paper\", \"value\": 12}, {\"date\": \"2020-01-20T00:00:00\", \"variable\": \"lockdown\", \"value\": 2}, {\"date\": \"2020-01-21T00:00:00\", \"variable\": \"lockdown\", \"value\": 2}, {\"date\": \"2020-01-22T00:00:00\", \"variable\": \"lockdown\", \"value\": 60}, {\"date\": \"2020-01-23T00:00:00\", \"variable\": \"lockdown\", \"value\": 153}, {\"date\": \"2020-01-24T00:00:00\", \"variable\": \"lockdown\", \"value\": 96}, {\"date\": \"2020-01-25T00:00:00\", \"variable\": \"lockdown\", \"value\": 82}, {\"date\": \"2020-01-26T00:00:00\", \"variable\": \"lockdown\", \"value\": 31}, {\"date\": \"2020-01-27T00:00:00\", \"variable\": \"lockdown\", \"value\": 25}, {\"date\": \"2020-01-28T00:00:00\", \"variable\": \"lockdown\", \"value\": 16}, {\"date\": \"2020-01-29T00:00:00\", \"variable\": \"lockdown\", \"value\": 14}, {\"date\": \"2020-01-30T00:00:00\", \"variable\": \"lockdown\", \"value\": 42}, {\"date\": \"2020-01-31T00:00:00\", \"variable\": \"lockdown\", \"value\": 13}, {\"date\": \"2020-02-01T00:00:00\", \"variable\": \"lockdown\", \"value\": 51}, {\"date\": \"2020-02-02T00:00:00\", \"variable\": \"lockdown\", \"value\": 33}, {\"date\": \"2020-02-03T00:00:00\", \"variable\": \"lockdown\", \"value\": 32}, {\"date\": \"2020-02-04T00:00:00\", \"variable\": \"lockdown\", \"value\": 37}, {\"date\": \"2020-02-05T00:00:00\", \"variable\": \"lockdown\", \"value\": 42}, {\"date\": \"2020-02-06T00:00:00\", \"variable\": \"lockdown\", \"value\": 42}, {\"date\": \"2020-02-07T00:00:00\", \"variable\": \"lockdown\", \"value\": 52}, {\"date\": \"2020-02-08T00:00:00\", \"variable\": \"lockdown\", \"value\": 45}, {\"date\": \"2020-02-09T00:00:00\", \"variable\": \"lockdown\", \"value\": 29}, {\"date\": \"2020-02-10T00:00:00\", \"variable\": \"lockdown\", \"value\": 20}, {\"date\": \"2020-02-11T00:00:00\", \"variable\": \"lockdown\", \"value\": 21}, {\"date\": \"2020-02-12T00:00:00\", \"variable\": \"lockdown\", \"value\": 20}, {\"date\": \"2020-02-13T00:00:00\", \"variable\": \"lockdown\", \"value\": 59}, {\"date\": \"2020-02-14T00:00:00\", \"variable\": \"lockdown\", \"value\": 79}, {\"date\": \"2020-02-15T00:00:00\", \"variable\": \"lockdown\", \"value\": 44}, {\"date\": \"2020-02-16T00:00:00\", \"variable\": \"lockdown\", \"value\": 56}, {\"date\": \"2020-02-17T00:00:00\", \"variable\": \"lockdown\", \"value\": 40}, {\"date\": \"2020-02-18T00:00:00\", \"variable\": \"lockdown\", \"value\": 39}, {\"date\": \"2020-02-19T00:00:00\", \"variable\": \"lockdown\", \"value\": 56}, {\"date\": \"2020-02-20T00:00:00\", \"variable\": \"lockdown\", \"value\": 69}, {\"date\": \"2020-02-21T00:00:00\", \"variable\": \"lockdown\", \"value\": 66}, {\"date\": \"2020-02-22T00:00:00\", \"variable\": \"lockdown\", \"value\": 44}, {\"date\": \"2020-02-23T00:00:00\", \"variable\": \"lockdown\", \"value\": 137}, {\"date\": \"2020-02-24T00:00:00\", \"variable\": \"lockdown\", \"value\": 84}, {\"date\": \"2020-02-25T00:00:00\", \"variable\": \"lockdown\", \"value\": 44}, {\"date\": \"2020-02-26T00:00:00\", \"variable\": \"lockdown\", \"value\": 8}, {\"date\": \"2020-02-27T00:00:00\", \"variable\": \"lockdown\", \"value\": 10}, {\"date\": \"2020-02-28T00:00:00\", \"variable\": \"lockdown\", \"value\": 14}, {\"date\": \"2020-02-29T00:00:00\", \"variable\": \"lockdown\", \"value\": 12}, {\"date\": \"2020-03-01T00:00:00\", \"variable\": \"lockdown\", \"value\": 47}, {\"date\": \"2020-03-02T00:00:00\", \"variable\": \"lockdown\", \"value\": 16}, {\"date\": \"2020-03-03T00:00:00\", \"variable\": \"lockdown\", \"value\": 12}, {\"date\": \"2020-03-04T00:00:00\", \"variable\": \"lockdown\", \"value\": 18}, {\"date\": \"2020-03-05T00:00:00\", \"variable\": \"lockdown\", \"value\": 10}, {\"date\": \"2020-03-06T00:00:00\", \"variable\": \"lockdown\", \"value\": 8}, {\"date\": \"2020-03-07T00:00:00\", \"variable\": \"lockdown\", \"value\": 60}, {\"date\": \"2020-03-08T00:00:00\", \"variable\": \"lockdown\", \"value\": 20}, {\"date\": \"2020-03-09T00:00:00\", \"variable\": \"lockdown\", \"value\": 195}, {\"date\": \"2020-03-10T00:00:00\", \"variable\": \"lockdown\", \"value\": 83}, {\"date\": \"2020-03-11T00:00:00\", \"variable\": \"lockdown\", \"value\": 75}, {\"date\": \"2020-03-12T00:00:00\", \"variable\": \"lockdown\", \"value\": 38}, {\"date\": \"2020-03-13T00:00:00\", \"variable\": \"lockdown\", \"value\": 125}, {\"date\": \"2020-03-14T00:00:00\", \"variable\": \"lockdown\", \"value\": 95}, {\"date\": \"2020-03-15T00:00:00\", \"variable\": \"lockdown\", \"value\": 72}, {\"date\": \"2020-03-16T00:00:00\", \"variable\": \"lockdown\", \"value\": 88}, {\"date\": \"2020-03-17T00:00:00\", \"variable\": \"lockdown\", \"value\": 130}, {\"date\": \"2020-03-18T00:00:00\", \"variable\": \"lockdown\", \"value\": 162}, {\"date\": \"2020-03-19T00:00:00\", \"variable\": \"lockdown\", \"value\": 86}, {\"date\": \"2020-03-20T00:00:00\", \"variable\": \"lockdown\", \"value\": 96}, {\"date\": \"2020-03-21T00:00:00\", \"variable\": \"lockdown\", \"value\": 149}, {\"date\": \"2020-03-22T00:00:00\", \"variable\": \"lockdown\", \"value\": 190}, {\"date\": \"2020-03-23T00:00:00\", \"variable\": \"lockdown\", \"value\": 307}, {\"date\": \"2020-03-24T00:00:00\", \"variable\": \"lockdown\", \"value\": 349}, {\"date\": \"2020-03-25T00:00:00\", \"variable\": \"lockdown\", \"value\": 328}, {\"date\": \"2020-03-26T00:00:00\", \"variable\": \"lockdown\", \"value\": 191}, {\"date\": \"2020-03-27T00:00:00\", \"variable\": \"lockdown\", \"value\": 487}, {\"date\": \"2020-03-28T00:00:00\", \"variable\": \"lockdown\", \"value\": 299}, {\"date\": \"2020-03-29T00:00:00\", \"variable\": \"lockdown\", \"value\": 273}, {\"date\": \"2020-03-30T00:00:00\", \"variable\": \"lockdown\", \"value\": 325}, {\"date\": \"2020-03-31T00:00:00\", \"variable\": \"lockdown\", \"value\": 282}, {\"date\": \"2020-04-01T00:00:00\", \"variable\": \"lockdown\", \"value\": 236}, {\"date\": \"2020-04-02T00:00:00\", \"variable\": \"lockdown\", \"value\": 299}, {\"date\": \"2020-04-03T00:00:00\", \"variable\": \"lockdown\", \"value\": 207}, {\"date\": \"2020-04-04T00:00:00\", \"variable\": \"lockdown\", \"value\": 289}, {\"date\": \"2020-04-05T00:00:00\", \"variable\": \"lockdown\", \"value\": 223}, {\"date\": \"2020-04-06T00:00:00\", \"variable\": \"lockdown\", \"value\": 285}, {\"date\": \"2020-04-07T00:00:00\", \"variable\": \"lockdown\", \"value\": 214}, {\"date\": \"2020-04-08T00:00:00\", \"variable\": \"lockdown\", \"value\": 289}]}}, {\"mode\": \"vega-lite\"});\n",
       "</script>"
      ],
      "text/plain": [
       "alt.Chart(...)"
      ]
     },
     "execution_count": 99,
     "metadata": {},
     "output_type": "execute_result"
    }
   ],
   "source": [
    "selection = alt.selection(type='multi', fields=['variable'], bind='legend')\n",
    "\n",
    "alt.Chart(First_Group_m).mark_line().encode(\n",
    "    x='date:T',\n",
    "    y='value',\n",
    "    color='variable',\n",
    "    tooltip=['variable', 'value'],\n",
    "    opacity=alt.condition(selection, alt.value(1), alt.value(0.1))\n",
    ").properties(\n",
    "    width=800,\n",
    "    height=400\n",
    ").add_selection(\n",
    "    selection\n",
    ")"
   ]
  },
  {
   "cell_type": "markdown",
   "metadata": {},
   "source": [
    "## Second keywords group"
   ]
  },
  {
   "cell_type": "code",
   "execution_count": 107,
   "metadata": {},
   "outputs": [
    {
     "name": "stdout",
     "output_type": "stream",
     "text": [
      "<class 'pandas.core.frame.DataFrame'>\n",
      "RangeIndex: 240 entries, 0 to 239\n",
      "Data columns (total 3 columns):\n",
      " #   Column    Non-Null Count  Dtype         \n",
      "---  ------    --------------  -----         \n",
      " 0   date      240 non-null    datetime64[ns]\n",
      " 1   variable  240 non-null    object        \n",
      " 2   value     240 non-null    int64         \n",
      "dtypes: datetime64[ns](1), int64(1), object(1)\n",
      "memory usage: 5.8+ KB\n"
     ]
    }
   ],
   "source": [
    "Second_Group = keyword_data[['Epidemic', 'Pandemic', 'Outbreak', 'date']]\n",
    "Second_Group_m = Second_Group.melt('date')\n",
    "Second_Group_m.info()"
   ]
  },
  {
   "cell_type": "code",
   "execution_count": 108,
   "metadata": {},
   "outputs": [
    {
     "data": {
      "text/html": [
       "\n",
       "<div id=\"altair-viz-02b4c925f61b4211bf1727229b3252c8\"></div>\n",
       "<script type=\"text/javascript\">\n",
       "  (function(spec, embedOpt){\n",
       "    let outputDiv = document.currentScript.previousElementSibling;\n",
       "    if (outputDiv.id !== \"altair-viz-02b4c925f61b4211bf1727229b3252c8\") {\n",
       "      outputDiv = document.getElementById(\"altair-viz-02b4c925f61b4211bf1727229b3252c8\");\n",
       "    }\n",
       "    const paths = {\n",
       "      \"vega\": \"https://cdn.jsdelivr.net/npm//vega@5?noext\",\n",
       "      \"vega-lib\": \"https://cdn.jsdelivr.net/npm//vega-lib?noext\",\n",
       "      \"vega-lite\": \"https://cdn.jsdelivr.net/npm//vega-lite@4.8.1?noext\",\n",
       "      \"vega-embed\": \"https://cdn.jsdelivr.net/npm//vega-embed@6?noext\",\n",
       "    };\n",
       "\n",
       "    function loadScript(lib) {\n",
       "      return new Promise(function(resolve, reject) {\n",
       "        var s = document.createElement('script');\n",
       "        s.src = paths[lib];\n",
       "        s.async = true;\n",
       "        s.onload = () => resolve(paths[lib]);\n",
       "        s.onerror = () => reject(`Error loading script: ${paths[lib]}`);\n",
       "        document.getElementsByTagName(\"head\")[0].appendChild(s);\n",
       "      });\n",
       "    }\n",
       "\n",
       "    function showError(err) {\n",
       "      outputDiv.innerHTML = `<div class=\"error\" style=\"color:red;\">${err}</div>`;\n",
       "      throw err;\n",
       "    }\n",
       "\n",
       "    function displayChart(vegaEmbed) {\n",
       "      vegaEmbed(outputDiv, spec, embedOpt)\n",
       "        .catch(err => showError(`Javascript Error: ${err.message}<br>This usually means there's a typo in your chart specification. See the javascript console for the full traceback.`));\n",
       "    }\n",
       "\n",
       "    if(typeof define === \"function\" && define.amd) {\n",
       "      requirejs.config({paths});\n",
       "      require([\"vega-embed\"], displayChart, err => showError(`Error loading script: ${err.message}`));\n",
       "    } else if (typeof vegaEmbed === \"function\") {\n",
       "      displayChart(vegaEmbed);\n",
       "    } else {\n",
       "      loadScript(\"vega\")\n",
       "        .then(() => loadScript(\"vega-lite\"))\n",
       "        .then(() => loadScript(\"vega-embed\"))\n",
       "        .catch(showError)\n",
       "        .then(() => displayChart(vegaEmbed));\n",
       "    }\n",
       "  })({\"config\": {\"view\": {\"continuousWidth\": 400, \"continuousHeight\": 300}}, \"layer\": [{\"mark\": \"circle\", \"encoding\": {\"color\": {\"type\": \"nominal\", \"field\": \"variable\"}, \"opacity\": {\"value\": 0}, \"x\": {\"type\": \"temporal\", \"axis\": {\"format\": \"%b %Y\", \"title\": \"DATE\"}, \"field\": \"date\"}, \"y\": {\"type\": \"quantitative\", \"field\": \"value\"}}, \"selection\": {\"selector033\": {\"type\": \"single\", \"on\": \"mouseover\", \"fields\": [\"variable\"], \"nearest\": true}}, \"width\": 600}, {\"mark\": \"line\", \"encoding\": {\"color\": {\"type\": \"nominal\", \"field\": \"variable\"}, \"size\": {\"condition\": {\"value\": 1, \"selection\": {\"not\": \"selector033\"}}, \"value\": 3}, \"x\": {\"type\": \"temporal\", \"axis\": {\"format\": \"%b %Y\", \"title\": \"DATE\"}, \"field\": \"date\"}, \"y\": {\"type\": \"quantitative\", \"field\": \"value\"}}}], \"data\": {\"name\": \"data-ede87fe6df4bed514373a61b99539ab7\"}, \"$schema\": \"https://vega.github.io/schema/vega-lite/v4.8.1.json\", \"datasets\": {\"data-ede87fe6df4bed514373a61b99539ab7\": [{\"date\": \"2020-01-20T00:00:00\", \"variable\": \"Epidemic\", \"value\": 77}, {\"date\": \"2020-01-21T00:00:00\", \"variable\": \"Epidemic\", \"value\": 49}, {\"date\": \"2020-01-22T00:00:00\", \"variable\": \"Epidemic\", \"value\": 55}, {\"date\": \"2020-01-23T00:00:00\", \"variable\": \"Epidemic\", \"value\": 55}, {\"date\": \"2020-01-24T00:00:00\", \"variable\": \"Epidemic\", \"value\": 50}, {\"date\": \"2020-01-25T00:00:00\", \"variable\": \"Epidemic\", \"value\": 61}, {\"date\": \"2020-01-26T00:00:00\", \"variable\": \"Epidemic\", \"value\": 89}, {\"date\": \"2020-01-27T00:00:00\", \"variable\": \"Epidemic\", \"value\": 78}, {\"date\": \"2020-01-28T00:00:00\", \"variable\": \"Epidemic\", \"value\": 73}, {\"date\": \"2020-01-29T00:00:00\", \"variable\": \"Epidemic\", \"value\": 78}, {\"date\": \"2020-01-30T00:00:00\", \"variable\": \"Epidemic\", \"value\": 89}, {\"date\": \"2020-01-31T00:00:00\", \"variable\": \"Epidemic\", \"value\": 66}, {\"date\": \"2020-02-01T00:00:00\", \"variable\": \"Epidemic\", \"value\": 100}, {\"date\": \"2020-02-02T00:00:00\", \"variable\": \"Epidemic\", \"value\": 97}, {\"date\": \"2020-02-03T00:00:00\", \"variable\": \"Epidemic\", \"value\": 164}, {\"date\": \"2020-02-04T00:00:00\", \"variable\": \"Epidemic\", \"value\": 124}, {\"date\": \"2020-02-05T00:00:00\", \"variable\": \"Epidemic\", \"value\": 101}, {\"date\": \"2020-02-06T00:00:00\", \"variable\": \"Epidemic\", \"value\": 163}, {\"date\": \"2020-02-07T00:00:00\", \"variable\": \"Epidemic\", \"value\": 107}, {\"date\": \"2020-02-08T00:00:00\", \"variable\": \"Epidemic\", \"value\": 99}, {\"date\": \"2020-02-09T00:00:00\", \"variable\": \"Epidemic\", \"value\": 153}, {\"date\": \"2020-02-10T00:00:00\", \"variable\": \"Epidemic\", \"value\": 127}, {\"date\": \"2020-02-11T00:00:00\", \"variable\": \"Epidemic\", \"value\": 103}, {\"date\": \"2020-02-12T00:00:00\", \"variable\": \"Epidemic\", \"value\": 102}, {\"date\": \"2020-02-13T00:00:00\", \"variable\": \"Epidemic\", \"value\": 163}, {\"date\": \"2020-02-14T00:00:00\", \"variable\": \"Epidemic\", \"value\": 161}, {\"date\": \"2020-02-15T00:00:00\", \"variable\": \"Epidemic\", \"value\": 176}, {\"date\": \"2020-02-16T00:00:00\", \"variable\": \"Epidemic\", \"value\": 160}, {\"date\": \"2020-02-17T00:00:00\", \"variable\": \"Epidemic\", \"value\": 129}, {\"date\": \"2020-02-18T00:00:00\", \"variable\": \"Epidemic\", \"value\": 136}, {\"date\": \"2020-02-19T00:00:00\", \"variable\": \"Epidemic\", \"value\": 141}, {\"date\": \"2020-02-20T00:00:00\", \"variable\": \"Epidemic\", \"value\": 115}, {\"date\": \"2020-02-21T00:00:00\", \"variable\": \"Epidemic\", \"value\": 89}, {\"date\": \"2020-02-22T00:00:00\", \"variable\": \"Epidemic\", \"value\": 18}, {\"date\": \"2020-02-23T00:00:00\", \"variable\": \"Epidemic\", \"value\": 82}, {\"date\": \"2020-02-24T00:00:00\", \"variable\": \"Epidemic\", \"value\": 163}, {\"date\": \"2020-02-25T00:00:00\", \"variable\": \"Epidemic\", \"value\": 49}, {\"date\": \"2020-02-26T00:00:00\", \"variable\": \"Epidemic\", \"value\": 88}, {\"date\": \"2020-02-27T00:00:00\", \"variable\": \"Epidemic\", \"value\": 69}, {\"date\": \"2020-02-28T00:00:00\", \"variable\": \"Epidemic\", \"value\": 69}, {\"date\": \"2020-02-29T00:00:00\", \"variable\": \"Epidemic\", \"value\": 82}, {\"date\": \"2020-03-01T00:00:00\", \"variable\": \"Epidemic\", \"value\": 89}, {\"date\": \"2020-03-02T00:00:00\", \"variable\": \"Epidemic\", \"value\": 51}, {\"date\": \"2020-03-03T00:00:00\", \"variable\": \"Epidemic\", \"value\": 52}, {\"date\": \"2020-03-04T00:00:00\", \"variable\": \"Epidemic\", \"value\": 77}, {\"date\": \"2020-03-05T00:00:00\", \"variable\": \"Epidemic\", \"value\": 62}, {\"date\": \"2020-03-06T00:00:00\", \"variable\": \"Epidemic\", \"value\": 52}, {\"date\": \"2020-03-07T00:00:00\", \"variable\": \"Epidemic\", \"value\": 65}, {\"date\": \"2020-03-08T00:00:00\", \"variable\": \"Epidemic\", \"value\": 19}, {\"date\": \"2020-03-09T00:00:00\", \"variable\": \"Epidemic\", \"value\": 45}, {\"date\": \"2020-03-10T00:00:00\", \"variable\": \"Epidemic\", \"value\": 51}, {\"date\": \"2020-03-11T00:00:00\", \"variable\": \"Epidemic\", \"value\": 47}, {\"date\": \"2020-03-12T00:00:00\", \"variable\": \"Epidemic\", \"value\": 23}, {\"date\": \"2020-03-13T00:00:00\", \"variable\": \"Epidemic\", \"value\": 51}, {\"date\": \"2020-03-14T00:00:00\", \"variable\": \"Epidemic\", \"value\": 28}, {\"date\": \"2020-03-15T00:00:00\", \"variable\": \"Epidemic\", \"value\": 34}, {\"date\": \"2020-03-16T00:00:00\", \"variable\": \"Epidemic\", \"value\": 23}, {\"date\": \"2020-03-17T00:00:00\", \"variable\": \"Epidemic\", \"value\": 25}, {\"date\": \"2020-03-18T00:00:00\", \"variable\": \"Epidemic\", \"value\": 34}, {\"date\": \"2020-03-19T00:00:00\", \"variable\": \"Epidemic\", \"value\": 22}, {\"date\": \"2020-03-20T00:00:00\", \"variable\": \"Epidemic\", \"value\": 36}, {\"date\": \"2020-03-21T00:00:00\", \"variable\": \"Epidemic\", \"value\": 33}, {\"date\": \"2020-03-22T00:00:00\", \"variable\": \"Epidemic\", \"value\": 22}, {\"date\": \"2020-03-23T00:00:00\", \"variable\": \"Epidemic\", \"value\": 30}, {\"date\": \"2020-03-24T00:00:00\", \"variable\": \"Epidemic\", \"value\": 26}, {\"date\": \"2020-03-25T00:00:00\", \"variable\": \"Epidemic\", \"value\": 13}, {\"date\": \"2020-03-26T00:00:00\", \"variable\": \"Epidemic\", \"value\": 23}, {\"date\": \"2020-03-27T00:00:00\", \"variable\": \"Epidemic\", \"value\": 28}, {\"date\": \"2020-03-28T00:00:00\", \"variable\": \"Epidemic\", \"value\": 24}, {\"date\": \"2020-03-29T00:00:00\", \"variable\": \"Epidemic\", \"value\": 23}, {\"date\": \"2020-03-30T00:00:00\", \"variable\": \"Epidemic\", \"value\": 23}, {\"date\": \"2020-03-31T00:00:00\", \"variable\": \"Epidemic\", \"value\": 33}, {\"date\": \"2020-04-01T00:00:00\", \"variable\": \"Epidemic\", \"value\": 25}, {\"date\": \"2020-04-02T00:00:00\", \"variable\": \"Epidemic\", \"value\": 37}, {\"date\": \"2020-04-03T00:00:00\", \"variable\": \"Epidemic\", \"value\": 16}, {\"date\": \"2020-04-04T00:00:00\", \"variable\": \"Epidemic\", \"value\": 24}, {\"date\": \"2020-04-05T00:00:00\", \"variable\": \"Epidemic\", \"value\": 31}, {\"date\": \"2020-04-06T00:00:00\", \"variable\": \"Epidemic\", \"value\": 25}, {\"date\": \"2020-04-07T00:00:00\", \"variable\": \"Epidemic\", \"value\": 26}, {\"date\": \"2020-04-08T00:00:00\", \"variable\": \"Epidemic\", \"value\": 25}, {\"date\": \"2020-01-20T00:00:00\", \"variable\": \"Pandemic\", \"value\": 82}, {\"date\": \"2020-01-21T00:00:00\", \"variable\": \"Pandemic\", \"value\": 87}, {\"date\": \"2020-01-22T00:00:00\", \"variable\": \"Pandemic\", \"value\": 105}, {\"date\": \"2020-01-23T00:00:00\", \"variable\": \"Pandemic\", \"value\": 173}, {\"date\": \"2020-01-24T00:00:00\", \"variable\": \"Pandemic\", \"value\": 105}, {\"date\": \"2020-01-25T00:00:00\", \"variable\": \"Pandemic\", \"value\": 154}, {\"date\": \"2020-01-26T00:00:00\", \"variable\": \"Pandemic\", \"value\": 144}, {\"date\": \"2020-01-27T00:00:00\", \"variable\": \"Pandemic\", \"value\": 151}, {\"date\": \"2020-01-28T00:00:00\", \"variable\": \"Pandemic\", \"value\": 73}, {\"date\": \"2020-01-29T00:00:00\", \"variable\": \"Pandemic\", \"value\": 82}, {\"date\": \"2020-01-30T00:00:00\", \"variable\": \"Pandemic\", \"value\": 113}, {\"date\": \"2020-01-31T00:00:00\", \"variable\": \"Pandemic\", \"value\": 100}, {\"date\": \"2020-02-01T00:00:00\", \"variable\": \"Pandemic\", \"value\": 113}, {\"date\": \"2020-02-02T00:00:00\", \"variable\": \"Pandemic\", \"value\": 273}, {\"date\": \"2020-02-03T00:00:00\", \"variable\": \"Pandemic\", \"value\": 227}, {\"date\": \"2020-02-04T00:00:00\", \"variable\": \"Pandemic\", \"value\": 128}, {\"date\": \"2020-02-05T00:00:00\", \"variable\": \"Pandemic\", \"value\": 148}, {\"date\": \"2020-02-06T00:00:00\", \"variable\": \"Pandemic\", \"value\": 138}, {\"date\": \"2020-02-07T00:00:00\", \"variable\": \"Pandemic\", \"value\": 106}, {\"date\": \"2020-02-08T00:00:00\", \"variable\": \"Pandemic\", \"value\": 112}, {\"date\": \"2020-02-09T00:00:00\", \"variable\": \"Pandemic\", \"value\": 120}, {\"date\": \"2020-02-10T00:00:00\", \"variable\": \"Pandemic\", \"value\": 114}, {\"date\": \"2020-02-11T00:00:00\", \"variable\": \"Pandemic\", \"value\": 100}, {\"date\": \"2020-02-12T00:00:00\", \"variable\": \"Pandemic\", \"value\": 127}, {\"date\": \"2020-02-13T00:00:00\", \"variable\": \"Pandemic\", \"value\": 199}, {\"date\": \"2020-02-14T00:00:00\", \"variable\": \"Pandemic\", \"value\": 171}, {\"date\": \"2020-02-15T00:00:00\", \"variable\": \"Pandemic\", \"value\": 193}, {\"date\": \"2020-02-16T00:00:00\", \"variable\": \"Pandemic\", \"value\": 190}, {\"date\": \"2020-02-17T00:00:00\", \"variable\": \"Pandemic\", \"value\": 146}, {\"date\": \"2020-02-18T00:00:00\", \"variable\": \"Pandemic\", \"value\": 141}, {\"date\": \"2020-02-19T00:00:00\", \"variable\": \"Pandemic\", \"value\": 133}, {\"date\": \"2020-02-20T00:00:00\", \"variable\": \"Pandemic\", \"value\": 213}, {\"date\": \"2020-02-21T00:00:00\", \"variable\": \"Pandemic\", \"value\": 348}, {\"date\": \"2020-02-22T00:00:00\", \"variable\": \"Pandemic\", \"value\": 90}, {\"date\": \"2020-02-23T00:00:00\", \"variable\": \"Pandemic\", \"value\": 322}, {\"date\": \"2020-02-24T00:00:00\", \"variable\": \"Pandemic\", \"value\": 840}, {\"date\": \"2020-02-25T00:00:00\", \"variable\": \"Pandemic\", \"value\": 280}, {\"date\": \"2020-02-26T00:00:00\", \"variable\": \"Pandemic\", \"value\": 223}, {\"date\": \"2020-02-27T00:00:00\", \"variable\": \"Pandemic\", \"value\": 224}, {\"date\": \"2020-02-28T00:00:00\", \"variable\": \"Pandemic\", \"value\": 182}, {\"date\": \"2020-02-29T00:00:00\", \"variable\": \"Pandemic\", \"value\": 159}, {\"date\": \"2020-03-01T00:00:00\", \"variable\": \"Pandemic\", \"value\": 175}, {\"date\": \"2020-03-02T00:00:00\", \"variable\": \"Pandemic\", \"value\": 178}, {\"date\": \"2020-03-03T00:00:00\", \"variable\": \"Pandemic\", \"value\": 129}, {\"date\": \"2020-03-04T00:00:00\", \"variable\": \"Pandemic\", \"value\": 104}, {\"date\": \"2020-03-05T00:00:00\", \"variable\": \"Pandemic\", \"value\": 109}, {\"date\": \"2020-03-06T00:00:00\", \"variable\": \"Pandemic\", \"value\": 101}, {\"date\": \"2020-03-07T00:00:00\", \"variable\": \"Pandemic\", \"value\": 125}, {\"date\": \"2020-03-08T00:00:00\", \"variable\": \"Pandemic\", \"value\": 34}, {\"date\": \"2020-03-09T00:00:00\", \"variable\": \"Pandemic\", \"value\": 163}, {\"date\": \"2020-03-10T00:00:00\", \"variable\": \"Pandemic\", \"value\": 112}, {\"date\": \"2020-03-11T00:00:00\", \"variable\": \"Pandemic\", \"value\": 451}, {\"date\": \"2020-03-12T00:00:00\", \"variable\": \"Pandemic\", \"value\": 408}, {\"date\": \"2020-03-13T00:00:00\", \"variable\": \"Pandemic\", \"value\": 819}, {\"date\": \"2020-03-14T00:00:00\", \"variable\": \"Pandemic\", \"value\": 267}, {\"date\": \"2020-03-15T00:00:00\", \"variable\": \"Pandemic\", \"value\": 296}, {\"date\": \"2020-03-16T00:00:00\", \"variable\": \"Pandemic\", \"value\": 315}, {\"date\": \"2020-03-17T00:00:00\", \"variable\": \"Pandemic\", \"value\": 440}, {\"date\": \"2020-03-18T00:00:00\", \"variable\": \"Pandemic\", \"value\": 475}, {\"date\": \"2020-03-19T00:00:00\", \"variable\": \"Pandemic\", \"value\": 405}, {\"date\": \"2020-03-20T00:00:00\", \"variable\": \"Pandemic\", \"value\": 498}, {\"date\": \"2020-03-21T00:00:00\", \"variable\": \"Pandemic\", \"value\": 585}, {\"date\": \"2020-03-22T00:00:00\", \"variable\": \"Pandemic\", \"value\": 542}, {\"date\": \"2020-03-23T00:00:00\", \"variable\": \"Pandemic\", \"value\": 615}, {\"date\": \"2020-03-24T00:00:00\", \"variable\": \"Pandemic\", \"value\": 448}, {\"date\": \"2020-03-25T00:00:00\", \"variable\": \"Pandemic\", \"value\": 472}, {\"date\": \"2020-03-26T00:00:00\", \"variable\": \"Pandemic\", \"value\": 514}, {\"date\": \"2020-03-27T00:00:00\", \"variable\": \"Pandemic\", \"value\": 458}, {\"date\": \"2020-03-28T00:00:00\", \"variable\": \"Pandemic\", \"value\": 482}, {\"date\": \"2020-03-29T00:00:00\", \"variable\": \"Pandemic\", \"value\": 458}, {\"date\": \"2020-03-30T00:00:00\", \"variable\": \"Pandemic\", \"value\": 538}, {\"date\": \"2020-03-31T00:00:00\", \"variable\": \"Pandemic\", \"value\": 601}, {\"date\": \"2020-04-01T00:00:00\", \"variable\": \"Pandemic\", \"value\": 674}, {\"date\": \"2020-04-02T00:00:00\", \"variable\": \"Pandemic\", \"value\": 1295}, {\"date\": \"2020-04-03T00:00:00\", \"variable\": \"Pandemic\", \"value\": 918}, {\"date\": \"2020-04-04T00:00:00\", \"variable\": \"Pandemic\", \"value\": 718}, {\"date\": \"2020-04-05T00:00:00\", \"variable\": \"Pandemic\", \"value\": 623}, {\"date\": \"2020-04-06T00:00:00\", \"variable\": \"Pandemic\", \"value\": 638}, {\"date\": \"2020-04-07T00:00:00\", \"variable\": \"Pandemic\", \"value\": 746}, {\"date\": \"2020-04-08T00:00:00\", \"variable\": \"Pandemic\", \"value\": 712}, {\"date\": \"2020-01-20T00:00:00\", \"variable\": \"Outbreak\", \"value\": 1111}, {\"date\": \"2020-01-21T00:00:00\", \"variable\": \"Outbreak\", \"value\": 506}, {\"date\": \"2020-01-22T00:00:00\", \"variable\": \"Outbreak\", \"value\": 859}, {\"date\": \"2020-01-23T00:00:00\", \"variable\": \"Outbreak\", \"value\": 1057}, {\"date\": \"2020-01-24T00:00:00\", \"variable\": \"Outbreak\", \"value\": 774}, {\"date\": \"2020-01-25T00:00:00\", \"variable\": \"Outbreak\", \"value\": 791}, {\"date\": \"2020-01-26T00:00:00\", \"variable\": \"Outbreak\", \"value\": 928}, {\"date\": \"2020-01-27T00:00:00\", \"variable\": \"Outbreak\", \"value\": 741}, {\"date\": \"2020-01-28T00:00:00\", \"variable\": \"Outbreak\", \"value\": 693}, {\"date\": \"2020-01-29T00:00:00\", \"variable\": \"Outbreak\", \"value\": 689}, {\"date\": \"2020-01-30T00:00:00\", \"variable\": \"Outbreak\", \"value\": 861}, {\"date\": \"2020-01-31T00:00:00\", \"variable\": \"Outbreak\", \"value\": 601}, {\"date\": \"2020-02-01T00:00:00\", \"variable\": \"Outbreak\", \"value\": 800}, {\"date\": \"2020-02-02T00:00:00\", \"variable\": \"Outbreak\", \"value\": 692}, {\"date\": \"2020-02-03T00:00:00\", \"variable\": \"Outbreak\", \"value\": 780}, {\"date\": \"2020-02-04T00:00:00\", \"variable\": \"Outbreak\", \"value\": 844}, {\"date\": \"2020-02-05T00:00:00\", \"variable\": \"Outbreak\", \"value\": 821}, {\"date\": \"2020-02-06T00:00:00\", \"variable\": \"Outbreak\", \"value\": 1055}, {\"date\": \"2020-02-07T00:00:00\", \"variable\": \"Outbreak\", \"value\": 800}, {\"date\": \"2020-02-08T00:00:00\", \"variable\": \"Outbreak\", \"value\": 884}, {\"date\": \"2020-02-09T00:00:00\", \"variable\": \"Outbreak\", \"value\": 948}, {\"date\": \"2020-02-10T00:00:00\", \"variable\": \"Outbreak\", \"value\": 873}, {\"date\": \"2020-02-11T00:00:00\", \"variable\": \"Outbreak\", \"value\": 839}, {\"date\": \"2020-02-12T00:00:00\", \"variable\": \"Outbreak\", \"value\": 1036}, {\"date\": \"2020-02-13T00:00:00\", \"variable\": \"Outbreak\", \"value\": 908}, {\"date\": \"2020-02-14T00:00:00\", \"variable\": \"Outbreak\", \"value\": 953}, {\"date\": \"2020-02-15T00:00:00\", \"variable\": \"Outbreak\", \"value\": 899}, {\"date\": \"2020-02-16T00:00:00\", \"variable\": \"Outbreak\", \"value\": 775}, {\"date\": \"2020-02-17T00:00:00\", \"variable\": \"Outbreak\", \"value\": 985}, {\"date\": \"2020-02-18T00:00:00\", \"variable\": \"Outbreak\", \"value\": 933}, {\"date\": \"2020-02-19T00:00:00\", \"variable\": \"Outbreak\", \"value\": 836}, {\"date\": \"2020-02-20T00:00:00\", \"variable\": \"Outbreak\", \"value\": 907}, {\"date\": \"2020-02-21T00:00:00\", \"variable\": \"Outbreak\", \"value\": 740}, {\"date\": \"2020-02-22T00:00:00\", \"variable\": \"Outbreak\", \"value\": 162}, {\"date\": \"2020-02-23T00:00:00\", \"variable\": \"Outbreak\", \"value\": 802}, {\"date\": \"2020-02-24T00:00:00\", \"variable\": \"Outbreak\", \"value\": 1441}, {\"date\": \"2020-02-25T00:00:00\", \"variable\": \"Outbreak\", \"value\": 612}, {\"date\": \"2020-02-26T00:00:00\", \"variable\": \"Outbreak\", \"value\": 912}, {\"date\": \"2020-02-27T00:00:00\", \"variable\": \"Outbreak\", \"value\": 433}, {\"date\": \"2020-02-28T00:00:00\", \"variable\": \"Outbreak\", \"value\": 430}, {\"date\": \"2020-02-29T00:00:00\", \"variable\": \"Outbreak\", \"value\": 360}, {\"date\": \"2020-03-01T00:00:00\", \"variable\": \"Outbreak\", \"value\": 438}, {\"date\": \"2020-03-02T00:00:00\", \"variable\": \"Outbreak\", \"value\": 774}, {\"date\": \"2020-03-03T00:00:00\", \"variable\": \"Outbreak\", \"value\": 582}, {\"date\": \"2020-03-04T00:00:00\", \"variable\": \"Outbreak\", \"value\": 570}, {\"date\": \"2020-03-05T00:00:00\", \"variable\": \"Outbreak\", \"value\": 423}, {\"date\": \"2020-03-06T00:00:00\", \"variable\": \"Outbreak\", \"value\": 427}, {\"date\": \"2020-03-07T00:00:00\", \"variable\": \"Outbreak\", \"value\": 350}, {\"date\": \"2020-03-08T00:00:00\", \"variable\": \"Outbreak\", \"value\": 184}, {\"date\": \"2020-03-09T00:00:00\", \"variable\": \"Outbreak\", \"value\": 455}, {\"date\": \"2020-03-10T00:00:00\", \"variable\": \"Outbreak\", \"value\": 370}, {\"date\": \"2020-03-11T00:00:00\", \"variable\": \"Outbreak\", \"value\": 344}, {\"date\": \"2020-03-12T00:00:00\", \"variable\": \"Outbreak\", \"value\": 248}, {\"date\": \"2020-03-13T00:00:00\", \"variable\": \"Outbreak\", \"value\": 662}, {\"date\": \"2020-03-14T00:00:00\", \"variable\": \"Outbreak\", \"value\": 210}, {\"date\": \"2020-03-15T00:00:00\", \"variable\": \"Outbreak\", \"value\": 287}, {\"date\": \"2020-03-16T00:00:00\", \"variable\": \"Outbreak\", \"value\": 483}, {\"date\": \"2020-03-17T00:00:00\", \"variable\": \"Outbreak\", \"value\": 365}, {\"date\": \"2020-03-18T00:00:00\", \"variable\": \"Outbreak\", \"value\": 376}, {\"date\": \"2020-03-19T00:00:00\", \"variable\": \"Outbreak\", \"value\": 220}, {\"date\": \"2020-03-20T00:00:00\", \"variable\": \"Outbreak\", \"value\": 232}, {\"date\": \"2020-03-21T00:00:00\", \"variable\": \"Outbreak\", \"value\": 224}, {\"date\": \"2020-03-22T00:00:00\", \"variable\": \"Outbreak\", \"value\": 232}, {\"date\": \"2020-03-23T00:00:00\", \"variable\": \"Outbreak\", \"value\": 263}, {\"date\": \"2020-03-24T00:00:00\", \"variable\": \"Outbreak\", \"value\": 213}, {\"date\": \"2020-03-25T00:00:00\", \"variable\": \"Outbreak\", \"value\": 258}, {\"date\": \"2020-03-26T00:00:00\", \"variable\": \"Outbreak\", \"value\": 254}, {\"date\": \"2020-03-27T00:00:00\", \"variable\": \"Outbreak\", \"value\": 260}, {\"date\": \"2020-03-28T00:00:00\", \"variable\": \"Outbreak\", \"value\": 256}, {\"date\": \"2020-03-29T00:00:00\", \"variable\": \"Outbreak\", \"value\": 223}, {\"date\": \"2020-03-30T00:00:00\", \"variable\": \"Outbreak\", \"value\": 220}, {\"date\": \"2020-03-31T00:00:00\", \"variable\": \"Outbreak\", \"value\": 226}, {\"date\": \"2020-04-01T00:00:00\", \"variable\": \"Outbreak\", \"value\": 266}, {\"date\": \"2020-04-02T00:00:00\", \"variable\": \"Outbreak\", \"value\": 373}, {\"date\": \"2020-04-03T00:00:00\", \"variable\": \"Outbreak\", \"value\": 186}, {\"date\": \"2020-04-04T00:00:00\", \"variable\": \"Outbreak\", \"value\": 186}, {\"date\": \"2020-04-05T00:00:00\", \"variable\": \"Outbreak\", \"value\": 194}, {\"date\": \"2020-04-06T00:00:00\", \"variable\": \"Outbreak\", \"value\": 220}, {\"date\": \"2020-04-07T00:00:00\", \"variable\": \"Outbreak\", \"value\": 187}, {\"date\": \"2020-04-08T00:00:00\", \"variable\": \"Outbreak\", \"value\": 222}]}}, {\"mode\": \"vega-lite\"});\n",
       "</script>"
      ],
      "text/plain": [
       "alt.LayerChart(...)"
      ]
     },
     "execution_count": 108,
     "metadata": {},
     "output_type": "execute_result"
    }
   ],
   "source": [
    "highlight = alt.selection(type='single', on='mouseover',\n",
    "                          fields=['variable'], nearest=True)\n",
    "\n",
    "base = alt.Chart(Second_Group_m).encode(\n",
    "    x=alt.X('date:T', axis = alt.Axis(title = 'Date'.upper(), format = (\"%b %Y\"))),\n",
    "    y='value:Q',\n",
    "    color='variable:N',\n",
    "    tooltip=['variable', 'value']\n",
    ")\n",
    "\n",
    "points = base.mark_circle().encode(\n",
    "    opacity=alt.value(0)\n",
    ").add_selection(\n",
    "    highlight\n",
    ").properties(\n",
    "    width=600\n",
    ")\n",
    "\n",
    "lines = base.mark_line().encode(\n",
    "    size=alt.condition(~highlight, alt.value(1), alt.value(3))\n",
    ")\n",
    "\n",
    "points + lines"
   ]
  },
  {
   "cell_type": "markdown",
   "metadata": {},
   "source": [
    "## Third keywords group"
   ]
  },
  {
   "cell_type": "code",
   "execution_count": 111,
   "metadata": {},
   "outputs": [
    {
     "name": "stdout",
     "output_type": "stream",
     "text": [
      "<class 'pandas.core.frame.DataFrame'>\n",
      "RangeIndex: 320 entries, 0 to 319\n",
      "Data columns (total 3 columns):\n",
      " #   Column    Non-Null Count  Dtype         \n",
      "---  ------    --------------  -----         \n",
      " 0   date      320 non-null    datetime64[ns]\n",
      " 1   variable  320 non-null    object        \n",
      " 2   value     320 non-null    int64         \n",
      "dtypes: datetime64[ns](1), int64(1), object(1)\n",
      "memory usage: 7.6+ KB\n"
     ]
    }
   ],
   "source": [
    "Third_Group = keyword_data[['social distancing', 'Flatten the curve', 'travel ban','treatment', 'date']]\n",
    "Third_Group_m = Third_Group.melt('date')\n",
    "Third_Group_m.info()"
   ]
  },
  {
   "cell_type": "code",
   "execution_count": 112,
   "metadata": {},
   "outputs": [
    {
     "data": {
      "text/html": [
       "\n",
       "<div id=\"altair-viz-470e03dd160840f2b6469dc9860b2152\"></div>\n",
       "<script type=\"text/javascript\">\n",
       "  (function(spec, embedOpt){\n",
       "    let outputDiv = document.currentScript.previousElementSibling;\n",
       "    if (outputDiv.id !== \"altair-viz-470e03dd160840f2b6469dc9860b2152\") {\n",
       "      outputDiv = document.getElementById(\"altair-viz-470e03dd160840f2b6469dc9860b2152\");\n",
       "    }\n",
       "    const paths = {\n",
       "      \"vega\": \"https://cdn.jsdelivr.net/npm//vega@5?noext\",\n",
       "      \"vega-lib\": \"https://cdn.jsdelivr.net/npm//vega-lib?noext\",\n",
       "      \"vega-lite\": \"https://cdn.jsdelivr.net/npm//vega-lite@4.8.1?noext\",\n",
       "      \"vega-embed\": \"https://cdn.jsdelivr.net/npm//vega-embed@6?noext\",\n",
       "    };\n",
       "\n",
       "    function loadScript(lib) {\n",
       "      return new Promise(function(resolve, reject) {\n",
       "        var s = document.createElement('script');\n",
       "        s.src = paths[lib];\n",
       "        s.async = true;\n",
       "        s.onload = () => resolve(paths[lib]);\n",
       "        s.onerror = () => reject(`Error loading script: ${paths[lib]}`);\n",
       "        document.getElementsByTagName(\"head\")[0].appendChild(s);\n",
       "      });\n",
       "    }\n",
       "\n",
       "    function showError(err) {\n",
       "      outputDiv.innerHTML = `<div class=\"error\" style=\"color:red;\">${err}</div>`;\n",
       "      throw err;\n",
       "    }\n",
       "\n",
       "    function displayChart(vegaEmbed) {\n",
       "      vegaEmbed(outputDiv, spec, embedOpt)\n",
       "        .catch(err => showError(`Javascript Error: ${err.message}<br>This usually means there's a typo in your chart specification. See the javascript console for the full traceback.`));\n",
       "    }\n",
       "\n",
       "    if(typeof define === \"function\" && define.amd) {\n",
       "      requirejs.config({paths});\n",
       "      require([\"vega-embed\"], displayChart, err => showError(`Error loading script: ${err.message}`));\n",
       "    } else if (typeof vegaEmbed === \"function\") {\n",
       "      displayChart(vegaEmbed);\n",
       "    } else {\n",
       "      loadScript(\"vega\")\n",
       "        .then(() => loadScript(\"vega-lite\"))\n",
       "        .then(() => loadScript(\"vega-embed\"))\n",
       "        .catch(showError)\n",
       "        .then(() => displayChart(vegaEmbed));\n",
       "    }\n",
       "  })({\"config\": {\"view\": {\"continuousWidth\": 400, \"continuousHeight\": 300}}, \"layer\": [{\"mark\": \"circle\", \"encoding\": {\"color\": {\"type\": \"nominal\", \"field\": \"variable\"}, \"opacity\": {\"value\": 0}, \"x\": {\"type\": \"temporal\", \"axis\": {\"format\": \"%b %Y\", \"title\": \"DATE\"}, \"field\": \"date\"}, \"y\": {\"type\": \"quantitative\", \"field\": \"value\"}}, \"selection\": {\"selector035\": {\"type\": \"single\", \"on\": \"mouseover\", \"fields\": [\"variable\"], \"nearest\": true}}, \"width\": 600}, {\"mark\": \"line\", \"encoding\": {\"color\": {\"type\": \"nominal\", \"field\": \"variable\"}, \"size\": {\"condition\": {\"value\": 1, \"selection\": {\"not\": \"selector035\"}}, \"value\": 3}, \"x\": {\"type\": \"temporal\", \"axis\": {\"format\": \"%b %Y\", \"title\": \"DATE\"}, \"field\": \"date\"}, \"y\": {\"type\": \"quantitative\", \"field\": \"value\"}}}], \"data\": {\"name\": \"data-6bd6507e85d57570722ad93640ea4a35\"}, \"$schema\": \"https://vega.github.io/schema/vega-lite/v4.8.1.json\", \"datasets\": {\"data-6bd6507e85d57570722ad93640ea4a35\": [{\"date\": \"2020-01-20T00:00:00\", \"variable\": \"social distancing\", \"value\": 0}, {\"date\": \"2020-01-21T00:00:00\", \"variable\": \"social distancing\", \"value\": 0}, {\"date\": \"2020-01-22T00:00:00\", \"variable\": \"social distancing\", \"value\": 0}, {\"date\": \"2020-01-23T00:00:00\", \"variable\": \"social distancing\", \"value\": 0}, {\"date\": \"2020-01-24T00:00:00\", \"variable\": \"social distancing\", \"value\": 0}, {\"date\": \"2020-01-25T00:00:00\", \"variable\": \"social distancing\", \"value\": 0}, {\"date\": \"2020-01-26T00:00:00\", \"variable\": \"social distancing\", \"value\": 0}, {\"date\": \"2020-01-27T00:00:00\", \"variable\": \"social distancing\", \"value\": 0}, {\"date\": \"2020-01-28T00:00:00\", \"variable\": \"social distancing\", \"value\": 1}, {\"date\": \"2020-01-29T00:00:00\", \"variable\": \"social distancing\", \"value\": 0}, {\"date\": \"2020-01-30T00:00:00\", \"variable\": \"social distancing\", \"value\": 0}, {\"date\": \"2020-01-31T00:00:00\", \"variable\": \"social distancing\", \"value\": 0}, {\"date\": \"2020-02-01T00:00:00\", \"variable\": \"social distancing\", \"value\": 0}, {\"date\": \"2020-02-02T00:00:00\", \"variable\": \"social distancing\", \"value\": 2}, {\"date\": \"2020-02-03T00:00:00\", \"variable\": \"social distancing\", \"value\": 6}, {\"date\": \"2020-02-04T00:00:00\", \"variable\": \"social distancing\", \"value\": 1}, {\"date\": \"2020-02-05T00:00:00\", \"variable\": \"social distancing\", \"value\": 0}, {\"date\": \"2020-02-06T00:00:00\", \"variable\": \"social distancing\", \"value\": 1}, {\"date\": \"2020-02-07T00:00:00\", \"variable\": \"social distancing\", \"value\": 0}, {\"date\": \"2020-02-08T00:00:00\", \"variable\": \"social distancing\", \"value\": 0}, {\"date\": \"2020-02-09T00:00:00\", \"variable\": \"social distancing\", \"value\": 1}, {\"date\": \"2020-02-10T00:00:00\", \"variable\": \"social distancing\", \"value\": 0}, {\"date\": \"2020-02-11T00:00:00\", \"variable\": \"social distancing\", \"value\": 0}, {\"date\": \"2020-02-12T00:00:00\", \"variable\": \"social distancing\", \"value\": 3}, {\"date\": \"2020-02-13T00:00:00\", \"variable\": \"social distancing\", \"value\": 3}, {\"date\": \"2020-02-14T00:00:00\", \"variable\": \"social distancing\", \"value\": 1}, {\"date\": \"2020-02-15T00:00:00\", \"variable\": \"social distancing\", \"value\": 0}, {\"date\": \"2020-02-16T00:00:00\", \"variable\": \"social distancing\", \"value\": 1}, {\"date\": \"2020-02-17T00:00:00\", \"variable\": \"social distancing\", \"value\": 2}, {\"date\": \"2020-02-18T00:00:00\", \"variable\": \"social distancing\", \"value\": 1}, {\"date\": \"2020-02-19T00:00:00\", \"variable\": \"social distancing\", \"value\": 0}, {\"date\": \"2020-02-20T00:00:00\", \"variable\": \"social distancing\", \"value\": 1}, {\"date\": \"2020-02-21T00:00:00\", \"variable\": \"social distancing\", \"value\": 0}, {\"date\": \"2020-02-22T00:00:00\", \"variable\": \"social distancing\", \"value\": 0}, {\"date\": \"2020-02-23T00:00:00\", \"variable\": \"social distancing\", \"value\": 1}, {\"date\": \"2020-02-24T00:00:00\", \"variable\": \"social distancing\", \"value\": 3}, {\"date\": \"2020-02-25T00:00:00\", \"variable\": \"social distancing\", \"value\": 1}, {\"date\": \"2020-02-26T00:00:00\", \"variable\": \"social distancing\", \"value\": 1}, {\"date\": \"2020-02-27T00:00:00\", \"variable\": \"social distancing\", \"value\": 0}, {\"date\": \"2020-02-28T00:00:00\", \"variable\": \"social distancing\", \"value\": 0}, {\"date\": \"2020-02-29T00:00:00\", \"variable\": \"social distancing\", \"value\": 2}, {\"date\": \"2020-03-01T00:00:00\", \"variable\": \"social distancing\", \"value\": 3}, {\"date\": \"2020-03-02T00:00:00\", \"variable\": \"social distancing\", \"value\": 6}, {\"date\": \"2020-03-03T00:00:00\", \"variable\": \"social distancing\", \"value\": 4}, {\"date\": \"2020-03-04T00:00:00\", \"variable\": \"social distancing\", \"value\": 4}, {\"date\": \"2020-03-05T00:00:00\", \"variable\": \"social distancing\", \"value\": 3}, {\"date\": \"2020-03-06T00:00:00\", \"variable\": \"social distancing\", \"value\": 7}, {\"date\": \"2020-03-07T00:00:00\", \"variable\": \"social distancing\", \"value\": 8}, {\"date\": \"2020-03-08T00:00:00\", \"variable\": \"social distancing\", \"value\": 6}, {\"date\": \"2020-03-09T00:00:00\", \"variable\": \"social distancing\", \"value\": 13}, {\"date\": \"2020-03-10T00:00:00\", \"variable\": \"social distancing\", \"value\": 40}, {\"date\": \"2020-03-11T00:00:00\", \"variable\": \"social distancing\", \"value\": 48}, {\"date\": \"2020-03-12T00:00:00\", \"variable\": \"social distancing\", \"value\": 28}, {\"date\": \"2020-03-13T00:00:00\", \"variable\": \"social distancing\", \"value\": 84}, {\"date\": \"2020-03-14T00:00:00\", \"variable\": \"social distancing\", \"value\": 108}, {\"date\": \"2020-03-15T00:00:00\", \"variable\": \"social distancing\", \"value\": 138}, {\"date\": \"2020-03-16T00:00:00\", \"variable\": \"social distancing\", \"value\": 132}, {\"date\": \"2020-03-17T00:00:00\", \"variable\": \"social distancing\", \"value\": 135}, {\"date\": \"2020-03-18T00:00:00\", \"variable\": \"social distancing\", \"value\": 152}, {\"date\": \"2020-03-19T00:00:00\", \"variable\": \"social distancing\", \"value\": 117}, {\"date\": \"2020-03-20T00:00:00\", \"variable\": \"social distancing\", \"value\": 120}, {\"date\": \"2020-03-21T00:00:00\", \"variable\": \"social distancing\", \"value\": 125}, {\"date\": \"2020-03-22T00:00:00\", \"variable\": \"social distancing\", \"value\": 191}, {\"date\": \"2020-03-23T00:00:00\", \"variable\": \"social distancing\", \"value\": 162}, {\"date\": \"2020-03-24T00:00:00\", \"variable\": \"social distancing\", \"value\": 134}, {\"date\": \"2020-03-25T00:00:00\", \"variable\": \"social distancing\", \"value\": 134}, {\"date\": \"2020-03-26T00:00:00\", \"variable\": \"social distancing\", \"value\": 127}, {\"date\": \"2020-03-27T00:00:00\", \"variable\": \"social distancing\", \"value\": 134}, {\"date\": \"2020-03-28T00:00:00\", \"variable\": \"social distancing\", \"value\": 96}, {\"date\": \"2020-03-29T00:00:00\", \"variable\": \"social distancing\", \"value\": 231}, {\"date\": \"2020-03-30T00:00:00\", \"variable\": \"social distancing\", \"value\": 173}, {\"date\": \"2020-03-31T00:00:00\", \"variable\": \"social distancing\", \"value\": 163}, {\"date\": \"2020-04-01T00:00:00\", \"variable\": \"social distancing\", \"value\": 131}, {\"date\": \"2020-04-02T00:00:00\", \"variable\": \"social distancing\", \"value\": 140}, {\"date\": \"2020-04-03T00:00:00\", \"variable\": \"social distancing\", \"value\": 113}, {\"date\": \"2020-04-04T00:00:00\", \"variable\": \"social distancing\", \"value\": 109}, {\"date\": \"2020-04-05T00:00:00\", \"variable\": \"social distancing\", \"value\": 121}, {\"date\": \"2020-04-06T00:00:00\", \"variable\": \"social distancing\", \"value\": 124}, {\"date\": \"2020-04-07T00:00:00\", \"variable\": \"social distancing\", \"value\": 134}, {\"date\": \"2020-04-08T00:00:00\", \"variable\": \"social distancing\", \"value\": 138}, {\"date\": \"2020-01-20T00:00:00\", \"variable\": \"Flatten the curve\", \"value\": 0}, {\"date\": \"2020-01-21T00:00:00\", \"variable\": \"Flatten the curve\", \"value\": 0}, {\"date\": \"2020-01-22T00:00:00\", \"variable\": \"Flatten the curve\", \"value\": 0}, {\"date\": \"2020-01-23T00:00:00\", \"variable\": \"Flatten the curve\", \"value\": 0}, {\"date\": \"2020-01-24T00:00:00\", \"variable\": \"Flatten the curve\", \"value\": 0}, {\"date\": \"2020-01-25T00:00:00\", \"variable\": \"Flatten the curve\", \"value\": 0}, {\"date\": \"2020-01-26T00:00:00\", \"variable\": \"Flatten the curve\", \"value\": 0}, {\"date\": \"2020-01-27T00:00:00\", \"variable\": \"Flatten the curve\", \"value\": 0}, {\"date\": \"2020-01-28T00:00:00\", \"variable\": \"Flatten the curve\", \"value\": 0}, {\"date\": \"2020-01-29T00:00:00\", \"variable\": \"Flatten the curve\", \"value\": 0}, {\"date\": \"2020-01-30T00:00:00\", \"variable\": \"Flatten the curve\", \"value\": 0}, {\"date\": \"2020-01-31T00:00:00\", \"variable\": \"Flatten the curve\", \"value\": 0}, {\"date\": \"2020-02-01T00:00:00\", \"variable\": \"Flatten the curve\", \"value\": 0}, {\"date\": \"2020-02-02T00:00:00\", \"variable\": \"Flatten the curve\", \"value\": 0}, {\"date\": \"2020-02-03T00:00:00\", \"variable\": \"Flatten the curve\", \"value\": 0}, {\"date\": \"2020-02-04T00:00:00\", \"variable\": \"Flatten the curve\", \"value\": 0}, {\"date\": \"2020-02-05T00:00:00\", \"variable\": \"Flatten the curve\", \"value\": 0}, {\"date\": \"2020-02-06T00:00:00\", \"variable\": \"Flatten the curve\", \"value\": 0}, {\"date\": \"2020-02-07T00:00:00\", \"variable\": \"Flatten the curve\", \"value\": 0}, {\"date\": \"2020-02-08T00:00:00\", \"variable\": \"Flatten the curve\", \"value\": 0}, {\"date\": \"2020-02-09T00:00:00\", \"variable\": \"Flatten the curve\", \"value\": 0}, {\"date\": \"2020-02-10T00:00:00\", \"variable\": \"Flatten the curve\", \"value\": 0}, {\"date\": \"2020-02-11T00:00:00\", \"variable\": \"Flatten the curve\", \"value\": 0}, {\"date\": \"2020-02-12T00:00:00\", \"variable\": \"Flatten the curve\", \"value\": 0}, {\"date\": \"2020-02-13T00:00:00\", \"variable\": \"Flatten the curve\", \"value\": 0}, {\"date\": \"2020-02-14T00:00:00\", \"variable\": \"Flatten the curve\", \"value\": 0}, {\"date\": \"2020-02-15T00:00:00\", \"variable\": \"Flatten the curve\", \"value\": 0}, {\"date\": \"2020-02-16T00:00:00\", \"variable\": \"Flatten the curve\", \"value\": 0}, {\"date\": \"2020-02-17T00:00:00\", \"variable\": \"Flatten the curve\", \"value\": 0}, {\"date\": \"2020-02-18T00:00:00\", \"variable\": \"Flatten the curve\", \"value\": 0}, {\"date\": \"2020-02-19T00:00:00\", \"variable\": \"Flatten the curve\", \"value\": 0}, {\"date\": \"2020-02-20T00:00:00\", \"variable\": \"Flatten the curve\", \"value\": 0}, {\"date\": \"2020-02-21T00:00:00\", \"variable\": \"Flatten the curve\", \"value\": 0}, {\"date\": \"2020-02-22T00:00:00\", \"variable\": \"Flatten the curve\", \"value\": 0}, {\"date\": \"2020-02-23T00:00:00\", \"variable\": \"Flatten the curve\", \"value\": 0}, {\"date\": \"2020-02-24T00:00:00\", \"variable\": \"Flatten the curve\", \"value\": 0}, {\"date\": \"2020-02-25T00:00:00\", \"variable\": \"Flatten the curve\", \"value\": 0}, {\"date\": \"2020-02-26T00:00:00\", \"variable\": \"Flatten the curve\", \"value\": 0}, {\"date\": \"2020-02-27T00:00:00\", \"variable\": \"Flatten the curve\", \"value\": 1}, {\"date\": \"2020-02-28T00:00:00\", \"variable\": \"Flatten the curve\", \"value\": 0}, {\"date\": \"2020-02-29T00:00:00\", \"variable\": \"Flatten the curve\", \"value\": 0}, {\"date\": \"2020-03-01T00:00:00\", \"variable\": \"Flatten the curve\", \"value\": 0}, {\"date\": \"2020-03-02T00:00:00\", \"variable\": \"Flatten the curve\", \"value\": 0}, {\"date\": \"2020-03-03T00:00:00\", \"variable\": \"Flatten the curve\", \"value\": 0}, {\"date\": \"2020-03-04T00:00:00\", \"variable\": \"Flatten the curve\", \"value\": 0}, {\"date\": \"2020-03-05T00:00:00\", \"variable\": \"Flatten the curve\", \"value\": 2}, {\"date\": \"2020-03-06T00:00:00\", \"variable\": \"Flatten the curve\", \"value\": 0}, {\"date\": \"2020-03-07T00:00:00\", \"variable\": \"Flatten the curve\", \"value\": 0}, {\"date\": \"2020-03-08T00:00:00\", \"variable\": \"Flatten the curve\", \"value\": 3}, {\"date\": \"2020-03-09T00:00:00\", \"variable\": \"Flatten the curve\", \"value\": 5}, {\"date\": \"2020-03-10T00:00:00\", \"variable\": \"Flatten the curve\", \"value\": 25}, {\"date\": \"2020-03-11T00:00:00\", \"variable\": \"Flatten the curve\", \"value\": 20}, {\"date\": \"2020-03-12T00:00:00\", \"variable\": \"Flatten the curve\", \"value\": 14}, {\"date\": \"2020-03-13T00:00:00\", \"variable\": \"Flatten the curve\", \"value\": 48}, {\"date\": \"2020-03-14T00:00:00\", \"variable\": \"Flatten the curve\", \"value\": 35}, {\"date\": \"2020-03-15T00:00:00\", \"variable\": \"Flatten the curve\", \"value\": 70}, {\"date\": \"2020-03-16T00:00:00\", \"variable\": \"Flatten the curve\", \"value\": 52}, {\"date\": \"2020-03-17T00:00:00\", \"variable\": \"Flatten the curve\", \"value\": 56}, {\"date\": \"2020-03-18T00:00:00\", \"variable\": \"Flatten the curve\", \"value\": 33}, {\"date\": \"2020-03-19T00:00:00\", \"variable\": \"Flatten the curve\", \"value\": 29}, {\"date\": \"2020-03-20T00:00:00\", \"variable\": \"Flatten the curve\", \"value\": 24}, {\"date\": \"2020-03-21T00:00:00\", \"variable\": \"Flatten the curve\", \"value\": 24}, {\"date\": \"2020-03-22T00:00:00\", \"variable\": \"Flatten the curve\", \"value\": 44}, {\"date\": \"2020-03-23T00:00:00\", \"variable\": \"Flatten the curve\", \"value\": 18}, {\"date\": \"2020-03-24T00:00:00\", \"variable\": \"Flatten the curve\", \"value\": 26}, {\"date\": \"2020-03-25T00:00:00\", \"variable\": \"Flatten the curve\", \"value\": 24}, {\"date\": \"2020-03-26T00:00:00\", \"variable\": \"Flatten the curve\", \"value\": 26}, {\"date\": \"2020-03-27T00:00:00\", \"variable\": \"Flatten the curve\", \"value\": 28}, {\"date\": \"2020-03-28T00:00:00\", \"variable\": \"Flatten the curve\", \"value\": 17}, {\"date\": \"2020-03-29T00:00:00\", \"variable\": \"Flatten the curve\", \"value\": 12}, {\"date\": \"2020-03-30T00:00:00\", \"variable\": \"Flatten the curve\", \"value\": 33}, {\"date\": \"2020-03-31T00:00:00\", \"variable\": \"Flatten the curve\", \"value\": 29}, {\"date\": \"2020-04-01T00:00:00\", \"variable\": \"Flatten the curve\", \"value\": 28}, {\"date\": \"2020-04-02T00:00:00\", \"variable\": \"Flatten the curve\", \"value\": 41}, {\"date\": \"2020-04-03T00:00:00\", \"variable\": \"Flatten the curve\", \"value\": 16}, {\"date\": \"2020-04-04T00:00:00\", \"variable\": \"Flatten the curve\", \"value\": 28}, {\"date\": \"2020-04-05T00:00:00\", \"variable\": \"Flatten the curve\", \"value\": 16}, {\"date\": \"2020-04-06T00:00:00\", \"variable\": \"Flatten the curve\", \"value\": 23}, {\"date\": \"2020-04-07T00:00:00\", \"variable\": \"Flatten the curve\", \"value\": 32}, {\"date\": \"2020-04-08T00:00:00\", \"variable\": \"Flatten the curve\", \"value\": 36}, {\"date\": \"2020-01-20T00:00:00\", \"variable\": \"travel ban\", \"value\": 2}, {\"date\": \"2020-01-21T00:00:00\", \"variable\": \"travel ban\", \"value\": 10}, {\"date\": \"2020-01-22T00:00:00\", \"variable\": \"travel ban\", \"value\": 38}, {\"date\": \"2020-01-23T00:00:00\", \"variable\": \"travel ban\", \"value\": 30}, {\"date\": \"2020-01-24T00:00:00\", \"variable\": \"travel ban\", \"value\": 33}, {\"date\": \"2020-01-25T00:00:00\", \"variable\": \"travel ban\", \"value\": 14}, {\"date\": \"2020-01-26T00:00:00\", \"variable\": \"travel ban\", \"value\": 11}, {\"date\": \"2020-01-27T00:00:00\", \"variable\": \"travel ban\", \"value\": 7}, {\"date\": \"2020-01-28T00:00:00\", \"variable\": \"travel ban\", \"value\": 26}, {\"date\": \"2020-01-29T00:00:00\", \"variable\": \"travel ban\", \"value\": 13}, {\"date\": \"2020-01-30T00:00:00\", \"variable\": \"travel ban\", \"value\": 20}, {\"date\": \"2020-01-31T00:00:00\", \"variable\": \"travel ban\", \"value\": 43}, {\"date\": \"2020-02-01T00:00:00\", \"variable\": \"travel ban\", \"value\": 52}, {\"date\": \"2020-02-02T00:00:00\", \"variable\": \"travel ban\", \"value\": 45}, {\"date\": \"2020-02-03T00:00:00\", \"variable\": \"travel ban\", \"value\": 33}, {\"date\": \"2020-02-04T00:00:00\", \"variable\": \"travel ban\", \"value\": 30}, {\"date\": \"2020-02-05T00:00:00\", \"variable\": \"travel ban\", \"value\": 17}, {\"date\": \"2020-02-06T00:00:00\", \"variable\": \"travel ban\", \"value\": 26}, {\"date\": \"2020-02-07T00:00:00\", \"variable\": \"travel ban\", \"value\": 14}, {\"date\": \"2020-02-08T00:00:00\", \"variable\": \"travel ban\", \"value\": 12}, {\"date\": \"2020-02-09T00:00:00\", \"variable\": \"travel ban\", \"value\": 7}, {\"date\": \"2020-02-10T00:00:00\", \"variable\": \"travel ban\", \"value\": 21}, {\"date\": \"2020-02-11T00:00:00\", \"variable\": \"travel ban\", \"value\": 13}, {\"date\": \"2020-02-12T00:00:00\", \"variable\": \"travel ban\", \"value\": 19}, {\"date\": \"2020-02-13T00:00:00\", \"variable\": \"travel ban\", \"value\": 48}, {\"date\": \"2020-02-14T00:00:00\", \"variable\": \"travel ban\", \"value\": 25}, {\"date\": \"2020-02-15T00:00:00\", \"variable\": \"travel ban\", \"value\": 31}, {\"date\": \"2020-02-16T00:00:00\", \"variable\": \"travel ban\", \"value\": 28}, {\"date\": \"2020-02-17T00:00:00\", \"variable\": \"travel ban\", \"value\": 21}, {\"date\": \"2020-02-18T00:00:00\", \"variable\": \"travel ban\", \"value\": 17}, {\"date\": \"2020-02-19T00:00:00\", \"variable\": \"travel ban\", \"value\": 12}, {\"date\": \"2020-02-20T00:00:00\", \"variable\": \"travel ban\", \"value\": 25}, {\"date\": \"2020-02-21T00:00:00\", \"variable\": \"travel ban\", \"value\": 7}, {\"date\": \"2020-02-22T00:00:00\", \"variable\": \"travel ban\", \"value\": 2}, {\"date\": \"2020-02-23T00:00:00\", \"variable\": \"travel ban\", \"value\": 18}, {\"date\": \"2020-02-24T00:00:00\", \"variable\": \"travel ban\", \"value\": 18}, {\"date\": \"2020-02-25T00:00:00\", \"variable\": \"travel ban\", \"value\": 11}, {\"date\": \"2020-02-26T00:00:00\", \"variable\": \"travel ban\", \"value\": 14}, {\"date\": \"2020-02-27T00:00:00\", \"variable\": \"travel ban\", \"value\": 10}, {\"date\": \"2020-02-28T00:00:00\", \"variable\": \"travel ban\", \"value\": 7}, {\"date\": \"2020-02-29T00:00:00\", \"variable\": \"travel ban\", \"value\": 28}, {\"date\": \"2020-03-01T00:00:00\", \"variable\": \"travel ban\", \"value\": 19}, {\"date\": \"2020-03-02T00:00:00\", \"variable\": \"travel ban\", \"value\": 14}, {\"date\": \"2020-03-03T00:00:00\", \"variable\": \"travel ban\", \"value\": 12}, {\"date\": \"2020-03-04T00:00:00\", \"variable\": \"travel ban\", \"value\": 7}, {\"date\": \"2020-03-05T00:00:00\", \"variable\": \"travel ban\", \"value\": 7}, {\"date\": \"2020-03-06T00:00:00\", \"variable\": \"travel ban\", \"value\": 3}, {\"date\": \"2020-03-07T00:00:00\", \"variable\": \"travel ban\", \"value\": 7}, {\"date\": \"2020-03-08T00:00:00\", \"variable\": \"travel ban\", \"value\": 3}, {\"date\": \"2020-03-09T00:00:00\", \"variable\": \"travel ban\", \"value\": 6}, {\"date\": \"2020-03-10T00:00:00\", \"variable\": \"travel ban\", \"value\": 29}, {\"date\": \"2020-03-11T00:00:00\", \"variable\": \"travel ban\", \"value\": 36}, {\"date\": \"2020-03-12T00:00:00\", \"variable\": \"travel ban\", \"value\": 32}, {\"date\": \"2020-03-13T00:00:00\", \"variable\": \"travel ban\", \"value\": 20}, {\"date\": \"2020-03-14T00:00:00\", \"variable\": \"travel ban\", \"value\": 35}, {\"date\": \"2020-03-15T00:00:00\", \"variable\": \"travel ban\", \"value\": 9}, {\"date\": \"2020-03-16T00:00:00\", \"variable\": \"travel ban\", \"value\": 10}, {\"date\": \"2020-03-17T00:00:00\", \"variable\": \"travel ban\", \"value\": 11}, {\"date\": \"2020-03-18T00:00:00\", \"variable\": \"travel ban\", \"value\": 4}, {\"date\": \"2020-03-19T00:00:00\", \"variable\": \"travel ban\", \"value\": 1}, {\"date\": \"2020-03-20T00:00:00\", \"variable\": \"travel ban\", \"value\": 5}, {\"date\": \"2020-03-21T00:00:00\", \"variable\": \"travel ban\", \"value\": 5}, {\"date\": \"2020-03-22T00:00:00\", \"variable\": \"travel ban\", \"value\": 0}, {\"date\": \"2020-03-23T00:00:00\", \"variable\": \"travel ban\", \"value\": 4}, {\"date\": \"2020-03-24T00:00:00\", \"variable\": \"travel ban\", \"value\": 5}, {\"date\": \"2020-03-25T00:00:00\", \"variable\": \"travel ban\", \"value\": 4}, {\"date\": \"2020-03-26T00:00:00\", \"variable\": \"travel ban\", \"value\": 9}, {\"date\": \"2020-03-27T00:00:00\", \"variable\": \"travel ban\", \"value\": 7}, {\"date\": \"2020-03-28T00:00:00\", \"variable\": \"travel ban\", \"value\": 3}, {\"date\": \"2020-03-29T00:00:00\", \"variable\": \"travel ban\", \"value\": 6}, {\"date\": \"2020-03-30T00:00:00\", \"variable\": \"travel ban\", \"value\": 5}, {\"date\": \"2020-03-31T00:00:00\", \"variable\": \"travel ban\", \"value\": 4}, {\"date\": \"2020-04-01T00:00:00\", \"variable\": \"travel ban\", \"value\": 31}, {\"date\": \"2020-04-02T00:00:00\", \"variable\": \"travel ban\", \"value\": 10}, {\"date\": \"2020-04-03T00:00:00\", \"variable\": \"travel ban\", \"value\": 6}, {\"date\": \"2020-04-04T00:00:00\", \"variable\": \"travel ban\", \"value\": 7}, {\"date\": \"2020-04-05T00:00:00\", \"variable\": \"travel ban\", \"value\": 3}, {\"date\": \"2020-04-06T00:00:00\", \"variable\": \"travel ban\", \"value\": 9}, {\"date\": \"2020-04-07T00:00:00\", \"variable\": \"travel ban\", \"value\": 5}, {\"date\": \"2020-04-08T00:00:00\", \"variable\": \"travel ban\", \"value\": 11}, {\"date\": \"2020-01-20T00:00:00\", \"variable\": \"treatment\", \"value\": 33}, {\"date\": \"2020-01-21T00:00:00\", \"variable\": \"treatment\", \"value\": 34}, {\"date\": \"2020-01-22T00:00:00\", \"variable\": \"treatment\", \"value\": 17}, {\"date\": \"2020-01-23T00:00:00\", \"variable\": \"treatment\", \"value\": 33}, {\"date\": \"2020-01-24T00:00:00\", \"variable\": \"treatment\", \"value\": 18}, {\"date\": \"2020-01-25T00:00:00\", \"variable\": \"treatment\", \"value\": 19}, {\"date\": \"2020-01-26T00:00:00\", \"variable\": \"treatment\", \"value\": 40}, {\"date\": \"2020-01-27T00:00:00\", \"variable\": \"treatment\", \"value\": 24}, {\"date\": \"2020-01-28T00:00:00\", \"variable\": \"treatment\", \"value\": 45}, {\"date\": \"2020-01-29T00:00:00\", \"variable\": \"treatment\", \"value\": 20}, {\"date\": \"2020-01-30T00:00:00\", \"variable\": \"treatment\", \"value\": 25}, {\"date\": \"2020-01-31T00:00:00\", \"variable\": \"treatment\", \"value\": 34}, {\"date\": \"2020-02-01T00:00:00\", \"variable\": \"treatment\", \"value\": 43}, {\"date\": \"2020-02-02T00:00:00\", \"variable\": \"treatment\", \"value\": 65}, {\"date\": \"2020-02-03T00:00:00\", \"variable\": \"treatment\", \"value\": 50}, {\"date\": \"2020-02-04T00:00:00\", \"variable\": \"treatment\", \"value\": 47}, {\"date\": \"2020-02-05T00:00:00\", \"variable\": \"treatment\", \"value\": 80}, {\"date\": \"2020-02-06T00:00:00\", \"variable\": \"treatment\", \"value\": 43}, {\"date\": \"2020-02-07T00:00:00\", \"variable\": \"treatment\", \"value\": 45}, {\"date\": \"2020-02-08T00:00:00\", \"variable\": \"treatment\", \"value\": 29}, {\"date\": \"2020-02-09T00:00:00\", \"variable\": \"treatment\", \"value\": 40}, {\"date\": \"2020-02-10T00:00:00\", \"variable\": \"treatment\", \"value\": 23}, {\"date\": \"2020-02-11T00:00:00\", \"variable\": \"treatment\", \"value\": 42}, {\"date\": \"2020-02-12T00:00:00\", \"variable\": \"treatment\", \"value\": 36}, {\"date\": \"2020-02-13T00:00:00\", \"variable\": \"treatment\", \"value\": 46}, {\"date\": \"2020-02-14T00:00:00\", \"variable\": \"treatment\", \"value\": 24}, {\"date\": \"2020-02-15T00:00:00\", \"variable\": \"treatment\", \"value\": 59}, {\"date\": \"2020-02-16T00:00:00\", \"variable\": \"treatment\", \"value\": 60}, {\"date\": \"2020-02-17T00:00:00\", \"variable\": \"treatment\", \"value\": 27}, {\"date\": \"2020-02-18T00:00:00\", \"variable\": \"treatment\", \"value\": 41}, {\"date\": \"2020-02-19T00:00:00\", \"variable\": \"treatment\", \"value\": 77}, {\"date\": \"2020-02-20T00:00:00\", \"variable\": \"treatment\", \"value\": 70}, {\"date\": \"2020-02-21T00:00:00\", \"variable\": \"treatment\", \"value\": 21}, {\"date\": \"2020-02-22T00:00:00\", \"variable\": \"treatment\", \"value\": 7}, {\"date\": \"2020-02-23T00:00:00\", \"variable\": \"treatment\", \"value\": 9}, {\"date\": \"2020-02-24T00:00:00\", \"variable\": \"treatment\", \"value\": 42}, {\"date\": \"2020-02-25T00:00:00\", \"variable\": \"treatment\", \"value\": 33}, {\"date\": \"2020-02-26T00:00:00\", \"variable\": \"treatment\", \"value\": 28}, {\"date\": \"2020-02-27T00:00:00\", \"variable\": \"treatment\", \"value\": 30}, {\"date\": \"2020-02-28T00:00:00\", \"variable\": \"treatment\", \"value\": 29}, {\"date\": \"2020-02-29T00:00:00\", \"variable\": \"treatment\", \"value\": 30}, {\"date\": \"2020-03-01T00:00:00\", \"variable\": \"treatment\", \"value\": 35}, {\"date\": \"2020-03-02T00:00:00\", \"variable\": \"treatment\", \"value\": 44}, {\"date\": \"2020-03-03T00:00:00\", \"variable\": \"treatment\", \"value\": 55}, {\"date\": \"2020-03-04T00:00:00\", \"variable\": \"treatment\", \"value\": 25}, {\"date\": \"2020-03-05T00:00:00\", \"variable\": \"treatment\", \"value\": 27}, {\"date\": \"2020-03-06T00:00:00\", \"variable\": \"treatment\", \"value\": 20}, {\"date\": \"2020-03-07T00:00:00\", \"variable\": \"treatment\", \"value\": 43}, {\"date\": \"2020-03-08T00:00:00\", \"variable\": \"treatment\", \"value\": 12}, {\"date\": \"2020-03-09T00:00:00\", \"variable\": \"treatment\", \"value\": 31}, {\"date\": \"2020-03-10T00:00:00\", \"variable\": \"treatment\", \"value\": 32}, {\"date\": \"2020-03-11T00:00:00\", \"variable\": \"treatment\", \"value\": 36}, {\"date\": \"2020-03-12T00:00:00\", \"variable\": \"treatment\", \"value\": 36}, {\"date\": \"2020-03-13T00:00:00\", \"variable\": \"treatment\", \"value\": 38}, {\"date\": \"2020-03-14T00:00:00\", \"variable\": \"treatment\", \"value\": 20}, {\"date\": \"2020-03-15T00:00:00\", \"variable\": \"treatment\", \"value\": 18}, {\"date\": \"2020-03-16T00:00:00\", \"variable\": \"treatment\", \"value\": 30}, {\"date\": \"2020-03-17T00:00:00\", \"variable\": \"treatment\", \"value\": 45}, {\"date\": \"2020-03-18T00:00:00\", \"variable\": \"treatment\", \"value\": 47}, {\"date\": \"2020-03-19T00:00:00\", \"variable\": \"treatment\", \"value\": 53}, {\"date\": \"2020-03-20T00:00:00\", \"variable\": \"treatment\", \"value\": 59}, {\"date\": \"2020-03-21T00:00:00\", \"variable\": \"treatment\", \"value\": 62}, {\"date\": \"2020-03-22T00:00:00\", \"variable\": \"treatment\", \"value\": 51}, {\"date\": \"2020-03-23T00:00:00\", \"variable\": \"treatment\", \"value\": 85}, {\"date\": \"2020-03-24T00:00:00\", \"variable\": \"treatment\", \"value\": 47}, {\"date\": \"2020-03-25T00:00:00\", \"variable\": \"treatment\", \"value\": 74}, {\"date\": \"2020-03-26T00:00:00\", \"variable\": \"treatment\", \"value\": 40}, {\"date\": \"2020-03-27T00:00:00\", \"variable\": \"treatment\", \"value\": 64}, {\"date\": \"2020-03-28T00:00:00\", \"variable\": \"treatment\", \"value\": 54}, {\"date\": \"2020-03-29T00:00:00\", \"variable\": \"treatment\", \"value\": 67}, {\"date\": \"2020-03-30T00:00:00\", \"variable\": \"treatment\", \"value\": 64}, {\"date\": \"2020-03-31T00:00:00\", \"variable\": \"treatment\", \"value\": 40}, {\"date\": \"2020-04-01T00:00:00\", \"variable\": \"treatment\", \"value\": 52}, {\"date\": \"2020-04-02T00:00:00\", \"variable\": \"treatment\", \"value\": 65}, {\"date\": \"2020-04-03T00:00:00\", \"variable\": \"treatment\", \"value\": 84}, {\"date\": \"2020-04-04T00:00:00\", \"variable\": \"treatment\", \"value\": 92}, {\"date\": \"2020-04-05T00:00:00\", \"variable\": \"treatment\", \"value\": 116}, {\"date\": \"2020-04-06T00:00:00\", \"variable\": \"treatment\", \"value\": 128}, {\"date\": \"2020-04-07T00:00:00\", \"variable\": \"treatment\", \"value\": 64}, {\"date\": \"2020-04-08T00:00:00\", \"variable\": \"treatment\", \"value\": 76}]}}, {\"mode\": \"vega-lite\"});\n",
       "</script>"
      ],
      "text/plain": [
       "alt.LayerChart(...)"
      ]
     },
     "execution_count": 112,
     "metadata": {},
     "output_type": "execute_result"
    }
   ],
   "source": [
    "highlight = alt.selection(type='single', on='mouseover',\n",
    "                          fields=['variable'], nearest=True)\n",
    "\n",
    "base = alt.Chart(Third_Group_m).encode(\n",
    "    x=alt.X('date:T', axis = alt.Axis(title = 'Date'.upper(), format = (\"%b %Y\"))),\n",
    "    y='value:Q',\n",
    "    color='variable:N',\n",
    "    tooltip=['variable', 'value']\n",
    ")\n",
    "\n",
    "points = base.mark_circle().encode(\n",
    "    opacity=alt.value(0)\n",
    ").add_selection(\n",
    "    highlight\n",
    ").properties(\n",
    "    width=600\n",
    ")\n",
    "\n",
    "lines = base.mark_line().encode(\n",
    "    size=alt.condition(~highlight, alt.value(1), alt.value(3))\n",
    ")\n",
    "\n",
    "points + lines"
   ]
  },
  {
   "cell_type": "markdown",
   "metadata": {},
   "source": [
    "## Fourth keywords group"
   ]
  },
  {
   "cell_type": "code",
   "execution_count": 101,
   "metadata": {},
   "outputs": [
    {
     "data": {
      "text/plain": [
       "Index(['trump', 'social distancing', 'Wuhan', 'chinese virus', 'New York',\n",
       "       'Los Angeles', 'Chicago', 'Washington', 'mask', 'economy',\n",
       "       'health care', 'fauci', 'death|deadly|mortality', 'stay.*home',\n",
       "       'Flatten the curve', 'Outbreak', 'Epidemic', 'Pandemic', 'lockdown',\n",
       "       'science', 'China', 'test', 'wet market', 'travel ban', 'vaccine',\n",
       "       'symptoms', 'wash.*hands', 'treatment', 'isolation', 'panic buying',\n",
       "       'toilet paper', 'date'],\n",
       "      dtype='object')"
      ]
     },
     "execution_count": 101,
     "metadata": {},
     "output_type": "execute_result"
    }
   ],
   "source": [
    "keyword_data.columns"
   ]
  },
  {
   "cell_type": "code",
   "execution_count": 119,
   "metadata": {},
   "outputs": [
    {
     "name": "stdout",
     "output_type": "stream",
     "text": [
      "<class 'pandas.core.frame.DataFrame'>\n",
      "RangeIndex: 240 entries, 0 to 239\n",
      "Data columns (total 3 columns):\n",
      " #   Column    Non-Null Count  Dtype         \n",
      "---  ------    --------------  -----         \n",
      " 0   date      240 non-null    datetime64[ns]\n",
      " 1   variable  240 non-null    object        \n",
      " 2   value     240 non-null    int64         \n",
      "dtypes: datetime64[ns](1), int64(1), object(1)\n",
      "memory usage: 5.8+ KB\n"
     ]
    }
   ],
   "source": [
    "Fourth_Group = keyword_data[['chinese virus', 'Wuhan', 'trump', 'date']]\n",
    "Fourth_Group_m = Fourth_Group.melt('date')\n",
    "Fourth_Group_m.info()"
   ]
  },
  {
   "cell_type": "code",
   "execution_count": 121,
   "metadata": {},
   "outputs": [
    {
     "data": {
      "text/html": [
       "\n",
       "<div id=\"altair-viz-1c2cbf11998445d2b59ca2050452c360\"></div>\n",
       "<script type=\"text/javascript\">\n",
       "  (function(spec, embedOpt){\n",
       "    let outputDiv = document.currentScript.previousElementSibling;\n",
       "    if (outputDiv.id !== \"altair-viz-1c2cbf11998445d2b59ca2050452c360\") {\n",
       "      outputDiv = document.getElementById(\"altair-viz-1c2cbf11998445d2b59ca2050452c360\");\n",
       "    }\n",
       "    const paths = {\n",
       "      \"vega\": \"https://cdn.jsdelivr.net/npm//vega@5?noext\",\n",
       "      \"vega-lib\": \"https://cdn.jsdelivr.net/npm//vega-lib?noext\",\n",
       "      \"vega-lite\": \"https://cdn.jsdelivr.net/npm//vega-lite@4.8.1?noext\",\n",
       "      \"vega-embed\": \"https://cdn.jsdelivr.net/npm//vega-embed@6?noext\",\n",
       "    };\n",
       "\n",
       "    function loadScript(lib) {\n",
       "      return new Promise(function(resolve, reject) {\n",
       "        var s = document.createElement('script');\n",
       "        s.src = paths[lib];\n",
       "        s.async = true;\n",
       "        s.onload = () => resolve(paths[lib]);\n",
       "        s.onerror = () => reject(`Error loading script: ${paths[lib]}`);\n",
       "        document.getElementsByTagName(\"head\")[0].appendChild(s);\n",
       "      });\n",
       "    }\n",
       "\n",
       "    function showError(err) {\n",
       "      outputDiv.innerHTML = `<div class=\"error\" style=\"color:red;\">${err}</div>`;\n",
       "      throw err;\n",
       "    }\n",
       "\n",
       "    function displayChart(vegaEmbed) {\n",
       "      vegaEmbed(outputDiv, spec, embedOpt)\n",
       "        .catch(err => showError(`Javascript Error: ${err.message}<br>This usually means there's a typo in your chart specification. See the javascript console for the full traceback.`));\n",
       "    }\n",
       "\n",
       "    if(typeof define === \"function\" && define.amd) {\n",
       "      requirejs.config({paths});\n",
       "      require([\"vega-embed\"], displayChart, err => showError(`Error loading script: ${err.message}`));\n",
       "    } else if (typeof vegaEmbed === \"function\") {\n",
       "      displayChart(vegaEmbed);\n",
       "    } else {\n",
       "      loadScript(\"vega\")\n",
       "        .then(() => loadScript(\"vega-lite\"))\n",
       "        .then(() => loadScript(\"vega-embed\"))\n",
       "        .catch(showError)\n",
       "        .then(() => displayChart(vegaEmbed));\n",
       "    }\n",
       "  })({\"config\": {\"view\": {\"continuousWidth\": 400, \"continuousHeight\": 300}}, \"layer\": [{\"mark\": \"circle\", \"encoding\": {\"color\": {\"type\": \"nominal\", \"field\": \"variable\"}, \"opacity\": {\"value\": 0}, \"tooltip\": [{\"type\": \"nominal\", \"field\": \"variable\"}, {\"type\": \"quantitative\", \"field\": \"value\"}], \"x\": {\"type\": \"temporal\", \"axis\": {\"format\": \"%b %Y\", \"title\": \"DATE\"}, \"field\": \"date\"}, \"y\": {\"type\": \"quantitative\", \"field\": \"value\"}}, \"selection\": {\"selector040\": {\"type\": \"single\", \"on\": \"mouseover\", \"fields\": [\"variable\"], \"nearest\": true}}, \"width\": 600}, {\"mark\": \"line\", \"encoding\": {\"color\": {\"type\": \"nominal\", \"field\": \"variable\"}, \"size\": {\"condition\": {\"value\": 1, \"selection\": {\"not\": \"selector040\"}}, \"value\": 3}, \"tooltip\": [{\"type\": \"nominal\", \"field\": \"variable\"}, {\"type\": \"quantitative\", \"field\": \"value\"}], \"x\": {\"type\": \"temporal\", \"axis\": {\"format\": \"%b %Y\", \"title\": \"DATE\"}, \"field\": \"date\"}, \"y\": {\"type\": \"quantitative\", \"field\": \"value\"}}}], \"data\": {\"name\": \"data-253c7dcaf84053ff442ccf78312bb32b\"}, \"$schema\": \"https://vega.github.io/schema/vega-lite/v4.8.1.json\", \"datasets\": {\"data-253c7dcaf84053ff442ccf78312bb32b\": [{\"date\": \"2020-01-20T00:00:00\", \"variable\": \"chinese virus\", \"value\": 18}, {\"date\": \"2020-01-21T00:00:00\", \"variable\": \"chinese virus\", \"value\": 12}, {\"date\": \"2020-01-22T00:00:00\", \"variable\": \"chinese virus\", \"value\": 1}, {\"date\": \"2020-01-23T00:00:00\", \"variable\": \"chinese virus\", \"value\": 0}, {\"date\": \"2020-01-24T00:00:00\", \"variable\": \"chinese virus\", \"value\": 3}, {\"date\": \"2020-01-25T00:00:00\", \"variable\": \"chinese virus\", \"value\": 3}, {\"date\": \"2020-01-26T00:00:00\", \"variable\": \"chinese virus\", \"value\": 4}, {\"date\": \"2020-01-27T00:00:00\", \"variable\": \"chinese virus\", \"value\": 5}, {\"date\": \"2020-01-28T00:00:00\", \"variable\": \"chinese virus\", \"value\": 1}, {\"date\": \"2020-01-29T00:00:00\", \"variable\": \"chinese virus\", \"value\": 2}, {\"date\": \"2020-01-30T00:00:00\", \"variable\": \"chinese virus\", \"value\": 1}, {\"date\": \"2020-01-31T00:00:00\", \"variable\": \"chinese virus\", \"value\": 6}, {\"date\": \"2020-02-01T00:00:00\", \"variable\": \"chinese virus\", \"value\": 3}, {\"date\": \"2020-02-02T00:00:00\", \"variable\": \"chinese virus\", \"value\": 0}, {\"date\": \"2020-02-03T00:00:00\", \"variable\": \"chinese virus\", \"value\": 3}, {\"date\": \"2020-02-04T00:00:00\", \"variable\": \"chinese virus\", \"value\": 0}, {\"date\": \"2020-02-05T00:00:00\", \"variable\": \"chinese virus\", \"value\": 6}, {\"date\": \"2020-02-06T00:00:00\", \"variable\": \"chinese virus\", \"value\": 1}, {\"date\": \"2020-02-07T00:00:00\", \"variable\": \"chinese virus\", \"value\": 1}, {\"date\": \"2020-02-08T00:00:00\", \"variable\": \"chinese virus\", \"value\": 1}, {\"date\": \"2020-02-09T00:00:00\", \"variable\": \"chinese virus\", \"value\": 0}, {\"date\": \"2020-02-10T00:00:00\", \"variable\": \"chinese virus\", \"value\": 1}, {\"date\": \"2020-02-11T00:00:00\", \"variable\": \"chinese virus\", \"value\": 0}, {\"date\": \"2020-02-12T00:00:00\", \"variable\": \"chinese virus\", \"value\": 2}, {\"date\": \"2020-02-13T00:00:00\", \"variable\": \"chinese virus\", \"value\": 1}, {\"date\": \"2020-02-14T00:00:00\", \"variable\": \"chinese virus\", \"value\": 0}, {\"date\": \"2020-02-15T00:00:00\", \"variable\": \"chinese virus\", \"value\": 1}, {\"date\": \"2020-02-16T00:00:00\", \"variable\": \"chinese virus\", \"value\": 1}, {\"date\": \"2020-02-17T00:00:00\", \"variable\": \"chinese virus\", \"value\": 0}, {\"date\": \"2020-02-18T00:00:00\", \"variable\": \"chinese virus\", \"value\": 1}, {\"date\": \"2020-02-19T00:00:00\", \"variable\": \"chinese virus\", \"value\": 0}, {\"date\": \"2020-02-20T00:00:00\", \"variable\": \"chinese virus\", \"value\": 0}, {\"date\": \"2020-02-21T00:00:00\", \"variable\": \"chinese virus\", \"value\": 1}, {\"date\": \"2020-02-22T00:00:00\", \"variable\": \"chinese virus\", \"value\": 0}, {\"date\": \"2020-02-23T00:00:00\", \"variable\": \"chinese virus\", \"value\": 0}, {\"date\": \"2020-02-24T00:00:00\", \"variable\": \"chinese virus\", \"value\": 2}, {\"date\": \"2020-02-25T00:00:00\", \"variable\": \"chinese virus\", \"value\": 0}, {\"date\": \"2020-02-26T00:00:00\", \"variable\": \"chinese virus\", \"value\": 0}, {\"date\": \"2020-02-27T00:00:00\", \"variable\": \"chinese virus\", \"value\": 0}, {\"date\": \"2020-02-28T00:00:00\", \"variable\": \"chinese virus\", \"value\": 2}, {\"date\": \"2020-02-29T00:00:00\", \"variable\": \"chinese virus\", \"value\": 0}, {\"date\": \"2020-03-01T00:00:00\", \"variable\": \"chinese virus\", \"value\": 1}, {\"date\": \"2020-03-02T00:00:00\", \"variable\": \"chinese virus\", \"value\": 0}, {\"date\": \"2020-03-03T00:00:00\", \"variable\": \"chinese virus\", \"value\": 1}, {\"date\": \"2020-03-04T00:00:00\", \"variable\": \"chinese virus\", \"value\": 0}, {\"date\": \"2020-03-05T00:00:00\", \"variable\": \"chinese virus\", \"value\": 0}, {\"date\": \"2020-03-06T00:00:00\", \"variable\": \"chinese virus\", \"value\": 1}, {\"date\": \"2020-03-07T00:00:00\", \"variable\": \"chinese virus\", \"value\": 0}, {\"date\": \"2020-03-08T00:00:00\", \"variable\": \"chinese virus\", \"value\": 0}, {\"date\": \"2020-03-09T00:00:00\", \"variable\": \"chinese virus\", \"value\": 0}, {\"date\": \"2020-03-10T00:00:00\", \"variable\": \"chinese virus\", \"value\": 3}, {\"date\": \"2020-03-11T00:00:00\", \"variable\": \"chinese virus\", \"value\": 3}, {\"date\": \"2020-03-12T00:00:00\", \"variable\": \"chinese virus\", \"value\": 1}, {\"date\": \"2020-03-13T00:00:00\", \"variable\": \"chinese virus\", \"value\": 4}, {\"date\": \"2020-03-14T00:00:00\", \"variable\": \"chinese virus\", \"value\": 0}, {\"date\": \"2020-03-15T00:00:00\", \"variable\": \"chinese virus\", \"value\": 0}, {\"date\": \"2020-03-16T00:00:00\", \"variable\": \"chinese virus\", \"value\": 145}, {\"date\": \"2020-03-17T00:00:00\", \"variable\": \"chinese virus\", \"value\": 83}, {\"date\": \"2020-03-18T00:00:00\", \"variable\": \"chinese virus\", \"value\": 161}, {\"date\": \"2020-03-19T00:00:00\", \"variable\": \"chinese virus\", \"value\": 67}, {\"date\": \"2020-03-20T00:00:00\", \"variable\": \"chinese virus\", \"value\": 47}, {\"date\": \"2020-03-21T00:00:00\", \"variable\": \"chinese virus\", \"value\": 29}, {\"date\": \"2020-03-22T00:00:00\", \"variable\": \"chinese virus\", \"value\": 48}, {\"date\": \"2020-03-23T00:00:00\", \"variable\": \"chinese virus\", \"value\": 44}, {\"date\": \"2020-03-24T00:00:00\", \"variable\": \"chinese virus\", \"value\": 29}, {\"date\": \"2020-03-25T00:00:00\", \"variable\": \"chinese virus\", \"value\": 31}, {\"date\": \"2020-03-26T00:00:00\", \"variable\": \"chinese virus\", \"value\": 58}, {\"date\": \"2020-03-27T00:00:00\", \"variable\": \"chinese virus\", \"value\": 17}, {\"date\": \"2020-03-28T00:00:00\", \"variable\": \"chinese virus\", \"value\": 20}, {\"date\": \"2020-03-29T00:00:00\", \"variable\": \"chinese virus\", \"value\": 20}, {\"date\": \"2020-03-30T00:00:00\", \"variable\": \"chinese virus\", \"value\": 22}, {\"date\": \"2020-03-31T00:00:00\", \"variable\": \"chinese virus\", \"value\": 18}, {\"date\": \"2020-04-01T00:00:00\", \"variable\": \"chinese virus\", \"value\": 23}, {\"date\": \"2020-04-02T00:00:00\", \"variable\": \"chinese virus\", \"value\": 20}, {\"date\": \"2020-04-03T00:00:00\", \"variable\": \"chinese virus\", \"value\": 13}, {\"date\": \"2020-04-04T00:00:00\", \"variable\": \"chinese virus\", \"value\": 19}, {\"date\": \"2020-04-05T00:00:00\", \"variable\": \"chinese virus\", \"value\": 13}, {\"date\": \"2020-04-06T00:00:00\", \"variable\": \"chinese virus\", \"value\": 21}, {\"date\": \"2020-04-07T00:00:00\", \"variable\": \"chinese virus\", \"value\": 13}, {\"date\": \"2020-04-08T00:00:00\", \"variable\": \"chinese virus\", \"value\": 21}, {\"date\": \"2020-01-20T00:00:00\", \"variable\": \"Wuhan\", \"value\": 1310}, {\"date\": \"2020-01-21T00:00:00\", \"variable\": \"Wuhan\", \"value\": 2138}, {\"date\": \"2020-01-22T00:00:00\", \"variable\": \"Wuhan\", \"value\": 1989}, {\"date\": \"2020-01-23T00:00:00\", \"variable\": \"Wuhan\", \"value\": 1536}, {\"date\": \"2020-01-24T00:00:00\", \"variable\": \"Wuhan\", \"value\": 1305}, {\"date\": \"2020-01-25T00:00:00\", \"variable\": \"Wuhan\", \"value\": 1127}, {\"date\": \"2020-01-26T00:00:00\", \"variable\": \"Wuhan\", \"value\": 1252}, {\"date\": \"2020-01-27T00:00:00\", \"variable\": \"Wuhan\", \"value\": 1068}, {\"date\": \"2020-01-28T00:00:00\", \"variable\": \"Wuhan\", \"value\": 882}, {\"date\": \"2020-01-29T00:00:00\", \"variable\": \"Wuhan\", \"value\": 911}, {\"date\": \"2020-01-30T00:00:00\", \"variable\": \"Wuhan\", \"value\": 863}, {\"date\": \"2020-01-31T00:00:00\", \"variable\": \"Wuhan\", \"value\": 657}, {\"date\": \"2020-02-01T00:00:00\", \"variable\": \"Wuhan\", \"value\": 946}, {\"date\": \"2020-02-02T00:00:00\", \"variable\": \"Wuhan\", \"value\": 1204}, {\"date\": \"2020-02-03T00:00:00\", \"variable\": \"Wuhan\", \"value\": 1038}, {\"date\": \"2020-02-04T00:00:00\", \"variable\": \"Wuhan\", \"value\": 935}, {\"date\": \"2020-02-05T00:00:00\", \"variable\": \"Wuhan\", \"value\": 920}, {\"date\": \"2020-02-06T00:00:00\", \"variable\": \"Wuhan\", \"value\": 1479}, {\"date\": \"2020-02-07T00:00:00\", \"variable\": \"Wuhan\", \"value\": 998}, {\"date\": \"2020-02-08T00:00:00\", \"variable\": \"Wuhan\", \"value\": 1087}, {\"date\": \"2020-02-09T00:00:00\", \"variable\": \"Wuhan\", \"value\": 1021}, {\"date\": \"2020-02-10T00:00:00\", \"variable\": \"Wuhan\", \"value\": 738}, {\"date\": \"2020-02-11T00:00:00\", \"variable\": \"Wuhan\", \"value\": 881}, {\"date\": \"2020-02-12T00:00:00\", \"variable\": \"Wuhan\", \"value\": 660}, {\"date\": \"2020-02-13T00:00:00\", \"variable\": \"Wuhan\", \"value\": 652}, {\"date\": \"2020-02-14T00:00:00\", \"variable\": \"Wuhan\", \"value\": 820}, {\"date\": \"2020-02-15T00:00:00\", \"variable\": \"Wuhan\", \"value\": 921}, {\"date\": \"2020-02-16T00:00:00\", \"variable\": \"Wuhan\", \"value\": 973}, {\"date\": \"2020-02-17T00:00:00\", \"variable\": \"Wuhan\", \"value\": 724}, {\"date\": \"2020-02-18T00:00:00\", \"variable\": \"Wuhan\", \"value\": 898}, {\"date\": \"2020-02-19T00:00:00\", \"variable\": \"Wuhan\", \"value\": 705}, {\"date\": \"2020-02-20T00:00:00\", \"variable\": \"Wuhan\", \"value\": 590}, {\"date\": \"2020-02-21T00:00:00\", \"variable\": \"Wuhan\", \"value\": 466}, {\"date\": \"2020-02-22T00:00:00\", \"variable\": \"Wuhan\", \"value\": 111}, {\"date\": \"2020-02-23T00:00:00\", \"variable\": \"Wuhan\", \"value\": 444}, {\"date\": \"2020-02-24T00:00:00\", \"variable\": \"Wuhan\", \"value\": 549}, {\"date\": \"2020-02-25T00:00:00\", \"variable\": \"Wuhan\", \"value\": 156}, {\"date\": \"2020-02-26T00:00:00\", \"variable\": \"Wuhan\", \"value\": 94}, {\"date\": \"2020-02-27T00:00:00\", \"variable\": \"Wuhan\", \"value\": 100}, {\"date\": \"2020-02-28T00:00:00\", \"variable\": \"Wuhan\", \"value\": 93}, {\"date\": \"2020-02-29T00:00:00\", \"variable\": \"Wuhan\", \"value\": 107}, {\"date\": \"2020-03-01T00:00:00\", \"variable\": \"Wuhan\", \"value\": 141}, {\"date\": \"2020-03-02T00:00:00\", \"variable\": \"Wuhan\", \"value\": 122}, {\"date\": \"2020-03-03T00:00:00\", \"variable\": \"Wuhan\", \"value\": 95}, {\"date\": \"2020-03-04T00:00:00\", \"variable\": \"Wuhan\", \"value\": 153}, {\"date\": \"2020-03-05T00:00:00\", \"variable\": \"Wuhan\", \"value\": 100}, {\"date\": \"2020-03-06T00:00:00\", \"variable\": \"Wuhan\", \"value\": 64}, {\"date\": \"2020-03-07T00:00:00\", \"variable\": \"Wuhan\", \"value\": 106}, {\"date\": \"2020-03-08T00:00:00\", \"variable\": \"Wuhan\", \"value\": 21}, {\"date\": \"2020-03-09T00:00:00\", \"variable\": \"Wuhan\", \"value\": 109}, {\"date\": \"2020-03-10T00:00:00\", \"variable\": \"Wuhan\", \"value\": 108}, {\"date\": \"2020-03-11T00:00:00\", \"variable\": \"Wuhan\", \"value\": 82}, {\"date\": \"2020-03-12T00:00:00\", \"variable\": \"Wuhan\", \"value\": 78}, {\"date\": \"2020-03-13T00:00:00\", \"variable\": \"Wuhan\", \"value\": 183}, {\"date\": \"2020-03-14T00:00:00\", \"variable\": \"Wuhan\", \"value\": 92}, {\"date\": \"2020-03-15T00:00:00\", \"variable\": \"Wuhan\", \"value\": 62}, {\"date\": \"2020-03-16T00:00:00\", \"variable\": \"Wuhan\", \"value\": 81}, {\"date\": \"2020-03-17T00:00:00\", \"variable\": \"Wuhan\", \"value\": 106}, {\"date\": \"2020-03-18T00:00:00\", \"variable\": \"Wuhan\", \"value\": 159}, {\"date\": \"2020-03-19T00:00:00\", \"variable\": \"Wuhan\", \"value\": 134}, {\"date\": \"2020-03-20T00:00:00\", \"variable\": \"Wuhan\", \"value\": 75}, {\"date\": \"2020-03-21T00:00:00\", \"variable\": \"Wuhan\", \"value\": 94}, {\"date\": \"2020-03-22T00:00:00\", \"variable\": \"Wuhan\", \"value\": 83}, {\"date\": \"2020-03-23T00:00:00\", \"variable\": \"Wuhan\", \"value\": 88}, {\"date\": \"2020-03-24T00:00:00\", \"variable\": \"Wuhan\", \"value\": 68}, {\"date\": \"2020-03-25T00:00:00\", \"variable\": \"Wuhan\", \"value\": 93}, {\"date\": \"2020-03-26T00:00:00\", \"variable\": \"Wuhan\", \"value\": 66}, {\"date\": \"2020-03-27T00:00:00\", \"variable\": \"Wuhan\", \"value\": 90}, {\"date\": \"2020-03-28T00:00:00\", \"variable\": \"Wuhan\", \"value\": 113}, {\"date\": \"2020-03-29T00:00:00\", \"variable\": \"Wuhan\", \"value\": 120}, {\"date\": \"2020-03-30T00:00:00\", \"variable\": \"Wuhan\", \"value\": 87}, {\"date\": \"2020-03-31T00:00:00\", \"variable\": \"Wuhan\", \"value\": 71}, {\"date\": \"2020-04-01T00:00:00\", \"variable\": \"Wuhan\", \"value\": 110}, {\"date\": \"2020-04-02T00:00:00\", \"variable\": \"Wuhan\", \"value\": 103}, {\"date\": \"2020-04-03T00:00:00\", \"variable\": \"Wuhan\", \"value\": 96}, {\"date\": \"2020-04-04T00:00:00\", \"variable\": \"Wuhan\", \"value\": 94}, {\"date\": \"2020-04-05T00:00:00\", \"variable\": \"Wuhan\", \"value\": 74}, {\"date\": \"2020-04-06T00:00:00\", \"variable\": \"Wuhan\", \"value\": 79}, {\"date\": \"2020-04-07T00:00:00\", \"variable\": \"Wuhan\", \"value\": 157}, {\"date\": \"2020-04-08T00:00:00\", \"variable\": \"Wuhan\", \"value\": 140}, {\"date\": \"2020-01-20T00:00:00\", \"variable\": \"trump\", \"value\": 36}, {\"date\": \"2020-01-21T00:00:00\", \"variable\": \"trump\", \"value\": 151}, {\"date\": \"2020-01-22T00:00:00\", \"variable\": \"trump\", \"value\": 153}, {\"date\": \"2020-01-23T00:00:00\", \"variable\": \"trump\", \"value\": 128}, {\"date\": \"2020-01-24T00:00:00\", \"variable\": \"trump\", \"value\": 194}, {\"date\": \"2020-01-25T00:00:00\", \"variable\": \"trump\", \"value\": 94}, {\"date\": \"2020-01-26T00:00:00\", \"variable\": \"trump\", \"value\": 215}, {\"date\": \"2020-01-27T00:00:00\", \"variable\": \"trump\", \"value\": 147}, {\"date\": \"2020-01-28T00:00:00\", \"variable\": \"trump\", \"value\": 168}, {\"date\": \"2020-01-29T00:00:00\", \"variable\": \"trump\", \"value\": 129}, {\"date\": \"2020-01-30T00:00:00\", \"variable\": \"trump\", \"value\": 247}, {\"date\": \"2020-01-31T00:00:00\", \"variable\": \"trump\", \"value\": 386}, {\"date\": \"2020-02-01T00:00:00\", \"variable\": \"trump\", \"value\": 242}, {\"date\": \"2020-02-02T00:00:00\", \"variable\": \"trump\", \"value\": 368}, {\"date\": \"2020-02-03T00:00:00\", \"variable\": \"trump\", \"value\": 147}, {\"date\": \"2020-02-04T00:00:00\", \"variable\": \"trump\", \"value\": 166}, {\"date\": \"2020-02-05T00:00:00\", \"variable\": \"trump\", \"value\": 252}, {\"date\": \"2020-02-06T00:00:00\", \"variable\": \"trump\", \"value\": 240}, {\"date\": \"2020-02-07T00:00:00\", \"variable\": \"trump\", \"value\": 224}, {\"date\": \"2020-02-08T00:00:00\", \"variable\": \"trump\", \"value\": 292}, {\"date\": \"2020-02-09T00:00:00\", \"variable\": \"trump\", \"value\": 286}, {\"date\": \"2020-02-10T00:00:00\", \"variable\": \"trump\", \"value\": 514}, {\"date\": \"2020-02-11T00:00:00\", \"variable\": \"trump\", \"value\": 345}, {\"date\": \"2020-02-12T00:00:00\", \"variable\": \"trump\", \"value\": 296}, {\"date\": \"2020-02-13T00:00:00\", \"variable\": \"trump\", \"value\": 285}, {\"date\": \"2020-02-14T00:00:00\", \"variable\": \"trump\", \"value\": 372}, {\"date\": \"2020-02-15T00:00:00\", \"variable\": \"trump\", \"value\": 348}, {\"date\": \"2020-02-16T00:00:00\", \"variable\": \"trump\", \"value\": 441}, {\"date\": \"2020-02-17T00:00:00\", \"variable\": \"trump\", \"value\": 321}, {\"date\": \"2020-02-18T00:00:00\", \"variable\": \"trump\", \"value\": 316}, {\"date\": \"2020-02-19T00:00:00\", \"variable\": \"trump\", \"value\": 310}, {\"date\": \"2020-02-20T00:00:00\", \"variable\": \"trump\", \"value\": 350}, {\"date\": \"2020-02-21T00:00:00\", \"variable\": \"trump\", \"value\": 307}, {\"date\": \"2020-02-22T00:00:00\", \"variable\": \"trump\", \"value\": 70}, {\"date\": \"2020-02-23T00:00:00\", \"variable\": \"trump\", \"value\": 507}, {\"date\": \"2020-02-24T00:00:00\", \"variable\": \"trump\", \"value\": 1802}, {\"date\": \"2020-02-25T00:00:00\", \"variable\": \"trump\", \"value\": 908}, {\"date\": \"2020-02-26T00:00:00\", \"variable\": \"trump\", \"value\": 3498}, {\"date\": \"2020-02-27T00:00:00\", \"variable\": \"trump\", \"value\": 1284}, {\"date\": \"2020-02-28T00:00:00\", \"variable\": \"trump\", \"value\": 1165}, {\"date\": \"2020-02-29T00:00:00\", \"variable\": \"trump\", \"value\": 1401}, {\"date\": \"2020-03-01T00:00:00\", \"variable\": \"trump\", \"value\": 960}, {\"date\": \"2020-03-02T00:00:00\", \"variable\": \"trump\", \"value\": 877}, {\"date\": \"2020-03-03T00:00:00\", \"variable\": \"trump\", \"value\": 832}, {\"date\": \"2020-03-04T00:00:00\", \"variable\": \"trump\", \"value\": 642}, {\"date\": \"2020-03-05T00:00:00\", \"variable\": \"trump\", \"value\": 818}, {\"date\": \"2020-03-06T00:00:00\", \"variable\": \"trump\", \"value\": 937}, {\"date\": \"2020-03-07T00:00:00\", \"variable\": \"trump\", \"value\": 841}, {\"date\": \"2020-03-08T00:00:00\", \"variable\": \"trump\", \"value\": 334}, {\"date\": \"2020-03-09T00:00:00\", \"variable\": \"trump\", \"value\": 1240}, {\"date\": \"2020-03-10T00:00:00\", \"variable\": \"trump\", \"value\": 727}, {\"date\": \"2020-03-11T00:00:00\", \"variable\": \"trump\", \"value\": 860}, {\"date\": \"2020-03-12T00:00:00\", \"variable\": \"trump\", \"value\": 592}, {\"date\": \"2020-03-13T00:00:00\", \"variable\": \"trump\", \"value\": 1550}, {\"date\": \"2020-03-14T00:00:00\", \"variable\": \"trump\", \"value\": 1396}, {\"date\": \"2020-03-15T00:00:00\", \"variable\": \"trump\", \"value\": 536}, {\"date\": \"2020-03-16T00:00:00\", \"variable\": \"trump\", \"value\": 618}, {\"date\": \"2020-03-17T00:00:00\", \"variable\": \"trump\", \"value\": 446}, {\"date\": \"2020-03-18T00:00:00\", \"variable\": \"trump\", \"value\": 711}, {\"date\": \"2020-03-19T00:00:00\", \"variable\": \"trump\", \"value\": 592}, {\"date\": \"2020-03-20T00:00:00\", \"variable\": \"trump\", \"value\": 580}, {\"date\": \"2020-03-21T00:00:00\", \"variable\": \"trump\", \"value\": 593}, {\"date\": \"2020-03-22T00:00:00\", \"variable\": \"trump\", \"value\": 815}, {\"date\": \"2020-03-23T00:00:00\", \"variable\": \"trump\", \"value\": 1121}, {\"date\": \"2020-03-24T00:00:00\", \"variable\": \"trump\", \"value\": 792}, {\"date\": \"2020-03-25T00:00:00\", \"variable\": \"trump\", \"value\": 799}, {\"date\": \"2020-03-26T00:00:00\", \"variable\": \"trump\", \"value\": 916}, {\"date\": \"2020-03-27T00:00:00\", \"variable\": \"trump\", \"value\": 902}, {\"date\": \"2020-03-28T00:00:00\", \"variable\": \"trump\", \"value\": 712}, {\"date\": \"2020-03-29T00:00:00\", \"variable\": \"trump\", \"value\": 1257}, {\"date\": \"2020-03-30T00:00:00\", \"variable\": \"trump\", \"value\": 906}, {\"date\": \"2020-03-31T00:00:00\", \"variable\": \"trump\", \"value\": 1191}, {\"date\": \"2020-04-01T00:00:00\", \"variable\": \"trump\", \"value\": 1034}, {\"date\": \"2020-04-02T00:00:00\", \"variable\": \"trump\", \"value\": 1442}, {\"date\": \"2020-04-03T00:00:00\", \"variable\": \"trump\", \"value\": 820}, {\"date\": \"2020-04-04T00:00:00\", \"variable\": \"trump\", \"value\": 1002}, {\"date\": \"2020-04-05T00:00:00\", \"variable\": \"trump\", \"value\": 1394}, {\"date\": \"2020-04-06T00:00:00\", \"variable\": \"trump\", \"value\": 964}, {\"date\": \"2020-04-07T00:00:00\", \"variable\": \"trump\", \"value\": 1108}, {\"date\": \"2020-04-08T00:00:00\", \"variable\": \"trump\", \"value\": 861}]}}, {\"mode\": \"vega-lite\"});\n",
       "</script>"
      ],
      "text/plain": [
       "alt.LayerChart(...)"
      ]
     },
     "execution_count": 121,
     "metadata": {},
     "output_type": "execute_result"
    }
   ],
   "source": [
    "highlight = alt.selection(type='single', on='mouseover',\n",
    "                          fields=['variable'], nearest=True)\n",
    "\n",
    "base = alt.Chart(Fourth_Group_m).encode(\n",
    "    x=alt.X('date:T', axis = alt.Axis(title = 'Date'.upper(), format = (\"%b %Y\"))),\n",
    "    y='value:Q',\n",
    "    color='variable:N',\n",
    "    tooltip=['variable', 'value']\n",
    ")\n",
    "\n",
    "points = base.mark_circle().encode(\n",
    "    opacity=alt.value(0)\n",
    ").add_selection(\n",
    "    highlight\n",
    ").properties(\n",
    "    width=600\n",
    ")\n",
    "\n",
    "lines = base.mark_line().encode(\n",
    "    size=alt.condition(~highlight, alt.value(1), alt.value(3))\n",
    ")\n",
    "\n",
    "points + lines"
   ]
  },
  {
   "cell_type": "markdown",
   "metadata": {
    "id": "sH7LqR0FLJ5o"
   },
   "source": [
    "# Load data of trending topics from github\n",
    "\n",
    "selecting the fifty most talked about trending topics on twitter\n",
    "\n",
    "manually annotate the wider topic the trend belongs to (C: Coronavirus, P: Politics, D: Tweets related to a special day of the week/year, O: Other topics)\n",
    "\n"
   ]
  },
  {
   "cell_type": "code",
   "execution_count": null,
   "metadata": {
    "id": "BMBWFuiqLJ5p"
   },
   "outputs": [],
   "source": [
    "#trending = pd.read_csv(\"trending_topics_usa.csv\")\n",
    "\n",
    "trending = pd.read_csv(\"https://raw.githubusercontent.com/xxz-jessica/COVID-19_UCD_Challenge/master/Twitter_Trending_Topics/usa_trending.csv\", encoding='latin1')\n",
    "\n",
    "trending[\"date\"] = pd.to_datetime(trending[\"date\"]).map(lambda x: str(x.date()))\n",
    "\n",
    "trending_counted = trending.groupby('trending')['date'].apply(list).reset_index(name='dates')\n",
    "\n",
    "\n",
    "trending_counted2 = trending.groupby(\"trending\").count().reset_index()\n",
    "\n",
    "trending_selected = trending_counted.merge(trending_counted2).sort_values(\"date\", ascending = False)\n",
    "\n",
    "trending_selected = trending_selected[0:50]\n",
    "\n",
    "annotations = [\"Politics\", \"Coronavirus\", \"Others\", \"Others\", \"Coronavirus\", \"Politics\", \"Politics\", \"Coronavirus\",\n",
    "              \"Date\", \"Others\", \"Date\", \"Politics\", \"Politics\", \"Date\", \"Date\", \"Politics\", \"Others\", \n",
    "                \"Coronavirus\", \"Coronavirus\", \"Politics\", \"Politics\", \"Date\", \"Others\", \"Date\",\n",
    "              \"Date\", \"Coronavirus\", \"Politics\", \"Others\", \"Date\", \"Others\", \"Others\", \"Date\",\n",
    "              \"Date\", \"Others\", \"Politics\", \"Politics\", \"Coronavirus\", \"Date\", \"Others\", \"Coronavirus\", \"Date\",\n",
    "              \"Others\", \"Politics\", \"Politics\", \"Politics\", \"Politics\", \"Coronavirus\", \"Others\", \"Politics\", \"Coronavirus\"]\n",
    "\n",
    "trending_selected[\"annotation\"] = annotations\n",
    "\n",
    "trending_selected"
   ]
  },
  {
   "cell_type": "markdown",
   "metadata": {
    "id": "tZE9HV_GLJ5t"
   },
   "source": [
    "# Create wordcloud using brunel to visualize trending topics"
   ]
  },
  {
   "cell_type": "code",
   "execution_count": null,
   "metadata": {
    "id": "KEbGwy2JLJ5u"
   },
   "outputs": [],
   "source": [
    "#import brunel"
   ]
  },
  {
   "cell_type": "code",
   "execution_count": null,
   "metadata": {
    "id": "il_zoVPaLJ5z"
   },
   "outputs": [],
   "source": [
    "#trending_selected\n",
    "#%brunel cloud data(\"trending_selected\") size(date) label(trending) tooltip(dates) color(annotation)"
   ]
  },
  {
   "cell_type": "markdown",
   "metadata": {},
   "source": [
    "# create wordcloud using \"wordcloud\" \n",
    "\n",
    "Visualizing most used COVID related hashtags"
   ]
  },
  {
   "cell_type": "code",
   "execution_count": null,
   "metadata": {},
   "outputs": [],
   "source": [
    "import wordcloud as wc\n",
    "import matplotlib.pyplot as plt\n",
    "import string\n",
    "from PIL import Image\n",
    "from scipy.ndimage import gaussian_gradient_magnitude"
   ]
  },
  {
   "cell_type": "code",
   "execution_count": null,
   "metadata": {},
   "outputs": [],
   "source": [
    "#stupid way to create wordcloud by generating text containing number of words \n",
    "def create_text(trending_list):\n",
    "    text = \"\"\n",
    "    for i in range(0,trending_list.shape[0]):\n",
    "        for j in range(0, int(trending_list.iloc[[i]][\"date\"])):\n",
    "            text = text + \" \" + str(trending_list.iloc[i][\"trending\"])\n",
    "    return text\n",
    "        "
   ]
  },
  {
   "cell_type": "code",
   "execution_count": null,
   "metadata": {},
   "outputs": [],
   "source": [
    "#all hashtags\n",
    "\n",
    "hashtags = list(covid_twitter_data[\"hashtags\"][covid_twitter_data[\"hashtags\"] != '[]'])\n",
    "\n",
    "\n",
    "#real_hashs = [elem if elem != '[]': for elem in hashtags]\n",
    "\n",
    "hashtags_string = \"\".join(hashtags).replace(\"[\", \"\").replace(\"]\", \"\").replace(\"''\", \" \").replace(\"', '\", \" \")\n"
   ]
  },
  {
   "cell_type": "code",
   "execution_count": null,
   "metadata": {},
   "outputs": [],
   "source": [
    "#shapes:\n",
    "twitter_bird = \"twitter_bird.jpg\"\n",
    "virus = \"virus.jpg\"\n",
    "#use twitter logo as mask\n",
    "# load image. This has been modified in gimp to be brighter and have more saturation.\n",
    "img = np.array(Image.open(twitter_bird))\n",
    "# subsample by factor of 3. Very lossy but for a wordcloud we don't really care.\n",
    "img = img[::3, ::3]\n",
    "# create mask  white is \"masked out\"\n",
    "mask = img.copy()\n",
    "mask[mask.sum(axis=2) == 0] = 255\n",
    "# some finesse: we enforce boundaries between colors so they get less washed out.\n",
    "# For that we do some edge detection in the image\n",
    "edges = np.mean([gaussian_gradient_magnitude(img[:, :, i] / 255., 2) for i in range(3)], axis=0)\n",
    "mask[edges > .08] = 255\n",
    "\n"
   ]
  },
  {
   "cell_type": "code",
   "execution_count": null,
   "metadata": {},
   "outputs": [],
   "source": [
    "cloud = wc.WordCloud(max_words=2000, mask=mask, \n",
    "               max_font_size=20, random_state=42, \n",
    "               relative_scaling=0)\n",
    "\n",
    "cloud.generate(hashtags_string)\n",
    "plt.imshow(cloud)\n",
    "plt.axis(\"off\")"
   ]
  },
  {
   "cell_type": "markdown",
   "metadata": {},
   "source": [
    "# look for the most shared links"
   ]
  },
  {
   "cell_type": "code",
   "execution_count": null,
   "metadata": {},
   "outputs": [],
   "source": [
    "trending_links = (covid_twitter_data[\"links\"].value_counts())\n",
    "    \n",
    "trending_links = pd.DataFrame(trending_links)"
   ]
  }
 ],
 "metadata": {
  "colab": {
   "collapsed_sections": [],
   "name": "Test twitter data from github repo.ipynb",
   "provenance": [],
   "toc_visible": true
  },
  "kernelspec": {
   "display_name": "Python 3",
   "language": "python",
   "name": "python3"
  },
  "language_info": {
   "codemirror_mode": {
    "name": "ipython",
    "version": 3
   },
   "file_extension": ".py",
   "mimetype": "text/x-python",
   "name": "python",
   "nbconvert_exporter": "python",
   "pygments_lexer": "ipython3",
   "version": "3.7.7"
  }
 },
 "nbformat": 4,
 "nbformat_minor": 1
}
