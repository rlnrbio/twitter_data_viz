{
 "cells": [
  {
   "cell_type": "markdown",
   "metadata": {
    "id": "4eZ1MYQmLJ3b"
   },
   "source": [
    "\n",
    "# Test twitter data from github repo\n",
    "\n",
    "Load data from github repo"
   ]
  },
  {
   "cell_type": "code",
   "execution_count": 103,
   "metadata": {
    "id": "RgO98q3_LJ3d"
   },
   "outputs": [],
   "source": [
    "import pandas as pd\n",
    "import numpy as np\n",
    "import os\n",
    "import re\n",
    "\n",
    "import networkx as nx\n",
    "import nx_altair as nxa\n",
    "import altair as alt\n",
    "\n",
    "twittercol = '#1da1f2'"
   ]
  },
  {
   "cell_type": "markdown",
   "metadata": {
    "id": "l1JS-d7lLJ3o"
   },
   "source": [
    "# Load Corona data\n"
   ]
  },
  {
   "cell_type": "code",
   "execution_count": 2,
   "metadata": {
    "colab": {
     "base_uri": "https://localhost:8080/",
     "height": 889
    },
    "id": "PmQVrwcoLJ3s",
    "outputId": "7fc4299d-a7aa-426a-ed82-de75113075dc"
   },
   "outputs": [
    {
     "name": "stdout",
     "output_type": "stream",
     "text": [
      "<class 'pandas.core.frame.DataFrame'>\n",
      "RangeIndex: 50513 entries, 0 to 50512\n",
      "Data columns (total 41 columns):\n",
      " #   Column                           Non-Null Count  Dtype         \n",
      "---  ------                           --------------  -----         \n",
      " 0   iso_code                         50222 non-null  object        \n",
      " 1   continent                        49931 non-null  object        \n",
      " 2   location                         50513 non-null  object        \n",
      " 3   date                             50513 non-null  datetime64[ns]\n",
      " 4   total_cases                      46865 non-null  float64       \n",
      " 5   new_cases                        49650 non-null  float64       \n",
      " 6   new_cases_smoothed               48867 non-null  float64       \n",
      " 7   total_deaths                     38215 non-null  float64       \n",
      " 8   new_deaths                       49650 non-null  float64       \n",
      " 9   new_deaths_smoothed              48867 non-null  float64       \n",
      " 10  total_cases_per_million          46610 non-null  float64       \n",
      " 11  new_cases_per_million            49586 non-null  float64       \n",
      " 12  new_cases_smoothed_per_million   48802 non-null  float64       \n",
      " 13  total_deaths_per_million         37975 non-null  float64       \n",
      " 14  new_deaths_per_million           49586 non-null  float64       \n",
      " 15  new_deaths_smoothed_per_million  48802 non-null  float64       \n",
      " 16  new_tests                        18456 non-null  float64       \n",
      " 17  total_tests                      18826 non-null  float64       \n",
      " 18  total_tests_per_thousand         18826 non-null  float64       \n",
      " 19  new_tests_per_thousand           18456 non-null  float64       \n",
      " 20  new_tests_smoothed               20832 non-null  float64       \n",
      " 21  new_tests_smoothed_per_thousand  20832 non-null  float64       \n",
      " 22  tests_per_case                   19148 non-null  float64       \n",
      " 23  positive_rate                    19467 non-null  float64       \n",
      " 24  tests_units                      21776 non-null  object        \n",
      " 25  stringency_index                 41952 non-null  float64       \n",
      " 26  population                       50222 non-null  float64       \n",
      " 27  population_density               47906 non-null  float64       \n",
      " 28  median_age                       45005 non-null  float64       \n",
      " 29  aged_65_older                    44332 non-null  float64       \n",
      " 30  aged_70_older                    44771 non-null  float64       \n",
      " 31  gdp_per_capita                   44414 non-null  float64       \n",
      " 32  extreme_poverty                  29619 non-null  float64       \n",
      " 33  cardiovasc_death_rate            44992 non-null  float64       \n",
      " 34  diabetes_prevalence              46608 non-null  float64       \n",
      " 35  female_smokers                   35167 non-null  float64       \n",
      " 36  male_smokers                     34718 non-null  float64       \n",
      " 37  handwashing_facilities           21148 non-null  float64       \n",
      " 38  hospital_beds_per_thousand       40594 non-null  float64       \n",
      " 39  life_expectancy                  49583 non-null  float64       \n",
      " 40  human_development_index          43422 non-null  float64       \n",
      "dtypes: datetime64[ns](1), float64(36), object(4)\n",
      "memory usage: 15.8+ MB\n"
     ]
    }
   ],
   "source": [
    "covid_data = pd.read_csv(\"https://covid.ourworldindata.org/data/owid-covid-data.csv\")\n",
    "\n",
    "covid_data[\"date\"] = pd.to_datetime(covid_data[\"date\"])\n",
    "\n",
    "covid_data.info()"
   ]
  },
  {
   "cell_type": "code",
   "execution_count": 3,
   "metadata": {
    "colab": {
     "base_uri": "https://localhost:8080/",
     "height": 204
    },
    "id": "j7-T_lnILJ3_",
    "outputId": "9573e879-fbfa-460f-fdbe-e2bbe3db2d43"
   },
   "outputs": [
    {
     "name": "stdout",
     "output_type": "stream",
     "text": [
      "<class 'pandas.core.frame.DataFrame'>\n",
      "Int64Index: 98 entries, 1 to 98\n",
      "Data columns (total 4 columns):\n",
      " #   Column       Non-Null Count  Dtype         \n",
      "---  ------       --------------  -----         \n",
      " 0   date         98 non-null     datetime64[ns]\n",
      " 1   total_cases  98 non-null     float64       \n",
      " 2   new_cases    98 non-null     float64       \n",
      " 3   new_deaths   98 non-null     float64       \n",
      "dtypes: datetime64[ns](1), float64(3)\n",
      "memory usage: 3.8 KB\n"
     ]
    }
   ],
   "source": [
    "covid_data[\"date\"] = pd.to_datetime(covid_data[\"date\"])\n",
    "\n",
    "cov_selection = covid_data[[\"date\", \"total_cases\", \"new_cases\", \"new_deaths\"]]\n",
    "\n",
    "cov_selection = cov_selection.groupby('date').sum().reset_index()\n",
    "\n",
    "start_date = '12-31-2019'\n",
    "end_date = '04-07-2020'\n",
    "\n",
    "mask = (cov_selection['date'] > start_date) & (cov_selection['date'] <= end_date)\n",
    "\n",
    "cov_selection = cov_selection.loc[mask]\n",
    "\n",
    "cov_selection.info()"
   ]
  },
  {
   "cell_type": "markdown",
   "metadata": {
    "id": "-ar54jx0LJ4H"
   },
   "source": [
    "# Load news articles from github project\n",
    "\n",
    "Load CNN articles from xlsx file"
   ]
  },
  {
   "cell_type": "code",
   "execution_count": 4,
   "metadata": {
    "colab": {
     "base_uri": "https://localhost:8080/",
     "height": 170
    },
    "id": "Px4YSULxLJ4I",
    "outputId": "850c80bf-596f-4df2-ac84-37882f134116"
   },
   "outputs": [
    {
     "name": "stdout",
     "output_type": "stream",
     "text": [
      "<class 'pandas.core.frame.DataFrame'>\n",
      "RangeIndex: 66 entries, 0 to 65\n",
      "Data columns (total 2 columns):\n",
      " #   Column        Non-Null Count  Dtype         \n",
      "---  ------        --------------  -----         \n",
      " 0   date          66 non-null     datetime64[ns]\n",
      " 1   cnn_articles  66 non-null     int64         \n",
      "dtypes: datetime64[ns](1), int64(1)\n",
      "memory usage: 1.2 KB\n"
     ]
    }
   ],
   "source": [
    "cnn_news = pd.read_excel(\"https://github.com/xxz-jessica/COVID-19_UCD_Challenge/blob/master/News_Fox_CNN/CNN_full.xlsx?raw=true\")\n",
    "cnn_news = cnn_news.dropna()\n",
    "\n",
    "cnn_news = cnn_news.rename(columns = {\"true_time\": \"published_date\"})\n",
    "cnn_news[\"published_date\"] = pd.to_datetime(cnn_news[\"published_date\"])\n",
    "\n",
    "counted_news_cnn = cnn_news[\"published_date\"].value_counts()\n",
    "counted_news_cnn = counted_news_cnn.to_frame()\n",
    "mask2 = (counted_news_cnn.index > start_date) & (counted_news_cnn.index <= end_date)\n",
    "counted_news_cnn = counted_news_cnn.loc[mask2]\n",
    "\n",
    "counted_news_cnn.reset_index(level=0, inplace=True)\n",
    "counted_news_cnn = counted_news_cnn.rename(columns = {\"index\" : \"date\", \"published_date\" : \"cnn_articles\"})\n",
    "\n",
    "\n",
    "counted_news_cnn.info()"
   ]
  },
  {
   "cell_type": "code",
   "execution_count": 5,
   "metadata": {
    "colab": {
     "base_uri": "https://localhost:8080/",
     "height": 170
    },
    "id": "_dQsR0BdLJ4P",
    "outputId": "1de1e645-c69a-4595-dc3e-dac90029e449"
   },
   "outputs": [
    {
     "name": "stdout",
     "output_type": "stream",
     "text": [
      "<class 'pandas.core.frame.DataFrame'>\n",
      "RangeIndex: 84 entries, 0 to 83\n",
      "Data columns (total 2 columns):\n",
      " #   Column        Non-Null Count  Dtype         \n",
      "---  ------        --------------  -----         \n",
      " 0   date          84 non-null     datetime64[ns]\n",
      " 1   fox_articles  84 non-null     int64         \n",
      "dtypes: datetime64[ns](1), int64(1)\n",
      "memory usage: 1.4 KB\n"
     ]
    }
   ],
   "source": [
    "fox_news = pd.read_excel(\"https://github.com/xxz-jessica/COVID-19_UCD_Challenge/blob/master/News_Fox_CNN/foxnews_article_form.xlsx?raw=true\")\n",
    "\n",
    "fox_news = fox_news.dropna()\n",
    "\n",
    "fox_news = fox_news.rename(columns = {\"true_time\": \"published_date\"})\n",
    "\n",
    "fox_news[\"published_date\"] = pd.to_datetime(fox_news[\"published_date\"])\n",
    "\n",
    "counted_news_fox = fox_news[\"published_date\"].value_counts()\n",
    "counted_news_fox = counted_news_fox.to_frame()\n",
    "mask3 = (counted_news_fox.index > start_date) & (counted_news_fox.index <= end_date)\n",
    "counted_news_fox = counted_news_fox.loc[mask3]\n",
    "\n",
    "counted_news_fox.reset_index(level=0, inplace=True)\n",
    "counted_news_fox = counted_news_fox.rename(columns = {\"index\" : \"date\", \"published_date\" : \"fox_articles\"})\n",
    "\n",
    "\n",
    "counted_news_fox.info()"
   ]
  },
  {
   "cell_type": "markdown",
   "metadata": {
    "id": "3pwe_6T2LJ4V"
   },
   "source": [
    "# Visualize number of daily tweets, news articles and Covid cases from github project"
   ]
  },
  {
   "cell_type": "code",
   "execution_count": 6,
   "metadata": {
    "colab": {
     "base_uri": "https://localhost:8080/",
     "height": 170
    },
    "id": "U3Ul1Ck5LJ4Y",
    "outputId": "f1260098-4db3-4716-87b5-f902dac84aaf"
   },
   "outputs": [
    {
     "name": "stdout",
     "output_type": "stream",
     "text": [
      "<class 'pandas.core.frame.DataFrame'>\n",
      "RangeIndex: 98 entries, 0 to 97\n",
      "Data columns (total 2 columns):\n",
      " #   Column  Non-Null Count  Dtype         \n",
      "---  ------  --------------  -----         \n",
      " 0   date    98 non-null     datetime64[ns]\n",
      " 1   Tweets  98 non-null     int32         \n",
      "dtypes: datetime64[ns](1), int32(1)\n",
      "memory usage: 1.3 KB\n"
     ]
    }
   ],
   "source": [
    "num_tweets = pd.read_csv(\"https://raw.githubusercontent.com/xxz-jessica/COVID-19_UCD_Challenge/master/Tweet_Raw_Data/tweet_per_day_1.csv\")\n",
    "\n",
    "num_tweets[\"Tweets\"] = num_tweets[\"Tweets\"].str.replace(\",\", \"\").astype(int)\n",
    "num_tweets[\"Day\"] = pd.to_datetime(num_tweets[\"Day\"])\n",
    "\n",
    "num_tweets = num_tweets.rename(columns = {\"Day\": \"date\"})\n",
    "\n",
    "num_tweets.info()\n"
   ]
  },
  {
   "cell_type": "code",
   "execution_count": 7,
   "metadata": {
    "colab": {
     "base_uri": "https://localhost:8080/",
     "height": 255
    },
    "id": "aqWvVAgsLJ4g",
    "outputId": "ed49175d-dc72-4247-ff42-422abfb4225c"
   },
   "outputs": [
    {
     "name": "stdout",
     "output_type": "stream",
     "text": [
      "<class 'pandas.core.frame.DataFrame'>\n",
      "Int64Index: 98 entries, 0 to 97\n",
      "Data columns (total 7 columns):\n",
      " #   Column        Non-Null Count  Dtype         \n",
      "---  ------        --------------  -----         \n",
      " 0   date          98 non-null     datetime64[ns]\n",
      " 1   Tweets        98 non-null     int32         \n",
      " 2   total_cases   98 non-null     float64       \n",
      " 3   new_cases     98 non-null     float64       \n",
      " 4   new_deaths    98 non-null     float64       \n",
      " 5   cnn_articles  66 non-null     float64       \n",
      " 6   fox_articles  84 non-null     float64       \n",
      "dtypes: datetime64[ns](1), float64(5), int32(1)\n",
      "memory usage: 5.7 KB\n"
     ]
    }
   ],
   "source": [
    "#merge data\n",
    "merged_3 = pd.merge(num_tweets, cov_selection).merge(counted_news_cnn, how = \"outer\").merge(counted_news_fox, how = \"outer\")\n",
    "merged_3.info()\n",
    "\n",
    "merged_3 = merged_3.fillna(0)"
   ]
  },
  {
   "cell_type": "code",
   "execution_count": 8,
   "metadata": {
    "colab": {
     "base_uri": "https://localhost:8080/",
     "height": 253
    },
    "id": "6-A2haLYLJ4m",
    "outputId": "01ba0fdf-74cf-4db9-9877-145266f8fca8"
   },
   "outputs": [
    {
     "data": {
      "text/html": [
       "\n",
       "<div id=\"altair-viz-8eb3b4a7470844d88a9d0820434cee29\"></div>\n",
       "<script type=\"text/javascript\">\n",
       "  (function(spec, embedOpt){\n",
       "    let outputDiv = document.currentScript.previousElementSibling;\n",
       "    if (outputDiv.id !== \"altair-viz-8eb3b4a7470844d88a9d0820434cee29\") {\n",
       "      outputDiv = document.getElementById(\"altair-viz-8eb3b4a7470844d88a9d0820434cee29\");\n",
       "    }\n",
       "    const paths = {\n",
       "      \"vega\": \"https://cdn.jsdelivr.net/npm//vega@5?noext\",\n",
       "      \"vega-lib\": \"https://cdn.jsdelivr.net/npm//vega-lib?noext\",\n",
       "      \"vega-lite\": \"https://cdn.jsdelivr.net/npm//vega-lite@4.8.1?noext\",\n",
       "      \"vega-embed\": \"https://cdn.jsdelivr.net/npm//vega-embed@6?noext\",\n",
       "    };\n",
       "\n",
       "    function loadScript(lib) {\n",
       "      return new Promise(function(resolve, reject) {\n",
       "        var s = document.createElement('script');\n",
       "        s.src = paths[lib];\n",
       "        s.async = true;\n",
       "        s.onload = () => resolve(paths[lib]);\n",
       "        s.onerror = () => reject(`Error loading script: ${paths[lib]}`);\n",
       "        document.getElementsByTagName(\"head\")[0].appendChild(s);\n",
       "      });\n",
       "    }\n",
       "\n",
       "    function showError(err) {\n",
       "      outputDiv.innerHTML = `<div class=\"error\" style=\"color:red;\">${err}</div>`;\n",
       "      throw err;\n",
       "    }\n",
       "\n",
       "    function displayChart(vegaEmbed) {\n",
       "      vegaEmbed(outputDiv, spec, embedOpt)\n",
       "        .catch(err => showError(`Javascript Error: ${err.message}<br>This usually means there's a typo in your chart specification. See the javascript console for the full traceback.`));\n",
       "    }\n",
       "\n",
       "    if(typeof define === \"function\" && define.amd) {\n",
       "      requirejs.config({paths});\n",
       "      require([\"vega-embed\"], displayChart, err => showError(`Error loading script: ${err.message}`));\n",
       "    } else if (typeof vegaEmbed === \"function\") {\n",
       "      displayChart(vegaEmbed);\n",
       "    } else {\n",
       "      loadScript(\"vega\")\n",
       "        .then(() => loadScript(\"vega-lite\"))\n",
       "        .then(() => loadScript(\"vega-embed\"))\n",
       "        .catch(showError)\n",
       "        .then(() => displayChart(vegaEmbed));\n",
       "    }\n",
       "  })({\"config\": {\"view\": {\"continuousWidth\": 400, \"continuousHeight\": 300}}, \"layer\": [{\"mark\": {\"type\": \"line\", \"interpolate\": \"monotone\", \"stroke\": \"#1da1f2\"}, \"encoding\": {\"x\": {\"type\": \"temporal\", \"axis\": {\"title\": null}, \"field\": \"date\"}, \"y\": {\"type\": \"quantitative\", \"axis\": {\"title\": \"Number of tweets\", \"titleColor\": \"#1da1f2\"}, \"field\": \"Tweets\"}}, \"height\": 200, \"width\": 500}, {\"mark\": {\"type\": \"line\", \"interpolate\": \"monotone\", \"stroke\": \"#eb34eb\"}, \"encoding\": {\"x\": {\"type\": \"temporal\", \"axis\": {\"title\": null}, \"field\": \"date\"}, \"y\": {\"type\": \"quantitative\", \"axis\": {\"title\": \"New cases\", \"titleColor\": \"#eb34eb\"}, \"field\": \"new_cases\"}}, \"height\": 200, \"width\": 500}], \"data\": {\"name\": \"data-d8b54515c5c785b307ffeaa1524073e9\"}, \"resolve\": {\"scale\": {\"y\": \"independent\"}}, \"$schema\": \"https://vega.github.io/schema/vega-lite/v4.8.1.json\", \"datasets\": {\"data-d8b54515c5c785b307ffeaa1524073e9\": [{\"date\": \"2020-04-07T00:00:00\", \"Tweets\": 7877346, \"total_cases\": 2687108.0, \"new_cases\": 145976.0, \"new_deaths\": 10680.0, \"cnn_articles\": 77.0, \"fox_articles\": 230.0}, {\"date\": \"2020-04-06T00:00:00\", \"Tweets\": 8153966, \"total_cases\": 2541132.0, \"new_cases\": 132552.0, \"new_deaths\": 9512.0, \"cnn_articles\": 74.0, \"fox_articles\": 169.0}, {\"date\": \"2020-04-05T00:00:00\", \"Tweets\": 7421877, \"total_cases\": 2408425.0, \"new_cases\": 170486.0, \"new_deaths\": 12616.0, \"cnn_articles\": 48.0, \"fox_articles\": 96.0}, {\"date\": \"2020-04-04T00:00:00\", \"Tweets\": 7928225, \"total_cases\": 2238094.0, \"new_cases\": 163660.0, \"new_deaths\": 13552.0, \"cnn_articles\": 36.0, \"fox_articles\": 120.0}, {\"date\": \"2020-04-03T00:00:00\", \"Tweets\": 9357113, \"total_cases\": 2074434.0, \"new_cases\": 154914.0, \"new_deaths\": 10018.0, \"cnn_articles\": 80.0, \"fox_articles\": 235.0}, {\"date\": \"2020-04-02T00:00:00\", \"Tweets\": 9767918, \"total_cases\": 1919520.0, \"new_cases\": 154946.0, \"new_deaths\": 10020.0, \"cnn_articles\": 85.0, \"fox_articles\": 260.0}, {\"date\": \"2020-04-01T00:00:00\", \"Tweets\": 10402981, \"total_cases\": 1764569.0, \"new_cases\": 149348.0, \"new_deaths\": 9348.0, \"cnn_articles\": 71.0, \"fox_articles\": 260.0}, {\"date\": \"2020-03-31T00:00:00\", \"Tweets\": 10442432, \"total_cases\": 1615134.0, \"new_cases\": 128976.0, \"new_deaths\": 7972.0, \"cnn_articles\": 75.0, \"fox_articles\": 144.0}, {\"date\": \"2020-03-30T00:00:00\", \"Tweets\": 10125714, \"total_cases\": 1486250.0, \"new_cases\": 114726.0, \"new_deaths\": 6456.0, \"cnn_articles\": 60.0, \"fox_articles\": 204.0}, {\"date\": \"2020-03-29T00:00:00\", \"Tweets\": 9333426, \"total_cases\": 1371524.0, \"new_cases\": 125628.0, \"new_deaths\": 7174.0, \"cnn_articles\": 33.0, \"fox_articles\": 108.0}, {\"date\": \"2020-03-28T00:00:00\", \"Tweets\": 10434671, \"total_cases\": 1245896.0, \"new_cases\": 130188.0, \"new_deaths\": 6982.0, \"cnn_articles\": 29.0, \"fox_articles\": 84.0}, {\"date\": \"2020-03-27T00:00:00\", \"Tweets\": 12209011, \"total_cases\": 1115708.0, \"new_cases\": 122032.0, \"new_deaths\": 5610.0, \"cnn_articles\": 61.0, \"fox_articles\": 210.0}, {\"date\": \"2020-03-26T00:00:00\", \"Tweets\": 12236719, \"total_cases\": 993676.0, \"new_cases\": 107500.0, \"new_deaths\": 5288.0, \"cnn_articles\": 81.0, \"fox_articles\": 256.0}, {\"date\": \"2020-03-25T00:00:00\", \"Tweets\": 13000269, \"total_cases\": 886169.0, \"new_cases\": 84772.0, \"new_deaths\": 4610.0, \"cnn_articles\": 61.0, \"fox_articles\": 260.0}, {\"date\": \"2020-03-24T00:00:00\", \"Tweets\": 14445841, \"total_cases\": 801402.0, \"new_cases\": 88972.0, \"new_deaths\": 3708.0, \"cnn_articles\": 69.0, \"fox_articles\": 253.0}, {\"date\": \"2020-03-23T00:00:00\", \"Tweets\": 15446246, \"total_cases\": 712423.0, \"new_cases\": 68572.0, \"new_deaths\": 3376.0, \"cnn_articles\": 54.0, \"fox_articles\": 231.0}, {\"date\": \"2020-03-22T00:00:00\", \"Tweets\": 14392561, \"total_cases\": 643851.0, \"new_cases\": 68412.0, \"new_deaths\": 3434.0, \"cnn_articles\": 33.0, \"fox_articles\": 101.0}, {\"date\": \"2020-03-21T00:00:00\", \"Tweets\": 12861351, \"total_cases\": 575439.0, \"new_cases\": 63818.0, \"new_deaths\": 2770.0, \"cnn_articles\": 30.0, \"fox_articles\": 75.0}, {\"date\": \"2020-03-20T00:00:00\", \"Tweets\": 15200259, \"total_cases\": 511626.0, \"new_cases\": 62188.0, \"new_deaths\": 2148.0, \"cnn_articles\": 54.0, \"fox_articles\": 186.0}, {\"date\": \"2020-03-19T00:00:00\", \"Tweets\": 16582131, \"total_cases\": 449434.0, \"new_cases\": 40428.0, \"new_deaths\": 1916.0, \"cnn_articles\": 67.0, \"fox_articles\": 246.0}, {\"date\": \"2020-03-18T00:00:00\", \"Tweets\": 16561524, \"total_cases\": 409006.0, \"new_cases\": 34012.0, \"new_deaths\": 1624.0, \"cnn_articles\": 57.0, \"fox_articles\": 241.0}, {\"date\": \"2020-03-17T00:00:00\", \"Tweets\": 17417142, \"total_cases\": 374982.0, \"new_cases\": 28402.0, \"new_deaths\": 1212.0, \"cnn_articles\": 57.0, \"fox_articles\": 247.0}, {\"date\": \"2020-03-16T00:00:00\", \"Tweets\": 17227182, \"total_cases\": 346564.0, \"new_cases\": 24910.0, \"new_deaths\": 1500.0, \"cnn_articles\": 57.0, \"fox_articles\": 204.0}, {\"date\": \"2020-03-15T00:00:00\", \"Tweets\": 16438760, \"total_cases\": 321583.0, \"new_cases\": 24330.0, \"new_deaths\": 734.0, \"cnn_articles\": 17.0, \"fox_articles\": 91.0}, {\"date\": \"2020-03-14T00:00:00\", \"Tweets\": 16823148, \"total_cases\": 297129.0, \"new_cases\": 20808.0, \"new_deaths\": 884.0, \"cnn_articles\": 25.0, \"fox_articles\": 49.0}, {\"date\": \"2020-03-13T00:00:00\", \"Tweets\": 19802671, \"total_cases\": 276054.0, \"new_cases\": 18902.0, \"new_deaths\": 702.0, \"cnn_articles\": 44.0, \"fox_articles\": 159.0}, {\"date\": \"2020-03-12T00:00:00\", \"Tweets\": 18799722, \"total_cases\": 257471.0, \"new_cases\": 15796.0, \"new_deaths\": 662.0, \"cnn_articles\": 43.0, \"fox_articles\": 185.0}, {\"date\": \"2020-03-11T00:00:00\", \"Tweets\": 9923317, \"total_cases\": 241730.0, \"new_cases\": 10214.0, \"new_deaths\": 544.0, \"cnn_articles\": 24.0, \"fox_articles\": 107.0}, {\"date\": \"2020-03-10T00:00:00\", \"Tweets\": 8284672, \"total_cases\": 231310.0, \"new_cases\": 9632.0, \"new_deaths\": 418.0, \"cnn_articles\": 21.0, \"fox_articles\": 104.0}, {\"date\": \"2020-03-09T00:00:00\", \"Tweets\": 6386122, \"total_cases\": 221758.0, \"new_cases\": 8354.0, \"new_deaths\": 456.0, \"cnn_articles\": 24.0, \"fox_articles\": 89.0}, {\"date\": \"2020-03-08T00:00:00\", \"Tweets\": 4533476, \"total_cases\": 213417.0, \"new_cases\": 7954.0, \"new_deaths\": 194.0, \"cnn_articles\": 7.0, \"fox_articles\": 39.0}, {\"date\": \"2020-03-07T00:00:00\", \"Tweets\": 4632239, \"total_cases\": 205479.0, \"new_cases\": 8240.0, \"new_deaths\": 208.0, \"cnn_articles\": 9.0, \"fox_articles\": 37.0}, {\"date\": \"2020-03-06T00:00:00\", \"Tweets\": 4581032, \"total_cases\": 197347.0, \"new_cases\": 6116.0, \"new_deaths\": 204.0, \"cnn_articles\": 16.0, \"fox_articles\": 60.0}, {\"date\": \"2020-03-05T00:00:00\", \"Tweets\": 4323687, \"total_cases\": 191161.0, \"new_cases\": 4708.0, \"new_deaths\": 160.0, \"cnn_articles\": 12.0, \"fox_articles\": 50.0}, {\"date\": \"2020-03-04T00:00:00\", \"Tweets\": 4323670, \"total_cases\": 186440.0, \"new_cases\": 4624.0, \"new_deaths\": 168.0, \"cnn_articles\": 14.0, \"fox_articles\": 65.0}, {\"date\": \"2020-03-03T00:00:00\", \"Tweets\": 4342139, \"total_cases\": 181779.0, \"new_cases\": 3714.0, \"new_deaths\": 144.0, \"cnn_articles\": 7.0, \"fox_articles\": 49.0}, {\"date\": \"2020-03-02T00:00:00\", \"Tweets\": 4240721, \"total_cases\": 178298.0, \"new_cases\": 4138.0, \"new_deaths\": 134.0, \"cnn_articles\": 9.0, \"fox_articles\": 62.0}, {\"date\": \"2020-03-01T00:00:00\", \"Tweets\": 3632689, \"total_cases\": 174160.0, \"new_cases\": 3688.0, \"new_deaths\": 116.0, \"cnn_articles\": 9.0, \"fox_articles\": 24.0}, {\"date\": \"2020-02-29T00:00:00\", \"Tweets\": 4666121, \"total_cases\": 170472.0, \"new_cases\": 3718.0, \"new_deaths\": 128.0, \"cnn_articles\": 6.0, \"fox_articles\": 27.0}, {\"date\": \"2020-02-28T00:00:00\", \"Tweets\": 5685321, \"total_cases\": 166754.0, \"new_cases\": 2532.0, \"new_deaths\": 114.0, \"cnn_articles\": 6.0, \"fox_articles\": 43.0}, {\"date\": \"2020-02-27T00:00:00\", \"Tweets\": 4597412, \"total_cases\": 164222.0, \"new_cases\": 2228.0, \"new_deaths\": 76.0, \"cnn_articles\": 10.0, \"fox_articles\": 69.0}, {\"date\": \"2020-02-26T00:00:00\", \"Tweets\": 3989533, \"total_cases\": 161994.0, \"new_cases\": 1734.0, \"new_deaths\": 128.0, \"cnn_articles\": 9.0, \"fox_articles\": 52.0}, {\"date\": \"2020-02-25T00:00:00\", \"Tweets\": 2844369, \"total_cases\": 160260.0, \"new_cases\": 1586.0, \"new_deaths\": 158.0, \"cnn_articles\": 8.0, \"fox_articles\": 22.0}, {\"date\": \"2020-02-24T00:00:00\", \"Tweets\": 1643544, \"total_cases\": 158674.0, \"new_cases\": 1046.0, \"new_deaths\": 312.0, \"cnn_articles\": 6.0, \"fox_articles\": 19.0}, {\"date\": \"2020-02-23T00:00:00\", \"Tweets\": 1233511, \"total_cases\": 157628.0, \"new_cases\": 2018.0, \"new_deaths\": 208.0, \"cnn_articles\": 2.0, \"fox_articles\": 4.0}, {\"date\": \"2020-02-22T00:00:00\", \"Tweets\": 997638, \"total_cases\": 155610.0, \"new_cases\": 2170.0, \"new_deaths\": 224.0, \"cnn_articles\": 1.0, \"fox_articles\": 4.0}, {\"date\": \"2020-02-21T00:00:00\", \"Tweets\": 954321, \"total_cases\": 153440.0, \"new_cases\": 1992.0, \"new_deaths\": 238.0, \"cnn_articles\": 3.0, \"fox_articles\": 19.0}, {\"date\": \"2020-02-20T00:00:00\", \"Tweets\": 622349, \"total_cases\": 151448.0, \"new_cases\": 1064.0, \"new_deaths\": 232.0, \"cnn_articles\": 2.0, \"fox_articles\": 9.0}, {\"date\": \"2020-02-19T00:00:00\", \"Tweets\": 626237, \"total_cases\": 150384.0, \"new_cases\": 3728.0, \"new_deaths\": 278.0, \"cnn_articles\": 3.0, \"fox_articles\": 12.0}, {\"date\": \"2020-02-18T00:00:00\", \"Tweets\": 628043, \"total_cases\": 146656.0, \"new_cases\": 3990.0, \"new_deaths\": 196.0, \"cnn_articles\": 4.0, \"fox_articles\": 17.0}, {\"date\": \"2020-02-17T00:00:00\", \"Tweets\": 626732, \"total_cases\": 142666.0, \"new_cases\": 4134.0, \"new_deaths\": 212.0, \"cnn_articles\": 5.0, \"fox_articles\": 18.0}, {\"date\": \"2020-02-16T00:00:00\", \"Tweets\": 625127, \"total_cases\": 138532.0, \"new_cases\": 4324.0, \"new_deaths\": 284.0, \"cnn_articles\": 4.0, \"fox_articles\": 6.0}, {\"date\": \"2020-02-15T00:00:00\", \"Tweets\": 624555, \"total_cases\": 134208.0, \"new_cases\": 5120.0, \"new_deaths\": 288.0, \"cnn_articles\": 3.0, \"fox_articles\": 8.0}, {\"date\": \"2020-02-14T00:00:00\", \"Tweets\": 622722, \"total_cases\": 129088.0, \"new_cases\": 8430.0, \"new_deaths\": 26.0, \"cnn_articles\": 6.0, \"fox_articles\": 14.0}, {\"date\": \"2020-02-13T00:00:00\", \"Tweets\": 956877, \"total_cases\": 120658.0, \"new_cases\": 30302.0, \"new_deaths\": 510.0, \"cnn_articles\": 4.0, \"fox_articles\": 21.0}, {\"date\": \"2020-02-12T00:00:00\", \"Tweets\": 911098, \"total_cases\": 90356.0, \"new_cases\": 4144.0, \"new_deaths\": 194.0, \"cnn_articles\": 2.0, \"fox_articles\": 20.0}, {\"date\": \"2020-02-11T00:00:00\", \"Tweets\": 908627, \"total_cases\": 86212.0, \"new_cases\": 5124.0, \"new_deaths\": 216.0, \"cnn_articles\": 4.0, \"fox_articles\": 18.0}, {\"date\": \"2020-02-10T00:00:00\", \"Tweets\": 807654, \"total_cases\": 81088.0, \"new_cases\": 5984.0, \"new_deaths\": 194.0, \"cnn_articles\": 1.0, \"fox_articles\": 13.0}, {\"date\": \"2020-02-09T00:00:00\", \"Tweets\": 796739, \"total_cases\": 75104.0, \"new_cases\": 5236.0, \"new_deaths\": 178.0, \"cnn_articles\": 0.0, \"fox_articles\": 10.0}, {\"date\": \"2020-02-08T00:00:00\", \"Tweets\": 803453, \"total_cases\": 69868.0, \"new_cases\": 6884.0, \"new_deaths\": 172.0, \"cnn_articles\": 0.0, \"fox_articles\": 11.0}, {\"date\": \"2020-02-07T00:00:00\", \"Tweets\": 987563, \"total_cases\": 62984.0, \"new_cases\": 6436.0, \"new_deaths\": 146.0, \"cnn_articles\": 0.0, \"fox_articles\": 22.0}, {\"date\": \"2020-02-06T00:00:00\", \"Tweets\": 834673, \"total_cases\": 56548.0, \"new_cases\": 7502.0, \"new_deaths\": 144.0, \"cnn_articles\": 1.0, \"fox_articles\": 17.0}, {\"date\": \"2020-02-05T00:00:00\", \"Tweets\": 803587, \"total_cases\": 49046.0, \"new_cases\": 7816.0, \"new_deaths\": 132.0, \"cnn_articles\": 0.0, \"fox_articles\": 20.0}, {\"date\": \"2020-02-04T00:00:00\", \"Tweets\": 997862, \"total_cases\": 41230.0, \"new_cases\": 6486.0, \"new_deaths\": 130.0, \"cnn_articles\": 1.0, \"fox_articles\": 28.0}, {\"date\": \"2020-02-03T00:00:00\", \"Tweets\": 1000752, \"total_cases\": 34744.0, \"new_cases\": 5636.0, \"new_deaths\": 114.0, \"cnn_articles\": 0.0, \"fox_articles\": 20.0}, {\"date\": \"2020-02-02T00:00:00\", \"Tweets\": 1298476, \"total_cases\": 29108.0, \"new_cases\": 5216.0, \"new_deaths\": 92.0, \"cnn_articles\": 0.0, \"fox_articles\": 7.0}, {\"date\": \"2020-02-01T00:00:00\", \"Tweets\": 1287963, \"total_cases\": 23892.0, \"new_cases\": 4244.0, \"new_deaths\": 92.0, \"cnn_articles\": 0.0, \"fox_articles\": 7.0}, {\"date\": \"2020-01-31T00:00:00\", \"Tweets\": 1997635, \"total_cases\": 19648.0, \"new_cases\": 4002.0, \"new_deaths\": 86.0, \"cnn_articles\": 1.0, \"fox_articles\": 19.0}, {\"date\": \"2020-01-30T00:00:00\", \"Tweets\": 2010976, \"total_cases\": 15646.0, \"new_cases\": 3512.0, \"new_deaths\": 76.0, \"cnn_articles\": 1.0, \"fox_articles\": 32.0}, {\"date\": \"2020-01-29T00:00:00\", \"Tweets\": 1623497, \"total_cases\": 12134.0, \"new_cases\": 2960.0, \"new_deaths\": 52.0, \"cnn_articles\": 1.0, \"fox_articles\": 33.0}, {\"date\": \"2020-01-28T00:00:00\", \"Tweets\": 1497653, \"total_cases\": 9174.0, \"new_cases\": 3534.0, \"new_deaths\": 50.0, \"cnn_articles\": 0.0, \"fox_articles\": 22.0}, {\"date\": \"2020-01-27T00:00:00\", \"Tweets\": 1467598, \"total_cases\": 5640.0, \"new_cases\": 1594.0, \"new_deaths\": 50.0, \"cnn_articles\": 0.0, \"fox_articles\": 20.0}, {\"date\": \"2020-01-26T00:00:00\", \"Tweets\": 1678953, \"total_cases\": 4046.0, \"new_cases\": 1346.0, \"new_deaths\": 30.0, \"cnn_articles\": 0.0, \"fox_articles\": 9.0}, {\"date\": \"2020-01-25T00:00:00\", \"Tweets\": 1536784, \"total_cases\": 2700.0, \"new_cases\": 906.0, \"new_deaths\": 30.0, \"cnn_articles\": 0.0, \"fox_articles\": 5.0}, {\"date\": \"2020-01-24T00:00:00\", \"Tweets\": 1153245, \"total_cases\": 1794.0, \"new_cases\": 532.0, \"new_deaths\": 18.0, \"cnn_articles\": 0.0, \"fox_articles\": 10.0}, {\"date\": \"2020-01-23T00:00:00\", \"Tweets\": 905673, \"total_cases\": 1262.0, \"new_cases\": 194.0, \"new_deaths\": 0.0, \"cnn_articles\": 2.0, \"fox_articles\": 20.0}, {\"date\": \"2020-01-22T00:00:00\", \"Tweets\": 508623, \"total_cases\": 1068.0, \"new_cases\": 284.0, \"new_deaths\": 22.0, \"cnn_articles\": 2.0, \"fox_articles\": 10.0}, {\"date\": \"2020-01-21T00:00:00\", \"Tweets\": 259864, \"total_cases\": 784.0, \"new_cases\": 306.0, \"new_deaths\": 6.0, \"cnn_articles\": 0.0, \"fox_articles\": 6.0}, {\"date\": \"2020-01-20T00:00:00\", \"Tweets\": 100124, \"total_cases\": 478.0, \"new_cases\": 40.0, \"new_deaths\": 0.0, \"cnn_articles\": 0.0, \"fox_articles\": 3.0}, {\"date\": \"2020-01-19T00:00:00\", \"Tweets\": 20987, \"total_cases\": 438.0, \"new_cases\": 272.0, \"new_deaths\": 2.0, \"cnn_articles\": 0.0, \"fox_articles\": 0.0}, {\"date\": \"2020-01-18T00:00:00\", \"Tweets\": 23432, \"total_cases\": 166.0, \"new_cases\": 34.0, \"new_deaths\": 0.0, \"cnn_articles\": 0.0, \"fox_articles\": 0.0}, {\"date\": \"2020-01-17T00:00:00\", \"Tweets\": 22431, \"total_cases\": 132.0, \"new_cases\": 10.0, \"new_deaths\": 0.0, \"cnn_articles\": 1.0, \"fox_articles\": 2.0}, {\"date\": \"2020-01-16T00:00:00\", \"Tweets\": 22342, \"total_cases\": 122.0, \"new_cases\": 0.0, \"new_deaths\": 0.0, \"cnn_articles\": 0.0, \"fox_articles\": 1.0}, {\"date\": \"2020-01-15T00:00:00\", \"Tweets\": 10987, \"total_cases\": 122.0, \"new_cases\": 2.0, \"new_deaths\": 2.0, \"cnn_articles\": 0.0, \"fox_articles\": 1.0}, {\"date\": \"2020-01-14T00:00:00\", \"Tweets\": 10023, \"total_cases\": 120.0, \"new_cases\": 0.0, \"new_deaths\": 0.0, \"cnn_articles\": 0.0, \"fox_articles\": 0.0}, {\"date\": \"2020-01-13T00:00:00\", \"Tweets\": 16475, \"total_cases\": 120.0, \"new_cases\": 2.0, \"new_deaths\": 0.0, \"cnn_articles\": 0.0, \"fox_articles\": 1.0}, {\"date\": \"2020-01-12T00:00:00\", \"Tweets\": 10045, \"total_cases\": 118.0, \"new_cases\": 0.0, \"new_deaths\": 0.0, \"cnn_articles\": 0.0, \"fox_articles\": 0.0}, {\"date\": \"2020-01-11T00:00:00\", \"Tweets\": 2812, \"total_cases\": 118.0, \"new_cases\": 0.0, \"new_deaths\": 2.0, \"cnn_articles\": 0.0, \"fox_articles\": 0.0}, {\"date\": \"2020-01-10T00:00:00\", \"Tweets\": 2347, \"total_cases\": 118.0, \"new_cases\": 0.0, \"new_deaths\": 0.0, \"cnn_articles\": 0.0, \"fox_articles\": 0.0}, {\"date\": \"2020-01-09T00:00:00\", \"Tweets\": 3451, \"total_cases\": 118.0, \"new_cases\": 0.0, \"new_deaths\": 0.0, \"cnn_articles\": 0.0, \"fox_articles\": 1.0}, {\"date\": \"2020-01-08T00:00:00\", \"Tweets\": 421, \"total_cases\": 118.0, \"new_cases\": 0.0, \"new_deaths\": 0.0, \"cnn_articles\": 0.0, \"fox_articles\": 0.0}, {\"date\": \"2020-01-07T00:00:00\", \"Tweets\": 293, \"total_cases\": 118.0, \"new_cases\": 0.0, \"new_deaths\": 0.0, \"cnn_articles\": 0.0, \"fox_articles\": 0.0}, {\"date\": \"2020-01-06T00:00:00\", \"Tweets\": 86, \"total_cases\": 118.0, \"new_cases\": 0.0, \"new_deaths\": 0.0, \"cnn_articles\": 0.0, \"fox_articles\": 0.0}, {\"date\": \"2020-01-05T00:00:00\", \"Tweets\": 127, \"total_cases\": 118.0, \"new_cases\": 30.0, \"new_deaths\": 0.0, \"cnn_articles\": 0.0, \"fox_articles\": 0.0}, {\"date\": \"2020-01-04T00:00:00\", \"Tweets\": 172, \"total_cases\": 88.0, \"new_cases\": 0.0, \"new_deaths\": 0.0, \"cnn_articles\": 0.0, \"fox_articles\": 0.0}, {\"date\": \"2020-01-03T00:00:00\", \"Tweets\": 94, \"total_cases\": 88.0, \"new_cases\": 34.0, \"new_deaths\": 0.0, \"cnn_articles\": 0.0, \"fox_articles\": 0.0}, {\"date\": \"2020-01-02T00:00:00\", \"Tweets\": 41, \"total_cases\": 54.0, \"new_cases\": 0.0, \"new_deaths\": 0.0, \"cnn_articles\": 0.0, \"fox_articles\": 0.0}, {\"date\": \"2020-01-01T00:00:00\", \"Tweets\": 63, \"total_cases\": 54.0, \"new_cases\": 0.0, \"new_deaths\": 0.0, \"cnn_articles\": 0.0, \"fox_articles\": 0.0}]}}, {\"mode\": \"vega-lite\"});\n",
       "</script>"
      ],
      "text/plain": [
       "alt.LayerChart(...)"
      ]
     },
     "execution_count": 8,
     "metadata": {},
     "output_type": "execute_result"
    }
   ],
   "source": [
    "base = alt.Chart(merged_3).encode(\n",
    "    alt.X('date:T', axis=alt.Axis(title=None))\n",
    ").properties(\n",
    "    width=500,\n",
    "    height=200\n",
    ")\n",
    "\n",
    "\n",
    "line_tweets = base.mark_line(stroke='#1da1f2', interpolate='monotone').encode(\n",
    "    alt.Y('Tweets',\n",
    "          axis=alt.Axis(title='Number of tweets', titleColor='#1da1f2'))\n",
    ")\n",
    "\n",
    "line_cases = base.mark_line( interpolate='monotone', stroke='#eb34eb').encode(\n",
    "    alt.Y('new_cases',\n",
    "          axis=alt.Axis(title='New cases', titleColor='#eb34eb'))\n",
    ")\n",
    "\n",
    "alt.layer(line_tweets, line_cases).resolve_scale(\n",
    "    y = 'independent'\n",
    ")"
   ]
  },
  {
   "cell_type": "code",
   "execution_count": 9,
   "metadata": {
    "colab": {
     "base_uri": "https://localhost:8080/",
     "height": 275
    },
    "id": "R-xNp6Y6LJ4s",
    "outputId": "9f71b45c-8ba9-4b14-ac9a-e4ab7d2d7044"
   },
   "outputs": [
    {
     "data": {
      "text/html": [
       "\n",
       "<div id=\"altair-viz-d05a22f3fe45426992849447f34669ab\"></div>\n",
       "<script type=\"text/javascript\">\n",
       "  (function(spec, embedOpt){\n",
       "    let outputDiv = document.currentScript.previousElementSibling;\n",
       "    if (outputDiv.id !== \"altair-viz-d05a22f3fe45426992849447f34669ab\") {\n",
       "      outputDiv = document.getElementById(\"altair-viz-d05a22f3fe45426992849447f34669ab\");\n",
       "    }\n",
       "    const paths = {\n",
       "      \"vega\": \"https://cdn.jsdelivr.net/npm//vega@5?noext\",\n",
       "      \"vega-lib\": \"https://cdn.jsdelivr.net/npm//vega-lib?noext\",\n",
       "      \"vega-lite\": \"https://cdn.jsdelivr.net/npm//vega-lite@4.8.1?noext\",\n",
       "      \"vega-embed\": \"https://cdn.jsdelivr.net/npm//vega-embed@6?noext\",\n",
       "    };\n",
       "\n",
       "    function loadScript(lib) {\n",
       "      return new Promise(function(resolve, reject) {\n",
       "        var s = document.createElement('script');\n",
       "        s.src = paths[lib];\n",
       "        s.async = true;\n",
       "        s.onload = () => resolve(paths[lib]);\n",
       "        s.onerror = () => reject(`Error loading script: ${paths[lib]}`);\n",
       "        document.getElementsByTagName(\"head\")[0].appendChild(s);\n",
       "      });\n",
       "    }\n",
       "\n",
       "    function showError(err) {\n",
       "      outputDiv.innerHTML = `<div class=\"error\" style=\"color:red;\">${err}</div>`;\n",
       "      throw err;\n",
       "    }\n",
       "\n",
       "    function displayChart(vegaEmbed) {\n",
       "      vegaEmbed(outputDiv, spec, embedOpt)\n",
       "        .catch(err => showError(`Javascript Error: ${err.message}<br>This usually means there's a typo in your chart specification. See the javascript console for the full traceback.`));\n",
       "    }\n",
       "\n",
       "    if(typeof define === \"function\" && define.amd) {\n",
       "      requirejs.config({paths});\n",
       "      require([\"vega-embed\"], displayChart, err => showError(`Error loading script: ${err.message}`));\n",
       "    } else if (typeof vegaEmbed === \"function\") {\n",
       "      displayChart(vegaEmbed);\n",
       "    } else {\n",
       "      loadScript(\"vega\")\n",
       "        .then(() => loadScript(\"vega-lite\"))\n",
       "        .then(() => loadScript(\"vega-embed\"))\n",
       "        .catch(showError)\n",
       "        .then(() => displayChart(vegaEmbed));\n",
       "    }\n",
       "  })({\"config\": {\"view\": {\"continuousWidth\": 400, \"continuousHeight\": 300}}, \"layer\": [{\"mark\": {\"type\": \"line\", \"interpolate\": \"monotone\", \"stroke\": \"#1da1f2\"}, \"encoding\": {\"x\": {\"type\": \"temporal\", \"axis\": {\"title\": null}, \"field\": \"date\"}, \"y\": {\"type\": \"quantitative\", \"axis\": {\"title\": \"Number of tweets\", \"titleColor\": \"#1da1f2\"}, \"field\": \"Tweets\"}}, \"height\": 200, \"width\": 500}, {\"mark\": {\"type\": \"line\", \"interpolate\": \"monotone\", \"stroke\": \"#eb34eb\"}, \"encoding\": {\"x\": {\"type\": \"temporal\", \"axis\": {\"title\": null}, \"field\": \"date\"}, \"y\": {\"type\": \"quantitative\", \"axis\": {\"title\": \"value\", \"titleColor\": \"#eb34eb\"}, \"field\": \"value\"}}, \"height\": 200, \"selection\": {\"selector001\": {\"type\": \"single\", \"fields\": [\"column\"], \"bind\": {\"input\": \"select\", \"options\": [\"new_cases\", \"new_deaths\"], \"name\": \"Pandemic data\"}, \"init\": {\"column\": \"new_cases\"}}}, \"transform\": [{\"fold\": [\"new_cases\", \"new_deaths\"], \"as\": [\"column\", \"value\"]}, {\"filter\": {\"selection\": \"selector001\"}}], \"width\": 500}], \"data\": {\"name\": \"data-d8b54515c5c785b307ffeaa1524073e9\"}, \"resolve\": {\"scale\": {\"y\": \"independent\"}}, \"$schema\": \"https://vega.github.io/schema/vega-lite/v4.8.1.json\", \"datasets\": {\"data-d8b54515c5c785b307ffeaa1524073e9\": [{\"date\": \"2020-04-07T00:00:00\", \"Tweets\": 7877346, \"total_cases\": 2687108.0, \"new_cases\": 145976.0, \"new_deaths\": 10680.0, \"cnn_articles\": 77.0, \"fox_articles\": 230.0}, {\"date\": \"2020-04-06T00:00:00\", \"Tweets\": 8153966, \"total_cases\": 2541132.0, \"new_cases\": 132552.0, \"new_deaths\": 9512.0, \"cnn_articles\": 74.0, \"fox_articles\": 169.0}, {\"date\": \"2020-04-05T00:00:00\", \"Tweets\": 7421877, \"total_cases\": 2408425.0, \"new_cases\": 170486.0, \"new_deaths\": 12616.0, \"cnn_articles\": 48.0, \"fox_articles\": 96.0}, {\"date\": \"2020-04-04T00:00:00\", \"Tweets\": 7928225, \"total_cases\": 2238094.0, \"new_cases\": 163660.0, \"new_deaths\": 13552.0, \"cnn_articles\": 36.0, \"fox_articles\": 120.0}, {\"date\": \"2020-04-03T00:00:00\", \"Tweets\": 9357113, \"total_cases\": 2074434.0, \"new_cases\": 154914.0, \"new_deaths\": 10018.0, \"cnn_articles\": 80.0, \"fox_articles\": 235.0}, {\"date\": \"2020-04-02T00:00:00\", \"Tweets\": 9767918, \"total_cases\": 1919520.0, \"new_cases\": 154946.0, \"new_deaths\": 10020.0, \"cnn_articles\": 85.0, \"fox_articles\": 260.0}, {\"date\": \"2020-04-01T00:00:00\", \"Tweets\": 10402981, \"total_cases\": 1764569.0, \"new_cases\": 149348.0, \"new_deaths\": 9348.0, \"cnn_articles\": 71.0, \"fox_articles\": 260.0}, {\"date\": \"2020-03-31T00:00:00\", \"Tweets\": 10442432, \"total_cases\": 1615134.0, \"new_cases\": 128976.0, \"new_deaths\": 7972.0, \"cnn_articles\": 75.0, \"fox_articles\": 144.0}, {\"date\": \"2020-03-30T00:00:00\", \"Tweets\": 10125714, \"total_cases\": 1486250.0, \"new_cases\": 114726.0, \"new_deaths\": 6456.0, \"cnn_articles\": 60.0, \"fox_articles\": 204.0}, {\"date\": \"2020-03-29T00:00:00\", \"Tweets\": 9333426, \"total_cases\": 1371524.0, \"new_cases\": 125628.0, \"new_deaths\": 7174.0, \"cnn_articles\": 33.0, \"fox_articles\": 108.0}, {\"date\": \"2020-03-28T00:00:00\", \"Tweets\": 10434671, \"total_cases\": 1245896.0, \"new_cases\": 130188.0, \"new_deaths\": 6982.0, \"cnn_articles\": 29.0, \"fox_articles\": 84.0}, {\"date\": \"2020-03-27T00:00:00\", \"Tweets\": 12209011, \"total_cases\": 1115708.0, \"new_cases\": 122032.0, \"new_deaths\": 5610.0, \"cnn_articles\": 61.0, \"fox_articles\": 210.0}, {\"date\": \"2020-03-26T00:00:00\", \"Tweets\": 12236719, \"total_cases\": 993676.0, \"new_cases\": 107500.0, \"new_deaths\": 5288.0, \"cnn_articles\": 81.0, \"fox_articles\": 256.0}, {\"date\": \"2020-03-25T00:00:00\", \"Tweets\": 13000269, \"total_cases\": 886169.0, \"new_cases\": 84772.0, \"new_deaths\": 4610.0, \"cnn_articles\": 61.0, \"fox_articles\": 260.0}, {\"date\": \"2020-03-24T00:00:00\", \"Tweets\": 14445841, \"total_cases\": 801402.0, \"new_cases\": 88972.0, \"new_deaths\": 3708.0, \"cnn_articles\": 69.0, \"fox_articles\": 253.0}, {\"date\": \"2020-03-23T00:00:00\", \"Tweets\": 15446246, \"total_cases\": 712423.0, \"new_cases\": 68572.0, \"new_deaths\": 3376.0, \"cnn_articles\": 54.0, \"fox_articles\": 231.0}, {\"date\": \"2020-03-22T00:00:00\", \"Tweets\": 14392561, \"total_cases\": 643851.0, \"new_cases\": 68412.0, \"new_deaths\": 3434.0, \"cnn_articles\": 33.0, \"fox_articles\": 101.0}, {\"date\": \"2020-03-21T00:00:00\", \"Tweets\": 12861351, \"total_cases\": 575439.0, \"new_cases\": 63818.0, \"new_deaths\": 2770.0, \"cnn_articles\": 30.0, \"fox_articles\": 75.0}, {\"date\": \"2020-03-20T00:00:00\", \"Tweets\": 15200259, \"total_cases\": 511626.0, \"new_cases\": 62188.0, \"new_deaths\": 2148.0, \"cnn_articles\": 54.0, \"fox_articles\": 186.0}, {\"date\": \"2020-03-19T00:00:00\", \"Tweets\": 16582131, \"total_cases\": 449434.0, \"new_cases\": 40428.0, \"new_deaths\": 1916.0, \"cnn_articles\": 67.0, \"fox_articles\": 246.0}, {\"date\": \"2020-03-18T00:00:00\", \"Tweets\": 16561524, \"total_cases\": 409006.0, \"new_cases\": 34012.0, \"new_deaths\": 1624.0, \"cnn_articles\": 57.0, \"fox_articles\": 241.0}, {\"date\": \"2020-03-17T00:00:00\", \"Tweets\": 17417142, \"total_cases\": 374982.0, \"new_cases\": 28402.0, \"new_deaths\": 1212.0, \"cnn_articles\": 57.0, \"fox_articles\": 247.0}, {\"date\": \"2020-03-16T00:00:00\", \"Tweets\": 17227182, \"total_cases\": 346564.0, \"new_cases\": 24910.0, \"new_deaths\": 1500.0, \"cnn_articles\": 57.0, \"fox_articles\": 204.0}, {\"date\": \"2020-03-15T00:00:00\", \"Tweets\": 16438760, \"total_cases\": 321583.0, \"new_cases\": 24330.0, \"new_deaths\": 734.0, \"cnn_articles\": 17.0, \"fox_articles\": 91.0}, {\"date\": \"2020-03-14T00:00:00\", \"Tweets\": 16823148, \"total_cases\": 297129.0, \"new_cases\": 20808.0, \"new_deaths\": 884.0, \"cnn_articles\": 25.0, \"fox_articles\": 49.0}, {\"date\": \"2020-03-13T00:00:00\", \"Tweets\": 19802671, \"total_cases\": 276054.0, \"new_cases\": 18902.0, \"new_deaths\": 702.0, \"cnn_articles\": 44.0, \"fox_articles\": 159.0}, {\"date\": \"2020-03-12T00:00:00\", \"Tweets\": 18799722, \"total_cases\": 257471.0, \"new_cases\": 15796.0, \"new_deaths\": 662.0, \"cnn_articles\": 43.0, \"fox_articles\": 185.0}, {\"date\": \"2020-03-11T00:00:00\", \"Tweets\": 9923317, \"total_cases\": 241730.0, \"new_cases\": 10214.0, \"new_deaths\": 544.0, \"cnn_articles\": 24.0, \"fox_articles\": 107.0}, {\"date\": \"2020-03-10T00:00:00\", \"Tweets\": 8284672, \"total_cases\": 231310.0, \"new_cases\": 9632.0, \"new_deaths\": 418.0, \"cnn_articles\": 21.0, \"fox_articles\": 104.0}, {\"date\": \"2020-03-09T00:00:00\", \"Tweets\": 6386122, \"total_cases\": 221758.0, \"new_cases\": 8354.0, \"new_deaths\": 456.0, \"cnn_articles\": 24.0, \"fox_articles\": 89.0}, {\"date\": \"2020-03-08T00:00:00\", \"Tweets\": 4533476, \"total_cases\": 213417.0, \"new_cases\": 7954.0, \"new_deaths\": 194.0, \"cnn_articles\": 7.0, \"fox_articles\": 39.0}, {\"date\": \"2020-03-07T00:00:00\", \"Tweets\": 4632239, \"total_cases\": 205479.0, \"new_cases\": 8240.0, \"new_deaths\": 208.0, \"cnn_articles\": 9.0, \"fox_articles\": 37.0}, {\"date\": \"2020-03-06T00:00:00\", \"Tweets\": 4581032, \"total_cases\": 197347.0, \"new_cases\": 6116.0, \"new_deaths\": 204.0, \"cnn_articles\": 16.0, \"fox_articles\": 60.0}, {\"date\": \"2020-03-05T00:00:00\", \"Tweets\": 4323687, \"total_cases\": 191161.0, \"new_cases\": 4708.0, \"new_deaths\": 160.0, \"cnn_articles\": 12.0, \"fox_articles\": 50.0}, {\"date\": \"2020-03-04T00:00:00\", \"Tweets\": 4323670, \"total_cases\": 186440.0, \"new_cases\": 4624.0, \"new_deaths\": 168.0, \"cnn_articles\": 14.0, \"fox_articles\": 65.0}, {\"date\": \"2020-03-03T00:00:00\", \"Tweets\": 4342139, \"total_cases\": 181779.0, \"new_cases\": 3714.0, \"new_deaths\": 144.0, \"cnn_articles\": 7.0, \"fox_articles\": 49.0}, {\"date\": \"2020-03-02T00:00:00\", \"Tweets\": 4240721, \"total_cases\": 178298.0, \"new_cases\": 4138.0, \"new_deaths\": 134.0, \"cnn_articles\": 9.0, \"fox_articles\": 62.0}, {\"date\": \"2020-03-01T00:00:00\", \"Tweets\": 3632689, \"total_cases\": 174160.0, \"new_cases\": 3688.0, \"new_deaths\": 116.0, \"cnn_articles\": 9.0, \"fox_articles\": 24.0}, {\"date\": \"2020-02-29T00:00:00\", \"Tweets\": 4666121, \"total_cases\": 170472.0, \"new_cases\": 3718.0, \"new_deaths\": 128.0, \"cnn_articles\": 6.0, \"fox_articles\": 27.0}, {\"date\": \"2020-02-28T00:00:00\", \"Tweets\": 5685321, \"total_cases\": 166754.0, \"new_cases\": 2532.0, \"new_deaths\": 114.0, \"cnn_articles\": 6.0, \"fox_articles\": 43.0}, {\"date\": \"2020-02-27T00:00:00\", \"Tweets\": 4597412, \"total_cases\": 164222.0, \"new_cases\": 2228.0, \"new_deaths\": 76.0, \"cnn_articles\": 10.0, \"fox_articles\": 69.0}, {\"date\": \"2020-02-26T00:00:00\", \"Tweets\": 3989533, \"total_cases\": 161994.0, \"new_cases\": 1734.0, \"new_deaths\": 128.0, \"cnn_articles\": 9.0, \"fox_articles\": 52.0}, {\"date\": \"2020-02-25T00:00:00\", \"Tweets\": 2844369, \"total_cases\": 160260.0, \"new_cases\": 1586.0, \"new_deaths\": 158.0, \"cnn_articles\": 8.0, \"fox_articles\": 22.0}, {\"date\": \"2020-02-24T00:00:00\", \"Tweets\": 1643544, \"total_cases\": 158674.0, \"new_cases\": 1046.0, \"new_deaths\": 312.0, \"cnn_articles\": 6.0, \"fox_articles\": 19.0}, {\"date\": \"2020-02-23T00:00:00\", \"Tweets\": 1233511, \"total_cases\": 157628.0, \"new_cases\": 2018.0, \"new_deaths\": 208.0, \"cnn_articles\": 2.0, \"fox_articles\": 4.0}, {\"date\": \"2020-02-22T00:00:00\", \"Tweets\": 997638, \"total_cases\": 155610.0, \"new_cases\": 2170.0, \"new_deaths\": 224.0, \"cnn_articles\": 1.0, \"fox_articles\": 4.0}, {\"date\": \"2020-02-21T00:00:00\", \"Tweets\": 954321, \"total_cases\": 153440.0, \"new_cases\": 1992.0, \"new_deaths\": 238.0, \"cnn_articles\": 3.0, \"fox_articles\": 19.0}, {\"date\": \"2020-02-20T00:00:00\", \"Tweets\": 622349, \"total_cases\": 151448.0, \"new_cases\": 1064.0, \"new_deaths\": 232.0, \"cnn_articles\": 2.0, \"fox_articles\": 9.0}, {\"date\": \"2020-02-19T00:00:00\", \"Tweets\": 626237, \"total_cases\": 150384.0, \"new_cases\": 3728.0, \"new_deaths\": 278.0, \"cnn_articles\": 3.0, \"fox_articles\": 12.0}, {\"date\": \"2020-02-18T00:00:00\", \"Tweets\": 628043, \"total_cases\": 146656.0, \"new_cases\": 3990.0, \"new_deaths\": 196.0, \"cnn_articles\": 4.0, \"fox_articles\": 17.0}, {\"date\": \"2020-02-17T00:00:00\", \"Tweets\": 626732, \"total_cases\": 142666.0, \"new_cases\": 4134.0, \"new_deaths\": 212.0, \"cnn_articles\": 5.0, \"fox_articles\": 18.0}, {\"date\": \"2020-02-16T00:00:00\", \"Tweets\": 625127, \"total_cases\": 138532.0, \"new_cases\": 4324.0, \"new_deaths\": 284.0, \"cnn_articles\": 4.0, \"fox_articles\": 6.0}, {\"date\": \"2020-02-15T00:00:00\", \"Tweets\": 624555, \"total_cases\": 134208.0, \"new_cases\": 5120.0, \"new_deaths\": 288.0, \"cnn_articles\": 3.0, \"fox_articles\": 8.0}, {\"date\": \"2020-02-14T00:00:00\", \"Tweets\": 622722, \"total_cases\": 129088.0, \"new_cases\": 8430.0, \"new_deaths\": 26.0, \"cnn_articles\": 6.0, \"fox_articles\": 14.0}, {\"date\": \"2020-02-13T00:00:00\", \"Tweets\": 956877, \"total_cases\": 120658.0, \"new_cases\": 30302.0, \"new_deaths\": 510.0, \"cnn_articles\": 4.0, \"fox_articles\": 21.0}, {\"date\": \"2020-02-12T00:00:00\", \"Tweets\": 911098, \"total_cases\": 90356.0, \"new_cases\": 4144.0, \"new_deaths\": 194.0, \"cnn_articles\": 2.0, \"fox_articles\": 20.0}, {\"date\": \"2020-02-11T00:00:00\", \"Tweets\": 908627, \"total_cases\": 86212.0, \"new_cases\": 5124.0, \"new_deaths\": 216.0, \"cnn_articles\": 4.0, \"fox_articles\": 18.0}, {\"date\": \"2020-02-10T00:00:00\", \"Tweets\": 807654, \"total_cases\": 81088.0, \"new_cases\": 5984.0, \"new_deaths\": 194.0, \"cnn_articles\": 1.0, \"fox_articles\": 13.0}, {\"date\": \"2020-02-09T00:00:00\", \"Tweets\": 796739, \"total_cases\": 75104.0, \"new_cases\": 5236.0, \"new_deaths\": 178.0, \"cnn_articles\": 0.0, \"fox_articles\": 10.0}, {\"date\": \"2020-02-08T00:00:00\", \"Tweets\": 803453, \"total_cases\": 69868.0, \"new_cases\": 6884.0, \"new_deaths\": 172.0, \"cnn_articles\": 0.0, \"fox_articles\": 11.0}, {\"date\": \"2020-02-07T00:00:00\", \"Tweets\": 987563, \"total_cases\": 62984.0, \"new_cases\": 6436.0, \"new_deaths\": 146.0, \"cnn_articles\": 0.0, \"fox_articles\": 22.0}, {\"date\": \"2020-02-06T00:00:00\", \"Tweets\": 834673, \"total_cases\": 56548.0, \"new_cases\": 7502.0, \"new_deaths\": 144.0, \"cnn_articles\": 1.0, \"fox_articles\": 17.0}, {\"date\": \"2020-02-05T00:00:00\", \"Tweets\": 803587, \"total_cases\": 49046.0, \"new_cases\": 7816.0, \"new_deaths\": 132.0, \"cnn_articles\": 0.0, \"fox_articles\": 20.0}, {\"date\": \"2020-02-04T00:00:00\", \"Tweets\": 997862, \"total_cases\": 41230.0, \"new_cases\": 6486.0, \"new_deaths\": 130.0, \"cnn_articles\": 1.0, \"fox_articles\": 28.0}, {\"date\": \"2020-02-03T00:00:00\", \"Tweets\": 1000752, \"total_cases\": 34744.0, \"new_cases\": 5636.0, \"new_deaths\": 114.0, \"cnn_articles\": 0.0, \"fox_articles\": 20.0}, {\"date\": \"2020-02-02T00:00:00\", \"Tweets\": 1298476, \"total_cases\": 29108.0, \"new_cases\": 5216.0, \"new_deaths\": 92.0, \"cnn_articles\": 0.0, \"fox_articles\": 7.0}, {\"date\": \"2020-02-01T00:00:00\", \"Tweets\": 1287963, \"total_cases\": 23892.0, \"new_cases\": 4244.0, \"new_deaths\": 92.0, \"cnn_articles\": 0.0, \"fox_articles\": 7.0}, {\"date\": \"2020-01-31T00:00:00\", \"Tweets\": 1997635, \"total_cases\": 19648.0, \"new_cases\": 4002.0, \"new_deaths\": 86.0, \"cnn_articles\": 1.0, \"fox_articles\": 19.0}, {\"date\": \"2020-01-30T00:00:00\", \"Tweets\": 2010976, \"total_cases\": 15646.0, \"new_cases\": 3512.0, \"new_deaths\": 76.0, \"cnn_articles\": 1.0, \"fox_articles\": 32.0}, {\"date\": \"2020-01-29T00:00:00\", \"Tweets\": 1623497, \"total_cases\": 12134.0, \"new_cases\": 2960.0, \"new_deaths\": 52.0, \"cnn_articles\": 1.0, \"fox_articles\": 33.0}, {\"date\": \"2020-01-28T00:00:00\", \"Tweets\": 1497653, \"total_cases\": 9174.0, \"new_cases\": 3534.0, \"new_deaths\": 50.0, \"cnn_articles\": 0.0, \"fox_articles\": 22.0}, {\"date\": \"2020-01-27T00:00:00\", \"Tweets\": 1467598, \"total_cases\": 5640.0, \"new_cases\": 1594.0, \"new_deaths\": 50.0, \"cnn_articles\": 0.0, \"fox_articles\": 20.0}, {\"date\": \"2020-01-26T00:00:00\", \"Tweets\": 1678953, \"total_cases\": 4046.0, \"new_cases\": 1346.0, \"new_deaths\": 30.0, \"cnn_articles\": 0.0, \"fox_articles\": 9.0}, {\"date\": \"2020-01-25T00:00:00\", \"Tweets\": 1536784, \"total_cases\": 2700.0, \"new_cases\": 906.0, \"new_deaths\": 30.0, \"cnn_articles\": 0.0, \"fox_articles\": 5.0}, {\"date\": \"2020-01-24T00:00:00\", \"Tweets\": 1153245, \"total_cases\": 1794.0, \"new_cases\": 532.0, \"new_deaths\": 18.0, \"cnn_articles\": 0.0, \"fox_articles\": 10.0}, {\"date\": \"2020-01-23T00:00:00\", \"Tweets\": 905673, \"total_cases\": 1262.0, \"new_cases\": 194.0, \"new_deaths\": 0.0, \"cnn_articles\": 2.0, \"fox_articles\": 20.0}, {\"date\": \"2020-01-22T00:00:00\", \"Tweets\": 508623, \"total_cases\": 1068.0, \"new_cases\": 284.0, \"new_deaths\": 22.0, \"cnn_articles\": 2.0, \"fox_articles\": 10.0}, {\"date\": \"2020-01-21T00:00:00\", \"Tweets\": 259864, \"total_cases\": 784.0, \"new_cases\": 306.0, \"new_deaths\": 6.0, \"cnn_articles\": 0.0, \"fox_articles\": 6.0}, {\"date\": \"2020-01-20T00:00:00\", \"Tweets\": 100124, \"total_cases\": 478.0, \"new_cases\": 40.0, \"new_deaths\": 0.0, \"cnn_articles\": 0.0, \"fox_articles\": 3.0}, {\"date\": \"2020-01-19T00:00:00\", \"Tweets\": 20987, \"total_cases\": 438.0, \"new_cases\": 272.0, \"new_deaths\": 2.0, \"cnn_articles\": 0.0, \"fox_articles\": 0.0}, {\"date\": \"2020-01-18T00:00:00\", \"Tweets\": 23432, \"total_cases\": 166.0, \"new_cases\": 34.0, \"new_deaths\": 0.0, \"cnn_articles\": 0.0, \"fox_articles\": 0.0}, {\"date\": \"2020-01-17T00:00:00\", \"Tweets\": 22431, \"total_cases\": 132.0, \"new_cases\": 10.0, \"new_deaths\": 0.0, \"cnn_articles\": 1.0, \"fox_articles\": 2.0}, {\"date\": \"2020-01-16T00:00:00\", \"Tweets\": 22342, \"total_cases\": 122.0, \"new_cases\": 0.0, \"new_deaths\": 0.0, \"cnn_articles\": 0.0, \"fox_articles\": 1.0}, {\"date\": \"2020-01-15T00:00:00\", \"Tweets\": 10987, \"total_cases\": 122.0, \"new_cases\": 2.0, \"new_deaths\": 2.0, \"cnn_articles\": 0.0, \"fox_articles\": 1.0}, {\"date\": \"2020-01-14T00:00:00\", \"Tweets\": 10023, \"total_cases\": 120.0, \"new_cases\": 0.0, \"new_deaths\": 0.0, \"cnn_articles\": 0.0, \"fox_articles\": 0.0}, {\"date\": \"2020-01-13T00:00:00\", \"Tweets\": 16475, \"total_cases\": 120.0, \"new_cases\": 2.0, \"new_deaths\": 0.0, \"cnn_articles\": 0.0, \"fox_articles\": 1.0}, {\"date\": \"2020-01-12T00:00:00\", \"Tweets\": 10045, \"total_cases\": 118.0, \"new_cases\": 0.0, \"new_deaths\": 0.0, \"cnn_articles\": 0.0, \"fox_articles\": 0.0}, {\"date\": \"2020-01-11T00:00:00\", \"Tweets\": 2812, \"total_cases\": 118.0, \"new_cases\": 0.0, \"new_deaths\": 2.0, \"cnn_articles\": 0.0, \"fox_articles\": 0.0}, {\"date\": \"2020-01-10T00:00:00\", \"Tweets\": 2347, \"total_cases\": 118.0, \"new_cases\": 0.0, \"new_deaths\": 0.0, \"cnn_articles\": 0.0, \"fox_articles\": 0.0}, {\"date\": \"2020-01-09T00:00:00\", \"Tweets\": 3451, \"total_cases\": 118.0, \"new_cases\": 0.0, \"new_deaths\": 0.0, \"cnn_articles\": 0.0, \"fox_articles\": 1.0}, {\"date\": \"2020-01-08T00:00:00\", \"Tweets\": 421, \"total_cases\": 118.0, \"new_cases\": 0.0, \"new_deaths\": 0.0, \"cnn_articles\": 0.0, \"fox_articles\": 0.0}, {\"date\": \"2020-01-07T00:00:00\", \"Tweets\": 293, \"total_cases\": 118.0, \"new_cases\": 0.0, \"new_deaths\": 0.0, \"cnn_articles\": 0.0, \"fox_articles\": 0.0}, {\"date\": \"2020-01-06T00:00:00\", \"Tweets\": 86, \"total_cases\": 118.0, \"new_cases\": 0.0, \"new_deaths\": 0.0, \"cnn_articles\": 0.0, \"fox_articles\": 0.0}, {\"date\": \"2020-01-05T00:00:00\", \"Tweets\": 127, \"total_cases\": 118.0, \"new_cases\": 30.0, \"new_deaths\": 0.0, \"cnn_articles\": 0.0, \"fox_articles\": 0.0}, {\"date\": \"2020-01-04T00:00:00\", \"Tweets\": 172, \"total_cases\": 88.0, \"new_cases\": 0.0, \"new_deaths\": 0.0, \"cnn_articles\": 0.0, \"fox_articles\": 0.0}, {\"date\": \"2020-01-03T00:00:00\", \"Tweets\": 94, \"total_cases\": 88.0, \"new_cases\": 34.0, \"new_deaths\": 0.0, \"cnn_articles\": 0.0, \"fox_articles\": 0.0}, {\"date\": \"2020-01-02T00:00:00\", \"Tweets\": 41, \"total_cases\": 54.0, \"new_cases\": 0.0, \"new_deaths\": 0.0, \"cnn_articles\": 0.0, \"fox_articles\": 0.0}, {\"date\": \"2020-01-01T00:00:00\", \"Tweets\": 63, \"total_cases\": 54.0, \"new_cases\": 0.0, \"new_deaths\": 0.0, \"cnn_articles\": 0.0, \"fox_articles\": 0.0}]}}, {\"mode\": \"vega-lite\"});\n",
       "</script>"
      ],
      "text/plain": [
       "alt.LayerChart(...)"
      ]
     },
     "execution_count": 9,
     "metadata": {},
     "output_type": "execute_result"
    }
   ],
   "source": [
    "columns = ['new_cases', 'new_deaths']\n",
    "\n",
    "select_box = alt.binding_select(options=columns, name='Pandemic data')\n",
    "sel = alt.selection_single(fields=['column'], bind=select_box, init={'column': 'new_cases'})\n",
    "\n",
    "base = alt.Chart(merged_3).encode(\n",
    "    alt.X('date:T', axis=alt.Axis(title=None))\n",
    ").properties(\n",
    "    width=500,\n",
    "    height=200\n",
    ")\n",
    "\n",
    "\n",
    "line_cases = base.transform_fold(\n",
    "    columns,\n",
    "    as_=['column', 'value']\n",
    ").transform_filter(\n",
    "    sel  \n",
    ").mark_line( interpolate='monotone', stroke='#eb34eb').encode(\n",
    "    alt.Y('value:Q',\n",
    "          axis=alt.Axis(title=\"value\", titleColor='#eb34eb'))\n",
    ").add_selection(\n",
    "    sel\n",
    ")\n",
    "\n",
    "line_tweets = base.mark_line(stroke='#1da1f2', interpolate='monotone').encode(\n",
    "    alt.Y('Tweets',\n",
    "          axis=alt.Axis(title='Number of tweets', titleColor='#1da1f2'))\n",
    ")\n",
    "\n",
    "alt.layer(line_tweets, line_cases).resolve_scale(\n",
    "    y = 'independent'\n",
    ")"
   ]
  },
  {
   "cell_type": "markdown",
   "metadata": {
    "id": "Uj1o1urnLJ4y"
   },
   "source": [
    "# Compare tweet numbers to news articles on CNN and Fox News"
   ]
  },
  {
   "cell_type": "code",
   "execution_count": 10,
   "metadata": {
    "colab": {
     "base_uri": "https://localhost:8080/",
     "height": 275
    },
    "id": "6x3F76Y9LJ4z",
    "outputId": "fb0b6fa2-3419-41df-8d66-530e5eebbf74"
   },
   "outputs": [
    {
     "data": {
      "text/html": [
       "\n",
       "<div id=\"altair-viz-1fbf4bfe5255455d8bde64f97f17a46d\"></div>\n",
       "<script type=\"text/javascript\">\n",
       "  (function(spec, embedOpt){\n",
       "    let outputDiv = document.currentScript.previousElementSibling;\n",
       "    if (outputDiv.id !== \"altair-viz-1fbf4bfe5255455d8bde64f97f17a46d\") {\n",
       "      outputDiv = document.getElementById(\"altair-viz-1fbf4bfe5255455d8bde64f97f17a46d\");\n",
       "    }\n",
       "    const paths = {\n",
       "      \"vega\": \"https://cdn.jsdelivr.net/npm//vega@5?noext\",\n",
       "      \"vega-lib\": \"https://cdn.jsdelivr.net/npm//vega-lib?noext\",\n",
       "      \"vega-lite\": \"https://cdn.jsdelivr.net/npm//vega-lite@4.8.1?noext\",\n",
       "      \"vega-embed\": \"https://cdn.jsdelivr.net/npm//vega-embed@6?noext\",\n",
       "    };\n",
       "\n",
       "    function loadScript(lib) {\n",
       "      return new Promise(function(resolve, reject) {\n",
       "        var s = document.createElement('script');\n",
       "        s.src = paths[lib];\n",
       "        s.async = true;\n",
       "        s.onload = () => resolve(paths[lib]);\n",
       "        s.onerror = () => reject(`Error loading script: ${paths[lib]}`);\n",
       "        document.getElementsByTagName(\"head\")[0].appendChild(s);\n",
       "      });\n",
       "    }\n",
       "\n",
       "    function showError(err) {\n",
       "      outputDiv.innerHTML = `<div class=\"error\" style=\"color:red;\">${err}</div>`;\n",
       "      throw err;\n",
       "    }\n",
       "\n",
       "    function displayChart(vegaEmbed) {\n",
       "      vegaEmbed(outputDiv, spec, embedOpt)\n",
       "        .catch(err => showError(`Javascript Error: ${err.message}<br>This usually means there's a typo in your chart specification. See the javascript console for the full traceback.`));\n",
       "    }\n",
       "\n",
       "    if(typeof define === \"function\" && define.amd) {\n",
       "      requirejs.config({paths});\n",
       "      require([\"vega-embed\"], displayChart, err => showError(`Error loading script: ${err.message}`));\n",
       "    } else if (typeof vegaEmbed === \"function\") {\n",
       "      displayChart(vegaEmbed);\n",
       "    } else {\n",
       "      loadScript(\"vega\")\n",
       "        .then(() => loadScript(\"vega-lite\"))\n",
       "        .then(() => loadScript(\"vega-embed\"))\n",
       "        .catch(showError)\n",
       "        .then(() => displayChart(vegaEmbed));\n",
       "    }\n",
       "  })({\"config\": {\"view\": {\"continuousWidth\": 400, \"continuousHeight\": 300}}, \"layer\": [{\"mark\": {\"type\": \"line\", \"interpolate\": \"monotone\", \"stroke\": \"#eb34eb\"}, \"encoding\": {\"x\": {\"type\": \"temporal\", \"axis\": {\"title\": null}, \"field\": \"date\"}, \"y\": {\"type\": \"quantitative\", \"axis\": {\"title\": \"value\", \"titleColor\": \"#eb34eb\"}, \"field\": \"value\"}}, \"height\": 200, \"selection\": {\"selector002\": {\"type\": \"single\", \"fields\": [\"column\"], \"bind\": {\"input\": \"select\", \"options\": [\"fox_articles\", \"cnn_articles\"], \"name\": \"News source\"}, \"init\": {\"column\": \"cnn_articles\"}}}, \"transform\": [{\"fold\": [\"fox_articles\", \"cnn_articles\"], \"as\": [\"column\", \"value\"]}, {\"filter\": {\"selection\": \"selector002\"}}], \"width\": 500}, {\"mark\": {\"type\": \"line\", \"interpolate\": \"monotone\", \"stroke\": \"#1da1f2\"}, \"encoding\": {\"x\": {\"type\": \"temporal\", \"axis\": {\"title\": null}, \"field\": \"date\"}, \"y\": {\"type\": \"quantitative\", \"axis\": {\"title\": \"Number of tweets\", \"titleColor\": \"#1da1f2\"}, \"field\": \"Tweets\"}}, \"height\": 200, \"width\": 500}], \"data\": {\"name\": \"data-d8b54515c5c785b307ffeaa1524073e9\"}, \"resolve\": {\"scale\": {\"y\": \"independent\"}}, \"$schema\": \"https://vega.github.io/schema/vega-lite/v4.8.1.json\", \"datasets\": {\"data-d8b54515c5c785b307ffeaa1524073e9\": [{\"date\": \"2020-04-07T00:00:00\", \"Tweets\": 7877346, \"total_cases\": 2687108.0, \"new_cases\": 145976.0, \"new_deaths\": 10680.0, \"cnn_articles\": 77.0, \"fox_articles\": 230.0}, {\"date\": \"2020-04-06T00:00:00\", \"Tweets\": 8153966, \"total_cases\": 2541132.0, \"new_cases\": 132552.0, \"new_deaths\": 9512.0, \"cnn_articles\": 74.0, \"fox_articles\": 169.0}, {\"date\": \"2020-04-05T00:00:00\", \"Tweets\": 7421877, \"total_cases\": 2408425.0, \"new_cases\": 170486.0, \"new_deaths\": 12616.0, \"cnn_articles\": 48.0, \"fox_articles\": 96.0}, {\"date\": \"2020-04-04T00:00:00\", \"Tweets\": 7928225, \"total_cases\": 2238094.0, \"new_cases\": 163660.0, \"new_deaths\": 13552.0, \"cnn_articles\": 36.0, \"fox_articles\": 120.0}, {\"date\": \"2020-04-03T00:00:00\", \"Tweets\": 9357113, \"total_cases\": 2074434.0, \"new_cases\": 154914.0, \"new_deaths\": 10018.0, \"cnn_articles\": 80.0, \"fox_articles\": 235.0}, {\"date\": \"2020-04-02T00:00:00\", \"Tweets\": 9767918, \"total_cases\": 1919520.0, \"new_cases\": 154946.0, \"new_deaths\": 10020.0, \"cnn_articles\": 85.0, \"fox_articles\": 260.0}, {\"date\": \"2020-04-01T00:00:00\", \"Tweets\": 10402981, \"total_cases\": 1764569.0, \"new_cases\": 149348.0, \"new_deaths\": 9348.0, \"cnn_articles\": 71.0, \"fox_articles\": 260.0}, {\"date\": \"2020-03-31T00:00:00\", \"Tweets\": 10442432, \"total_cases\": 1615134.0, \"new_cases\": 128976.0, \"new_deaths\": 7972.0, \"cnn_articles\": 75.0, \"fox_articles\": 144.0}, {\"date\": \"2020-03-30T00:00:00\", \"Tweets\": 10125714, \"total_cases\": 1486250.0, \"new_cases\": 114726.0, \"new_deaths\": 6456.0, \"cnn_articles\": 60.0, \"fox_articles\": 204.0}, {\"date\": \"2020-03-29T00:00:00\", \"Tweets\": 9333426, \"total_cases\": 1371524.0, \"new_cases\": 125628.0, \"new_deaths\": 7174.0, \"cnn_articles\": 33.0, \"fox_articles\": 108.0}, {\"date\": \"2020-03-28T00:00:00\", \"Tweets\": 10434671, \"total_cases\": 1245896.0, \"new_cases\": 130188.0, \"new_deaths\": 6982.0, \"cnn_articles\": 29.0, \"fox_articles\": 84.0}, {\"date\": \"2020-03-27T00:00:00\", \"Tweets\": 12209011, \"total_cases\": 1115708.0, \"new_cases\": 122032.0, \"new_deaths\": 5610.0, \"cnn_articles\": 61.0, \"fox_articles\": 210.0}, {\"date\": \"2020-03-26T00:00:00\", \"Tweets\": 12236719, \"total_cases\": 993676.0, \"new_cases\": 107500.0, \"new_deaths\": 5288.0, \"cnn_articles\": 81.0, \"fox_articles\": 256.0}, {\"date\": \"2020-03-25T00:00:00\", \"Tweets\": 13000269, \"total_cases\": 886169.0, \"new_cases\": 84772.0, \"new_deaths\": 4610.0, \"cnn_articles\": 61.0, \"fox_articles\": 260.0}, {\"date\": \"2020-03-24T00:00:00\", \"Tweets\": 14445841, \"total_cases\": 801402.0, \"new_cases\": 88972.0, \"new_deaths\": 3708.0, \"cnn_articles\": 69.0, \"fox_articles\": 253.0}, {\"date\": \"2020-03-23T00:00:00\", \"Tweets\": 15446246, \"total_cases\": 712423.0, \"new_cases\": 68572.0, \"new_deaths\": 3376.0, \"cnn_articles\": 54.0, \"fox_articles\": 231.0}, {\"date\": \"2020-03-22T00:00:00\", \"Tweets\": 14392561, \"total_cases\": 643851.0, \"new_cases\": 68412.0, \"new_deaths\": 3434.0, \"cnn_articles\": 33.0, \"fox_articles\": 101.0}, {\"date\": \"2020-03-21T00:00:00\", \"Tweets\": 12861351, \"total_cases\": 575439.0, \"new_cases\": 63818.0, \"new_deaths\": 2770.0, \"cnn_articles\": 30.0, \"fox_articles\": 75.0}, {\"date\": \"2020-03-20T00:00:00\", \"Tweets\": 15200259, \"total_cases\": 511626.0, \"new_cases\": 62188.0, \"new_deaths\": 2148.0, \"cnn_articles\": 54.0, \"fox_articles\": 186.0}, {\"date\": \"2020-03-19T00:00:00\", \"Tweets\": 16582131, \"total_cases\": 449434.0, \"new_cases\": 40428.0, \"new_deaths\": 1916.0, \"cnn_articles\": 67.0, \"fox_articles\": 246.0}, {\"date\": \"2020-03-18T00:00:00\", \"Tweets\": 16561524, \"total_cases\": 409006.0, \"new_cases\": 34012.0, \"new_deaths\": 1624.0, \"cnn_articles\": 57.0, \"fox_articles\": 241.0}, {\"date\": \"2020-03-17T00:00:00\", \"Tweets\": 17417142, \"total_cases\": 374982.0, \"new_cases\": 28402.0, \"new_deaths\": 1212.0, \"cnn_articles\": 57.0, \"fox_articles\": 247.0}, {\"date\": \"2020-03-16T00:00:00\", \"Tweets\": 17227182, \"total_cases\": 346564.0, \"new_cases\": 24910.0, \"new_deaths\": 1500.0, \"cnn_articles\": 57.0, \"fox_articles\": 204.0}, {\"date\": \"2020-03-15T00:00:00\", \"Tweets\": 16438760, \"total_cases\": 321583.0, \"new_cases\": 24330.0, \"new_deaths\": 734.0, \"cnn_articles\": 17.0, \"fox_articles\": 91.0}, {\"date\": \"2020-03-14T00:00:00\", \"Tweets\": 16823148, \"total_cases\": 297129.0, \"new_cases\": 20808.0, \"new_deaths\": 884.0, \"cnn_articles\": 25.0, \"fox_articles\": 49.0}, {\"date\": \"2020-03-13T00:00:00\", \"Tweets\": 19802671, \"total_cases\": 276054.0, \"new_cases\": 18902.0, \"new_deaths\": 702.0, \"cnn_articles\": 44.0, \"fox_articles\": 159.0}, {\"date\": \"2020-03-12T00:00:00\", \"Tweets\": 18799722, \"total_cases\": 257471.0, \"new_cases\": 15796.0, \"new_deaths\": 662.0, \"cnn_articles\": 43.0, \"fox_articles\": 185.0}, {\"date\": \"2020-03-11T00:00:00\", \"Tweets\": 9923317, \"total_cases\": 241730.0, \"new_cases\": 10214.0, \"new_deaths\": 544.0, \"cnn_articles\": 24.0, \"fox_articles\": 107.0}, {\"date\": \"2020-03-10T00:00:00\", \"Tweets\": 8284672, \"total_cases\": 231310.0, \"new_cases\": 9632.0, \"new_deaths\": 418.0, \"cnn_articles\": 21.0, \"fox_articles\": 104.0}, {\"date\": \"2020-03-09T00:00:00\", \"Tweets\": 6386122, \"total_cases\": 221758.0, \"new_cases\": 8354.0, \"new_deaths\": 456.0, \"cnn_articles\": 24.0, \"fox_articles\": 89.0}, {\"date\": \"2020-03-08T00:00:00\", \"Tweets\": 4533476, \"total_cases\": 213417.0, \"new_cases\": 7954.0, \"new_deaths\": 194.0, \"cnn_articles\": 7.0, \"fox_articles\": 39.0}, {\"date\": \"2020-03-07T00:00:00\", \"Tweets\": 4632239, \"total_cases\": 205479.0, \"new_cases\": 8240.0, \"new_deaths\": 208.0, \"cnn_articles\": 9.0, \"fox_articles\": 37.0}, {\"date\": \"2020-03-06T00:00:00\", \"Tweets\": 4581032, \"total_cases\": 197347.0, \"new_cases\": 6116.0, \"new_deaths\": 204.0, \"cnn_articles\": 16.0, \"fox_articles\": 60.0}, {\"date\": \"2020-03-05T00:00:00\", \"Tweets\": 4323687, \"total_cases\": 191161.0, \"new_cases\": 4708.0, \"new_deaths\": 160.0, \"cnn_articles\": 12.0, \"fox_articles\": 50.0}, {\"date\": \"2020-03-04T00:00:00\", \"Tweets\": 4323670, \"total_cases\": 186440.0, \"new_cases\": 4624.0, \"new_deaths\": 168.0, \"cnn_articles\": 14.0, \"fox_articles\": 65.0}, {\"date\": \"2020-03-03T00:00:00\", \"Tweets\": 4342139, \"total_cases\": 181779.0, \"new_cases\": 3714.0, \"new_deaths\": 144.0, \"cnn_articles\": 7.0, \"fox_articles\": 49.0}, {\"date\": \"2020-03-02T00:00:00\", \"Tweets\": 4240721, \"total_cases\": 178298.0, \"new_cases\": 4138.0, \"new_deaths\": 134.0, \"cnn_articles\": 9.0, \"fox_articles\": 62.0}, {\"date\": \"2020-03-01T00:00:00\", \"Tweets\": 3632689, \"total_cases\": 174160.0, \"new_cases\": 3688.0, \"new_deaths\": 116.0, \"cnn_articles\": 9.0, \"fox_articles\": 24.0}, {\"date\": \"2020-02-29T00:00:00\", \"Tweets\": 4666121, \"total_cases\": 170472.0, \"new_cases\": 3718.0, \"new_deaths\": 128.0, \"cnn_articles\": 6.0, \"fox_articles\": 27.0}, {\"date\": \"2020-02-28T00:00:00\", \"Tweets\": 5685321, \"total_cases\": 166754.0, \"new_cases\": 2532.0, \"new_deaths\": 114.0, \"cnn_articles\": 6.0, \"fox_articles\": 43.0}, {\"date\": \"2020-02-27T00:00:00\", \"Tweets\": 4597412, \"total_cases\": 164222.0, \"new_cases\": 2228.0, \"new_deaths\": 76.0, \"cnn_articles\": 10.0, \"fox_articles\": 69.0}, {\"date\": \"2020-02-26T00:00:00\", \"Tweets\": 3989533, \"total_cases\": 161994.0, \"new_cases\": 1734.0, \"new_deaths\": 128.0, \"cnn_articles\": 9.0, \"fox_articles\": 52.0}, {\"date\": \"2020-02-25T00:00:00\", \"Tweets\": 2844369, \"total_cases\": 160260.0, \"new_cases\": 1586.0, \"new_deaths\": 158.0, \"cnn_articles\": 8.0, \"fox_articles\": 22.0}, {\"date\": \"2020-02-24T00:00:00\", \"Tweets\": 1643544, \"total_cases\": 158674.0, \"new_cases\": 1046.0, \"new_deaths\": 312.0, \"cnn_articles\": 6.0, \"fox_articles\": 19.0}, {\"date\": \"2020-02-23T00:00:00\", \"Tweets\": 1233511, \"total_cases\": 157628.0, \"new_cases\": 2018.0, \"new_deaths\": 208.0, \"cnn_articles\": 2.0, \"fox_articles\": 4.0}, {\"date\": \"2020-02-22T00:00:00\", \"Tweets\": 997638, \"total_cases\": 155610.0, \"new_cases\": 2170.0, \"new_deaths\": 224.0, \"cnn_articles\": 1.0, \"fox_articles\": 4.0}, {\"date\": \"2020-02-21T00:00:00\", \"Tweets\": 954321, \"total_cases\": 153440.0, \"new_cases\": 1992.0, \"new_deaths\": 238.0, \"cnn_articles\": 3.0, \"fox_articles\": 19.0}, {\"date\": \"2020-02-20T00:00:00\", \"Tweets\": 622349, \"total_cases\": 151448.0, \"new_cases\": 1064.0, \"new_deaths\": 232.0, \"cnn_articles\": 2.0, \"fox_articles\": 9.0}, {\"date\": \"2020-02-19T00:00:00\", \"Tweets\": 626237, \"total_cases\": 150384.0, \"new_cases\": 3728.0, \"new_deaths\": 278.0, \"cnn_articles\": 3.0, \"fox_articles\": 12.0}, {\"date\": \"2020-02-18T00:00:00\", \"Tweets\": 628043, \"total_cases\": 146656.0, \"new_cases\": 3990.0, \"new_deaths\": 196.0, \"cnn_articles\": 4.0, \"fox_articles\": 17.0}, {\"date\": \"2020-02-17T00:00:00\", \"Tweets\": 626732, \"total_cases\": 142666.0, \"new_cases\": 4134.0, \"new_deaths\": 212.0, \"cnn_articles\": 5.0, \"fox_articles\": 18.0}, {\"date\": \"2020-02-16T00:00:00\", \"Tweets\": 625127, \"total_cases\": 138532.0, \"new_cases\": 4324.0, \"new_deaths\": 284.0, \"cnn_articles\": 4.0, \"fox_articles\": 6.0}, {\"date\": \"2020-02-15T00:00:00\", \"Tweets\": 624555, \"total_cases\": 134208.0, \"new_cases\": 5120.0, \"new_deaths\": 288.0, \"cnn_articles\": 3.0, \"fox_articles\": 8.0}, {\"date\": \"2020-02-14T00:00:00\", \"Tweets\": 622722, \"total_cases\": 129088.0, \"new_cases\": 8430.0, \"new_deaths\": 26.0, \"cnn_articles\": 6.0, \"fox_articles\": 14.0}, {\"date\": \"2020-02-13T00:00:00\", \"Tweets\": 956877, \"total_cases\": 120658.0, \"new_cases\": 30302.0, \"new_deaths\": 510.0, \"cnn_articles\": 4.0, \"fox_articles\": 21.0}, {\"date\": \"2020-02-12T00:00:00\", \"Tweets\": 911098, \"total_cases\": 90356.0, \"new_cases\": 4144.0, \"new_deaths\": 194.0, \"cnn_articles\": 2.0, \"fox_articles\": 20.0}, {\"date\": \"2020-02-11T00:00:00\", \"Tweets\": 908627, \"total_cases\": 86212.0, \"new_cases\": 5124.0, \"new_deaths\": 216.0, \"cnn_articles\": 4.0, \"fox_articles\": 18.0}, {\"date\": \"2020-02-10T00:00:00\", \"Tweets\": 807654, \"total_cases\": 81088.0, \"new_cases\": 5984.0, \"new_deaths\": 194.0, \"cnn_articles\": 1.0, \"fox_articles\": 13.0}, {\"date\": \"2020-02-09T00:00:00\", \"Tweets\": 796739, \"total_cases\": 75104.0, \"new_cases\": 5236.0, \"new_deaths\": 178.0, \"cnn_articles\": 0.0, \"fox_articles\": 10.0}, {\"date\": \"2020-02-08T00:00:00\", \"Tweets\": 803453, \"total_cases\": 69868.0, \"new_cases\": 6884.0, \"new_deaths\": 172.0, \"cnn_articles\": 0.0, \"fox_articles\": 11.0}, {\"date\": \"2020-02-07T00:00:00\", \"Tweets\": 987563, \"total_cases\": 62984.0, \"new_cases\": 6436.0, \"new_deaths\": 146.0, \"cnn_articles\": 0.0, \"fox_articles\": 22.0}, {\"date\": \"2020-02-06T00:00:00\", \"Tweets\": 834673, \"total_cases\": 56548.0, \"new_cases\": 7502.0, \"new_deaths\": 144.0, \"cnn_articles\": 1.0, \"fox_articles\": 17.0}, {\"date\": \"2020-02-05T00:00:00\", \"Tweets\": 803587, \"total_cases\": 49046.0, \"new_cases\": 7816.0, \"new_deaths\": 132.0, \"cnn_articles\": 0.0, \"fox_articles\": 20.0}, {\"date\": \"2020-02-04T00:00:00\", \"Tweets\": 997862, \"total_cases\": 41230.0, \"new_cases\": 6486.0, \"new_deaths\": 130.0, \"cnn_articles\": 1.0, \"fox_articles\": 28.0}, {\"date\": \"2020-02-03T00:00:00\", \"Tweets\": 1000752, \"total_cases\": 34744.0, \"new_cases\": 5636.0, \"new_deaths\": 114.0, \"cnn_articles\": 0.0, \"fox_articles\": 20.0}, {\"date\": \"2020-02-02T00:00:00\", \"Tweets\": 1298476, \"total_cases\": 29108.0, \"new_cases\": 5216.0, \"new_deaths\": 92.0, \"cnn_articles\": 0.0, \"fox_articles\": 7.0}, {\"date\": \"2020-02-01T00:00:00\", \"Tweets\": 1287963, \"total_cases\": 23892.0, \"new_cases\": 4244.0, \"new_deaths\": 92.0, \"cnn_articles\": 0.0, \"fox_articles\": 7.0}, {\"date\": \"2020-01-31T00:00:00\", \"Tweets\": 1997635, \"total_cases\": 19648.0, \"new_cases\": 4002.0, \"new_deaths\": 86.0, \"cnn_articles\": 1.0, \"fox_articles\": 19.0}, {\"date\": \"2020-01-30T00:00:00\", \"Tweets\": 2010976, \"total_cases\": 15646.0, \"new_cases\": 3512.0, \"new_deaths\": 76.0, \"cnn_articles\": 1.0, \"fox_articles\": 32.0}, {\"date\": \"2020-01-29T00:00:00\", \"Tweets\": 1623497, \"total_cases\": 12134.0, \"new_cases\": 2960.0, \"new_deaths\": 52.0, \"cnn_articles\": 1.0, \"fox_articles\": 33.0}, {\"date\": \"2020-01-28T00:00:00\", \"Tweets\": 1497653, \"total_cases\": 9174.0, \"new_cases\": 3534.0, \"new_deaths\": 50.0, \"cnn_articles\": 0.0, \"fox_articles\": 22.0}, {\"date\": \"2020-01-27T00:00:00\", \"Tweets\": 1467598, \"total_cases\": 5640.0, \"new_cases\": 1594.0, \"new_deaths\": 50.0, \"cnn_articles\": 0.0, \"fox_articles\": 20.0}, {\"date\": \"2020-01-26T00:00:00\", \"Tweets\": 1678953, \"total_cases\": 4046.0, \"new_cases\": 1346.0, \"new_deaths\": 30.0, \"cnn_articles\": 0.0, \"fox_articles\": 9.0}, {\"date\": \"2020-01-25T00:00:00\", \"Tweets\": 1536784, \"total_cases\": 2700.0, \"new_cases\": 906.0, \"new_deaths\": 30.0, \"cnn_articles\": 0.0, \"fox_articles\": 5.0}, {\"date\": \"2020-01-24T00:00:00\", \"Tweets\": 1153245, \"total_cases\": 1794.0, \"new_cases\": 532.0, \"new_deaths\": 18.0, \"cnn_articles\": 0.0, \"fox_articles\": 10.0}, {\"date\": \"2020-01-23T00:00:00\", \"Tweets\": 905673, \"total_cases\": 1262.0, \"new_cases\": 194.0, \"new_deaths\": 0.0, \"cnn_articles\": 2.0, \"fox_articles\": 20.0}, {\"date\": \"2020-01-22T00:00:00\", \"Tweets\": 508623, \"total_cases\": 1068.0, \"new_cases\": 284.0, \"new_deaths\": 22.0, \"cnn_articles\": 2.0, \"fox_articles\": 10.0}, {\"date\": \"2020-01-21T00:00:00\", \"Tweets\": 259864, \"total_cases\": 784.0, \"new_cases\": 306.0, \"new_deaths\": 6.0, \"cnn_articles\": 0.0, \"fox_articles\": 6.0}, {\"date\": \"2020-01-20T00:00:00\", \"Tweets\": 100124, \"total_cases\": 478.0, \"new_cases\": 40.0, \"new_deaths\": 0.0, \"cnn_articles\": 0.0, \"fox_articles\": 3.0}, {\"date\": \"2020-01-19T00:00:00\", \"Tweets\": 20987, \"total_cases\": 438.0, \"new_cases\": 272.0, \"new_deaths\": 2.0, \"cnn_articles\": 0.0, \"fox_articles\": 0.0}, {\"date\": \"2020-01-18T00:00:00\", \"Tweets\": 23432, \"total_cases\": 166.0, \"new_cases\": 34.0, \"new_deaths\": 0.0, \"cnn_articles\": 0.0, \"fox_articles\": 0.0}, {\"date\": \"2020-01-17T00:00:00\", \"Tweets\": 22431, \"total_cases\": 132.0, \"new_cases\": 10.0, \"new_deaths\": 0.0, \"cnn_articles\": 1.0, \"fox_articles\": 2.0}, {\"date\": \"2020-01-16T00:00:00\", \"Tweets\": 22342, \"total_cases\": 122.0, \"new_cases\": 0.0, \"new_deaths\": 0.0, \"cnn_articles\": 0.0, \"fox_articles\": 1.0}, {\"date\": \"2020-01-15T00:00:00\", \"Tweets\": 10987, \"total_cases\": 122.0, \"new_cases\": 2.0, \"new_deaths\": 2.0, \"cnn_articles\": 0.0, \"fox_articles\": 1.0}, {\"date\": \"2020-01-14T00:00:00\", \"Tweets\": 10023, \"total_cases\": 120.0, \"new_cases\": 0.0, \"new_deaths\": 0.0, \"cnn_articles\": 0.0, \"fox_articles\": 0.0}, {\"date\": \"2020-01-13T00:00:00\", \"Tweets\": 16475, \"total_cases\": 120.0, \"new_cases\": 2.0, \"new_deaths\": 0.0, \"cnn_articles\": 0.0, \"fox_articles\": 1.0}, {\"date\": \"2020-01-12T00:00:00\", \"Tweets\": 10045, \"total_cases\": 118.0, \"new_cases\": 0.0, \"new_deaths\": 0.0, \"cnn_articles\": 0.0, \"fox_articles\": 0.0}, {\"date\": \"2020-01-11T00:00:00\", \"Tweets\": 2812, \"total_cases\": 118.0, \"new_cases\": 0.0, \"new_deaths\": 2.0, \"cnn_articles\": 0.0, \"fox_articles\": 0.0}, {\"date\": \"2020-01-10T00:00:00\", \"Tweets\": 2347, \"total_cases\": 118.0, \"new_cases\": 0.0, \"new_deaths\": 0.0, \"cnn_articles\": 0.0, \"fox_articles\": 0.0}, {\"date\": \"2020-01-09T00:00:00\", \"Tweets\": 3451, \"total_cases\": 118.0, \"new_cases\": 0.0, \"new_deaths\": 0.0, \"cnn_articles\": 0.0, \"fox_articles\": 1.0}, {\"date\": \"2020-01-08T00:00:00\", \"Tweets\": 421, \"total_cases\": 118.0, \"new_cases\": 0.0, \"new_deaths\": 0.0, \"cnn_articles\": 0.0, \"fox_articles\": 0.0}, {\"date\": \"2020-01-07T00:00:00\", \"Tweets\": 293, \"total_cases\": 118.0, \"new_cases\": 0.0, \"new_deaths\": 0.0, \"cnn_articles\": 0.0, \"fox_articles\": 0.0}, {\"date\": \"2020-01-06T00:00:00\", \"Tweets\": 86, \"total_cases\": 118.0, \"new_cases\": 0.0, \"new_deaths\": 0.0, \"cnn_articles\": 0.0, \"fox_articles\": 0.0}, {\"date\": \"2020-01-05T00:00:00\", \"Tweets\": 127, \"total_cases\": 118.0, \"new_cases\": 30.0, \"new_deaths\": 0.0, \"cnn_articles\": 0.0, \"fox_articles\": 0.0}, {\"date\": \"2020-01-04T00:00:00\", \"Tweets\": 172, \"total_cases\": 88.0, \"new_cases\": 0.0, \"new_deaths\": 0.0, \"cnn_articles\": 0.0, \"fox_articles\": 0.0}, {\"date\": \"2020-01-03T00:00:00\", \"Tweets\": 94, \"total_cases\": 88.0, \"new_cases\": 34.0, \"new_deaths\": 0.0, \"cnn_articles\": 0.0, \"fox_articles\": 0.0}, {\"date\": \"2020-01-02T00:00:00\", \"Tweets\": 41, \"total_cases\": 54.0, \"new_cases\": 0.0, \"new_deaths\": 0.0, \"cnn_articles\": 0.0, \"fox_articles\": 0.0}, {\"date\": \"2020-01-01T00:00:00\", \"Tweets\": 63, \"total_cases\": 54.0, \"new_cases\": 0.0, \"new_deaths\": 0.0, \"cnn_articles\": 0.0, \"fox_articles\": 0.0}]}}, {\"mode\": \"vega-lite\"});\n",
       "</script>"
      ],
      "text/plain": [
       "alt.LayerChart(...)"
      ]
     },
     "execution_count": 10,
     "metadata": {},
     "output_type": "execute_result"
    }
   ],
   "source": [
    "columns = ['fox_articles', 'cnn_articles']\n",
    "\n",
    "select_box = alt.binding_select(options=columns, name='News source')\n",
    "sel = alt.selection_single(fields=['column'], bind=select_box, init={'column': 'cnn_articles'})\n",
    "\n",
    "base = alt.Chart(merged_3).encode(\n",
    "    alt.X('date:T', axis=alt.Axis(title=None))\n",
    ").properties(\n",
    "    width=500,\n",
    "    height=200\n",
    ")\n",
    "\n",
    "line_articles = base.transform_fold(\n",
    "    columns,\n",
    "    as_=['column', 'value']\n",
    ").transform_filter(\n",
    "    sel\n",
    ").mark_line( interpolate='monotone', stroke='#eb34eb').encode(\n",
    "    alt.Y('value:Q',\n",
    "          axis=alt.Axis(title=\"value\", titleColor='#eb34eb'))\n",
    ").add_selection(\n",
    "    sel\n",
    ")\n",
    "\n",
    "line_tweets = base.mark_line(stroke='#1da1f2', interpolate='monotone').encode(\n",
    "    alt.Y('Tweets',\n",
    "          axis=alt.Axis(title='Number of tweets', titleColor='#1da1f2'))\n",
    ")\n",
    "\n",
    "alt.layer(line_articles, line_tweets).resolve_scale(\n",
    "    y = 'independent'\n",
    ")"
   ]
  },
  {
   "cell_type": "markdown",
   "metadata": {
    "id": "AxBIXU5NLJ47"
   },
   "source": [
    "# Load downloaded twitter raw data from Github"
   ]
  },
  {
   "cell_type": "code",
   "execution_count": 5,
   "metadata": {
    "id": "Nm7qoGToLJ49"
   },
   "outputs": [],
   "source": [
    "\n",
    "#path = r'C:/Users/rapha/DATA_VIS/twitter_project/data/raw_data/'\n",
    "onlinepath = \"https://raw.githubusercontent.com/xxz-jessica/COVID-19_UCD_Challenge/master/Tweet_Raw_Data/raw_data/\"\n",
    "#files = os.listdir(path)\n",
    "\n",
    "### filelist generated through download\n",
    "files_gen = ['covid2019_0120.csv',\n",
    " 'covid2019_0121.csv',\n",
    " 'covid2019_0122.csv',\n",
    " 'covid2019_0123.csv',\n",
    " 'covid2019_0124.csv',\n",
    " 'covid2019_0125.csv',\n",
    " 'covid2019_0126.csv',\n",
    " 'covid2019_0127.csv',\n",
    " 'covid2019_0128.csv',\n",
    " 'covid2019_0129.csv',\n",
    " 'covid2019_0130.csv',\n",
    " 'covid2019_0131.csv',\n",
    " 'covid2019_0201.csv',\n",
    " 'covid2019_0202.csv',\n",
    " 'covid2019_0203.csv',\n",
    " 'covid2019_0204.csv',\n",
    " 'covid2019_0205.csv',\n",
    " 'covid2019_0206.csv',\n",
    " 'covid2019_0207.csv',\n",
    " 'covid2019_0208.csv',\n",
    " 'covid2019_0209.csv',\n",
    " 'covid2019_0210.csv',\n",
    " 'covid2019_0211.csv',\n",
    " 'covid2019_0212.csv',\n",
    " 'covid2019_0213.csv',\n",
    " 'covid2019_0214.csv',\n",
    " 'covid2019_0215.csv',\n",
    " 'covid2019_0216.csv',\n",
    " 'covid2019_0217.csv',\n",
    " 'covid2019_0218.csv',\n",
    " 'covid2019_0219.csv',\n",
    " 'covid2019_0220.csv',\n",
    " 'covid2019_0308.csv',\n",
    " 'covid2019_0309.csv',\n",
    " 'covid2019_0310.csv',\n",
    " 'covid2019_0311.csv',\n",
    " 'covid2019_0312.csv',\n",
    " 'covid2019_0313.csv',\n",
    " 'covid2019_0314.csv',\n",
    " 'covid2019_0315.csv',\n",
    " 'covid2019_0316.csv',\n",
    " 'covid2019_0317.csv',\n",
    " 'covid2019_0318.csv',\n",
    " 'covid2019_0319.csv',\n",
    " 'covid2019_0320.csv',\n",
    " 'covid2019_0321.csv',\n",
    " 'covid2019_0322.csv',\n",
    " 'covid2019_0323.csv',\n",
    " 'covid2019_0324.csv',\n",
    " 'covid2019_0325.csv',\n",
    " 'covid2019_0326.csv',\n",
    " 'covid2019_0327.csv',\n",
    " 'covid2019_0328.csv',\n",
    " 'covid2019_0329.csv',\n",
    " 'covid2019_0330.csv',\n",
    " 'covid2019_0331.csv',\n",
    " 'covid2019_0401.csv',\n",
    " 'covid2019_0402.csv',\n",
    " 'covid2019_0403.csv',\n",
    " 'covid2019_0404.csv',\n",
    " 'covid2019_0405.csv',\n",
    " 'covid2019_0406.csv',\n",
    " 'covid2019_0407.csv',\n",
    " 'covid2019_0408.csv',\n",
    " 'random tweet 2020-02-21.csv',\n",
    " 'random tweet 2020-02-22.csv',\n",
    " 'random tweet 2020-02-23.csv',\n",
    " 'random tweet 2020-02-24.csv',\n",
    " 'random tweet 2020-02-25.csv',\n",
    " 'random tweet 2020-02-26.csv',\n",
    " 'random tweet 2020-02-27.csv',\n",
    " 'random tweet 2020-02-28.csv',\n",
    " 'random tweet 2020-02-29.csv',\n",
    " 'random tweet 2020-03-01.csv',\n",
    " 'random tweet 2020-03-02.csv',\n",
    " 'random tweet 2020-03-03.csv',\n",
    " 'random tweet 2020-03-04.csv',\n",
    " 'random tweet 2020-03-05.csv',\n",
    " 'random tweet 2020-03-06.csv',\n",
    " 'random tweet 2020-03-07.csv']"
   ]
  },
  {
   "cell_type": "code",
   "execution_count": 6,
   "metadata": {
    "colab": {
     "base_uri": "https://localhost:8080/",
     "height": 215
    },
    "id": "LbRr3nbwLJ5D",
    "outputId": "4db80264-a5be-40ce-a234-82788506edc4"
   },
   "outputs": [
    {
     "name": "stdout",
     "output_type": "stream",
     "text": [
      "covid2019_0120.csv\n",
      "covid2019_0121.csv\n",
      "covid2019_0122.csv\n",
      "covid2019_0123.csv\n",
      "covid2019_0124.csv\n",
      "covid2019_0125.csv\n",
      "covid2019_0126.csv\n",
      "covid2019_0127.csv\n",
      "covid2019_0128.csv\n",
      "covid2019_0129.csv\n",
      "covid2019_0130.csv\n",
      "covid2019_0131.csv\n",
      "covid2019_0201.csv\n",
      "covid2019_0202.csv\n",
      "covid2019_0203.csv\n",
      "covid2019_0204.csv\n",
      "covid2019_0205.csv\n",
      "covid2019_0206.csv\n",
      "covid2019_0207.csv\n",
      "covid2019_0208.csv\n",
      "covid2019_0209.csv\n",
      "covid2019_0210.csv\n",
      "covid2019_0211.csv\n",
      "covid2019_0212.csv\n",
      "covid2019_0213.csv\n",
      "covid2019_0214.csv\n",
      "covid2019_0215.csv\n",
      "covid2019_0216.csv\n",
      "covid2019_0217.csv\n",
      "covid2019_0218.csv\n",
      "covid2019_0219.csv\n",
      "covid2019_0220.csv\n",
      "covid2019_0308.csv\n",
      "covid2019_0309.csv\n",
      "covid2019_0310.csv\n",
      "covid2019_0311.csv\n",
      "covid2019_0312.csv\n",
      "covid2019_0313.csv\n",
      "covid2019_0314.csv\n",
      "covid2019_0315.csv\n",
      "covid2019_0316.csv\n",
      "covid2019_0317.csv\n",
      "covid2019_0318.csv\n",
      "covid2019_0319.csv\n",
      "covid2019_0320.csv\n",
      "covid2019_0321.csv\n",
      "covid2019_0322.csv\n",
      "covid2019_0323.csv\n",
      "covid2019_0324.csv\n",
      "covid2019_0325.csv\n",
      "covid2019_0326.csv\n",
      "covid2019_0327.csv\n",
      "covid2019_0328.csv\n",
      "covid2019_0329.csv\n",
      "covid2019_0330.csv\n",
      "covid2019_0331.csv\n",
      "covid2019_0401.csv\n",
      "covid2019_0402.csv\n",
      "covid2019_0403.csv\n",
      "covid2019_0404.csv\n",
      "covid2019_0405.csv\n",
      "covid2019_0406.csv\n",
      "covid2019_0407.csv\n",
      "covid2019_0408.csv\n",
      "random tweet 2020-02-21.csv\n",
      "random tweet 2020-02-22.csv\n",
      "random tweet 2020-02-23.csv\n",
      "random tweet 2020-02-24.csv\n",
      "random tweet 2020-02-25.csv\n",
      "random tweet 2020-02-26.csv\n",
      "random tweet 2020-02-27.csv\n",
      "random tweet 2020-02-28.csv\n",
      "random tweet 2020-02-29.csv\n",
      "random tweet 2020-03-01.csv\n",
      "random tweet 2020-03-02.csv\n",
      "random tweet 2020-03-03.csv\n",
      "random tweet 2020-03-04.csv\n",
      "random tweet 2020-03-05.csv\n",
      "random tweet 2020-03-06.csv\n",
      "random tweet 2020-03-07.csv\n",
      "<class 'pandas.core.frame.DataFrame'>\n",
      "RangeIndex: 1100069 entries, 0 to 1100068\n",
      "Data columns (total 21 columns):\n",
      " #   Column            Non-Null Count    Dtype  \n",
      "---  ------            --------------    -----  \n",
      " 0   has_media         1100069 non-null  bool   \n",
      " 1   hashtags          1100069 non-null  object \n",
      " 2   img_urls          1100069 non-null  object \n",
      " 3   is_replied        1100069 non-null  bool   \n",
      " 4   is_reply_to       1100069 non-null  bool   \n",
      " 5   likes             1100069 non-null  int64  \n",
      " 6   links             1100069 non-null  object \n",
      " 7   parent_tweet_id   198446 non-null   float64\n",
      " 8   replies           1100069 non-null  int64  \n",
      " 9   reply_to_users    1100069 non-null  object \n",
      " 10  retweets          1100069 non-null  int64  \n",
      " 11  screen_name       1100069 non-null  object \n",
      " 12  text              1099980 non-null  object \n",
      " 13  text_html         1100069 non-null  object \n",
      " 14  timestamp         1100069 non-null  object \n",
      " 15  timestamp_epochs  1100069 non-null  int64  \n",
      " 16  tweet_id          1100069 non-null  int64  \n",
      " 17  tweet_url         1100069 non-null  object \n",
      " 18  user_id           1100069 non-null  int64  \n",
      " 19  username          1100046 non-null  object \n",
      " 20  video_url         1 non-null        object \n",
      "dtypes: bool(3), float64(1), int64(6), object(11)\n",
      "memory usage: 154.2+ MB\n"
     ]
    }
   ],
   "source": [
    "covid_twitter_data = pd.DataFrame()\n",
    "# Concat the Twitters data into one-table\n",
    "\n",
    "for file in files_gen:\n",
    "    dpath = (onlinepath + file).replace(\" \", \"%20\")\n",
    "    print(file)\n",
    "    data = pd.read_csv(dpath)\n",
    "    covid_twitter_data = covid_twitter_data.append(data, ignore_index=True)\n",
    "    \n",
    "covid_twitter_data[\"timestamp\"] = pd.to_datetime(covid_twitter_data[\"timestamp\"])\n",
    "covid_twitter_data = covid_twitter_data.sort_values(by = [\"timestamp\"])\n",
    "covid_twitter_data.info()\n",
    "covid_twitter_data.head()\n"
   ]
  },
  {
   "cell_type": "code",
   "execution_count": 10,
   "metadata": {},
   "outputs": [
    {
     "name": "stdout",
     "output_type": "stream",
     "text": [
      "<class 'pandas.core.frame.DataFrame'>\n",
      "Int64Index: 1100069 entries, 10531 to 865285\n",
      "Data columns (total 21 columns):\n",
      " #   Column            Non-Null Count    Dtype         \n",
      "---  ------            --------------    -----         \n",
      " 0   has_media         1100069 non-null  bool          \n",
      " 1   hashtags          1100069 non-null  object        \n",
      " 2   img_urls          1100069 non-null  object        \n",
      " 3   is_replied        1100069 non-null  bool          \n",
      " 4   is_reply_to       1100069 non-null  bool          \n",
      " 5   likes             1100069 non-null  int64         \n",
      " 6   links             1100069 non-null  object        \n",
      " 7   parent_tweet_id   198446 non-null   float64       \n",
      " 8   replies           1100069 non-null  int64         \n",
      " 9   reply_to_users    1100069 non-null  object        \n",
      " 10  retweets          1100069 non-null  int64         \n",
      " 11  screen_name       1100069 non-null  object        \n",
      " 12  text              1099980 non-null  object        \n",
      " 13  text_html         1100069 non-null  object        \n",
      " 14  timestamp         1100069 non-null  datetime64[ns]\n",
      " 15  timestamp_epochs  1100069 non-null  int64         \n",
      " 16  tweet_id          1100069 non-null  int64         \n",
      " 17  tweet_url         1100069 non-null  object        \n",
      " 18  user_id           1100069 non-null  int64         \n",
      " 19  username          1100046 non-null  object        \n",
      " 20  video_url         1 non-null        object        \n",
      "dtypes: bool(3), datetime64[ns](1), float64(1), int64(6), object(10)\n",
      "memory usage: 162.6+ MB\n"
     ]
    }
   ],
   "source": [
    "#save all twitter data in one file\n",
    "covid_twitter_data.to_csv(\"all_twitter_data.csv\")"
   ]
  },
  {
   "cell_type": "code",
   "execution_count": 11,
   "metadata": {},
   "outputs": [
    {
     "data": {
      "text/html": [
       "<div>\n",
       "<style scoped>\n",
       "    .dataframe tbody tr th:only-of-type {\n",
       "        vertical-align: middle;\n",
       "    }\n",
       "\n",
       "    .dataframe tbody tr th {\n",
       "        vertical-align: top;\n",
       "    }\n",
       "\n",
       "    .dataframe thead th {\n",
       "        text-align: right;\n",
       "    }\n",
       "</style>\n",
       "<table border=\"1\" class=\"dataframe\">\n",
       "  <thead>\n",
       "    <tr style=\"text-align: right;\">\n",
       "      <th></th>\n",
       "      <th>has_media</th>\n",
       "      <th>hashtags</th>\n",
       "      <th>img_urls</th>\n",
       "      <th>is_replied</th>\n",
       "      <th>is_reply_to</th>\n",
       "      <th>likes</th>\n",
       "      <th>links</th>\n",
       "      <th>parent_tweet_id</th>\n",
       "      <th>replies</th>\n",
       "      <th>reply_to_users</th>\n",
       "      <th>...</th>\n",
       "      <th>screen_name</th>\n",
       "      <th>text</th>\n",
       "      <th>text_html</th>\n",
       "      <th>timestamp</th>\n",
       "      <th>timestamp_epochs</th>\n",
       "      <th>tweet_id</th>\n",
       "      <th>tweet_url</th>\n",
       "      <th>user_id</th>\n",
       "      <th>username</th>\n",
       "      <th>video_url</th>\n",
       "    </tr>\n",
       "  </thead>\n",
       "  <tbody>\n",
       "    <tr>\n",
       "      <th>10531</th>\n",
       "      <td>False</td>\n",
       "      <td>[]</td>\n",
       "      <td>[]</td>\n",
       "      <td>False</td>\n",
       "      <td>False</td>\n",
       "      <td>0</td>\n",
       "      <td>['https://newsus.cgtn.com/news/2020-01-20/2-ne...</td>\n",
       "      <td>NaN</td>\n",
       "      <td>0</td>\n",
       "      <td>[]</td>\n",
       "      <td>...</td>\n",
       "      <td>Flu_Killer</td>\n",
       "      <td>Two new coronavirus cases confirmed in Beijing...</td>\n",
       "      <td>&lt;p class=\"TweetTextSize js-tweet-text tweet-te...</td>\n",
       "      <td>2020-01-20 00:00:30</td>\n",
       "      <td>1579478430</td>\n",
       "      <td>1219047009082134528</td>\n",
       "      <td>/Flu_Killer/status/1219047009082134528</td>\n",
       "      <td>162848820</td>\n",
       "      <td>Tueur de Grippe ⚔ ⚜</td>\n",
       "      <td>NaN</td>\n",
       "    </tr>\n",
       "    <tr>\n",
       "      <th>10530</th>\n",
       "      <td>False</td>\n",
       "      <td>[]</td>\n",
       "      <td>[]</td>\n",
       "      <td>False</td>\n",
       "      <td>False</td>\n",
       "      <td>0</td>\n",
       "      <td>['https://www.bbc.co.uk/news/health-51168333']</td>\n",
       "      <td>NaN</td>\n",
       "      <td>0</td>\n",
       "      <td>[]</td>\n",
       "      <td>...</td>\n",
       "      <td>_cirrus_minor_</td>\n",
       "      <td>New coronavirus 'preventable and controllable...</td>\n",
       "      <td>&lt;p class=\"TweetTextSize js-tweet-text tweet-te...</td>\n",
       "      <td>2020-01-20 00:01:20</td>\n",
       "      <td>1579478480</td>\n",
       "      <td>1219047218944061440</td>\n",
       "      <td>/_cirrus_minor_/status/1219047218944061440</td>\n",
       "      <td>73672052</td>\n",
       "      <td>OnFileNotWanted</td>\n",
       "      <td>NaN</td>\n",
       "    </tr>\n",
       "    <tr>\n",
       "      <th>10529</th>\n",
       "      <td>False</td>\n",
       "      <td>[]</td>\n",
       "      <td>[]</td>\n",
       "      <td>True</td>\n",
       "      <td>False</td>\n",
       "      <td>30</td>\n",
       "      <td>['https://cnb.cx/2G4tetd']</td>\n",
       "      <td>NaN</td>\n",
       "      <td>3</td>\n",
       "      <td>[]</td>\n",
       "      <td>...</td>\n",
       "      <td>CNBCi</td>\n",
       "      <td>China confirms 139 new cases of pneumonia over...</td>\n",
       "      <td>&lt;p class=\"TweetTextSize js-tweet-text tweet-te...</td>\n",
       "      <td>2020-01-20 00:01:33</td>\n",
       "      <td>1579478493</td>\n",
       "      <td>1219047272140492801</td>\n",
       "      <td>/CNBCi/status/1219047272140492801</td>\n",
       "      <td>19898168</td>\n",
       "      <td>CNBC International</td>\n",
       "      <td>NaN</td>\n",
       "    </tr>\n",
       "    <tr>\n",
       "      <th>10528</th>\n",
       "      <td>True</td>\n",
       "      <td>[]</td>\n",
       "      <td>['https://pbs.twimg.com/media/EOrtCEMUEAI3FNW....</td>\n",
       "      <td>False</td>\n",
       "      <td>False</td>\n",
       "      <td>0</td>\n",
       "      <td>['http://dlvr.it/RNMJml']</td>\n",
       "      <td>NaN</td>\n",
       "      <td>0</td>\n",
       "      <td>[]</td>\n",
       "      <td>...</td>\n",
       "      <td>LocalBusPod</td>\n",
       "      <td>China confirms 139 new cases of pneumonia over...</td>\n",
       "      <td>&lt;p class=\"TweetTextSize js-tweet-text tweet-te...</td>\n",
       "      <td>2020-01-20 00:01:33</td>\n",
       "      <td>1579478493</td>\n",
       "      <td>1219047272173801472</td>\n",
       "      <td>/LocalBusPod/status/1219047272173801472</td>\n",
       "      <td>924708494930046976</td>\n",
       "      <td>TheLocalBusinessPod</td>\n",
       "      <td>NaN</td>\n",
       "    </tr>\n",
       "    <tr>\n",
       "      <th>10527</th>\n",
       "      <td>False</td>\n",
       "      <td>[]</td>\n",
       "      <td>[]</td>\n",
       "      <td>False</td>\n",
       "      <td>False</td>\n",
       "      <td>5</td>\n",
       "      <td>['http://outbreaknewstoday.com/wuhan-novel-cor...</td>\n",
       "      <td>NaN</td>\n",
       "      <td>0</td>\n",
       "      <td>[]</td>\n",
       "      <td>...</td>\n",
       "      <td>bactiman63</td>\n",
       "      <td>Wuhan novel coronavirus outbreak update: Janua...</td>\n",
       "      <td>&lt;p class=\"TweetTextSize js-tweet-text tweet-te...</td>\n",
       "      <td>2020-01-20 00:02:12</td>\n",
       "      <td>1579478532</td>\n",
       "      <td>1219047438880772096</td>\n",
       "      <td>/bactiman63/status/1219047438880772096</td>\n",
       "      <td>45478814</td>\n",
       "      <td>Outbreak News</td>\n",
       "      <td>NaN</td>\n",
       "    </tr>\n",
       "  </tbody>\n",
       "</table>\n",
       "<p>5 rows × 21 columns</p>\n",
       "</div>"
      ],
      "text/plain": [
       "       has_media hashtags                                           img_urls  \\\n",
       "10531      False       []                                                 []   \n",
       "10530      False       []                                                 []   \n",
       "10529      False       []                                                 []   \n",
       "10528       True       []  ['https://pbs.twimg.com/media/EOrtCEMUEAI3FNW....   \n",
       "10527      False       []                                                 []   \n",
       "\n",
       "       is_replied  is_reply_to  likes  \\\n",
       "10531       False        False      0   \n",
       "10530       False        False      0   \n",
       "10529        True        False     30   \n",
       "10528       False        False      0   \n",
       "10527       False        False      5   \n",
       "\n",
       "                                                   links  parent_tweet_id  \\\n",
       "10531  ['https://newsus.cgtn.com/news/2020-01-20/2-ne...              NaN   \n",
       "10530     ['https://www.bbc.co.uk/news/health-51168333']              NaN   \n",
       "10529                         ['https://cnb.cx/2G4tetd']              NaN   \n",
       "10528                          ['http://dlvr.it/RNMJml']              NaN   \n",
       "10527  ['http://outbreaknewstoday.com/wuhan-novel-cor...              NaN   \n",
       "\n",
       "       replies reply_to_users  ...     screen_name  \\\n",
       "10531        0             []  ...      Flu_Killer   \n",
       "10530        0             []  ...  _cirrus_minor_   \n",
       "10529        3             []  ...           CNBCi   \n",
       "10528        0             []  ...     LocalBusPod   \n",
       "10527        0             []  ...      bactiman63   \n",
       "\n",
       "                                                    text  \\\n",
       "10531  Two new coronavirus cases confirmed in Beijing...   \n",
       "10530   New coronavirus 'preventable and controllable...   \n",
       "10529  China confirms 139 new cases of pneumonia over...   \n",
       "10528  China confirms 139 new cases of pneumonia over...   \n",
       "10527  Wuhan novel coronavirus outbreak update: Janua...   \n",
       "\n",
       "                                               text_html           timestamp  \\\n",
       "10531  <p class=\"TweetTextSize js-tweet-text tweet-te... 2020-01-20 00:00:30   \n",
       "10530  <p class=\"TweetTextSize js-tweet-text tweet-te... 2020-01-20 00:01:20   \n",
       "10529  <p class=\"TweetTextSize js-tweet-text tweet-te... 2020-01-20 00:01:33   \n",
       "10528  <p class=\"TweetTextSize js-tweet-text tweet-te... 2020-01-20 00:01:33   \n",
       "10527  <p class=\"TweetTextSize js-tweet-text tweet-te... 2020-01-20 00:02:12   \n",
       "\n",
       "      timestamp_epochs             tweet_id  \\\n",
       "10531       1579478430  1219047009082134528   \n",
       "10530       1579478480  1219047218944061440   \n",
       "10529       1579478493  1219047272140492801   \n",
       "10528       1579478493  1219047272173801472   \n",
       "10527       1579478532  1219047438880772096   \n",
       "\n",
       "                                        tweet_url             user_id  \\\n",
       "10531      /Flu_Killer/status/1219047009082134528           162848820   \n",
       "10530  /_cirrus_minor_/status/1219047218944061440            73672052   \n",
       "10529           /CNBCi/status/1219047272140492801            19898168   \n",
       "10528     /LocalBusPod/status/1219047272173801472  924708494930046976   \n",
       "10527      /bactiman63/status/1219047438880772096            45478814   \n",
       "\n",
       "                  username video_url  \n",
       "10531  Tueur de Grippe ⚔ ⚜       NaN  \n",
       "10530      OnFileNotWanted       NaN  \n",
       "10529   CNBC International       NaN  \n",
       "10528  TheLocalBusinessPod       NaN  \n",
       "10527        Outbreak News       NaN  \n",
       "\n",
       "[5 rows x 21 columns]"
      ]
     },
     "execution_count": 11,
     "metadata": {},
     "output_type": "execute_result"
    }
   ],
   "source": [
    "#load all twitter data from one file\n",
    "covid_twitter_data.read_csv(\"all_twitter_data.csv\")"
   ]
  },
  {
   "cell_type": "markdown",
   "metadata": {
    "id": "q2M4MvMOLJ5R"
   },
   "source": [
    "# Find keywords in the data\n",
    "\n",
    "keyword_list: global list of keywords we want to search for in the data\n",
    "\n",
    "count_keywords: function to count keywords in a tweet dataframe, best done for each day individually\n"
   ]
  },
  {
   "cell_type": "code",
   "execution_count": 1,
   "metadata": {
    "id": "nUbLugSrLJ5S"
   },
   "outputs": [],
   "source": [
    "#use singular word (if plural just adds an \"s\")\n",
    "#for several words use space (eg. \"social distancing\"; \"social_distancing\" and \"socialdistancing\" automatically searched for)\n",
    "#if there are different words with the same meaning that do not contain each other, use \"|\" (eg. \"New York|NY\")\n",
    "#if two words should be in there but not necessarily together, use &\n",
    "keyword_list = [\"trump\", \"social distancing\", \"Wuhan\", \"chinese virus\", \"New York\", \"Los Angeles\", \"Chicago\", \"Washington\", \n",
    "               \"mask\", \"economy\", \"healthcare\", \"fauci\", \"death|deadly|mortality\"  ]"
   ]
  },
  {
   "cell_type": "code",
   "execution_count": 14,
   "metadata": {
    "id": "6JCYftbfLJ5Z"
   },
   "outputs": [],
   "source": [
    "# keyword counter\n",
    "def count_keywords(keywords, tweetlist):\n",
    "    #function takes a list of keyword and a twitter dataset and counts the number of tweets containing each keyword\n",
    "    #return the keywords and the corresponding tweet counts\n",
    "    #search for words is case insensitive \n",
    "    #if word contains space (social distancing) it also searches for socialdistancing and social_distancing\n",
    "    date = pd.to_datetime(tweetlist[\"timestamp\"][0]).date()\n",
    "    counterdf = pd.DataFrame({'date': [date] })\n",
    "    counterlist = []\n",
    "    for word in keywords:\n",
    "        counter = 0\n",
    "        if \" \" in word:\n",
    "            searchword = word + \"|\" + word.replace(\" \", \"_\") + \"|\" + word.replace(\" \", \"\")\n",
    "        else:\n",
    "            searchword = word\n",
    "        for tweet in tweetlist[\"text\"].dropna():\n",
    "            if re.search(searchword, tweet, re.IGNORECASE):\n",
    "                counter = counter + 1\n",
    "        counterdf[word] = counter\n",
    "\n",
    "    return counterdf\n"
   ]
  },
  {
   "cell_type": "code",
   "execution_count": 31,
   "metadata": {
    "colab": {
     "base_uri": "https://localhost:8080/",
     "height": 358
    },
    "id": "D0C4GXZ7LJ5c",
    "outputId": "5f076bc7-8387-41ce-9e8b-e22517b1ccc1"
   },
   "outputs": [
    {
     "name": "stdout",
     "output_type": "stream",
     "text": [
      "covid2019_0120.csv\n",
      "covid2019_0121.csv\n",
      "covid2019_0122.csv\n",
      "covid2019_0123.csv\n",
      "covid2019_0124.csv\n",
      "covid2019_0125.csv\n",
      "covid2019_0126.csv\n",
      "covid2019_0127.csv\n",
      "covid2019_0128.csv\n",
      "covid2019_0129.csv\n",
      "covid2019_0130.csv\n",
      "covid2019_0131.csv\n",
      "covid2019_0201.csv\n",
      "covid2019_0202.csv\n",
      "covid2019_0203.csv\n",
      "covid2019_0204.csv\n",
      "covid2019_0205.csv\n",
      "covid2019_0206.csv\n",
      "covid2019_0207.csv\n",
      "covid2019_0208.csv\n",
      "covid2019_0209.csv\n",
      "covid2019_0210.csv\n",
      "covid2019_0211.csv\n",
      "covid2019_0212.csv\n",
      "covid2019_0213.csv\n",
      "covid2019_0214.csv\n",
      "covid2019_0215.csv\n",
      "covid2019_0216.csv\n",
      "covid2019_0217.csv\n",
      "covid2019_0218.csv\n",
      "covid2019_0219.csv\n",
      "covid2019_0220.csv\n",
      "covid2019_0308.csv\n",
      "covid2019_0309.csv\n",
      "covid2019_0310.csv\n",
      "covid2019_0311.csv\n",
      "covid2019_0312.csv\n",
      "covid2019_0313.csv\n",
      "covid2019_0314.csv\n",
      "covid2019_0315.csv\n",
      "covid2019_0316.csv\n",
      "covid2019_0317.csv\n",
      "covid2019_0318.csv\n",
      "covid2019_0319.csv\n",
      "covid2019_0320.csv\n",
      "covid2019_0321.csv\n",
      "covid2019_0322.csv\n",
      "covid2019_0323.csv\n",
      "covid2019_0324.csv\n",
      "covid2019_0325.csv\n",
      "covid2019_0326.csv\n",
      "covid2019_0327.csv\n",
      "covid2019_0328.csv\n",
      "covid2019_0329.csv\n",
      "covid2019_0330.csv\n",
      "covid2019_0331.csv\n",
      "covid2019_0401.csv\n",
      "covid2019_0402.csv\n",
      "covid2019_0403.csv\n",
      "covid2019_0404.csv\n",
      "covid2019_0405.csv\n",
      "covid2019_0406.csv\n",
      "covid2019_0407.csv\n",
      "covid2019_0408.csv\n",
      "random tweet 2020-02-21.csv\n",
      "random tweet 2020-02-22.csv\n",
      "random tweet 2020-02-23.csv\n",
      "random tweet 2020-02-24.csv\n",
      "random tweet 2020-02-25.csv\n",
      "random tweet 2020-02-26.csv\n",
      "random tweet 2020-02-27.csv\n",
      "random tweet 2020-02-28.csv\n",
      "random tweet 2020-02-29.csv\n",
      "random tweet 2020-03-01.csv\n",
      "random tweet 2020-03-02.csv\n",
      "random tweet 2020-03-03.csv\n",
      "random tweet 2020-03-04.csv\n",
      "random tweet 2020-03-05.csv\n",
      "random tweet 2020-03-06.csv\n",
      "random tweet 2020-03-07.csv\n"
     ]
    }
   ],
   "source": [
    "def count_keywords_complete(path = \"https://raw.githubusercontent.com/xxz-jessica/COVID-19_UCD_Challenge/master/Tweet_Raw_Data/raw_data/\", \n",
    "                            files_gen = files_gen,\n",
    "                            keywords = keyword_list):\n",
    "    #create dataframe that gives number of tweets containing hashtag for all dates for which data is available\n",
    "    countdata = pd.DataFrame()\n",
    "    for file in files_gen:\n",
    "        dpath = (path + file).replace(\" \", \"%20\")\n",
    "        print(file)\n",
    "        data = pd.read_csv(dpath)\n",
    "        countdata = countdata.append(count_keywords(keywords, data))\n",
    "    countdata[\"date\"] = pd.to_datetime(countdata[\"date\"])\n",
    "    countdata = countdata.sort_values(by = [\"date\"])\n",
    "    return countdata\n",
    "    \n",
    "keyword_data = count_keywords_complete(files_gen = files_gen)"
   ]
  },
  {
   "cell_type": "code",
   "execution_count": 33,
   "metadata": {},
   "outputs": [],
   "source": [
    "#save keyword data\n",
    "\n",
    "keyword_data.to_csv(\"keyword_counts.csv\")"
   ]
  },
  {
   "cell_type": "code",
   "execution_count": 34,
   "metadata": {},
   "outputs": [],
   "source": [
    "#load keyword data\n",
    "\n",
    "keyword_data = pd.read_csv(\"keyword_counts.csv\", index_col = 0)"
   ]
  },
  {
   "cell_type": "code",
   "execution_count": 35,
   "metadata": {},
   "outputs": [
    {
     "name": "stdout",
     "output_type": "stream",
     "text": [
      "<class 'pandas.core.frame.DataFrame'>\n",
      "Int64Index: 80 entries, 0 to 0\n",
      "Data columns (total 14 columns):\n",
      " #   Column                  Non-Null Count  Dtype \n",
      "---  ------                  --------------  ----- \n",
      " 0   date                    80 non-null     object\n",
      " 1   trump                   80 non-null     int64 \n",
      " 2   social distancing       80 non-null     int64 \n",
      " 3   Wuhan                   80 non-null     int64 \n",
      " 4   chinese virus           80 non-null     int64 \n",
      " 5   New York                80 non-null     int64 \n",
      " 6   Los Angeles             80 non-null     int64 \n",
      " 7   Chicago                 80 non-null     int64 \n",
      " 8   Washington              80 non-null     int64 \n",
      " 9   mask                    80 non-null     int64 \n",
      " 10  economy                 80 non-null     int64 \n",
      " 11  healthcare              80 non-null     int64 \n",
      " 12  fauci                   80 non-null     int64 \n",
      " 13  death|deadly|mortality  80 non-null     int64 \n",
      "dtypes: int64(13), object(1)\n",
      "memory usage: 9.4+ KB\n",
      "<class 'pandas.core.frame.DataFrame'>\n",
      "Int64Index: 98 entries, 0 to 97\n",
      "Data columns (total 7 columns):\n",
      " #   Column        Non-Null Count  Dtype         \n",
      "---  ------        --------------  -----         \n",
      " 0   date          98 non-null     datetime64[ns]\n",
      " 1   Tweets        98 non-null     int32         \n",
      " 2   total_cases   98 non-null     float64       \n",
      " 3   new_cases     98 non-null     float64       \n",
      " 4   new_deaths    98 non-null     float64       \n",
      " 5   cnn_articles  98 non-null     float64       \n",
      " 6   fox_articles  98 non-null     float64       \n",
      "dtypes: datetime64[ns](1), float64(5), int32(1)\n",
      "memory usage: 5.7 KB\n",
      "<class 'pandas.core.frame.DataFrame'>\n",
      "Int64Index: 79 entries, 0 to 78\n",
      "Data columns (total 20 columns):\n",
      " #   Column                  Non-Null Count  Dtype         \n",
      "---  ------                  --------------  -----         \n",
      " 0   date                    79 non-null     datetime64[ns]\n",
      " 1   trump                   79 non-null     int64         \n",
      " 2   social distancing       79 non-null     int64         \n",
      " 3   Wuhan                   79 non-null     int64         \n",
      " 4   chinese virus           79 non-null     int64         \n",
      " 5   New York                79 non-null     int64         \n",
      " 6   Los Angeles             79 non-null     int64         \n",
      " 7   Chicago                 79 non-null     int64         \n",
      " 8   Washington              79 non-null     int64         \n",
      " 9   mask                    79 non-null     int64         \n",
      " 10  economy                 79 non-null     int64         \n",
      " 11  healthcare              79 non-null     int64         \n",
      " 12  fauci                   79 non-null     int64         \n",
      " 13  death|deadly|mortality  79 non-null     int64         \n",
      " 14  Tweets                  79 non-null     int32         \n",
      " 15  total_cases             79 non-null     float64       \n",
      " 16  new_cases               79 non-null     float64       \n",
      " 17  new_deaths              79 non-null     float64       \n",
      " 18  cnn_articles            79 non-null     float64       \n",
      " 19  fox_articles            79 non-null     float64       \n",
      "dtypes: datetime64[ns](1), float64(5), int32(1), int64(13)\n",
      "memory usage: 12.7 KB\n"
     ]
    }
   ],
   "source": [
    "keyword_data.info()\n",
    "merged_3.info()\n",
    "keyword_data[\"date\"] = pd.to_datetime(keyword_data[\"date\"])\n",
    "key_merged = keyword_data.merge(merged_3)\n",
    "key_merged.info()"
   ]
  },
  {
   "cell_type": "markdown",
   "metadata": {},
   "source": [
    "# Count keyword combinations"
   ]
  },
  {
   "cell_type": "code",
   "execution_count": 121,
   "metadata": {},
   "outputs": [
    {
     "name": "stdout",
     "output_type": "stream",
     "text": [
      "trump\n",
      "social distancing\n",
      "Wuhan\n",
      "chinese virus\n",
      "New York\n",
      "Los Angeles\n",
      "Chicago\n",
      "Washington\n",
      "mask\n",
      "economy\n",
      "healthcare\n",
      "fauci\n",
      "death|deadly|mortality\n"
     ]
    }
   ],
   "source": [
    "def count_keyword_combinations(keywords = keyword_list, tweetlist = covid_twitter_data):\n",
    "    #function to count which combinations of keywords appear in the tweets\n",
    "    results = pd.DataFrame(np.zeros((len(keywords), len(keywords)), dtype = \"int32\"), columns = keywords, index = keywords)\n",
    "    total_counts = pd.Series(np.zeros(len(keywords), dtype = \"int32\"), index = keywords)\n",
    "    for word in keywords:\n",
    "        print(word)\n",
    "        if \" \" in word:\n",
    "            searchword = word + \"|\" + word.replace(\" \", \"_\") + \"|\" + word.replace(\" \", \"\")\n",
    "        else:\n",
    "            searchword = word\n",
    "        for tweet in tweetlist[\"text\"].dropna():\n",
    "            if re.search(searchword, tweet, re.IGNORECASE):\n",
    "                total_counts[word] = total_counts[word] + 1\n",
    "                for word2 in keywords:\n",
    "                    if word == word2:\n",
    "                        continue\n",
    "                    if \" \" in word2:\n",
    "                        searchword2 = word2 + \"|\" + word2.replace(\" \", \"_\") + \"|\" + word2.replace(\" \", \"\")\n",
    "                    else:\n",
    "                        searchword2 = word2\n",
    "                    if re.search(searchword2, tweet, re.IGNORECASE):\n",
    "                        results.at[word, word2] = results.at[word, word2] + 1\n",
    "                        results.at[word2, word] = results.at[word2, word] + 1\n",
    "    return results, total_counts\n",
    "                    \n",
    "key_combinations, total_counts = count_keyword_combinations()   "
   ]
  },
  {
   "cell_type": "code",
   "execution_count": 113,
   "metadata": {},
   "outputs": [],
   "source": [
    "# save keyword combinations\n",
    "key_combinations.to_csv(\"keyword_combinations.csv\")\n",
    "total_counts.to_csv(\"total_tweets_keywords.csv\")"
   ]
  },
  {
   "cell_type": "code",
   "execution_count": 126,
   "metadata": {},
   "outputs": [
    {
     "data": {
      "text/plain": [
       "trump                     53823\n",
       "social distancing          3868\n",
       "Wuhan                     39245\n",
       "chinese virus              1079\n",
       "New York                   6324\n",
       "Los Angeles                1153\n",
       "Chicago                    1511\n",
       "Washington                 8732\n",
       "mask                      11909\n",
       "economy                    6458\n",
       "healthcare                 4021\n",
       "fauci                      1697\n",
       "death|deadly|mortality    35844\n",
       "Name: 0, dtype: int64"
      ]
     },
     "execution_count": 126,
     "metadata": {},
     "output_type": "execute_result"
    }
   ],
   "source": [
    "# load keyword combinations\n",
    "key_combinations = pd.read_csv(\"keyword_combinations.csv\", index_col = 0)\n",
    "total_counts = pd.read_csv(\"total_tweets_keywords.csv\", index_col = 0, squeeze = True)\n"
   ]
  },
  {
   "cell_type": "code",
   "execution_count": 267,
   "metadata": {},
   "outputs": [
    {
     "data": {
      "text/plain": [
       "[53823,\n",
       " 3868,\n",
       " 39245,\n",
       " 1079,\n",
       " 6324,\n",
       " 1153,\n",
       " 1511,\n",
       " 8732,\n",
       " 11909,\n",
       " 6458,\n",
       " 4021,\n",
       " 1697,\n",
       " 35844]"
      ]
     },
     "execution_count": 267,
     "metadata": {},
     "output_type": "execute_result"
    }
   ],
   "source": [
    "G = nx.from_pandas_adjacency(key_combinations)\n",
    "\n",
    "[elem[2] for elem in list(G.edges.data(\"weight\"))]\n",
    "\n",
    "for n in G.nodes():\n",
    "    G.nodes[n][\"name\"] = str(n)\n",
    "    G.nodes[n][\"total tweets\"] = total_counts[str(n)]\n",
    "    \n"
   ]
  },
  {
   "cell_type": "markdown",
   "metadata": {},
   "source": [
    "# Visualize Keyword combinations over time"
   ]
  },
  {
   "cell_type": "code",
   "execution_count": 291,
   "metadata": {},
   "outputs": [
    {
     "data": {
      "image/png": "[encoded data removed]",
      "text/plain": [
       "<Figure size 936x576 with 1 Axes>"
      ]
     },
     "metadata": {},
     "output_type": "display_data"
    }
   ],
   "source": [
    "import matplotlib.pyplot as plt\n",
    "G = nx.from_pandas_adjacency(key_combinations)\n",
    "weights = [elem[2]/800 for elem in list(G.edges.data(\"weight\"))]\n",
    "pos = nx.spring_layout(G, scale = 6,iterations=100)\n",
    "node_labels = G.nodes()\n",
    "\n",
    "graph, ax = plt.subplots(figsize=(13,8))\n",
    "\n",
    "nodes = nx.draw_networkx_nodes(G, pos, node_color = twittercol, alpha = 0.6, node_size= [elem/18 for elem in list(total_counts)])\n",
    "edges = nx.draw_networkx_edges(G,pos,\n",
    "                    width=weights, edge_color = \"grey\")\n",
    "labels = nx.draw_networkx_labels(G, pos, font_size=12, font_weight= \"bold\")\n",
    "\n",
    "ax.text(\n",
    "    0.70,\n",
    "    0.10,\n",
    "    \"edge width = # times the keywords appeared together\",\n",
    "    horizontalalignment=\"center\",\n",
    "    transform=ax.transAxes,\n",
    "    color = \"grey\",\n",
    "    fontsize = 12\n",
    ")\n",
    "ax.text(\n",
    "    0.70,\n",
    "    0.06,\n",
    "    \"node size = # times the keyword appeared in total\",\n",
    "    horizontalalignment=\"center\",\n",
    "    transform=ax.transAxes,\n",
    "    color = twittercol,\n",
    "    fontsize = 12\n",
    ")\n",
    "\n",
    "plt.show()"
   ]
  },
  {
   "cell_type": "code",
   "execution_count": 262,
   "metadata": {},
   "outputs": [
    {
     "data": {
      "text/html": [
       "\n",
       "<div id=\"altair-viz-ddc46adabcd34ef6b90b5b7aafe442a8\"></div>\n",
       "<script type=\"text/javascript\">\n",
       "  (function(spec, embedOpt){\n",
       "    let outputDiv = document.currentScript.previousElementSibling;\n",
       "    if (outputDiv.id !== \"altair-viz-ddc46adabcd34ef6b90b5b7aafe442a8\") {\n",
       "      outputDiv = document.getElementById(\"altair-viz-ddc46adabcd34ef6b90b5b7aafe442a8\");\n",
       "    }\n",
       "    const paths = {\n",
       "      \"vega\": \"https://cdn.jsdelivr.net/npm//vega@5?noext\",\n",
       "      \"vega-lib\": \"https://cdn.jsdelivr.net/npm//vega-lib?noext\",\n",
       "      \"vega-lite\": \"https://cdn.jsdelivr.net/npm//vega-lite@4.8.1?noext\",\n",
       "      \"vega-embed\": \"https://cdn.jsdelivr.net/npm//vega-embed@6?noext\",\n",
       "    };\n",
       "\n",
       "    function loadScript(lib) {\n",
       "      return new Promise(function(resolve, reject) {\n",
       "        var s = document.createElement('script');\n",
       "        s.src = paths[lib];\n",
       "        s.async = true;\n",
       "        s.onload = () => resolve(paths[lib]);\n",
       "        s.onerror = () => reject(`Error loading script: ${paths[lib]}`);\n",
       "        document.getElementsByTagName(\"head\")[0].appendChild(s);\n",
       "      });\n",
       "    }\n",
       "\n",
       "    function showError(err) {\n",
       "      outputDiv.innerHTML = `<div class=\"error\" style=\"color:red;\">${err}</div>`;\n",
       "      throw err;\n",
       "    }\n",
       "\n",
       "    function displayChart(vegaEmbed) {\n",
       "      vegaEmbed(outputDiv, spec, embedOpt)\n",
       "        .catch(err => showError(`Javascript Error: ${err.message}<br>This usually means there's a typo in your chart specification. See the javascript console for the full traceback.`));\n",
       "    }\n",
       "\n",
       "    if(typeof define === \"function\" && define.amd) {\n",
       "      requirejs.config({paths});\n",
       "      require([\"vega-embed\"], displayChart, err => showError(`Error loading script: ${err.message}`));\n",
       "    } else if (typeof vegaEmbed === \"function\") {\n",
       "      displayChart(vegaEmbed);\n",
       "    } else {\n",
       "      loadScript(\"vega\")\n",
       "        .then(() => loadScript(\"vega-lite\"))\n",
       "        .then(() => loadScript(\"vega-embed\"))\n",
       "        .catch(showError)\n",
       "        .then(() => displayChart(vegaEmbed));\n",
       "    }\n",
       "  })({\"config\": {\"view\": {\"continuousWidth\": 400, \"continuousHeight\": 300}}, \"layer\": [{\"data\": {\"name\": \"data-632162c434aa63d130c2f388fd3785b1\"}, \"mark\": {\"type\": \"line\", \"color\": \"black\", \"opacity\": 1}, \"encoding\": {\"detail\": {\"type\": \"quantitative\", \"field\": \"edge\"}, \"size\": {\"type\": \"quantitative\", \"field\": \"weight\", \"legend\": null}, \"x\": {\"type\": \"quantitative\", \"axis\": {\"grid\": false, \"labels\": false, \"ticks\": false, \"title\": \"\"}, \"field\": \"x\"}, \"y\": {\"type\": \"quantitative\", \"axis\": {\"grid\": false, \"labels\": false, \"ticks\": false, \"title\": \"\"}, \"field\": \"y\"}}}, {\"data\": {\"name\": \"data-4651d56c1e7a13df705e71b29c9cf9ee\"}, \"mark\": {\"type\": \"point\", \"fill\": \"#1da1f2\", \"opacity\": 1, \"size\": 300, \"strokeWidth\": 1.0}, \"encoding\": {\"x\": {\"type\": \"quantitative\", \"axis\": {\"grid\": false, \"labels\": false, \"ticks\": false}, \"field\": \"x\"}, \"y\": {\"type\": \"quantitative\", \"axis\": {\"grid\": false, \"labels\": false, \"ticks\": false}, \"field\": \"y\"}}}], \"$schema\": \"https://vega.github.io/schema/vega-lite/v4.8.1.json\", \"datasets\": {\"data-632162c434aa63d130c2f388fd3785b1\": [{\"y\": -0.08015003093941049, \"weight\": 480, \"x\": -0.13619758305708698, \"pair\": [\"trump\", \"social distancing\"], \"target\": \"social distancing\", \"source\": \"trump\", \"edge\": 0}, {\"y\": -0.4887256058687491, \"weight\": 480, \"x\": -0.6223654573501342, \"pair\": [\"trump\", \"social distancing\"], \"target\": \"social distancing\", \"source\": \"trump\", \"edge\": 0}, {\"y\": -0.08015003093941049, \"weight\": 1394, \"x\": -0.13619758305708698, \"pair\": [\"trump\", \"Wuhan\"], \"target\": \"Wuhan\", \"source\": \"trump\", \"edge\": 1}, {\"y\": 0.15040725379717143, \"weight\": 1394, \"x\": -0.014313188672629196, \"pair\": [\"trump\", \"Wuhan\"], \"target\": \"Wuhan\", \"source\": \"trump\", \"edge\": 1}, {\"y\": -0.08015003093941049, \"weight\": 614, \"x\": -0.13619758305708698, \"pair\": [\"trump\", \"chinese virus\"], \"target\": \"chinese virus\", \"source\": \"trump\", \"edge\": 2}, {\"y\": 0.3829901450811291, \"weight\": 614, \"x\": -0.8614739805968922, \"pair\": [\"trump\", \"chinese virus\"], \"target\": \"chinese virus\", \"source\": \"trump\", \"edge\": 2}, {\"y\": -0.08015003093941049, \"weight\": 1258, \"x\": -0.13619758305708698, \"pair\": [\"trump\", \"New York\"], \"target\": \"New York\", \"source\": \"trump\", \"edge\": 3}, {\"y\": 0.011384510582638898, \"weight\": 1258, \"x\": 0.41638966236099284, \"pair\": [\"trump\", \"New York\"], \"target\": \"New York\", \"source\": \"trump\", \"edge\": 3}, {\"y\": -0.08015003093941049, \"weight\": 84, \"x\": -0.13619758305708698, \"pair\": [\"trump\", \"Los Angeles\"], \"target\": \"Los Angeles\", \"source\": \"trump\", \"edge\": 4}, {\"y\": 0.588157930707876, \"weight\": 84, \"x\": 1.0, \"pair\": [\"trump\", \"Los Angeles\"], \"target\": \"Los Angeles\", \"source\": \"trump\", \"edge\": 4}, {\"y\": -0.08015003093941049, \"weight\": 162, \"x\": -0.13619758305708698, \"pair\": [\"trump\", \"Chicago\"], \"target\": \"Chicago\", \"source\": \"trump\", \"edge\": 5}, {\"y\": -0.36909759561067224, \"weight\": 162, \"x\": 0.8313312448937434, \"pair\": [\"trump\", \"Chicago\"], \"target\": \"Chicago\", \"source\": \"trump\", \"edge\": 5}, {\"y\": -0.08015003093941049, \"weight\": 2860, \"x\": -0.13619758305708698, \"pair\": [\"trump\", \"Washington\"], \"target\": \"Washington\", \"source\": \"trump\", \"edge\": 6}, {\"y\": -0.3062042941441169, \"weight\": 2860, \"x\": 0.11789382662200065, \"pair\": [\"trump\", \"Washington\"], \"target\": \"Washington\", \"source\": \"trump\", \"edge\": 6}, {\"y\": -0.08015003093941049, \"weight\": 2106, \"x\": -0.13619758305708698, \"pair\": [\"trump\", \"mask\"], \"target\": \"mask\", \"source\": \"trump\", \"edge\": 7}, {\"y\": 0.35383743013770697, \"weight\": 2106, \"x\": 0.10992479105568168, \"pair\": [\"trump\", \"mask\"], \"target\": \"mask\", \"source\": \"trump\", \"edge\": 7}, {\"y\": -0.08015003093941049, \"weight\": 2034, \"x\": -0.13619758305708698, \"pair\": [\"trump\", \"economy\"], \"target\": \"economy\", \"source\": \"trump\", \"edge\": 8}, {\"y\": -0.040941732722066734, \"weight\": 2034, \"x\": -0.4959925705355218, \"pair\": [\"trump\", \"economy\"], \"target\": \"economy\", \"source\": \"trump\", \"edge\": 8}, {\"y\": -0.08015003093941049, \"weight\": 650, \"x\": -0.13619758305708698, \"pair\": [\"trump\", \"healthcare\"], \"target\": \"healthcare\", \"source\": \"trump\", \"edge\": 9}, {\"y\": 0.6247087818390961, \"weight\": 650, \"x\": -0.25309288854254136, \"pair\": [\"trump\", \"healthcare\"], \"target\": \"healthcare\", \"source\": \"trump\", \"edge\": 9}, {\"y\": -0.08015003093941049, \"weight\": 1218, \"x\": -0.13619758305708698, \"pair\": [\"trump\", \"fauci\"], \"target\": \"fauci\", \"source\": \"trump\", \"edge\": 10}, {\"y\": -0.7785175959686179, \"weight\": 1218, \"x\": -0.160361658580368, \"pair\": [\"trump\", \"fauci\"], \"target\": \"fauci\", \"source\": \"trump\", \"edge\": 10}, {\"y\": -0.08015003093941049, \"weight\": 5480, \"x\": -0.13619758305708698, \"pair\": [\"trump\", \"death|deadly|mortality\"], \"target\": \"death|deadly|mortality\", \"source\": \"trump\", \"edge\": 11}, {\"y\": -0.047849196892003114, \"weight\": 5480, \"x\": 0.06825780240274776, \"pair\": [\"trump\", \"death|deadly|mortality\"], \"target\": \"death|deadly|mortality\", \"source\": \"trump\", \"edge\": 11}, {\"y\": -0.4887256058687491, \"weight\": 54, \"x\": -0.6223654573501342, \"pair\": [\"social distancing\", \"Wuhan\"], \"target\": \"Wuhan\", \"source\": \"social distancing\", \"edge\": 12}, {\"y\": 0.15040725379717143, \"weight\": 54, \"x\": -0.014313188672629196, \"pair\": [\"social distancing\", \"Wuhan\"], \"target\": \"Wuhan\", \"source\": \"social distancing\", \"edge\": 12}, {\"y\": -0.4887256058687491, \"weight\": 18, \"x\": -0.6223654573501342, \"pair\": [\"social distancing\", \"chinese virus\"], \"target\": \"chinese virus\", \"source\": \"social distancing\", \"edge\": 13}, {\"y\": 0.3829901450811291, \"weight\": 18, \"x\": -0.8614739805968922, \"pair\": [\"social distancing\", \"chinese virus\"], \"target\": \"chinese virus\", \"source\": \"social distancing\", \"edge\": 13}, {\"y\": -0.4887256058687491, \"weight\": 62, \"x\": -0.6223654573501342, \"pair\": [\"social distancing\", \"New York\"], \"target\": \"New York\", \"source\": \"social distancing\", \"edge\": 14}, {\"y\": 0.011384510582638898, \"weight\": 62, \"x\": 0.41638966236099284, \"pair\": [\"social distancing\", \"New York\"], \"target\": \"New York\", \"source\": \"social distancing\", \"edge\": 14}, {\"y\": -0.4887256058687491, \"weight\": 24, \"x\": -0.6223654573501342, \"pair\": [\"social distancing\", \"Los Angeles\"], \"target\": \"Los Angeles\", \"source\": \"social distancing\", \"edge\": 15}, {\"y\": 0.588157930707876, \"weight\": 24, \"x\": 1.0, \"pair\": [\"social distancing\", \"Los Angeles\"], \"target\": \"Los Angeles\", \"source\": \"social distancing\", \"edge\": 15}, {\"y\": -0.4887256058687491, \"weight\": 26, \"x\": -0.6223654573501342, \"pair\": [\"social distancing\", \"Chicago\"], \"target\": \"Chicago\", \"source\": \"social distancing\", \"edge\": 16}, {\"y\": -0.36909759561067224, \"weight\": 26, \"x\": 0.8313312448937434, \"pair\": [\"social distancing\", \"Chicago\"], \"target\": \"Chicago\", \"source\": \"social distancing\", \"edge\": 16}, {\"y\": -0.4887256058687491, \"weight\": 102, \"x\": -0.6223654573501342, \"pair\": [\"social distancing\", \"Washington\"], \"target\": \"Washington\", \"source\": \"social distancing\", \"edge\": 17}, {\"y\": -0.3062042941441169, \"weight\": 102, \"x\": 0.11789382662200065, \"pair\": [\"social distancing\", \"Washington\"], \"target\": \"Washington\", \"source\": \"social distancing\", \"edge\": 17}, {\"y\": -0.4887256058687491, \"weight\": 158, \"x\": -0.6223654573501342, \"pair\": [\"social distancing\", \"mask\"], \"target\": \"mask\", \"source\": \"social distancing\", \"edge\": 18}, {\"y\": 0.35383743013770697, \"weight\": 158, \"x\": 0.10992479105568168, \"pair\": [\"social distancing\", \"mask\"], \"target\": \"mask\", \"source\": \"social distancing\", \"edge\": 18}, {\"y\": -0.4887256058687491, \"weight\": 36, \"x\": -0.6223654573501342, \"pair\": [\"social distancing\", \"economy\"], \"target\": \"economy\", \"source\": \"social distancing\", \"edge\": 19}, {\"y\": -0.040941732722066734, \"weight\": 36, \"x\": -0.4959925705355218, \"pair\": [\"social distancing\", \"economy\"], \"target\": \"economy\", \"source\": \"social distancing\", \"edge\": 19}, {\"y\": -0.4887256058687491, \"weight\": 76, \"x\": -0.6223654573501342, \"pair\": [\"social distancing\", \"healthcare\"], \"target\": \"healthcare\", \"source\": \"social distancing\", \"edge\": 20}, {\"y\": 0.6247087818390961, \"weight\": 76, \"x\": -0.25309288854254136, \"pair\": [\"social distancing\", \"healthcare\"], \"target\": \"healthcare\", \"source\": \"social distancing\", \"edge\": 20}, {\"y\": -0.4887256058687491, \"weight\": 54, \"x\": -0.6223654573501342, \"pair\": [\"social distancing\", \"fauci\"], \"target\": \"fauci\", \"source\": \"social distancing\", \"edge\": 21}, {\"y\": -0.7785175959686179, \"weight\": 54, \"x\": -0.160361658580368, \"pair\": [\"social distancing\", \"fauci\"], \"target\": \"fauci\", \"source\": \"social distancing\", \"edge\": 21}, {\"y\": -0.4887256058687491, \"weight\": 272, \"x\": -0.6223654573501342, \"pair\": [\"social distancing\", \"death|deadly|mortality\"], \"target\": \"death|deadly|mortality\", \"source\": \"social distancing\", \"edge\": 22}, {\"y\": -0.047849196892003114, \"weight\": 272, \"x\": 0.06825780240274776, \"pair\": [\"social distancing\", \"death|deadly|mortality\"], \"target\": \"death|deadly|mortality\", \"source\": \"social distancing\", \"edge\": 22}, {\"y\": 0.15040725379717143, \"weight\": 414, \"x\": -0.014313188672629196, \"pair\": [\"Wuhan\", \"chinese virus\"], \"target\": \"chinese virus\", \"source\": \"Wuhan\", \"edge\": 23}, {\"y\": 0.3829901450811291, \"weight\": 414, \"x\": -0.8614739805968922, \"pair\": [\"Wuhan\", \"chinese virus\"], \"target\": \"chinese virus\", \"source\": \"Wuhan\", \"edge\": 23}, {\"y\": 0.15040725379717143, \"weight\": 544, \"x\": -0.014313188672629196, \"pair\": [\"Wuhan\", \"New York\"], \"target\": \"New York\", \"source\": \"Wuhan\", \"edge\": 24}, {\"y\": 0.011384510582638898, \"weight\": 544, \"x\": 0.41638966236099284, \"pair\": [\"Wuhan\", \"New York\"], \"target\": \"New York\", \"source\": \"Wuhan\", \"edge\": 24}, {\"y\": 0.15040725379717143, \"weight\": 92, \"x\": -0.014313188672629196, \"pair\": [\"Wuhan\", \"Los Angeles\"], \"target\": \"Los Angeles\", \"source\": \"Wuhan\", \"edge\": 25}, {\"y\": 0.588157930707876, \"weight\": 92, \"x\": 1.0, \"pair\": [\"Wuhan\", \"Los Angeles\"], \"target\": \"Los Angeles\", \"source\": \"Wuhan\", \"edge\": 25}, {\"y\": 0.15040725379717143, \"weight\": 214, \"x\": -0.014313188672629196, \"pair\": [\"Wuhan\", \"Chicago\"], \"target\": \"Chicago\", \"source\": \"Wuhan\", \"edge\": 26}, {\"y\": -0.36909759561067224, \"weight\": 214, \"x\": 0.8313312448937434, \"pair\": [\"Wuhan\", \"Chicago\"], \"target\": \"Chicago\", \"source\": \"Wuhan\", \"edge\": 26}, {\"y\": 0.15040725379717143, \"weight\": 1286, \"x\": -0.014313188672629196, \"pair\": [\"Wuhan\", \"Washington\"], \"target\": \"Washington\", \"source\": \"Wuhan\", \"edge\": 27}, {\"y\": -0.3062042941441169, \"weight\": 1286, \"x\": 0.11789382662200065, \"pair\": [\"Wuhan\", \"Washington\"], \"target\": \"Washington\", \"source\": \"Wuhan\", \"edge\": 27}, {\"y\": 0.15040725379717143, \"weight\": 872, \"x\": -0.014313188672629196, \"pair\": [\"Wuhan\", \"mask\"], \"target\": \"mask\", \"source\": \"Wuhan\", \"edge\": 28}, {\"y\": 0.35383743013770697, \"weight\": 872, \"x\": 0.10992479105568168, \"pair\": [\"Wuhan\", \"mask\"], \"target\": \"mask\", \"source\": \"Wuhan\", \"edge\": 28}, {\"y\": 0.15040725379717143, \"weight\": 292, \"x\": -0.014313188672629196, \"pair\": [\"Wuhan\", \"economy\"], \"target\": \"economy\", \"source\": \"Wuhan\", \"edge\": 29}, {\"y\": -0.040941732722066734, \"weight\": 292, \"x\": -0.4959925705355218, \"pair\": [\"Wuhan\", \"economy\"], \"target\": \"economy\", \"source\": \"Wuhan\", \"edge\": 29}, {\"y\": 0.15040725379717143, \"weight\": 274, \"x\": -0.014313188672629196, \"pair\": [\"Wuhan\", \"healthcare\"], \"target\": \"healthcare\", \"source\": \"Wuhan\", \"edge\": 30}, {\"y\": 0.6247087818390961, \"weight\": 274, \"x\": -0.25309288854254136, \"pair\": [\"Wuhan\", \"healthcare\"], \"target\": \"healthcare\", \"source\": \"Wuhan\", \"edge\": 30}, {\"y\": 0.15040725379717143, \"weight\": 38, \"x\": -0.014313188672629196, \"pair\": [\"Wuhan\", \"fauci\"], \"target\": \"fauci\", \"source\": \"Wuhan\", \"edge\": 31}, {\"y\": -0.7785175959686179, \"weight\": 38, \"x\": -0.160361658580368, \"pair\": [\"Wuhan\", \"fauci\"], \"target\": \"fauci\", \"source\": \"Wuhan\", \"edge\": 31}, {\"y\": 0.15040725379717143, \"weight\": 7154, \"x\": -0.014313188672629196, \"pair\": [\"Wuhan\", \"death|deadly|mortality\"], \"target\": \"death|deadly|mortality\", \"source\": \"Wuhan\", \"edge\": 32}, {\"y\": -0.047849196892003114, \"weight\": 7154, \"x\": 0.06825780240274776, \"pair\": [\"Wuhan\", \"death|deadly|mortality\"], \"target\": \"death|deadly|mortality\", \"source\": \"Wuhan\", \"edge\": 32}, {\"y\": 0.3829901450811291, \"weight\": 10, \"x\": -0.8614739805968922, \"pair\": [\"chinese virus\", \"New York\"], \"target\": \"New York\", \"source\": \"chinese virus\", \"edge\": 33}, {\"y\": 0.011384510582638898, \"weight\": 10, \"x\": 0.41638966236099284, \"pair\": [\"chinese virus\", \"New York\"], \"target\": \"New York\", \"source\": \"chinese virus\", \"edge\": 33}, {\"y\": 0.3829901450811291, \"weight\": 4, \"x\": -0.8614739805968922, \"pair\": [\"chinese virus\", \"Los Angeles\"], \"target\": \"Los Angeles\", \"source\": \"chinese virus\", \"edge\": 34}, {\"y\": 0.588157930707876, \"weight\": 4, \"x\": 1.0, \"pair\": [\"chinese virus\", \"Los Angeles\"], \"target\": \"Los Angeles\", \"source\": \"chinese virus\", \"edge\": 34}, {\"y\": 0.3829901450811291, \"weight\": 2, \"x\": -0.8614739805968922, \"pair\": [\"chinese virus\", \"Chicago\"], \"target\": \"Chicago\", \"source\": \"chinese virus\", \"edge\": 35}, {\"y\": -0.36909759561067224, \"weight\": 2, \"x\": 0.8313312448937434, \"pair\": [\"chinese virus\", \"Chicago\"], \"target\": \"Chicago\", \"source\": \"chinese virus\", \"edge\": 35}, {\"y\": 0.3829901450811291, \"weight\": 20, \"x\": -0.8614739805968922, \"pair\": [\"chinese virus\", \"Washington\"], \"target\": \"Washington\", \"source\": \"chinese virus\", \"edge\": 36}, {\"y\": -0.3062042941441169, \"weight\": 20, \"x\": 0.11789382662200065, \"pair\": [\"chinese virus\", \"Washington\"], \"target\": \"Washington\", \"source\": \"chinese virus\", \"edge\": 36}, {\"y\": 0.3829901450811291, \"weight\": 30, \"x\": -0.8614739805968922, \"pair\": [\"chinese virus\", \"mask\"], \"target\": \"mask\", \"source\": \"chinese virus\", \"edge\": 37}, {\"y\": 0.35383743013770697, \"weight\": 30, \"x\": 0.10992479105568168, \"pair\": [\"chinese virus\", \"mask\"], \"target\": \"mask\", \"source\": \"chinese virus\", \"edge\": 37}, {\"y\": 0.3829901450811291, \"weight\": 18, \"x\": -0.8614739805968922, \"pair\": [\"chinese virus\", \"economy\"], \"target\": \"economy\", \"source\": \"chinese virus\", \"edge\": 38}, {\"y\": -0.040941732722066734, \"weight\": 18, \"x\": -0.4959925705355218, \"pair\": [\"chinese virus\", \"economy\"], \"target\": \"economy\", \"source\": \"chinese virus\", \"edge\": 38}, {\"y\": 0.3829901450811291, \"weight\": 6, \"x\": -0.8614739805968922, \"pair\": [\"chinese virus\", \"healthcare\"], \"target\": \"healthcare\", \"source\": \"chinese virus\", \"edge\": 39}, {\"y\": 0.6247087818390961, \"weight\": 6, \"x\": -0.25309288854254136, \"pair\": [\"chinese virus\", \"healthcare\"], \"target\": \"healthcare\", \"source\": \"chinese virus\", \"edge\": 39}, {\"y\": 0.3829901450811291, \"weight\": 12, \"x\": -0.8614739805968922, \"pair\": [\"chinese virus\", \"fauci\"], \"target\": \"fauci\", \"source\": \"chinese virus\", \"edge\": 40}, {\"y\": -0.7785175959686179, \"weight\": 12, \"x\": -0.160361658580368, \"pair\": [\"chinese virus\", \"fauci\"], \"target\": \"fauci\", \"source\": \"chinese virus\", \"edge\": 40}, {\"y\": 0.3829901450811291, \"weight\": 96, \"x\": -0.8614739805968922, \"pair\": [\"chinese virus\", \"death|deadly|mortality\"], \"target\": \"death|deadly|mortality\", \"source\": \"chinese virus\", \"edge\": 41}, {\"y\": -0.047849196892003114, \"weight\": 96, \"x\": 0.06825780240274776, \"pair\": [\"chinese virus\", \"death|deadly|mortality\"], \"target\": \"death|deadly|mortality\", \"source\": \"chinese virus\", \"edge\": 41}, {\"y\": 0.011384510582638898, \"weight\": 88, \"x\": 0.41638966236099284, \"pair\": [\"New York\", \"Los Angeles\"], \"target\": \"Los Angeles\", \"source\": \"New York\", \"edge\": 42}, {\"y\": 0.588157930707876, \"weight\": 88, \"x\": 1.0, \"pair\": [\"New York\", \"Los Angeles\"], \"target\": \"Los Angeles\", \"source\": \"New York\", \"edge\": 42}, {\"y\": 0.011384510582638898, \"weight\": 76, \"x\": 0.41638966236099284, \"pair\": [\"New York\", \"Chicago\"], \"target\": \"Chicago\", \"source\": \"New York\", \"edge\": 43}, {\"y\": -0.36909759561067224, \"weight\": 76, \"x\": 0.8313312448937434, \"pair\": [\"New York\", \"Chicago\"], \"target\": \"Chicago\", \"source\": \"New York\", \"edge\": 43}, {\"y\": 0.011384510582638898, \"weight\": 428, \"x\": 0.41638966236099284, \"pair\": [\"New York\", \"Washington\"], \"target\": \"Washington\", \"source\": \"New York\", \"edge\": 44}, {\"y\": -0.3062042941441169, \"weight\": 428, \"x\": 0.11789382662200065, \"pair\": [\"New York\", \"Washington\"], \"target\": \"Washington\", \"source\": \"New York\", \"edge\": 44}, {\"y\": 0.011384510582638898, \"weight\": 240, \"x\": 0.41638966236099284, \"pair\": [\"New York\", \"mask\"], \"target\": \"mask\", \"source\": \"New York\", \"edge\": 45}, {\"y\": 0.35383743013770697, \"weight\": 240, \"x\": 0.10992479105568168, \"pair\": [\"New York\", \"mask\"], \"target\": \"mask\", \"source\": \"New York\", \"edge\": 45}, {\"y\": 0.011384510582638898, \"weight\": 108, \"x\": 0.41638966236099284, \"pair\": [\"New York\", \"economy\"], \"target\": \"economy\", \"source\": \"New York\", \"edge\": 46}, {\"y\": -0.040941732722066734, \"weight\": 108, \"x\": -0.4959925705355218, \"pair\": [\"New York\", \"economy\"], \"target\": \"economy\", \"source\": \"New York\", \"edge\": 46}, {\"y\": 0.011384510582638898, \"weight\": 58, \"x\": 0.41638966236099284, \"pair\": [\"New York\", \"healthcare\"], \"target\": \"healthcare\", \"source\": \"New York\", \"edge\": 47}, {\"y\": 0.6247087818390961, \"weight\": 58, \"x\": -0.25309288854254136, \"pair\": [\"New York\", \"healthcare\"], \"target\": \"healthcare\", \"source\": \"New York\", \"edge\": 47}, {\"y\": 0.011384510582638898, \"weight\": 36, \"x\": 0.41638966236099284, \"pair\": [\"New York\", \"fauci\"], \"target\": \"fauci\", \"source\": \"New York\", \"edge\": 48}, {\"y\": -0.7785175959686179, \"weight\": 36, \"x\": -0.160361658580368, \"pair\": [\"New York\", \"fauci\"], \"target\": \"fauci\", \"source\": \"New York\", \"edge\": 48}, {\"y\": 0.011384510582638898, \"weight\": 1190, \"x\": 0.41638966236099284, \"pair\": [\"New York\", \"death|deadly|mortality\"], \"target\": \"death|deadly|mortality\", \"source\": \"New York\", \"edge\": 49}, {\"y\": -0.047849196892003114, \"weight\": 1190, \"x\": 0.06825780240274776, \"pair\": [\"New York\", \"death|deadly|mortality\"], \"target\": \"death|deadly|mortality\", \"source\": \"New York\", \"edge\": 49}, {\"y\": 0.588157930707876, \"weight\": 38, \"x\": 1.0, \"pair\": [\"Los Angeles\", \"Chicago\"], \"target\": \"Chicago\", \"source\": \"Los Angeles\", \"edge\": 50}, {\"y\": -0.36909759561067224, \"weight\": 38, \"x\": 0.8313312448937434, \"pair\": [\"Los Angeles\", \"Chicago\"], \"target\": \"Chicago\", \"source\": \"Los Angeles\", \"edge\": 50}, {\"y\": 0.588157930707876, \"weight\": 50, \"x\": 1.0, \"pair\": [\"Los Angeles\", \"Washington\"], \"target\": \"Washington\", \"source\": \"Los Angeles\", \"edge\": 51}, {\"y\": -0.3062042941441169, \"weight\": 50, \"x\": 0.11789382662200065, \"pair\": [\"Los Angeles\", \"Washington\"], \"target\": \"Washington\", \"source\": \"Los Angeles\", \"edge\": 51}, {\"y\": 0.588157930707876, \"weight\": 78, \"x\": 1.0, \"pair\": [\"Los Angeles\", \"mask\"], \"target\": \"mask\", \"source\": \"Los Angeles\", \"edge\": 52}, {\"y\": 0.35383743013770697, \"weight\": 78, \"x\": 0.10992479105568168, \"pair\": [\"Los Angeles\", \"mask\"], \"target\": \"mask\", \"source\": \"Los Angeles\", \"edge\": 52}, {\"y\": 0.588157930707876, \"weight\": 12, \"x\": 1.0, \"pair\": [\"Los Angeles\", \"economy\"], \"target\": \"economy\", \"source\": \"Los Angeles\", \"edge\": 53}, {\"y\": -0.040941732722066734, \"weight\": 12, \"x\": -0.4959925705355218, \"pair\": [\"Los Angeles\", \"economy\"], \"target\": \"economy\", \"source\": \"Los Angeles\", \"edge\": 53}, {\"y\": 0.588157930707876, \"weight\": 10, \"x\": 1.0, \"pair\": [\"Los Angeles\", \"healthcare\"], \"target\": \"healthcare\", \"source\": \"Los Angeles\", \"edge\": 54}, {\"y\": 0.6247087818390961, \"weight\": 10, \"x\": -0.25309288854254136, \"pair\": [\"Los Angeles\", \"healthcare\"], \"target\": \"healthcare\", \"source\": \"Los Angeles\", \"edge\": 54}, {\"y\": 0.588157930707876, \"weight\": 144, \"x\": 1.0, \"pair\": [\"Los Angeles\", \"death|deadly|mortality\"], \"target\": \"death|deadly|mortality\", \"source\": \"Los Angeles\", \"edge\": 55}, {\"y\": -0.047849196892003114, \"weight\": 144, \"x\": 0.06825780240274776, \"pair\": [\"Los Angeles\", \"death|deadly|mortality\"], \"target\": \"death|deadly|mortality\", \"source\": \"Los Angeles\", \"edge\": 55}, {\"y\": -0.36909759561067224, \"weight\": 124, \"x\": 0.8313312448937434, \"pair\": [\"Chicago\", \"Washington\"], \"target\": \"Washington\", \"source\": \"Chicago\", \"edge\": 56}, {\"y\": -0.3062042941441169, \"weight\": 124, \"x\": 0.11789382662200065, \"pair\": [\"Chicago\", \"Washington\"], \"target\": \"Washington\", \"source\": \"Chicago\", \"edge\": 56}, {\"y\": -0.36909759561067224, \"weight\": 90, \"x\": 0.8313312448937434, \"pair\": [\"Chicago\", \"mask\"], \"target\": \"mask\", \"source\": \"Chicago\", \"edge\": 57}, {\"y\": 0.35383743013770697, \"weight\": 90, \"x\": 0.10992479105568168, \"pair\": [\"Chicago\", \"mask\"], \"target\": \"mask\", \"source\": \"Chicago\", \"edge\": 57}, {\"y\": -0.36909759561067224, \"weight\": 26, \"x\": 0.8313312448937434, \"pair\": [\"Chicago\", \"economy\"], \"target\": \"economy\", \"source\": \"Chicago\", \"edge\": 58}, {\"y\": -0.040941732722066734, \"weight\": 26, \"x\": -0.4959925705355218, \"pair\": [\"Chicago\", \"economy\"], \"target\": \"economy\", \"source\": \"Chicago\", \"edge\": 58}, {\"y\": -0.36909759561067224, \"weight\": 34, \"x\": 0.8313312448937434, \"pair\": [\"Chicago\", \"healthcare\"], \"target\": \"healthcare\", \"source\": \"Chicago\", \"edge\": 59}, {\"y\": 0.6247087818390961, \"weight\": 34, \"x\": -0.25309288854254136, \"pair\": [\"Chicago\", \"healthcare\"], \"target\": \"healthcare\", \"source\": \"Chicago\", \"edge\": 59}, {\"y\": -0.36909759561067224, \"weight\": 4, \"x\": 0.8313312448937434, \"pair\": [\"Chicago\", \"fauci\"], \"target\": \"fauci\", \"source\": \"Chicago\", \"edge\": 60}, {\"y\": -0.7785175959686179, \"weight\": 4, \"x\": -0.160361658580368, \"pair\": [\"Chicago\", \"fauci\"], \"target\": \"fauci\", \"source\": \"Chicago\", \"edge\": 60}, {\"y\": -0.36909759561067224, \"weight\": 214, \"x\": 0.8313312448937434, \"pair\": [\"Chicago\", \"death|deadly|mortality\"], \"target\": \"death|deadly|mortality\", \"source\": \"Chicago\", \"edge\": 61}, {\"y\": -0.047849196892003114, \"weight\": 214, \"x\": 0.06825780240274776, \"pair\": [\"Chicago\", \"death|deadly|mortality\"], \"target\": \"death|deadly|mortality\", \"source\": \"Chicago\", \"edge\": 61}, {\"y\": -0.3062042941441169, \"weight\": 270, \"x\": 0.11789382662200065, \"pair\": [\"Washington\", \"mask\"], \"target\": \"mask\", \"source\": \"Washington\", \"edge\": 62}, {\"y\": 0.35383743013770697, \"weight\": 270, \"x\": 0.10992479105568168, \"pair\": [\"Washington\", \"mask\"], \"target\": \"mask\", \"source\": \"Washington\", \"edge\": 62}, {\"y\": -0.3062042941441169, \"weight\": 220, \"x\": 0.11789382662200065, \"pair\": [\"Washington\", \"economy\"], \"target\": \"economy\", \"source\": \"Washington\", \"edge\": 63}, {\"y\": -0.040941732722066734, \"weight\": 220, \"x\": -0.4959925705355218, \"pair\": [\"Washington\", \"economy\"], \"target\": \"economy\", \"source\": \"Washington\", \"edge\": 63}, {\"y\": -0.3062042941441169, \"weight\": 84, \"x\": 0.11789382662200065, \"pair\": [\"Washington\", \"healthcare\"], \"target\": \"healthcare\", \"source\": \"Washington\", \"edge\": 64}, {\"y\": 0.6247087818390961, \"weight\": 84, \"x\": -0.25309288854254136, \"pair\": [\"Washington\", \"healthcare\"], \"target\": \"healthcare\", \"source\": \"Washington\", \"edge\": 64}, {\"y\": -0.3062042941441169, \"weight\": 62, \"x\": 0.11789382662200065, \"pair\": [\"Washington\", \"fauci\"], \"target\": \"fauci\", \"source\": \"Washington\", \"edge\": 65}, {\"y\": -0.7785175959686179, \"weight\": 62, \"x\": -0.160361658580368, \"pair\": [\"Washington\", \"fauci\"], \"target\": \"fauci\", \"source\": \"Washington\", \"edge\": 65}, {\"y\": -0.3062042941441169, \"weight\": 2144, \"x\": 0.11789382662200065, \"pair\": [\"Washington\", \"death|deadly|mortality\"], \"target\": \"death|deadly|mortality\", \"source\": \"Washington\", \"edge\": 66}, {\"y\": -0.047849196892003114, \"weight\": 2144, \"x\": 0.06825780240274776, \"pair\": [\"Washington\", \"death|deadly|mortality\"], \"target\": \"death|deadly|mortality\", \"source\": \"Washington\", \"edge\": 66}, {\"y\": 0.35383743013770697, \"weight\": 102, \"x\": 0.10992479105568168, \"pair\": [\"mask\", \"economy\"], \"target\": \"economy\", \"source\": \"mask\", \"edge\": 67}, {\"y\": -0.040941732722066734, \"weight\": 102, \"x\": -0.4959925705355218, \"pair\": [\"mask\", \"economy\"], \"target\": \"economy\", \"source\": \"mask\", \"edge\": 67}, {\"y\": 0.35383743013770697, \"weight\": 432, \"x\": 0.10992479105568168, \"pair\": [\"mask\", \"healthcare\"], \"target\": \"healthcare\", \"source\": \"mask\", \"edge\": 68}, {\"y\": 0.6247087818390961, \"weight\": 432, \"x\": -0.25309288854254136, \"pair\": [\"mask\", \"healthcare\"], \"target\": \"healthcare\", \"source\": \"mask\", \"edge\": 68}, {\"y\": 0.35383743013770697, \"weight\": 48, \"x\": 0.10992479105568168, \"pair\": [\"mask\", \"fauci\"], \"target\": \"fauci\", \"source\": \"mask\", \"edge\": 69}, {\"y\": -0.7785175959686179, \"weight\": 48, \"x\": -0.160361658580368, \"pair\": [\"mask\", \"fauci\"], \"target\": \"fauci\", \"source\": \"mask\", \"edge\": 69}, {\"y\": 0.35383743013770697, \"weight\": 564, \"x\": 0.10992479105568168, \"pair\": [\"mask\", \"death|deadly|mortality\"], \"target\": \"death|deadly|mortality\", \"source\": \"mask\", \"edge\": 70}, {\"y\": -0.047849196892003114, \"weight\": 564, \"x\": 0.06825780240274776, \"pair\": [\"mask\", \"death|deadly|mortality\"], \"target\": \"death|deadly|mortality\", \"source\": \"mask\", \"edge\": 70}, {\"y\": -0.040941732722066734, \"weight\": 116, \"x\": -0.4959925705355218, \"pair\": [\"economy\", \"healthcare\"], \"target\": \"healthcare\", \"source\": \"economy\", \"edge\": 71}, {\"y\": 0.6247087818390961, \"weight\": 116, \"x\": -0.25309288854254136, \"pair\": [\"economy\", \"healthcare\"], \"target\": \"healthcare\", \"source\": \"economy\", \"edge\": 71}, {\"y\": -0.040941732722066734, \"weight\": 28, \"x\": -0.4959925705355218, \"pair\": [\"economy\", \"fauci\"], \"target\": \"fauci\", \"source\": \"economy\", \"edge\": 72}, {\"y\": -0.7785175959686179, \"weight\": 28, \"x\": -0.160361658580368, \"pair\": [\"economy\", \"fauci\"], \"target\": \"fauci\", \"source\": \"economy\", \"edge\": 72}, {\"y\": -0.040941732722066734, \"weight\": 606, \"x\": -0.4959925705355218, \"pair\": [\"economy\", \"death|deadly|mortality\"], \"target\": \"death|deadly|mortality\", \"source\": \"economy\", \"edge\": 73}, {\"y\": -0.047849196892003114, \"weight\": 606, \"x\": 0.06825780240274776, \"pair\": [\"economy\", \"death|deadly|mortality\"], \"target\": \"death|deadly|mortality\", \"source\": \"economy\", \"edge\": 73}, {\"y\": 0.6247087818390961, \"weight\": 18, \"x\": -0.25309288854254136, \"pair\": [\"healthcare\", \"fauci\"], \"target\": \"fauci\", \"source\": \"healthcare\", \"edge\": 74}, {\"y\": -0.7785175959686179, \"weight\": 18, \"x\": -0.160361658580368, \"pair\": [\"healthcare\", \"fauci\"], \"target\": \"fauci\", \"source\": \"healthcare\", \"edge\": 74}, {\"y\": 0.6247087818390961, \"weight\": 320, \"x\": -0.25309288854254136, \"pair\": [\"healthcare\", \"death|deadly|mortality\"], \"target\": \"death|deadly|mortality\", \"source\": \"healthcare\", \"edge\": 75}, {\"y\": -0.047849196892003114, \"weight\": 320, \"x\": 0.06825780240274776, \"pair\": [\"healthcare\", \"death|deadly|mortality\"], \"target\": \"death|deadly|mortality\", \"source\": \"healthcare\", \"edge\": 75}, {\"y\": -0.7785175959686179, \"weight\": 286, \"x\": -0.160361658580368, \"pair\": [\"fauci\", \"death|deadly|mortality\"], \"target\": \"death|deadly|mortality\", \"source\": \"fauci\", \"edge\": 76}, {\"y\": -0.047849196892003114, \"weight\": 286, \"x\": 0.06825780240274776, \"pair\": [\"fauci\", \"death|deadly|mortality\"], \"target\": \"death|deadly|mortality\", \"source\": \"fauci\", \"edge\": 76}], \"data-4651d56c1e7a13df705e71b29c9cf9ee\": [{\"y\": -0.08015003093941049, \"x\": -0.13619758305708698}, {\"y\": -0.4887256058687491, \"x\": -0.6223654573501342}, {\"y\": 0.15040725379717143, \"x\": -0.014313188672629196}, {\"y\": 0.3829901450811291, \"x\": -0.8614739805968922}, {\"y\": 0.011384510582638898, \"x\": 0.41638966236099284}, {\"y\": 0.588157930707876, \"x\": 1.0}, {\"y\": -0.36909759561067224, \"x\": 0.8313312448937434}, {\"y\": -0.3062042941441169, \"x\": 0.11789382662200065}, {\"y\": 0.35383743013770697, \"x\": 0.10992479105568168}, {\"y\": -0.040941732722066734, \"x\": -0.4959925705355218}, {\"y\": 0.6247087818390961, \"x\": -0.25309288854254136}, {\"y\": -0.7785175959686179, \"x\": -0.160361658580368}, {\"y\": -0.047849196892003114, \"x\": 0.06825780240274776}]}}, {\"mode\": \"vega-lite\"});\n",
       "</script>"
      ],
      "text/plain": [
       "alt.LayerChart(...)"
      ]
     },
     "execution_count": 262,
     "metadata": {},
     "output_type": "execute_result"
    }
   ],
   "source": [
    "# attempt at using nx_altair to make it interactive\n",
    "# isnt really working, because nx_altair is SHIT. Cant even draw labels\n",
    "\n",
    "G = nx.from_pandas_adjacency(key_combinations)\n",
    "pos = nx.spring_layout(G, iterations=100)\n",
    "weights = [elem[2]/1000 for elem in list(G.edges.data(\"weight\"))]\n",
    "\n",
    "#nx.set_node_attributes(G, total_counts)\n",
    "\n",
    "nxa.draw_networkx(\n",
    "    G, pos=pos,\n",
    "    \n",
    "    #cmap='viridis',\n",
    "    width='weight',\n",
    "    edge_color=\"black\",\n",
    "    node_color = twittercol,\n",
    "    node_tooltip = [\"name\", \"total tweets\"]\n",
    ")\n",
    "viz"
   ]
  },
  {
   "cell_type": "markdown",
   "metadata": {},
   "source": [
    "# Visualize keywords over time\n",
    "\n",
    "collect possible visualizations over time"
   ]
  },
  {
   "cell_type": "code",
   "execution_count": 36,
   "metadata": {},
   "outputs": [],
   "source": [
    "columns1 = list(keyword_data.columns)[1:]\n",
    "columns2 = list(merged_3.columns)[1:]\n",
    "select_box1 = alt.binding_select(options=columns1, name='Keyword')\n",
    "sel1 = alt.selection_single(fields=['column'], bind=select_box1, init={'column': 'social distancing'})\n",
    "select_box2 = alt.binding_select(options=columns2, name='Compare to value')\n",
    "sel2 = alt.selection_single(fields=['column'], bind=select_box2, init={'column': 'new_cases'})\n"
   ]
  },
  {
   "cell_type": "code",
   "execution_count": 38,
   "metadata": {},
   "outputs": [
    {
     "name": "stdout",
     "output_type": "stream",
     "text": [
      "<class 'pandas.core.frame.DataFrame'>\n",
      "Int64Index: 80 entries, 0 to 0\n",
      "Data columns (total 14 columns):\n",
      " #   Column                  Non-Null Count  Dtype         \n",
      "---  ------                  --------------  -----         \n",
      " 0   date                    80 non-null     datetime64[ns]\n",
      " 1   trump                   80 non-null     int64         \n",
      " 2   social distancing       80 non-null     int64         \n",
      " 3   Wuhan                   80 non-null     int64         \n",
      " 4   chinese virus           80 non-null     int64         \n",
      " 5   New York                80 non-null     int64         \n",
      " 6   Los Angeles             80 non-null     int64         \n",
      " 7   Chicago                 80 non-null     int64         \n",
      " 8   Washington              80 non-null     int64         \n",
      " 9   mask                    80 non-null     int64         \n",
      " 10  economy                 80 non-null     int64         \n",
      " 11  healthcare              80 non-null     int64         \n",
      " 12  fauci                   80 non-null     int64         \n",
      " 13  death|deadly|mortality  80 non-null     int64         \n",
      "dtypes: datetime64[ns](1), int64(13)\n",
      "memory usage: 9.4 KB\n"
     ]
    },
    {
     "data": {
      "text/html": [
       "\n",
       "<div id=\"altair-viz-8703963e05db49ae907d6aed2bec1ca5\"></div>\n",
       "<script type=\"text/javascript\">\n",
       "  (function(spec, embedOpt){\n",
       "    let outputDiv = document.currentScript.previousElementSibling;\n",
       "    if (outputDiv.id !== \"altair-viz-8703963e05db49ae907d6aed2bec1ca5\") {\n",
       "      outputDiv = document.getElementById(\"altair-viz-8703963e05db49ae907d6aed2bec1ca5\");\n",
       "    }\n",
       "    const paths = {\n",
       "      \"vega\": \"https://cdn.jsdelivr.net/npm//vega@5?noext\",\n",
       "      \"vega-lib\": \"https://cdn.jsdelivr.net/npm//vega-lib?noext\",\n",
       "      \"vega-lite\": \"https://cdn.jsdelivr.net/npm//vega-lite@4.8.1?noext\",\n",
       "      \"vega-embed\": \"https://cdn.jsdelivr.net/npm//vega-embed@6?noext\",\n",
       "    };\n",
       "\n",
       "    function loadScript(lib) {\n",
       "      return new Promise(function(resolve, reject) {\n",
       "        var s = document.createElement('script');\n",
       "        s.src = paths[lib];\n",
       "        s.async = true;\n",
       "        s.onload = () => resolve(paths[lib]);\n",
       "        s.onerror = () => reject(`Error loading script: ${paths[lib]}`);\n",
       "        document.getElementsByTagName(\"head\")[0].appendChild(s);\n",
       "      });\n",
       "    }\n",
       "\n",
       "    function showError(err) {\n",
       "      outputDiv.innerHTML = `<div class=\"error\" style=\"color:red;\">${err}</div>`;\n",
       "      throw err;\n",
       "    }\n",
       "\n",
       "    function displayChart(vegaEmbed) {\n",
       "      vegaEmbed(outputDiv, spec, embedOpt)\n",
       "        .catch(err => showError(`Javascript Error: ${err.message}<br>This usually means there's a typo in your chart specification. See the javascript console for the full traceback.`));\n",
       "    }\n",
       "\n",
       "    if(typeof define === \"function\" && define.amd) {\n",
       "      requirejs.config({paths});\n",
       "      require([\"vega-embed\"], displayChart, err => showError(`Error loading script: ${err.message}`));\n",
       "    } else if (typeof vegaEmbed === \"function\") {\n",
       "      displayChart(vegaEmbed);\n",
       "    } else {\n",
       "      loadScript(\"vega\")\n",
       "        .then(() => loadScript(\"vega-lite\"))\n",
       "        .then(() => loadScript(\"vega-embed\"))\n",
       "        .catch(showError)\n",
       "        .then(() => displayChart(vegaEmbed));\n",
       "    }\n",
       "  })({\"config\": {\"view\": {\"continuousWidth\": 400, \"continuousHeight\": 300}}, \"layer\": [{\"mark\": {\"type\": \"line\", \"interpolate\": \"monotone\", \"stroke\": \"#eb34eb\"}, \"encoding\": {\"x\": {\"type\": \"temporal\", \"axis\": {\"title\": null}, \"field\": \"date\"}, \"y\": {\"type\": \"quantitative\", \"axis\": {\"title\": \"Keyword appearances\", \"titleColor\": \"#eb34eb\"}, \"field\": \"value\"}}, \"height\": 200, \"selection\": {\"selector007\": {\"type\": \"single\", \"fields\": [\"column\"], \"bind\": {\"input\": \"select\", \"options\": [\"trump\", \"social distancing\", \"Wuhan\", \"chinese virus\", \"New York\", \"Los Angeles\", \"Chicago\", \"Washington\", \"mask\", \"economy\", \"healthcare\", \"fauci\", \"death|deadly|mortality\"], \"name\": \"Keyword\"}, \"init\": {\"column\": \"social distancing\"}}}, \"transform\": [{\"fold\": [\"trump\", \"social distancing\", \"Wuhan\", \"chinese virus\", \"New York\", \"Los Angeles\", \"Chicago\", \"Washington\", \"mask\", \"economy\", \"healthcare\", \"fauci\", \"death|deadly|mortality\"], \"as\": [\"column\", \"value\"]}, {\"filter\": {\"selection\": \"selector007\"}}], \"width\": 500}, {\"mark\": {\"type\": \"line\", \"interpolate\": \"monotone\", \"stroke\": \"#1da1f2\"}, \"encoding\": {\"x\": {\"type\": \"temporal\", \"axis\": {\"title\": null}, \"field\": \"date\"}, \"y\": {\"type\": \"quantitative\", \"axis\": {\"title\": \"Data value\", \"titleColor\": \"#1da1f2\"}, \"field\": \"value\"}}, \"height\": 200, \"selection\": {\"selector008\": {\"type\": \"single\", \"fields\": [\"column\"], \"bind\": {\"input\": \"select\", \"options\": [\"Tweets\", \"total_cases\", \"new_cases\", \"new_deaths\", \"cnn_articles\", \"fox_articles\"], \"name\": \"Compare to value\"}, \"init\": {\"column\": \"new_cases\"}}}, \"transform\": [{\"fold\": [\"Tweets\", \"total_cases\", \"new_cases\", \"new_deaths\", \"cnn_articles\", \"fox_articles\"], \"as\": [\"column\", \"value\"]}, {\"filter\": {\"selection\": \"selector008\"}}], \"width\": 500}], \"data\": {\"name\": \"data-4f6135866ac88a338e77d5349eed2abe\"}, \"resolve\": {\"scale\": {\"y\": \"independent\"}}, \"$schema\": \"https://vega.github.io/schema/vega-lite/v4.8.1.json\", \"datasets\": {\"data-4f6135866ac88a338e77d5349eed2abe\": [{\"date\": \"2020-01-20T00:00:00\", \"trump\": 36, \"social distancing\": 0, \"Wuhan\": 1310, \"chinese virus\": 18, \"New York\": 56, \"Los Angeles\": 16, \"Chicago\": 3, \"Washington\": 16, \"mask\": 41, \"economy\": 11, \"healthcare\": 63, \"fauci\": 1, \"death|deadly|mortality\": 611, \"Tweets\": 100124, \"total_cases\": 478.0, \"new_cases\": 40.0, \"new_deaths\": 0.0, \"cnn_articles\": 0.0, \"fox_articles\": 3.0}, {\"date\": \"2020-01-21T00:00:00\", \"trump\": 151, \"social distancing\": 0, \"Wuhan\": 2138, \"chinese virus\": 12, \"New York\": 91, \"Los Angeles\": 17, \"Chicago\": 53, \"Washington\": 1150, \"mask\": 60, \"economy\": 10, \"healthcare\": 40, \"fauci\": 0, \"death|deadly|mortality\": 827, \"Tweets\": 259864, \"total_cases\": 784.0, \"new_cases\": 306.0, \"new_deaths\": 6.0, \"cnn_articles\": 0.0, \"fox_articles\": 6.0}, {\"date\": \"2020-01-22T00:00:00\", \"trump\": 153, \"social distancing\": 0, \"Wuhan\": 1989, \"chinese virus\": 1, \"New York\": 17, \"Los Angeles\": 3, \"Chicago\": 7, \"Washington\": 105, \"mask\": 70, \"economy\": 6, \"healthcare\": 17, \"fauci\": 0, \"death|deadly|mortality\": 520, \"Tweets\": 508623, \"total_cases\": 1068.0, \"new_cases\": 284.0, \"new_deaths\": 22.0, \"cnn_articles\": 2.0, \"fox_articles\": 10.0}, {\"date\": \"2020-01-23T00:00:00\", \"trump\": 128, \"social distancing\": 0, \"Wuhan\": 1536, \"chinese virus\": 0, \"New York\": 25, \"Los Angeles\": 68, \"Chicago\": 5, \"Washington\": 66, \"mask\": 128, \"economy\": 42, \"healthcare\": 21, \"fauci\": 5, \"death|deadly|mortality\": 511, \"Tweets\": 905673, \"total_cases\": 1262.0, \"new_cases\": 194.0, \"new_deaths\": 0.0, \"cnn_articles\": 2.0, \"fox_articles\": 20.0}, {\"date\": \"2020-01-24T00:00:00\", \"trump\": 194, \"social distancing\": 0, \"Wuhan\": 1305, \"chinese virus\": 3, \"New York\": 65, \"Los Angeles\": 1, \"Chicago\": 211, \"Washington\": 90, \"mask\": 98, \"economy\": 5, \"healthcare\": 20, \"fauci\": 0, \"death|deadly|mortality\": 552, \"Tweets\": 1153245, \"total_cases\": 1794.0, \"new_cases\": 532.0, \"new_deaths\": 18.0, \"cnn_articles\": 0.0, \"fox_articles\": 10.0}, {\"date\": \"2020-01-25T00:00:00\", \"trump\": 94, \"social distancing\": 0, \"Wuhan\": 1127, \"chinese virus\": 3, \"New York\": 20, \"Los Angeles\": 2, \"Chicago\": 39, \"Washington\": 43, \"mask\": 162, \"economy\": 12, \"healthcare\": 25, \"fauci\": 2, \"death|deadly|mortality\": 515, \"Tweets\": 1536784, \"total_cases\": 2700.0, \"new_cases\": 906.0, \"new_deaths\": 30.0, \"cnn_articles\": 0.0, \"fox_articles\": 5.0}, {\"date\": \"2020-01-26T00:00:00\", \"trump\": 215, \"social distancing\": 0, \"Wuhan\": 1252, \"chinese virus\": 4, \"New York\": 22, \"Los Angeles\": 60, \"Chicago\": 22, \"Washington\": 66, \"mask\": 177, \"economy\": 42, \"healthcare\": 23, \"fauci\": 0, \"death|deadly|mortality\": 689, \"Tweets\": 1678953, \"total_cases\": 4046.0, \"new_cases\": 1346.0, \"new_deaths\": 30.0, \"cnn_articles\": 0.0, \"fox_articles\": 9.0}, {\"date\": \"2020-01-27T00:00:00\", \"trump\": 147, \"social distancing\": 0, \"Wuhan\": 1068, \"chinese virus\": 5, \"New York\": 23, \"Los Angeles\": 10, \"Chicago\": 9, \"Washington\": 110, \"mask\": 208, \"economy\": 46, \"healthcare\": 30, \"fauci\": 2, \"death|deadly|mortality\": 422, \"Tweets\": 1467598, \"total_cases\": 5640.0, \"new_cases\": 1594.0, \"new_deaths\": 50.0, \"cnn_articles\": 0.0, \"fox_articles\": 20.0}, {\"date\": \"2020-01-28T00:00:00\", \"trump\": 168, \"social distancing\": 1, \"Wuhan\": 882, \"chinese virus\": 1, \"New York\": 18, \"Los Angeles\": 6, \"Chicago\": 9, \"Washington\": 29, \"mask\": 140, \"economy\": 27, \"healthcare\": 25, \"fauci\": 0, \"death|deadly|mortality\": 400, \"Tweets\": 1497653, \"total_cases\": 9174.0, \"new_cases\": 3534.0, \"new_deaths\": 50.0, \"cnn_articles\": 0.0, \"fox_articles\": 22.0}, {\"date\": \"2020-01-29T00:00:00\", \"trump\": 129, \"social distancing\": 0, \"Wuhan\": 911, \"chinese virus\": 2, \"New York\": 29, \"Los Angeles\": 10, \"Chicago\": 14, \"Washington\": 30, \"mask\": 221, \"economy\": 36, \"healthcare\": 16, \"fauci\": 1, \"death|deadly|mortality\": 426, \"Tweets\": 1623497, \"total_cases\": 12134.0, \"new_cases\": 2960.0, \"new_deaths\": 52.0, \"cnn_articles\": 1.0, \"fox_articles\": 33.0}, {\"date\": \"2020-01-30T00:00:00\", \"trump\": 247, \"social distancing\": 0, \"Wuhan\": 863, \"chinese virus\": 1, \"New York\": 17, \"Los Angeles\": 3, \"Chicago\": 53, \"Washington\": 29, \"mask\": 217, \"economy\": 49, \"healthcare\": 22, \"fauci\": 2, \"death|deadly|mortality\": 396, \"Tweets\": 2010976, \"total_cases\": 15646.0, \"new_cases\": 3512.0, \"new_deaths\": 76.0, \"cnn_articles\": 1.0, \"fox_articles\": 32.0}, {\"date\": \"2020-01-31T00:00:00\", \"trump\": 386, \"social distancing\": 0, \"Wuhan\": 657, \"chinese virus\": 6, \"New York\": 22, \"Los Angeles\": 2, \"Chicago\": 15, \"Washington\": 26, \"mask\": 200, \"economy\": 42, \"healthcare\": 23, \"fauci\": 6, \"death|deadly|mortality\": 308, \"Tweets\": 1997635, \"total_cases\": 19648.0, \"new_cases\": 4002.0, \"new_deaths\": 86.0, \"cnn_articles\": 1.0, \"fox_articles\": 19.0}, {\"date\": \"2020-02-01T00:00:00\", \"trump\": 242, \"social distancing\": 0, \"Wuhan\": 946, \"chinese virus\": 3, \"New York\": 205, \"Los Angeles\": 13, \"Chicago\": 7, \"Washington\": 56, \"mask\": 196, \"economy\": 59, \"healthcare\": 15, \"fauci\": 3, \"death|deadly|mortality\": 580, \"Tweets\": 1287963, \"total_cases\": 23892.0, \"new_cases\": 4244.0, \"new_deaths\": 92.0, \"cnn_articles\": 0.0, \"fox_articles\": 7.0}, {\"date\": \"2020-02-02T00:00:00\", \"trump\": 368, \"social distancing\": 2, \"Wuhan\": 1204, \"chinese virus\": 0, \"New York\": 57, \"Los Angeles\": 4, \"Chicago\": 9, \"Washington\": 61, \"mask\": 162, \"economy\": 81, \"healthcare\": 21, \"fauci\": 5, \"death|deadly|mortality\": 688, \"Tweets\": 1298476, \"total_cases\": 29108.0, \"new_cases\": 5216.0, \"new_deaths\": 92.0, \"cnn_articles\": 0.0, \"fox_articles\": 7.0}, {\"date\": \"2020-02-03T00:00:00\", \"trump\": 147, \"social distancing\": 6, \"Wuhan\": 1038, \"chinese virus\": 3, \"New York\": 38, \"Los Angeles\": 20, \"Chicago\": 13, \"Washington\": 49, \"mask\": 167, \"economy\": 120, \"healthcare\": 26, \"fauci\": 15, \"death|deadly|mortality\": 676, \"Tweets\": 1000752, \"total_cases\": 34744.0, \"new_cases\": 5636.0, \"new_deaths\": 114.0, \"cnn_articles\": 0.0, \"fox_articles\": 20.0}, {\"date\": \"2020-02-04T00:00:00\", \"trump\": 166, \"social distancing\": 1, \"Wuhan\": 935, \"chinese virus\": 0, \"New York\": 53, \"Los Angeles\": 14, \"Chicago\": 16, \"Washington\": 37, \"mask\": 182, \"economy\": 60, \"healthcare\": 24, \"fauci\": 4, \"death|deadly|mortality\": 611, \"Tweets\": 997862, \"total_cases\": 41230.0, \"new_cases\": 6486.0, \"new_deaths\": 130.0, \"cnn_articles\": 1.0, \"fox_articles\": 28.0}, {\"date\": \"2020-02-05T00:00:00\", \"trump\": 252, \"social distancing\": 0, \"Wuhan\": 920, \"chinese virus\": 6, \"New York\": 37, \"Los Angeles\": 16, \"Chicago\": 10, \"Washington\": 35, \"mask\": 194, \"economy\": 117, \"healthcare\": 36, \"fauci\": 2, \"death|deadly|mortality\": 667, \"Tweets\": 803587, \"total_cases\": 49046.0, \"new_cases\": 7816.0, \"new_deaths\": 132.0, \"cnn_articles\": 0.0, \"fox_articles\": 20.0}, {\"date\": \"2020-02-06T00:00:00\", \"trump\": 240, \"social distancing\": 1, \"Wuhan\": 1479, \"chinese virus\": 1, \"New York\": 53, \"Los Angeles\": 7, \"Chicago\": 3, \"Washington\": 44, \"mask\": 190, \"economy\": 72, \"healthcare\": 39, \"fauci\": 2, \"death|deadly|mortality\": 616, \"Tweets\": 834673, \"total_cases\": 56548.0, \"new_cases\": 7502.0, \"new_deaths\": 144.0, \"cnn_articles\": 1.0, \"fox_articles\": 17.0}, {\"date\": \"2020-02-07T00:00:00\", \"trump\": 224, \"social distancing\": 0, \"Wuhan\": 998, \"chinese virus\": 1, \"New York\": 75, \"Los Angeles\": 3, \"Chicago\": 23, \"Washington\": 56, \"mask\": 200, \"economy\": 99, \"healthcare\": 31, \"fauci\": 4, \"death|deadly|mortality\": 862, \"Tweets\": 987563, \"total_cases\": 62984.0, \"new_cases\": 6436.0, \"new_deaths\": 146.0, \"cnn_articles\": 0.0, \"fox_articles\": 22.0}, {\"date\": \"2020-02-08T00:00:00\", \"trump\": 292, \"social distancing\": 0, \"Wuhan\": 1087, \"chinese virus\": 1, \"New York\": 46, \"Los Angeles\": 3, \"Chicago\": 10, \"Washington\": 64, \"mask\": 181, \"economy\": 96, \"healthcare\": 28, \"fauci\": 4, \"death|deadly|mortality\": 1106, \"Tweets\": 803453, \"total_cases\": 69868.0, \"new_cases\": 6884.0, \"new_deaths\": 172.0, \"cnn_articles\": 0.0, \"fox_articles\": 11.0}, {\"date\": \"2020-02-09T00:00:00\", \"trump\": 286, \"social distancing\": 1, \"Wuhan\": 1021, \"chinese virus\": 0, \"New York\": 57, \"Los Angeles\": 14, \"Chicago\": 3, \"Washington\": 143, \"mask\": 200, \"economy\": 87, \"healthcare\": 28, \"fauci\": 2, \"death|deadly|mortality\": 849, \"Tweets\": 796739, \"total_cases\": 75104.0, \"new_cases\": 5236.0, \"new_deaths\": 178.0, \"cnn_articles\": 0.0, \"fox_articles\": 10.0}, {\"date\": \"2020-02-10T00:00:00\", \"trump\": 514, \"social distancing\": 0, \"Wuhan\": 738, \"chinese virus\": 1, \"New York\": 27, \"Los Angeles\": 7, \"Chicago\": 6, \"Washington\": 62, \"mask\": 156, \"economy\": 114, \"healthcare\": 40, \"fauci\": 2, \"death|deadly|mortality\": 805, \"Tweets\": 807654, \"total_cases\": 81088.0, \"new_cases\": 5984.0, \"new_deaths\": 194.0, \"cnn_articles\": 1.0, \"fox_articles\": 13.0}, {\"date\": \"2020-02-11T00:00:00\", \"trump\": 345, \"social distancing\": 0, \"Wuhan\": 881, \"chinese virus\": 0, \"New York\": 32, \"Los Angeles\": 3, \"Chicago\": 8, \"Washington\": 33, \"mask\": 180, \"economy\": 119, \"healthcare\": 47, \"fauci\": 4, \"death|deadly|mortality\": 628, \"Tweets\": 908627, \"total_cases\": 86212.0, \"new_cases\": 5124.0, \"new_deaths\": 216.0, \"cnn_articles\": 4.0, \"fox_articles\": 18.0}, {\"date\": \"2020-02-12T00:00:00\", \"trump\": 296, \"social distancing\": 3, \"Wuhan\": 660, \"chinese virus\": 2, \"New York\": 62, \"Los Angeles\": 12, \"Chicago\": 8, \"Washington\": 34, \"mask\": 187, \"economy\": 90, \"healthcare\": 33, \"fauci\": 6, \"death|deadly|mortality\": 470, \"Tweets\": 911098, \"total_cases\": 90356.0, \"new_cases\": 4144.0, \"new_deaths\": 194.0, \"cnn_articles\": 2.0, \"fox_articles\": 20.0}, {\"date\": \"2020-02-13T00:00:00\", \"trump\": 285, \"social distancing\": 3, \"Wuhan\": 652, \"chinese virus\": 1, \"New York\": 82, \"Los Angeles\": 14, \"Chicago\": 20, \"Washington\": 38, \"mask\": 178, \"economy\": 126, \"healthcare\": 28, \"fauci\": 2, \"death|deadly|mortality\": 579, \"Tweets\": 956877, \"total_cases\": 120658.0, \"new_cases\": 30302.0, \"new_deaths\": 510.0, \"cnn_articles\": 4.0, \"fox_articles\": 21.0}, {\"date\": \"2020-02-14T00:00:00\", \"trump\": 372, \"social distancing\": 1, \"Wuhan\": 820, \"chinese virus\": 0, \"New York\": 54, \"Los Angeles\": 23, \"Chicago\": 24, \"Washington\": 55, \"mask\": 252, \"economy\": 118, \"healthcare\": 53, \"fauci\": 3, \"death|deadly|mortality\": 464, \"Tweets\": 622722, \"total_cases\": 129088.0, \"new_cases\": 8430.0, \"new_deaths\": 26.0, \"cnn_articles\": 6.0, \"fox_articles\": 14.0}, {\"date\": \"2020-02-15T00:00:00\", \"trump\": 348, \"social distancing\": 0, \"Wuhan\": 921, \"chinese virus\": 1, \"New York\": 70, \"Los Angeles\": 7, \"Chicago\": 23, \"Washington\": 48, \"mask\": 222, \"economy\": 95, \"healthcare\": 29, \"fauci\": 1, \"death|deadly|mortality\": 814, \"Tweets\": 624555, \"total_cases\": 134208.0, \"new_cases\": 5120.0, \"new_deaths\": 288.0, \"cnn_articles\": 3.0, \"fox_articles\": 8.0}, {\"date\": \"2020-02-16T00:00:00\", \"trump\": 441, \"social distancing\": 1, \"Wuhan\": 973, \"chinese virus\": 1, \"New York\": 42, \"Los Angeles\": 5, \"Chicago\": 14, \"Washington\": 97, \"mask\": 187, \"economy\": 114, \"healthcare\": 20, \"fauci\": 23, \"death|deadly|mortality\": 599, \"Tweets\": 625127, \"total_cases\": 138532.0, \"new_cases\": 4324.0, \"new_deaths\": 284.0, \"cnn_articles\": 4.0, \"fox_articles\": 6.0}, {\"date\": \"2020-02-17T00:00:00\", \"trump\": 321, \"social distancing\": 2, \"Wuhan\": 724, \"chinese virus\": 0, \"New York\": 74, \"Los Angeles\": 13, \"Chicago\": 8, \"Washington\": 98, \"mask\": 157, \"economy\": 144, \"healthcare\": 40, \"fauci\": 13, \"death|deadly|mortality\": 441, \"Tweets\": 626732, \"total_cases\": 142666.0, \"new_cases\": 4134.0, \"new_deaths\": 212.0, \"cnn_articles\": 5.0, \"fox_articles\": 18.0}, {\"date\": \"2020-02-18T00:00:00\", \"trump\": 316, \"social distancing\": 1, \"Wuhan\": 898, \"chinese virus\": 1, \"New York\": 33, \"Los Angeles\": 20, \"Chicago\": 1, \"Washington\": 97, \"mask\": 197, \"economy\": 126, \"healthcare\": 35, \"fauci\": 5, \"death|deadly|mortality\": 665, \"Tweets\": 628043, \"total_cases\": 146656.0, \"new_cases\": 3990.0, \"new_deaths\": 196.0, \"cnn_articles\": 4.0, \"fox_articles\": 17.0}, {\"date\": \"2020-02-19T00:00:00\", \"trump\": 310, \"social distancing\": 0, \"Wuhan\": 705, \"chinese virus\": 0, \"New York\": 44, \"Los Angeles\": 4, \"Chicago\": 3, \"Washington\": 107, \"mask\": 182, \"economy\": 164, \"healthcare\": 43, \"fauci\": 13, \"death|deadly|mortality\": 547, \"Tweets\": 626237, \"total_cases\": 150384.0, \"new_cases\": 3728.0, \"new_deaths\": 278.0, \"cnn_articles\": 3.0, \"fox_articles\": 12.0}, {\"date\": \"2020-02-20T00:00:00\", \"trump\": 350, \"social distancing\": 1, \"Wuhan\": 590, \"chinese virus\": 0, \"New York\": 37, \"Los Angeles\": 3, \"Chicago\": 9, \"Washington\": 311, \"mask\": 186, \"economy\": 147, \"healthcare\": 48, \"fauci\": 4, \"death|deadly|mortality\": 521, \"Tweets\": 622349, \"total_cases\": 151448.0, \"new_cases\": 1064.0, \"new_deaths\": 232.0, \"cnn_articles\": 2.0, \"fox_articles\": 9.0}, {\"date\": \"2020-02-21T00:00:00\", \"trump\": 307, \"social distancing\": 0, \"Wuhan\": 466, \"chinese virus\": 1, \"New York\": 38, \"Los Angeles\": 3, \"Chicago\": 2, \"Washington\": 92, \"mask\": 123, \"economy\": 109, \"healthcare\": 35, \"fauci\": 3, \"death|deadly|mortality\": 392, \"Tweets\": 954321, \"total_cases\": 153440.0, \"new_cases\": 1992.0, \"new_deaths\": 238.0, \"cnn_articles\": 3.0, \"fox_articles\": 19.0}, {\"date\": \"2020-02-22T00:00:00\", \"trump\": 70, \"social distancing\": 0, \"Wuhan\": 111, \"chinese virus\": 0, \"New York\": 2, \"Los Angeles\": 2, \"Chicago\": 0, \"Washington\": 6, \"mask\": 25, \"economy\": 14, \"healthcare\": 3, \"fauci\": 2, \"death|deadly|mortality\": 88, \"Tweets\": 997638, \"total_cases\": 155610.0, \"new_cases\": 2170.0, \"new_deaths\": 224.0, \"cnn_articles\": 1.0, \"fox_articles\": 4.0}, {\"date\": \"2020-02-23T00:00:00\", \"trump\": 507, \"social distancing\": 1, \"Wuhan\": 444, \"chinese virus\": 0, \"New York\": 38, \"Los Angeles\": 6, \"Chicago\": 2, \"Washington\": 35, \"mask\": 148, \"economy\": 90, \"healthcare\": 27, \"fauci\": 1, \"death|deadly|mortality\": 320, \"Tweets\": 1233511, \"total_cases\": 157628.0, \"new_cases\": 2018.0, \"new_deaths\": 208.0, \"cnn_articles\": 2.0, \"fox_articles\": 4.0}, {\"date\": \"2020-02-24T00:00:00\", \"trump\": 1802, \"social distancing\": 3, \"Wuhan\": 549, \"chinese virus\": 2, \"New York\": 44, \"Los Angeles\": 5, \"Chicago\": 8, \"Washington\": 115, \"mask\": 192, \"economy\": 324, \"healthcare\": 134, \"fauci\": 4, \"death|deadly|mortality\": 511, \"Tweets\": 1643544, \"total_cases\": 158674.0, \"new_cases\": 1046.0, \"new_deaths\": 312.0, \"cnn_articles\": 6.0, \"fox_articles\": 19.0}, {\"date\": \"2020-02-25T00:00:00\", \"trump\": 908, \"social distancing\": 1, \"Wuhan\": 156, \"chinese virus\": 0, \"New York\": 16, \"Los Angeles\": 4, \"Chicago\": 7, \"Washington\": 70, \"mask\": 94, \"economy\": 92, \"healthcare\": 58, \"fauci\": 5, \"death|deadly|mortality\": 246, \"Tweets\": 2844369, \"total_cases\": 160260.0, \"new_cases\": 1586.0, \"new_deaths\": 158.0, \"cnn_articles\": 8.0, \"fox_articles\": 22.0}, {\"date\": \"2020-02-26T00:00:00\", \"trump\": 3498, \"social distancing\": 1, \"Wuhan\": 94, \"chinese virus\": 0, \"New York\": 80, \"Los Angeles\": 19, \"Chicago\": 7, \"Washington\": 191, \"mask\": 100, \"economy\": 50, \"healthcare\": 57, \"fauci\": 25, \"death|deadly|mortality\": 244, \"Tweets\": 3989533, \"total_cases\": 161994.0, \"new_cases\": 1734.0, \"new_deaths\": 128.0, \"cnn_articles\": 9.0, \"fox_articles\": 52.0}, {\"date\": \"2020-02-27T00:00:00\", \"trump\": 1284, \"social distancing\": 0, \"Wuhan\": 100, \"chinese virus\": 0, \"New York\": 65, \"Los Angeles\": 8, \"Chicago\": 12, \"Washington\": 107, \"mask\": 111, \"economy\": 108, \"healthcare\": 52, \"fauci\": 6, \"death|deadly|mortality\": 203, \"Tweets\": 4597412, \"total_cases\": 164222.0, \"new_cases\": 2228.0, \"new_deaths\": 76.0, \"cnn_articles\": 10.0, \"fox_articles\": 69.0}, {\"date\": \"2020-02-28T00:00:00\", \"trump\": 1165, \"social distancing\": 0, \"Wuhan\": 93, \"chinese virus\": 2, \"New York\": 40, \"Los Angeles\": 7, \"Chicago\": 10, \"Washington\": 105, \"mask\": 107, \"economy\": 100, \"healthcare\": 38, \"fauci\": 24, \"death|deadly|mortality\": 211, \"Tweets\": 5685321, \"total_cases\": 166754.0, \"new_cases\": 2532.0, \"new_deaths\": 114.0, \"cnn_articles\": 6.0, \"fox_articles\": 43.0}, {\"date\": \"2020-02-29T00:00:00\", \"trump\": 1401, \"social distancing\": 2, \"Wuhan\": 107, \"chinese virus\": 0, \"New York\": 56, \"Los Angeles\": 5, \"Chicago\": 9, \"Washington\": 326, \"mask\": 170, \"economy\": 63, \"healthcare\": 63, \"fauci\": 26, \"death|deadly|mortality\": 589, \"Tweets\": 4666121, \"total_cases\": 170472.0, \"new_cases\": 3718.0, \"new_deaths\": 128.0, \"cnn_articles\": 6.0, \"fox_articles\": 27.0}, {\"date\": \"2020-03-01T00:00:00\", \"trump\": 960, \"social distancing\": 3, \"Wuhan\": 141, \"chinese virus\": 1, \"New York\": 51, \"Los Angeles\": 6, \"Chicago\": 22, \"Washington\": 239, \"mask\": 173, \"economy\": 100, \"healthcare\": 75, \"fauci\": 12, \"death|deadly|mortality\": 332, \"Tweets\": 3632689, \"total_cases\": 174160.0, \"new_cases\": 3688.0, \"new_deaths\": 116.0, \"cnn_articles\": 9.0, \"fox_articles\": 24.0}, {\"date\": \"2020-03-02T00:00:00\", \"trump\": 877, \"social distancing\": 6, \"Wuhan\": 122, \"chinese virus\": 0, \"New York\": 79, \"Los Angeles\": 3, \"Chicago\": 18, \"Washington\": 300, \"mask\": 206, \"economy\": 84, \"healthcare\": 64, \"fauci\": 15, \"death|deadly|mortality\": 489, \"Tweets\": 4240721, \"total_cases\": 178298.0, \"new_cases\": 4138.0, \"new_deaths\": 134.0, \"cnn_articles\": 9.0, \"fox_articles\": 62.0}, {\"date\": \"2020-03-03T00:00:00\", \"trump\": 832, \"social distancing\": 4, \"Wuhan\": 95, \"chinese virus\": 1, \"New York\": 105, \"Los Angeles\": 9, \"Chicago\": 15, \"Washington\": 167, \"mask\": 150, \"economy\": 78, \"healthcare\": 62, \"fauci\": 26, \"death|deadly|mortality\": 369, \"Tweets\": 4342139, \"total_cases\": 181779.0, \"new_cases\": 3714.0, \"new_deaths\": 144.0, \"cnn_articles\": 7.0, \"fox_articles\": 49.0}, {\"date\": \"2020-03-04T00:00:00\", \"trump\": 642, \"social distancing\": 4, \"Wuhan\": 153, \"chinese virus\": 0, \"New York\": 92, \"Los Angeles\": 51, \"Chicago\": 14, \"Washington\": 103, \"mask\": 186, \"economy\": 115, \"healthcare\": 57, \"fauci\": 6, \"death|deadly|mortality\": 361, \"Tweets\": 4323670, \"total_cases\": 186440.0, \"new_cases\": 4624.0, \"new_deaths\": 168.0, \"cnn_articles\": 14.0, \"fox_articles\": 65.0}, {\"date\": \"2020-03-05T00:00:00\", \"trump\": 818, \"social distancing\": 3, \"Wuhan\": 100, \"chinese virus\": 0, \"New York\": 78, \"Los Angeles\": 26, \"Chicago\": 9, \"Washington\": 125, \"mask\": 144, \"economy\": 72, \"healthcare\": 69, \"fauci\": 5, \"death|deadly|mortality\": 389, \"Tweets\": 4323687, \"total_cases\": 191161.0, \"new_cases\": 4708.0, \"new_deaths\": 160.0, \"cnn_articles\": 12.0, \"fox_articles\": 50.0}, {\"date\": \"2020-03-06T00:00:00\", \"trump\": 937, \"social distancing\": 7, \"Wuhan\": 64, \"chinese virus\": 1, \"New York\": 95, \"Los Angeles\": 26, \"Chicago\": 14, \"Washington\": 209, \"mask\": 92, \"economy\": 102, \"healthcare\": 46, \"fauci\": 8, \"death|deadly|mortality\": 300, \"Tweets\": 4581032, \"total_cases\": 197347.0, \"new_cases\": 6116.0, \"new_deaths\": 204.0, \"cnn_articles\": 16.0, \"fox_articles\": 60.0}, {\"date\": \"2020-03-07T00:00:00\", \"trump\": 841, \"social distancing\": 8, \"Wuhan\": 106, \"chinese virus\": 0, \"New York\": 265, \"Los Angeles\": 23, \"Chicago\": 14, \"Washington\": 248, \"mask\": 164, \"economy\": 45, \"healthcare\": 59, \"fauci\": 4, \"death|deadly|mortality\": 398, \"Tweets\": 4632239, \"total_cases\": 205479.0, \"new_cases\": 8240.0, \"new_deaths\": 208.0, \"cnn_articles\": 9.0, \"fox_articles\": 37.0}, {\"date\": \"2020-03-08T00:00:00\", \"trump\": 334, \"social distancing\": 6, \"Wuhan\": 21, \"chinese virus\": 0, \"New York\": 25, \"Los Angeles\": 4, \"Chicago\": 4, \"Washington\": 75, \"mask\": 43, \"economy\": 28, \"healthcare\": 19, \"fauci\": 7, \"death|deadly|mortality\": 140, \"Tweets\": 4533476, \"total_cases\": 213417.0, \"new_cases\": 7954.0, \"new_deaths\": 194.0, \"cnn_articles\": 7.0, \"fox_articles\": 39.0}, {\"date\": \"2020-03-09T00:00:00\", \"trump\": 1240, \"social distancing\": 13, \"Wuhan\": 109, \"chinese virus\": 0, \"New York\": 65, \"Los Angeles\": 5, \"Chicago\": 11, \"Washington\": 99, \"mask\": 111, \"economy\": 106, \"healthcare\": 44, \"fauci\": 6, \"death|deadly|mortality\": 296, \"Tweets\": 6386122, \"total_cases\": 221758.0, \"new_cases\": 8354.0, \"new_deaths\": 456.0, \"cnn_articles\": 24.0, \"fox_articles\": 89.0}, {\"date\": \"2020-03-10T00:00:00\", \"trump\": 727, \"social distancing\": 40, \"Wuhan\": 108, \"chinese virus\": 3, \"New York\": 71, \"Los Angeles\": 7, \"Chicago\": 15, \"Washington\": 79, \"mask\": 82, \"economy\": 91, \"healthcare\": 60, \"fauci\": 11, \"death|deadly|mortality\": 212, \"Tweets\": 8284672, \"total_cases\": 231310.0, \"new_cases\": 9632.0, \"new_deaths\": 418.0, \"cnn_articles\": 21.0, \"fox_articles\": 104.0}, {\"date\": \"2020-03-11T00:00:00\", \"trump\": 860, \"social distancing\": 48, \"Wuhan\": 82, \"chinese virus\": 3, \"New York\": 57, \"Los Angeles\": 3, \"Chicago\": 29, \"Washington\": 113, \"mask\": 51, \"economy\": 100, \"healthcare\": 54, \"fauci\": 44, \"death|deadly|mortality\": 220, \"Tweets\": 9923317, \"total_cases\": 241730.0, \"new_cases\": 10214.0, \"new_deaths\": 544.0, \"cnn_articles\": 24.0, \"fox_articles\": 107.0}, {\"date\": \"2020-03-12T00:00:00\", \"trump\": 592, \"social distancing\": 28, \"Wuhan\": 78, \"chinese virus\": 1, \"New York\": 31, \"Los Angeles\": 4, \"Chicago\": 12, \"Washington\": 50, \"mask\": 29, \"economy\": 63, \"healthcare\": 40, \"fauci\": 18, \"death|deadly|mortality\": 146, \"Tweets\": 18799722, \"total_cases\": 257471.0, \"new_cases\": 15796.0, \"new_deaths\": 662.0, \"cnn_articles\": 43.0, \"fox_articles\": 185.0}, {\"date\": \"2020-03-13T00:00:00\", \"trump\": 1550, \"social distancing\": 84, \"Wuhan\": 183, \"chinese virus\": 4, \"New York\": 61, \"Los Angeles\": 21, \"Chicago\": 22, \"Washington\": 113, \"mask\": 116, \"economy\": 68, \"healthcare\": 78, \"fauci\": 26, \"death|deadly|mortality\": 230, \"Tweets\": 19802671, \"total_cases\": 276054.0, \"new_cases\": 18902.0, \"new_deaths\": 702.0, \"cnn_articles\": 44.0, \"fox_articles\": 159.0}, {\"date\": \"2020-03-14T00:00:00\", \"trump\": 1396, \"social distancing\": 108, \"Wuhan\": 92, \"chinese virus\": 0, \"New York\": 55, \"Los Angeles\": 12, \"Chicago\": 9, \"Washington\": 112, \"mask\": 68, \"economy\": 26, \"healthcare\": 33, \"fauci\": 5, \"death|deadly|mortality\": 150, \"Tweets\": 16823148, \"total_cases\": 297129.0, \"new_cases\": 20808.0, \"new_deaths\": 884.0, \"cnn_articles\": 25.0, \"fox_articles\": 49.0}, {\"date\": \"2020-03-15T00:00:00\", \"trump\": 536, \"social distancing\": 138, \"Wuhan\": 62, \"chinese virus\": 0, \"New York\": 69, \"Los Angeles\": 9, \"Chicago\": 14, \"Washington\": 119, \"mask\": 46, \"economy\": 80, \"healthcare\": 61, \"fauci\": 29, \"death|deadly|mortality\": 190, \"Tweets\": 16438760, \"total_cases\": 321583.0, \"new_cases\": 24330.0, \"new_deaths\": 734.0, \"cnn_articles\": 17.0, \"fox_articles\": 91.0}, {\"date\": \"2020-03-16T00:00:00\", \"trump\": 618, \"social distancing\": 132, \"Wuhan\": 81, \"chinese virus\": 145, \"New York\": 60, \"Los Angeles\": 16, \"Chicago\": 13, \"Washington\": 72, \"mask\": 34, \"economy\": 48, \"healthcare\": 55, \"fauci\": 4, \"death|deadly|mortality\": 127, \"Tweets\": 17227182, \"total_cases\": 346564.0, \"new_cases\": 24910.0, \"new_deaths\": 1500.0, \"cnn_articles\": 57.0, \"fox_articles\": 204.0}, {\"date\": \"2020-03-17T00:00:00\", \"trump\": 446, \"social distancing\": 135, \"Wuhan\": 106, \"chinese virus\": 83, \"New York\": 46, \"Los Angeles\": 17, \"Chicago\": 21, \"Washington\": 52, \"mask\": 41, \"economy\": 64, \"healthcare\": 50, \"fauci\": 1, \"death|deadly|mortality\": 159, \"Tweets\": 17417142, \"total_cases\": 374982.0, \"new_cases\": 28402.0, \"new_deaths\": 1212.0, \"cnn_articles\": 57.0, \"fox_articles\": 247.0}, {\"date\": \"2020-03-18T00:00:00\", \"trump\": 711, \"social distancing\": 152, \"Wuhan\": 159, \"chinese virus\": 161, \"New York\": 61, \"Los Angeles\": 7, \"Chicago\": 18, \"Washington\": 125, \"mask\": 52, \"economy\": 86, \"healthcare\": 57, \"fauci\": 7, \"death|deadly|mortality\": 220, \"Tweets\": 16561524, \"total_cases\": 409006.0, \"new_cases\": 34012.0, \"new_deaths\": 1624.0, \"cnn_articles\": 57.0, \"fox_articles\": 241.0}, {\"date\": \"2020-03-19T00:00:00\", \"trump\": 592, \"social distancing\": 117, \"Wuhan\": 134, \"chinese virus\": 67, \"New York\": 65, \"Los Angeles\": 21, \"Chicago\": 18, \"Washington\": 96, \"mask\": 61, \"economy\": 60, \"healthcare\": 49, \"fauci\": 22, \"death|deadly|mortality\": 215, \"Tweets\": 16582131, \"total_cases\": 449434.0, \"new_cases\": 40428.0, \"new_deaths\": 1916.0, \"cnn_articles\": 67.0, \"fox_articles\": 246.0}, {\"date\": \"2020-03-20T00:00:00\", \"trump\": 580, \"social distancing\": 120, \"Wuhan\": 75, \"chinese virus\": 47, \"New York\": 103, \"Los Angeles\": 16, \"Chicago\": 23, \"Washington\": 71, \"mask\": 98, \"economy\": 63, \"healthcare\": 50, \"fauci\": 40, \"death|deadly|mortality\": 217, \"Tweets\": 15200259, \"total_cases\": 511626.0, \"new_cases\": 62188.0, \"new_deaths\": 2148.0, \"cnn_articles\": 54.0, \"fox_articles\": 186.0}, {\"date\": \"2020-03-21T00:00:00\", \"trump\": 593, \"social distancing\": 125, \"Wuhan\": 94, \"chinese virus\": 29, \"New York\": 74, \"Los Angeles\": 15, \"Chicago\": 12, \"Washington\": 75, \"mask\": 99, \"economy\": 46, \"healthcare\": 59, \"fauci\": 21, \"death|deadly|mortality\": 331, \"Tweets\": 12861351, \"total_cases\": 575439.0, \"new_cases\": 63818.0, \"new_deaths\": 2770.0, \"cnn_articles\": 30.0, \"fox_articles\": 75.0}, {\"date\": \"2020-03-22T00:00:00\", \"trump\": 815, \"social distancing\": 191, \"Wuhan\": 83, \"chinese virus\": 48, \"New York\": 131, \"Los Angeles\": 9, \"Chicago\": 17, \"Washington\": 116, \"mask\": 107, \"economy\": 62, \"healthcare\": 72, \"fauci\": 56, \"death|deadly|mortality\": 209, \"Tweets\": 14392561, \"total_cases\": 643851.0, \"new_cases\": 68412.0, \"new_deaths\": 3434.0, \"cnn_articles\": 33.0, \"fox_articles\": 101.0}, {\"date\": \"2020-03-23T00:00:00\", \"trump\": 1121, \"social distancing\": 162, \"Wuhan\": 88, \"chinese virus\": 44, \"New York\": 134, \"Los Angeles\": 13, \"Chicago\": 19, \"Washington\": 90, \"mask\": 95, \"economy\": 135, \"healthcare\": 66, \"fauci\": 133, \"death|deadly|mortality\": 293, \"Tweets\": 15446246, \"total_cases\": 712423.0, \"new_cases\": 68572.0, \"new_deaths\": 3376.0, \"cnn_articles\": 54.0, \"fox_articles\": 231.0}, {\"date\": \"2020-03-24T00:00:00\", \"trump\": 792, \"social distancing\": 134, \"Wuhan\": 68, \"chinese virus\": 29, \"New York\": 134, \"Los Angeles\": 27, \"Chicago\": 12, \"Washington\": 56, \"mask\": 71, \"economy\": 129, \"healthcare\": 70, \"fauci\": 41, \"death|deadly|mortality\": 307, \"Tweets\": 14445841, \"total_cases\": 801402.0, \"new_cases\": 88972.0, \"new_deaths\": 3708.0, \"cnn_articles\": 69.0, \"fox_articles\": 253.0}, {\"date\": \"2020-03-25T00:00:00\", \"trump\": 799, \"social distancing\": 134, \"Wuhan\": 93, \"chinese virus\": 31, \"New York\": 124, \"Los Angeles\": 24, \"Chicago\": 14, \"Washington\": 96, \"mask\": 76, \"economy\": 87, \"healthcare\": 67, \"fauci\": 46, \"death|deadly|mortality\": 322, \"Tweets\": 13000269, \"total_cases\": 886169.0, \"new_cases\": 84772.0, \"new_deaths\": 4610.0, \"cnn_articles\": 61.0, \"fox_articles\": 260.0}, {\"date\": \"2020-03-26T00:00:00\", \"trump\": 916, \"social distancing\": 127, \"Wuhan\": 66, \"chinese virus\": 58, \"New York\": 135, \"Los Angeles\": 13, \"Chicago\": 30, \"Washington\": 82, \"mask\": 114, \"economy\": 88, \"healthcare\": 96, \"fauci\": 33, \"death|deadly|mortality\": 361, \"Tweets\": 12236719, \"total_cases\": 993676.0, \"new_cases\": 107500.0, \"new_deaths\": 5288.0, \"cnn_articles\": 81.0, \"fox_articles\": 256.0}, {\"date\": \"2020-03-27T00:00:00\", \"trump\": 902, \"social distancing\": 134, \"Wuhan\": 90, \"chinese virus\": 17, \"New York\": 112, \"Los Angeles\": 17, \"Chicago\": 23, \"Washington\": 86, \"mask\": 106, \"economy\": 66, \"healthcare\": 78, \"fauci\": 27, \"death|deadly|mortality\": 409, \"Tweets\": 12209011, \"total_cases\": 1115708.0, \"new_cases\": 122032.0, \"new_deaths\": 5610.0, \"cnn_articles\": 61.0, \"fox_articles\": 210.0}, {\"date\": \"2020-03-28T00:00:00\", \"trump\": 712, \"social distancing\": 96, \"Wuhan\": 113, \"chinese virus\": 20, \"New York\": 206, \"Los Angeles\": 16, \"Chicago\": 32, \"Washington\": 100, \"mask\": 123, \"economy\": 67, \"healthcare\": 61, \"fauci\": 32, \"death|deadly|mortality\": 546, \"Tweets\": 10434671, \"total_cases\": 1245896.0, \"new_cases\": 130188.0, \"new_deaths\": 6982.0, \"cnn_articles\": 29.0, \"fox_articles\": 84.0}, {\"date\": \"2020-03-29T00:00:00\", \"trump\": 1257, \"social distancing\": 231, \"Wuhan\": 120, \"chinese virus\": 20, \"New York\": 167, \"Los Angeles\": 13, \"Chicago\": 21, \"Washington\": 69, \"mask\": 140, \"economy\": 84, \"healthcare\": 54, \"fauci\": 100, \"death|deadly|mortality\": 577, \"Tweets\": 9333426, \"total_cases\": 1371524.0, \"new_cases\": 125628.0, \"new_deaths\": 7174.0, \"cnn_articles\": 33.0, \"fox_articles\": 108.0}, {\"date\": \"2020-03-30T00:00:00\", \"trump\": 906, \"social distancing\": 173, \"Wuhan\": 87, \"chinese virus\": 22, \"New York\": 133, \"Los Angeles\": 20, \"Chicago\": 24, \"Washington\": 70, \"mask\": 187, \"economy\": 71, \"healthcare\": 107, \"fauci\": 29, \"death|deadly|mortality\": 373, \"Tweets\": 10125714, \"total_cases\": 1486250.0, \"new_cases\": 114726.0, \"new_deaths\": 6456.0, \"cnn_articles\": 60.0, \"fox_articles\": 204.0}, {\"date\": \"2020-03-31T00:00:00\", \"trump\": 1191, \"social distancing\": 163, \"Wuhan\": 71, \"chinese virus\": 18, \"New York\": 133, \"Los Angeles\": 23, \"Chicago\": 9, \"Washington\": 83, \"mask\": 170, \"economy\": 79, \"healthcare\": 96, \"fauci\": 49, \"death|deadly|mortality\": 575, \"Tweets\": 10442432, \"total_cases\": 1615134.0, \"new_cases\": 128976.0, \"new_deaths\": 7972.0, \"cnn_articles\": 75.0, \"fox_articles\": 144.0}, {\"date\": \"2020-04-01T00:00:00\", \"trump\": 1034, \"social distancing\": 131, \"Wuhan\": 110, \"chinese virus\": 23, \"New York\": 140, \"Los Angeles\": 29, \"Chicago\": 21, \"Washington\": 90, \"mask\": 145, \"economy\": 46, \"healthcare\": 71, \"fauci\": 37, \"death|deadly|mortality\": 523, \"Tweets\": 10402981, \"total_cases\": 1764569.0, \"new_cases\": 149348.0, \"new_deaths\": 9348.0, \"cnn_articles\": 71.0, \"fox_articles\": 260.0}, {\"date\": \"2020-04-02T00:00:00\", \"trump\": 1442, \"social distancing\": 140, \"Wuhan\": 103, \"chinese virus\": 20, \"New York\": 180, \"Los Angeles\": 29, \"Chicago\": 41, \"Washington\": 151, \"mask\": 393, \"economy\": 108, \"healthcare\": 108, \"fauci\": 63, \"death|deadly|mortality\": 551, \"Tweets\": 9767918, \"total_cases\": 1919520.0, \"new_cases\": 154946.0, \"new_deaths\": 10020.0, \"cnn_articles\": 85.0, \"fox_articles\": 260.0}, {\"date\": \"2020-04-03T00:00:00\", \"trump\": 820, \"social distancing\": 113, \"Wuhan\": 96, \"chinese virus\": 13, \"New York\": 171, \"Los Angeles\": 42, \"Chicago\": 21, \"Washington\": 109, \"mask\": 432, \"economy\": 96, \"healthcare\": 71, \"fauci\": 58, \"death|deadly|mortality\": 415, \"Tweets\": 9357113, \"total_cases\": 2074434.0, \"new_cases\": 154914.0, \"new_deaths\": 10018.0, \"cnn_articles\": 80.0, \"fox_articles\": 235.0}, {\"date\": \"2020-04-04T00:00:00\", \"trump\": 1002, \"social distancing\": 109, \"Wuhan\": 94, \"chinese virus\": 19, \"New York\": 201, \"Los Angeles\": 23, \"Chicago\": 23, \"Washington\": 117, \"mask\": 265, \"economy\": 79, \"healthcare\": 64, \"fauci\": 64, \"death|deadly|mortality\": 541, \"Tweets\": 7928225, \"total_cases\": 2238094.0, \"new_cases\": 163660.0, \"new_deaths\": 13552.0, \"cnn_articles\": 36.0, \"fox_articles\": 120.0}, {\"date\": \"2020-04-05T00:00:00\", \"trump\": 1394, \"social distancing\": 121, \"Wuhan\": 74, \"chinese virus\": 13, \"New York\": 222, \"Los Angeles\": 15, \"Chicago\": 34, \"Washington\": 109, \"mask\": 242, \"economy\": 71, \"healthcare\": 70, \"fauci\": 149, \"death|deadly|mortality\": 554, \"Tweets\": 7421877, \"total_cases\": 2408425.0, \"new_cases\": 170486.0, \"new_deaths\": 12616.0, \"cnn_articles\": 48.0, \"fox_articles\": 96.0}, {\"date\": \"2020-04-06T00:00:00\", \"trump\": 964, \"social distancing\": 124, \"Wuhan\": 79, \"chinese virus\": 21, \"New York\": 165, \"Los Angeles\": 20, \"Chicago\": 39, \"Washington\": 109, \"mask\": 214, \"economy\": 84, \"healthcare\": 87, \"fauci\": 79, \"death|deadly|mortality\": 446, \"Tweets\": 8153966, \"total_cases\": 2541132.0, \"new_cases\": 132552.0, \"new_deaths\": 9512.0, \"cnn_articles\": 74.0, \"fox_articles\": 169.0}, {\"date\": \"2020-04-07T00:00:00\", \"trump\": 1108, \"social distancing\": 134, \"Wuhan\": 157, \"chinese virus\": 13, \"New York\": 132, \"Los Angeles\": 31, \"Chicago\": 42, \"Washington\": 110, \"mask\": 214, \"economy\": 71, \"healthcare\": 96, \"fauci\": 76, \"death|deadly|mortality\": 622, \"Tweets\": 7877346, \"total_cases\": 2687108.0, \"new_cases\": 145976.0, \"new_deaths\": 10680.0, \"cnn_articles\": 77.0, \"fox_articles\": 230.0}]}}, {\"mode\": \"vega-lite\"});\n",
       "</script>"
      ],
      "text/plain": [
       "alt.LayerChart(...)"
      ]
     },
     "execution_count": 38,
     "metadata": {},
     "output_type": "execute_result"
    }
   ],
   "source": [
    "keyword_data.info()\n",
    "\n",
    "base = alt.Chart(key_merged).encode(\n",
    "    alt.X('date:T', axis=alt.Axis(title=None))\n",
    ").properties(\n",
    "    width=500,\n",
    "    height=200\n",
    ")\n",
    "\n",
    "line_one = base.transform_fold(\n",
    "    columns1,\n",
    "    as_=['column', 'value']\n",
    ").transform_filter(\n",
    "    sel1\n",
    ").mark_line( interpolate='monotone', stroke='#eb34eb').encode(\n",
    "    alt.Y('value:Q',\n",
    "          axis=alt.Axis(title=\"Keyword appearances\", titleColor='#eb34eb'))\n",
    ").add_selection(\n",
    "    sel1\n",
    ")\n",
    "\n",
    "\n",
    "line_two = base.transform_fold(\n",
    "    columns2,\n",
    "    as_=['column', 'value']\n",
    ").transform_filter(\n",
    "    sel2\n",
    ").mark_line( interpolate='monotone', stroke='#1da1f2').encode(\n",
    "    alt.Y('value:Q',\n",
    "          axis=alt.Axis(title=\"Data value\", titleColor='#1da1f2'))\n",
    ").add_selection(\n",
    "    sel2\n",
    ")\n",
    "\n",
    "alt.layer(line_one, line_two).resolve_scale(\n",
    "    y = 'independent'\n",
    ")"
   ]
  },
  {
   "cell_type": "markdown",
   "metadata": {
    "id": "sH7LqR0FLJ5o"
   },
   "source": [
    "# Load data of trending topics from github\n",
    "\n",
    "selecting the fifty most talked about trending topics on twitter\n",
    "\n",
    "manually annotate the wider topic the trend belongs to (C: Coronavirus, P: Politics, D: Tweets related to a special day of the week/year, O: Other topics)\n",
    "\n"
   ]
  },
  {
   "cell_type": "code",
   "execution_count": null,
   "metadata": {
    "id": "BMBWFuiqLJ5p"
   },
   "outputs": [],
   "source": [
    "#trending = pd.read_csv(\"trending_topics_usa.csv\")\n",
    "\n",
    "trending = pd.read_csv(\"https://raw.githubusercontent.com/xxz-jessica/COVID-19_UCD_Challenge/master/Twitter_Trending_Topics/usa_trending.csv\", encoding='latin1')\n",
    "trending[\"date\"] = pd.to_datetime(trending[\"date\"])\n",
    "\n",
    "\n",
    "trending_counted = trending.groupby('trending')['date'].apply(list).reset_index(name='dates')\n",
    "trending_counted2 = trending.groupby(\"trending\").count().reset_index()\n",
    "\n",
    "#trending_counted = trending_counted.sort_values(\"num_dates\", ascending = False)\n",
    "\n",
    "#trending_counted.merge(trending_counted2, left_on =)\n",
    "\n",
    "trending_selected = trending_counted.merge(trending_counted2).sort_values(\"date\", ascending = False)\n",
    "\n",
    "trending_selected = trending_selected[0:50]\n",
    "\n",
    "trending_selected[\"annotation\"] = [\"P\", \"C\", \"O\", \"O\", \"C\", \"P\", \"P\", \"C\", \"P\", \"P\", \"D\", \"D\", \"O\", \"D\", \"D\", \n",
    "                                    \"D\", \"O\", \"D\", \"O\", \"P\", \"D\", \"C\", \"P\", \"D\", \"C\", \"P\", \"C\", \"P\", \"O\", \"O\",\n",
    "                                    \"P\", \"P\", \"O\", \"C\", \"O\", \"O\", \"O\", \"D\", \"P\", \"O\", \"P\", \"P\", \"D\", \"C\", \"P\", \n",
    "                                    \"P\", \"P\", \"P\", \"D\", \"P\"]\n"
   ]
  },
  {
   "cell_type": "markdown",
   "metadata": {
    "id": "tZE9HV_GLJ5t"
   },
   "source": [
    "# Create wordcloud using brunel"
   ]
  },
  {
   "cell_type": "code",
   "execution_count": null,
   "metadata": {
    "id": "KEbGwy2JLJ5u"
   },
   "outputs": [],
   "source": [
    "import brunel"
   ]
  },
  {
   "cell_type": "code",
   "execution_count": null,
   "metadata": {
    "id": "il_zoVPaLJ5z"
   },
   "outputs": [],
   "source": [
    "trending_select\n",
    "%brunel cloud data(\"trending_selected\") size(date) label(trending) tooltip(dates) color(annotation)"
   ]
  }
 ],
 "metadata": {
  "colab": {
   "collapsed_sections": [],
   "name": "Test twitter data from github repo.ipynb",
   "provenance": [],
   "toc_visible": true
  },
  "kernelspec": {
   "display_name": "Python 3",
   "language": "python",
   "name": "python3"
  },
  "language_info": {
   "codemirror_mode": {
    "name": "ipython",
    "version": 3
   },
   "file_extension": ".py",
   "mimetype": "text/x-python",
   "name": "python",
   "nbconvert_exporter": "python",
   "pygments_lexer": "ipython3",
   "version": "3.7.9"
  }
 },
 "nbformat": 4,
 "nbformat_minor": 1
}
