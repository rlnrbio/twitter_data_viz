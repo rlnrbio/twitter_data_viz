{
 "cells": [
  {
   "cell_type": "markdown",
   "metadata": {
    "id": "4eZ1MYQmLJ3b"
   },
   "source": [
    "\n",
    "# Test twitter data from github repo\n",
    "\n",
    "Load data from github repo"
   ]
  },
  {
   "cell_type": "code",
   "execution_count": 2,
   "metadata": {
    "id": "RgO98q3_LJ3d"
   },
   "outputs": [],
   "source": [
    "import pandas as pd\n",
    "import numpy as np\n",
    "import datetime as dt\n",
    "import matplotlib\n",
    "\n",
    "\n",
    "import os\n",
    "import re\n",
    "\n",
    "import networkx as nx\n",
    "import nx_altair as nxa\n",
    "import altair as alt\n",
    "\n",
    "twittercol = '#1da1f2'\n",
    "\n",
    "col2 = \"#0062a2\"\n",
    "\n",
    "range_twittercol = [twittercol,  \"#0062a2\"]"
   ]
  },
  {
   "cell_type": "markdown",
   "metadata": {
    "id": "l1JS-d7lLJ3o"
   },
   "source": [
    "# Load Corona data\n"
   ]
  },
  {
   "cell_type": "code",
   "execution_count": 5,
   "metadata": {
    "colab": {
     "base_uri": "https://localhost:8080/",
     "height": 889
    },
    "id": "PmQVrwcoLJ3s",
    "outputId": "7fc4299d-a7aa-426a-ed82-de75113075dc"
   },
   "outputs": [
    {
     "name": "stdout",
     "output_type": "stream",
     "text": [
      "<class 'pandas.core.frame.DataFrame'>\n",
      "RangeIndex: 51586 entries, 0 to 51585\n",
      "Data columns (total 41 columns):\n",
      " #   Column                           Non-Null Count  Dtype         \n",
      "---  ------                           --------------  -----         \n",
      " 0   iso_code                         51290 non-null  object        \n",
      " 1   continent                        50994 non-null  object        \n",
      " 2   location                         51586 non-null  object        \n",
      " 3   date                             51586 non-null  datetime64[ns]\n",
      " 4   total_cases                      47979 non-null  float64       \n",
      " 5   new_cases                        50705 non-null  float64       \n",
      " 6   new_cases_smoothed               49917 non-null  float64       \n",
      " 7   total_deaths                     39175 non-null  float64       \n",
      " 8   new_deaths                       50705 non-null  float64       \n",
      " 9   new_deaths_smoothed              49917 non-null  float64       \n",
      " 10  total_cases_per_million          47719 non-null  float64       \n",
      " 11  new_cases_per_million            50641 non-null  float64       \n",
      " 12  new_cases_smoothed_per_million   49852 non-null  float64       \n",
      " 13  total_deaths_per_million         38930 non-null  float64       \n",
      " 14  new_deaths_per_million           50641 non-null  float64       \n",
      " 15  new_deaths_smoothed_per_million  49852 non-null  float64       \n",
      " 16  total_tests                      19447 non-null  float64       \n",
      " 17  new_tests                        19096 non-null  float64       \n",
      " 18  total_tests_per_thousand         19447 non-null  float64       \n",
      " 19  new_tests_per_thousand           19096 non-null  float64       \n",
      " 20  new_tests_smoothed               21464 non-null  float64       \n",
      " 21  new_tests_smoothed_per_thousand  21464 non-null  float64       \n",
      " 22  tests_per_case                   19779 non-null  float64       \n",
      " 23  positive_rate                    20117 non-null  float64       \n",
      " 24  tests_units                      22415 non-null  object        \n",
      " 25  stringency_index                 42840 non-null  float64       \n",
      " 26  population                       51290 non-null  float64       \n",
      " 27  population_density               48919 non-null  float64       \n",
      " 28  median_age                       45953 non-null  float64       \n",
      " 29  aged_65_older                    45265 non-null  float64       \n",
      " 30  aged_70_older                    45714 non-null  float64       \n",
      " 31  gdp_per_capita                   45347 non-null  float64       \n",
      " 32  extreme_poverty                  30240 non-null  float64       \n",
      " 33  cardiovasc_death_rate            45933 non-null  float64       \n",
      " 34  diabetes_prevalence              47591 non-null  float64       \n",
      " 35  female_smokers                   35851 non-null  float64       \n",
      " 36  male_smokers                     35392 non-null  float64       \n",
      " 37  handwashing_facilities           21640 non-null  float64       \n",
      " 38  hospital_beds_per_thousand       41430 non-null  float64       \n",
      " 39  life_expectancy                  50636 non-null  float64       \n",
      " 40  human_development_index          44335 non-null  float64       \n",
      "dtypes: datetime64[ns](1), float64(36), object(4)\n",
      "memory usage: 16.1+ MB\n"
     ]
    }
   ],
   "source": [
    "covid_data = pd.read_csv(\"https://covid.ourworldindata.org/data/owid-covid-data.csv\")\n",
    "\n",
    "covid_data[\"date\"] = pd.to_datetime(covid_data[\"date\"])\n",
    "\n",
    "covid_data.info()"
   ]
  },
  {
   "cell_type": "code",
   "execution_count": null,
   "metadata": {
    "colab": {
     "base_uri": "https://localhost:8080/",
     "height": 204
    },
    "id": "j7-T_lnILJ3_",
    "outputId": "9573e879-fbfa-460f-fdbe-e2bbe3db2d43"
   },
   "outputs": [],
   "source": [
    "covid_data[\"date\"] = pd.to_datetime(covid_data[\"date\"])\n",
    "\n",
    "cov_selection = covid_data[[\"date\", \"total_cases\", \"new_cases\", \"new_deaths\"]]\n",
    "\n",
    "cov_selection = cov_selection.groupby('date').sum().reset_index()\n",
    "\n",
    "start_date = '12-31-2019'\n",
    "end_date = '04-07-2020'\n",
    "\n",
    "mask = (cov_selection['date'] > start_date) & (cov_selection['date'] <= end_date)\n",
    "\n",
    "cov_selection = cov_selection.loc[mask]\n",
    "\n",
    "cov_selection.info()"
   ]
  },
  {
   "cell_type": "markdown",
   "metadata": {
    "id": "-ar54jx0LJ4H"
   },
   "source": [
    "# Load news articles from github project\n",
    "\n",
    "Load CNN articles from xlsx file"
   ]
  },
  {
   "cell_type": "code",
   "execution_count": null,
   "metadata": {
    "colab": {
     "base_uri": "https://localhost:8080/",
     "height": 170
    },
    "format": "row",
    "id": "Px4YSULxLJ4I",
    "outputId": "850c80bf-596f-4df2-ac84-37882f134116"
   },
   "outputs": [],
   "source": [
    "cnn_news = pd.read_excel(\"https://github.com/xxz-jessica/COVID-19_UCD_Challenge/blob/master/News_Fox_CNN/CNN_full.xlsx?raw=true\")\n",
    "cnn_news = cnn_news.dropna()\n",
    "\n",
    "cnn_news = cnn_news.rename(columns = {\"true_time\": \"published_date\"})\n",
    "cnn_news[\"published_date\"] = pd.to_datetime(cnn_news[\"published_date\"])\n",
    "\n",
    "counted_news_cnn = cnn_news[\"published_date\"].value_counts()\n",
    "counted_news_cnn = counted_news_cnn.to_frame()\n",
    "mask2 = (counted_news_cnn.index > start_date) & (counted_news_cnn.index <= end_date)\n",
    "counted_news_cnn = counted_news_cnn.loc[mask2]\n",
    "\n",
    "counted_news_cnn.reset_index(level=0, inplace=True)\n",
    "counted_news_cnn = counted_news_cnn.rename(columns = {\"index\" : \"date\", \"published_date\" : \"cnn_articles\"})\n",
    "\n",
    "\n",
    "counted_news_cnn.info()"
   ]
  },
  {
   "cell_type": "code",
   "execution_count": null,
   "metadata": {
    "colab": {
     "base_uri": "https://localhost:8080/",
     "height": 170
    },
    "id": "_dQsR0BdLJ4P",
    "outputId": "1de1e645-c69a-4595-dc3e-dac90029e449"
   },
   "outputs": [],
   "source": [
    "fox_news = pd.read_excel(\"https://github.com/xxz-jessica/COVID-19_UCD_Challenge/blob/master/News_Fox_CNN/foxnews_article_form.xlsx?raw=true\")\n",
    "\n",
    "fox_news = fox_news.dropna()\n",
    "\n",
    "fox_news = fox_news.rename(columns = {\"true_time\": \"published_date\"})\n",
    "\n",
    "fox_news[\"published_date\"] = pd.to_datetime(fox_news[\"published_date\"])\n",
    "\n",
    "counted_news_fox = fox_news[\"published_date\"].value_counts()\n",
    "counted_news_fox = counted_news_fox.to_frame()\n",
    "mask3 = (counted_news_fox.index > start_date) & (counted_news_fox.index <= end_date)\n",
    "counted_news_fox = counted_news_fox.loc[mask3]\n",
    "\n",
    "counted_news_fox.reset_index(level=0, inplace=True)\n",
    "counted_news_fox = counted_news_fox.rename(columns = {\"index\" : \"date\", \"published_date\" : \"fox_articles\"})\n",
    "\n",
    "\n",
    "counted_news_fox.info()"
   ]
  },
  {
   "cell_type": "markdown",
   "metadata": {
    "id": "3pwe_6T2LJ4V"
   },
   "source": [
    "# Visualize number of daily tweets, news articles and Covid cases from github project"
   ]
  },
  {
   "cell_type": "code",
   "execution_count": null,
   "metadata": {
    "colab": {
     "base_uri": "https://localhost:8080/",
     "height": 170
    },
    "id": "U3Ul1Ck5LJ4Y",
    "outputId": "f1260098-4db3-4716-87b5-f902dac84aaf"
   },
   "outputs": [],
   "source": [
    "num_tweets = pd.read_csv(\"https://raw.githubusercontent.com/xxz-jessica/COVID-19_UCD_Challenge/master/Tweet_Raw_Data/tweet_per_day_1.csv\")\n",
    "\n",
    "num_tweets[\"Tweets\"] = num_tweets[\"Tweets\"].str.replace(\",\", \"\").astype(int)\n",
    "num_tweets[\"Day\"] = pd.to_datetime(num_tweets[\"Day\"])\n",
    "\n",
    "num_tweets = num_tweets.rename(columns = {\"Day\": \"date\"})\n",
    "\n",
    "num_tweets.info()\n"
   ]
  },
  {
   "cell_type": "code",
   "execution_count": null,
   "metadata": {
    "colab": {
     "base_uri": "https://localhost:8080/",
     "height": 255
    },
    "id": "aqWvVAgsLJ4g",
    "outputId": "ed49175d-dc72-4247-ff42-422abfb4225c"
   },
   "outputs": [],
   "source": [
    "#merge data\n",
    "merged_3 = pd.merge(num_tweets, cov_selection).merge(counted_news_cnn, how = \"outer\").merge(counted_news_fox, how = \"outer\")\n",
    "merged_3.info()\n",
    "\n",
    "merged_3 = merged_3.fillna(0)"
   ]
  },
  {
   "cell_type": "code",
   "execution_count": null,
   "metadata": {
    "colab": {
     "base_uri": "https://localhost:8080/",
     "height": 253
    },
    "id": "6-A2haLYLJ4m",
    "outputId": "01ba0fdf-74cf-4db9-9877-145266f8fca8"
   },
   "outputs": [],
   "source": [
    "base = alt.Chart(merged_3).encode(\n",
    "    alt.X('date:T', axis=alt.Axis(title=None))\n",
    ").properties(\n",
    "    width=500,\n",
    "    height=200\n",
    ")\n",
    "\n",
    "\n",
    "line_tweets = base.mark_line(stroke='#1da1f2', interpolate='monotone').encode(\n",
    "    alt.Y('Tweets',\n",
    "          axis=alt.Axis(title='Number of tweets', titleColor='#1da1f2'))\n",
    ")\n",
    "\n",
    "line_cases = base.mark_line( interpolate='monotone', stroke='#eb34eb').encode(\n",
    "    alt.Y('new_cases',\n",
    "          axis=alt.Axis(title='New cases', titleColor='#eb34eb'))\n",
    ")\n",
    "\n",
    "alt.layer(line_tweets, line_cases).resolve_scale(\n",
    "    y = 'independent'\n",
    ")"
   ]
  },
  {
   "cell_type": "code",
   "execution_count": null,
   "metadata": {
    "colab": {
     "base_uri": "https://localhost:8080/",
     "height": 275
    },
    "id": "R-xNp6Y6LJ4s",
    "outputId": "9f71b45c-8ba9-4b14-ac9a-e4ab7d2d7044"
   },
   "outputs": [],
   "source": [
    "columns = ['new_cases', 'new_deaths']\n",
    "\n",
    "select_box = alt.binding_select(options=columns, name='Pandemic data')\n",
    "sel = alt.selection_single(fields=['column'], bind=select_box, init={'column': 'new_cases'})\n",
    "\n",
    "base = alt.Chart(merged_3).encode(\n",
    "    alt.X('date:T', axis=alt.Axis(title=None))\n",
    ").properties(\n",
    "    width=500,\n",
    "    height=200\n",
    ")\n",
    "\n",
    "\n",
    "line_cases = base.transform_fold(\n",
    "    columns,\n",
    "    as_=['column', 'value']\n",
    ").transform_filter(\n",
    "    sel  \n",
    ").mark_line( interpolate='monotone', stroke='#eb34eb').encode(\n",
    "    alt.Y('value:Q',\n",
    "          axis=alt.Axis(title=\"value\", titleColor='#eb34eb'))\n",
    ").add_selection(\n",
    "    sel\n",
    ")\n",
    "\n",
    "line_tweets = base.mark_line(stroke='#1da1f2', interpolate='monotone').encode(\n",
    "    alt.Y('Tweets',\n",
    "          axis=alt.Axis(title='Number of tweets', titleColor='#1da1f2'))\n",
    ")\n",
    "\n",
    "alt.layer(line_tweets, line_cases).resolve_scale(\n",
    "    y = 'independent'\n",
    ")"
   ]
  },
  {
   "cell_type": "markdown",
   "metadata": {
    "id": "Uj1o1urnLJ4y"
   },
   "source": [
    "# Compare tweet numbers to news articles on CNN and Fox News"
   ]
  },
  {
   "cell_type": "code",
   "execution_count": null,
   "metadata": {
    "colab": {
     "base_uri": "https://localhost:8080/",
     "height": 275
    },
    "id": "6x3F76Y9LJ4z",
    "outputId": "fb0b6fa2-3419-41df-8d66-530e5eebbf74"
   },
   "outputs": [],
   "source": [
    "columns = ['fox_articles', 'cnn_articles']\n",
    "\n",
    "select_box = alt.binding_select(options=columns, name='News source')\n",
    "sel = alt.selection_single(fields=['column'], bind=select_box, init={'column': 'cnn_articles'})\n",
    "\n",
    "base = alt.Chart(merged_3).encode(\n",
    "    alt.X('date:T', axis=alt.Axis(title=None))\n",
    ").properties(\n",
    "    width=500,\n",
    "    height=200\n",
    ")\n",
    "\n",
    "line_articles = base.transform_fold(\n",
    "    columns,\n",
    "    as_=['column', 'value']\n",
    ").transform_filter(\n",
    "    sel\n",
    ").mark_line( interpolate='monotone', stroke='#eb34eb').encode(\n",
    "    alt.Y('value:Q',\n",
    "          axis=alt.Axis(title=\"value\", titleColor='#eb34eb'))\n",
    ").add_selection(\n",
    "    sel\n",
    ")\n",
    "\n",
    "line_tweets = base.mark_line(stroke='#1da1f2', interpolate='monotone').encode(\n",
    "    alt.Y('Tweets',\n",
    "          axis=alt.Axis(title='Number of tweets', titleColor='#1da1f2'))\n",
    ")\n",
    "\n",
    "alt.layer(line_articles, line_tweets).resolve_scale(\n",
    "    y = 'independent'\n",
    ")"
   ]
  },
  {
   "cell_type": "markdown",
   "metadata": {
    "id": "AxBIXU5NLJ47"
   },
   "source": [
    "# Load downloaded twitter raw data from Github"
   ]
  },
  {
   "cell_type": "code",
   "execution_count": null,
   "metadata": {
    "id": "Nm7qoGToLJ49"
   },
   "outputs": [],
   "source": [
    "\n",
    "#path = r'C:/Users/rapha/DATA_VIS/twitter_project/data/raw_data/'\n",
    "onlinepath = \"https://raw.githubusercontent.com/xxz-jessica/COVID-19_UCD_Challenge/master/Tweet_Raw_Data/raw_data/\"\n",
    "#files = os.listdir(path)\n",
    "\n",
    "### filelist generated through download\n",
    "files_gen = ['covid2019_0120.csv',\n",
    " 'covid2019_0121.csv',\n",
    " 'covid2019_0122.csv',\n",
    " 'covid2019_0123.csv',\n",
    " 'covid2019_0124.csv',\n",
    " 'covid2019_0125.csv',\n",
    " 'covid2019_0126.csv',\n",
    " 'covid2019_0127.csv',\n",
    " 'covid2019_0128.csv',\n",
    " 'covid2019_0129.csv',\n",
    " 'covid2019_0130.csv',\n",
    " 'covid2019_0131.csv',\n",
    " 'covid2019_0201.csv',\n",
    " 'covid2019_0202.csv',\n",
    " 'covid2019_0203.csv',\n",
    " 'covid2019_0204.csv',\n",
    " 'covid2019_0205.csv',\n",
    " 'covid2019_0206.csv',\n",
    " 'covid2019_0207.csv',\n",
    " 'covid2019_0208.csv',\n",
    " 'covid2019_0209.csv',\n",
    " 'covid2019_0210.csv',\n",
    " 'covid2019_0211.csv',\n",
    " 'covid2019_0212.csv',\n",
    " 'covid2019_0213.csv',\n",
    " 'covid2019_0214.csv',\n",
    " 'covid2019_0215.csv',\n",
    " 'covid2019_0216.csv',\n",
    " 'covid2019_0217.csv',\n",
    " 'covid2019_0218.csv',\n",
    " 'covid2019_0219.csv',\n",
    " 'covid2019_0220.csv',\n",
    " 'covid2019_0308.csv',\n",
    " 'covid2019_0309.csv',\n",
    " 'covid2019_0310.csv',\n",
    " 'covid2019_0311.csv',\n",
    " 'covid2019_0312.csv',\n",
    " 'covid2019_0313.csv',\n",
    " 'covid2019_0314.csv',\n",
    " 'covid2019_0315.csv',\n",
    " 'covid2019_0316.csv',\n",
    " 'covid2019_0317.csv',\n",
    " 'covid2019_0318.csv',\n",
    " 'covid2019_0319.csv',\n",
    " 'covid2019_0320.csv',\n",
    " 'covid2019_0321.csv',\n",
    " 'covid2019_0322.csv',\n",
    " 'covid2019_0323.csv',\n",
    " 'covid2019_0324.csv',\n",
    " 'covid2019_0325.csv',\n",
    " 'covid2019_0326.csv',\n",
    " 'covid2019_0327.csv',\n",
    " 'covid2019_0328.csv',\n",
    " 'covid2019_0329.csv',\n",
    " 'covid2019_0330.csv',\n",
    " 'covid2019_0331.csv',\n",
    " 'covid2019_0401.csv',\n",
    " 'covid2019_0402.csv',\n",
    " 'covid2019_0403.csv',\n",
    " 'covid2019_0404.csv',\n",
    " 'covid2019_0405.csv',\n",
    " 'covid2019_0406.csv',\n",
    " 'covid2019_0407.csv',\n",
    " 'covid2019_0408.csv',\n",
    " 'random tweet 2020-02-21.csv',\n",
    " 'random tweet 2020-02-22.csv',\n",
    " 'random tweet 2020-02-23.csv',\n",
    " 'random tweet 2020-02-24.csv',\n",
    " 'random tweet 2020-02-25.csv',\n",
    " 'random tweet 2020-02-26.csv',\n",
    " 'random tweet 2020-02-27.csv',\n",
    " 'random tweet 2020-02-28.csv',\n",
    " 'random tweet 2020-02-29.csv',\n",
    " 'random tweet 2020-03-01.csv',\n",
    " 'random tweet 2020-03-02.csv',\n",
    " 'random tweet 2020-03-03.csv',\n",
    " 'random tweet 2020-03-04.csv',\n",
    " 'random tweet 2020-03-05.csv',\n",
    " 'random tweet 2020-03-06.csv',\n",
    " 'random tweet 2020-03-07.csv']"
   ]
  },
  {
   "cell_type": "code",
   "execution_count": null,
   "metadata": {},
   "outputs": [],
   "source": [
    "if os.path.exists(\"all_twitter_data.csv\"):\n",
    "    covid_twitter_data = pd.read_csv(\"all_twitter_data.csv\", low_memory = False)\n",
    "else: \n",
    "    covid_twitter_data = generate_combined(files_gen)\n",
    "    #save all twitter data in one file\n",
    "    covid_twitter_data.to_csv(\"all_twitter_data.csv\", index = False)\n",
    "\n",
    "covid_twitter_data.info()"
   ]
  },
  {
   "cell_type": "code",
   "execution_count": null,
   "metadata": {},
   "outputs": [],
   "source": [
    "# get number of sampled tweets per day\n",
    "\n",
    "covid_twitter_data[\"timestamp\"] = pd.to_datetime(covid_twitter_data[\"timestamp\"]).map(lambda x: x.date())\n",
    "\n",
    "num = pd.DataFrame(covid_twitter_data[\"timestamp\"].value_counts().sort_index())\n",
    "num[\"date\"] = pd.to_datetime(num.index)\n"
   ]
  },
  {
   "cell_type": "code",
   "execution_count": null,
   "metadata": {
    "colab": {
     "base_uri": "https://localhost:8080/",
     "height": 215
    },
    "id": "LbRr3nbwLJ5D",
    "outputId": "4db80264-a5be-40ce-a234-82788506edc4"
   },
   "outputs": [],
   "source": [
    "# run this only once, once the file is saved it can be loaded\n",
    "def generate_combined(filenames = files_gen):\n",
    "    # Concat the Twitters data into one-table\n",
    "    covid_twitter_data = pd.DataFrame()\n",
    "    for file in files_gen:\n",
    "        dpath = (onlinepath + file).replace(\" \", \"%20\")\n",
    "        print(file)\n",
    "        data = pd.read_csv(dpath)\n",
    "        covid_twitter_data = covid_twitter_data.append(data, ignore_index=True)\n",
    "        covid_twitter_data[\"timestamp\"] = pd.to_datetime(covid_twitter_data[\"timestamp\"])\n",
    "        covid_twitter_data = covid_twitter_data.sort_values(by = [\"timestamp\"])\n",
    "    return covid_twitter_data\n",
    "    "
   ]
  },
  {
   "cell_type": "code",
   "execution_count": null,
   "metadata": {},
   "outputs": [],
   "source": [
    "merged_3_short = merged_3.merge(num, how = \"inner\")\n",
    "\n",
    "merged_3.info()\n",
    "merged_3_short.info()\n",
    "merged_3_short"
   ]
  },
  {
   "cell_type": "code",
   "execution_count": null,
   "metadata": {},
   "outputs": [],
   "source": [
    "melted = merged_3_short[[\"date\", \"Tweets\", \"timestamp\"]].rename(\n",
    "    columns = {\"Tweets\":\"Tweets total\", \"timestamp\":\"Tweets sampled\"}).melt(\"date\")\n",
    "melted[\"value\"] = melted[\"value\"]+ 1\n",
    "melted"
   ]
  },
  {
   "cell_type": "code",
   "execution_count": null,
   "metadata": {},
   "outputs": [],
   "source": [
    "chart = alt.Chart(melted).mark_area(opacity = .6).encode(\n",
    "    y = alt.Y('value',\n",
    "          scale=alt.Scale(type='log'), title = \"Number of Tweets, logscale\", stack = None),\n",
    "    x=\"date:T\",\n",
    "    color=alt.Color('variable', scale=alt.Scale(domain=[\"Tweets total\", \"Tweets sampled\"], range=[twittercol,  \"#0062a2\"]))\n",
    "\n",
    "    ).properties(\n",
    "    width=600,\n",
    "    height=300\n",
    ")\n",
    "\n",
    "\n",
    "nearest = alt.selection(type='single', nearest=True, on='mouseover',\n",
    "                        fields=['date'], empty='none')\n",
    "\n",
    "selectors = alt.Chart(melted).mark_point().encode(\n",
    "    x='date:T',\n",
    "    opacity=alt.value(0),\n",
    ").add_selection(\n",
    "    nearest\n",
    ")\n",
    "\n",
    "points = chart.mark_point().encode(\n",
    "    opacity=alt.condition(nearest, alt.value(1), alt.value(0))\n",
    ")\n",
    "\n",
    "text = chart.mark_text(align='left', dx=5, dy=-5).encode(\n",
    "    text=alt.condition(nearest, \"value:Q\", alt.value(' '))\n",
    ")\n",
    "\n",
    "\n",
    "rules = alt.Chart(melted).mark_rule(color='gray').encode(\n",
    "    x='date:T',\n",
    ").transform_filter(\n",
    "    nearest\n",
    ")\n",
    "\n",
    "alt.layer(chart, selectors, points, rules, text).resolve_scale(\n",
    "    y = 'shared'\n",
    ").properties(\n",
    "    width=600, height=300\n",
    ")"
   ]
  },
  {
   "cell_type": "code",
   "execution_count": null,
   "metadata": {},
   "outputs": [],
   "source": [
    "\n",
    "base = alt.Chart(merged_3_short[[\"date\", \"Tweets\", \"timestamp\"]]).mark_area(\n",
    "    color = twittercol, stroke = twittercol, opacity=1).encode(\n",
    "    alt.Y('Tweets',\n",
    "          scale=alt.Scale(type='log'), title = \"Number of Tweets\"),\n",
    "\n",
    "    x=\"date:T\"\n",
    "    )\n",
    "\n",
    "sampled_tweets = base.mark_area(stroke=twittercol, color = twittercol).encode(\n",
    "    alt.Y('timestamp',\n",
    "          scale=alt.Scale(type='log')),\n",
    "\n",
    "    x=\"date:T\",\n",
    "    )\n",
    "\n",
    "nearest = alt.selection(type='single', nearest=True, on='mouseover',\n",
    "                        fields=['date'], empty='none')\n",
    "\n",
    "selectors = alt.Chart(merged_3_short[[\"date\", \"Tweets\", \"timestamp\"]]).mark_point().encode(\n",
    "    x='date:T',\n",
    "    opacity=alt.value(0),\n",
    ").add_selection(\n",
    "    nearest\n",
    ")\n",
    "\n",
    "\n",
    "points = base.mark_point().encode(\n",
    "    opacity=alt.condition(nearest, alt.value(1), alt.value(0))\n",
    ")\n",
    "\n",
    "points_sampled = sampled_tweets.mark_point().encode(\n",
    "    opacity=alt.condition(nearest, alt.value(1), alt.value(0))\n",
    ")\n",
    "\n",
    "\n",
    "text = base.mark_text(align='left', dx=5, dy=-5).encode(\n",
    "    text=alt.condition(nearest, \"Tweets:Q\", alt.value(' '))\n",
    ")\n",
    "\n",
    "text_sampled = sampled_tweets.mark_text(align='left', dx=5, dy=-5).encode(\n",
    "    text=alt.condition(nearest, \"timestamp:Q\", alt.value(' '))\n",
    ")\n",
    "\n",
    "# Draw a rule at the location of the selection\n",
    "rules = alt.Chart(merged_3_short[[\"date\", \"Tweets\", \"timestamp\"]]).mark_rule(color='gray').encode(\n",
    "    x='date:T',\n",
    ").transform_filter(\n",
    "    nearest\n",
    ")\n",
    "\n",
    "\n",
    "alt.layer(base, sampled_tweets, selectors, points, rules, text, points_sampled, text_sampled).resolve_scale(\n",
    "    y = 'shared'\n",
    ").properties(\n",
    "    width=600, height=300\n",
    ")"
   ]
  },
  {
   "cell_type": "markdown",
   "metadata": {
    "id": "q2M4MvMOLJ5R"
   },
   "source": [
    "# Find keywords in the data\n",
    "\n",
    "keyword_list: global list of keywords we want to search for in the data\n",
    "\n",
    "count_keywords: function to count keywords in a tweet dataframe, best done for each day individually\n"
   ]
  },
  {
   "cell_type": "code",
   "execution_count": null,
   "metadata": {
    "id": "nUbLugSrLJ5S"
   },
   "outputs": [],
   "source": [
    "#use singular word (if plural just adds an \"s\")\n",
    "#for several words use space (eg. \"social distancing\"; \"social_distancing\" and \"socialdistancing\" automatically searched for)\n",
    "#if there are different words with the same meaning that do not contain each other, use \"|\" (eg. \"New York|NY\")\n",
    "#if two words should be in there but not necessarily together, use \".*\" (eg. stay.*home)\n",
    "#if order of two words doesnt matter use \"wash.*hands|hands.*wash\"\n",
    "keyword_list = [\"trump\", \"social distancing\", \"Wuhan\", \"chinese virus\", \"New York\", \"Los Angeles\", \"Chicago\", \"Washington\", \n",
    "               \"mask\", \"economy\", \"health care\", \"fauci\", \"death|deadly|mortality\", \"stay.*home\", \"Flatten the curve\", \n",
    "               \"Outbreak\", \"Epidemic\", \"Pandemic\", \"lockdown\", \"science\", \"China\", \"test\", \"wet market\",\n",
    "               \"travel ban\", \"vaccine\", \"symptoms\", \"wash.*hands\", \"treatment\", \"isolation\", \"panic buying\",\n",
    "               \"toilet paper\"]"
   ]
  },
  {
   "cell_type": "code",
   "execution_count": null,
   "metadata": {
    "id": "6JCYftbfLJ5Z"
   },
   "outputs": [],
   "source": [
    "# keyword counter functions to count from online files\n",
    "def count_keywords(keywords, tweetlist, column = \"text\"):\n",
    "    #function takes a list of keyword and a twitter dataset and counts the number of tweets containing each keyword\n",
    "    #return the keywords and the corresponding tweet counts\n",
    "    #search for words is case insensitive \n",
    "    #if word contains space (social distancing) it also searches for socialdistancing and social_distancing\n",
    "    date = pd.to_datetime(tweetlist[\"timestamp\"][0]).date()\n",
    "    counterdf = pd.DataFrame({'date': [date] })\n",
    "    counterlist = []\n",
    "    for word in keywords:\n",
    "        counter = 0\n",
    "        if \" \" in word:\n",
    "            searchword = word + \"|\" + word.replace(\" \", \"_\") + \"|\" + word.replace(\" \", \"\")\n",
    "        else:\n",
    "            searchword = word\n",
    "        for tweet in tweetlist[column].dropna():\n",
    "            if re.search(searchword, tweet, re.IGNORECASE):\n",
    "                counter = counter + 1\n",
    "        counterdf[word] = counter\n",
    "\n",
    "    return counterdf\n",
    "\n",
    "def count_keywords_complete(path = \"https://raw.githubusercontent.com/xxz-jessica/COVID-19_UCD_Challenge/master/Tweet_Raw_Data/raw_data/\", \n",
    "                            files_gen = files_gen,\n",
    "                            keywords = keyword_list,\n",
    "                            column = \"text\"):\n",
    "    #create dataframe that gives number of tweets containing hashtag for all dates for which data is available\n",
    "    countdata = pd.DataFrame()\n",
    "    for file in files_gen:\n",
    "        dpath = (path + file).replace(\" \", \"%20\")\n",
    "        print(file)\n",
    "        data = pd.read_csv(dpath)\n",
    "        countdata = countdata.append(count_keywords(keywords, data, column))\n",
    "    countdata[\"date\"] = pd.to_datetime(countdata[\"date\"])\n",
    "    countdata = countdata.sort_values(by = [\"date\"])\n",
    "    return countdata\n"
   ]
  },
  {
   "cell_type": "code",
   "execution_count": null,
   "metadata": {},
   "outputs": [],
   "source": [
    "#keyword counter function tocount from big file with tweets from several dates\n",
    "def count_from_all_loaded_data(twitter_data = covid_twitter_data,\n",
    "                              keywords = keyword_list,\n",
    "                              column = \"text\"):\n",
    "    #function to count tweets from large preloaded file with several dates\n",
    "    twitter_data[\"timestamp\"] = pd.to_datetime(twitter_data[\"timestamp\"]).map(lambda x: x.date())\n",
    "    twitter_data = twitter_data.sort_values(by = [\"timestamp\"])\n",
    "\n",
    "    dates = np.unique(twitter_data[\"timestamp\"])\n",
    "    results = pd.DataFrame(np.zeros((len(dates), len(keywords)), dtype = \"int64\"), columns = keywords, index = dates)\n",
    "    \n",
    "    for word in keywords:\n",
    "        print(word)\n",
    "        if \" \" in word:\n",
    "            searchword = word + \"|\" + word.replace(\" \", \"_\") + \"|\" + word.replace(\" \", \"\")\n",
    "        else:\n",
    "            searchword = word\n",
    "\n",
    "        for date in dates:\n",
    "            datemask = (twitter_data['timestamp'] > (date - dt.timedelta(days=1))) & (twitter_data['timestamp'] <= date)\n",
    "            counter = 0\n",
    "            for tweet in twitter_data[datemask][column].dropna():\n",
    "                if re.search(searchword, tweet, re.IGNORECASE):\n",
    "                    counter = counter + 1\n",
    "            results.at[date, word] = counter\n",
    "    results[\"date\"] = results.index\n",
    "    return results\n"
   ]
  },
  {
   "cell_type": "code",
   "execution_count": null,
   "metadata": {
    "colab": {
     "base_uri": "https://localhost:8080/",
     "height": 358
    },
    "id": "D0C4GXZ7LJ5c",
    "outputId": "5f076bc7-8387-41ce-9e8b-e22517b1ccc1",
    "scrolled": false
   },
   "outputs": [],
   "source": [
    "#Select how to count tweets, only run one!!!\n",
    "#If no new keywords were added since last creation of file data\n",
    "#Then no function needs to be run\n",
    "\n",
    "#count the tweets while loading separate files online\n",
    "\"\"\"keyword_data_old = count_keywords_complete(path = \"https://raw.githubusercontent.com/xxz-jessica/COVID-19_UCD_Challenge/master/Tweet_Raw_Data/raw_data/\", \n",
    "                                        files_gen = files_gen,\n",
    "                                        keywords = keyword_list,\n",
    "                                        column = \"text\")\"\"\"\n",
    "\n",
    "#count the tweets from large files with all tweets\n",
    "keyword_data = count_from_all_loaded_data(twitter_data = covid_twitter_data,\n",
    "                                          keywords = keyword_list,\n",
    "                                          column = \"text\")\n",
    "\n",
    "#save keyword data\n",
    "keyword_data.to_csv(\"keyword_counts.csv\", index = False)\n",
    "keyword_data.info()\n"
   ]
  },
  {
   "cell_type": "code",
   "execution_count": 22,
   "metadata": {},
   "outputs": [
    {
     "name": "stdout",
     "output_type": "stream",
     "text": [
      "<class 'pandas.core.frame.DataFrame'>\n",
      "RangeIndex: 80 entries, 0 to 79\n",
      "Data columns (total 32 columns):\n",
      " #   Column                  Non-Null Count  Dtype \n",
      "---  ------                  --------------  ----- \n",
      " 0   trump                   80 non-null     int64 \n",
      " 1   social distancing       80 non-null     int64 \n",
      " 2   Wuhan                   80 non-null     int64 \n",
      " 3   chinese virus           80 non-null     int64 \n",
      " 4   New York                80 non-null     int64 \n",
      " 5   Los Angeles             80 non-null     int64 \n",
      " 6   Chicago                 80 non-null     int64 \n",
      " 7   Washington              80 non-null     int64 \n",
      " 8   mask                    80 non-null     int64 \n",
      " 9   economy                 80 non-null     int64 \n",
      " 10  health care             80 non-null     int64 \n",
      " 11  fauci                   80 non-null     int64 \n",
      " 12  death|deadly|mortality  80 non-null     int64 \n",
      " 13  stay.*home              80 non-null     int64 \n",
      " 14  Flatten the curve       80 non-null     int64 \n",
      " 15  Outbreak                80 non-null     int64 \n",
      " 16  Epidemic                80 non-null     int64 \n",
      " 17  Pandemic                80 non-null     int64 \n",
      " 18  lockdown                80 non-null     int64 \n",
      " 19  science                 80 non-null     int64 \n",
      " 20  China                   80 non-null     int64 \n",
      " 21  test                    80 non-null     int64 \n",
      " 22  wet market              80 non-null     int64 \n",
      " 23  travel ban              80 non-null     int64 \n",
      " 24  vaccine                 80 non-null     int64 \n",
      " 25  symptoms                80 non-null     int64 \n",
      " 26  wash.*hands             80 non-null     int64 \n",
      " 27  treatment               80 non-null     int64 \n",
      " 28  isolation               80 non-null     int64 \n",
      " 29  panic buying            80 non-null     int64 \n",
      " 30  toilet paper            80 non-null     int64 \n",
      " 31  date                    80 non-null     object\n",
      "dtypes: int64(31), object(1)\n",
      "memory usage: 20.1+ KB\n"
     ]
    }
   ],
   "source": [
    "#load keyword data\n",
    "keyword_data = pd.read_csv(r\"C:\\Desktop\\twitter_data_viz\\keyword_counts.csv\")\n",
    "keyword_data.info()"
   ]
  },
  {
   "cell_type": "code",
   "execution_count": 23,
   "metadata": {},
   "outputs": [
    {
     "name": "stdout",
     "output_type": "stream",
     "text": [
      "<class 'pandas.core.frame.DataFrame'>\n",
      "Int64Index: 79 entries, 0 to 78\n",
      "Data columns (total 38 columns):\n",
      " #   Column                  Non-Null Count  Dtype         \n",
      "---  ------                  --------------  -----         \n",
      " 0   trump                   79 non-null     int64         \n",
      " 1   social distancing       79 non-null     int64         \n",
      " 2   Wuhan                   79 non-null     int64         \n",
      " 3   chinese virus           79 non-null     int64         \n",
      " 4   New York                79 non-null     int64         \n",
      " 5   Los Angeles             79 non-null     int64         \n",
      " 6   Chicago                 79 non-null     int64         \n",
      " 7   Washington              79 non-null     int64         \n",
      " 8   mask                    79 non-null     int64         \n",
      " 9   economy                 79 non-null     int64         \n",
      " 10  health care             79 non-null     int64         \n",
      " 11  fauci                   79 non-null     int64         \n",
      " 12  death|deadly|mortality  79 non-null     int64         \n",
      " 13  stay.*home              79 non-null     int64         \n",
      " 14  Flatten the curve       79 non-null     int64         \n",
      " 15  Outbreak                79 non-null     int64         \n",
      " 16  Epidemic                79 non-null     int64         \n",
      " 17  Pandemic                79 non-null     int64         \n",
      " 18  lockdown                79 non-null     int64         \n",
      " 19  science                 79 non-null     int64         \n",
      " 20  China                   79 non-null     int64         \n",
      " 21  test                    79 non-null     int64         \n",
      " 22  wet market              79 non-null     int64         \n",
      " 23  travel ban              79 non-null     int64         \n",
      " 24  vaccine                 79 non-null     int64         \n",
      " 25  symptoms                79 non-null     int64         \n",
      " 26  wash.*hands             79 non-null     int64         \n",
      " 27  treatment               79 non-null     int64         \n",
      " 28  isolation               79 non-null     int64         \n",
      " 29  panic buying            79 non-null     int64         \n",
      " 30  toilet paper            79 non-null     int64         \n",
      " 31  date                    79 non-null     datetime64[ns]\n",
      " 32  Tweets                  79 non-null     int32         \n",
      " 33  total_cases             79 non-null     float64       \n",
      " 34  new_cases               79 non-null     float64       \n",
      " 35  new_deaths              79 non-null     float64       \n",
      " 36  cnn_articles            79 non-null     float64       \n",
      " 37  fox_articles            79 non-null     float64       \n",
      "dtypes: datetime64[ns](1), float64(5), int32(1), int64(31)\n",
      "memory usage: 23.8 KB\n"
     ]
    }
   ],
   "source": [
    "keyword_data[\"date\"] = pd.to_datetime(keyword_data[\"date\"])\n",
    "key_merged = keyword_data.merge(merged_3)\n",
    "key_merged.info()"
   ]
  },
  {
   "cell_type": "markdown",
   "metadata": {},
   "source": [
    "# Count combined appearances of keywords"
   ]
  },
  {
   "cell_type": "code",
   "execution_count": null,
   "metadata": {},
   "outputs": [],
   "source": [
    "def count_keyword_combinations(keywords = keyword_list, tweetlist = covid_twitter_data):\n",
    "    #function to count which combinations of keywords appear in the tweets\n",
    "    results = pd.DataFrame(np.zeros((len(keywords), len(keywords)), dtype = \"int32\"), columns = keywords, index = keywords)\n",
    "    total_counts = pd.Series(np.zeros(len(keywords), dtype = \"int32\"), index = keywords)\n",
    "    for word in keywords:\n",
    "        print(word)\n",
    "        if \" \" in word:\n",
    "            searchword = word + \"|\" + word.replace(\" \", \"_\") + \"|\" + word.replace(\" \", \"\")\n",
    "        else:\n",
    "            searchword = word\n",
    "        for tweet in tweetlist[\"text\"].dropna():\n",
    "            if re.search(searchword, tweet, re.IGNORECASE):\n",
    "                total_counts[word] = total_counts[word] + 1\n",
    "                for word2 in keywords:\n",
    "                    if word == word2:\n",
    "                        continue\n",
    "                    if \" \" in word2:\n",
    "                        searchword2 = word2 + \"|\" + word2.replace(\" \", \"_\") + \"|\" + word2.replace(\" \", \"\")\n",
    "                    else:\n",
    "                        searchword2 = word2\n",
    "                    if re.search(searchword2, tweet, re.IGNORECASE):\n",
    "                        results.at[word, word2] = results.at[word, word2] + 1\n",
    "                        results.at[word2, word] = results.at[word2, word] + 1\n",
    "    return results, total_counts"
   ]
  },
  {
   "cell_type": "code",
   "execution_count": null,
   "metadata": {},
   "outputs": [],
   "source": [
    "# run and save combinations only if since last creation keyword list has been changed\n",
    "key_combinations, total_counts = count_keyword_combinations()  \n",
    "\n",
    "key_combinations.to_csv(\"keyword_combinations.csv\")\n",
    "total_counts.to_csv(\"total_tweets_keywords.csv\")"
   ]
  },
  {
   "cell_type": "code",
   "execution_count": null,
   "metadata": {},
   "outputs": [],
   "source": [
    "# load keyword combinations\n",
    "key_combinations = pd.read_csv(r\"C:\\Desktop\\twitter_data_viz\\keyword_combinations.csv\", index_col = 0)\n",
    "total_counts = pd.read_csv(r\"C:\\Desktop\\twitter_data_viz\\total_tweets_keywords.csv\", index_col = 0, squeeze = True)\n"
   ]
  },
  {
   "cell_type": "code",
   "execution_count": null,
   "metadata": {},
   "outputs": [],
   "source": [
    "G = nx.from_pandas_adjacency(key_combinations)\n",
    "\n",
    "[elem[2] for elem in list(G.edges.data(\"weight\"))]\n",
    "\n",
    "for n in G.nodes():\n",
    "    G.nodes[n][\"name\"] = str(n)\n",
    "    G.nodes[n][\"total tweets\"] = total_counts[str(n)]"
   ]
  },
  {
   "cell_type": "markdown",
   "metadata": {},
   "source": [
    "# Visualize combined appearances of keywords"
   ]
  },
  {
   "cell_type": "code",
   "execution_count": null,
   "metadata": {},
   "outputs": [],
   "source": [
    "weights = [elem[2]/2000 for elem in list(G.edges.data(\"weight\"))]\n",
    "pos = nx.spring_layout(G, iterations=100, k= 35)\n",
    "node_labels = G.nodes()"
   ]
  },
  {
   "cell_type": "code",
   "execution_count": null,
   "metadata": {},
   "outputs": [],
   "source": [
    "# interactive visualization using netgraph\n",
    "import matplotlib.pyplot as plt\n",
    "import matplotlib\n",
    "import netgraph\n",
    "from sklearn import preprocessing\n",
    "import mpld3\n",
    "%matplotlib"
   ]
  },
  {
   "cell_type": "code",
   "execution_count": null,
   "metadata": {},
   "outputs": [],
   "source": [
    "total_counts = total_counts.astype(\"float\")\n",
    "\n",
    "total_values = list(total_counts)\n",
    "total_vals = [np.log(elem)-5 for elem in total_values]\n",
    "total_vals = [((elem - min(total_vals))/(max(total_vals)-min(total_vals)))*8 for elem in total_vals]\n",
    "\n",
    "total_counts_new = pd.Series(total_vals, index = total_counts.index)\n",
    "counts_dict = total_counts_new.to_dict()\n",
    "\n",
    "\n",
    "count_names = pd.Series(total_counts.index, index = total_counts.index)\n",
    "names_dict = count_names.to_dict()\n",
    "\n",
    "edges_list = [elem[2]for elem in list(G.edges.data(\"weight\"))]\n",
    "edges_weight = pd.Series([((elem - min(edges_list))/(max(edges_list)-min(edges_list)))*8 for elem in edges_list], index = list(G.edges()))\n",
    "edges_dict = edges_weight.to_dict()"
   ]
  },
  {
   "cell_type": "code",
   "execution_count": null,
   "metadata": {},
   "outputs": [],
   "source": [
    "#non interactive version\n",
    "matplotlib.use('Qt5Agg')\n",
    "\n",
    "graph, ax = plt.subplots(figsize=(18,18))\n",
    "\n",
    "nodes = nx.draw_networkx_nodes(G, pos, node_color = twittercol, alpha = 0.6, node_size= [elem/50 for elem in list(total_counts)])\n",
    "edges = nx.draw_networkx_edges(G,pos,\n",
    "                    width=weights, edge_color = \"grey\")\n",
    "labels = nx.draw_networkx_labels(G, pos, font_size=12, font_weight= \"bold\")\n",
    "\n",
    "ax.text(\n",
    "    0.70,\n",
    "    0.10,\n",
    "    \"edge width = # times the keywords appeared together\",\n",
    "    horizontalalignment=\"center\",\n",
    "    transform=ax.transAxes,\n",
    "    color = \"grey\",\n",
    "    fontsize = 12\n",
    ")\n",
    "ax.text(\n",
    "    0.70,\n",
    "    0.06,\n",
    "    \"node size = # times the keyword appeared in total\",\n",
    "    horizontalalignment=\"center\",\n",
    "    transform=ax.transAxes,\n",
    "    color = twittercol,\n",
    "    fontsize = 12\n",
    ")\n",
    "\n",
    "plt.show()"
   ]
  },
  {
   "cell_type": "code",
   "execution_count": null,
   "metadata": {
    "scrolled": true
   },
   "outputs": [],
   "source": [
    "matplotlib.use('Qt5Agg')\n",
    "graph, ax = plt.subplots(figsize=(16,12))\n",
    "ax.set(xlim=[-1.2, 1.2], ylim=[-1.2, 1.2])\n",
    "\n",
    "\n",
    "plot_instance = netgraph.InteractiveGraph(graph = G,\n",
    "             node_positions = pos,\n",
    "             node_color = twittercol,\n",
    "             node_edge_color = twittercol,\n",
    "             node_size = counts_dict,\n",
    "             node_labels = names_dict, \n",
    "             node_label_font_size=12,\n",
    "             node_label_font_color='k',\n",
    "             node_label_font_family='sans-serif',\n",
    "             node_label_font_weight='normal',\n",
    "             node_label_font_alpha=1.,\n",
    "             node_label_bbox=dict(alpha=0.),\n",
    "             node_label_horizontalalignment='center',\n",
    "             node_label_verticalalignment='center',\n",
    "             node_label_offset=(0., 0.),\n",
    "             clip_on=False,\n",
    "             ax=None,\n",
    "             edge_width = edges_dict,\n",
    "             edge_color = \"grey\",\n",
    "             draw_arrows = False,\n",
    "             edge_alpha = .8\n",
    "            )\n",
    "\n",
    "ax.text(\n",
    "    0.70,\n",
    "    0.10,\n",
    "    \"edge width = # times the keywords appeared together\",\n",
    "    horizontalalignment=\"center\",\n",
    "    transform=ax.transAxes,\n",
    "    color = \"grey\",\n",
    "    fontsize = 12\n",
    ")\n",
    "ax.text(\n",
    "    0.70,\n",
    "    0.06,\n",
    "    \"node size = # times the keyword appeared in total\",\n",
    "    horizontalalignment=\"center\",\n",
    "    transform=ax.transAxes,\n",
    "    color = twittercol,\n",
    "    fontsize = 12\n",
    ")"
   ]
  },
  {
   "cell_type": "code",
   "execution_count": null,
   "metadata": {},
   "outputs": [],
   "source": [
    "# attempt at using nx_altair to make it interactive\n",
    "# isnt really working, because nx_altair is SHIT. Cant even draw labels\n",
    "\n",
    "G = nx.from_pandas_adjacency(key_combinations)\n",
    "pos = nx.spring_layout(G, iterations=100)\n",
    "weights = [elem[2]/1000 for elem in list(G.edges.data(\"weight\"))]\n",
    "print(pos)\n",
    "#nx.set_node_attributes(G, total_counts)\n",
    "\"\"\"\n",
    "nxa.draw_networkx(\n",
    "    G, pos=pos,\n",
    "    \n",
    "    #cmap='viridis',\n",
    "    width='weight',\n",
    "    edge_color=\"black\",\n",
    "    node_color = twittercol,\n",
    "    node_tooltip = [\"name\", \"total tweets\"]\n",
    ")\"\"\"\n",
    "#viz"
   ]
  },
  {
   "cell_type": "markdown",
   "metadata": {},
   "source": [
    "# Visualize keywords over time\n",
    "\n",
    "collect possible visualizations over time"
   ]
  },
  {
   "cell_type": "code",
   "execution_count": null,
   "metadata": {},
   "outputs": [],
   "source": [
    "keyword_data"
   ]
  },
  {
   "cell_type": "code",
   "execution_count": null,
   "metadata": {},
   "outputs": [],
   "source": [
    "#rename two columns (not sure why that is necessary, but :-|)\n",
    "key_merged.rename(columns = {'stay.*home': \"stay home\", 'wash.*hands': \"wash hands\"})\n",
    "\n",
    "keywordz = list(keyword_data.columns)\n",
    "keywordz.remove('stay.*home')\n",
    "keywordz.remove('wash.*hands')\n",
    "keywordz.append(\"stay home\")\n",
    "keywordz.append(\"wash hands\")\n"
   ]
  },
  {
   "cell_type": "code",
   "execution_count": null,
   "metadata": {},
   "outputs": [],
   "source": [
    "columns1 = list(keywordz)[:-1]\n",
    "columns2 = list(merged_3.columns)[1:]\n",
    "select_box1 = alt.binding_select(options=columns1, name='Keyword')\n",
    "sel1 = alt.selection_single(fields=['column'], bind=select_box1, init={'column': 'trump'})\n",
    "select_box2 = alt.binding_select(options=columns2, name='Compare to value')\n",
    "sel2 = alt.selection_single(fields=['column'], bind=select_box2, init={'column': 'new_cases'})\n"
   ]
  },
  {
   "cell_type": "code",
   "execution_count": null,
   "metadata": {},
   "outputs": [],
   "source": [
    "base = alt.Chart(key_merged).encode(\n",
    "    alt.X('date:T', axis=alt.Axis(title=\"Date\"))\n",
    ").properties(\n",
    "    width=500,\n",
    "    height=200\n",
    ")\n",
    "\n",
    "line_tweets = base.mark_line(stroke='#1da1f2', interpolate='monotone').encode(\n",
    "    alt.Y('Tweets',\n",
    "          axis=alt.Axis(title='Number of tweets', titleColor='#1da1f2')\n",
    "         ))\n",
    "\n",
    "\n",
    "line_one = base.transform_fold(\n",
    "    columns1,\n",
    "    as_=['column', 'value']\n",
    ").transform_filter(\n",
    "    sel1\n",
    ").mark_line( interpolate='monotone', stroke='#eb34eb').encode(\n",
    "    alt.Y('value:Q',\n",
    "          axis=alt.Axis(title=\"Keyword appearances\", titleColor='#eb34eb'))\n",
    ").add_selection(\n",
    "    sel1\n",
    ")\n",
    "\n",
    "line_two = base.transform_fold(\n",
    "    columns2,\n",
    "    as_=['column', 'value']\n",
    ").transform_filter(\n",
    "    sel2\n",
    ").mark_line( interpolate='monotone', stroke='#1da1f2').encode(\n",
    "    alt.Y('value:Q',\n",
    "          axis=alt.Axis(title=\"Data value\", titleColor='#1da1f2'))\n",
    ").add_selection(\n",
    "    sel2\n",
    ")\n",
    "\n",
    "alt.layer(line_one, line_two).resolve_scale(\n",
    "    y = 'independent'\n",
    ")"
   ]
  },
  {
   "cell_type": "code",
   "execution_count": null,
   "metadata": {},
   "outputs": [],
   "source": []
  },
  {
   "cell_type": "code",
   "execution_count": null,
   "metadata": {},
   "outputs": [],
   "source": []
  },
  {
   "cell_type": "markdown",
   "metadata": {},
   "source": [
    "# Visualize Keywords together"
   ]
  },
  {
   "cell_type": "code",
   "execution_count": 3,
   "metadata": {},
   "outputs": [
    {
     "data": {
      "text/html": [
       "<div>\n",
       "<style scoped>\n",
       "    .dataframe tbody tr th:only-of-type {\n",
       "        vertical-align: middle;\n",
       "    }\n",
       "\n",
       "    .dataframe tbody tr th {\n",
       "        vertical-align: top;\n",
       "    }\n",
       "\n",
       "    .dataframe thead th {\n",
       "        text-align: right;\n",
       "    }\n",
       "</style>\n",
       "<table border=\"1\" class=\"dataframe\">\n",
       "  <thead>\n",
       "    <tr style=\"text-align: right;\">\n",
       "      <th></th>\n",
       "      <th>trump</th>\n",
       "      <th>social distancing</th>\n",
       "      <th>Wuhan</th>\n",
       "      <th>chinese virus</th>\n",
       "      <th>New York</th>\n",
       "      <th>Los Angeles</th>\n",
       "      <th>Chicago</th>\n",
       "      <th>Washington</th>\n",
       "      <th>mask</th>\n",
       "      <th>economy</th>\n",
       "      <th>...</th>\n",
       "      <th>wet market</th>\n",
       "      <th>travel ban</th>\n",
       "      <th>vaccine</th>\n",
       "      <th>symptoms</th>\n",
       "      <th>wash.*hands</th>\n",
       "      <th>treatment</th>\n",
       "      <th>isolation</th>\n",
       "      <th>panic buying</th>\n",
       "      <th>toilet paper</th>\n",
       "      <th>date</th>\n",
       "    </tr>\n",
       "  </thead>\n",
       "  <tbody>\n",
       "    <tr>\n",
       "      <th>0</th>\n",
       "      <td>36</td>\n",
       "      <td>0</td>\n",
       "      <td>1310</td>\n",
       "      <td>18</td>\n",
       "      <td>56</td>\n",
       "      <td>16</td>\n",
       "      <td>3</td>\n",
       "      <td>16</td>\n",
       "      <td>41</td>\n",
       "      <td>11</td>\n",
       "      <td>...</td>\n",
       "      <td>3</td>\n",
       "      <td>2</td>\n",
       "      <td>24</td>\n",
       "      <td>188</td>\n",
       "      <td>19</td>\n",
       "      <td>33</td>\n",
       "      <td>11</td>\n",
       "      <td>0</td>\n",
       "      <td>0</td>\n",
       "      <td>2020-01-20</td>\n",
       "    </tr>\n",
       "    <tr>\n",
       "      <th>1</th>\n",
       "      <td>151</td>\n",
       "      <td>0</td>\n",
       "      <td>2138</td>\n",
       "      <td>12</td>\n",
       "      <td>91</td>\n",
       "      <td>17</td>\n",
       "      <td>53</td>\n",
       "      <td>1150</td>\n",
       "      <td>60</td>\n",
       "      <td>10</td>\n",
       "      <td>...</td>\n",
       "      <td>2</td>\n",
       "      <td>10</td>\n",
       "      <td>78</td>\n",
       "      <td>118</td>\n",
       "      <td>57</td>\n",
       "      <td>34</td>\n",
       "      <td>25</td>\n",
       "      <td>0</td>\n",
       "      <td>1</td>\n",
       "      <td>2020-01-21</td>\n",
       "    </tr>\n",
       "    <tr>\n",
       "      <th>2</th>\n",
       "      <td>153</td>\n",
       "      <td>0</td>\n",
       "      <td>1989</td>\n",
       "      <td>1</td>\n",
       "      <td>17</td>\n",
       "      <td>3</td>\n",
       "      <td>7</td>\n",
       "      <td>105</td>\n",
       "      <td>70</td>\n",
       "      <td>6</td>\n",
       "      <td>...</td>\n",
       "      <td>3</td>\n",
       "      <td>38</td>\n",
       "      <td>78</td>\n",
       "      <td>75</td>\n",
       "      <td>17</td>\n",
       "      <td>17</td>\n",
       "      <td>6</td>\n",
       "      <td>0</td>\n",
       "      <td>0</td>\n",
       "      <td>2020-01-22</td>\n",
       "    </tr>\n",
       "    <tr>\n",
       "      <th>3</th>\n",
       "      <td>128</td>\n",
       "      <td>0</td>\n",
       "      <td>1536</td>\n",
       "      <td>0</td>\n",
       "      <td>25</td>\n",
       "      <td>68</td>\n",
       "      <td>5</td>\n",
       "      <td>66</td>\n",
       "      <td>128</td>\n",
       "      <td>42</td>\n",
       "      <td>...</td>\n",
       "      <td>14</td>\n",
       "      <td>30</td>\n",
       "      <td>130</td>\n",
       "      <td>140</td>\n",
       "      <td>34</td>\n",
       "      <td>33</td>\n",
       "      <td>6</td>\n",
       "      <td>0</td>\n",
       "      <td>0</td>\n",
       "      <td>2020-01-23</td>\n",
       "    </tr>\n",
       "    <tr>\n",
       "      <th>4</th>\n",
       "      <td>194</td>\n",
       "      <td>0</td>\n",
       "      <td>1305</td>\n",
       "      <td>3</td>\n",
       "      <td>65</td>\n",
       "      <td>1</td>\n",
       "      <td>211</td>\n",
       "      <td>90</td>\n",
       "      <td>98</td>\n",
       "      <td>5</td>\n",
       "      <td>...</td>\n",
       "      <td>8</td>\n",
       "      <td>33</td>\n",
       "      <td>80</td>\n",
       "      <td>111</td>\n",
       "      <td>29</td>\n",
       "      <td>18</td>\n",
       "      <td>32</td>\n",
       "      <td>0</td>\n",
       "      <td>0</td>\n",
       "      <td>2020-01-24</td>\n",
       "    </tr>\n",
       "  </tbody>\n",
       "</table>\n",
       "<p>5 rows × 32 columns</p>\n",
       "</div>"
      ],
      "text/plain": [
       "   trump  social distancing  Wuhan  chinese virus  New York  Los Angeles  \\\n",
       "0     36                  0   1310             18        56           16   \n",
       "1    151                  0   2138             12        91           17   \n",
       "2    153                  0   1989              1        17            3   \n",
       "3    128                  0   1536              0        25           68   \n",
       "4    194                  0   1305              3        65            1   \n",
       "\n",
       "   Chicago  Washington  mask  economy  ...  wet market  travel ban  vaccine  \\\n",
       "0        3          16    41       11  ...           3           2       24   \n",
       "1       53        1150    60       10  ...           2          10       78   \n",
       "2        7         105    70        6  ...           3          38       78   \n",
       "3        5          66   128       42  ...          14          30      130   \n",
       "4      211          90    98        5  ...           8          33       80   \n",
       "\n",
       "   symptoms  wash.*hands  treatment  isolation  panic buying  toilet paper  \\\n",
       "0       188           19         33         11             0             0   \n",
       "1       118           57         34         25             0             1   \n",
       "2        75           17         17          6             0             0   \n",
       "3       140           34         33          6             0             0   \n",
       "4       111           29         18         32             0             0   \n",
       "\n",
       "         date  \n",
       "0  2020-01-20  \n",
       "1  2020-01-21  \n",
       "2  2020-01-22  \n",
       "3  2020-01-23  \n",
       "4  2020-01-24  \n",
       "\n",
       "[5 rows x 32 columns]"
      ]
     },
     "execution_count": 3,
     "metadata": {},
     "output_type": "execute_result"
    }
   ],
   "source": [
    "keyword_data = pd.read_csv(r\"C:\\Desktop\\twitter_data_viz\\keyword_counts.csv\")\n",
    "keyword_data.head()"
   ]
  },
  {
   "cell_type": "markdown",
   "metadata": {},
   "source": [
    "## First keyword group"
   ]
  },
  {
   "cell_type": "code",
   "execution_count": 37,
   "metadata": {},
   "outputs": [
    {
     "name": "stdout",
     "output_type": "stream",
     "text": [
      "<class 'pandas.core.frame.DataFrame'>\n",
      "RangeIndex: 320 entries, 0 to 319\n",
      "Data columns (total 3 columns):\n",
      " #   Column               Non-Null Count  Dtype \n",
      "---  ------               --------------  ----- \n",
      " 0   date                 320 non-null    object\n",
      " 1   Keyword              320 non-null    object\n",
      " 2   Keyword appearances  320 non-null    int64 \n",
      "dtypes: int64(1), object(2)\n",
      "memory usage: 7.6+ KB\n"
     ]
    }
   ],
   "source": [
    "First = keyword_data[['panic buying', 'toilet paper', 'lockdown','isolation','date']].melt(\"date\")\n",
    "First_Group= First.rename(\n",
    "    columns = {\"value\":\"Keyword appearances\", \"variable\":\"Keyword\"})\n",
    "First_Group.info()\n"
   ]
  },
  {
   "cell_type": "code",
   "execution_count": 38,
   "metadata": {},
   "outputs": [
    {
     "data": {
      "text/html": [
       "\n",
       "<div id=\"altair-viz-36df0086ab4942ad8b709038e0126e8c\"></div>\n",
       "<script type=\"text/javascript\">\n",
       "  (function(spec, embedOpt){\n",
       "    let outputDiv = document.currentScript.previousElementSibling;\n",
       "    if (outputDiv.id !== \"altair-viz-36df0086ab4942ad8b709038e0126e8c\") {\n",
       "      outputDiv = document.getElementById(\"altair-viz-36df0086ab4942ad8b709038e0126e8c\");\n",
       "    }\n",
       "    const paths = {\n",
       "      \"vega\": \"https://cdn.jsdelivr.net/npm//vega@5?noext\",\n",
       "      \"vega-lib\": \"https://cdn.jsdelivr.net/npm//vega-lib?noext\",\n",
       "      \"vega-lite\": \"https://cdn.jsdelivr.net/npm//vega-lite@4.8.1?noext\",\n",
       "      \"vega-embed\": \"https://cdn.jsdelivr.net/npm//vega-embed@6?noext\",\n",
       "    };\n",
       "\n",
       "    function loadScript(lib) {\n",
       "      return new Promise(function(resolve, reject) {\n",
       "        var s = document.createElement('script');\n",
       "        s.src = paths[lib];\n",
       "        s.async = true;\n",
       "        s.onload = () => resolve(paths[lib]);\n",
       "        s.onerror = () => reject(`Error loading script: ${paths[lib]}`);\n",
       "        document.getElementsByTagName(\"head\")[0].appendChild(s);\n",
       "      });\n",
       "    }\n",
       "\n",
       "    function showError(err) {\n",
       "      outputDiv.innerHTML = `<div class=\"error\" style=\"color:red;\">${err}</div>`;\n",
       "      throw err;\n",
       "    }\n",
       "\n",
       "    function displayChart(vegaEmbed) {\n",
       "      vegaEmbed(outputDiv, spec, embedOpt)\n",
       "        .catch(err => showError(`Javascript Error: ${err.message}<br>This usually means there's a typo in your chart specification. See the javascript console for the full traceback.`));\n",
       "    }\n",
       "\n",
       "    if(typeof define === \"function\" && define.amd) {\n",
       "      requirejs.config({paths});\n",
       "      require([\"vega-embed\"], displayChart, err => showError(`Error loading script: ${err.message}`));\n",
       "    } else if (typeof vegaEmbed === \"function\") {\n",
       "      displayChart(vegaEmbed);\n",
       "    } else {\n",
       "      loadScript(\"vega\")\n",
       "        .then(() => loadScript(\"vega-lite\"))\n",
       "        .then(() => loadScript(\"vega-embed\"))\n",
       "        .catch(showError)\n",
       "        .then(() => displayChart(vegaEmbed));\n",
       "    }\n",
       "  })({\"config\": {\"view\": {\"continuousWidth\": 400, \"continuousHeight\": 300}}, \"layer\": [{\"mark\": \"circle\", \"encoding\": {\"color\": {\"type\": \"nominal\", \"field\": \"Keyword\"}, \"opacity\": {\"value\": 0}, \"tooltip\": [{\"type\": \"nominal\", \"field\": \"Keyword\"}, {\"type\": \"quantitative\", \"field\": \"Keyword appearances\"}], \"x\": {\"type\": \"temporal\", \"field\": \"date\"}, \"y\": {\"type\": \"quantitative\", \"axis\": {\"grid\": false}, \"field\": \"Keyword appearances\", \"title\": \"Keyword appearances in dataset\"}}, \"selection\": {\"selector017\": {\"type\": \"single\", \"on\": \"mouseover\", \"fields\": [\"Keyword\"], \"nearest\": true}}, \"width\": 600}, {\"mark\": \"line\", \"encoding\": {\"color\": {\"type\": \"nominal\", \"field\": \"Keyword\"}, \"size\": {\"condition\": {\"value\": 1, \"selection\": {\"not\": \"selector017\"}}, \"value\": 3}, \"tooltip\": [{\"type\": \"nominal\", \"field\": \"Keyword\"}, {\"type\": \"quantitative\", \"field\": \"Keyword appearances\"}], \"x\": {\"type\": \"temporal\", \"field\": \"date\"}, \"y\": {\"type\": \"quantitative\", \"axis\": {\"grid\": false}, \"field\": \"Keyword appearances\", \"title\": \"Keyword appearances in dataset\"}}}], \"data\": {\"name\": \"data-a69065cbca4d6bc9cc0b7650dc862b5d\"}, \"$schema\": \"https://vega.github.io/schema/vega-lite/v4.8.1.json\", \"datasets\": {\"data-a69065cbca4d6bc9cc0b7650dc862b5d\": [{\"date\": \"2020-01-20\", \"Keyword\": \"panic buying\", \"Keyword appearances\": 0}, {\"date\": \"2020-01-21\", \"Keyword\": \"panic buying\", \"Keyword appearances\": 0}, {\"date\": \"2020-01-22\", \"Keyword\": \"panic buying\", \"Keyword appearances\": 0}, {\"date\": \"2020-01-23\", \"Keyword\": \"panic buying\", \"Keyword appearances\": 0}, {\"date\": \"2020-01-24\", \"Keyword\": \"panic buying\", \"Keyword appearances\": 0}, {\"date\": \"2020-01-25\", \"Keyword\": \"panic buying\", \"Keyword appearances\": 0}, {\"date\": \"2020-01-26\", \"Keyword\": \"panic buying\", \"Keyword appearances\": 1}, {\"date\": \"2020-01-27\", \"Keyword\": \"panic buying\", \"Keyword appearances\": 1}, {\"date\": \"2020-01-28\", \"Keyword\": \"panic buying\", \"Keyword appearances\": 0}, {\"date\": \"2020-01-29\", \"Keyword\": \"panic buying\", \"Keyword appearances\": 0}, {\"date\": \"2020-01-30\", \"Keyword\": \"panic buying\", \"Keyword appearances\": 0}, {\"date\": \"2020-01-31\", \"Keyword\": \"panic buying\", \"Keyword appearances\": 0}, {\"date\": \"2020-02-01\", \"Keyword\": \"panic buying\", \"Keyword appearances\": 4}, {\"date\": \"2020-02-02\", \"Keyword\": \"panic buying\", \"Keyword appearances\": 3}, {\"date\": \"2020-02-03\", \"Keyword\": \"panic buying\", \"Keyword appearances\": 0}, {\"date\": \"2020-02-04\", \"Keyword\": \"panic buying\", \"Keyword appearances\": 0}, {\"date\": \"2020-02-05\", \"Keyword\": \"panic buying\", \"Keyword appearances\": 1}, {\"date\": \"2020-02-06\", \"Keyword\": \"panic buying\", \"Keyword appearances\": 6}, {\"date\": \"2020-02-07\", \"Keyword\": \"panic buying\", \"Keyword appearances\": 2}, {\"date\": \"2020-02-08\", \"Keyword\": \"panic buying\", \"Keyword appearances\": 4}, {\"date\": \"2020-02-09\", \"Keyword\": \"panic buying\", \"Keyword appearances\": 3}, {\"date\": \"2020-02-10\", \"Keyword\": \"panic buying\", \"Keyword appearances\": 1}, {\"date\": \"2020-02-11\", \"Keyword\": \"panic buying\", \"Keyword appearances\": 2}, {\"date\": \"2020-02-12\", \"Keyword\": \"panic buying\", \"Keyword appearances\": 2}, {\"date\": \"2020-02-13\", \"Keyword\": \"panic buying\", \"Keyword appearances\": 0}, {\"date\": \"2020-02-14\", \"Keyword\": \"panic buying\", \"Keyword appearances\": 1}, {\"date\": \"2020-02-15\", \"Keyword\": \"panic buying\", \"Keyword appearances\": 0}, {\"date\": \"2020-02-16\", \"Keyword\": \"panic buying\", \"Keyword appearances\": 0}, {\"date\": \"2020-02-17\", \"Keyword\": \"panic buying\", \"Keyword appearances\": 1}, {\"date\": \"2020-02-18\", \"Keyword\": \"panic buying\", \"Keyword appearances\": 1}, {\"date\": \"2020-02-19\", \"Keyword\": \"panic buying\", \"Keyword appearances\": 0}, {\"date\": \"2020-02-20\", \"Keyword\": \"panic buying\", \"Keyword appearances\": 1}, {\"date\": \"2020-02-21\", \"Keyword\": \"panic buying\", \"Keyword appearances\": 0}, {\"date\": \"2020-02-22\", \"Keyword\": \"panic buying\", \"Keyword appearances\": 1}, {\"date\": \"2020-02-23\", \"Keyword\": \"panic buying\", \"Keyword appearances\": 6}, {\"date\": \"2020-02-24\", \"Keyword\": \"panic buying\", \"Keyword appearances\": 13}, {\"date\": \"2020-02-25\", \"Keyword\": \"panic buying\", \"Keyword appearances\": 3}, {\"date\": \"2020-02-26\", \"Keyword\": \"panic buying\", \"Keyword appearances\": 0}, {\"date\": \"2020-02-27\", \"Keyword\": \"panic buying\", \"Keyword appearances\": 2}, {\"date\": \"2020-02-28\", \"Keyword\": \"panic buying\", \"Keyword appearances\": 7}, {\"date\": \"2020-02-29\", \"Keyword\": \"panic buying\", \"Keyword appearances\": 9}, {\"date\": \"2020-03-01\", \"Keyword\": \"panic buying\", \"Keyword appearances\": 10}, {\"date\": \"2020-03-02\", \"Keyword\": \"panic buying\", \"Keyword appearances\": 25}, {\"date\": \"2020-03-03\", \"Keyword\": \"panic buying\", \"Keyword appearances\": 18}, {\"date\": \"2020-03-04\", \"Keyword\": \"panic buying\", \"Keyword appearances\": 19}, {\"date\": \"2020-03-05\", \"Keyword\": \"panic buying\", \"Keyword appearances\": 7}, {\"date\": \"2020-03-06\", \"Keyword\": \"panic buying\", \"Keyword appearances\": 13}, {\"date\": \"2020-03-07\", \"Keyword\": \"panic buying\", \"Keyword appearances\": 48}, {\"date\": \"2020-03-08\", \"Keyword\": \"panic buying\", \"Keyword appearances\": 7}, {\"date\": \"2020-03-09\", \"Keyword\": \"panic buying\", \"Keyword appearances\": 31}, {\"date\": \"2020-03-10\", \"Keyword\": \"panic buying\", \"Keyword appearances\": 13}, {\"date\": \"2020-03-11\", \"Keyword\": \"panic buying\", \"Keyword appearances\": 14}, {\"date\": \"2020-03-12\", \"Keyword\": \"panic buying\", \"Keyword appearances\": 13}, {\"date\": \"2020-03-13\", \"Keyword\": \"panic buying\", \"Keyword appearances\": 46}, {\"date\": \"2020-03-14\", \"Keyword\": \"panic buying\", \"Keyword appearances\": 36}, {\"date\": \"2020-03-15\", \"Keyword\": \"panic buying\", \"Keyword appearances\": 11}, {\"date\": \"2020-03-16\", \"Keyword\": \"panic buying\", \"Keyword appearances\": 15}, {\"date\": \"2020-03-17\", \"Keyword\": \"panic buying\", \"Keyword appearances\": 15}, {\"date\": \"2020-03-18\", \"Keyword\": \"panic buying\", \"Keyword appearances\": 16}, {\"date\": \"2020-03-19\", \"Keyword\": \"panic buying\", \"Keyword appearances\": 11}, {\"date\": \"2020-03-20\", \"Keyword\": \"panic buying\", \"Keyword appearances\": 14}, {\"date\": \"2020-03-21\", \"Keyword\": \"panic buying\", \"Keyword appearances\": 7}, {\"date\": \"2020-03-22\", \"Keyword\": \"panic buying\", \"Keyword appearances\": 10}, {\"date\": \"2020-03-23\", \"Keyword\": \"panic buying\", \"Keyword appearances\": 3}, {\"date\": \"2020-03-24\", \"Keyword\": \"panic buying\", \"Keyword appearances\": 1}, {\"date\": \"2020-03-25\", \"Keyword\": \"panic buying\", \"Keyword appearances\": 2}, {\"date\": \"2020-03-26\", \"Keyword\": \"panic buying\", \"Keyword appearances\": 4}, {\"date\": \"2020-03-27\", \"Keyword\": \"panic buying\", \"Keyword appearances\": 1}, {\"date\": \"2020-03-28\", \"Keyword\": \"panic buying\", \"Keyword appearances\": 3}, {\"date\": \"2020-03-29\", \"Keyword\": \"panic buying\", \"Keyword appearances\": 2}, {\"date\": \"2020-03-30\", \"Keyword\": \"panic buying\", \"Keyword appearances\": 3}, {\"date\": \"2020-03-31\", \"Keyword\": \"panic buying\", \"Keyword appearances\": 2}, {\"date\": \"2020-04-01\", \"Keyword\": \"panic buying\", \"Keyword appearances\": 1}, {\"date\": \"2020-04-02\", \"Keyword\": \"panic buying\", \"Keyword appearances\": 2}, {\"date\": \"2020-04-03\", \"Keyword\": \"panic buying\", \"Keyword appearances\": 1}, {\"date\": \"2020-04-04\", \"Keyword\": \"panic buying\", \"Keyword appearances\": 2}, {\"date\": \"2020-04-05\", \"Keyword\": \"panic buying\", \"Keyword appearances\": 0}, {\"date\": \"2020-04-06\", \"Keyword\": \"panic buying\", \"Keyword appearances\": 4}, {\"date\": \"2020-04-07\", \"Keyword\": \"panic buying\", \"Keyword appearances\": 2}, {\"date\": \"2020-04-08\", \"Keyword\": \"panic buying\", \"Keyword appearances\": 1}, {\"date\": \"2020-01-20\", \"Keyword\": \"toilet paper\", \"Keyword appearances\": 0}, {\"date\": \"2020-01-21\", \"Keyword\": \"toilet paper\", \"Keyword appearances\": 1}, {\"date\": \"2020-01-22\", \"Keyword\": \"toilet paper\", \"Keyword appearances\": 0}, {\"date\": \"2020-01-23\", \"Keyword\": \"toilet paper\", \"Keyword appearances\": 0}, {\"date\": \"2020-01-24\", \"Keyword\": \"toilet paper\", \"Keyword appearances\": 0}, {\"date\": \"2020-01-25\", \"Keyword\": \"toilet paper\", \"Keyword appearances\": 0}, {\"date\": \"2020-01-26\", \"Keyword\": \"toilet paper\", \"Keyword appearances\": 0}, {\"date\": \"2020-01-27\", \"Keyword\": \"toilet paper\", \"Keyword appearances\": 0}, {\"date\": \"2020-01-28\", \"Keyword\": \"toilet paper\", \"Keyword appearances\": 0}, {\"date\": \"2020-01-29\", \"Keyword\": \"toilet paper\", \"Keyword appearances\": 0}, {\"date\": \"2020-01-30\", \"Keyword\": \"toilet paper\", \"Keyword appearances\": 0}, {\"date\": \"2020-01-31\", \"Keyword\": \"toilet paper\", \"Keyword appearances\": 1}, {\"date\": \"2020-02-01\", \"Keyword\": \"toilet paper\", \"Keyword appearances\": 0}, {\"date\": \"2020-02-02\", \"Keyword\": \"toilet paper\", \"Keyword appearances\": 0}, {\"date\": \"2020-02-03\", \"Keyword\": \"toilet paper\", \"Keyword appearances\": 0}, {\"date\": \"2020-02-04\", \"Keyword\": \"toilet paper\", \"Keyword appearances\": 0}, {\"date\": \"2020-02-05\", \"Keyword\": \"toilet paper\", \"Keyword appearances\": 2}, {\"date\": \"2020-02-06\", \"Keyword\": \"toilet paper\", \"Keyword appearances\": 5}, {\"date\": \"2020-02-07\", \"Keyword\": \"toilet paper\", \"Keyword appearances\": 4}, {\"date\": \"2020-02-08\", \"Keyword\": \"toilet paper\", \"Keyword appearances\": 7}, {\"date\": \"2020-02-09\", \"Keyword\": \"toilet paper\", \"Keyword appearances\": 3}, {\"date\": \"2020-02-10\", \"Keyword\": \"toilet paper\", \"Keyword appearances\": 0}, {\"date\": \"2020-02-11\", \"Keyword\": \"toilet paper\", \"Keyword appearances\": 0}, {\"date\": \"2020-02-12\", \"Keyword\": \"toilet paper\", \"Keyword appearances\": 0}, {\"date\": \"2020-02-13\", \"Keyword\": \"toilet paper\", \"Keyword appearances\": 0}, {\"date\": \"2020-02-14\", \"Keyword\": \"toilet paper\", \"Keyword appearances\": 3}, {\"date\": \"2020-02-15\", \"Keyword\": \"toilet paper\", \"Keyword appearances\": 2}, {\"date\": \"2020-02-16\", \"Keyword\": \"toilet paper\", \"Keyword appearances\": 0}, {\"date\": \"2020-02-17\", \"Keyword\": \"toilet paper\", \"Keyword appearances\": 42}, {\"date\": \"2020-02-18\", \"Keyword\": \"toilet paper\", \"Keyword appearances\": 8}, {\"date\": \"2020-02-19\", \"Keyword\": \"toilet paper\", \"Keyword appearances\": 2}, {\"date\": \"2020-02-20\", \"Keyword\": \"toilet paper\", \"Keyword appearances\": 0}, {\"date\": \"2020-02-21\", \"Keyword\": \"toilet paper\", \"Keyword appearances\": 1}, {\"date\": \"2020-02-22\", \"Keyword\": \"toilet paper\", \"Keyword appearances\": 1}, {\"date\": \"2020-02-23\", \"Keyword\": \"toilet paper\", \"Keyword appearances\": 2}, {\"date\": \"2020-02-24\", \"Keyword\": \"toilet paper\", \"Keyword appearances\": 1}, {\"date\": \"2020-02-25\", \"Keyword\": \"toilet paper\", \"Keyword appearances\": 1}, {\"date\": \"2020-02-26\", \"Keyword\": \"toilet paper\", \"Keyword appearances\": 0}, {\"date\": \"2020-02-27\", \"Keyword\": \"toilet paper\", \"Keyword appearances\": 1}, {\"date\": \"2020-02-28\", \"Keyword\": \"toilet paper\", \"Keyword appearances\": 5}, {\"date\": \"2020-02-29\", \"Keyword\": \"toilet paper\", \"Keyword appearances\": 13}, {\"date\": \"2020-03-01\", \"Keyword\": \"toilet paper\", \"Keyword appearances\": 16}, {\"date\": \"2020-03-02\", \"Keyword\": \"toilet paper\", \"Keyword appearances\": 23}, {\"date\": \"2020-03-03\", \"Keyword\": \"toilet paper\", \"Keyword appearances\": 84}, {\"date\": \"2020-03-04\", \"Keyword\": \"toilet paper\", \"Keyword appearances\": 63}, {\"date\": \"2020-03-05\", \"Keyword\": \"toilet paper\", \"Keyword appearances\": 57}, {\"date\": \"2020-03-06\", \"Keyword\": \"toilet paper\", \"Keyword appearances\": 65}, {\"date\": \"2020-03-07\", \"Keyword\": \"toilet paper\", \"Keyword appearances\": 173}, {\"date\": \"2020-03-08\", \"Keyword\": \"toilet paper\", \"Keyword appearances\": 35}, {\"date\": \"2020-03-09\", \"Keyword\": \"toilet paper\", \"Keyword appearances\": 100}, {\"date\": \"2020-03-10\", \"Keyword\": \"toilet paper\", \"Keyword appearances\": 71}, {\"date\": \"2020-03-11\", \"Keyword\": \"toilet paper\", \"Keyword appearances\": 90}, {\"date\": \"2020-03-12\", \"Keyword\": \"toilet paper\", \"Keyword appearances\": 106}, {\"date\": \"2020-03-13\", \"Keyword\": \"toilet paper\", \"Keyword appearances\": 261}, {\"date\": \"2020-03-14\", \"Keyword\": \"toilet paper\", \"Keyword appearances\": 120}, {\"date\": \"2020-03-15\", \"Keyword\": \"toilet paper\", \"Keyword appearances\": 64}, {\"date\": \"2020-03-16\", \"Keyword\": \"toilet paper\", \"Keyword appearances\": 52}, {\"date\": \"2020-03-17\", \"Keyword\": \"toilet paper\", \"Keyword appearances\": 39}, {\"date\": \"2020-03-18\", \"Keyword\": \"toilet paper\", \"Keyword appearances\": 60}, {\"date\": \"2020-03-19\", \"Keyword\": \"toilet paper\", \"Keyword appearances\": 30}, {\"date\": \"2020-03-20\", \"Keyword\": \"toilet paper\", \"Keyword appearances\": 18}, {\"date\": \"2020-03-21\", \"Keyword\": \"toilet paper\", \"Keyword appearances\": 18}, {\"date\": \"2020-03-22\", \"Keyword\": \"toilet paper\", \"Keyword appearances\": 31}, {\"date\": \"2020-03-23\", \"Keyword\": \"toilet paper\", \"Keyword appearances\": 15}, {\"date\": \"2020-03-24\", \"Keyword\": \"toilet paper\", \"Keyword appearances\": 12}, {\"date\": \"2020-03-25\", \"Keyword\": \"toilet paper\", \"Keyword appearances\": 12}, {\"date\": \"2020-03-26\", \"Keyword\": \"toilet paper\", \"Keyword appearances\": 12}, {\"date\": \"2020-03-27\", \"Keyword\": \"toilet paper\", \"Keyword appearances\": 20}, {\"date\": \"2020-03-28\", \"Keyword\": \"toilet paper\", \"Keyword appearances\": 11}, {\"date\": \"2020-03-29\", \"Keyword\": \"toilet paper\", \"Keyword appearances\": 12}, {\"date\": \"2020-03-30\", \"Keyword\": \"toilet paper\", \"Keyword appearances\": 10}, {\"date\": \"2020-03-31\", \"Keyword\": \"toilet paper\", \"Keyword appearances\": 12}, {\"date\": \"2020-04-01\", \"Keyword\": \"toilet paper\", \"Keyword appearances\": 9}, {\"date\": \"2020-04-02\", \"Keyword\": \"toilet paper\", \"Keyword appearances\": 21}, {\"date\": \"2020-04-03\", \"Keyword\": \"toilet paper\", \"Keyword appearances\": 8}, {\"date\": \"2020-04-04\", \"Keyword\": \"toilet paper\", \"Keyword appearances\": 11}, {\"date\": \"2020-04-05\", \"Keyword\": \"toilet paper\", \"Keyword appearances\": 9}, {\"date\": \"2020-04-06\", \"Keyword\": \"toilet paper\", \"Keyword appearances\": 16}, {\"date\": \"2020-04-07\", \"Keyword\": \"toilet paper\", \"Keyword appearances\": 8}, {\"date\": \"2020-04-08\", \"Keyword\": \"toilet paper\", \"Keyword appearances\": 12}, {\"date\": \"2020-01-20\", \"Keyword\": \"lockdown\", \"Keyword appearances\": 2}, {\"date\": \"2020-01-21\", \"Keyword\": \"lockdown\", \"Keyword appearances\": 2}, {\"date\": \"2020-01-22\", \"Keyword\": \"lockdown\", \"Keyword appearances\": 60}, {\"date\": \"2020-01-23\", \"Keyword\": \"lockdown\", \"Keyword appearances\": 153}, {\"date\": \"2020-01-24\", \"Keyword\": \"lockdown\", \"Keyword appearances\": 96}, {\"date\": \"2020-01-25\", \"Keyword\": \"lockdown\", \"Keyword appearances\": 82}, {\"date\": \"2020-01-26\", \"Keyword\": \"lockdown\", \"Keyword appearances\": 31}, {\"date\": \"2020-01-27\", \"Keyword\": \"lockdown\", \"Keyword appearances\": 25}, {\"date\": \"2020-01-28\", \"Keyword\": \"lockdown\", \"Keyword appearances\": 16}, {\"date\": \"2020-01-29\", \"Keyword\": \"lockdown\", \"Keyword appearances\": 14}, {\"date\": \"2020-01-30\", \"Keyword\": \"lockdown\", \"Keyword appearances\": 42}, {\"date\": \"2020-01-31\", \"Keyword\": \"lockdown\", \"Keyword appearances\": 13}, {\"date\": \"2020-02-01\", \"Keyword\": \"lockdown\", \"Keyword appearances\": 51}, {\"date\": \"2020-02-02\", \"Keyword\": \"lockdown\", \"Keyword appearances\": 33}, {\"date\": \"2020-02-03\", \"Keyword\": \"lockdown\", \"Keyword appearances\": 32}, {\"date\": \"2020-02-04\", \"Keyword\": \"lockdown\", \"Keyword appearances\": 37}, {\"date\": \"2020-02-05\", \"Keyword\": \"lockdown\", \"Keyword appearances\": 42}, {\"date\": \"2020-02-06\", \"Keyword\": \"lockdown\", \"Keyword appearances\": 42}, {\"date\": \"2020-02-07\", \"Keyword\": \"lockdown\", \"Keyword appearances\": 52}, {\"date\": \"2020-02-08\", \"Keyword\": \"lockdown\", \"Keyword appearances\": 45}, {\"date\": \"2020-02-09\", \"Keyword\": \"lockdown\", \"Keyword appearances\": 29}, {\"date\": \"2020-02-10\", \"Keyword\": \"lockdown\", \"Keyword appearances\": 20}, {\"date\": \"2020-02-11\", \"Keyword\": \"lockdown\", \"Keyword appearances\": 21}, {\"date\": \"2020-02-12\", \"Keyword\": \"lockdown\", \"Keyword appearances\": 20}, {\"date\": \"2020-02-13\", \"Keyword\": \"lockdown\", \"Keyword appearances\": 59}, {\"date\": \"2020-02-14\", \"Keyword\": \"lockdown\", \"Keyword appearances\": 79}, {\"date\": \"2020-02-15\", \"Keyword\": \"lockdown\", \"Keyword appearances\": 44}, {\"date\": \"2020-02-16\", \"Keyword\": \"lockdown\", \"Keyword appearances\": 56}, {\"date\": \"2020-02-17\", \"Keyword\": \"lockdown\", \"Keyword appearances\": 40}, {\"date\": \"2020-02-18\", \"Keyword\": \"lockdown\", \"Keyword appearances\": 39}, {\"date\": \"2020-02-19\", \"Keyword\": \"lockdown\", \"Keyword appearances\": 56}, {\"date\": \"2020-02-20\", \"Keyword\": \"lockdown\", \"Keyword appearances\": 69}, {\"date\": \"2020-02-21\", \"Keyword\": \"lockdown\", \"Keyword appearances\": 66}, {\"date\": \"2020-02-22\", \"Keyword\": \"lockdown\", \"Keyword appearances\": 44}, {\"date\": \"2020-02-23\", \"Keyword\": \"lockdown\", \"Keyword appearances\": 137}, {\"date\": \"2020-02-24\", \"Keyword\": \"lockdown\", \"Keyword appearances\": 84}, {\"date\": \"2020-02-25\", \"Keyword\": \"lockdown\", \"Keyword appearances\": 44}, {\"date\": \"2020-02-26\", \"Keyword\": \"lockdown\", \"Keyword appearances\": 8}, {\"date\": \"2020-02-27\", \"Keyword\": \"lockdown\", \"Keyword appearances\": 10}, {\"date\": \"2020-02-28\", \"Keyword\": \"lockdown\", \"Keyword appearances\": 14}, {\"date\": \"2020-02-29\", \"Keyword\": \"lockdown\", \"Keyword appearances\": 12}, {\"date\": \"2020-03-01\", \"Keyword\": \"lockdown\", \"Keyword appearances\": 47}, {\"date\": \"2020-03-02\", \"Keyword\": \"lockdown\", \"Keyword appearances\": 16}, {\"date\": \"2020-03-03\", \"Keyword\": \"lockdown\", \"Keyword appearances\": 12}, {\"date\": \"2020-03-04\", \"Keyword\": \"lockdown\", \"Keyword appearances\": 18}, {\"date\": \"2020-03-05\", \"Keyword\": \"lockdown\", \"Keyword appearances\": 10}, {\"date\": \"2020-03-06\", \"Keyword\": \"lockdown\", \"Keyword appearances\": 8}, {\"date\": \"2020-03-07\", \"Keyword\": \"lockdown\", \"Keyword appearances\": 60}, {\"date\": \"2020-03-08\", \"Keyword\": \"lockdown\", \"Keyword appearances\": 20}, {\"date\": \"2020-03-09\", \"Keyword\": \"lockdown\", \"Keyword appearances\": 195}, {\"date\": \"2020-03-10\", \"Keyword\": \"lockdown\", \"Keyword appearances\": 83}, {\"date\": \"2020-03-11\", \"Keyword\": \"lockdown\", \"Keyword appearances\": 75}, {\"date\": \"2020-03-12\", \"Keyword\": \"lockdown\", \"Keyword appearances\": 38}, {\"date\": \"2020-03-13\", \"Keyword\": \"lockdown\", \"Keyword appearances\": 125}, {\"date\": \"2020-03-14\", \"Keyword\": \"lockdown\", \"Keyword appearances\": 95}, {\"date\": \"2020-03-15\", \"Keyword\": \"lockdown\", \"Keyword appearances\": 72}, {\"date\": \"2020-03-16\", \"Keyword\": \"lockdown\", \"Keyword appearances\": 88}, {\"date\": \"2020-03-17\", \"Keyword\": \"lockdown\", \"Keyword appearances\": 130}, {\"date\": \"2020-03-18\", \"Keyword\": \"lockdown\", \"Keyword appearances\": 162}, {\"date\": \"2020-03-19\", \"Keyword\": \"lockdown\", \"Keyword appearances\": 86}, {\"date\": \"2020-03-20\", \"Keyword\": \"lockdown\", \"Keyword appearances\": 96}, {\"date\": \"2020-03-21\", \"Keyword\": \"lockdown\", \"Keyword appearances\": 149}, {\"date\": \"2020-03-22\", \"Keyword\": \"lockdown\", \"Keyword appearances\": 190}, {\"date\": \"2020-03-23\", \"Keyword\": \"lockdown\", \"Keyword appearances\": 307}, {\"date\": \"2020-03-24\", \"Keyword\": \"lockdown\", \"Keyword appearances\": 349}, {\"date\": \"2020-03-25\", \"Keyword\": \"lockdown\", \"Keyword appearances\": 328}, {\"date\": \"2020-03-26\", \"Keyword\": \"lockdown\", \"Keyword appearances\": 191}, {\"date\": \"2020-03-27\", \"Keyword\": \"lockdown\", \"Keyword appearances\": 487}, {\"date\": \"2020-03-28\", \"Keyword\": \"lockdown\", \"Keyword appearances\": 299}, {\"date\": \"2020-03-29\", \"Keyword\": \"lockdown\", \"Keyword appearances\": 273}, {\"date\": \"2020-03-30\", \"Keyword\": \"lockdown\", \"Keyword appearances\": 325}, {\"date\": \"2020-03-31\", \"Keyword\": \"lockdown\", \"Keyword appearances\": 282}, {\"date\": \"2020-04-01\", \"Keyword\": \"lockdown\", \"Keyword appearances\": 236}, {\"date\": \"2020-04-02\", \"Keyword\": \"lockdown\", \"Keyword appearances\": 299}, {\"date\": \"2020-04-03\", \"Keyword\": \"lockdown\", \"Keyword appearances\": 207}, {\"date\": \"2020-04-04\", \"Keyword\": \"lockdown\", \"Keyword appearances\": 289}, {\"date\": \"2020-04-05\", \"Keyword\": \"lockdown\", \"Keyword appearances\": 223}, {\"date\": \"2020-04-06\", \"Keyword\": \"lockdown\", \"Keyword appearances\": 285}, {\"date\": \"2020-04-07\", \"Keyword\": \"lockdown\", \"Keyword appearances\": 214}, {\"date\": \"2020-04-08\", \"Keyword\": \"lockdown\", \"Keyword appearances\": 289}, {\"date\": \"2020-01-20\", \"Keyword\": \"isolation\", \"Keyword appearances\": 11}, {\"date\": \"2020-01-21\", \"Keyword\": \"isolation\", \"Keyword appearances\": 25}, {\"date\": \"2020-01-22\", \"Keyword\": \"isolation\", \"Keyword appearances\": 6}, {\"date\": \"2020-01-23\", \"Keyword\": \"isolation\", \"Keyword appearances\": 6}, {\"date\": \"2020-01-24\", \"Keyword\": \"isolation\", \"Keyword appearances\": 32}, {\"date\": \"2020-01-25\", \"Keyword\": \"isolation\", \"Keyword appearances\": 23}, {\"date\": \"2020-01-26\", \"Keyword\": \"isolation\", \"Keyword appearances\": 10}, {\"date\": \"2020-01-27\", \"Keyword\": \"isolation\", \"Keyword appearances\": 14}, {\"date\": \"2020-01-28\", \"Keyword\": \"isolation\", \"Keyword appearances\": 15}, {\"date\": \"2020-01-29\", \"Keyword\": \"isolation\", \"Keyword appearances\": 12}, {\"date\": \"2020-01-30\", \"Keyword\": \"isolation\", \"Keyword appearances\": 12}, {\"date\": \"2020-01-31\", \"Keyword\": \"isolation\", \"Keyword appearances\": 4}, {\"date\": \"2020-02-01\", \"Keyword\": \"isolation\", \"Keyword appearances\": 34}, {\"date\": \"2020-02-02\", \"Keyword\": \"isolation\", \"Keyword appearances\": 12}, {\"date\": \"2020-02-03\", \"Keyword\": \"isolation\", \"Keyword appearances\": 22}, {\"date\": \"2020-02-04\", \"Keyword\": \"isolation\", \"Keyword appearances\": 18}, {\"date\": \"2020-02-05\", \"Keyword\": \"isolation\", \"Keyword appearances\": 24}, {\"date\": \"2020-02-06\", \"Keyword\": \"isolation\", \"Keyword appearances\": 20}, {\"date\": \"2020-02-07\", \"Keyword\": \"isolation\", \"Keyword appearances\": 38}, {\"date\": \"2020-02-08\", \"Keyword\": \"isolation\", \"Keyword appearances\": 19}, {\"date\": \"2020-02-09\", \"Keyword\": \"isolation\", \"Keyword appearances\": 9}, {\"date\": \"2020-02-10\", \"Keyword\": \"isolation\", \"Keyword appearances\": 23}, {\"date\": \"2020-02-11\", \"Keyword\": \"isolation\", \"Keyword appearances\": 34}, {\"date\": \"2020-02-12\", \"Keyword\": \"isolation\", \"Keyword appearances\": 23}, {\"date\": \"2020-02-13\", \"Keyword\": \"isolation\", \"Keyword appearances\": 34}, {\"date\": \"2020-02-14\", \"Keyword\": \"isolation\", \"Keyword appearances\": 47}, {\"date\": \"2020-02-15\", \"Keyword\": \"isolation\", \"Keyword appearances\": 35}, {\"date\": \"2020-02-16\", \"Keyword\": \"isolation\", \"Keyword appearances\": 15}, {\"date\": \"2020-02-17\", \"Keyword\": \"isolation\", \"Keyword appearances\": 25}, {\"date\": \"2020-02-18\", \"Keyword\": \"isolation\", \"Keyword appearances\": 26}, {\"date\": \"2020-02-19\", \"Keyword\": \"isolation\", \"Keyword appearances\": 32}, {\"date\": \"2020-02-20\", \"Keyword\": \"isolation\", \"Keyword appearances\": 51}, {\"date\": \"2020-02-21\", \"Keyword\": \"isolation\", \"Keyword appearances\": 26}, {\"date\": \"2020-02-22\", \"Keyword\": \"isolation\", \"Keyword appearances\": 5}, {\"date\": \"2020-02-23\", \"Keyword\": \"isolation\", \"Keyword appearances\": 19}, {\"date\": \"2020-02-24\", \"Keyword\": \"isolation\", \"Keyword appearances\": 27}, {\"date\": \"2020-02-25\", \"Keyword\": \"isolation\", \"Keyword appearances\": 10}, {\"date\": \"2020-02-26\", \"Keyword\": \"isolation\", \"Keyword appearances\": 11}, {\"date\": \"2020-02-27\", \"Keyword\": \"isolation\", \"Keyword appearances\": 8}, {\"date\": \"2020-02-28\", \"Keyword\": \"isolation\", \"Keyword appearances\": 16}, {\"date\": \"2020-02-29\", \"Keyword\": \"isolation\", \"Keyword appearances\": 15}, {\"date\": \"2020-03-01\", \"Keyword\": \"isolation\", \"Keyword appearances\": 20}, {\"date\": \"2020-03-02\", \"Keyword\": \"isolation\", \"Keyword appearances\": 37}, {\"date\": \"2020-03-03\", \"Keyword\": \"isolation\", \"Keyword appearances\": 20}, {\"date\": \"2020-03-04\", \"Keyword\": \"isolation\", \"Keyword appearances\": 42}, {\"date\": \"2020-03-05\", \"Keyword\": \"isolation\", \"Keyword appearances\": 24}, {\"date\": \"2020-03-06\", \"Keyword\": \"isolation\", \"Keyword appearances\": 27}, {\"date\": \"2020-03-07\", \"Keyword\": \"isolation\", \"Keyword appearances\": 29}, {\"date\": \"2020-03-08\", \"Keyword\": \"isolation\", \"Keyword appearances\": 18}, {\"date\": \"2020-03-09\", \"Keyword\": \"isolation\", \"Keyword appearances\": 15}, {\"date\": \"2020-03-10\", \"Keyword\": \"isolation\", \"Keyword appearances\": 25}, {\"date\": \"2020-03-11\", \"Keyword\": \"isolation\", \"Keyword appearances\": 17}, {\"date\": \"2020-03-12\", \"Keyword\": \"isolation\", \"Keyword appearances\": 23}, {\"date\": \"2020-03-13\", \"Keyword\": \"isolation\", \"Keyword appearances\": 53}, {\"date\": \"2020-03-14\", \"Keyword\": \"isolation\", \"Keyword appearances\": 50}, {\"date\": \"2020-03-15\", \"Keyword\": \"isolation\", \"Keyword appearances\": 42}, {\"date\": \"2020-03-16\", \"Keyword\": \"isolation\", \"Keyword appearances\": 54}, {\"date\": \"2020-03-17\", \"Keyword\": \"isolation\", \"Keyword appearances\": 59}, {\"date\": \"2020-03-18\", \"Keyword\": \"isolation\", \"Keyword appearances\": 73}, {\"date\": \"2020-03-19\", \"Keyword\": \"isolation\", \"Keyword appearances\": 64}, {\"date\": \"2020-03-20\", \"Keyword\": \"isolation\", \"Keyword appearances\": 70}, {\"date\": \"2020-03-21\", \"Keyword\": \"isolation\", \"Keyword appearances\": 55}, {\"date\": \"2020-03-22\", \"Keyword\": \"isolation\", \"Keyword appearances\": 80}, {\"date\": \"2020-03-23\", \"Keyword\": \"isolation\", \"Keyword appearances\": 52}, {\"date\": \"2020-03-24\", \"Keyword\": \"isolation\", \"Keyword appearances\": 53}, {\"date\": \"2020-03-25\", \"Keyword\": \"isolation\", \"Keyword appearances\": 71}, {\"date\": \"2020-03-26\", \"Keyword\": \"isolation\", \"Keyword appearances\": 68}, {\"date\": \"2020-03-27\", \"Keyword\": \"isolation\", \"Keyword appearances\": 62}, {\"date\": \"2020-03-28\", \"Keyword\": \"isolation\", \"Keyword appearances\": 52}, {\"date\": \"2020-03-29\", \"Keyword\": \"isolation\", \"Keyword appearances\": 47}, {\"date\": \"2020-03-30\", \"Keyword\": \"isolation\", \"Keyword appearances\": 57}, {\"date\": \"2020-03-31\", \"Keyword\": \"isolation\", \"Keyword appearances\": 55}, {\"date\": \"2020-04-01\", \"Keyword\": \"isolation\", \"Keyword appearances\": 55}, {\"date\": \"2020-04-02\", \"Keyword\": \"isolation\", \"Keyword appearances\": 63}, {\"date\": \"2020-04-03\", \"Keyword\": \"isolation\", \"Keyword appearances\": 62}, {\"date\": \"2020-04-04\", \"Keyword\": \"isolation\", \"Keyword appearances\": 59}, {\"date\": \"2020-04-05\", \"Keyword\": \"isolation\", \"Keyword appearances\": 44}, {\"date\": \"2020-04-06\", \"Keyword\": \"isolation\", \"Keyword appearances\": 52}, {\"date\": \"2020-04-07\", \"Keyword\": \"isolation\", \"Keyword appearances\": 31}, {\"date\": \"2020-04-08\", \"Keyword\": \"isolation\", \"Keyword appearances\": 57}]}}, {\"mode\": \"vega-lite\"});\n",
       "</script>"
      ],
      "text/plain": [
       "alt.LayerChart(...)"
      ]
     },
     "execution_count": 38,
     "metadata": {},
     "output_type": "execute_result"
    }
   ],
   "source": [
    "highlight = alt.selection(type='single', on='mouseover',\n",
    "                          fields=['Keyword'], nearest=True)\n",
    "\n",
    "base = alt.Chart(First_Group).encode(\n",
    "    x='date:T',\n",
    "    y=alt.Y('Keyword appearances:Q',title = 'Keyword appearances in dataset',axis=alt.Axis(grid=False)),\n",
    "    color='Keyword:N',\n",
    "    tooltip=['Keyword', 'Keyword appearances']\n",
    ")\n",
    "\n",
    "points = base.mark_circle().encode(\n",
    "    opacity=alt.value(0),\n",
    ").add_selection(\n",
    "    highlight\n",
    ").properties(\n",
    "    width=600\n",
    ")\n",
    "\n",
    "lines = base.mark_line().encode(\n",
    "    size=alt.condition(~highlight, alt.value(1), alt.value(3))\n",
    ")\n",
    "\n",
    "points + lines"
   ]
  },
  {
   "cell_type": "markdown",
   "metadata": {},
   "source": [
    "# Interactive Legend"
   ]
  },
  {
   "cell_type": "code",
   "execution_count": 63,
   "metadata": {},
   "outputs": [
    {
     "data": {
      "text/html": [
       "\n",
       "<div id=\"altair-viz-f2cb3ac8bead4f2c8f0885dfda11bac0\"></div>\n",
       "<script type=\"text/javascript\">\n",
       "  (function(spec, embedOpt){\n",
       "    let outputDiv = document.currentScript.previousElementSibling;\n",
       "    if (outputDiv.id !== \"altair-viz-f2cb3ac8bead4f2c8f0885dfda11bac0\") {\n",
       "      outputDiv = document.getElementById(\"altair-viz-f2cb3ac8bead4f2c8f0885dfda11bac0\");\n",
       "    }\n",
       "    const paths = {\n",
       "      \"vega\": \"https://cdn.jsdelivr.net/npm//vega@5?noext\",\n",
       "      \"vega-lib\": \"https://cdn.jsdelivr.net/npm//vega-lib?noext\",\n",
       "      \"vega-lite\": \"https://cdn.jsdelivr.net/npm//vega-lite@4.8.1?noext\",\n",
       "      \"vega-embed\": \"https://cdn.jsdelivr.net/npm//vega-embed@6?noext\",\n",
       "    };\n",
       "\n",
       "    function loadScript(lib) {\n",
       "      return new Promise(function(resolve, reject) {\n",
       "        var s = document.createElement('script');\n",
       "        s.src = paths[lib];\n",
       "        s.async = true;\n",
       "        s.onload = () => resolve(paths[lib]);\n",
       "        s.onerror = () => reject(`Error loading script: ${paths[lib]}`);\n",
       "        document.getElementsByTagName(\"head\")[0].appendChild(s);\n",
       "      });\n",
       "    }\n",
       "\n",
       "    function showError(err) {\n",
       "      outputDiv.innerHTML = `<div class=\"error\" style=\"color:red;\">${err}</div>`;\n",
       "      throw err;\n",
       "    }\n",
       "\n",
       "    function displayChart(vegaEmbed) {\n",
       "      vegaEmbed(outputDiv, spec, embedOpt)\n",
       "        .catch(err => showError(`Javascript Error: ${err.message}<br>This usually means there's a typo in your chart specification. See the javascript console for the full traceback.`));\n",
       "    }\n",
       "\n",
       "    if(typeof define === \"function\" && define.amd) {\n",
       "      requirejs.config({paths});\n",
       "      require([\"vega-embed\"], displayChart, err => showError(`Error loading script: ${err.message}`));\n",
       "    } else if (typeof vegaEmbed === \"function\") {\n",
       "      displayChart(vegaEmbed);\n",
       "    } else {\n",
       "      loadScript(\"vega\")\n",
       "        .then(() => loadScript(\"vega-lite\"))\n",
       "        .then(() => loadScript(\"vega-embed\"))\n",
       "        .catch(showError)\n",
       "        .then(() => displayChart(vegaEmbed));\n",
       "    }\n",
       "  })({\"config\": {\"view\": {\"continuousWidth\": 400, \"continuousHeight\": 300}}, \"data\": {\"name\": \"data-4519f3877cd3afe6fd9f060d707c3e95\"}, \"mark\": \"line\", \"encoding\": {\"color\": {\"type\": \"nominal\", \"field\": \"Keyword\"}, \"opacity\": {\"condition\": {\"value\": 1, \"selection\": \"selector032\"}, \"value\": 0.1}, \"tooltip\": [{\"type\": \"nominal\", \"field\": \"Keyword\"}, {\"type\": \"quantitative\", \"field\": \"Keyword Frequency\"}], \"x\": {\"type\": \"temporal\", \"field\": \"date\"}, \"y\": {\"type\": \"quantitative\", \"field\": \"Keyword Frequency\"}}, \"height\": 400, \"selection\": {\"selector032\": {\"type\": \"multi\", \"fields\": [\"Keyword\"], \"bind\": \"legend\"}}, \"width\": 800, \"$schema\": \"https://vega.github.io/schema/vega-lite/v4.8.1.json\", \"datasets\": {\"data-4519f3877cd3afe6fd9f060d707c3e95\": [{\"date\": \"2020-01-20\", \"Keyword\": \"panic buying\", \"Keyword Frequency\": 0}, {\"date\": \"2020-01-21\", \"Keyword\": \"panic buying\", \"Keyword Frequency\": 0}, {\"date\": \"2020-01-22\", \"Keyword\": \"panic buying\", \"Keyword Frequency\": 0}, {\"date\": \"2020-01-23\", \"Keyword\": \"panic buying\", \"Keyword Frequency\": 0}, {\"date\": \"2020-01-24\", \"Keyword\": \"panic buying\", \"Keyword Frequency\": 0}, {\"date\": \"2020-01-25\", \"Keyword\": \"panic buying\", \"Keyword Frequency\": 0}, {\"date\": \"2020-01-26\", \"Keyword\": \"panic buying\", \"Keyword Frequency\": 1}, {\"date\": \"2020-01-27\", \"Keyword\": \"panic buying\", \"Keyword Frequency\": 1}, {\"date\": \"2020-01-28\", \"Keyword\": \"panic buying\", \"Keyword Frequency\": 0}, {\"date\": \"2020-01-29\", \"Keyword\": \"panic buying\", \"Keyword Frequency\": 0}, {\"date\": \"2020-01-30\", \"Keyword\": \"panic buying\", \"Keyword Frequency\": 0}, {\"date\": \"2020-01-31\", \"Keyword\": \"panic buying\", \"Keyword Frequency\": 0}, {\"date\": \"2020-02-01\", \"Keyword\": \"panic buying\", \"Keyword Frequency\": 4}, {\"date\": \"2020-02-02\", \"Keyword\": \"panic buying\", \"Keyword Frequency\": 3}, {\"date\": \"2020-02-03\", \"Keyword\": \"panic buying\", \"Keyword Frequency\": 0}, {\"date\": \"2020-02-04\", \"Keyword\": \"panic buying\", \"Keyword Frequency\": 0}, {\"date\": \"2020-02-05\", \"Keyword\": \"panic buying\", \"Keyword Frequency\": 1}, {\"date\": \"2020-02-06\", \"Keyword\": \"panic buying\", \"Keyword Frequency\": 6}, {\"date\": \"2020-02-07\", \"Keyword\": \"panic buying\", \"Keyword Frequency\": 2}, {\"date\": \"2020-02-08\", \"Keyword\": \"panic buying\", \"Keyword Frequency\": 4}, {\"date\": \"2020-02-09\", \"Keyword\": \"panic buying\", \"Keyword Frequency\": 3}, {\"date\": \"2020-02-10\", \"Keyword\": \"panic buying\", \"Keyword Frequency\": 1}, {\"date\": \"2020-02-11\", \"Keyword\": \"panic buying\", \"Keyword Frequency\": 2}, {\"date\": \"2020-02-12\", \"Keyword\": \"panic buying\", \"Keyword Frequency\": 2}, {\"date\": \"2020-02-13\", \"Keyword\": \"panic buying\", \"Keyword Frequency\": 0}, {\"date\": \"2020-02-14\", \"Keyword\": \"panic buying\", \"Keyword Frequency\": 1}, {\"date\": \"2020-02-15\", \"Keyword\": \"panic buying\", \"Keyword Frequency\": 0}, {\"date\": \"2020-02-16\", \"Keyword\": \"panic buying\", \"Keyword Frequency\": 0}, {\"date\": \"2020-02-17\", \"Keyword\": \"panic buying\", \"Keyword Frequency\": 1}, {\"date\": \"2020-02-18\", \"Keyword\": \"panic buying\", \"Keyword Frequency\": 1}, {\"date\": \"2020-02-19\", \"Keyword\": \"panic buying\", \"Keyword Frequency\": 0}, {\"date\": \"2020-02-20\", \"Keyword\": \"panic buying\", \"Keyword Frequency\": 1}, {\"date\": \"2020-02-21\", \"Keyword\": \"panic buying\", \"Keyword Frequency\": 0}, {\"date\": \"2020-02-22\", \"Keyword\": \"panic buying\", \"Keyword Frequency\": 1}, {\"date\": \"2020-02-23\", \"Keyword\": \"panic buying\", \"Keyword Frequency\": 6}, {\"date\": \"2020-02-24\", \"Keyword\": \"panic buying\", \"Keyword Frequency\": 13}, {\"date\": \"2020-02-25\", \"Keyword\": \"panic buying\", \"Keyword Frequency\": 3}, {\"date\": \"2020-02-26\", \"Keyword\": \"panic buying\", \"Keyword Frequency\": 0}, {\"date\": \"2020-02-27\", \"Keyword\": \"panic buying\", \"Keyword Frequency\": 2}, {\"date\": \"2020-02-28\", \"Keyword\": \"panic buying\", \"Keyword Frequency\": 7}, {\"date\": \"2020-02-29\", \"Keyword\": \"panic buying\", \"Keyword Frequency\": 9}, {\"date\": \"2020-03-01\", \"Keyword\": \"panic buying\", \"Keyword Frequency\": 10}, {\"date\": \"2020-03-02\", \"Keyword\": \"panic buying\", \"Keyword Frequency\": 25}, {\"date\": \"2020-03-03\", \"Keyword\": \"panic buying\", \"Keyword Frequency\": 18}, {\"date\": \"2020-03-04\", \"Keyword\": \"panic buying\", \"Keyword Frequency\": 19}, {\"date\": \"2020-03-05\", \"Keyword\": \"panic buying\", \"Keyword Frequency\": 7}, {\"date\": \"2020-03-06\", \"Keyword\": \"panic buying\", \"Keyword Frequency\": 13}, {\"date\": \"2020-03-07\", \"Keyword\": \"panic buying\", \"Keyword Frequency\": 48}, {\"date\": \"2020-03-08\", \"Keyword\": \"panic buying\", \"Keyword Frequency\": 7}, {\"date\": \"2020-03-09\", \"Keyword\": \"panic buying\", \"Keyword Frequency\": 31}, {\"date\": \"2020-03-10\", \"Keyword\": \"panic buying\", \"Keyword Frequency\": 13}, {\"date\": \"2020-03-11\", \"Keyword\": \"panic buying\", \"Keyword Frequency\": 14}, {\"date\": \"2020-03-12\", \"Keyword\": \"panic buying\", \"Keyword Frequency\": 13}, {\"date\": \"2020-03-13\", \"Keyword\": \"panic buying\", \"Keyword Frequency\": 46}, {\"date\": \"2020-03-14\", \"Keyword\": \"panic buying\", \"Keyword Frequency\": 36}, {\"date\": \"2020-03-15\", \"Keyword\": \"panic buying\", \"Keyword Frequency\": 11}, {\"date\": \"2020-03-16\", \"Keyword\": \"panic buying\", \"Keyword Frequency\": 15}, {\"date\": \"2020-03-17\", \"Keyword\": \"panic buying\", \"Keyword Frequency\": 15}, {\"date\": \"2020-03-18\", \"Keyword\": \"panic buying\", \"Keyword Frequency\": 16}, {\"date\": \"2020-03-19\", \"Keyword\": \"panic buying\", \"Keyword Frequency\": 11}, {\"date\": \"2020-03-20\", \"Keyword\": \"panic buying\", \"Keyword Frequency\": 14}, {\"date\": \"2020-03-21\", \"Keyword\": \"panic buying\", \"Keyword Frequency\": 7}, {\"date\": \"2020-03-22\", \"Keyword\": \"panic buying\", \"Keyword Frequency\": 10}, {\"date\": \"2020-03-23\", \"Keyword\": \"panic buying\", \"Keyword Frequency\": 3}, {\"date\": \"2020-03-24\", \"Keyword\": \"panic buying\", \"Keyword Frequency\": 1}, {\"date\": \"2020-03-25\", \"Keyword\": \"panic buying\", \"Keyword Frequency\": 2}, {\"date\": \"2020-03-26\", \"Keyword\": \"panic buying\", \"Keyword Frequency\": 4}, {\"date\": \"2020-03-27\", \"Keyword\": \"panic buying\", \"Keyword Frequency\": 1}, {\"date\": \"2020-03-28\", \"Keyword\": \"panic buying\", \"Keyword Frequency\": 3}, {\"date\": \"2020-03-29\", \"Keyword\": \"panic buying\", \"Keyword Frequency\": 2}, {\"date\": \"2020-03-30\", \"Keyword\": \"panic buying\", \"Keyword Frequency\": 3}, {\"date\": \"2020-03-31\", \"Keyword\": \"panic buying\", \"Keyword Frequency\": 2}, {\"date\": \"2020-04-01\", \"Keyword\": \"panic buying\", \"Keyword Frequency\": 1}, {\"date\": \"2020-04-02\", \"Keyword\": \"panic buying\", \"Keyword Frequency\": 2}, {\"date\": \"2020-04-03\", \"Keyword\": \"panic buying\", \"Keyword Frequency\": 1}, {\"date\": \"2020-04-04\", \"Keyword\": \"panic buying\", \"Keyword Frequency\": 2}, {\"date\": \"2020-04-05\", \"Keyword\": \"panic buying\", \"Keyword Frequency\": 0}, {\"date\": \"2020-04-06\", \"Keyword\": \"panic buying\", \"Keyword Frequency\": 4}, {\"date\": \"2020-04-07\", \"Keyword\": \"panic buying\", \"Keyword Frequency\": 2}, {\"date\": \"2020-04-08\", \"Keyword\": \"panic buying\", \"Keyword Frequency\": 1}, {\"date\": \"2020-01-20\", \"Keyword\": \"toilet paper\", \"Keyword Frequency\": 0}, {\"date\": \"2020-01-21\", \"Keyword\": \"toilet paper\", \"Keyword Frequency\": 1}, {\"date\": \"2020-01-22\", \"Keyword\": \"toilet paper\", \"Keyword Frequency\": 0}, {\"date\": \"2020-01-23\", \"Keyword\": \"toilet paper\", \"Keyword Frequency\": 0}, {\"date\": \"2020-01-24\", \"Keyword\": \"toilet paper\", \"Keyword Frequency\": 0}, {\"date\": \"2020-01-25\", \"Keyword\": \"toilet paper\", \"Keyword Frequency\": 0}, {\"date\": \"2020-01-26\", \"Keyword\": \"toilet paper\", \"Keyword Frequency\": 0}, {\"date\": \"2020-01-27\", \"Keyword\": \"toilet paper\", \"Keyword Frequency\": 0}, {\"date\": \"2020-01-28\", \"Keyword\": \"toilet paper\", \"Keyword Frequency\": 0}, {\"date\": \"2020-01-29\", \"Keyword\": \"toilet paper\", \"Keyword Frequency\": 0}, {\"date\": \"2020-01-30\", \"Keyword\": \"toilet paper\", \"Keyword Frequency\": 0}, {\"date\": \"2020-01-31\", \"Keyword\": \"toilet paper\", \"Keyword Frequency\": 1}, {\"date\": \"2020-02-01\", \"Keyword\": \"toilet paper\", \"Keyword Frequency\": 0}, {\"date\": \"2020-02-02\", \"Keyword\": \"toilet paper\", \"Keyword Frequency\": 0}, {\"date\": \"2020-02-03\", \"Keyword\": \"toilet paper\", \"Keyword Frequency\": 0}, {\"date\": \"2020-02-04\", \"Keyword\": \"toilet paper\", \"Keyword Frequency\": 0}, {\"date\": \"2020-02-05\", \"Keyword\": \"toilet paper\", \"Keyword Frequency\": 2}, {\"date\": \"2020-02-06\", \"Keyword\": \"toilet paper\", \"Keyword Frequency\": 5}, {\"date\": \"2020-02-07\", \"Keyword\": \"toilet paper\", \"Keyword Frequency\": 4}, {\"date\": \"2020-02-08\", \"Keyword\": \"toilet paper\", \"Keyword Frequency\": 7}, {\"date\": \"2020-02-09\", \"Keyword\": \"toilet paper\", \"Keyword Frequency\": 3}, {\"date\": \"2020-02-10\", \"Keyword\": \"toilet paper\", \"Keyword Frequency\": 0}, {\"date\": \"2020-02-11\", \"Keyword\": \"toilet paper\", \"Keyword Frequency\": 0}, {\"date\": \"2020-02-12\", \"Keyword\": \"toilet paper\", \"Keyword Frequency\": 0}, {\"date\": \"2020-02-13\", \"Keyword\": \"toilet paper\", \"Keyword Frequency\": 0}, {\"date\": \"2020-02-14\", \"Keyword\": \"toilet paper\", \"Keyword Frequency\": 3}, {\"date\": \"2020-02-15\", \"Keyword\": \"toilet paper\", \"Keyword Frequency\": 2}, {\"date\": \"2020-02-16\", \"Keyword\": \"toilet paper\", \"Keyword Frequency\": 0}, {\"date\": \"2020-02-17\", \"Keyword\": \"toilet paper\", \"Keyword Frequency\": 42}, {\"date\": \"2020-02-18\", \"Keyword\": \"toilet paper\", \"Keyword Frequency\": 8}, {\"date\": \"2020-02-19\", \"Keyword\": \"toilet paper\", \"Keyword Frequency\": 2}, {\"date\": \"2020-02-20\", \"Keyword\": \"toilet paper\", \"Keyword Frequency\": 0}, {\"date\": \"2020-02-21\", \"Keyword\": \"toilet paper\", \"Keyword Frequency\": 1}, {\"date\": \"2020-02-22\", \"Keyword\": \"toilet paper\", \"Keyword Frequency\": 1}, {\"date\": \"2020-02-23\", \"Keyword\": \"toilet paper\", \"Keyword Frequency\": 2}, {\"date\": \"2020-02-24\", \"Keyword\": \"toilet paper\", \"Keyword Frequency\": 1}, {\"date\": \"2020-02-25\", \"Keyword\": \"toilet paper\", \"Keyword Frequency\": 1}, {\"date\": \"2020-02-26\", \"Keyword\": \"toilet paper\", \"Keyword Frequency\": 0}, {\"date\": \"2020-02-27\", \"Keyword\": \"toilet paper\", \"Keyword Frequency\": 1}, {\"date\": \"2020-02-28\", \"Keyword\": \"toilet paper\", \"Keyword Frequency\": 5}, {\"date\": \"2020-02-29\", \"Keyword\": \"toilet paper\", \"Keyword Frequency\": 13}, {\"date\": \"2020-03-01\", \"Keyword\": \"toilet paper\", \"Keyword Frequency\": 16}, {\"date\": \"2020-03-02\", \"Keyword\": \"toilet paper\", \"Keyword Frequency\": 23}, {\"date\": \"2020-03-03\", \"Keyword\": \"toilet paper\", \"Keyword Frequency\": 84}, {\"date\": \"2020-03-04\", \"Keyword\": \"toilet paper\", \"Keyword Frequency\": 63}, {\"date\": \"2020-03-05\", \"Keyword\": \"toilet paper\", \"Keyword Frequency\": 57}, {\"date\": \"2020-03-06\", \"Keyword\": \"toilet paper\", \"Keyword Frequency\": 65}, {\"date\": \"2020-03-07\", \"Keyword\": \"toilet paper\", \"Keyword Frequency\": 173}, {\"date\": \"2020-03-08\", \"Keyword\": \"toilet paper\", \"Keyword Frequency\": 35}, {\"date\": \"2020-03-09\", \"Keyword\": \"toilet paper\", \"Keyword Frequency\": 100}, {\"date\": \"2020-03-10\", \"Keyword\": \"toilet paper\", \"Keyword Frequency\": 71}, {\"date\": \"2020-03-11\", \"Keyword\": \"toilet paper\", \"Keyword Frequency\": 90}, {\"date\": \"2020-03-12\", \"Keyword\": \"toilet paper\", \"Keyword Frequency\": 106}, {\"date\": \"2020-03-13\", \"Keyword\": \"toilet paper\", \"Keyword Frequency\": 261}, {\"date\": \"2020-03-14\", \"Keyword\": \"toilet paper\", \"Keyword Frequency\": 120}, {\"date\": \"2020-03-15\", \"Keyword\": \"toilet paper\", \"Keyword Frequency\": 64}, {\"date\": \"2020-03-16\", \"Keyword\": \"toilet paper\", \"Keyword Frequency\": 52}, {\"date\": \"2020-03-17\", \"Keyword\": \"toilet paper\", \"Keyword Frequency\": 39}, {\"date\": \"2020-03-18\", \"Keyword\": \"toilet paper\", \"Keyword Frequency\": 60}, {\"date\": \"2020-03-19\", \"Keyword\": \"toilet paper\", \"Keyword Frequency\": 30}, {\"date\": \"2020-03-20\", \"Keyword\": \"toilet paper\", \"Keyword Frequency\": 18}, {\"date\": \"2020-03-21\", \"Keyword\": \"toilet paper\", \"Keyword Frequency\": 18}, {\"date\": \"2020-03-22\", \"Keyword\": \"toilet paper\", \"Keyword Frequency\": 31}, {\"date\": \"2020-03-23\", \"Keyword\": \"toilet paper\", \"Keyword Frequency\": 15}, {\"date\": \"2020-03-24\", \"Keyword\": \"toilet paper\", \"Keyword Frequency\": 12}, {\"date\": \"2020-03-25\", \"Keyword\": \"toilet paper\", \"Keyword Frequency\": 12}, {\"date\": \"2020-03-26\", \"Keyword\": \"toilet paper\", \"Keyword Frequency\": 12}, {\"date\": \"2020-03-27\", \"Keyword\": \"toilet paper\", \"Keyword Frequency\": 20}, {\"date\": \"2020-03-28\", \"Keyword\": \"toilet paper\", \"Keyword Frequency\": 11}, {\"date\": \"2020-03-29\", \"Keyword\": \"toilet paper\", \"Keyword Frequency\": 12}, {\"date\": \"2020-03-30\", \"Keyword\": \"toilet paper\", \"Keyword Frequency\": 10}, {\"date\": \"2020-03-31\", \"Keyword\": \"toilet paper\", \"Keyword Frequency\": 12}, {\"date\": \"2020-04-01\", \"Keyword\": \"toilet paper\", \"Keyword Frequency\": 9}, {\"date\": \"2020-04-02\", \"Keyword\": \"toilet paper\", \"Keyword Frequency\": 21}, {\"date\": \"2020-04-03\", \"Keyword\": \"toilet paper\", \"Keyword Frequency\": 8}, {\"date\": \"2020-04-04\", \"Keyword\": \"toilet paper\", \"Keyword Frequency\": 11}, {\"date\": \"2020-04-05\", \"Keyword\": \"toilet paper\", \"Keyword Frequency\": 9}, {\"date\": \"2020-04-06\", \"Keyword\": \"toilet paper\", \"Keyword Frequency\": 16}, {\"date\": \"2020-04-07\", \"Keyword\": \"toilet paper\", \"Keyword Frequency\": 8}, {\"date\": \"2020-04-08\", \"Keyword\": \"toilet paper\", \"Keyword Frequency\": 12}, {\"date\": \"2020-01-20\", \"Keyword\": \"lockdown\", \"Keyword Frequency\": 2}, {\"date\": \"2020-01-21\", \"Keyword\": \"lockdown\", \"Keyword Frequency\": 2}, {\"date\": \"2020-01-22\", \"Keyword\": \"lockdown\", \"Keyword Frequency\": 60}, {\"date\": \"2020-01-23\", \"Keyword\": \"lockdown\", \"Keyword Frequency\": 153}, {\"date\": \"2020-01-24\", \"Keyword\": \"lockdown\", \"Keyword Frequency\": 96}, {\"date\": \"2020-01-25\", \"Keyword\": \"lockdown\", \"Keyword Frequency\": 82}, {\"date\": \"2020-01-26\", \"Keyword\": \"lockdown\", \"Keyword Frequency\": 31}, {\"date\": \"2020-01-27\", \"Keyword\": \"lockdown\", \"Keyword Frequency\": 25}, {\"date\": \"2020-01-28\", \"Keyword\": \"lockdown\", \"Keyword Frequency\": 16}, {\"date\": \"2020-01-29\", \"Keyword\": \"lockdown\", \"Keyword Frequency\": 14}, {\"date\": \"2020-01-30\", \"Keyword\": \"lockdown\", \"Keyword Frequency\": 42}, {\"date\": \"2020-01-31\", \"Keyword\": \"lockdown\", \"Keyword Frequency\": 13}, {\"date\": \"2020-02-01\", \"Keyword\": \"lockdown\", \"Keyword Frequency\": 51}, {\"date\": \"2020-02-02\", \"Keyword\": \"lockdown\", \"Keyword Frequency\": 33}, {\"date\": \"2020-02-03\", \"Keyword\": \"lockdown\", \"Keyword Frequency\": 32}, {\"date\": \"2020-02-04\", \"Keyword\": \"lockdown\", \"Keyword Frequency\": 37}, {\"date\": \"2020-02-05\", \"Keyword\": \"lockdown\", \"Keyword Frequency\": 42}, {\"date\": \"2020-02-06\", \"Keyword\": \"lockdown\", \"Keyword Frequency\": 42}, {\"date\": \"2020-02-07\", \"Keyword\": \"lockdown\", \"Keyword Frequency\": 52}, {\"date\": \"2020-02-08\", \"Keyword\": \"lockdown\", \"Keyword Frequency\": 45}, {\"date\": \"2020-02-09\", \"Keyword\": \"lockdown\", \"Keyword Frequency\": 29}, {\"date\": \"2020-02-10\", \"Keyword\": \"lockdown\", \"Keyword Frequency\": 20}, {\"date\": \"2020-02-11\", \"Keyword\": \"lockdown\", \"Keyword Frequency\": 21}, {\"date\": \"2020-02-12\", \"Keyword\": \"lockdown\", \"Keyword Frequency\": 20}, {\"date\": \"2020-02-13\", \"Keyword\": \"lockdown\", \"Keyword Frequency\": 59}, {\"date\": \"2020-02-14\", \"Keyword\": \"lockdown\", \"Keyword Frequency\": 79}, {\"date\": \"2020-02-15\", \"Keyword\": \"lockdown\", \"Keyword Frequency\": 44}, {\"date\": \"2020-02-16\", \"Keyword\": \"lockdown\", \"Keyword Frequency\": 56}, {\"date\": \"2020-02-17\", \"Keyword\": \"lockdown\", \"Keyword Frequency\": 40}, {\"date\": \"2020-02-18\", \"Keyword\": \"lockdown\", \"Keyword Frequency\": 39}, {\"date\": \"2020-02-19\", \"Keyword\": \"lockdown\", \"Keyword Frequency\": 56}, {\"date\": \"2020-02-20\", \"Keyword\": \"lockdown\", \"Keyword Frequency\": 69}, {\"date\": \"2020-02-21\", \"Keyword\": \"lockdown\", \"Keyword Frequency\": 66}, {\"date\": \"2020-02-22\", \"Keyword\": \"lockdown\", \"Keyword Frequency\": 44}, {\"date\": \"2020-02-23\", \"Keyword\": \"lockdown\", \"Keyword Frequency\": 137}, {\"date\": \"2020-02-24\", \"Keyword\": \"lockdown\", \"Keyword Frequency\": 84}, {\"date\": \"2020-02-25\", \"Keyword\": \"lockdown\", \"Keyword Frequency\": 44}, {\"date\": \"2020-02-26\", \"Keyword\": \"lockdown\", \"Keyword Frequency\": 8}, {\"date\": \"2020-02-27\", \"Keyword\": \"lockdown\", \"Keyword Frequency\": 10}, {\"date\": \"2020-02-28\", \"Keyword\": \"lockdown\", \"Keyword Frequency\": 14}, {\"date\": \"2020-02-29\", \"Keyword\": \"lockdown\", \"Keyword Frequency\": 12}, {\"date\": \"2020-03-01\", \"Keyword\": \"lockdown\", \"Keyword Frequency\": 47}, {\"date\": \"2020-03-02\", \"Keyword\": \"lockdown\", \"Keyword Frequency\": 16}, {\"date\": \"2020-03-03\", \"Keyword\": \"lockdown\", \"Keyword Frequency\": 12}, {\"date\": \"2020-03-04\", \"Keyword\": \"lockdown\", \"Keyword Frequency\": 18}, {\"date\": \"2020-03-05\", \"Keyword\": \"lockdown\", \"Keyword Frequency\": 10}, {\"date\": \"2020-03-06\", \"Keyword\": \"lockdown\", \"Keyword Frequency\": 8}, {\"date\": \"2020-03-07\", \"Keyword\": \"lockdown\", \"Keyword Frequency\": 60}, {\"date\": \"2020-03-08\", \"Keyword\": \"lockdown\", \"Keyword Frequency\": 20}, {\"date\": \"2020-03-09\", \"Keyword\": \"lockdown\", \"Keyword Frequency\": 195}, {\"date\": \"2020-03-10\", \"Keyword\": \"lockdown\", \"Keyword Frequency\": 83}, {\"date\": \"2020-03-11\", \"Keyword\": \"lockdown\", \"Keyword Frequency\": 75}, {\"date\": \"2020-03-12\", \"Keyword\": \"lockdown\", \"Keyword Frequency\": 38}, {\"date\": \"2020-03-13\", \"Keyword\": \"lockdown\", \"Keyword Frequency\": 125}, {\"date\": \"2020-03-14\", \"Keyword\": \"lockdown\", \"Keyword Frequency\": 95}, {\"date\": \"2020-03-15\", \"Keyword\": \"lockdown\", \"Keyword Frequency\": 72}, {\"date\": \"2020-03-16\", \"Keyword\": \"lockdown\", \"Keyword Frequency\": 88}, {\"date\": \"2020-03-17\", \"Keyword\": \"lockdown\", \"Keyword Frequency\": 130}, {\"date\": \"2020-03-18\", \"Keyword\": \"lockdown\", \"Keyword Frequency\": 162}, {\"date\": \"2020-03-19\", \"Keyword\": \"lockdown\", \"Keyword Frequency\": 86}, {\"date\": \"2020-03-20\", \"Keyword\": \"lockdown\", \"Keyword Frequency\": 96}, {\"date\": \"2020-03-21\", \"Keyword\": \"lockdown\", \"Keyword Frequency\": 149}, {\"date\": \"2020-03-22\", \"Keyword\": \"lockdown\", \"Keyword Frequency\": 190}, {\"date\": \"2020-03-23\", \"Keyword\": \"lockdown\", \"Keyword Frequency\": 307}, {\"date\": \"2020-03-24\", \"Keyword\": \"lockdown\", \"Keyword Frequency\": 349}, {\"date\": \"2020-03-25\", \"Keyword\": \"lockdown\", \"Keyword Frequency\": 328}, {\"date\": \"2020-03-26\", \"Keyword\": \"lockdown\", \"Keyword Frequency\": 191}, {\"date\": \"2020-03-27\", \"Keyword\": \"lockdown\", \"Keyword Frequency\": 487}, {\"date\": \"2020-03-28\", \"Keyword\": \"lockdown\", \"Keyword Frequency\": 299}, {\"date\": \"2020-03-29\", \"Keyword\": \"lockdown\", \"Keyword Frequency\": 273}, {\"date\": \"2020-03-30\", \"Keyword\": \"lockdown\", \"Keyword Frequency\": 325}, {\"date\": \"2020-03-31\", \"Keyword\": \"lockdown\", \"Keyword Frequency\": 282}, {\"date\": \"2020-04-01\", \"Keyword\": \"lockdown\", \"Keyword Frequency\": 236}, {\"date\": \"2020-04-02\", \"Keyword\": \"lockdown\", \"Keyword Frequency\": 299}, {\"date\": \"2020-04-03\", \"Keyword\": \"lockdown\", \"Keyword Frequency\": 207}, {\"date\": \"2020-04-04\", \"Keyword\": \"lockdown\", \"Keyword Frequency\": 289}, {\"date\": \"2020-04-05\", \"Keyword\": \"lockdown\", \"Keyword Frequency\": 223}, {\"date\": \"2020-04-06\", \"Keyword\": \"lockdown\", \"Keyword Frequency\": 285}, {\"date\": \"2020-04-07\", \"Keyword\": \"lockdown\", \"Keyword Frequency\": 214}, {\"date\": \"2020-04-08\", \"Keyword\": \"lockdown\", \"Keyword Frequency\": 289}, {\"date\": \"2020-01-20\", \"Keyword\": \"isolation\", \"Keyword Frequency\": 11}, {\"date\": \"2020-01-21\", \"Keyword\": \"isolation\", \"Keyword Frequency\": 25}, {\"date\": \"2020-01-22\", \"Keyword\": \"isolation\", \"Keyword Frequency\": 6}, {\"date\": \"2020-01-23\", \"Keyword\": \"isolation\", \"Keyword Frequency\": 6}, {\"date\": \"2020-01-24\", \"Keyword\": \"isolation\", \"Keyword Frequency\": 32}, {\"date\": \"2020-01-25\", \"Keyword\": \"isolation\", \"Keyword Frequency\": 23}, {\"date\": \"2020-01-26\", \"Keyword\": \"isolation\", \"Keyword Frequency\": 10}, {\"date\": \"2020-01-27\", \"Keyword\": \"isolation\", \"Keyword Frequency\": 14}, {\"date\": \"2020-01-28\", \"Keyword\": \"isolation\", \"Keyword Frequency\": 15}, {\"date\": \"2020-01-29\", \"Keyword\": \"isolation\", \"Keyword Frequency\": 12}, {\"date\": \"2020-01-30\", \"Keyword\": \"isolation\", \"Keyword Frequency\": 12}, {\"date\": \"2020-01-31\", \"Keyword\": \"isolation\", \"Keyword Frequency\": 4}, {\"date\": \"2020-02-01\", \"Keyword\": \"isolation\", \"Keyword Frequency\": 34}, {\"date\": \"2020-02-02\", \"Keyword\": \"isolation\", \"Keyword Frequency\": 12}, {\"date\": \"2020-02-03\", \"Keyword\": \"isolation\", \"Keyword Frequency\": 22}, {\"date\": \"2020-02-04\", \"Keyword\": \"isolation\", \"Keyword Frequency\": 18}, {\"date\": \"2020-02-05\", \"Keyword\": \"isolation\", \"Keyword Frequency\": 24}, {\"date\": \"2020-02-06\", \"Keyword\": \"isolation\", \"Keyword Frequency\": 20}, {\"date\": \"2020-02-07\", \"Keyword\": \"isolation\", \"Keyword Frequency\": 38}, {\"date\": \"2020-02-08\", \"Keyword\": \"isolation\", \"Keyword Frequency\": 19}, {\"date\": \"2020-02-09\", \"Keyword\": \"isolation\", \"Keyword Frequency\": 9}, {\"date\": \"2020-02-10\", \"Keyword\": \"isolation\", \"Keyword Frequency\": 23}, {\"date\": \"2020-02-11\", \"Keyword\": \"isolation\", \"Keyword Frequency\": 34}, {\"date\": \"2020-02-12\", \"Keyword\": \"isolation\", \"Keyword Frequency\": 23}, {\"date\": \"2020-02-13\", \"Keyword\": \"isolation\", \"Keyword Frequency\": 34}, {\"date\": \"2020-02-14\", \"Keyword\": \"isolation\", \"Keyword Frequency\": 47}, {\"date\": \"2020-02-15\", \"Keyword\": \"isolation\", \"Keyword Frequency\": 35}, {\"date\": \"2020-02-16\", \"Keyword\": \"isolation\", \"Keyword Frequency\": 15}, {\"date\": \"2020-02-17\", \"Keyword\": \"isolation\", \"Keyword Frequency\": 25}, {\"date\": \"2020-02-18\", \"Keyword\": \"isolation\", \"Keyword Frequency\": 26}, {\"date\": \"2020-02-19\", \"Keyword\": \"isolation\", \"Keyword Frequency\": 32}, {\"date\": \"2020-02-20\", \"Keyword\": \"isolation\", \"Keyword Frequency\": 51}, {\"date\": \"2020-02-21\", \"Keyword\": \"isolation\", \"Keyword Frequency\": 26}, {\"date\": \"2020-02-22\", \"Keyword\": \"isolation\", \"Keyword Frequency\": 5}, {\"date\": \"2020-02-23\", \"Keyword\": \"isolation\", \"Keyword Frequency\": 19}, {\"date\": \"2020-02-24\", \"Keyword\": \"isolation\", \"Keyword Frequency\": 27}, {\"date\": \"2020-02-25\", \"Keyword\": \"isolation\", \"Keyword Frequency\": 10}, {\"date\": \"2020-02-26\", \"Keyword\": \"isolation\", \"Keyword Frequency\": 11}, {\"date\": \"2020-02-27\", \"Keyword\": \"isolation\", \"Keyword Frequency\": 8}, {\"date\": \"2020-02-28\", \"Keyword\": \"isolation\", \"Keyword Frequency\": 16}, {\"date\": \"2020-02-29\", \"Keyword\": \"isolation\", \"Keyword Frequency\": 15}, {\"date\": \"2020-03-01\", \"Keyword\": \"isolation\", \"Keyword Frequency\": 20}, {\"date\": \"2020-03-02\", \"Keyword\": \"isolation\", \"Keyword Frequency\": 37}, {\"date\": \"2020-03-03\", \"Keyword\": \"isolation\", \"Keyword Frequency\": 20}, {\"date\": \"2020-03-04\", \"Keyword\": \"isolation\", \"Keyword Frequency\": 42}, {\"date\": \"2020-03-05\", \"Keyword\": \"isolation\", \"Keyword Frequency\": 24}, {\"date\": \"2020-03-06\", \"Keyword\": \"isolation\", \"Keyword Frequency\": 27}, {\"date\": \"2020-03-07\", \"Keyword\": \"isolation\", \"Keyword Frequency\": 29}, {\"date\": \"2020-03-08\", \"Keyword\": \"isolation\", \"Keyword Frequency\": 18}, {\"date\": \"2020-03-09\", \"Keyword\": \"isolation\", \"Keyword Frequency\": 15}, {\"date\": \"2020-03-10\", \"Keyword\": \"isolation\", \"Keyword Frequency\": 25}, {\"date\": \"2020-03-11\", \"Keyword\": \"isolation\", \"Keyword Frequency\": 17}, {\"date\": \"2020-03-12\", \"Keyword\": \"isolation\", \"Keyword Frequency\": 23}, {\"date\": \"2020-03-13\", \"Keyword\": \"isolation\", \"Keyword Frequency\": 53}, {\"date\": \"2020-03-14\", \"Keyword\": \"isolation\", \"Keyword Frequency\": 50}, {\"date\": \"2020-03-15\", \"Keyword\": \"isolation\", \"Keyword Frequency\": 42}, {\"date\": \"2020-03-16\", \"Keyword\": \"isolation\", \"Keyword Frequency\": 54}, {\"date\": \"2020-03-17\", \"Keyword\": \"isolation\", \"Keyword Frequency\": 59}, {\"date\": \"2020-03-18\", \"Keyword\": \"isolation\", \"Keyword Frequency\": 73}, {\"date\": \"2020-03-19\", \"Keyword\": \"isolation\", \"Keyword Frequency\": 64}, {\"date\": \"2020-03-20\", \"Keyword\": \"isolation\", \"Keyword Frequency\": 70}, {\"date\": \"2020-03-21\", \"Keyword\": \"isolation\", \"Keyword Frequency\": 55}, {\"date\": \"2020-03-22\", \"Keyword\": \"isolation\", \"Keyword Frequency\": 80}, {\"date\": \"2020-03-23\", \"Keyword\": \"isolation\", \"Keyword Frequency\": 52}, {\"date\": \"2020-03-24\", \"Keyword\": \"isolation\", \"Keyword Frequency\": 53}, {\"date\": \"2020-03-25\", \"Keyword\": \"isolation\", \"Keyword Frequency\": 71}, {\"date\": \"2020-03-26\", \"Keyword\": \"isolation\", \"Keyword Frequency\": 68}, {\"date\": \"2020-03-27\", \"Keyword\": \"isolation\", \"Keyword Frequency\": 62}, {\"date\": \"2020-03-28\", \"Keyword\": \"isolation\", \"Keyword Frequency\": 52}, {\"date\": \"2020-03-29\", \"Keyword\": \"isolation\", \"Keyword Frequency\": 47}, {\"date\": \"2020-03-30\", \"Keyword\": \"isolation\", \"Keyword Frequency\": 57}, {\"date\": \"2020-03-31\", \"Keyword\": \"isolation\", \"Keyword Frequency\": 55}, {\"date\": \"2020-04-01\", \"Keyword\": \"isolation\", \"Keyword Frequency\": 55}, {\"date\": \"2020-04-02\", \"Keyword\": \"isolation\", \"Keyword Frequency\": 63}, {\"date\": \"2020-04-03\", \"Keyword\": \"isolation\", \"Keyword Frequency\": 62}, {\"date\": \"2020-04-04\", \"Keyword\": \"isolation\", \"Keyword Frequency\": 59}, {\"date\": \"2020-04-05\", \"Keyword\": \"isolation\", \"Keyword Frequency\": 44}, {\"date\": \"2020-04-06\", \"Keyword\": \"isolation\", \"Keyword Frequency\": 52}, {\"date\": \"2020-04-07\", \"Keyword\": \"isolation\", \"Keyword Frequency\": 31}, {\"date\": \"2020-04-08\", \"Keyword\": \"isolation\", \"Keyword Frequency\": 57}]}}, {\"mode\": \"vega-lite\"});\n",
       "</script>"
      ],
      "text/plain": [
       "alt.Chart(...)"
      ]
     },
     "execution_count": 63,
     "metadata": {},
     "output_type": "execute_result"
    }
   ],
   "source": [
    "selection = alt.selection(type='multi', fields=['Keyword'], bind='legend')\n",
    "\n",
    "alt.Chart(First_Group).mark_line().encode(\n",
    "    x='date:T',\n",
    "    y='Keyword Frequency:Q',\n",
    "    color='Keyword',\n",
    "    tooltip=['Keyword', 'Keyword Frequency'],\n",
    "    opacity=alt.condition(selection, alt.value(1), alt.value(0.1))\n",
    ").properties(\n",
    "    width=800,\n",
    "    height=400\n",
    ").add_selection(\n",
    "    selection\n",
    ")"
   ]
  },
  {
   "cell_type": "markdown",
   "metadata": {},
   "source": [
    "## Second keywords group"
   ]
  },
  {
   "cell_type": "code",
   "execution_count": 39,
   "metadata": {},
   "outputs": [
    {
     "name": "stdout",
     "output_type": "stream",
     "text": [
      "<class 'pandas.core.frame.DataFrame'>\n",
      "RangeIndex: 320 entries, 0 to 319\n",
      "Data columns (total 3 columns):\n",
      " #   Column               Non-Null Count  Dtype \n",
      "---  ------               --------------  ----- \n",
      " 0   date                 320 non-null    object\n",
      " 1   Keyword              320 non-null    object\n",
      " 2   Keyword appearances  320 non-null    int64 \n",
      "dtypes: int64(1), object(2)\n",
      "memory usage: 7.6+ KB\n"
     ]
    }
   ],
   "source": [
    "Second = keyword_data[['Epidemic', 'Pandemic', 'Outbreak','Wuhan', 'date']].melt(\"date\")\n",
    "Second_Group= Second.rename(\n",
    "    columns = {\"value\":\"Keyword appearances\", \"variable\":\"Keyword\"})\n",
    "Second_Group.info()"
   ]
  },
  {
   "cell_type": "code",
   "execution_count": 40,
   "metadata": {
    "format": "row",
    "scrolled": true
   },
   "outputs": [
    {
     "data": {
      "text/html": [
       "\n",
       "<div id=\"altair-viz-8ff582ffffd44f9fb1a530a5475251bb\"></div>\n",
       "<script type=\"text/javascript\">\n",
       "  (function(spec, embedOpt){\n",
       "    let outputDiv = document.currentScript.previousElementSibling;\n",
       "    if (outputDiv.id !== \"altair-viz-8ff582ffffd44f9fb1a530a5475251bb\") {\n",
       "      outputDiv = document.getElementById(\"altair-viz-8ff582ffffd44f9fb1a530a5475251bb\");\n",
       "    }\n",
       "    const paths = {\n",
       "      \"vega\": \"https://cdn.jsdelivr.net/npm//vega@5?noext\",\n",
       "      \"vega-lib\": \"https://cdn.jsdelivr.net/npm//vega-lib?noext\",\n",
       "      \"vega-lite\": \"https://cdn.jsdelivr.net/npm//vega-lite@4.8.1?noext\",\n",
       "      \"vega-embed\": \"https://cdn.jsdelivr.net/npm//vega-embed@6?noext\",\n",
       "    };\n",
       "\n",
       "    function loadScript(lib) {\n",
       "      return new Promise(function(resolve, reject) {\n",
       "        var s = document.createElement('script');\n",
       "        s.src = paths[lib];\n",
       "        s.async = true;\n",
       "        s.onload = () => resolve(paths[lib]);\n",
       "        s.onerror = () => reject(`Error loading script: ${paths[lib]}`);\n",
       "        document.getElementsByTagName(\"head\")[0].appendChild(s);\n",
       "      });\n",
       "    }\n",
       "\n",
       "    function showError(err) {\n",
       "      outputDiv.innerHTML = `<div class=\"error\" style=\"color:red;\">${err}</div>`;\n",
       "      throw err;\n",
       "    }\n",
       "\n",
       "    function displayChart(vegaEmbed) {\n",
       "      vegaEmbed(outputDiv, spec, embedOpt)\n",
       "        .catch(err => showError(`Javascript Error: ${err.message}<br>This usually means there's a typo in your chart specification. See the javascript console for the full traceback.`));\n",
       "    }\n",
       "\n",
       "    if(typeof define === \"function\" && define.amd) {\n",
       "      requirejs.config({paths});\n",
       "      require([\"vega-embed\"], displayChart, err => showError(`Error loading script: ${err.message}`));\n",
       "    } else if (typeof vegaEmbed === \"function\") {\n",
       "      displayChart(vegaEmbed);\n",
       "    } else {\n",
       "      loadScript(\"vega\")\n",
       "        .then(() => loadScript(\"vega-lite\"))\n",
       "        .then(() => loadScript(\"vega-embed\"))\n",
       "        .catch(showError)\n",
       "        .then(() => displayChart(vegaEmbed));\n",
       "    }\n",
       "  })({\"config\": {\"view\": {\"continuousWidth\": 400, \"continuousHeight\": 300}}, \"layer\": [{\"mark\": \"circle\", \"encoding\": {\"color\": {\"type\": \"nominal\", \"field\": \"Keyword\"}, \"opacity\": {\"value\": 0}, \"tooltip\": [{\"type\": \"nominal\", \"field\": \"Keyword\"}, {\"type\": \"quantitative\", \"field\": \"Keyword appearances\"}], \"x\": {\"type\": \"temporal\", \"field\": \"date\"}, \"y\": {\"type\": \"quantitative\", \"axis\": {\"grid\": false}, \"field\": \"Keyword appearances\", \"title\": \"Keyword appearances in dataset\"}}, \"selection\": {\"selector018\": {\"type\": \"single\", \"on\": \"mouseover\", \"fields\": [\"Keyword\"], \"nearest\": true}}, \"width\": 600}, {\"mark\": \"line\", \"encoding\": {\"color\": {\"type\": \"nominal\", \"field\": \"Keyword\"}, \"size\": {\"condition\": {\"value\": 1, \"selection\": {\"not\": \"selector018\"}}, \"value\": 3}, \"tooltip\": [{\"type\": \"nominal\", \"field\": \"Keyword\"}, {\"type\": \"quantitative\", \"field\": \"Keyword appearances\"}], \"x\": {\"type\": \"temporal\", \"field\": \"date\"}, \"y\": {\"type\": \"quantitative\", \"axis\": {\"grid\": false}, \"field\": \"Keyword appearances\", \"title\": \"Keyword appearances in dataset\"}}}], \"data\": {\"name\": \"data-0ac16123b3fb14b7c59bda13e251ad76\"}, \"$schema\": \"https://vega.github.io/schema/vega-lite/v4.8.1.json\", \"datasets\": {\"data-0ac16123b3fb14b7c59bda13e251ad76\": [{\"date\": \"2020-01-20\", \"Keyword\": \"Epidemic\", \"Keyword appearances\": 77}, {\"date\": \"2020-01-21\", \"Keyword\": \"Epidemic\", \"Keyword appearances\": 49}, {\"date\": \"2020-01-22\", \"Keyword\": \"Epidemic\", \"Keyword appearances\": 55}, {\"date\": \"2020-01-23\", \"Keyword\": \"Epidemic\", \"Keyword appearances\": 55}, {\"date\": \"2020-01-24\", \"Keyword\": \"Epidemic\", \"Keyword appearances\": 50}, {\"date\": \"2020-01-25\", \"Keyword\": \"Epidemic\", \"Keyword appearances\": 61}, {\"date\": \"2020-01-26\", \"Keyword\": \"Epidemic\", \"Keyword appearances\": 89}, {\"date\": \"2020-01-27\", \"Keyword\": \"Epidemic\", \"Keyword appearances\": 78}, {\"date\": \"2020-01-28\", \"Keyword\": \"Epidemic\", \"Keyword appearances\": 73}, {\"date\": \"2020-01-29\", \"Keyword\": \"Epidemic\", \"Keyword appearances\": 78}, {\"date\": \"2020-01-30\", \"Keyword\": \"Epidemic\", \"Keyword appearances\": 89}, {\"date\": \"2020-01-31\", \"Keyword\": \"Epidemic\", \"Keyword appearances\": 66}, {\"date\": \"2020-02-01\", \"Keyword\": \"Epidemic\", \"Keyword appearances\": 100}, {\"date\": \"2020-02-02\", \"Keyword\": \"Epidemic\", \"Keyword appearances\": 97}, {\"date\": \"2020-02-03\", \"Keyword\": \"Epidemic\", \"Keyword appearances\": 164}, {\"date\": \"2020-02-04\", \"Keyword\": \"Epidemic\", \"Keyword appearances\": 124}, {\"date\": \"2020-02-05\", \"Keyword\": \"Epidemic\", \"Keyword appearances\": 101}, {\"date\": \"2020-02-06\", \"Keyword\": \"Epidemic\", \"Keyword appearances\": 163}, {\"date\": \"2020-02-07\", \"Keyword\": \"Epidemic\", \"Keyword appearances\": 107}, {\"date\": \"2020-02-08\", \"Keyword\": \"Epidemic\", \"Keyword appearances\": 99}, {\"date\": \"2020-02-09\", \"Keyword\": \"Epidemic\", \"Keyword appearances\": 153}, {\"date\": \"2020-02-10\", \"Keyword\": \"Epidemic\", \"Keyword appearances\": 127}, {\"date\": \"2020-02-11\", \"Keyword\": \"Epidemic\", \"Keyword appearances\": 103}, {\"date\": \"2020-02-12\", \"Keyword\": \"Epidemic\", \"Keyword appearances\": 102}, {\"date\": \"2020-02-13\", \"Keyword\": \"Epidemic\", \"Keyword appearances\": 163}, {\"date\": \"2020-02-14\", \"Keyword\": \"Epidemic\", \"Keyword appearances\": 161}, {\"date\": \"2020-02-15\", \"Keyword\": \"Epidemic\", \"Keyword appearances\": 176}, {\"date\": \"2020-02-16\", \"Keyword\": \"Epidemic\", \"Keyword appearances\": 160}, {\"date\": \"2020-02-17\", \"Keyword\": \"Epidemic\", \"Keyword appearances\": 129}, {\"date\": \"2020-02-18\", \"Keyword\": \"Epidemic\", \"Keyword appearances\": 136}, {\"date\": \"2020-02-19\", \"Keyword\": \"Epidemic\", \"Keyword appearances\": 141}, {\"date\": \"2020-02-20\", \"Keyword\": \"Epidemic\", \"Keyword appearances\": 115}, {\"date\": \"2020-02-21\", \"Keyword\": \"Epidemic\", \"Keyword appearances\": 89}, {\"date\": \"2020-02-22\", \"Keyword\": \"Epidemic\", \"Keyword appearances\": 18}, {\"date\": \"2020-02-23\", \"Keyword\": \"Epidemic\", \"Keyword appearances\": 82}, {\"date\": \"2020-02-24\", \"Keyword\": \"Epidemic\", \"Keyword appearances\": 163}, {\"date\": \"2020-02-25\", \"Keyword\": \"Epidemic\", \"Keyword appearances\": 49}, {\"date\": \"2020-02-26\", \"Keyword\": \"Epidemic\", \"Keyword appearances\": 88}, {\"date\": \"2020-02-27\", \"Keyword\": \"Epidemic\", \"Keyword appearances\": 69}, {\"date\": \"2020-02-28\", \"Keyword\": \"Epidemic\", \"Keyword appearances\": 69}, {\"date\": \"2020-02-29\", \"Keyword\": \"Epidemic\", \"Keyword appearances\": 82}, {\"date\": \"2020-03-01\", \"Keyword\": \"Epidemic\", \"Keyword appearances\": 89}, {\"date\": \"2020-03-02\", \"Keyword\": \"Epidemic\", \"Keyword appearances\": 51}, {\"date\": \"2020-03-03\", \"Keyword\": \"Epidemic\", \"Keyword appearances\": 52}, {\"date\": \"2020-03-04\", \"Keyword\": \"Epidemic\", \"Keyword appearances\": 77}, {\"date\": \"2020-03-05\", \"Keyword\": \"Epidemic\", \"Keyword appearances\": 62}, {\"date\": \"2020-03-06\", \"Keyword\": \"Epidemic\", \"Keyword appearances\": 52}, {\"date\": \"2020-03-07\", \"Keyword\": \"Epidemic\", \"Keyword appearances\": 65}, {\"date\": \"2020-03-08\", \"Keyword\": \"Epidemic\", \"Keyword appearances\": 19}, {\"date\": \"2020-03-09\", \"Keyword\": \"Epidemic\", \"Keyword appearances\": 45}, {\"date\": \"2020-03-10\", \"Keyword\": \"Epidemic\", \"Keyword appearances\": 51}, {\"date\": \"2020-03-11\", \"Keyword\": \"Epidemic\", \"Keyword appearances\": 47}, {\"date\": \"2020-03-12\", \"Keyword\": \"Epidemic\", \"Keyword appearances\": 23}, {\"date\": \"2020-03-13\", \"Keyword\": \"Epidemic\", \"Keyword appearances\": 51}, {\"date\": \"2020-03-14\", \"Keyword\": \"Epidemic\", \"Keyword appearances\": 28}, {\"date\": \"2020-03-15\", \"Keyword\": \"Epidemic\", \"Keyword appearances\": 34}, {\"date\": \"2020-03-16\", \"Keyword\": \"Epidemic\", \"Keyword appearances\": 23}, {\"date\": \"2020-03-17\", \"Keyword\": \"Epidemic\", \"Keyword appearances\": 25}, {\"date\": \"2020-03-18\", \"Keyword\": \"Epidemic\", \"Keyword appearances\": 34}, {\"date\": \"2020-03-19\", \"Keyword\": \"Epidemic\", \"Keyword appearances\": 22}, {\"date\": \"2020-03-20\", \"Keyword\": \"Epidemic\", \"Keyword appearances\": 36}, {\"date\": \"2020-03-21\", \"Keyword\": \"Epidemic\", \"Keyword appearances\": 33}, {\"date\": \"2020-03-22\", \"Keyword\": \"Epidemic\", \"Keyword appearances\": 22}, {\"date\": \"2020-03-23\", \"Keyword\": \"Epidemic\", \"Keyword appearances\": 30}, {\"date\": \"2020-03-24\", \"Keyword\": \"Epidemic\", \"Keyword appearances\": 26}, {\"date\": \"2020-03-25\", \"Keyword\": \"Epidemic\", \"Keyword appearances\": 13}, {\"date\": \"2020-03-26\", \"Keyword\": \"Epidemic\", \"Keyword appearances\": 23}, {\"date\": \"2020-03-27\", \"Keyword\": \"Epidemic\", \"Keyword appearances\": 28}, {\"date\": \"2020-03-28\", \"Keyword\": \"Epidemic\", \"Keyword appearances\": 24}, {\"date\": \"2020-03-29\", \"Keyword\": \"Epidemic\", \"Keyword appearances\": 23}, {\"date\": \"2020-03-30\", \"Keyword\": \"Epidemic\", \"Keyword appearances\": 23}, {\"date\": \"2020-03-31\", \"Keyword\": \"Epidemic\", \"Keyword appearances\": 33}, {\"date\": \"2020-04-01\", \"Keyword\": \"Epidemic\", \"Keyword appearances\": 25}, {\"date\": \"2020-04-02\", \"Keyword\": \"Epidemic\", \"Keyword appearances\": 37}, {\"date\": \"2020-04-03\", \"Keyword\": \"Epidemic\", \"Keyword appearances\": 16}, {\"date\": \"2020-04-04\", \"Keyword\": \"Epidemic\", \"Keyword appearances\": 24}, {\"date\": \"2020-04-05\", \"Keyword\": \"Epidemic\", \"Keyword appearances\": 31}, {\"date\": \"2020-04-06\", \"Keyword\": \"Epidemic\", \"Keyword appearances\": 25}, {\"date\": \"2020-04-07\", \"Keyword\": \"Epidemic\", \"Keyword appearances\": 26}, {\"date\": \"2020-04-08\", \"Keyword\": \"Epidemic\", \"Keyword appearances\": 25}, {\"date\": \"2020-01-20\", \"Keyword\": \"Pandemic\", \"Keyword appearances\": 82}, {\"date\": \"2020-01-21\", \"Keyword\": \"Pandemic\", \"Keyword appearances\": 87}, {\"date\": \"2020-01-22\", \"Keyword\": \"Pandemic\", \"Keyword appearances\": 105}, {\"date\": \"2020-01-23\", \"Keyword\": \"Pandemic\", \"Keyword appearances\": 173}, {\"date\": \"2020-01-24\", \"Keyword\": \"Pandemic\", \"Keyword appearances\": 105}, {\"date\": \"2020-01-25\", \"Keyword\": \"Pandemic\", \"Keyword appearances\": 154}, {\"date\": \"2020-01-26\", \"Keyword\": \"Pandemic\", \"Keyword appearances\": 144}, {\"date\": \"2020-01-27\", \"Keyword\": \"Pandemic\", \"Keyword appearances\": 151}, {\"date\": \"2020-01-28\", \"Keyword\": \"Pandemic\", \"Keyword appearances\": 73}, {\"date\": \"2020-01-29\", \"Keyword\": \"Pandemic\", \"Keyword appearances\": 82}, {\"date\": \"2020-01-30\", \"Keyword\": \"Pandemic\", \"Keyword appearances\": 113}, {\"date\": \"2020-01-31\", \"Keyword\": \"Pandemic\", \"Keyword appearances\": 100}, {\"date\": \"2020-02-01\", \"Keyword\": \"Pandemic\", \"Keyword appearances\": 113}, {\"date\": \"2020-02-02\", \"Keyword\": \"Pandemic\", \"Keyword appearances\": 273}, {\"date\": \"2020-02-03\", \"Keyword\": \"Pandemic\", \"Keyword appearances\": 227}, {\"date\": \"2020-02-04\", \"Keyword\": \"Pandemic\", \"Keyword appearances\": 128}, {\"date\": \"2020-02-05\", \"Keyword\": \"Pandemic\", \"Keyword appearances\": 148}, {\"date\": \"2020-02-06\", \"Keyword\": \"Pandemic\", \"Keyword appearances\": 138}, {\"date\": \"2020-02-07\", \"Keyword\": \"Pandemic\", \"Keyword appearances\": 106}, {\"date\": \"2020-02-08\", \"Keyword\": \"Pandemic\", \"Keyword appearances\": 112}, {\"date\": \"2020-02-09\", \"Keyword\": \"Pandemic\", \"Keyword appearances\": 120}, {\"date\": \"2020-02-10\", \"Keyword\": \"Pandemic\", \"Keyword appearances\": 114}, {\"date\": \"2020-02-11\", \"Keyword\": \"Pandemic\", \"Keyword appearances\": 100}, {\"date\": \"2020-02-12\", \"Keyword\": \"Pandemic\", \"Keyword appearances\": 127}, {\"date\": \"2020-02-13\", \"Keyword\": \"Pandemic\", \"Keyword appearances\": 199}, {\"date\": \"2020-02-14\", \"Keyword\": \"Pandemic\", \"Keyword appearances\": 171}, {\"date\": \"2020-02-15\", \"Keyword\": \"Pandemic\", \"Keyword appearances\": 193}, {\"date\": \"2020-02-16\", \"Keyword\": \"Pandemic\", \"Keyword appearances\": 190}, {\"date\": \"2020-02-17\", \"Keyword\": \"Pandemic\", \"Keyword appearances\": 146}, {\"date\": \"2020-02-18\", \"Keyword\": \"Pandemic\", \"Keyword appearances\": 141}, {\"date\": \"2020-02-19\", \"Keyword\": \"Pandemic\", \"Keyword appearances\": 133}, {\"date\": \"2020-02-20\", \"Keyword\": \"Pandemic\", \"Keyword appearances\": 213}, {\"date\": \"2020-02-21\", \"Keyword\": \"Pandemic\", \"Keyword appearances\": 348}, {\"date\": \"2020-02-22\", \"Keyword\": \"Pandemic\", \"Keyword appearances\": 90}, {\"date\": \"2020-02-23\", \"Keyword\": \"Pandemic\", \"Keyword appearances\": 322}, {\"date\": \"2020-02-24\", \"Keyword\": \"Pandemic\", \"Keyword appearances\": 840}, {\"date\": \"2020-02-25\", \"Keyword\": \"Pandemic\", \"Keyword appearances\": 280}, {\"date\": \"2020-02-26\", \"Keyword\": \"Pandemic\", \"Keyword appearances\": 223}, {\"date\": \"2020-02-27\", \"Keyword\": \"Pandemic\", \"Keyword appearances\": 224}, {\"date\": \"2020-02-28\", \"Keyword\": \"Pandemic\", \"Keyword appearances\": 182}, {\"date\": \"2020-02-29\", \"Keyword\": \"Pandemic\", \"Keyword appearances\": 159}, {\"date\": \"2020-03-01\", \"Keyword\": \"Pandemic\", \"Keyword appearances\": 175}, {\"date\": \"2020-03-02\", \"Keyword\": \"Pandemic\", \"Keyword appearances\": 178}, {\"date\": \"2020-03-03\", \"Keyword\": \"Pandemic\", \"Keyword appearances\": 129}, {\"date\": \"2020-03-04\", \"Keyword\": \"Pandemic\", \"Keyword appearances\": 104}, {\"date\": \"2020-03-05\", \"Keyword\": \"Pandemic\", \"Keyword appearances\": 109}, {\"date\": \"2020-03-06\", \"Keyword\": \"Pandemic\", \"Keyword appearances\": 101}, {\"date\": \"2020-03-07\", \"Keyword\": \"Pandemic\", \"Keyword appearances\": 125}, {\"date\": \"2020-03-08\", \"Keyword\": \"Pandemic\", \"Keyword appearances\": 34}, {\"date\": \"2020-03-09\", \"Keyword\": \"Pandemic\", \"Keyword appearances\": 163}, {\"date\": \"2020-03-10\", \"Keyword\": \"Pandemic\", \"Keyword appearances\": 112}, {\"date\": \"2020-03-11\", \"Keyword\": \"Pandemic\", \"Keyword appearances\": 451}, {\"date\": \"2020-03-12\", \"Keyword\": \"Pandemic\", \"Keyword appearances\": 408}, {\"date\": \"2020-03-13\", \"Keyword\": \"Pandemic\", \"Keyword appearances\": 819}, {\"date\": \"2020-03-14\", \"Keyword\": \"Pandemic\", \"Keyword appearances\": 267}, {\"date\": \"2020-03-15\", \"Keyword\": \"Pandemic\", \"Keyword appearances\": 296}, {\"date\": \"2020-03-16\", \"Keyword\": \"Pandemic\", \"Keyword appearances\": 315}, {\"date\": \"2020-03-17\", \"Keyword\": \"Pandemic\", \"Keyword appearances\": 440}, {\"date\": \"2020-03-18\", \"Keyword\": \"Pandemic\", \"Keyword appearances\": 475}, {\"date\": \"2020-03-19\", \"Keyword\": \"Pandemic\", \"Keyword appearances\": 405}, {\"date\": \"2020-03-20\", \"Keyword\": \"Pandemic\", \"Keyword appearances\": 498}, {\"date\": \"2020-03-21\", \"Keyword\": \"Pandemic\", \"Keyword appearances\": 585}, {\"date\": \"2020-03-22\", \"Keyword\": \"Pandemic\", \"Keyword appearances\": 542}, {\"date\": \"2020-03-23\", \"Keyword\": \"Pandemic\", \"Keyword appearances\": 615}, {\"date\": \"2020-03-24\", \"Keyword\": \"Pandemic\", \"Keyword appearances\": 448}, {\"date\": \"2020-03-25\", \"Keyword\": \"Pandemic\", \"Keyword appearances\": 472}, {\"date\": \"2020-03-26\", \"Keyword\": \"Pandemic\", \"Keyword appearances\": 514}, {\"date\": \"2020-03-27\", \"Keyword\": \"Pandemic\", \"Keyword appearances\": 458}, {\"date\": \"2020-03-28\", \"Keyword\": \"Pandemic\", \"Keyword appearances\": 482}, {\"date\": \"2020-03-29\", \"Keyword\": \"Pandemic\", \"Keyword appearances\": 458}, {\"date\": \"2020-03-30\", \"Keyword\": \"Pandemic\", \"Keyword appearances\": 538}, {\"date\": \"2020-03-31\", \"Keyword\": \"Pandemic\", \"Keyword appearances\": 601}, {\"date\": \"2020-04-01\", \"Keyword\": \"Pandemic\", \"Keyword appearances\": 674}, {\"date\": \"2020-04-02\", \"Keyword\": \"Pandemic\", \"Keyword appearances\": 1295}, {\"date\": \"2020-04-03\", \"Keyword\": \"Pandemic\", \"Keyword appearances\": 918}, {\"date\": \"2020-04-04\", \"Keyword\": \"Pandemic\", \"Keyword appearances\": 718}, {\"date\": \"2020-04-05\", \"Keyword\": \"Pandemic\", \"Keyword appearances\": 623}, {\"date\": \"2020-04-06\", \"Keyword\": \"Pandemic\", \"Keyword appearances\": 638}, {\"date\": \"2020-04-07\", \"Keyword\": \"Pandemic\", \"Keyword appearances\": 746}, {\"date\": \"2020-04-08\", \"Keyword\": \"Pandemic\", \"Keyword appearances\": 712}, {\"date\": \"2020-01-20\", \"Keyword\": \"Outbreak\", \"Keyword appearances\": 1111}, {\"date\": \"2020-01-21\", \"Keyword\": \"Outbreak\", \"Keyword appearances\": 506}, {\"date\": \"2020-01-22\", \"Keyword\": \"Outbreak\", \"Keyword appearances\": 859}, {\"date\": \"2020-01-23\", \"Keyword\": \"Outbreak\", \"Keyword appearances\": 1057}, {\"date\": \"2020-01-24\", \"Keyword\": \"Outbreak\", \"Keyword appearances\": 774}, {\"date\": \"2020-01-25\", \"Keyword\": \"Outbreak\", \"Keyword appearances\": 791}, {\"date\": \"2020-01-26\", \"Keyword\": \"Outbreak\", \"Keyword appearances\": 928}, {\"date\": \"2020-01-27\", \"Keyword\": \"Outbreak\", \"Keyword appearances\": 741}, {\"date\": \"2020-01-28\", \"Keyword\": \"Outbreak\", \"Keyword appearances\": 693}, {\"date\": \"2020-01-29\", \"Keyword\": \"Outbreak\", \"Keyword appearances\": 689}, {\"date\": \"2020-01-30\", \"Keyword\": \"Outbreak\", \"Keyword appearances\": 861}, {\"date\": \"2020-01-31\", \"Keyword\": \"Outbreak\", \"Keyword appearances\": 601}, {\"date\": \"2020-02-01\", \"Keyword\": \"Outbreak\", \"Keyword appearances\": 800}, {\"date\": \"2020-02-02\", \"Keyword\": \"Outbreak\", \"Keyword appearances\": 692}, {\"date\": \"2020-02-03\", \"Keyword\": \"Outbreak\", \"Keyword appearances\": 780}, {\"date\": \"2020-02-04\", \"Keyword\": \"Outbreak\", \"Keyword appearances\": 844}, {\"date\": \"2020-02-05\", \"Keyword\": \"Outbreak\", \"Keyword appearances\": 821}, {\"date\": \"2020-02-06\", \"Keyword\": \"Outbreak\", \"Keyword appearances\": 1055}, {\"date\": \"2020-02-07\", \"Keyword\": \"Outbreak\", \"Keyword appearances\": 800}, {\"date\": \"2020-02-08\", \"Keyword\": \"Outbreak\", \"Keyword appearances\": 884}, {\"date\": \"2020-02-09\", \"Keyword\": \"Outbreak\", \"Keyword appearances\": 948}, {\"date\": \"2020-02-10\", \"Keyword\": \"Outbreak\", \"Keyword appearances\": 873}, {\"date\": \"2020-02-11\", \"Keyword\": \"Outbreak\", \"Keyword appearances\": 839}, {\"date\": \"2020-02-12\", \"Keyword\": \"Outbreak\", \"Keyword appearances\": 1036}, {\"date\": \"2020-02-13\", \"Keyword\": \"Outbreak\", \"Keyword appearances\": 908}, {\"date\": \"2020-02-14\", \"Keyword\": \"Outbreak\", \"Keyword appearances\": 953}, {\"date\": \"2020-02-15\", \"Keyword\": \"Outbreak\", \"Keyword appearances\": 899}, {\"date\": \"2020-02-16\", \"Keyword\": \"Outbreak\", \"Keyword appearances\": 775}, {\"date\": \"2020-02-17\", \"Keyword\": \"Outbreak\", \"Keyword appearances\": 985}, {\"date\": \"2020-02-18\", \"Keyword\": \"Outbreak\", \"Keyword appearances\": 933}, {\"date\": \"2020-02-19\", \"Keyword\": \"Outbreak\", \"Keyword appearances\": 836}, {\"date\": \"2020-02-20\", \"Keyword\": \"Outbreak\", \"Keyword appearances\": 907}, {\"date\": \"2020-02-21\", \"Keyword\": \"Outbreak\", \"Keyword appearances\": 740}, {\"date\": \"2020-02-22\", \"Keyword\": \"Outbreak\", \"Keyword appearances\": 162}, {\"date\": \"2020-02-23\", \"Keyword\": \"Outbreak\", \"Keyword appearances\": 802}, {\"date\": \"2020-02-24\", \"Keyword\": \"Outbreak\", \"Keyword appearances\": 1441}, {\"date\": \"2020-02-25\", \"Keyword\": \"Outbreak\", \"Keyword appearances\": 612}, {\"date\": \"2020-02-26\", \"Keyword\": \"Outbreak\", \"Keyword appearances\": 912}, {\"date\": \"2020-02-27\", \"Keyword\": \"Outbreak\", \"Keyword appearances\": 433}, {\"date\": \"2020-02-28\", \"Keyword\": \"Outbreak\", \"Keyword appearances\": 430}, {\"date\": \"2020-02-29\", \"Keyword\": \"Outbreak\", \"Keyword appearances\": 360}, {\"date\": \"2020-03-01\", \"Keyword\": \"Outbreak\", \"Keyword appearances\": 438}, {\"date\": \"2020-03-02\", \"Keyword\": \"Outbreak\", \"Keyword appearances\": 774}, {\"date\": \"2020-03-03\", \"Keyword\": \"Outbreak\", \"Keyword appearances\": 582}, {\"date\": \"2020-03-04\", \"Keyword\": \"Outbreak\", \"Keyword appearances\": 570}, {\"date\": \"2020-03-05\", \"Keyword\": \"Outbreak\", \"Keyword appearances\": 423}, {\"date\": \"2020-03-06\", \"Keyword\": \"Outbreak\", \"Keyword appearances\": 427}, {\"date\": \"2020-03-07\", \"Keyword\": \"Outbreak\", \"Keyword appearances\": 350}, {\"date\": \"2020-03-08\", \"Keyword\": \"Outbreak\", \"Keyword appearances\": 184}, {\"date\": \"2020-03-09\", \"Keyword\": \"Outbreak\", \"Keyword appearances\": 455}, {\"date\": \"2020-03-10\", \"Keyword\": \"Outbreak\", \"Keyword appearances\": 370}, {\"date\": \"2020-03-11\", \"Keyword\": \"Outbreak\", \"Keyword appearances\": 344}, {\"date\": \"2020-03-12\", \"Keyword\": \"Outbreak\", \"Keyword appearances\": 248}, {\"date\": \"2020-03-13\", \"Keyword\": \"Outbreak\", \"Keyword appearances\": 662}, {\"date\": \"2020-03-14\", \"Keyword\": \"Outbreak\", \"Keyword appearances\": 210}, {\"date\": \"2020-03-15\", \"Keyword\": \"Outbreak\", \"Keyword appearances\": 287}, {\"date\": \"2020-03-16\", \"Keyword\": \"Outbreak\", \"Keyword appearances\": 483}, {\"date\": \"2020-03-17\", \"Keyword\": \"Outbreak\", \"Keyword appearances\": 365}, {\"date\": \"2020-03-18\", \"Keyword\": \"Outbreak\", \"Keyword appearances\": 376}, {\"date\": \"2020-03-19\", \"Keyword\": \"Outbreak\", \"Keyword appearances\": 220}, {\"date\": \"2020-03-20\", \"Keyword\": \"Outbreak\", \"Keyword appearances\": 232}, {\"date\": \"2020-03-21\", \"Keyword\": \"Outbreak\", \"Keyword appearances\": 224}, {\"date\": \"2020-03-22\", \"Keyword\": \"Outbreak\", \"Keyword appearances\": 232}, {\"date\": \"2020-03-23\", \"Keyword\": \"Outbreak\", \"Keyword appearances\": 263}, {\"date\": \"2020-03-24\", \"Keyword\": \"Outbreak\", \"Keyword appearances\": 213}, {\"date\": \"2020-03-25\", \"Keyword\": \"Outbreak\", \"Keyword appearances\": 258}, {\"date\": \"2020-03-26\", \"Keyword\": \"Outbreak\", \"Keyword appearances\": 254}, {\"date\": \"2020-03-27\", \"Keyword\": \"Outbreak\", \"Keyword appearances\": 260}, {\"date\": \"2020-03-28\", \"Keyword\": \"Outbreak\", \"Keyword appearances\": 256}, {\"date\": \"2020-03-29\", \"Keyword\": \"Outbreak\", \"Keyword appearances\": 223}, {\"date\": \"2020-03-30\", \"Keyword\": \"Outbreak\", \"Keyword appearances\": 220}, {\"date\": \"2020-03-31\", \"Keyword\": \"Outbreak\", \"Keyword appearances\": 226}, {\"date\": \"2020-04-01\", \"Keyword\": \"Outbreak\", \"Keyword appearances\": 266}, {\"date\": \"2020-04-02\", \"Keyword\": \"Outbreak\", \"Keyword appearances\": 373}, {\"date\": \"2020-04-03\", \"Keyword\": \"Outbreak\", \"Keyword appearances\": 186}, {\"date\": \"2020-04-04\", \"Keyword\": \"Outbreak\", \"Keyword appearances\": 186}, {\"date\": \"2020-04-05\", \"Keyword\": \"Outbreak\", \"Keyword appearances\": 194}, {\"date\": \"2020-04-06\", \"Keyword\": \"Outbreak\", \"Keyword appearances\": 220}, {\"date\": \"2020-04-07\", \"Keyword\": \"Outbreak\", \"Keyword appearances\": 187}, {\"date\": \"2020-04-08\", \"Keyword\": \"Outbreak\", \"Keyword appearances\": 222}, {\"date\": \"2020-01-20\", \"Keyword\": \"Wuhan\", \"Keyword appearances\": 1310}, {\"date\": \"2020-01-21\", \"Keyword\": \"Wuhan\", \"Keyword appearances\": 2138}, {\"date\": \"2020-01-22\", \"Keyword\": \"Wuhan\", \"Keyword appearances\": 1989}, {\"date\": \"2020-01-23\", \"Keyword\": \"Wuhan\", \"Keyword appearances\": 1536}, {\"date\": \"2020-01-24\", \"Keyword\": \"Wuhan\", \"Keyword appearances\": 1305}, {\"date\": \"2020-01-25\", \"Keyword\": \"Wuhan\", \"Keyword appearances\": 1127}, {\"date\": \"2020-01-26\", \"Keyword\": \"Wuhan\", \"Keyword appearances\": 1252}, {\"date\": \"2020-01-27\", \"Keyword\": \"Wuhan\", \"Keyword appearances\": 1068}, {\"date\": \"2020-01-28\", \"Keyword\": \"Wuhan\", \"Keyword appearances\": 882}, {\"date\": \"2020-01-29\", \"Keyword\": \"Wuhan\", \"Keyword appearances\": 911}, {\"date\": \"2020-01-30\", \"Keyword\": \"Wuhan\", \"Keyword appearances\": 863}, {\"date\": \"2020-01-31\", \"Keyword\": \"Wuhan\", \"Keyword appearances\": 657}, {\"date\": \"2020-02-01\", \"Keyword\": \"Wuhan\", \"Keyword appearances\": 946}, {\"date\": \"2020-02-02\", \"Keyword\": \"Wuhan\", \"Keyword appearances\": 1204}, {\"date\": \"2020-02-03\", \"Keyword\": \"Wuhan\", \"Keyword appearances\": 1038}, {\"date\": \"2020-02-04\", \"Keyword\": \"Wuhan\", \"Keyword appearances\": 935}, {\"date\": \"2020-02-05\", \"Keyword\": \"Wuhan\", \"Keyword appearances\": 920}, {\"date\": \"2020-02-06\", \"Keyword\": \"Wuhan\", \"Keyword appearances\": 1479}, {\"date\": \"2020-02-07\", \"Keyword\": \"Wuhan\", \"Keyword appearances\": 998}, {\"date\": \"2020-02-08\", \"Keyword\": \"Wuhan\", \"Keyword appearances\": 1087}, {\"date\": \"2020-02-09\", \"Keyword\": \"Wuhan\", \"Keyword appearances\": 1021}, {\"date\": \"2020-02-10\", \"Keyword\": \"Wuhan\", \"Keyword appearances\": 738}, {\"date\": \"2020-02-11\", \"Keyword\": \"Wuhan\", \"Keyword appearances\": 881}, {\"date\": \"2020-02-12\", \"Keyword\": \"Wuhan\", \"Keyword appearances\": 660}, {\"date\": \"2020-02-13\", \"Keyword\": \"Wuhan\", \"Keyword appearances\": 652}, {\"date\": \"2020-02-14\", \"Keyword\": \"Wuhan\", \"Keyword appearances\": 820}, {\"date\": \"2020-02-15\", \"Keyword\": \"Wuhan\", \"Keyword appearances\": 921}, {\"date\": \"2020-02-16\", \"Keyword\": \"Wuhan\", \"Keyword appearances\": 973}, {\"date\": \"2020-02-17\", \"Keyword\": \"Wuhan\", \"Keyword appearances\": 724}, {\"date\": \"2020-02-18\", \"Keyword\": \"Wuhan\", \"Keyword appearances\": 898}, {\"date\": \"2020-02-19\", \"Keyword\": \"Wuhan\", \"Keyword appearances\": 705}, {\"date\": \"2020-02-20\", \"Keyword\": \"Wuhan\", \"Keyword appearances\": 590}, {\"date\": \"2020-02-21\", \"Keyword\": \"Wuhan\", \"Keyword appearances\": 466}, {\"date\": \"2020-02-22\", \"Keyword\": \"Wuhan\", \"Keyword appearances\": 111}, {\"date\": \"2020-02-23\", \"Keyword\": \"Wuhan\", \"Keyword appearances\": 444}, {\"date\": \"2020-02-24\", \"Keyword\": \"Wuhan\", \"Keyword appearances\": 549}, {\"date\": \"2020-02-25\", \"Keyword\": \"Wuhan\", \"Keyword appearances\": 156}, {\"date\": \"2020-02-26\", \"Keyword\": \"Wuhan\", \"Keyword appearances\": 94}, {\"date\": \"2020-02-27\", \"Keyword\": \"Wuhan\", \"Keyword appearances\": 100}, {\"date\": \"2020-02-28\", \"Keyword\": \"Wuhan\", \"Keyword appearances\": 93}, {\"date\": \"2020-02-29\", \"Keyword\": \"Wuhan\", \"Keyword appearances\": 107}, {\"date\": \"2020-03-01\", \"Keyword\": \"Wuhan\", \"Keyword appearances\": 141}, {\"date\": \"2020-03-02\", \"Keyword\": \"Wuhan\", \"Keyword appearances\": 122}, {\"date\": \"2020-03-03\", \"Keyword\": \"Wuhan\", \"Keyword appearances\": 95}, {\"date\": \"2020-03-04\", \"Keyword\": \"Wuhan\", \"Keyword appearances\": 153}, {\"date\": \"2020-03-05\", \"Keyword\": \"Wuhan\", \"Keyword appearances\": 100}, {\"date\": \"2020-03-06\", \"Keyword\": \"Wuhan\", \"Keyword appearances\": 64}, {\"date\": \"2020-03-07\", \"Keyword\": \"Wuhan\", \"Keyword appearances\": 106}, {\"date\": \"2020-03-08\", \"Keyword\": \"Wuhan\", \"Keyword appearances\": 21}, {\"date\": \"2020-03-09\", \"Keyword\": \"Wuhan\", \"Keyword appearances\": 109}, {\"date\": \"2020-03-10\", \"Keyword\": \"Wuhan\", \"Keyword appearances\": 108}, {\"date\": \"2020-03-11\", \"Keyword\": \"Wuhan\", \"Keyword appearances\": 82}, {\"date\": \"2020-03-12\", \"Keyword\": \"Wuhan\", \"Keyword appearances\": 78}, {\"date\": \"2020-03-13\", \"Keyword\": \"Wuhan\", \"Keyword appearances\": 183}, {\"date\": \"2020-03-14\", \"Keyword\": \"Wuhan\", \"Keyword appearances\": 92}, {\"date\": \"2020-03-15\", \"Keyword\": \"Wuhan\", \"Keyword appearances\": 62}, {\"date\": \"2020-03-16\", \"Keyword\": \"Wuhan\", \"Keyword appearances\": 81}, {\"date\": \"2020-03-17\", \"Keyword\": \"Wuhan\", \"Keyword appearances\": 106}, {\"date\": \"2020-03-18\", \"Keyword\": \"Wuhan\", \"Keyword appearances\": 159}, {\"date\": \"2020-03-19\", \"Keyword\": \"Wuhan\", \"Keyword appearances\": 134}, {\"date\": \"2020-03-20\", \"Keyword\": \"Wuhan\", \"Keyword appearances\": 75}, {\"date\": \"2020-03-21\", \"Keyword\": \"Wuhan\", \"Keyword appearances\": 94}, {\"date\": \"2020-03-22\", \"Keyword\": \"Wuhan\", \"Keyword appearances\": 83}, {\"date\": \"2020-03-23\", \"Keyword\": \"Wuhan\", \"Keyword appearances\": 88}, {\"date\": \"2020-03-24\", \"Keyword\": \"Wuhan\", \"Keyword appearances\": 68}, {\"date\": \"2020-03-25\", \"Keyword\": \"Wuhan\", \"Keyword appearances\": 93}, {\"date\": \"2020-03-26\", \"Keyword\": \"Wuhan\", \"Keyword appearances\": 66}, {\"date\": \"2020-03-27\", \"Keyword\": \"Wuhan\", \"Keyword appearances\": 90}, {\"date\": \"2020-03-28\", \"Keyword\": \"Wuhan\", \"Keyword appearances\": 113}, {\"date\": \"2020-03-29\", \"Keyword\": \"Wuhan\", \"Keyword appearances\": 120}, {\"date\": \"2020-03-30\", \"Keyword\": \"Wuhan\", \"Keyword appearances\": 87}, {\"date\": \"2020-03-31\", \"Keyword\": \"Wuhan\", \"Keyword appearances\": 71}, {\"date\": \"2020-04-01\", \"Keyword\": \"Wuhan\", \"Keyword appearances\": 110}, {\"date\": \"2020-04-02\", \"Keyword\": \"Wuhan\", \"Keyword appearances\": 103}, {\"date\": \"2020-04-03\", \"Keyword\": \"Wuhan\", \"Keyword appearances\": 96}, {\"date\": \"2020-04-04\", \"Keyword\": \"Wuhan\", \"Keyword appearances\": 94}, {\"date\": \"2020-04-05\", \"Keyword\": \"Wuhan\", \"Keyword appearances\": 74}, {\"date\": \"2020-04-06\", \"Keyword\": \"Wuhan\", \"Keyword appearances\": 79}, {\"date\": \"2020-04-07\", \"Keyword\": \"Wuhan\", \"Keyword appearances\": 157}, {\"date\": \"2020-04-08\", \"Keyword\": \"Wuhan\", \"Keyword appearances\": 140}]}}, {\"mode\": \"vega-lite\"});\n",
       "</script>"
      ],
      "text/plain": [
       "alt.LayerChart(...)"
      ]
     },
     "execution_count": 40,
     "metadata": {},
     "output_type": "execute_result"
    }
   ],
   "source": [
    "highlight = alt.selection(type='single', on='mouseover',\n",
    "                          fields=['Keyword'], nearest=True)\n",
    "\n",
    "base = alt.Chart(Second_Group).encode(\n",
    "    x='date:T',\n",
    "    y=alt.Y('Keyword appearances:Q',title = 'Keyword appearances in dataset',axis=alt.Axis(grid=False)),\n",
    "    color='Keyword:N',\n",
    "    tooltip=['Keyword', 'Keyword appearances']\n",
    ")\n",
    "\n",
    "points = base.mark_circle().encode(\n",
    "    opacity=alt.value(0),\n",
    ").add_selection(\n",
    "    highlight\n",
    ").properties(\n",
    "    width=600\n",
    ")\n",
    "\n",
    "lines = base.mark_line().encode(\n",
    "    size=alt.condition(~highlight, alt.value(1), alt.value(3))\n",
    ")\n",
    "\n",
    "points + lines"
   ]
  },
  {
   "cell_type": "markdown",
   "metadata": {},
   "source": [
    "## Third keywords group"
   ]
  },
  {
   "cell_type": "code",
   "execution_count": 32,
   "metadata": {},
   "outputs": [
    {
     "name": "stdout",
     "output_type": "stream",
     "text": [
      "<class 'pandas.core.frame.DataFrame'>\n",
      "RangeIndex: 400 entries, 0 to 399\n",
      "Data columns (total 3 columns):\n",
      " #   Column               Non-Null Count  Dtype \n",
      "---  ------               --------------  ----- \n",
      " 0   date                 400 non-null    object\n",
      " 1   Keyword              400 non-null    object\n",
      " 2   Keyword appearances  400 non-null    int64 \n",
      "dtypes: int64(1), object(2)\n",
      "memory usage: 9.5+ KB\n"
     ]
    }
   ],
   "source": [
    "Third = keyword_data[['social distancing', 'Flatten the curve', 'travel ban','treatment','mask','date']].melt(\"date\")\n",
    "Third_Group= Third.rename(\n",
    "    columns = {\"value\":\"Keyword appearances\", \"variable\":\"Keyword\"})\n",
    "Third_Group.info()"
   ]
  },
  {
   "cell_type": "code",
   "execution_count": 34,
   "metadata": {},
   "outputs": [
    {
     "data": {
      "text/html": [
       "\n",
       "<div id=\"altair-viz-cb44208114424f94b12764169c0cb5f6\"></div>\n",
       "<script type=\"text/javascript\">\n",
       "  (function(spec, embedOpt){\n",
       "    let outputDiv = document.currentScript.previousElementSibling;\n",
       "    if (outputDiv.id !== \"altair-viz-cb44208114424f94b12764169c0cb5f6\") {\n",
       "      outputDiv = document.getElementById(\"altair-viz-cb44208114424f94b12764169c0cb5f6\");\n",
       "    }\n",
       "    const paths = {\n",
       "      \"vega\": \"https://cdn.jsdelivr.net/npm//vega@5?noext\",\n",
       "      \"vega-lib\": \"https://cdn.jsdelivr.net/npm//vega-lib?noext\",\n",
       "      \"vega-lite\": \"https://cdn.jsdelivr.net/npm//vega-lite@4.8.1?noext\",\n",
       "      \"vega-embed\": \"https://cdn.jsdelivr.net/npm//vega-embed@6?noext\",\n",
       "    };\n",
       "\n",
       "    function loadScript(lib) {\n",
       "      return new Promise(function(resolve, reject) {\n",
       "        var s = document.createElement('script');\n",
       "        s.src = paths[lib];\n",
       "        s.async = true;\n",
       "        s.onload = () => resolve(paths[lib]);\n",
       "        s.onerror = () => reject(`Error loading script: ${paths[lib]}`);\n",
       "        document.getElementsByTagName(\"head\")[0].appendChild(s);\n",
       "      });\n",
       "    }\n",
       "\n",
       "    function showError(err) {\n",
       "      outputDiv.innerHTML = `<div class=\"error\" style=\"color:red;\">${err}</div>`;\n",
       "      throw err;\n",
       "    }\n",
       "\n",
       "    function displayChart(vegaEmbed) {\n",
       "      vegaEmbed(outputDiv, spec, embedOpt)\n",
       "        .catch(err => showError(`Javascript Error: ${err.message}<br>This usually means there's a typo in your chart specification. See the javascript console for the full traceback.`));\n",
       "    }\n",
       "\n",
       "    if(typeof define === \"function\" && define.amd) {\n",
       "      requirejs.config({paths});\n",
       "      require([\"vega-embed\"], displayChart, err => showError(`Error loading script: ${err.message}`));\n",
       "    } else if (typeof vegaEmbed === \"function\") {\n",
       "      displayChart(vegaEmbed);\n",
       "    } else {\n",
       "      loadScript(\"vega\")\n",
       "        .then(() => loadScript(\"vega-lite\"))\n",
       "        .then(() => loadScript(\"vega-embed\"))\n",
       "        .catch(showError)\n",
       "        .then(() => displayChart(vegaEmbed));\n",
       "    }\n",
       "  })({\"config\": {\"view\": {\"continuousWidth\": 400, \"continuousHeight\": 300}}, \"layer\": [{\"mark\": \"circle\", \"encoding\": {\"color\": {\"type\": \"nominal\", \"field\": \"Keyword\"}, \"opacity\": {\"value\": 0}, \"tooltip\": [{\"type\": \"nominal\", \"field\": \"Keyword\"}, {\"type\": \"quantitative\", \"field\": \"Keyword appearances\"}], \"x\": {\"type\": \"temporal\", \"field\": \"date\"}, \"y\": {\"type\": \"quantitative\", \"axis\": {\"grid\": false}, \"field\": \"Keyword appearances\", \"title\": \"Keyword appearances in dataset\"}}, \"selection\": {\"selector015\": {\"type\": \"single\", \"on\": \"mouseover\", \"fields\": [\"Keyword\"], \"nearest\": true}}, \"width\": 600}, {\"mark\": \"line\", \"encoding\": {\"color\": {\"type\": \"nominal\", \"field\": \"Keyword\"}, \"size\": {\"condition\": {\"value\": 1, \"selection\": {\"not\": \"selector015\"}}, \"value\": 3}, \"tooltip\": [{\"type\": \"nominal\", \"field\": \"Keyword\"}, {\"type\": \"quantitative\", \"field\": \"Keyword appearances\"}], \"x\": {\"type\": \"temporal\", \"field\": \"date\"}, \"y\": {\"type\": \"quantitative\", \"axis\": {\"grid\": false}, \"field\": \"Keyword appearances\", \"title\": \"Keyword appearances in dataset\"}}}], \"data\": {\"name\": \"data-cf0d3602d97339a779ab34bb4f24b174\"}, \"$schema\": \"https://vega.github.io/schema/vega-lite/v4.8.1.json\", \"datasets\": {\"data-cf0d3602d97339a779ab34bb4f24b174\": [{\"date\": \"2020-01-20\", \"Keyword\": \"social distancing\", \"Keyword appearances\": 0}, {\"date\": \"2020-01-21\", \"Keyword\": \"social distancing\", \"Keyword appearances\": 0}, {\"date\": \"2020-01-22\", \"Keyword\": \"social distancing\", \"Keyword appearances\": 0}, {\"date\": \"2020-01-23\", \"Keyword\": \"social distancing\", \"Keyword appearances\": 0}, {\"date\": \"2020-01-24\", \"Keyword\": \"social distancing\", \"Keyword appearances\": 0}, {\"date\": \"2020-01-25\", \"Keyword\": \"social distancing\", \"Keyword appearances\": 0}, {\"date\": \"2020-01-26\", \"Keyword\": \"social distancing\", \"Keyword appearances\": 0}, {\"date\": \"2020-01-27\", \"Keyword\": \"social distancing\", \"Keyword appearances\": 0}, {\"date\": \"2020-01-28\", \"Keyword\": \"social distancing\", \"Keyword appearances\": 1}, {\"date\": \"2020-01-29\", \"Keyword\": \"social distancing\", \"Keyword appearances\": 0}, {\"date\": \"2020-01-30\", \"Keyword\": \"social distancing\", \"Keyword appearances\": 0}, {\"date\": \"2020-01-31\", \"Keyword\": \"social distancing\", \"Keyword appearances\": 0}, {\"date\": \"2020-02-01\", \"Keyword\": \"social distancing\", \"Keyword appearances\": 0}, {\"date\": \"2020-02-02\", \"Keyword\": \"social distancing\", \"Keyword appearances\": 2}, {\"date\": \"2020-02-03\", \"Keyword\": \"social distancing\", \"Keyword appearances\": 6}, {\"date\": \"2020-02-04\", \"Keyword\": \"social distancing\", \"Keyword appearances\": 1}, {\"date\": \"2020-02-05\", \"Keyword\": \"social distancing\", \"Keyword appearances\": 0}, {\"date\": \"2020-02-06\", \"Keyword\": \"social distancing\", \"Keyword appearances\": 1}, {\"date\": \"2020-02-07\", \"Keyword\": \"social distancing\", \"Keyword appearances\": 0}, {\"date\": \"2020-02-08\", \"Keyword\": \"social distancing\", \"Keyword appearances\": 0}, {\"date\": \"2020-02-09\", \"Keyword\": \"social distancing\", \"Keyword appearances\": 1}, {\"date\": \"2020-02-10\", \"Keyword\": \"social distancing\", \"Keyword appearances\": 0}, {\"date\": \"2020-02-11\", \"Keyword\": \"social distancing\", \"Keyword appearances\": 0}, {\"date\": \"2020-02-12\", \"Keyword\": \"social distancing\", \"Keyword appearances\": 3}, {\"date\": \"2020-02-13\", \"Keyword\": \"social distancing\", \"Keyword appearances\": 3}, {\"date\": \"2020-02-14\", \"Keyword\": \"social distancing\", \"Keyword appearances\": 1}, {\"date\": \"2020-02-15\", \"Keyword\": \"social distancing\", \"Keyword appearances\": 0}, {\"date\": \"2020-02-16\", \"Keyword\": \"social distancing\", \"Keyword appearances\": 1}, {\"date\": \"2020-02-17\", \"Keyword\": \"social distancing\", \"Keyword appearances\": 2}, {\"date\": \"2020-02-18\", \"Keyword\": \"social distancing\", \"Keyword appearances\": 1}, {\"date\": \"2020-02-19\", \"Keyword\": \"social distancing\", \"Keyword appearances\": 0}, {\"date\": \"2020-02-20\", \"Keyword\": \"social distancing\", \"Keyword appearances\": 1}, {\"date\": \"2020-02-21\", \"Keyword\": \"social distancing\", \"Keyword appearances\": 0}, {\"date\": \"2020-02-22\", \"Keyword\": \"social distancing\", \"Keyword appearances\": 0}, {\"date\": \"2020-02-23\", \"Keyword\": \"social distancing\", \"Keyword appearances\": 1}, {\"date\": \"2020-02-24\", \"Keyword\": \"social distancing\", \"Keyword appearances\": 3}, {\"date\": \"2020-02-25\", \"Keyword\": \"social distancing\", \"Keyword appearances\": 1}, {\"date\": \"2020-02-26\", \"Keyword\": \"social distancing\", \"Keyword appearances\": 1}, {\"date\": \"2020-02-27\", \"Keyword\": \"social distancing\", \"Keyword appearances\": 0}, {\"date\": \"2020-02-28\", \"Keyword\": \"social distancing\", \"Keyword appearances\": 0}, {\"date\": \"2020-02-29\", \"Keyword\": \"social distancing\", \"Keyword appearances\": 2}, {\"date\": \"2020-03-01\", \"Keyword\": \"social distancing\", \"Keyword appearances\": 3}, {\"date\": \"2020-03-02\", \"Keyword\": \"social distancing\", \"Keyword appearances\": 6}, {\"date\": \"2020-03-03\", \"Keyword\": \"social distancing\", \"Keyword appearances\": 4}, {\"date\": \"2020-03-04\", \"Keyword\": \"social distancing\", \"Keyword appearances\": 4}, {\"date\": \"2020-03-05\", \"Keyword\": \"social distancing\", \"Keyword appearances\": 3}, {\"date\": \"2020-03-06\", \"Keyword\": \"social distancing\", \"Keyword appearances\": 7}, {\"date\": \"2020-03-07\", \"Keyword\": \"social distancing\", \"Keyword appearances\": 8}, {\"date\": \"2020-03-08\", \"Keyword\": \"social distancing\", \"Keyword appearances\": 6}, {\"date\": \"2020-03-09\", \"Keyword\": \"social distancing\", \"Keyword appearances\": 13}, {\"date\": \"2020-03-10\", \"Keyword\": \"social distancing\", \"Keyword appearances\": 40}, {\"date\": \"2020-03-11\", \"Keyword\": \"social distancing\", \"Keyword appearances\": 48}, {\"date\": \"2020-03-12\", \"Keyword\": \"social distancing\", \"Keyword appearances\": 28}, {\"date\": \"2020-03-13\", \"Keyword\": \"social distancing\", \"Keyword appearances\": 84}, {\"date\": \"2020-03-14\", \"Keyword\": \"social distancing\", \"Keyword appearances\": 108}, {\"date\": \"2020-03-15\", \"Keyword\": \"social distancing\", \"Keyword appearances\": 138}, {\"date\": \"2020-03-16\", \"Keyword\": \"social distancing\", \"Keyword appearances\": 132}, {\"date\": \"2020-03-17\", \"Keyword\": \"social distancing\", \"Keyword appearances\": 135}, {\"date\": \"2020-03-18\", \"Keyword\": \"social distancing\", \"Keyword appearances\": 152}, {\"date\": \"2020-03-19\", \"Keyword\": \"social distancing\", \"Keyword appearances\": 117}, {\"date\": \"2020-03-20\", \"Keyword\": \"social distancing\", \"Keyword appearances\": 120}, {\"date\": \"2020-03-21\", \"Keyword\": \"social distancing\", \"Keyword appearances\": 125}, {\"date\": \"2020-03-22\", \"Keyword\": \"social distancing\", \"Keyword appearances\": 191}, {\"date\": \"2020-03-23\", \"Keyword\": \"social distancing\", \"Keyword appearances\": 162}, {\"date\": \"2020-03-24\", \"Keyword\": \"social distancing\", \"Keyword appearances\": 134}, {\"date\": \"2020-03-25\", \"Keyword\": \"social distancing\", \"Keyword appearances\": 134}, {\"date\": \"2020-03-26\", \"Keyword\": \"social distancing\", \"Keyword appearances\": 127}, {\"date\": \"2020-03-27\", \"Keyword\": \"social distancing\", \"Keyword appearances\": 134}, {\"date\": \"2020-03-28\", \"Keyword\": \"social distancing\", \"Keyword appearances\": 96}, {\"date\": \"2020-03-29\", \"Keyword\": \"social distancing\", \"Keyword appearances\": 231}, {\"date\": \"2020-03-30\", \"Keyword\": \"social distancing\", \"Keyword appearances\": 173}, {\"date\": \"2020-03-31\", \"Keyword\": \"social distancing\", \"Keyword appearances\": 163}, {\"date\": \"2020-04-01\", \"Keyword\": \"social distancing\", \"Keyword appearances\": 131}, {\"date\": \"2020-04-02\", \"Keyword\": \"social distancing\", \"Keyword appearances\": 140}, {\"date\": \"2020-04-03\", \"Keyword\": \"social distancing\", \"Keyword appearances\": 113}, {\"date\": \"2020-04-04\", \"Keyword\": \"social distancing\", \"Keyword appearances\": 109}, {\"date\": \"2020-04-05\", \"Keyword\": \"social distancing\", \"Keyword appearances\": 121}, {\"date\": \"2020-04-06\", \"Keyword\": \"social distancing\", \"Keyword appearances\": 124}, {\"date\": \"2020-04-07\", \"Keyword\": \"social distancing\", \"Keyword appearances\": 134}, {\"date\": \"2020-04-08\", \"Keyword\": \"social distancing\", \"Keyword appearances\": 138}, {\"date\": \"2020-01-20\", \"Keyword\": \"Flatten the curve\", \"Keyword appearances\": 0}, {\"date\": \"2020-01-21\", \"Keyword\": \"Flatten the curve\", \"Keyword appearances\": 0}, {\"date\": \"2020-01-22\", \"Keyword\": \"Flatten the curve\", \"Keyword appearances\": 0}, {\"date\": \"2020-01-23\", \"Keyword\": \"Flatten the curve\", \"Keyword appearances\": 0}, {\"date\": \"2020-01-24\", \"Keyword\": \"Flatten the curve\", \"Keyword appearances\": 0}, {\"date\": \"2020-01-25\", \"Keyword\": \"Flatten the curve\", \"Keyword appearances\": 0}, {\"date\": \"2020-01-26\", \"Keyword\": \"Flatten the curve\", \"Keyword appearances\": 0}, {\"date\": \"2020-01-27\", \"Keyword\": \"Flatten the curve\", \"Keyword appearances\": 0}, {\"date\": \"2020-01-28\", \"Keyword\": \"Flatten the curve\", \"Keyword appearances\": 0}, {\"date\": \"2020-01-29\", \"Keyword\": \"Flatten the curve\", \"Keyword appearances\": 0}, {\"date\": \"2020-01-30\", \"Keyword\": \"Flatten the curve\", \"Keyword appearances\": 0}, {\"date\": \"2020-01-31\", \"Keyword\": \"Flatten the curve\", \"Keyword appearances\": 0}, {\"date\": \"2020-02-01\", \"Keyword\": \"Flatten the curve\", \"Keyword appearances\": 0}, {\"date\": \"2020-02-02\", \"Keyword\": \"Flatten the curve\", \"Keyword appearances\": 0}, {\"date\": \"2020-02-03\", \"Keyword\": \"Flatten the curve\", \"Keyword appearances\": 0}, {\"date\": \"2020-02-04\", \"Keyword\": \"Flatten the curve\", \"Keyword appearances\": 0}, {\"date\": \"2020-02-05\", \"Keyword\": \"Flatten the curve\", \"Keyword appearances\": 0}, {\"date\": \"2020-02-06\", \"Keyword\": \"Flatten the curve\", \"Keyword appearances\": 0}, {\"date\": \"2020-02-07\", \"Keyword\": \"Flatten the curve\", \"Keyword appearances\": 0}, {\"date\": \"2020-02-08\", \"Keyword\": \"Flatten the curve\", \"Keyword appearances\": 0}, {\"date\": \"2020-02-09\", \"Keyword\": \"Flatten the curve\", \"Keyword appearances\": 0}, {\"date\": \"2020-02-10\", \"Keyword\": \"Flatten the curve\", \"Keyword appearances\": 0}, {\"date\": \"2020-02-11\", \"Keyword\": \"Flatten the curve\", \"Keyword appearances\": 0}, {\"date\": \"2020-02-12\", \"Keyword\": \"Flatten the curve\", \"Keyword appearances\": 0}, {\"date\": \"2020-02-13\", \"Keyword\": \"Flatten the curve\", \"Keyword appearances\": 0}, {\"date\": \"2020-02-14\", \"Keyword\": \"Flatten the curve\", \"Keyword appearances\": 0}, {\"date\": \"2020-02-15\", \"Keyword\": \"Flatten the curve\", \"Keyword appearances\": 0}, {\"date\": \"2020-02-16\", \"Keyword\": \"Flatten the curve\", \"Keyword appearances\": 0}, {\"date\": \"2020-02-17\", \"Keyword\": \"Flatten the curve\", \"Keyword appearances\": 0}, {\"date\": \"2020-02-18\", \"Keyword\": \"Flatten the curve\", \"Keyword appearances\": 0}, {\"date\": \"2020-02-19\", \"Keyword\": \"Flatten the curve\", \"Keyword appearances\": 0}, {\"date\": \"2020-02-20\", \"Keyword\": \"Flatten the curve\", \"Keyword appearances\": 0}, {\"date\": \"2020-02-21\", \"Keyword\": \"Flatten the curve\", \"Keyword appearances\": 0}, {\"date\": \"2020-02-22\", \"Keyword\": \"Flatten the curve\", \"Keyword appearances\": 0}, {\"date\": \"2020-02-23\", \"Keyword\": \"Flatten the curve\", \"Keyword appearances\": 0}, {\"date\": \"2020-02-24\", \"Keyword\": \"Flatten the curve\", \"Keyword appearances\": 0}, {\"date\": \"2020-02-25\", \"Keyword\": \"Flatten the curve\", \"Keyword appearances\": 0}, {\"date\": \"2020-02-26\", \"Keyword\": \"Flatten the curve\", \"Keyword appearances\": 0}, {\"date\": \"2020-02-27\", \"Keyword\": \"Flatten the curve\", \"Keyword appearances\": 1}, {\"date\": \"2020-02-28\", \"Keyword\": \"Flatten the curve\", \"Keyword appearances\": 0}, {\"date\": \"2020-02-29\", \"Keyword\": \"Flatten the curve\", \"Keyword appearances\": 0}, {\"date\": \"2020-03-01\", \"Keyword\": \"Flatten the curve\", \"Keyword appearances\": 0}, {\"date\": \"2020-03-02\", \"Keyword\": \"Flatten the curve\", \"Keyword appearances\": 0}, {\"date\": \"2020-03-03\", \"Keyword\": \"Flatten the curve\", \"Keyword appearances\": 0}, {\"date\": \"2020-03-04\", \"Keyword\": \"Flatten the curve\", \"Keyword appearances\": 0}, {\"date\": \"2020-03-05\", \"Keyword\": \"Flatten the curve\", \"Keyword appearances\": 2}, {\"date\": \"2020-03-06\", \"Keyword\": \"Flatten the curve\", \"Keyword appearances\": 0}, {\"date\": \"2020-03-07\", \"Keyword\": \"Flatten the curve\", \"Keyword appearances\": 0}, {\"date\": \"2020-03-08\", \"Keyword\": \"Flatten the curve\", \"Keyword appearances\": 3}, {\"date\": \"2020-03-09\", \"Keyword\": \"Flatten the curve\", \"Keyword appearances\": 5}, {\"date\": \"2020-03-10\", \"Keyword\": \"Flatten the curve\", \"Keyword appearances\": 25}, {\"date\": \"2020-03-11\", \"Keyword\": \"Flatten the curve\", \"Keyword appearances\": 20}, {\"date\": \"2020-03-12\", \"Keyword\": \"Flatten the curve\", \"Keyword appearances\": 14}, {\"date\": \"2020-03-13\", \"Keyword\": \"Flatten the curve\", \"Keyword appearances\": 48}, {\"date\": \"2020-03-14\", \"Keyword\": \"Flatten the curve\", \"Keyword appearances\": 35}, {\"date\": \"2020-03-15\", \"Keyword\": \"Flatten the curve\", \"Keyword appearances\": 70}, {\"date\": \"2020-03-16\", \"Keyword\": \"Flatten the curve\", \"Keyword appearances\": 52}, {\"date\": \"2020-03-17\", \"Keyword\": \"Flatten the curve\", \"Keyword appearances\": 56}, {\"date\": \"2020-03-18\", \"Keyword\": \"Flatten the curve\", \"Keyword appearances\": 33}, {\"date\": \"2020-03-19\", \"Keyword\": \"Flatten the curve\", \"Keyword appearances\": 29}, {\"date\": \"2020-03-20\", \"Keyword\": \"Flatten the curve\", \"Keyword appearances\": 24}, {\"date\": \"2020-03-21\", \"Keyword\": \"Flatten the curve\", \"Keyword appearances\": 24}, {\"date\": \"2020-03-22\", \"Keyword\": \"Flatten the curve\", \"Keyword appearances\": 44}, {\"date\": \"2020-03-23\", \"Keyword\": \"Flatten the curve\", \"Keyword appearances\": 18}, {\"date\": \"2020-03-24\", \"Keyword\": \"Flatten the curve\", \"Keyword appearances\": 26}, {\"date\": \"2020-03-25\", \"Keyword\": \"Flatten the curve\", \"Keyword appearances\": 24}, {\"date\": \"2020-03-26\", \"Keyword\": \"Flatten the curve\", \"Keyword appearances\": 26}, {\"date\": \"2020-03-27\", \"Keyword\": \"Flatten the curve\", \"Keyword appearances\": 28}, {\"date\": \"2020-03-28\", \"Keyword\": \"Flatten the curve\", \"Keyword appearances\": 17}, {\"date\": \"2020-03-29\", \"Keyword\": \"Flatten the curve\", \"Keyword appearances\": 12}, {\"date\": \"2020-03-30\", \"Keyword\": \"Flatten the curve\", \"Keyword appearances\": 33}, {\"date\": \"2020-03-31\", \"Keyword\": \"Flatten the curve\", \"Keyword appearances\": 29}, {\"date\": \"2020-04-01\", \"Keyword\": \"Flatten the curve\", \"Keyword appearances\": 28}, {\"date\": \"2020-04-02\", \"Keyword\": \"Flatten the curve\", \"Keyword appearances\": 41}, {\"date\": \"2020-04-03\", \"Keyword\": \"Flatten the curve\", \"Keyword appearances\": 16}, {\"date\": \"2020-04-04\", \"Keyword\": \"Flatten the curve\", \"Keyword appearances\": 28}, {\"date\": \"2020-04-05\", \"Keyword\": \"Flatten the curve\", \"Keyword appearances\": 16}, {\"date\": \"2020-04-06\", \"Keyword\": \"Flatten the curve\", \"Keyword appearances\": 23}, {\"date\": \"2020-04-07\", \"Keyword\": \"Flatten the curve\", \"Keyword appearances\": 32}, {\"date\": \"2020-04-08\", \"Keyword\": \"Flatten the curve\", \"Keyword appearances\": 36}, {\"date\": \"2020-01-20\", \"Keyword\": \"travel ban\", \"Keyword appearances\": 2}, {\"date\": \"2020-01-21\", \"Keyword\": \"travel ban\", \"Keyword appearances\": 10}, {\"date\": \"2020-01-22\", \"Keyword\": \"travel ban\", \"Keyword appearances\": 38}, {\"date\": \"2020-01-23\", \"Keyword\": \"travel ban\", \"Keyword appearances\": 30}, {\"date\": \"2020-01-24\", \"Keyword\": \"travel ban\", \"Keyword appearances\": 33}, {\"date\": \"2020-01-25\", \"Keyword\": \"travel ban\", \"Keyword appearances\": 14}, {\"date\": \"2020-01-26\", \"Keyword\": \"travel ban\", \"Keyword appearances\": 11}, {\"date\": \"2020-01-27\", \"Keyword\": \"travel ban\", \"Keyword appearances\": 7}, {\"date\": \"2020-01-28\", \"Keyword\": \"travel ban\", \"Keyword appearances\": 26}, {\"date\": \"2020-01-29\", \"Keyword\": \"travel ban\", \"Keyword appearances\": 13}, {\"date\": \"2020-01-30\", \"Keyword\": \"travel ban\", \"Keyword appearances\": 20}, {\"date\": \"2020-01-31\", \"Keyword\": \"travel ban\", \"Keyword appearances\": 43}, {\"date\": \"2020-02-01\", \"Keyword\": \"travel ban\", \"Keyword appearances\": 52}, {\"date\": \"2020-02-02\", \"Keyword\": \"travel ban\", \"Keyword appearances\": 45}, {\"date\": \"2020-02-03\", \"Keyword\": \"travel ban\", \"Keyword appearances\": 33}, {\"date\": \"2020-02-04\", \"Keyword\": \"travel ban\", \"Keyword appearances\": 30}, {\"date\": \"2020-02-05\", \"Keyword\": \"travel ban\", \"Keyword appearances\": 17}, {\"date\": \"2020-02-06\", \"Keyword\": \"travel ban\", \"Keyword appearances\": 26}, {\"date\": \"2020-02-07\", \"Keyword\": \"travel ban\", \"Keyword appearances\": 14}, {\"date\": \"2020-02-08\", \"Keyword\": \"travel ban\", \"Keyword appearances\": 12}, {\"date\": \"2020-02-09\", \"Keyword\": \"travel ban\", \"Keyword appearances\": 7}, {\"date\": \"2020-02-10\", \"Keyword\": \"travel ban\", \"Keyword appearances\": 21}, {\"date\": \"2020-02-11\", \"Keyword\": \"travel ban\", \"Keyword appearances\": 13}, {\"date\": \"2020-02-12\", \"Keyword\": \"travel ban\", \"Keyword appearances\": 19}, {\"date\": \"2020-02-13\", \"Keyword\": \"travel ban\", \"Keyword appearances\": 48}, {\"date\": \"2020-02-14\", \"Keyword\": \"travel ban\", \"Keyword appearances\": 25}, {\"date\": \"2020-02-15\", \"Keyword\": \"travel ban\", \"Keyword appearances\": 31}, {\"date\": \"2020-02-16\", \"Keyword\": \"travel ban\", \"Keyword appearances\": 28}, {\"date\": \"2020-02-17\", \"Keyword\": \"travel ban\", \"Keyword appearances\": 21}, {\"date\": \"2020-02-18\", \"Keyword\": \"travel ban\", \"Keyword appearances\": 17}, {\"date\": \"2020-02-19\", \"Keyword\": \"travel ban\", \"Keyword appearances\": 12}, {\"date\": \"2020-02-20\", \"Keyword\": \"travel ban\", \"Keyword appearances\": 25}, {\"date\": \"2020-02-21\", \"Keyword\": \"travel ban\", \"Keyword appearances\": 7}, {\"date\": \"2020-02-22\", \"Keyword\": \"travel ban\", \"Keyword appearances\": 2}, {\"date\": \"2020-02-23\", \"Keyword\": \"travel ban\", \"Keyword appearances\": 18}, {\"date\": \"2020-02-24\", \"Keyword\": \"travel ban\", \"Keyword appearances\": 18}, {\"date\": \"2020-02-25\", \"Keyword\": \"travel ban\", \"Keyword appearances\": 11}, {\"date\": \"2020-02-26\", \"Keyword\": \"travel ban\", \"Keyword appearances\": 14}, {\"date\": \"2020-02-27\", \"Keyword\": \"travel ban\", \"Keyword appearances\": 10}, {\"date\": \"2020-02-28\", \"Keyword\": \"travel ban\", \"Keyword appearances\": 7}, {\"date\": \"2020-02-29\", \"Keyword\": \"travel ban\", \"Keyword appearances\": 28}, {\"date\": \"2020-03-01\", \"Keyword\": \"travel ban\", \"Keyword appearances\": 19}, {\"date\": \"2020-03-02\", \"Keyword\": \"travel ban\", \"Keyword appearances\": 14}, {\"date\": \"2020-03-03\", \"Keyword\": \"travel ban\", \"Keyword appearances\": 12}, {\"date\": \"2020-03-04\", \"Keyword\": \"travel ban\", \"Keyword appearances\": 7}, {\"date\": \"2020-03-05\", \"Keyword\": \"travel ban\", \"Keyword appearances\": 7}, {\"date\": \"2020-03-06\", \"Keyword\": \"travel ban\", \"Keyword appearances\": 3}, {\"date\": \"2020-03-07\", \"Keyword\": \"travel ban\", \"Keyword appearances\": 7}, {\"date\": \"2020-03-08\", \"Keyword\": \"travel ban\", \"Keyword appearances\": 3}, {\"date\": \"2020-03-09\", \"Keyword\": \"travel ban\", \"Keyword appearances\": 6}, {\"date\": \"2020-03-10\", \"Keyword\": \"travel ban\", \"Keyword appearances\": 29}, {\"date\": \"2020-03-11\", \"Keyword\": \"travel ban\", \"Keyword appearances\": 36}, {\"date\": \"2020-03-12\", \"Keyword\": \"travel ban\", \"Keyword appearances\": 32}, {\"date\": \"2020-03-13\", \"Keyword\": \"travel ban\", \"Keyword appearances\": 20}, {\"date\": \"2020-03-14\", \"Keyword\": \"travel ban\", \"Keyword appearances\": 35}, {\"date\": \"2020-03-15\", \"Keyword\": \"travel ban\", \"Keyword appearances\": 9}, {\"date\": \"2020-03-16\", \"Keyword\": \"travel ban\", \"Keyword appearances\": 10}, {\"date\": \"2020-03-17\", \"Keyword\": \"travel ban\", \"Keyword appearances\": 11}, {\"date\": \"2020-03-18\", \"Keyword\": \"travel ban\", \"Keyword appearances\": 4}, {\"date\": \"2020-03-19\", \"Keyword\": \"travel ban\", \"Keyword appearances\": 1}, {\"date\": \"2020-03-20\", \"Keyword\": \"travel ban\", \"Keyword appearances\": 5}, {\"date\": \"2020-03-21\", \"Keyword\": \"travel ban\", \"Keyword appearances\": 5}, {\"date\": \"2020-03-22\", \"Keyword\": \"travel ban\", \"Keyword appearances\": 0}, {\"date\": \"2020-03-23\", \"Keyword\": \"travel ban\", \"Keyword appearances\": 4}, {\"date\": \"2020-03-24\", \"Keyword\": \"travel ban\", \"Keyword appearances\": 5}, {\"date\": \"2020-03-25\", \"Keyword\": \"travel ban\", \"Keyword appearances\": 4}, {\"date\": \"2020-03-26\", \"Keyword\": \"travel ban\", \"Keyword appearances\": 9}, {\"date\": \"2020-03-27\", \"Keyword\": \"travel ban\", \"Keyword appearances\": 7}, {\"date\": \"2020-03-28\", \"Keyword\": \"travel ban\", \"Keyword appearances\": 3}, {\"date\": \"2020-03-29\", \"Keyword\": \"travel ban\", \"Keyword appearances\": 6}, {\"date\": \"2020-03-30\", \"Keyword\": \"travel ban\", \"Keyword appearances\": 5}, {\"date\": \"2020-03-31\", \"Keyword\": \"travel ban\", \"Keyword appearances\": 4}, {\"date\": \"2020-04-01\", \"Keyword\": \"travel ban\", \"Keyword appearances\": 31}, {\"date\": \"2020-04-02\", \"Keyword\": \"travel ban\", \"Keyword appearances\": 10}, {\"date\": \"2020-04-03\", \"Keyword\": \"travel ban\", \"Keyword appearances\": 6}, {\"date\": \"2020-04-04\", \"Keyword\": \"travel ban\", \"Keyword appearances\": 7}, {\"date\": \"2020-04-05\", \"Keyword\": \"travel ban\", \"Keyword appearances\": 3}, {\"date\": \"2020-04-06\", \"Keyword\": \"travel ban\", \"Keyword appearances\": 9}, {\"date\": \"2020-04-07\", \"Keyword\": \"travel ban\", \"Keyword appearances\": 5}, {\"date\": \"2020-04-08\", \"Keyword\": \"travel ban\", \"Keyword appearances\": 11}, {\"date\": \"2020-01-20\", \"Keyword\": \"treatment\", \"Keyword appearances\": 33}, {\"date\": \"2020-01-21\", \"Keyword\": \"treatment\", \"Keyword appearances\": 34}, {\"date\": \"2020-01-22\", \"Keyword\": \"treatment\", \"Keyword appearances\": 17}, {\"date\": \"2020-01-23\", \"Keyword\": \"treatment\", \"Keyword appearances\": 33}, {\"date\": \"2020-01-24\", \"Keyword\": \"treatment\", \"Keyword appearances\": 18}, {\"date\": \"2020-01-25\", \"Keyword\": \"treatment\", \"Keyword appearances\": 19}, {\"date\": \"2020-01-26\", \"Keyword\": \"treatment\", \"Keyword appearances\": 40}, {\"date\": \"2020-01-27\", \"Keyword\": \"treatment\", \"Keyword appearances\": 24}, {\"date\": \"2020-01-28\", \"Keyword\": \"treatment\", \"Keyword appearances\": 45}, {\"date\": \"2020-01-29\", \"Keyword\": \"treatment\", \"Keyword appearances\": 20}, {\"date\": \"2020-01-30\", \"Keyword\": \"treatment\", \"Keyword appearances\": 25}, {\"date\": \"2020-01-31\", \"Keyword\": \"treatment\", \"Keyword appearances\": 34}, {\"date\": \"2020-02-01\", \"Keyword\": \"treatment\", \"Keyword appearances\": 43}, {\"date\": \"2020-02-02\", \"Keyword\": \"treatment\", \"Keyword appearances\": 65}, {\"date\": \"2020-02-03\", \"Keyword\": \"treatment\", \"Keyword appearances\": 50}, {\"date\": \"2020-02-04\", \"Keyword\": \"treatment\", \"Keyword appearances\": 47}, {\"date\": \"2020-02-05\", \"Keyword\": \"treatment\", \"Keyword appearances\": 80}, {\"date\": \"2020-02-06\", \"Keyword\": \"treatment\", \"Keyword appearances\": 43}, {\"date\": \"2020-02-07\", \"Keyword\": \"treatment\", \"Keyword appearances\": 45}, {\"date\": \"2020-02-08\", \"Keyword\": \"treatment\", \"Keyword appearances\": 29}, {\"date\": \"2020-02-09\", \"Keyword\": \"treatment\", \"Keyword appearances\": 40}, {\"date\": \"2020-02-10\", \"Keyword\": \"treatment\", \"Keyword appearances\": 23}, {\"date\": \"2020-02-11\", \"Keyword\": \"treatment\", \"Keyword appearances\": 42}, {\"date\": \"2020-02-12\", \"Keyword\": \"treatment\", \"Keyword appearances\": 36}, {\"date\": \"2020-02-13\", \"Keyword\": \"treatment\", \"Keyword appearances\": 46}, {\"date\": \"2020-02-14\", \"Keyword\": \"treatment\", \"Keyword appearances\": 24}, {\"date\": \"2020-02-15\", \"Keyword\": \"treatment\", \"Keyword appearances\": 59}, {\"date\": \"2020-02-16\", \"Keyword\": \"treatment\", \"Keyword appearances\": 60}, {\"date\": \"2020-02-17\", \"Keyword\": \"treatment\", \"Keyword appearances\": 27}, {\"date\": \"2020-02-18\", \"Keyword\": \"treatment\", \"Keyword appearances\": 41}, {\"date\": \"2020-02-19\", \"Keyword\": \"treatment\", \"Keyword appearances\": 77}, {\"date\": \"2020-02-20\", \"Keyword\": \"treatment\", \"Keyword appearances\": 70}, {\"date\": \"2020-02-21\", \"Keyword\": \"treatment\", \"Keyword appearances\": 21}, {\"date\": \"2020-02-22\", \"Keyword\": \"treatment\", \"Keyword appearances\": 7}, {\"date\": \"2020-02-23\", \"Keyword\": \"treatment\", \"Keyword appearances\": 9}, {\"date\": \"2020-02-24\", \"Keyword\": \"treatment\", \"Keyword appearances\": 42}, {\"date\": \"2020-02-25\", \"Keyword\": \"treatment\", \"Keyword appearances\": 33}, {\"date\": \"2020-02-26\", \"Keyword\": \"treatment\", \"Keyword appearances\": 28}, {\"date\": \"2020-02-27\", \"Keyword\": \"treatment\", \"Keyword appearances\": 30}, {\"date\": \"2020-02-28\", \"Keyword\": \"treatment\", \"Keyword appearances\": 29}, {\"date\": \"2020-02-29\", \"Keyword\": \"treatment\", \"Keyword appearances\": 30}, {\"date\": \"2020-03-01\", \"Keyword\": \"treatment\", \"Keyword appearances\": 35}, {\"date\": \"2020-03-02\", \"Keyword\": \"treatment\", \"Keyword appearances\": 44}, {\"date\": \"2020-03-03\", \"Keyword\": \"treatment\", \"Keyword appearances\": 55}, {\"date\": \"2020-03-04\", \"Keyword\": \"treatment\", \"Keyword appearances\": 25}, {\"date\": \"2020-03-05\", \"Keyword\": \"treatment\", \"Keyword appearances\": 27}, {\"date\": \"2020-03-06\", \"Keyword\": \"treatment\", \"Keyword appearances\": 20}, {\"date\": \"2020-03-07\", \"Keyword\": \"treatment\", \"Keyword appearances\": 43}, {\"date\": \"2020-03-08\", \"Keyword\": \"treatment\", \"Keyword appearances\": 12}, {\"date\": \"2020-03-09\", \"Keyword\": \"treatment\", \"Keyword appearances\": 31}, {\"date\": \"2020-03-10\", \"Keyword\": \"treatment\", \"Keyword appearances\": 32}, {\"date\": \"2020-03-11\", \"Keyword\": \"treatment\", \"Keyword appearances\": 36}, {\"date\": \"2020-03-12\", \"Keyword\": \"treatment\", \"Keyword appearances\": 36}, {\"date\": \"2020-03-13\", \"Keyword\": \"treatment\", \"Keyword appearances\": 38}, {\"date\": \"2020-03-14\", \"Keyword\": \"treatment\", \"Keyword appearances\": 20}, {\"date\": \"2020-03-15\", \"Keyword\": \"treatment\", \"Keyword appearances\": 18}, {\"date\": \"2020-03-16\", \"Keyword\": \"treatment\", \"Keyword appearances\": 30}, {\"date\": \"2020-03-17\", \"Keyword\": \"treatment\", \"Keyword appearances\": 45}, {\"date\": \"2020-03-18\", \"Keyword\": \"treatment\", \"Keyword appearances\": 47}, {\"date\": \"2020-03-19\", \"Keyword\": \"treatment\", \"Keyword appearances\": 53}, {\"date\": \"2020-03-20\", \"Keyword\": \"treatment\", \"Keyword appearances\": 59}, {\"date\": \"2020-03-21\", \"Keyword\": \"treatment\", \"Keyword appearances\": 62}, {\"date\": \"2020-03-22\", \"Keyword\": \"treatment\", \"Keyword appearances\": 51}, {\"date\": \"2020-03-23\", \"Keyword\": \"treatment\", \"Keyword appearances\": 85}, {\"date\": \"2020-03-24\", \"Keyword\": \"treatment\", \"Keyword appearances\": 47}, {\"date\": \"2020-03-25\", \"Keyword\": \"treatment\", \"Keyword appearances\": 74}, {\"date\": \"2020-03-26\", \"Keyword\": \"treatment\", \"Keyword appearances\": 40}, {\"date\": \"2020-03-27\", \"Keyword\": \"treatment\", \"Keyword appearances\": 64}, {\"date\": \"2020-03-28\", \"Keyword\": \"treatment\", \"Keyword appearances\": 54}, {\"date\": \"2020-03-29\", \"Keyword\": \"treatment\", \"Keyword appearances\": 67}, {\"date\": \"2020-03-30\", \"Keyword\": \"treatment\", \"Keyword appearances\": 64}, {\"date\": \"2020-03-31\", \"Keyword\": \"treatment\", \"Keyword appearances\": 40}, {\"date\": \"2020-04-01\", \"Keyword\": \"treatment\", \"Keyword appearances\": 52}, {\"date\": \"2020-04-02\", \"Keyword\": \"treatment\", \"Keyword appearances\": 65}, {\"date\": \"2020-04-03\", \"Keyword\": \"treatment\", \"Keyword appearances\": 84}, {\"date\": \"2020-04-04\", \"Keyword\": \"treatment\", \"Keyword appearances\": 92}, {\"date\": \"2020-04-05\", \"Keyword\": \"treatment\", \"Keyword appearances\": 116}, {\"date\": \"2020-04-06\", \"Keyword\": \"treatment\", \"Keyword appearances\": 128}, {\"date\": \"2020-04-07\", \"Keyword\": \"treatment\", \"Keyword appearances\": 64}, {\"date\": \"2020-04-08\", \"Keyword\": \"treatment\", \"Keyword appearances\": 76}, {\"date\": \"2020-01-20\", \"Keyword\": \"mask\", \"Keyword appearances\": 41}, {\"date\": \"2020-01-21\", \"Keyword\": \"mask\", \"Keyword appearances\": 60}, {\"date\": \"2020-01-22\", \"Keyword\": \"mask\", \"Keyword appearances\": 70}, {\"date\": \"2020-01-23\", \"Keyword\": \"mask\", \"Keyword appearances\": 128}, {\"date\": \"2020-01-24\", \"Keyword\": \"mask\", \"Keyword appearances\": 98}, {\"date\": \"2020-01-25\", \"Keyword\": \"mask\", \"Keyword appearances\": 162}, {\"date\": \"2020-01-26\", \"Keyword\": \"mask\", \"Keyword appearances\": 177}, {\"date\": \"2020-01-27\", \"Keyword\": \"mask\", \"Keyword appearances\": 208}, {\"date\": \"2020-01-28\", \"Keyword\": \"mask\", \"Keyword appearances\": 140}, {\"date\": \"2020-01-29\", \"Keyword\": \"mask\", \"Keyword appearances\": 221}, {\"date\": \"2020-01-30\", \"Keyword\": \"mask\", \"Keyword appearances\": 217}, {\"date\": \"2020-01-31\", \"Keyword\": \"mask\", \"Keyword appearances\": 200}, {\"date\": \"2020-02-01\", \"Keyword\": \"mask\", \"Keyword appearances\": 196}, {\"date\": \"2020-02-02\", \"Keyword\": \"mask\", \"Keyword appearances\": 162}, {\"date\": \"2020-02-03\", \"Keyword\": \"mask\", \"Keyword appearances\": 167}, {\"date\": \"2020-02-04\", \"Keyword\": \"mask\", \"Keyword appearances\": 182}, {\"date\": \"2020-02-05\", \"Keyword\": \"mask\", \"Keyword appearances\": 194}, {\"date\": \"2020-02-06\", \"Keyword\": \"mask\", \"Keyword appearances\": 190}, {\"date\": \"2020-02-07\", \"Keyword\": \"mask\", \"Keyword appearances\": 200}, {\"date\": \"2020-02-08\", \"Keyword\": \"mask\", \"Keyword appearances\": 181}, {\"date\": \"2020-02-09\", \"Keyword\": \"mask\", \"Keyword appearances\": 200}, {\"date\": \"2020-02-10\", \"Keyword\": \"mask\", \"Keyword appearances\": 156}, {\"date\": \"2020-02-11\", \"Keyword\": \"mask\", \"Keyword appearances\": 180}, {\"date\": \"2020-02-12\", \"Keyword\": \"mask\", \"Keyword appearances\": 187}, {\"date\": \"2020-02-13\", \"Keyword\": \"mask\", \"Keyword appearances\": 178}, {\"date\": \"2020-02-14\", \"Keyword\": \"mask\", \"Keyword appearances\": 252}, {\"date\": \"2020-02-15\", \"Keyword\": \"mask\", \"Keyword appearances\": 222}, {\"date\": \"2020-02-16\", \"Keyword\": \"mask\", \"Keyword appearances\": 187}, {\"date\": \"2020-02-17\", \"Keyword\": \"mask\", \"Keyword appearances\": 157}, {\"date\": \"2020-02-18\", \"Keyword\": \"mask\", \"Keyword appearances\": 197}, {\"date\": \"2020-02-19\", \"Keyword\": \"mask\", \"Keyword appearances\": 182}, {\"date\": \"2020-02-20\", \"Keyword\": \"mask\", \"Keyword appearances\": 186}, {\"date\": \"2020-02-21\", \"Keyword\": \"mask\", \"Keyword appearances\": 123}, {\"date\": \"2020-02-22\", \"Keyword\": \"mask\", \"Keyword appearances\": 25}, {\"date\": \"2020-02-23\", \"Keyword\": \"mask\", \"Keyword appearances\": 148}, {\"date\": \"2020-02-24\", \"Keyword\": \"mask\", \"Keyword appearances\": 192}, {\"date\": \"2020-02-25\", \"Keyword\": \"mask\", \"Keyword appearances\": 94}, {\"date\": \"2020-02-26\", \"Keyword\": \"mask\", \"Keyword appearances\": 100}, {\"date\": \"2020-02-27\", \"Keyword\": \"mask\", \"Keyword appearances\": 111}, {\"date\": \"2020-02-28\", \"Keyword\": \"mask\", \"Keyword appearances\": 107}, {\"date\": \"2020-02-29\", \"Keyword\": \"mask\", \"Keyword appearances\": 170}, {\"date\": \"2020-03-01\", \"Keyword\": \"mask\", \"Keyword appearances\": 173}, {\"date\": \"2020-03-02\", \"Keyword\": \"mask\", \"Keyword appearances\": 206}, {\"date\": \"2020-03-03\", \"Keyword\": \"mask\", \"Keyword appearances\": 150}, {\"date\": \"2020-03-04\", \"Keyword\": \"mask\", \"Keyword appearances\": 186}, {\"date\": \"2020-03-05\", \"Keyword\": \"mask\", \"Keyword appearances\": 144}, {\"date\": \"2020-03-06\", \"Keyword\": \"mask\", \"Keyword appearances\": 92}, {\"date\": \"2020-03-07\", \"Keyword\": \"mask\", \"Keyword appearances\": 164}, {\"date\": \"2020-03-08\", \"Keyword\": \"mask\", \"Keyword appearances\": 43}, {\"date\": \"2020-03-09\", \"Keyword\": \"mask\", \"Keyword appearances\": 111}, {\"date\": \"2020-03-10\", \"Keyword\": \"mask\", \"Keyword appearances\": 82}, {\"date\": \"2020-03-11\", \"Keyword\": \"mask\", \"Keyword appearances\": 51}, {\"date\": \"2020-03-12\", \"Keyword\": \"mask\", \"Keyword appearances\": 29}, {\"date\": \"2020-03-13\", \"Keyword\": \"mask\", \"Keyword appearances\": 116}, {\"date\": \"2020-03-14\", \"Keyword\": \"mask\", \"Keyword appearances\": 68}, {\"date\": \"2020-03-15\", \"Keyword\": \"mask\", \"Keyword appearances\": 46}, {\"date\": \"2020-03-16\", \"Keyword\": \"mask\", \"Keyword appearances\": 34}, {\"date\": \"2020-03-17\", \"Keyword\": \"mask\", \"Keyword appearances\": 41}, {\"date\": \"2020-03-18\", \"Keyword\": \"mask\", \"Keyword appearances\": 52}, {\"date\": \"2020-03-19\", \"Keyword\": \"mask\", \"Keyword appearances\": 61}, {\"date\": \"2020-03-20\", \"Keyword\": \"mask\", \"Keyword appearances\": 98}, {\"date\": \"2020-03-21\", \"Keyword\": \"mask\", \"Keyword appearances\": 99}, {\"date\": \"2020-03-22\", \"Keyword\": \"mask\", \"Keyword appearances\": 107}, {\"date\": \"2020-03-23\", \"Keyword\": \"mask\", \"Keyword appearances\": 95}, {\"date\": \"2020-03-24\", \"Keyword\": \"mask\", \"Keyword appearances\": 71}, {\"date\": \"2020-03-25\", \"Keyword\": \"mask\", \"Keyword appearances\": 76}, {\"date\": \"2020-03-26\", \"Keyword\": \"mask\", \"Keyword appearances\": 114}, {\"date\": \"2020-03-27\", \"Keyword\": \"mask\", \"Keyword appearances\": 106}, {\"date\": \"2020-03-28\", \"Keyword\": \"mask\", \"Keyword appearances\": 123}, {\"date\": \"2020-03-29\", \"Keyword\": \"mask\", \"Keyword appearances\": 140}, {\"date\": \"2020-03-30\", \"Keyword\": \"mask\", \"Keyword appearances\": 187}, {\"date\": \"2020-03-31\", \"Keyword\": \"mask\", \"Keyword appearances\": 170}, {\"date\": \"2020-04-01\", \"Keyword\": \"mask\", \"Keyword appearances\": 145}, {\"date\": \"2020-04-02\", \"Keyword\": \"mask\", \"Keyword appearances\": 393}, {\"date\": \"2020-04-03\", \"Keyword\": \"mask\", \"Keyword appearances\": 432}, {\"date\": \"2020-04-04\", \"Keyword\": \"mask\", \"Keyword appearances\": 265}, {\"date\": \"2020-04-05\", \"Keyword\": \"mask\", \"Keyword appearances\": 242}, {\"date\": \"2020-04-06\", \"Keyword\": \"mask\", \"Keyword appearances\": 214}, {\"date\": \"2020-04-07\", \"Keyword\": \"mask\", \"Keyword appearances\": 214}, {\"date\": \"2020-04-08\", \"Keyword\": \"mask\", \"Keyword appearances\": 221}]}}, {\"mode\": \"vega-lite\"});\n",
       "</script>"
      ],
      "text/plain": [
       "alt.LayerChart(...)"
      ]
     },
     "execution_count": 34,
     "metadata": {},
     "output_type": "execute_result"
    }
   ],
   "source": [
    "highlight = alt.selection(type='single', on='mouseover',\n",
    "                          fields=['Keyword'], nearest=True)\n",
    "\n",
    "base = alt.Chart(Third_Group).encode(\n",
    "    x='date:T',\n",
    "    y=alt.Y('Keyword appearances:Q',title = 'Keyword appearances in dataset',axis=alt.Axis(grid=False)),\n",
    "    color='Keyword:N',\n",
    "    tooltip=['Keyword', 'Keyword appearances']\n",
    ")\n",
    "\n",
    "points = base.mark_circle().encode(\n",
    "    opacity=alt.value(0),\n",
    ").add_selection(\n",
    "    highlight\n",
    ").properties(\n",
    "    width=600\n",
    ")\n",
    "\n",
    "lines = base.mark_line().encode(\n",
    "    size=alt.condition(~highlight, alt.value(1), alt.value(3))\n",
    ")\n",
    "\n",
    "points + lines"
   ]
  },
  {
   "cell_type": "code",
   "execution_count": null,
   "metadata": {},
   "outputs": [],
   "source": []
  },
  {
   "cell_type": "code",
   "execution_count": null,
   "metadata": {},
   "outputs": [],
   "source": []
  },
  {
   "cell_type": "markdown",
   "metadata": {
    "id": "sH7LqR0FLJ5o"
   },
   "source": [
    "# Load data of trending topics from github\n",
    "\n",
    "selecting the fifty most talked about trending topics on twitter\n",
    "\n",
    "manually annotate the wider topic the trend belongs to (C: Coronavirus, P: Politics, D: Tweets related to a special day of the week/year, O: Other topics)\n",
    "\n"
   ]
  },
  {
   "cell_type": "code",
   "execution_count": null,
   "metadata": {
    "id": "BMBWFuiqLJ5p"
   },
   "outputs": [],
   "source": [
    "#trending = pd.read_csv(\"trending_topics_usa.csv\")\n",
    "\n",
    "trending = pd.read_csv(\"https://raw.githubusercontent.com/xxz-jessica/COVID-19_UCD_Challenge/master/Twitter_Trending_Topics/usa_trending.csv\", encoding='latin1')\n",
    "\n",
    "trending[\"date\"] = pd.to_datetime(trending[\"date\"]).map(lambda x: str(x.date()))\n",
    "\n",
    "trending_counted = trending.groupby('trending')['date'].apply(list).reset_index(name='dates')\n",
    "\n",
    "\n",
    "trending_counted2 = trending.groupby(\"trending\").count().reset_index()\n",
    "\n",
    "trending_selected = trending_counted.merge(trending_counted2).sort_values(\"date\", ascending = False)\n",
    "\n",
    "trending_selected = trending_selected[0:50]\n",
    "\n",
    "annotations = [\"Politics\", \"Coronavirus\", \"Others\", \"Others\", \"Coronavirus\", \"Politics\", \"Politics\", \"Coronavirus\",\n",
    "              \"Date\", \"Others\", \"Date\", \"Politics\", \"Politics\", \"Date\", \"Date\", \"Politics\", \"Others\", \n",
    "                \"Coronavirus\", \"Coronavirus\", \"Politics\", \"Politics\", \"Date\", \"Others\", \"Date\",\n",
    "              \"Date\", \"Coronavirus\", \"Politics\", \"Others\", \"Date\", \"Others\", \"Others\", \"Date\",\n",
    "              \"Date\", \"Others\", \"Politics\", \"Politics\", \"Coronavirus\", \"Date\", \"Others\", \"Coronavirus\", \"Date\",\n",
    "              \"Others\", \"Politics\", \"Politics\", \"Politics\", \"Politics\", \"Coronavirus\", \"Others\", \"Politics\", \"Coronavirus\"]\n",
    "\n",
    "trending_selected[\"annotation\"] = annotations\n",
    "\n",
    "trending_selected"
   ]
  },
  {
   "cell_type": "markdown",
   "metadata": {
    "id": "tZE9HV_GLJ5t"
   },
   "source": [
    "# Create wordcloud using brunel to visualize trending topics"
   ]
  },
  {
   "cell_type": "code",
   "execution_count": null,
   "metadata": {
    "id": "KEbGwy2JLJ5u"
   },
   "outputs": [],
   "source": [
    "#import brunel"
   ]
  },
  {
   "cell_type": "code",
   "execution_count": null,
   "metadata": {
    "id": "il_zoVPaLJ5z"
   },
   "outputs": [],
   "source": [
    "#trending_selected\n",
    "#%brunel cloud data(\"trending_selected\") size(date) label(trending) tooltip(dates) color(annotation)"
   ]
  },
  {
   "cell_type": "markdown",
   "metadata": {},
   "source": [
    "# create wordcloud using \"wordcloud\" \n",
    "\n",
    "Visualizing most used COVID related hashtags"
   ]
  },
  {
   "cell_type": "code",
   "execution_count": null,
   "metadata": {},
   "outputs": [],
   "source": [
    "import wordcloud as wc\n",
    "import matplotlib.pyplot as plt\n",
    "import string\n",
    "from PIL import Image\n",
    "from scipy.ndimage import gaussian_gradient_magnitude"
   ]
  },
  {
   "cell_type": "code",
   "execution_count": null,
   "metadata": {},
   "outputs": [],
   "source": [
    "#stupid way to create wordcloud by generating text containing number of words \n",
    "def create_text(trending_list):\n",
    "    text = \"\"\n",
    "    for i in range(0,trending_list.shape[0]):\n",
    "        for j in range(0, int(trending_list.iloc[[i]][\"date\"])):\n",
    "            text = text + \" \" + str(trending_list.iloc[i][\"trending\"])\n",
    "    return text\n",
    "        "
   ]
  },
  {
   "cell_type": "code",
   "execution_count": null,
   "metadata": {},
   "outputs": [],
   "source": [
    "#all hashtags\n",
    "\n",
    "hashtags = list(covid_twitter_data[\"hashtags\"][covid_twitter_data[\"hashtags\"] != '[]'])\n",
    "\n",
    "\n",
    "#real_hashs = [elem if elem != '[]': for elem in hashtags]\n",
    "\n",
    "hashtags_string = \"\".join(hashtags).replace(\"[\", \"\").replace(\"]\", \"\").replace(\"''\", \" \").replace(\"', '\", \" \")\n"
   ]
  },
  {
   "cell_type": "code",
   "execution_count": null,
   "metadata": {},
   "outputs": [],
   "source": [
    "#shapes:\n",
    "twitter_bird = \"twitter_bird.jpg\"\n",
    "virus = \"virus.jpg\"\n",
    "#use twitter logo as mask\n",
    "# load image. This has been modified in gimp to be brighter and have more saturation.\n",
    "img = np.array(Image.open(twitter_bird))\n",
    "# subsample by factor of 3. Very lossy but for a wordcloud we don't really care.\n",
    "img = img[::3, ::3]\n",
    "# create mask  white is \"masked out\"\n",
    "mask = img.copy()\n",
    "mask[mask.sum(axis=2) == 0] = 255\n",
    "# some finesse: we enforce boundaries between colors so they get less washed out.\n",
    "# For that we do some edge detection in the image\n",
    "edges = np.mean([gaussian_gradient_magnitude(img[:, :, i] / 255., 2) for i in range(3)], axis=0)\n",
    "mask[edges > .08] = 255\n",
    "\n"
   ]
  },
  {
   "cell_type": "code",
   "execution_count": null,
   "metadata": {},
   "outputs": [],
   "source": [
    "cloud = wc.WordCloud(max_words=2000, mask=mask, \n",
    "               max_font_size=20, random_state=42, \n",
    "               relative_scaling=0)\n",
    "\n",
    "cloud.generate(hashtags_string)\n",
    "plt.imshow(cloud)\n",
    "plt.axis(\"off\")"
   ]
  },
  {
   "cell_type": "markdown",
   "metadata": {},
   "source": [
    "# look for the most shared links"
   ]
  },
  {
   "cell_type": "code",
   "execution_count": null,
   "metadata": {},
   "outputs": [],
   "source": [
    "trending_links = (covid_twitter_data[\"links\"].value_counts())\n",
    "    \n",
    "trending_links = pd.DataFrame(trending_links)"
   ]
  }
 ],
 "metadata": {
  "colab": {
   "collapsed_sections": [],
   "name": "Test twitter data from github repo.ipynb",
   "provenance": [],
   "toc_visible": true
  },
  "kernelspec": {
   "display_name": "Python 3",
   "language": "python",
   "name": "python3"
  },
  "language_info": {
   "codemirror_mode": {
    "name": "ipython",
    "version": 3
   },
   "file_extension": ".py",
   "mimetype": "text/x-python",
   "name": "python",
   "nbconvert_exporter": "python",
   "pygments_lexer": "ipython3",
   "version": "3.7.7"
  }
 },
 "nbformat": 4,
 "nbformat_minor": 1
}
