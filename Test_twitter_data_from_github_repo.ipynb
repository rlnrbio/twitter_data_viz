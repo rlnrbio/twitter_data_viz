{
  "nbformat": 4,
  "nbformat_minor": 0,
  "metadata": {
    "kernelspec": {
      "display_name": "Python 3",
      "language": "python",
      "name": "python3"
    },
    "language_info": {
      "codemirror_mode": {
        "name": "ipython",
        "version": 3
      },
      "file_extension": ".py",
      "mimetype": "text/x-python",
      "name": "python",
      "nbconvert_exporter": "python",
      "pygments_lexer": "ipython3",
      "version": "3.7.9"
    },
    "colab": {
      "name": "Test twitter data from github repo.ipynb",
      "provenance": [],
      "collapsed_sections": [],
      "toc_visible": true
    }
  },
  "cells": [
    {
      "cell_type": "markdown",
      "metadata": {
        "id": "4eZ1MYQmLJ3b"
      },
      "source": [
        "\n",
        "# Test twitter data from github repo\n",
        "\n",
        "Load data from github repo"
      ]
    },
    {
      "cell_type": "code",
      "metadata": {
        "id": "RgO98q3_LJ3d"
      },
      "source": [
        "import pandas as pd\n",
        "import os\n",
        "\n",
        "import altair as alt"
      ],
      "execution_count": 2,
      "outputs": []
    },
    {
      "cell_type": "markdown",
      "metadata": {
        "id": "l1JS-d7lLJ3o"
      },
      "source": [
        "# Load Corona data\n"
      ]
    },
    {
      "cell_type": "code",
      "metadata": {
        "id": "PmQVrwcoLJ3s",
        "outputId": "7fc4299d-a7aa-426a-ed82-de75113075dc",
        "colab": {
          "base_uri": "https://localhost:8080/",
          "height": 889
        }
      },
      "source": [
        "covid_data = pd.read_csv(\"https://covid.ourworldindata.org/data/owid-covid-data.csv\")\n",
        "\n",
        "covid_data[\"date\"] = pd.to_datetime(covid_data[\"date\"])\n",
        "\n",
        "covid_data.info()"
      ],
      "execution_count": 3,
      "outputs": [
        {
          "output_type": "stream",
          "text": [
            "<class 'pandas.core.frame.DataFrame'>\n",
            "RangeIndex: 50513 entries, 0 to 50512\n",
            "Data columns (total 41 columns):\n",
            " #   Column                           Non-Null Count  Dtype         \n",
            "---  ------                           --------------  -----         \n",
            " 0   iso_code                         50222 non-null  object        \n",
            " 1   continent                        49931 non-null  object        \n",
            " 2   location                         50513 non-null  object        \n",
            " 3   date                             50513 non-null  datetime64[ns]\n",
            " 4   total_cases                      46865 non-null  float64       \n",
            " 5   new_cases                        49650 non-null  float64       \n",
            " 6   new_cases_smoothed               48867 non-null  float64       \n",
            " 7   total_deaths                     38215 non-null  float64       \n",
            " 8   new_deaths                       49650 non-null  float64       \n",
            " 9   new_deaths_smoothed              48867 non-null  float64       \n",
            " 10  total_cases_per_million          46610 non-null  float64       \n",
            " 11  new_cases_per_million            49586 non-null  float64       \n",
            " 12  new_cases_smoothed_per_million   48802 non-null  float64       \n",
            " 13  total_deaths_per_million         37975 non-null  float64       \n",
            " 14  new_deaths_per_million           49586 non-null  float64       \n",
            " 15  new_deaths_smoothed_per_million  48802 non-null  float64       \n",
            " 16  new_tests                        18456 non-null  float64       \n",
            " 17  total_tests                      18826 non-null  float64       \n",
            " 18  total_tests_per_thousand         18826 non-null  float64       \n",
            " 19  new_tests_per_thousand           18456 non-null  float64       \n",
            " 20  new_tests_smoothed               20832 non-null  float64       \n",
            " 21  new_tests_smoothed_per_thousand  20832 non-null  float64       \n",
            " 22  tests_per_case                   19148 non-null  float64       \n",
            " 23  positive_rate                    19467 non-null  float64       \n",
            " 24  tests_units                      21776 non-null  object        \n",
            " 25  stringency_index                 41935 non-null  float64       \n",
            " 26  population                       50222 non-null  float64       \n",
            " 27  population_density               47906 non-null  float64       \n",
            " 28  median_age                       45005 non-null  float64       \n",
            " 29  aged_65_older                    44332 non-null  float64       \n",
            " 30  aged_70_older                    44771 non-null  float64       \n",
            " 31  gdp_per_capita                   44414 non-null  float64       \n",
            " 32  extreme_poverty                  29619 non-null  float64       \n",
            " 33  cardiovasc_death_rate            44992 non-null  float64       \n",
            " 34  diabetes_prevalence              46608 non-null  float64       \n",
            " 35  female_smokers                   35167 non-null  float64       \n",
            " 36  male_smokers                     34718 non-null  float64       \n",
            " 37  handwashing_facilities           21148 non-null  float64       \n",
            " 38  hospital_beds_per_thousand       40594 non-null  float64       \n",
            " 39  life_expectancy                  49583 non-null  float64       \n",
            " 40  human_development_index          43422 non-null  float64       \n",
            "dtypes: datetime64[ns](1), float64(36), object(4)\n",
            "memory usage: 15.8+ MB\n"
          ],
          "name": "stdout"
        }
      ]
    },
    {
      "cell_type": "code",
      "metadata": {
        "id": "j7-T_lnILJ3_",
        "outputId": "9573e879-fbfa-460f-fdbe-e2bbe3db2d43",
        "colab": {
          "base_uri": "https://localhost:8080/",
          "height": 204
        }
      },
      "source": [
        "covid_data[\"date\"] = pd.to_datetime(covid_data[\"date\"])\n",
        "\n",
        "cov_selection = covid_data[[\"date\", \"total_cases\", \"new_cases\", \"new_deaths\"]]\n",
        "\n",
        "cov_selection = cov_selection.groupby('date').sum().reset_index()\n",
        "\n",
        "start_date = '12-31-2019'\n",
        "end_date = '04-07-2020'\n",
        "\n",
        "mask = (cov_selection['date'] > start_date) & (cov_selection['date'] <= end_date)\n",
        "\n",
        "cov_selection = cov_selection.loc[mask]\n",
        "\n",
        "cov_selection.info()"
      ],
      "execution_count": null,
      "outputs": [
        {
          "output_type": "stream",
          "text": [
            "<class 'pandas.core.frame.DataFrame'>\n",
            "Int64Index: 98 entries, 1 to 98\n",
            "Data columns (total 4 columns):\n",
            " #   Column       Non-Null Count  Dtype         \n",
            "---  ------       --------------  -----         \n",
            " 0   date         98 non-null     datetime64[ns]\n",
            " 1   total_cases  98 non-null     float64       \n",
            " 2   new_cases    98 non-null     float64       \n",
            " 3   new_deaths   98 non-null     float64       \n",
            "dtypes: datetime64[ns](1), float64(3)\n",
            "memory usage: 3.8 KB\n"
          ],
          "name": "stdout"
        }
      ]
    },
    {
      "cell_type": "markdown",
      "metadata": {
        "id": "-ar54jx0LJ4H"
      },
      "source": [
        "# Load news articles from github project\n",
        "\n",
        "Load CNN articles from xlsx file"
      ]
    },
    {
      "cell_type": "code",
      "metadata": {
        "id": "Px4YSULxLJ4I",
        "outputId": "850c80bf-596f-4df2-ac84-37882f134116",
        "colab": {
          "base_uri": "https://localhost:8080/",
          "height": 170
        }
      },
      "source": [
        "cnn_news = pd.read_excel(\"https://github.com/xxz-jessica/COVID-19_UCD_Challenge/blob/master/News_Fox_CNN/foxnews_article_form.xlsx?raw=true\")\n",
        "cnn_news = cnn_news.dropna()\n",
        "\n",
        "cnn_news = cnn_news.rename(columns = {\"true_time\": \"published_date\"})\n",
        "cnn_news[\"published_date\"] = pd.to_datetime(cnn_news[\"published_date\"])\n",
        "\n",
        "counted_news_cnn = cnn_news[\"published_date\"].value_counts()\n",
        "counted_news_cnn = counted_news_cnn.to_frame()\n",
        "mask2 = (counted_news_cnn.index > start_date) & (counted_news_cnn.index <= end_date)\n",
        "counted_news_cnn = counted_news_cnn.loc[mask2]\n",
        "\n",
        "counted_news_cnn.reset_index(level=0, inplace=True)\n",
        "counted_news_cnn = counted_news_cnn.rename(columns = {\"index\" : \"date\", \"published_date\" : \"cnn_articles\"})\n",
        "\n",
        "\n",
        "counted_news_cnn.info()"
      ],
      "execution_count": null,
      "outputs": [
        {
          "output_type": "stream",
          "text": [
            "<class 'pandas.core.frame.DataFrame'>\n",
            "RangeIndex: 84 entries, 0 to 83\n",
            "Data columns (total 2 columns):\n",
            " #   Column        Non-Null Count  Dtype         \n",
            "---  ------        --------------  -----         \n",
            " 0   date          84 non-null     datetime64[ns]\n",
            " 1   cnn_articles  84 non-null     int64         \n",
            "dtypes: datetime64[ns](1), int64(1)\n",
            "memory usage: 1.4 KB\n"
          ],
          "name": "stdout"
        }
      ]
    },
    {
      "cell_type": "code",
      "metadata": {
        "id": "_dQsR0BdLJ4P",
        "outputId": "1de1e645-c69a-4595-dc3e-dac90029e449",
        "colab": {
          "base_uri": "https://localhost:8080/",
          "height": 170
        }
      },
      "source": [
        "fox_news = pd.read_excel(\"https://github.com/xxz-jessica/COVID-19_UCD_Challenge/blob/master/News_Fox_CNN/foxnews_article_form.xlsx?raw=true\")\n",
        "\n",
        "fox_news = fox_news.dropna()\n",
        "\n",
        "fox_news = fox_news.rename(columns = {\"true_time\": \"published_date\"})\n",
        "\n",
        "fox_news[\"published_date\"] = pd.to_datetime(fox_news[\"published_date\"])\n",
        "\n",
        "counted_news_fox = fox_news[\"published_date\"].value_counts()\n",
        "counted_news_fox = counted_news_fox.to_frame()\n",
        "mask3 = (counted_news_fox.index > start_date) & (counted_news_fox.index <= end_date)\n",
        "counted_news_fox = counted_news_fox.loc[mask3]\n",
        "\n",
        "counted_news_fox.reset_index(level=0, inplace=True)\n",
        "counted_news_fox = counted_news_fox.rename(columns = {\"index\" : \"date\", \"published_date\" : \"fox_articles\"})\n",
        "\n",
        "\n",
        "counted_news_fox.info()"
      ],
      "execution_count": null,
      "outputs": [
        {
          "output_type": "stream",
          "text": [
            "<class 'pandas.core.frame.DataFrame'>\n",
            "RangeIndex: 84 entries, 0 to 83\n",
            "Data columns (total 2 columns):\n",
            " #   Column        Non-Null Count  Dtype         \n",
            "---  ------        --------------  -----         \n",
            " 0   date          84 non-null     datetime64[ns]\n",
            " 1   fox_articles  84 non-null     int64         \n",
            "dtypes: datetime64[ns](1), int64(1)\n",
            "memory usage: 1.4 KB\n"
          ],
          "name": "stdout"
        }
      ]
    },
    {
      "cell_type": "markdown",
      "metadata": {
        "id": "3pwe_6T2LJ4V"
      },
      "source": [
        "# Visualize number of daily tweets, news articles and Covid cases from github project"
      ]
    },
    {
      "cell_type": "code",
      "metadata": {
        "id": "U3Ul1Ck5LJ4Y",
        "outputId": "f1260098-4db3-4716-87b5-f902dac84aaf",
        "colab": {
          "base_uri": "https://localhost:8080/",
          "height": 170
        }
      },
      "source": [
        "num_tweets = pd.read_csv(\"https://raw.githubusercontent.com/xxz-jessica/COVID-19_UCD_Challenge/master/Tweet_Raw_Data/tweet_per_day_1.csv\")\n",
        "\n",
        "num_tweets[\"Tweets\"] = num_tweets[\"Tweets\"].str.replace(\",\", \"\").astype(int)\n",
        "num_tweets[\"Day\"] = pd.to_datetime(num_tweets[\"Day\"])\n",
        "\n",
        "num_tweets = num_tweets.rename(columns = {\"Day\": \"date\"})\n",
        "\n",
        "num_tweets.info()\n"
      ],
      "execution_count": null,
      "outputs": [
        {
          "output_type": "stream",
          "text": [
            "<class 'pandas.core.frame.DataFrame'>\n",
            "RangeIndex: 98 entries, 0 to 97\n",
            "Data columns (total 2 columns):\n",
            " #   Column  Non-Null Count  Dtype         \n",
            "---  ------  --------------  -----         \n",
            " 0   date    98 non-null     datetime64[ns]\n",
            " 1   Tweets  98 non-null     int64         \n",
            "dtypes: datetime64[ns](1), int64(1)\n",
            "memory usage: 1.7 KB\n"
          ],
          "name": "stdout"
        }
      ]
    },
    {
      "cell_type": "code",
      "metadata": {
        "id": "aqWvVAgsLJ4g",
        "outputId": "ed49175d-dc72-4247-ff42-422abfb4225c",
        "colab": {
          "base_uri": "https://localhost:8080/",
          "height": 255
        }
      },
      "source": [
        "#merge data\n",
        "merged_3 = pd.merge(num_tweets, cov_selection).merge(counted_news_cnn, how = \"outer\").merge(counted_news_fox, how = \"outer\")\n",
        "merged_3.info()\n",
        "\n",
        "merged_3 = merged_3.fillna(0)"
      ],
      "execution_count": null,
      "outputs": [
        {
          "output_type": "stream",
          "text": [
            "<class 'pandas.core.frame.DataFrame'>\n",
            "Int64Index: 98 entries, 0 to 97\n",
            "Data columns (total 7 columns):\n",
            " #   Column        Non-Null Count  Dtype         \n",
            "---  ------        --------------  -----         \n",
            " 0   date          98 non-null     datetime64[ns]\n",
            " 1   Tweets        98 non-null     int64         \n",
            " 2   total_cases   98 non-null     float64       \n",
            " 3   new_cases     98 non-null     float64       \n",
            " 4   new_deaths    98 non-null     float64       \n",
            " 5   cnn_articles  84 non-null     float64       \n",
            " 6   fox_articles  84 non-null     float64       \n",
            "dtypes: datetime64[ns](1), float64(5), int64(1)\n",
            "memory usage: 6.1 KB\n"
          ],
          "name": "stdout"
        }
      ]
    },
    {
      "cell_type": "code",
      "metadata": {
        "id": "6-A2haLYLJ4m",
        "outputId": "01ba0fdf-74cf-4db9-9877-145266f8fca8",
        "colab": {
          "base_uri": "https://localhost:8080/",
          "height": 253
        }
      },
      "source": [
        "base = alt.Chart(merged_3).encode(\n",
        "    alt.X('date:T', axis=alt.Axis(title=None))\n",
        ").properties(\n",
        "    width=500,\n",
        "    height=200\n",
        ")\n",
        "\n",
        "\n",
        "line_tweets = base.mark_line(stroke='#1da1f2', interpolate='monotone').encode(\n",
        "    alt.Y('Tweets',\n",
        "          axis=alt.Axis(title='Number of tweets', titleColor='#1da1f2'))\n",
        ")\n",
        "\n",
        "line_cases = base.mark_line( interpolate='monotone', stroke='#eb34eb').encode(\n",
        "    alt.Y('new_cases',\n",
        "          axis=alt.Axis(title='New cases', titleColor='#eb34eb'))\n",
        ")\n",
        "\n",
        "alt.layer(line_tweets, line_cases).resolve_scale(\n",
        "    y = 'independent'\n",
        ")"
      ],
      "execution_count": null,
      "outputs": [
        {
          "output_type": "execute_result",
          "data": {
            "text/plain": [
              "alt.LayerChart(...)"
            ],
            "text/html": [
              "\n",
              "<div id=\"altair-viz-2e8e10a144b14c408b745699d05e96a1\"></div>\n",
              "<script type=\"text/javascript\">\n",
              "  (function(spec, embedOpt){\n",
              "    let outputDiv = document.currentScript.previousElementSibling;\n",
              "    if (outputDiv.id !== \"altair-viz-2e8e10a144b14c408b745699d05e96a1\") {\n",
              "      outputDiv = document.getElementById(\"altair-viz-2e8e10a144b14c408b745699d05e96a1\");\n",
              "    }\n",
              "    const paths = {\n",
              "      \"vega\": \"https://cdn.jsdelivr.net/npm//vega@5?noext\",\n",
              "      \"vega-lib\": \"https://cdn.jsdelivr.net/npm//vega-lib?noext\",\n",
              "      \"vega-lite\": \"https://cdn.jsdelivr.net/npm//vega-lite@4.8.1?noext\",\n",
              "      \"vega-embed\": \"https://cdn.jsdelivr.net/npm//vega-embed@6?noext\",\n",
              "    };\n",
              "\n",
              "    function loadScript(lib) {\n",
              "      return new Promise(function(resolve, reject) {\n",
              "        var s = document.createElement('script');\n",
              "        s.src = paths[lib];\n",
              "        s.async = true;\n",
              "        s.onload = () => resolve(paths[lib]);\n",
              "        s.onerror = () => reject(`Error loading script: ${paths[lib]}`);\n",
              "        document.getElementsByTagName(\"head\")[0].appendChild(s);\n",
              "      });\n",
              "    }\n",
              "\n",
              "    function showError(err) {\n",
              "      outputDiv.innerHTML = `<div class=\"error\" style=\"color:red;\">${err}</div>`;\n",
              "      throw err;\n",
              "    }\n",
              "\n",
              "    function displayChart(vegaEmbed) {\n",
              "      vegaEmbed(outputDiv, spec, embedOpt)\n",
              "        .catch(err => showError(`Javascript Error: ${err.message}<br>This usually means there's a typo in your chart specification. See the javascript console for the full traceback.`));\n",
              "    }\n",
              "\n",
              "    if(typeof define === \"function\" && define.amd) {\n",
              "      requirejs.config({paths});\n",
              "      require([\"vega-embed\"], displayChart, err => showError(`Error loading script: ${err.message}`));\n",
              "    } else if (typeof vegaEmbed === \"function\") {\n",
              "      displayChart(vegaEmbed);\n",
              "    } else {\n",
              "      loadScript(\"vega\")\n",
              "        .then(() => loadScript(\"vega-lite\"))\n",
              "        .then(() => loadScript(\"vega-embed\"))\n",
              "        .catch(showError)\n",
              "        .then(() => displayChart(vegaEmbed));\n",
              "    }\n",
              "  })({\"config\": {\"view\": {\"continuousWidth\": 400, \"continuousHeight\": 300}}, \"layer\": [{\"mark\": {\"type\": \"line\", \"interpolate\": \"monotone\", \"stroke\": \"#1da1f2\"}, \"encoding\": {\"x\": {\"type\": \"temporal\", \"axis\": {\"title\": null}, \"field\": \"date\"}, \"y\": {\"type\": \"quantitative\", \"axis\": {\"title\": \"Number of tweets\", \"titleColor\": \"#1da1f2\"}, \"field\": \"Tweets\"}}, \"height\": 200, \"width\": 500}, {\"mark\": {\"type\": \"line\", \"interpolate\": \"monotone\", \"stroke\": \"#eb34eb\"}, \"encoding\": {\"x\": {\"type\": \"temporal\", \"axis\": {\"title\": null}, \"field\": \"date\"}, \"y\": {\"type\": \"quantitative\", \"axis\": {\"title\": \"New cases\", \"titleColor\": \"#eb34eb\"}, \"field\": \"new_cases\"}}, \"height\": 200, \"width\": 500}], \"data\": {\"name\": \"data-2630452bc11ea212d452ce67a2292795\"}, \"resolve\": {\"scale\": {\"y\": \"independent\"}}, \"$schema\": \"https://vega.github.io/schema/vega-lite/v4.8.1.json\", \"datasets\": {\"data-2630452bc11ea212d452ce67a2292795\": [{\"date\": \"2020-04-07T00:00:00\", \"Tweets\": 7877346, \"total_cases\": 2687108.0, \"new_cases\": 145976.0, \"new_deaths\": 10680.0, \"cnn_articles\": 230.0, \"fox_articles\": 230.0}, {\"date\": \"2020-04-06T00:00:00\", \"Tweets\": 8153966, \"total_cases\": 2541132.0, \"new_cases\": 132552.0, \"new_deaths\": 9512.0, \"cnn_articles\": 169.0, \"fox_articles\": 169.0}, {\"date\": \"2020-04-05T00:00:00\", \"Tweets\": 7421877, \"total_cases\": 2408425.0, \"new_cases\": 170486.0, \"new_deaths\": 12616.0, \"cnn_articles\": 96.0, \"fox_articles\": 96.0}, {\"date\": \"2020-04-04T00:00:00\", \"Tweets\": 7928225, \"total_cases\": 2238094.0, \"new_cases\": 163660.0, \"new_deaths\": 13552.0, \"cnn_articles\": 120.0, \"fox_articles\": 120.0}, {\"date\": \"2020-04-03T00:00:00\", \"Tweets\": 9357113, \"total_cases\": 2074434.0, \"new_cases\": 154914.0, \"new_deaths\": 10018.0, \"cnn_articles\": 235.0, \"fox_articles\": 235.0}, {\"date\": \"2020-04-02T00:00:00\", \"Tweets\": 9767918, \"total_cases\": 1919520.0, \"new_cases\": 154946.0, \"new_deaths\": 10020.0, \"cnn_articles\": 260.0, \"fox_articles\": 260.0}, {\"date\": \"2020-04-01T00:00:00\", \"Tweets\": 10402981, \"total_cases\": 1764569.0, \"new_cases\": 149348.0, \"new_deaths\": 9348.0, \"cnn_articles\": 260.0, \"fox_articles\": 260.0}, {\"date\": \"2020-03-31T00:00:00\", \"Tweets\": 10442432, \"total_cases\": 1615134.0, \"new_cases\": 128976.0, \"new_deaths\": 7972.0, \"cnn_articles\": 144.0, \"fox_articles\": 144.0}, {\"date\": \"2020-03-30T00:00:00\", \"Tweets\": 10125714, \"total_cases\": 1486250.0, \"new_cases\": 114726.0, \"new_deaths\": 6456.0, \"cnn_articles\": 204.0, \"fox_articles\": 204.0}, {\"date\": \"2020-03-29T00:00:00\", \"Tweets\": 9333426, \"total_cases\": 1371524.0, \"new_cases\": 125628.0, \"new_deaths\": 7174.0, \"cnn_articles\": 108.0, \"fox_articles\": 108.0}, {\"date\": \"2020-03-28T00:00:00\", \"Tweets\": 10434671, \"total_cases\": 1245896.0, \"new_cases\": 130188.0, \"new_deaths\": 6982.0, \"cnn_articles\": 84.0, \"fox_articles\": 84.0}, {\"date\": \"2020-03-27T00:00:00\", \"Tweets\": 12209011, \"total_cases\": 1115708.0, \"new_cases\": 122032.0, \"new_deaths\": 5610.0, \"cnn_articles\": 210.0, \"fox_articles\": 210.0}, {\"date\": \"2020-03-26T00:00:00\", \"Tweets\": 12236719, \"total_cases\": 993676.0, \"new_cases\": 107500.0, \"new_deaths\": 5288.0, \"cnn_articles\": 256.0, \"fox_articles\": 256.0}, {\"date\": \"2020-03-25T00:00:00\", \"Tweets\": 13000269, \"total_cases\": 886169.0, \"new_cases\": 84772.0, \"new_deaths\": 4610.0, \"cnn_articles\": 260.0, \"fox_articles\": 260.0}, {\"date\": \"2020-03-24T00:00:00\", \"Tweets\": 14445841, \"total_cases\": 801402.0, \"new_cases\": 88972.0, \"new_deaths\": 3708.0, \"cnn_articles\": 253.0, \"fox_articles\": 253.0}, {\"date\": \"2020-03-23T00:00:00\", \"Tweets\": 15446246, \"total_cases\": 712423.0, \"new_cases\": 68572.0, \"new_deaths\": 3376.0, \"cnn_articles\": 231.0, \"fox_articles\": 231.0}, {\"date\": \"2020-03-22T00:00:00\", \"Tweets\": 14392561, \"total_cases\": 643851.0, \"new_cases\": 68412.0, \"new_deaths\": 3434.0, \"cnn_articles\": 101.0, \"fox_articles\": 101.0}, {\"date\": \"2020-03-21T00:00:00\", \"Tweets\": 12861351, \"total_cases\": 575439.0, \"new_cases\": 63818.0, \"new_deaths\": 2770.0, \"cnn_articles\": 75.0, \"fox_articles\": 75.0}, {\"date\": \"2020-03-20T00:00:00\", \"Tweets\": 15200259, \"total_cases\": 511626.0, \"new_cases\": 62188.0, \"new_deaths\": 2148.0, \"cnn_articles\": 186.0, \"fox_articles\": 186.0}, {\"date\": \"2020-03-19T00:00:00\", \"Tweets\": 16582131, \"total_cases\": 449434.0, \"new_cases\": 40428.0, \"new_deaths\": 1916.0, \"cnn_articles\": 246.0, \"fox_articles\": 246.0}, {\"date\": \"2020-03-18T00:00:00\", \"Tweets\": 16561524, \"total_cases\": 409006.0, \"new_cases\": 34012.0, \"new_deaths\": 1624.0, \"cnn_articles\": 241.0, \"fox_articles\": 241.0}, {\"date\": \"2020-03-17T00:00:00\", \"Tweets\": 17417142, \"total_cases\": 374982.0, \"new_cases\": 28402.0, \"new_deaths\": 1212.0, \"cnn_articles\": 247.0, \"fox_articles\": 247.0}, {\"date\": \"2020-03-16T00:00:00\", \"Tweets\": 17227182, \"total_cases\": 346564.0, \"new_cases\": 24910.0, \"new_deaths\": 1500.0, \"cnn_articles\": 204.0, \"fox_articles\": 204.0}, {\"date\": \"2020-03-15T00:00:00\", \"Tweets\": 16438760, \"total_cases\": 321583.0, \"new_cases\": 24330.0, \"new_deaths\": 734.0, \"cnn_articles\": 91.0, \"fox_articles\": 91.0}, {\"date\": \"2020-03-14T00:00:00\", \"Tweets\": 16823148, \"total_cases\": 297129.0, \"new_cases\": 20808.0, \"new_deaths\": 884.0, \"cnn_articles\": 49.0, \"fox_articles\": 49.0}, {\"date\": \"2020-03-13T00:00:00\", \"Tweets\": 19802671, \"total_cases\": 276054.0, \"new_cases\": 18902.0, \"new_deaths\": 702.0, \"cnn_articles\": 159.0, \"fox_articles\": 159.0}, {\"date\": \"2020-03-12T00:00:00\", \"Tweets\": 18799722, \"total_cases\": 257471.0, \"new_cases\": 15796.0, \"new_deaths\": 662.0, \"cnn_articles\": 185.0, \"fox_articles\": 185.0}, {\"date\": \"2020-03-11T00:00:00\", \"Tweets\": 9923317, \"total_cases\": 241730.0, \"new_cases\": 10214.0, \"new_deaths\": 544.0, \"cnn_articles\": 107.0, \"fox_articles\": 107.0}, {\"date\": \"2020-03-10T00:00:00\", \"Tweets\": 8284672, \"total_cases\": 231310.0, \"new_cases\": 9632.0, \"new_deaths\": 418.0, \"cnn_articles\": 104.0, \"fox_articles\": 104.0}, {\"date\": \"2020-03-09T00:00:00\", \"Tweets\": 6386122, \"total_cases\": 221758.0, \"new_cases\": 8354.0, \"new_deaths\": 456.0, \"cnn_articles\": 89.0, \"fox_articles\": 89.0}, {\"date\": \"2020-03-08T00:00:00\", \"Tweets\": 4533476, \"total_cases\": 213417.0, \"new_cases\": 7954.0, \"new_deaths\": 194.0, \"cnn_articles\": 39.0, \"fox_articles\": 39.0}, {\"date\": \"2020-03-07T00:00:00\", \"Tweets\": 4632239, \"total_cases\": 205479.0, \"new_cases\": 8240.0, \"new_deaths\": 208.0, \"cnn_articles\": 37.0, \"fox_articles\": 37.0}, {\"date\": \"2020-03-06T00:00:00\", \"Tweets\": 4581032, \"total_cases\": 197347.0, \"new_cases\": 6116.0, \"new_deaths\": 204.0, \"cnn_articles\": 60.0, \"fox_articles\": 60.0}, {\"date\": \"2020-03-05T00:00:00\", \"Tweets\": 4323687, \"total_cases\": 191161.0, \"new_cases\": 4708.0, \"new_deaths\": 160.0, \"cnn_articles\": 50.0, \"fox_articles\": 50.0}, {\"date\": \"2020-03-04T00:00:00\", \"Tweets\": 4323670, \"total_cases\": 186440.0, \"new_cases\": 4624.0, \"new_deaths\": 168.0, \"cnn_articles\": 65.0, \"fox_articles\": 65.0}, {\"date\": \"2020-03-03T00:00:00\", \"Tweets\": 4342139, \"total_cases\": 181779.0, \"new_cases\": 3714.0, \"new_deaths\": 144.0, \"cnn_articles\": 49.0, \"fox_articles\": 49.0}, {\"date\": \"2020-03-02T00:00:00\", \"Tweets\": 4240721, \"total_cases\": 178298.0, \"new_cases\": 4138.0, \"new_deaths\": 134.0, \"cnn_articles\": 62.0, \"fox_articles\": 62.0}, {\"date\": \"2020-03-01T00:00:00\", \"Tweets\": 3632689, \"total_cases\": 174160.0, \"new_cases\": 3688.0, \"new_deaths\": 116.0, \"cnn_articles\": 24.0, \"fox_articles\": 24.0}, {\"date\": \"2020-02-29T00:00:00\", \"Tweets\": 4666121, \"total_cases\": 170472.0, \"new_cases\": 3718.0, \"new_deaths\": 128.0, \"cnn_articles\": 27.0, \"fox_articles\": 27.0}, {\"date\": \"2020-02-28T00:00:00\", \"Tweets\": 5685321, \"total_cases\": 166754.0, \"new_cases\": 2532.0, \"new_deaths\": 114.0, \"cnn_articles\": 43.0, \"fox_articles\": 43.0}, {\"date\": \"2020-02-27T00:00:00\", \"Tweets\": 4597412, \"total_cases\": 164222.0, \"new_cases\": 2228.0, \"new_deaths\": 76.0, \"cnn_articles\": 69.0, \"fox_articles\": 69.0}, {\"date\": \"2020-02-26T00:00:00\", \"Tweets\": 3989533, \"total_cases\": 161994.0, \"new_cases\": 1734.0, \"new_deaths\": 128.0, \"cnn_articles\": 52.0, \"fox_articles\": 52.0}, {\"date\": \"2020-02-25T00:00:00\", \"Tweets\": 2844369, \"total_cases\": 160260.0, \"new_cases\": 1586.0, \"new_deaths\": 158.0, \"cnn_articles\": 22.0, \"fox_articles\": 22.0}, {\"date\": \"2020-02-24T00:00:00\", \"Tweets\": 1643544, \"total_cases\": 158674.0, \"new_cases\": 1046.0, \"new_deaths\": 312.0, \"cnn_articles\": 19.0, \"fox_articles\": 19.0}, {\"date\": \"2020-02-23T00:00:00\", \"Tweets\": 1233511, \"total_cases\": 157628.0, \"new_cases\": 2018.0, \"new_deaths\": 208.0, \"cnn_articles\": 4.0, \"fox_articles\": 4.0}, {\"date\": \"2020-02-22T00:00:00\", \"Tweets\": 997638, \"total_cases\": 155610.0, \"new_cases\": 2170.0, \"new_deaths\": 224.0, \"cnn_articles\": 4.0, \"fox_articles\": 4.0}, {\"date\": \"2020-02-21T00:00:00\", \"Tweets\": 954321, \"total_cases\": 153440.0, \"new_cases\": 1992.0, \"new_deaths\": 238.0, \"cnn_articles\": 19.0, \"fox_articles\": 19.0}, {\"date\": \"2020-02-20T00:00:00\", \"Tweets\": 622349, \"total_cases\": 151448.0, \"new_cases\": 1064.0, \"new_deaths\": 232.0, \"cnn_articles\": 9.0, \"fox_articles\": 9.0}, {\"date\": \"2020-02-19T00:00:00\", \"Tweets\": 626237, \"total_cases\": 150384.0, \"new_cases\": 3728.0, \"new_deaths\": 278.0, \"cnn_articles\": 12.0, \"fox_articles\": 12.0}, {\"date\": \"2020-02-18T00:00:00\", \"Tweets\": 628043, \"total_cases\": 146656.0, \"new_cases\": 3990.0, \"new_deaths\": 196.0, \"cnn_articles\": 17.0, \"fox_articles\": 17.0}, {\"date\": \"2020-02-17T00:00:00\", \"Tweets\": 626732, \"total_cases\": 142666.0, \"new_cases\": 4134.0, \"new_deaths\": 212.0, \"cnn_articles\": 18.0, \"fox_articles\": 18.0}, {\"date\": \"2020-02-16T00:00:00\", \"Tweets\": 625127, \"total_cases\": 138532.0, \"new_cases\": 4324.0, \"new_deaths\": 284.0, \"cnn_articles\": 6.0, \"fox_articles\": 6.0}, {\"date\": \"2020-02-15T00:00:00\", \"Tweets\": 624555, \"total_cases\": 134208.0, \"new_cases\": 5120.0, \"new_deaths\": 288.0, \"cnn_articles\": 8.0, \"fox_articles\": 8.0}, {\"date\": \"2020-02-14T00:00:00\", \"Tweets\": 622722, \"total_cases\": 129088.0, \"new_cases\": 8430.0, \"new_deaths\": 26.0, \"cnn_articles\": 14.0, \"fox_articles\": 14.0}, {\"date\": \"2020-02-13T00:00:00\", \"Tweets\": 956877, \"total_cases\": 120658.0, \"new_cases\": 30302.0, \"new_deaths\": 510.0, \"cnn_articles\": 21.0, \"fox_articles\": 21.0}, {\"date\": \"2020-02-12T00:00:00\", \"Tweets\": 911098, \"total_cases\": 90356.0, \"new_cases\": 4144.0, \"new_deaths\": 194.0, \"cnn_articles\": 20.0, \"fox_articles\": 20.0}, {\"date\": \"2020-02-11T00:00:00\", \"Tweets\": 908627, \"total_cases\": 86212.0, \"new_cases\": 5124.0, \"new_deaths\": 216.0, \"cnn_articles\": 18.0, \"fox_articles\": 18.0}, {\"date\": \"2020-02-10T00:00:00\", \"Tweets\": 807654, \"total_cases\": 81088.0, \"new_cases\": 5984.0, \"new_deaths\": 194.0, \"cnn_articles\": 13.0, \"fox_articles\": 13.0}, {\"date\": \"2020-02-09T00:00:00\", \"Tweets\": 796739, \"total_cases\": 75104.0, \"new_cases\": 5236.0, \"new_deaths\": 178.0, \"cnn_articles\": 10.0, \"fox_articles\": 10.0}, {\"date\": \"2020-02-08T00:00:00\", \"Tweets\": 803453, \"total_cases\": 69868.0, \"new_cases\": 6884.0, \"new_deaths\": 172.0, \"cnn_articles\": 11.0, \"fox_articles\": 11.0}, {\"date\": \"2020-02-07T00:00:00\", \"Tweets\": 987563, \"total_cases\": 62984.0, \"new_cases\": 6436.0, \"new_deaths\": 146.0, \"cnn_articles\": 22.0, \"fox_articles\": 22.0}, {\"date\": \"2020-02-06T00:00:00\", \"Tweets\": 834673, \"total_cases\": 56548.0, \"new_cases\": 7502.0, \"new_deaths\": 144.0, \"cnn_articles\": 17.0, \"fox_articles\": 17.0}, {\"date\": \"2020-02-05T00:00:00\", \"Tweets\": 803587, \"total_cases\": 49046.0, \"new_cases\": 7816.0, \"new_deaths\": 132.0, \"cnn_articles\": 20.0, \"fox_articles\": 20.0}, {\"date\": \"2020-02-04T00:00:00\", \"Tweets\": 997862, \"total_cases\": 41230.0, \"new_cases\": 6486.0, \"new_deaths\": 130.0, \"cnn_articles\": 28.0, \"fox_articles\": 28.0}, {\"date\": \"2020-02-03T00:00:00\", \"Tweets\": 1000752, \"total_cases\": 34744.0, \"new_cases\": 5636.0, \"new_deaths\": 114.0, \"cnn_articles\": 20.0, \"fox_articles\": 20.0}, {\"date\": \"2020-02-02T00:00:00\", \"Tweets\": 1298476, \"total_cases\": 29108.0, \"new_cases\": 5216.0, \"new_deaths\": 92.0, \"cnn_articles\": 7.0, \"fox_articles\": 7.0}, {\"date\": \"2020-02-01T00:00:00\", \"Tweets\": 1287963, \"total_cases\": 23892.0, \"new_cases\": 4244.0, \"new_deaths\": 92.0, \"cnn_articles\": 7.0, \"fox_articles\": 7.0}, {\"date\": \"2020-01-31T00:00:00\", \"Tweets\": 1997635, \"total_cases\": 19648.0, \"new_cases\": 4002.0, \"new_deaths\": 86.0, \"cnn_articles\": 19.0, \"fox_articles\": 19.0}, {\"date\": \"2020-01-30T00:00:00\", \"Tweets\": 2010976, \"total_cases\": 15646.0, \"new_cases\": 3512.0, \"new_deaths\": 76.0, \"cnn_articles\": 32.0, \"fox_articles\": 32.0}, {\"date\": \"2020-01-29T00:00:00\", \"Tweets\": 1623497, \"total_cases\": 12134.0, \"new_cases\": 2960.0, \"new_deaths\": 52.0, \"cnn_articles\": 33.0, \"fox_articles\": 33.0}, {\"date\": \"2020-01-28T00:00:00\", \"Tweets\": 1497653, \"total_cases\": 9174.0, \"new_cases\": 3534.0, \"new_deaths\": 50.0, \"cnn_articles\": 22.0, \"fox_articles\": 22.0}, {\"date\": \"2020-01-27T00:00:00\", \"Tweets\": 1467598, \"total_cases\": 5640.0, \"new_cases\": 1594.0, \"new_deaths\": 50.0, \"cnn_articles\": 20.0, \"fox_articles\": 20.0}, {\"date\": \"2020-01-26T00:00:00\", \"Tweets\": 1678953, \"total_cases\": 4046.0, \"new_cases\": 1346.0, \"new_deaths\": 30.0, \"cnn_articles\": 9.0, \"fox_articles\": 9.0}, {\"date\": \"2020-01-25T00:00:00\", \"Tweets\": 1536784, \"total_cases\": 2700.0, \"new_cases\": 906.0, \"new_deaths\": 30.0, \"cnn_articles\": 5.0, \"fox_articles\": 5.0}, {\"date\": \"2020-01-24T00:00:00\", \"Tweets\": 1153245, \"total_cases\": 1794.0, \"new_cases\": 532.0, \"new_deaths\": 18.0, \"cnn_articles\": 10.0, \"fox_articles\": 10.0}, {\"date\": \"2020-01-23T00:00:00\", \"Tweets\": 905673, \"total_cases\": 1262.0, \"new_cases\": 194.0, \"new_deaths\": 0.0, \"cnn_articles\": 20.0, \"fox_articles\": 20.0}, {\"date\": \"2020-01-22T00:00:00\", \"Tweets\": 508623, \"total_cases\": 1068.0, \"new_cases\": 284.0, \"new_deaths\": 22.0, \"cnn_articles\": 10.0, \"fox_articles\": 10.0}, {\"date\": \"2020-01-21T00:00:00\", \"Tweets\": 259864, \"total_cases\": 784.0, \"new_cases\": 306.0, \"new_deaths\": 6.0, \"cnn_articles\": 6.0, \"fox_articles\": 6.0}, {\"date\": \"2020-01-20T00:00:00\", \"Tweets\": 100124, \"total_cases\": 478.0, \"new_cases\": 40.0, \"new_deaths\": 0.0, \"cnn_articles\": 3.0, \"fox_articles\": 3.0}, {\"date\": \"2020-01-19T00:00:00\", \"Tweets\": 20987, \"total_cases\": 438.0, \"new_cases\": 272.0, \"new_deaths\": 2.0, \"cnn_articles\": 0.0, \"fox_articles\": 0.0}, {\"date\": \"2020-01-18T00:00:00\", \"Tweets\": 23432, \"total_cases\": 166.0, \"new_cases\": 34.0, \"new_deaths\": 0.0, \"cnn_articles\": 0.0, \"fox_articles\": 0.0}, {\"date\": \"2020-01-17T00:00:00\", \"Tweets\": 22431, \"total_cases\": 132.0, \"new_cases\": 10.0, \"new_deaths\": 0.0, \"cnn_articles\": 2.0, \"fox_articles\": 2.0}, {\"date\": \"2020-01-16T00:00:00\", \"Tweets\": 22342, \"total_cases\": 122.0, \"new_cases\": 0.0, \"new_deaths\": 0.0, \"cnn_articles\": 1.0, \"fox_articles\": 1.0}, {\"date\": \"2020-01-15T00:00:00\", \"Tweets\": 10987, \"total_cases\": 122.0, \"new_cases\": 2.0, \"new_deaths\": 2.0, \"cnn_articles\": 1.0, \"fox_articles\": 1.0}, {\"date\": \"2020-01-14T00:00:00\", \"Tweets\": 10023, \"total_cases\": 120.0, \"new_cases\": 0.0, \"new_deaths\": 0.0, \"cnn_articles\": 0.0, \"fox_articles\": 0.0}, {\"date\": \"2020-01-13T00:00:00\", \"Tweets\": 16475, \"total_cases\": 120.0, \"new_cases\": 2.0, \"new_deaths\": 0.0, \"cnn_articles\": 1.0, \"fox_articles\": 1.0}, {\"date\": \"2020-01-12T00:00:00\", \"Tweets\": 10045, \"total_cases\": 118.0, \"new_cases\": 0.0, \"new_deaths\": 0.0, \"cnn_articles\": 0.0, \"fox_articles\": 0.0}, {\"date\": \"2020-01-11T00:00:00\", \"Tweets\": 2812, \"total_cases\": 118.0, \"new_cases\": 0.0, \"new_deaths\": 2.0, \"cnn_articles\": 0.0, \"fox_articles\": 0.0}, {\"date\": \"2020-01-10T00:00:00\", \"Tweets\": 2347, \"total_cases\": 118.0, \"new_cases\": 0.0, \"new_deaths\": 0.0, \"cnn_articles\": 0.0, \"fox_articles\": 0.0}, {\"date\": \"2020-01-09T00:00:00\", \"Tweets\": 3451, \"total_cases\": 118.0, \"new_cases\": 0.0, \"new_deaths\": 0.0, \"cnn_articles\": 1.0, \"fox_articles\": 1.0}, {\"date\": \"2020-01-08T00:00:00\", \"Tweets\": 421, \"total_cases\": 118.0, \"new_cases\": 0.0, \"new_deaths\": 0.0, \"cnn_articles\": 0.0, \"fox_articles\": 0.0}, {\"date\": \"2020-01-07T00:00:00\", \"Tweets\": 293, \"total_cases\": 118.0, \"new_cases\": 0.0, \"new_deaths\": 0.0, \"cnn_articles\": 0.0, \"fox_articles\": 0.0}, {\"date\": \"2020-01-06T00:00:00\", \"Tweets\": 86, \"total_cases\": 118.0, \"new_cases\": 0.0, \"new_deaths\": 0.0, \"cnn_articles\": 0.0, \"fox_articles\": 0.0}, {\"date\": \"2020-01-05T00:00:00\", \"Tweets\": 127, \"total_cases\": 118.0, \"new_cases\": 30.0, \"new_deaths\": 0.0, \"cnn_articles\": 0.0, \"fox_articles\": 0.0}, {\"date\": \"2020-01-04T00:00:00\", \"Tweets\": 172, \"total_cases\": 88.0, \"new_cases\": 0.0, \"new_deaths\": 0.0, \"cnn_articles\": 0.0, \"fox_articles\": 0.0}, {\"date\": \"2020-01-03T00:00:00\", \"Tweets\": 94, \"total_cases\": 88.0, \"new_cases\": 34.0, \"new_deaths\": 0.0, \"cnn_articles\": 0.0, \"fox_articles\": 0.0}, {\"date\": \"2020-01-02T00:00:00\", \"Tweets\": 41, \"total_cases\": 54.0, \"new_cases\": 0.0, \"new_deaths\": 0.0, \"cnn_articles\": 0.0, \"fox_articles\": 0.0}, {\"date\": \"2020-01-01T00:00:00\", \"Tweets\": 63, \"total_cases\": 54.0, \"new_cases\": 0.0, \"new_deaths\": 0.0, \"cnn_articles\": 0.0, \"fox_articles\": 0.0}]}}, {\"mode\": \"vega-lite\"});\n",
              "</script>"
            ]
          },
          "metadata": {
            "tags": []
          },
          "execution_count": 54
        }
      ]
    },
    {
      "cell_type": "code",
      "metadata": {
        "id": "R-xNp6Y6LJ4s",
        "outputId": "9f71b45c-8ba9-4b14-ac9a-e4ab7d2d7044",
        "colab": {
          "base_uri": "https://localhost:8080/",
          "height": 275
        }
      },
      "source": [
        "columns = ['new_cases', 'new_deaths']\n",
        "\n",
        "select_box = alt.binding_select(options=columns, name='Pandemic data')\n",
        "sel = alt.selection_single(fields=['column'], bind=select_box, init={'column': 'new_cases'})\n",
        "\n",
        "\n",
        "\n",
        "news_chart = alt.Chart(merged_3).transform_fold(\n",
        "    columns,\n",
        "    as_=['column', 'value']\n",
        ").transform_filter(\n",
        "    sel  \n",
        ").mark_line(interpolate='monotone', stroke='#fc0303').encode(\n",
        "    x='date',\n",
        "    y='value:Q',\n",
        ").add_selection(\n",
        "    sel\n",
        ").properties(\n",
        "    width=500,\n",
        "    height=200\n",
        ")\n",
        "\n",
        "line_tweets = base.mark_line(stroke='#1da1f2', interpolate='monotone').encode(\n",
        "    alt.Y('Tweets',\n",
        "          axis=alt.Axis(title='Number of tweets', titleColor='#1da1f2'))\n",
        ")\n",
        "\n",
        "alt.layer(news_chart, line_tweets).resolve_scale(\n",
        "    y = 'independent'\n",
        ")"
      ],
      "execution_count": null,
      "outputs": [
        {
          "output_type": "execute_result",
          "data": {
            "text/plain": [
              "alt.LayerChart(...)"
            ],
            "text/html": [
              "\n",
              "<div id=\"altair-viz-65dffc8e5cf94bf881740d4e6d513fda\"></div>\n",
              "<script type=\"text/javascript\">\n",
              "  (function(spec, embedOpt){\n",
              "    let outputDiv = document.currentScript.previousElementSibling;\n",
              "    if (outputDiv.id !== \"altair-viz-65dffc8e5cf94bf881740d4e6d513fda\") {\n",
              "      outputDiv = document.getElementById(\"altair-viz-65dffc8e5cf94bf881740d4e6d513fda\");\n",
              "    }\n",
              "    const paths = {\n",
              "      \"vega\": \"https://cdn.jsdelivr.net/npm//vega@5?noext\",\n",
              "      \"vega-lib\": \"https://cdn.jsdelivr.net/npm//vega-lib?noext\",\n",
              "      \"vega-lite\": \"https://cdn.jsdelivr.net/npm//vega-lite@4.8.1?noext\",\n",
              "      \"vega-embed\": \"https://cdn.jsdelivr.net/npm//vega-embed@6?noext\",\n",
              "    };\n",
              "\n",
              "    function loadScript(lib) {\n",
              "      return new Promise(function(resolve, reject) {\n",
              "        var s = document.createElement('script');\n",
              "        s.src = paths[lib];\n",
              "        s.async = true;\n",
              "        s.onload = () => resolve(paths[lib]);\n",
              "        s.onerror = () => reject(`Error loading script: ${paths[lib]}`);\n",
              "        document.getElementsByTagName(\"head\")[0].appendChild(s);\n",
              "      });\n",
              "    }\n",
              "\n",
              "    function showError(err) {\n",
              "      outputDiv.innerHTML = `<div class=\"error\" style=\"color:red;\">${err}</div>`;\n",
              "      throw err;\n",
              "    }\n",
              "\n",
              "    function displayChart(vegaEmbed) {\n",
              "      vegaEmbed(outputDiv, spec, embedOpt)\n",
              "        .catch(err => showError(`Javascript Error: ${err.message}<br>This usually means there's a typo in your chart specification. See the javascript console for the full traceback.`));\n",
              "    }\n",
              "\n",
              "    if(typeof define === \"function\" && define.amd) {\n",
              "      requirejs.config({paths});\n",
              "      require([\"vega-embed\"], displayChart, err => showError(`Error loading script: ${err.message}`));\n",
              "    } else if (typeof vegaEmbed === \"function\") {\n",
              "      displayChart(vegaEmbed);\n",
              "    } else {\n",
              "      loadScript(\"vega\")\n",
              "        .then(() => loadScript(\"vega-lite\"))\n",
              "        .then(() => loadScript(\"vega-embed\"))\n",
              "        .catch(showError)\n",
              "        .then(() => displayChart(vegaEmbed));\n",
              "    }\n",
              "  })({\"config\": {\"view\": {\"continuousWidth\": 400, \"continuousHeight\": 300}}, \"layer\": [{\"mark\": {\"type\": \"line\", \"interpolate\": \"monotone\", \"stroke\": \"#fc0303\"}, \"encoding\": {\"x\": {\"type\": \"temporal\", \"field\": \"date\"}, \"y\": {\"type\": \"quantitative\", \"field\": \"value\"}}, \"height\": 200, \"selection\": {\"selector007\": {\"type\": \"single\", \"fields\": [\"column\"], \"bind\": {\"input\": \"select\", \"options\": [\"new_cases\", \"new_deaths\"], \"name\": \"Pandemic data\"}, \"init\": {\"column\": \"new_cases\"}}}, \"transform\": [{\"fold\": [\"new_cases\", \"new_deaths\"], \"as\": [\"column\", \"value\"]}, {\"filter\": {\"selection\": \"selector007\"}}], \"width\": 500}, {\"mark\": {\"type\": \"line\", \"interpolate\": \"monotone\", \"stroke\": \"#1da1f2\"}, \"encoding\": {\"x\": {\"type\": \"temporal\", \"axis\": {\"title\": null}, \"field\": \"date\"}, \"y\": {\"type\": \"quantitative\", \"axis\": {\"title\": \"Number of tweets\", \"titleColor\": \"#1da1f2\"}, \"field\": \"Tweets\"}}, \"height\": 200, \"width\": 500}], \"data\": {\"name\": \"data-2630452bc11ea212d452ce67a2292795\"}, \"resolve\": {\"scale\": {\"y\": \"independent\"}}, \"$schema\": \"https://vega.github.io/schema/vega-lite/v4.8.1.json\", \"datasets\": {\"data-2630452bc11ea212d452ce67a2292795\": [{\"date\": \"2020-04-07T00:00:00\", \"Tweets\": 7877346, \"total_cases\": 2687108.0, \"new_cases\": 145976.0, \"new_deaths\": 10680.0, \"cnn_articles\": 230.0, \"fox_articles\": 230.0}, {\"date\": \"2020-04-06T00:00:00\", \"Tweets\": 8153966, \"total_cases\": 2541132.0, \"new_cases\": 132552.0, \"new_deaths\": 9512.0, \"cnn_articles\": 169.0, \"fox_articles\": 169.0}, {\"date\": \"2020-04-05T00:00:00\", \"Tweets\": 7421877, \"total_cases\": 2408425.0, \"new_cases\": 170486.0, \"new_deaths\": 12616.0, \"cnn_articles\": 96.0, \"fox_articles\": 96.0}, {\"date\": \"2020-04-04T00:00:00\", \"Tweets\": 7928225, \"total_cases\": 2238094.0, \"new_cases\": 163660.0, \"new_deaths\": 13552.0, \"cnn_articles\": 120.0, \"fox_articles\": 120.0}, {\"date\": \"2020-04-03T00:00:00\", \"Tweets\": 9357113, \"total_cases\": 2074434.0, \"new_cases\": 154914.0, \"new_deaths\": 10018.0, \"cnn_articles\": 235.0, \"fox_articles\": 235.0}, {\"date\": \"2020-04-02T00:00:00\", \"Tweets\": 9767918, \"total_cases\": 1919520.0, \"new_cases\": 154946.0, \"new_deaths\": 10020.0, \"cnn_articles\": 260.0, \"fox_articles\": 260.0}, {\"date\": \"2020-04-01T00:00:00\", \"Tweets\": 10402981, \"total_cases\": 1764569.0, \"new_cases\": 149348.0, \"new_deaths\": 9348.0, \"cnn_articles\": 260.0, \"fox_articles\": 260.0}, {\"date\": \"2020-03-31T00:00:00\", \"Tweets\": 10442432, \"total_cases\": 1615134.0, \"new_cases\": 128976.0, \"new_deaths\": 7972.0, \"cnn_articles\": 144.0, \"fox_articles\": 144.0}, {\"date\": \"2020-03-30T00:00:00\", \"Tweets\": 10125714, \"total_cases\": 1486250.0, \"new_cases\": 114726.0, \"new_deaths\": 6456.0, \"cnn_articles\": 204.0, \"fox_articles\": 204.0}, {\"date\": \"2020-03-29T00:00:00\", \"Tweets\": 9333426, \"total_cases\": 1371524.0, \"new_cases\": 125628.0, \"new_deaths\": 7174.0, \"cnn_articles\": 108.0, \"fox_articles\": 108.0}, {\"date\": \"2020-03-28T00:00:00\", \"Tweets\": 10434671, \"total_cases\": 1245896.0, \"new_cases\": 130188.0, \"new_deaths\": 6982.0, \"cnn_articles\": 84.0, \"fox_articles\": 84.0}, {\"date\": \"2020-03-27T00:00:00\", \"Tweets\": 12209011, \"total_cases\": 1115708.0, \"new_cases\": 122032.0, \"new_deaths\": 5610.0, \"cnn_articles\": 210.0, \"fox_articles\": 210.0}, {\"date\": \"2020-03-26T00:00:00\", \"Tweets\": 12236719, \"total_cases\": 993676.0, \"new_cases\": 107500.0, \"new_deaths\": 5288.0, \"cnn_articles\": 256.0, \"fox_articles\": 256.0}, {\"date\": \"2020-03-25T00:00:00\", \"Tweets\": 13000269, \"total_cases\": 886169.0, \"new_cases\": 84772.0, \"new_deaths\": 4610.0, \"cnn_articles\": 260.0, \"fox_articles\": 260.0}, {\"date\": \"2020-03-24T00:00:00\", \"Tweets\": 14445841, \"total_cases\": 801402.0, \"new_cases\": 88972.0, \"new_deaths\": 3708.0, \"cnn_articles\": 253.0, \"fox_articles\": 253.0}, {\"date\": \"2020-03-23T00:00:00\", \"Tweets\": 15446246, \"total_cases\": 712423.0, \"new_cases\": 68572.0, \"new_deaths\": 3376.0, \"cnn_articles\": 231.0, \"fox_articles\": 231.0}, {\"date\": \"2020-03-22T00:00:00\", \"Tweets\": 14392561, \"total_cases\": 643851.0, \"new_cases\": 68412.0, \"new_deaths\": 3434.0, \"cnn_articles\": 101.0, \"fox_articles\": 101.0}, {\"date\": \"2020-03-21T00:00:00\", \"Tweets\": 12861351, \"total_cases\": 575439.0, \"new_cases\": 63818.0, \"new_deaths\": 2770.0, \"cnn_articles\": 75.0, \"fox_articles\": 75.0}, {\"date\": \"2020-03-20T00:00:00\", \"Tweets\": 15200259, \"total_cases\": 511626.0, \"new_cases\": 62188.0, \"new_deaths\": 2148.0, \"cnn_articles\": 186.0, \"fox_articles\": 186.0}, {\"date\": \"2020-03-19T00:00:00\", \"Tweets\": 16582131, \"total_cases\": 449434.0, \"new_cases\": 40428.0, \"new_deaths\": 1916.0, \"cnn_articles\": 246.0, \"fox_articles\": 246.0}, {\"date\": \"2020-03-18T00:00:00\", \"Tweets\": 16561524, \"total_cases\": 409006.0, \"new_cases\": 34012.0, \"new_deaths\": 1624.0, \"cnn_articles\": 241.0, \"fox_articles\": 241.0}, {\"date\": \"2020-03-17T00:00:00\", \"Tweets\": 17417142, \"total_cases\": 374982.0, \"new_cases\": 28402.0, \"new_deaths\": 1212.0, \"cnn_articles\": 247.0, \"fox_articles\": 247.0}, {\"date\": \"2020-03-16T00:00:00\", \"Tweets\": 17227182, \"total_cases\": 346564.0, \"new_cases\": 24910.0, \"new_deaths\": 1500.0, \"cnn_articles\": 204.0, \"fox_articles\": 204.0}, {\"date\": \"2020-03-15T00:00:00\", \"Tweets\": 16438760, \"total_cases\": 321583.0, \"new_cases\": 24330.0, \"new_deaths\": 734.0, \"cnn_articles\": 91.0, \"fox_articles\": 91.0}, {\"date\": \"2020-03-14T00:00:00\", \"Tweets\": 16823148, \"total_cases\": 297129.0, \"new_cases\": 20808.0, \"new_deaths\": 884.0, \"cnn_articles\": 49.0, \"fox_articles\": 49.0}, {\"date\": \"2020-03-13T00:00:00\", \"Tweets\": 19802671, \"total_cases\": 276054.0, \"new_cases\": 18902.0, \"new_deaths\": 702.0, \"cnn_articles\": 159.0, \"fox_articles\": 159.0}, {\"date\": \"2020-03-12T00:00:00\", \"Tweets\": 18799722, \"total_cases\": 257471.0, \"new_cases\": 15796.0, \"new_deaths\": 662.0, \"cnn_articles\": 185.0, \"fox_articles\": 185.0}, {\"date\": \"2020-03-11T00:00:00\", \"Tweets\": 9923317, \"total_cases\": 241730.0, \"new_cases\": 10214.0, \"new_deaths\": 544.0, \"cnn_articles\": 107.0, \"fox_articles\": 107.0}, {\"date\": \"2020-03-10T00:00:00\", \"Tweets\": 8284672, \"total_cases\": 231310.0, \"new_cases\": 9632.0, \"new_deaths\": 418.0, \"cnn_articles\": 104.0, \"fox_articles\": 104.0}, {\"date\": \"2020-03-09T00:00:00\", \"Tweets\": 6386122, \"total_cases\": 221758.0, \"new_cases\": 8354.0, \"new_deaths\": 456.0, \"cnn_articles\": 89.0, \"fox_articles\": 89.0}, {\"date\": \"2020-03-08T00:00:00\", \"Tweets\": 4533476, \"total_cases\": 213417.0, \"new_cases\": 7954.0, \"new_deaths\": 194.0, \"cnn_articles\": 39.0, \"fox_articles\": 39.0}, {\"date\": \"2020-03-07T00:00:00\", \"Tweets\": 4632239, \"total_cases\": 205479.0, \"new_cases\": 8240.0, \"new_deaths\": 208.0, \"cnn_articles\": 37.0, \"fox_articles\": 37.0}, {\"date\": \"2020-03-06T00:00:00\", \"Tweets\": 4581032, \"total_cases\": 197347.0, \"new_cases\": 6116.0, \"new_deaths\": 204.0, \"cnn_articles\": 60.0, \"fox_articles\": 60.0}, {\"date\": \"2020-03-05T00:00:00\", \"Tweets\": 4323687, \"total_cases\": 191161.0, \"new_cases\": 4708.0, \"new_deaths\": 160.0, \"cnn_articles\": 50.0, \"fox_articles\": 50.0}, {\"date\": \"2020-03-04T00:00:00\", \"Tweets\": 4323670, \"total_cases\": 186440.0, \"new_cases\": 4624.0, \"new_deaths\": 168.0, \"cnn_articles\": 65.0, \"fox_articles\": 65.0}, {\"date\": \"2020-03-03T00:00:00\", \"Tweets\": 4342139, \"total_cases\": 181779.0, \"new_cases\": 3714.0, \"new_deaths\": 144.0, \"cnn_articles\": 49.0, \"fox_articles\": 49.0}, {\"date\": \"2020-03-02T00:00:00\", \"Tweets\": 4240721, \"total_cases\": 178298.0, \"new_cases\": 4138.0, \"new_deaths\": 134.0, \"cnn_articles\": 62.0, \"fox_articles\": 62.0}, {\"date\": \"2020-03-01T00:00:00\", \"Tweets\": 3632689, \"total_cases\": 174160.0, \"new_cases\": 3688.0, \"new_deaths\": 116.0, \"cnn_articles\": 24.0, \"fox_articles\": 24.0}, {\"date\": \"2020-02-29T00:00:00\", \"Tweets\": 4666121, \"total_cases\": 170472.0, \"new_cases\": 3718.0, \"new_deaths\": 128.0, \"cnn_articles\": 27.0, \"fox_articles\": 27.0}, {\"date\": \"2020-02-28T00:00:00\", \"Tweets\": 5685321, \"total_cases\": 166754.0, \"new_cases\": 2532.0, \"new_deaths\": 114.0, \"cnn_articles\": 43.0, \"fox_articles\": 43.0}, {\"date\": \"2020-02-27T00:00:00\", \"Tweets\": 4597412, \"total_cases\": 164222.0, \"new_cases\": 2228.0, \"new_deaths\": 76.0, \"cnn_articles\": 69.0, \"fox_articles\": 69.0}, {\"date\": \"2020-02-26T00:00:00\", \"Tweets\": 3989533, \"total_cases\": 161994.0, \"new_cases\": 1734.0, \"new_deaths\": 128.0, \"cnn_articles\": 52.0, \"fox_articles\": 52.0}, {\"date\": \"2020-02-25T00:00:00\", \"Tweets\": 2844369, \"total_cases\": 160260.0, \"new_cases\": 1586.0, \"new_deaths\": 158.0, \"cnn_articles\": 22.0, \"fox_articles\": 22.0}, {\"date\": \"2020-02-24T00:00:00\", \"Tweets\": 1643544, \"total_cases\": 158674.0, \"new_cases\": 1046.0, \"new_deaths\": 312.0, \"cnn_articles\": 19.0, \"fox_articles\": 19.0}, {\"date\": \"2020-02-23T00:00:00\", \"Tweets\": 1233511, \"total_cases\": 157628.0, \"new_cases\": 2018.0, \"new_deaths\": 208.0, \"cnn_articles\": 4.0, \"fox_articles\": 4.0}, {\"date\": \"2020-02-22T00:00:00\", \"Tweets\": 997638, \"total_cases\": 155610.0, \"new_cases\": 2170.0, \"new_deaths\": 224.0, \"cnn_articles\": 4.0, \"fox_articles\": 4.0}, {\"date\": \"2020-02-21T00:00:00\", \"Tweets\": 954321, \"total_cases\": 153440.0, \"new_cases\": 1992.0, \"new_deaths\": 238.0, \"cnn_articles\": 19.0, \"fox_articles\": 19.0}, {\"date\": \"2020-02-20T00:00:00\", \"Tweets\": 622349, \"total_cases\": 151448.0, \"new_cases\": 1064.0, \"new_deaths\": 232.0, \"cnn_articles\": 9.0, \"fox_articles\": 9.0}, {\"date\": \"2020-02-19T00:00:00\", \"Tweets\": 626237, \"total_cases\": 150384.0, \"new_cases\": 3728.0, \"new_deaths\": 278.0, \"cnn_articles\": 12.0, \"fox_articles\": 12.0}, {\"date\": \"2020-02-18T00:00:00\", \"Tweets\": 628043, \"total_cases\": 146656.0, \"new_cases\": 3990.0, \"new_deaths\": 196.0, \"cnn_articles\": 17.0, \"fox_articles\": 17.0}, {\"date\": \"2020-02-17T00:00:00\", \"Tweets\": 626732, \"total_cases\": 142666.0, \"new_cases\": 4134.0, \"new_deaths\": 212.0, \"cnn_articles\": 18.0, \"fox_articles\": 18.0}, {\"date\": \"2020-02-16T00:00:00\", \"Tweets\": 625127, \"total_cases\": 138532.0, \"new_cases\": 4324.0, \"new_deaths\": 284.0, \"cnn_articles\": 6.0, \"fox_articles\": 6.0}, {\"date\": \"2020-02-15T00:00:00\", \"Tweets\": 624555, \"total_cases\": 134208.0, \"new_cases\": 5120.0, \"new_deaths\": 288.0, \"cnn_articles\": 8.0, \"fox_articles\": 8.0}, {\"date\": \"2020-02-14T00:00:00\", \"Tweets\": 622722, \"total_cases\": 129088.0, \"new_cases\": 8430.0, \"new_deaths\": 26.0, \"cnn_articles\": 14.0, \"fox_articles\": 14.0}, {\"date\": \"2020-02-13T00:00:00\", \"Tweets\": 956877, \"total_cases\": 120658.0, \"new_cases\": 30302.0, \"new_deaths\": 510.0, \"cnn_articles\": 21.0, \"fox_articles\": 21.0}, {\"date\": \"2020-02-12T00:00:00\", \"Tweets\": 911098, \"total_cases\": 90356.0, \"new_cases\": 4144.0, \"new_deaths\": 194.0, \"cnn_articles\": 20.0, \"fox_articles\": 20.0}, {\"date\": \"2020-02-11T00:00:00\", \"Tweets\": 908627, \"total_cases\": 86212.0, \"new_cases\": 5124.0, \"new_deaths\": 216.0, \"cnn_articles\": 18.0, \"fox_articles\": 18.0}, {\"date\": \"2020-02-10T00:00:00\", \"Tweets\": 807654, \"total_cases\": 81088.0, \"new_cases\": 5984.0, \"new_deaths\": 194.0, \"cnn_articles\": 13.0, \"fox_articles\": 13.0}, {\"date\": \"2020-02-09T00:00:00\", \"Tweets\": 796739, \"total_cases\": 75104.0, \"new_cases\": 5236.0, \"new_deaths\": 178.0, \"cnn_articles\": 10.0, \"fox_articles\": 10.0}, {\"date\": \"2020-02-08T00:00:00\", \"Tweets\": 803453, \"total_cases\": 69868.0, \"new_cases\": 6884.0, \"new_deaths\": 172.0, \"cnn_articles\": 11.0, \"fox_articles\": 11.0}, {\"date\": \"2020-02-07T00:00:00\", \"Tweets\": 987563, \"total_cases\": 62984.0, \"new_cases\": 6436.0, \"new_deaths\": 146.0, \"cnn_articles\": 22.0, \"fox_articles\": 22.0}, {\"date\": \"2020-02-06T00:00:00\", \"Tweets\": 834673, \"total_cases\": 56548.0, \"new_cases\": 7502.0, \"new_deaths\": 144.0, \"cnn_articles\": 17.0, \"fox_articles\": 17.0}, {\"date\": \"2020-02-05T00:00:00\", \"Tweets\": 803587, \"total_cases\": 49046.0, \"new_cases\": 7816.0, \"new_deaths\": 132.0, \"cnn_articles\": 20.0, \"fox_articles\": 20.0}, {\"date\": \"2020-02-04T00:00:00\", \"Tweets\": 997862, \"total_cases\": 41230.0, \"new_cases\": 6486.0, \"new_deaths\": 130.0, \"cnn_articles\": 28.0, \"fox_articles\": 28.0}, {\"date\": \"2020-02-03T00:00:00\", \"Tweets\": 1000752, \"total_cases\": 34744.0, \"new_cases\": 5636.0, \"new_deaths\": 114.0, \"cnn_articles\": 20.0, \"fox_articles\": 20.0}, {\"date\": \"2020-02-02T00:00:00\", \"Tweets\": 1298476, \"total_cases\": 29108.0, \"new_cases\": 5216.0, \"new_deaths\": 92.0, \"cnn_articles\": 7.0, \"fox_articles\": 7.0}, {\"date\": \"2020-02-01T00:00:00\", \"Tweets\": 1287963, \"total_cases\": 23892.0, \"new_cases\": 4244.0, \"new_deaths\": 92.0, \"cnn_articles\": 7.0, \"fox_articles\": 7.0}, {\"date\": \"2020-01-31T00:00:00\", \"Tweets\": 1997635, \"total_cases\": 19648.0, \"new_cases\": 4002.0, \"new_deaths\": 86.0, \"cnn_articles\": 19.0, \"fox_articles\": 19.0}, {\"date\": \"2020-01-30T00:00:00\", \"Tweets\": 2010976, \"total_cases\": 15646.0, \"new_cases\": 3512.0, \"new_deaths\": 76.0, \"cnn_articles\": 32.0, \"fox_articles\": 32.0}, {\"date\": \"2020-01-29T00:00:00\", \"Tweets\": 1623497, \"total_cases\": 12134.0, \"new_cases\": 2960.0, \"new_deaths\": 52.0, \"cnn_articles\": 33.0, \"fox_articles\": 33.0}, {\"date\": \"2020-01-28T00:00:00\", \"Tweets\": 1497653, \"total_cases\": 9174.0, \"new_cases\": 3534.0, \"new_deaths\": 50.0, \"cnn_articles\": 22.0, \"fox_articles\": 22.0}, {\"date\": \"2020-01-27T00:00:00\", \"Tweets\": 1467598, \"total_cases\": 5640.0, \"new_cases\": 1594.0, \"new_deaths\": 50.0, \"cnn_articles\": 20.0, \"fox_articles\": 20.0}, {\"date\": \"2020-01-26T00:00:00\", \"Tweets\": 1678953, \"total_cases\": 4046.0, \"new_cases\": 1346.0, \"new_deaths\": 30.0, \"cnn_articles\": 9.0, \"fox_articles\": 9.0}, {\"date\": \"2020-01-25T00:00:00\", \"Tweets\": 1536784, \"total_cases\": 2700.0, \"new_cases\": 906.0, \"new_deaths\": 30.0, \"cnn_articles\": 5.0, \"fox_articles\": 5.0}, {\"date\": \"2020-01-24T00:00:00\", \"Tweets\": 1153245, \"total_cases\": 1794.0, \"new_cases\": 532.0, \"new_deaths\": 18.0, \"cnn_articles\": 10.0, \"fox_articles\": 10.0}, {\"date\": \"2020-01-23T00:00:00\", \"Tweets\": 905673, \"total_cases\": 1262.0, \"new_cases\": 194.0, \"new_deaths\": 0.0, \"cnn_articles\": 20.0, \"fox_articles\": 20.0}, {\"date\": \"2020-01-22T00:00:00\", \"Tweets\": 508623, \"total_cases\": 1068.0, \"new_cases\": 284.0, \"new_deaths\": 22.0, \"cnn_articles\": 10.0, \"fox_articles\": 10.0}, {\"date\": \"2020-01-21T00:00:00\", \"Tweets\": 259864, \"total_cases\": 784.0, \"new_cases\": 306.0, \"new_deaths\": 6.0, \"cnn_articles\": 6.0, \"fox_articles\": 6.0}, {\"date\": \"2020-01-20T00:00:00\", \"Tweets\": 100124, \"total_cases\": 478.0, \"new_cases\": 40.0, \"new_deaths\": 0.0, \"cnn_articles\": 3.0, \"fox_articles\": 3.0}, {\"date\": \"2020-01-19T00:00:00\", \"Tweets\": 20987, \"total_cases\": 438.0, \"new_cases\": 272.0, \"new_deaths\": 2.0, \"cnn_articles\": 0.0, \"fox_articles\": 0.0}, {\"date\": \"2020-01-18T00:00:00\", \"Tweets\": 23432, \"total_cases\": 166.0, \"new_cases\": 34.0, \"new_deaths\": 0.0, \"cnn_articles\": 0.0, \"fox_articles\": 0.0}, {\"date\": \"2020-01-17T00:00:00\", \"Tweets\": 22431, \"total_cases\": 132.0, \"new_cases\": 10.0, \"new_deaths\": 0.0, \"cnn_articles\": 2.0, \"fox_articles\": 2.0}, {\"date\": \"2020-01-16T00:00:00\", \"Tweets\": 22342, \"total_cases\": 122.0, \"new_cases\": 0.0, \"new_deaths\": 0.0, \"cnn_articles\": 1.0, \"fox_articles\": 1.0}, {\"date\": \"2020-01-15T00:00:00\", \"Tweets\": 10987, \"total_cases\": 122.0, \"new_cases\": 2.0, \"new_deaths\": 2.0, \"cnn_articles\": 1.0, \"fox_articles\": 1.0}, {\"date\": \"2020-01-14T00:00:00\", \"Tweets\": 10023, \"total_cases\": 120.0, \"new_cases\": 0.0, \"new_deaths\": 0.0, \"cnn_articles\": 0.0, \"fox_articles\": 0.0}, {\"date\": \"2020-01-13T00:00:00\", \"Tweets\": 16475, \"total_cases\": 120.0, \"new_cases\": 2.0, \"new_deaths\": 0.0, \"cnn_articles\": 1.0, \"fox_articles\": 1.0}, {\"date\": \"2020-01-12T00:00:00\", \"Tweets\": 10045, \"total_cases\": 118.0, \"new_cases\": 0.0, \"new_deaths\": 0.0, \"cnn_articles\": 0.0, \"fox_articles\": 0.0}, {\"date\": \"2020-01-11T00:00:00\", \"Tweets\": 2812, \"total_cases\": 118.0, \"new_cases\": 0.0, \"new_deaths\": 2.0, \"cnn_articles\": 0.0, \"fox_articles\": 0.0}, {\"date\": \"2020-01-10T00:00:00\", \"Tweets\": 2347, \"total_cases\": 118.0, \"new_cases\": 0.0, \"new_deaths\": 0.0, \"cnn_articles\": 0.0, \"fox_articles\": 0.0}, {\"date\": \"2020-01-09T00:00:00\", \"Tweets\": 3451, \"total_cases\": 118.0, \"new_cases\": 0.0, \"new_deaths\": 0.0, \"cnn_articles\": 1.0, \"fox_articles\": 1.0}, {\"date\": \"2020-01-08T00:00:00\", \"Tweets\": 421, \"total_cases\": 118.0, \"new_cases\": 0.0, \"new_deaths\": 0.0, \"cnn_articles\": 0.0, \"fox_articles\": 0.0}, {\"date\": \"2020-01-07T00:00:00\", \"Tweets\": 293, \"total_cases\": 118.0, \"new_cases\": 0.0, \"new_deaths\": 0.0, \"cnn_articles\": 0.0, \"fox_articles\": 0.0}, {\"date\": \"2020-01-06T00:00:00\", \"Tweets\": 86, \"total_cases\": 118.0, \"new_cases\": 0.0, \"new_deaths\": 0.0, \"cnn_articles\": 0.0, \"fox_articles\": 0.0}, {\"date\": \"2020-01-05T00:00:00\", \"Tweets\": 127, \"total_cases\": 118.0, \"new_cases\": 30.0, \"new_deaths\": 0.0, \"cnn_articles\": 0.0, \"fox_articles\": 0.0}, {\"date\": \"2020-01-04T00:00:00\", \"Tweets\": 172, \"total_cases\": 88.0, \"new_cases\": 0.0, \"new_deaths\": 0.0, \"cnn_articles\": 0.0, \"fox_articles\": 0.0}, {\"date\": \"2020-01-03T00:00:00\", \"Tweets\": 94, \"total_cases\": 88.0, \"new_cases\": 34.0, \"new_deaths\": 0.0, \"cnn_articles\": 0.0, \"fox_articles\": 0.0}, {\"date\": \"2020-01-02T00:00:00\", \"Tweets\": 41, \"total_cases\": 54.0, \"new_cases\": 0.0, \"new_deaths\": 0.0, \"cnn_articles\": 0.0, \"fox_articles\": 0.0}, {\"date\": \"2020-01-01T00:00:00\", \"Tweets\": 63, \"total_cases\": 54.0, \"new_cases\": 0.0, \"new_deaths\": 0.0, \"cnn_articles\": 0.0, \"fox_articles\": 0.0}]}}, {\"mode\": \"vega-lite\"});\n",
              "</script>"
            ]
          },
          "metadata": {
            "tags": []
          },
          "execution_count": 55
        }
      ]
    },
    {
      "cell_type": "markdown",
      "metadata": {
        "id": "Uj1o1urnLJ4y"
      },
      "source": [
        "# Compare tweet numbers to news articles on CNN and Fox News"
      ]
    },
    {
      "cell_type": "code",
      "metadata": {
        "id": "6x3F76Y9LJ4z",
        "outputId": "fb0b6fa2-3419-41df-8d66-530e5eebbf74",
        "colab": {
          "base_uri": "https://localhost:8080/",
          "height": 275
        }
      },
      "source": [
        "columns = ['fox_articles', 'cnn_articles']\n",
        "\n",
        "select_box = alt.binding_select(options=columns, name='News source')\n",
        "sel = alt.selection_single(fields=['column'], bind=select_box, init={'column': 'cnn_articles'})\n",
        "\n",
        "\n",
        "\n",
        "news_chart = alt.Chart(merged_3).transform_fold(\n",
        "    columns,\n",
        "    as_=['column', 'value']\n",
        ").transform_filter(\n",
        "    sel  \n",
        ").mark_line(interpolate='monotone', stroke='#fc0303').encode(\n",
        "    x='date',\n",
        "    y='value:Q',\n",
        ").add_selection(\n",
        "    sel\n",
        ").properties(\n",
        "    width=500,\n",
        "    height=200\n",
        ")\n",
        "\n",
        "line_tweets = base.mark_line(stroke='#1da1f2', interpolate='monotone').encode(\n",
        "    alt.Y('Tweets',\n",
        "          axis=alt.Axis(title='Number of tweets', titleColor='#1da1f2'))\n",
        ")\n",
        "\n",
        "alt.layer(news_chart, line_tweets).resolve_scale(\n",
        "    y = 'independent'\n",
        ")"
      ],
      "execution_count": null,
      "outputs": [
        {
          "output_type": "execute_result",
          "data": {
            "text/plain": [
              "alt.LayerChart(...)"
            ],
            "text/html": [
              "\n",
              "<div id=\"altair-viz-f9758a8b3b3c4bcb8e0793a176de552b\"></div>\n",
              "<script type=\"text/javascript\">\n",
              "  (function(spec, embedOpt){\n",
              "    let outputDiv = document.currentScript.previousElementSibling;\n",
              "    if (outputDiv.id !== \"altair-viz-f9758a8b3b3c4bcb8e0793a176de552b\") {\n",
              "      outputDiv = document.getElementById(\"altair-viz-f9758a8b3b3c4bcb8e0793a176de552b\");\n",
              "    }\n",
              "    const paths = {\n",
              "      \"vega\": \"https://cdn.jsdelivr.net/npm//vega@5?noext\",\n",
              "      \"vega-lib\": \"https://cdn.jsdelivr.net/npm//vega-lib?noext\",\n",
              "      \"vega-lite\": \"https://cdn.jsdelivr.net/npm//vega-lite@4.8.1?noext\",\n",
              "      \"vega-embed\": \"https://cdn.jsdelivr.net/npm//vega-embed@6?noext\",\n",
              "    };\n",
              "\n",
              "    function loadScript(lib) {\n",
              "      return new Promise(function(resolve, reject) {\n",
              "        var s = document.createElement('script');\n",
              "        s.src = paths[lib];\n",
              "        s.async = true;\n",
              "        s.onload = () => resolve(paths[lib]);\n",
              "        s.onerror = () => reject(`Error loading script: ${paths[lib]}`);\n",
              "        document.getElementsByTagName(\"head\")[0].appendChild(s);\n",
              "      });\n",
              "    }\n",
              "\n",
              "    function showError(err) {\n",
              "      outputDiv.innerHTML = `<div class=\"error\" style=\"color:red;\">${err}</div>`;\n",
              "      throw err;\n",
              "    }\n",
              "\n",
              "    function displayChart(vegaEmbed) {\n",
              "      vegaEmbed(outputDiv, spec, embedOpt)\n",
              "        .catch(err => showError(`Javascript Error: ${err.message}<br>This usually means there's a typo in your chart specification. See the javascript console for the full traceback.`));\n",
              "    }\n",
              "\n",
              "    if(typeof define === \"function\" && define.amd) {\n",
              "      requirejs.config({paths});\n",
              "      require([\"vega-embed\"], displayChart, err => showError(`Error loading script: ${err.message}`));\n",
              "    } else if (typeof vegaEmbed === \"function\") {\n",
              "      displayChart(vegaEmbed);\n",
              "    } else {\n",
              "      loadScript(\"vega\")\n",
              "        .then(() => loadScript(\"vega-lite\"))\n",
              "        .then(() => loadScript(\"vega-embed\"))\n",
              "        .catch(showError)\n",
              "        .then(() => displayChart(vegaEmbed));\n",
              "    }\n",
              "  })({\"config\": {\"view\": {\"continuousWidth\": 400, \"continuousHeight\": 300}}, \"layer\": [{\"mark\": {\"type\": \"line\", \"interpolate\": \"monotone\", \"stroke\": \"#fc0303\"}, \"encoding\": {\"x\": {\"type\": \"temporal\", \"field\": \"date\"}, \"y\": {\"type\": \"quantitative\", \"field\": \"value\"}}, \"height\": 200, \"selection\": {\"selector008\": {\"type\": \"single\", \"fields\": [\"column\"], \"bind\": {\"input\": \"select\", \"options\": [\"fox_articles\", \"cnn_articles\"], \"name\": \"News source\"}, \"init\": {\"column\": \"cnn_articles\"}}}, \"transform\": [{\"fold\": [\"fox_articles\", \"cnn_articles\"], \"as\": [\"column\", \"value\"]}, {\"filter\": {\"selection\": \"selector008\"}}], \"width\": 500}, {\"mark\": {\"type\": \"line\", \"interpolate\": \"monotone\", \"stroke\": \"#1da1f2\"}, \"encoding\": {\"x\": {\"type\": \"temporal\", \"axis\": {\"title\": null}, \"field\": \"date\"}, \"y\": {\"type\": \"quantitative\", \"axis\": {\"title\": \"Number of tweets\", \"titleColor\": \"#1da1f2\"}, \"field\": \"Tweets\"}}, \"height\": 200, \"width\": 500}], \"data\": {\"name\": \"data-2630452bc11ea212d452ce67a2292795\"}, \"resolve\": {\"scale\": {\"y\": \"independent\"}}, \"$schema\": \"https://vega.github.io/schema/vega-lite/v4.8.1.json\", \"datasets\": {\"data-2630452bc11ea212d452ce67a2292795\": [{\"date\": \"2020-04-07T00:00:00\", \"Tweets\": 7877346, \"total_cases\": 2687108.0, \"new_cases\": 145976.0, \"new_deaths\": 10680.0, \"cnn_articles\": 230.0, \"fox_articles\": 230.0}, {\"date\": \"2020-04-06T00:00:00\", \"Tweets\": 8153966, \"total_cases\": 2541132.0, \"new_cases\": 132552.0, \"new_deaths\": 9512.0, \"cnn_articles\": 169.0, \"fox_articles\": 169.0}, {\"date\": \"2020-04-05T00:00:00\", \"Tweets\": 7421877, \"total_cases\": 2408425.0, \"new_cases\": 170486.0, \"new_deaths\": 12616.0, \"cnn_articles\": 96.0, \"fox_articles\": 96.0}, {\"date\": \"2020-04-04T00:00:00\", \"Tweets\": 7928225, \"total_cases\": 2238094.0, \"new_cases\": 163660.0, \"new_deaths\": 13552.0, \"cnn_articles\": 120.0, \"fox_articles\": 120.0}, {\"date\": \"2020-04-03T00:00:00\", \"Tweets\": 9357113, \"total_cases\": 2074434.0, \"new_cases\": 154914.0, \"new_deaths\": 10018.0, \"cnn_articles\": 235.0, \"fox_articles\": 235.0}, {\"date\": \"2020-04-02T00:00:00\", \"Tweets\": 9767918, \"total_cases\": 1919520.0, \"new_cases\": 154946.0, \"new_deaths\": 10020.0, \"cnn_articles\": 260.0, \"fox_articles\": 260.0}, {\"date\": \"2020-04-01T00:00:00\", \"Tweets\": 10402981, \"total_cases\": 1764569.0, \"new_cases\": 149348.0, \"new_deaths\": 9348.0, \"cnn_articles\": 260.0, \"fox_articles\": 260.0}, {\"date\": \"2020-03-31T00:00:00\", \"Tweets\": 10442432, \"total_cases\": 1615134.0, \"new_cases\": 128976.0, \"new_deaths\": 7972.0, \"cnn_articles\": 144.0, \"fox_articles\": 144.0}, {\"date\": \"2020-03-30T00:00:00\", \"Tweets\": 10125714, \"total_cases\": 1486250.0, \"new_cases\": 114726.0, \"new_deaths\": 6456.0, \"cnn_articles\": 204.0, \"fox_articles\": 204.0}, {\"date\": \"2020-03-29T00:00:00\", \"Tweets\": 9333426, \"total_cases\": 1371524.0, \"new_cases\": 125628.0, \"new_deaths\": 7174.0, \"cnn_articles\": 108.0, \"fox_articles\": 108.0}, {\"date\": \"2020-03-28T00:00:00\", \"Tweets\": 10434671, \"total_cases\": 1245896.0, \"new_cases\": 130188.0, \"new_deaths\": 6982.0, \"cnn_articles\": 84.0, \"fox_articles\": 84.0}, {\"date\": \"2020-03-27T00:00:00\", \"Tweets\": 12209011, \"total_cases\": 1115708.0, \"new_cases\": 122032.0, \"new_deaths\": 5610.0, \"cnn_articles\": 210.0, \"fox_articles\": 210.0}, {\"date\": \"2020-03-26T00:00:00\", \"Tweets\": 12236719, \"total_cases\": 993676.0, \"new_cases\": 107500.0, \"new_deaths\": 5288.0, \"cnn_articles\": 256.0, \"fox_articles\": 256.0}, {\"date\": \"2020-03-25T00:00:00\", \"Tweets\": 13000269, \"total_cases\": 886169.0, \"new_cases\": 84772.0, \"new_deaths\": 4610.0, \"cnn_articles\": 260.0, \"fox_articles\": 260.0}, {\"date\": \"2020-03-24T00:00:00\", \"Tweets\": 14445841, \"total_cases\": 801402.0, \"new_cases\": 88972.0, \"new_deaths\": 3708.0, \"cnn_articles\": 253.0, \"fox_articles\": 253.0}, {\"date\": \"2020-03-23T00:00:00\", \"Tweets\": 15446246, \"total_cases\": 712423.0, \"new_cases\": 68572.0, \"new_deaths\": 3376.0, \"cnn_articles\": 231.0, \"fox_articles\": 231.0}, {\"date\": \"2020-03-22T00:00:00\", \"Tweets\": 14392561, \"total_cases\": 643851.0, \"new_cases\": 68412.0, \"new_deaths\": 3434.0, \"cnn_articles\": 101.0, \"fox_articles\": 101.0}, {\"date\": \"2020-03-21T00:00:00\", \"Tweets\": 12861351, \"total_cases\": 575439.0, \"new_cases\": 63818.0, \"new_deaths\": 2770.0, \"cnn_articles\": 75.0, \"fox_articles\": 75.0}, {\"date\": \"2020-03-20T00:00:00\", \"Tweets\": 15200259, \"total_cases\": 511626.0, \"new_cases\": 62188.0, \"new_deaths\": 2148.0, \"cnn_articles\": 186.0, \"fox_articles\": 186.0}, {\"date\": \"2020-03-19T00:00:00\", \"Tweets\": 16582131, \"total_cases\": 449434.0, \"new_cases\": 40428.0, \"new_deaths\": 1916.0, \"cnn_articles\": 246.0, \"fox_articles\": 246.0}, {\"date\": \"2020-03-18T00:00:00\", \"Tweets\": 16561524, \"total_cases\": 409006.0, \"new_cases\": 34012.0, \"new_deaths\": 1624.0, \"cnn_articles\": 241.0, \"fox_articles\": 241.0}, {\"date\": \"2020-03-17T00:00:00\", \"Tweets\": 17417142, \"total_cases\": 374982.0, \"new_cases\": 28402.0, \"new_deaths\": 1212.0, \"cnn_articles\": 247.0, \"fox_articles\": 247.0}, {\"date\": \"2020-03-16T00:00:00\", \"Tweets\": 17227182, \"total_cases\": 346564.0, \"new_cases\": 24910.0, \"new_deaths\": 1500.0, \"cnn_articles\": 204.0, \"fox_articles\": 204.0}, {\"date\": \"2020-03-15T00:00:00\", \"Tweets\": 16438760, \"total_cases\": 321583.0, \"new_cases\": 24330.0, \"new_deaths\": 734.0, \"cnn_articles\": 91.0, \"fox_articles\": 91.0}, {\"date\": \"2020-03-14T00:00:00\", \"Tweets\": 16823148, \"total_cases\": 297129.0, \"new_cases\": 20808.0, \"new_deaths\": 884.0, \"cnn_articles\": 49.0, \"fox_articles\": 49.0}, {\"date\": \"2020-03-13T00:00:00\", \"Tweets\": 19802671, \"total_cases\": 276054.0, \"new_cases\": 18902.0, \"new_deaths\": 702.0, \"cnn_articles\": 159.0, \"fox_articles\": 159.0}, {\"date\": \"2020-03-12T00:00:00\", \"Tweets\": 18799722, \"total_cases\": 257471.0, \"new_cases\": 15796.0, \"new_deaths\": 662.0, \"cnn_articles\": 185.0, \"fox_articles\": 185.0}, {\"date\": \"2020-03-11T00:00:00\", \"Tweets\": 9923317, \"total_cases\": 241730.0, \"new_cases\": 10214.0, \"new_deaths\": 544.0, \"cnn_articles\": 107.0, \"fox_articles\": 107.0}, {\"date\": \"2020-03-10T00:00:00\", \"Tweets\": 8284672, \"total_cases\": 231310.0, \"new_cases\": 9632.0, \"new_deaths\": 418.0, \"cnn_articles\": 104.0, \"fox_articles\": 104.0}, {\"date\": \"2020-03-09T00:00:00\", \"Tweets\": 6386122, \"total_cases\": 221758.0, \"new_cases\": 8354.0, \"new_deaths\": 456.0, \"cnn_articles\": 89.0, \"fox_articles\": 89.0}, {\"date\": \"2020-03-08T00:00:00\", \"Tweets\": 4533476, \"total_cases\": 213417.0, \"new_cases\": 7954.0, \"new_deaths\": 194.0, \"cnn_articles\": 39.0, \"fox_articles\": 39.0}, {\"date\": \"2020-03-07T00:00:00\", \"Tweets\": 4632239, \"total_cases\": 205479.0, \"new_cases\": 8240.0, \"new_deaths\": 208.0, \"cnn_articles\": 37.0, \"fox_articles\": 37.0}, {\"date\": \"2020-03-06T00:00:00\", \"Tweets\": 4581032, \"total_cases\": 197347.0, \"new_cases\": 6116.0, \"new_deaths\": 204.0, \"cnn_articles\": 60.0, \"fox_articles\": 60.0}, {\"date\": \"2020-03-05T00:00:00\", \"Tweets\": 4323687, \"total_cases\": 191161.0, \"new_cases\": 4708.0, \"new_deaths\": 160.0, \"cnn_articles\": 50.0, \"fox_articles\": 50.0}, {\"date\": \"2020-03-04T00:00:00\", \"Tweets\": 4323670, \"total_cases\": 186440.0, \"new_cases\": 4624.0, \"new_deaths\": 168.0, \"cnn_articles\": 65.0, \"fox_articles\": 65.0}, {\"date\": \"2020-03-03T00:00:00\", \"Tweets\": 4342139, \"total_cases\": 181779.0, \"new_cases\": 3714.0, \"new_deaths\": 144.0, \"cnn_articles\": 49.0, \"fox_articles\": 49.0}, {\"date\": \"2020-03-02T00:00:00\", \"Tweets\": 4240721, \"total_cases\": 178298.0, \"new_cases\": 4138.0, \"new_deaths\": 134.0, \"cnn_articles\": 62.0, \"fox_articles\": 62.0}, {\"date\": \"2020-03-01T00:00:00\", \"Tweets\": 3632689, \"total_cases\": 174160.0, \"new_cases\": 3688.0, \"new_deaths\": 116.0, \"cnn_articles\": 24.0, \"fox_articles\": 24.0}, {\"date\": \"2020-02-29T00:00:00\", \"Tweets\": 4666121, \"total_cases\": 170472.0, \"new_cases\": 3718.0, \"new_deaths\": 128.0, \"cnn_articles\": 27.0, \"fox_articles\": 27.0}, {\"date\": \"2020-02-28T00:00:00\", \"Tweets\": 5685321, \"total_cases\": 166754.0, \"new_cases\": 2532.0, \"new_deaths\": 114.0, \"cnn_articles\": 43.0, \"fox_articles\": 43.0}, {\"date\": \"2020-02-27T00:00:00\", \"Tweets\": 4597412, \"total_cases\": 164222.0, \"new_cases\": 2228.0, \"new_deaths\": 76.0, \"cnn_articles\": 69.0, \"fox_articles\": 69.0}, {\"date\": \"2020-02-26T00:00:00\", \"Tweets\": 3989533, \"total_cases\": 161994.0, \"new_cases\": 1734.0, \"new_deaths\": 128.0, \"cnn_articles\": 52.0, \"fox_articles\": 52.0}, {\"date\": \"2020-02-25T00:00:00\", \"Tweets\": 2844369, \"total_cases\": 160260.0, \"new_cases\": 1586.0, \"new_deaths\": 158.0, \"cnn_articles\": 22.0, \"fox_articles\": 22.0}, {\"date\": \"2020-02-24T00:00:00\", \"Tweets\": 1643544, \"total_cases\": 158674.0, \"new_cases\": 1046.0, \"new_deaths\": 312.0, \"cnn_articles\": 19.0, \"fox_articles\": 19.0}, {\"date\": \"2020-02-23T00:00:00\", \"Tweets\": 1233511, \"total_cases\": 157628.0, \"new_cases\": 2018.0, \"new_deaths\": 208.0, \"cnn_articles\": 4.0, \"fox_articles\": 4.0}, {\"date\": \"2020-02-22T00:00:00\", \"Tweets\": 997638, \"total_cases\": 155610.0, \"new_cases\": 2170.0, \"new_deaths\": 224.0, \"cnn_articles\": 4.0, \"fox_articles\": 4.0}, {\"date\": \"2020-02-21T00:00:00\", \"Tweets\": 954321, \"total_cases\": 153440.0, \"new_cases\": 1992.0, \"new_deaths\": 238.0, \"cnn_articles\": 19.0, \"fox_articles\": 19.0}, {\"date\": \"2020-02-20T00:00:00\", \"Tweets\": 622349, \"total_cases\": 151448.0, \"new_cases\": 1064.0, \"new_deaths\": 232.0, \"cnn_articles\": 9.0, \"fox_articles\": 9.0}, {\"date\": \"2020-02-19T00:00:00\", \"Tweets\": 626237, \"total_cases\": 150384.0, \"new_cases\": 3728.0, \"new_deaths\": 278.0, \"cnn_articles\": 12.0, \"fox_articles\": 12.0}, {\"date\": \"2020-02-18T00:00:00\", \"Tweets\": 628043, \"total_cases\": 146656.0, \"new_cases\": 3990.0, \"new_deaths\": 196.0, \"cnn_articles\": 17.0, \"fox_articles\": 17.0}, {\"date\": \"2020-02-17T00:00:00\", \"Tweets\": 626732, \"total_cases\": 142666.0, \"new_cases\": 4134.0, \"new_deaths\": 212.0, \"cnn_articles\": 18.0, \"fox_articles\": 18.0}, {\"date\": \"2020-02-16T00:00:00\", \"Tweets\": 625127, \"total_cases\": 138532.0, \"new_cases\": 4324.0, \"new_deaths\": 284.0, \"cnn_articles\": 6.0, \"fox_articles\": 6.0}, {\"date\": \"2020-02-15T00:00:00\", \"Tweets\": 624555, \"total_cases\": 134208.0, \"new_cases\": 5120.0, \"new_deaths\": 288.0, \"cnn_articles\": 8.0, \"fox_articles\": 8.0}, {\"date\": \"2020-02-14T00:00:00\", \"Tweets\": 622722, \"total_cases\": 129088.0, \"new_cases\": 8430.0, \"new_deaths\": 26.0, \"cnn_articles\": 14.0, \"fox_articles\": 14.0}, {\"date\": \"2020-02-13T00:00:00\", \"Tweets\": 956877, \"total_cases\": 120658.0, \"new_cases\": 30302.0, \"new_deaths\": 510.0, \"cnn_articles\": 21.0, \"fox_articles\": 21.0}, {\"date\": \"2020-02-12T00:00:00\", \"Tweets\": 911098, \"total_cases\": 90356.0, \"new_cases\": 4144.0, \"new_deaths\": 194.0, \"cnn_articles\": 20.0, \"fox_articles\": 20.0}, {\"date\": \"2020-02-11T00:00:00\", \"Tweets\": 908627, \"total_cases\": 86212.0, \"new_cases\": 5124.0, \"new_deaths\": 216.0, \"cnn_articles\": 18.0, \"fox_articles\": 18.0}, {\"date\": \"2020-02-10T00:00:00\", \"Tweets\": 807654, \"total_cases\": 81088.0, \"new_cases\": 5984.0, \"new_deaths\": 194.0, \"cnn_articles\": 13.0, \"fox_articles\": 13.0}, {\"date\": \"2020-02-09T00:00:00\", \"Tweets\": 796739, \"total_cases\": 75104.0, \"new_cases\": 5236.0, \"new_deaths\": 178.0, \"cnn_articles\": 10.0, \"fox_articles\": 10.0}, {\"date\": \"2020-02-08T00:00:00\", \"Tweets\": 803453, \"total_cases\": 69868.0, \"new_cases\": 6884.0, \"new_deaths\": 172.0, \"cnn_articles\": 11.0, \"fox_articles\": 11.0}, {\"date\": \"2020-02-07T00:00:00\", \"Tweets\": 987563, \"total_cases\": 62984.0, \"new_cases\": 6436.0, \"new_deaths\": 146.0, \"cnn_articles\": 22.0, \"fox_articles\": 22.0}, {\"date\": \"2020-02-06T00:00:00\", \"Tweets\": 834673, \"total_cases\": 56548.0, \"new_cases\": 7502.0, \"new_deaths\": 144.0, \"cnn_articles\": 17.0, \"fox_articles\": 17.0}, {\"date\": \"2020-02-05T00:00:00\", \"Tweets\": 803587, \"total_cases\": 49046.0, \"new_cases\": 7816.0, \"new_deaths\": 132.0, \"cnn_articles\": 20.0, \"fox_articles\": 20.0}, {\"date\": \"2020-02-04T00:00:00\", \"Tweets\": 997862, \"total_cases\": 41230.0, \"new_cases\": 6486.0, \"new_deaths\": 130.0, \"cnn_articles\": 28.0, \"fox_articles\": 28.0}, {\"date\": \"2020-02-03T00:00:00\", \"Tweets\": 1000752, \"total_cases\": 34744.0, \"new_cases\": 5636.0, \"new_deaths\": 114.0, \"cnn_articles\": 20.0, \"fox_articles\": 20.0}, {\"date\": \"2020-02-02T00:00:00\", \"Tweets\": 1298476, \"total_cases\": 29108.0, \"new_cases\": 5216.0, \"new_deaths\": 92.0, \"cnn_articles\": 7.0, \"fox_articles\": 7.0}, {\"date\": \"2020-02-01T00:00:00\", \"Tweets\": 1287963, \"total_cases\": 23892.0, \"new_cases\": 4244.0, \"new_deaths\": 92.0, \"cnn_articles\": 7.0, \"fox_articles\": 7.0}, {\"date\": \"2020-01-31T00:00:00\", \"Tweets\": 1997635, \"total_cases\": 19648.0, \"new_cases\": 4002.0, \"new_deaths\": 86.0, \"cnn_articles\": 19.0, \"fox_articles\": 19.0}, {\"date\": \"2020-01-30T00:00:00\", \"Tweets\": 2010976, \"total_cases\": 15646.0, \"new_cases\": 3512.0, \"new_deaths\": 76.0, \"cnn_articles\": 32.0, \"fox_articles\": 32.0}, {\"date\": \"2020-01-29T00:00:00\", \"Tweets\": 1623497, \"total_cases\": 12134.0, \"new_cases\": 2960.0, \"new_deaths\": 52.0, \"cnn_articles\": 33.0, \"fox_articles\": 33.0}, {\"date\": \"2020-01-28T00:00:00\", \"Tweets\": 1497653, \"total_cases\": 9174.0, \"new_cases\": 3534.0, \"new_deaths\": 50.0, \"cnn_articles\": 22.0, \"fox_articles\": 22.0}, {\"date\": \"2020-01-27T00:00:00\", \"Tweets\": 1467598, \"total_cases\": 5640.0, \"new_cases\": 1594.0, \"new_deaths\": 50.0, \"cnn_articles\": 20.0, \"fox_articles\": 20.0}, {\"date\": \"2020-01-26T00:00:00\", \"Tweets\": 1678953, \"total_cases\": 4046.0, \"new_cases\": 1346.0, \"new_deaths\": 30.0, \"cnn_articles\": 9.0, \"fox_articles\": 9.0}, {\"date\": \"2020-01-25T00:00:00\", \"Tweets\": 1536784, \"total_cases\": 2700.0, \"new_cases\": 906.0, \"new_deaths\": 30.0, \"cnn_articles\": 5.0, \"fox_articles\": 5.0}, {\"date\": \"2020-01-24T00:00:00\", \"Tweets\": 1153245, \"total_cases\": 1794.0, \"new_cases\": 532.0, \"new_deaths\": 18.0, \"cnn_articles\": 10.0, \"fox_articles\": 10.0}, {\"date\": \"2020-01-23T00:00:00\", \"Tweets\": 905673, \"total_cases\": 1262.0, \"new_cases\": 194.0, \"new_deaths\": 0.0, \"cnn_articles\": 20.0, \"fox_articles\": 20.0}, {\"date\": \"2020-01-22T00:00:00\", \"Tweets\": 508623, \"total_cases\": 1068.0, \"new_cases\": 284.0, \"new_deaths\": 22.0, \"cnn_articles\": 10.0, \"fox_articles\": 10.0}, {\"date\": \"2020-01-21T00:00:00\", \"Tweets\": 259864, \"total_cases\": 784.0, \"new_cases\": 306.0, \"new_deaths\": 6.0, \"cnn_articles\": 6.0, \"fox_articles\": 6.0}, {\"date\": \"2020-01-20T00:00:00\", \"Tweets\": 100124, \"total_cases\": 478.0, \"new_cases\": 40.0, \"new_deaths\": 0.0, \"cnn_articles\": 3.0, \"fox_articles\": 3.0}, {\"date\": \"2020-01-19T00:00:00\", \"Tweets\": 20987, \"total_cases\": 438.0, \"new_cases\": 272.0, \"new_deaths\": 2.0, \"cnn_articles\": 0.0, \"fox_articles\": 0.0}, {\"date\": \"2020-01-18T00:00:00\", \"Tweets\": 23432, \"total_cases\": 166.0, \"new_cases\": 34.0, \"new_deaths\": 0.0, \"cnn_articles\": 0.0, \"fox_articles\": 0.0}, {\"date\": \"2020-01-17T00:00:00\", \"Tweets\": 22431, \"total_cases\": 132.0, \"new_cases\": 10.0, \"new_deaths\": 0.0, \"cnn_articles\": 2.0, \"fox_articles\": 2.0}, {\"date\": \"2020-01-16T00:00:00\", \"Tweets\": 22342, \"total_cases\": 122.0, \"new_cases\": 0.0, \"new_deaths\": 0.0, \"cnn_articles\": 1.0, \"fox_articles\": 1.0}, {\"date\": \"2020-01-15T00:00:00\", \"Tweets\": 10987, \"total_cases\": 122.0, \"new_cases\": 2.0, \"new_deaths\": 2.0, \"cnn_articles\": 1.0, \"fox_articles\": 1.0}, {\"date\": \"2020-01-14T00:00:00\", \"Tweets\": 10023, \"total_cases\": 120.0, \"new_cases\": 0.0, \"new_deaths\": 0.0, \"cnn_articles\": 0.0, \"fox_articles\": 0.0}, {\"date\": \"2020-01-13T00:00:00\", \"Tweets\": 16475, \"total_cases\": 120.0, \"new_cases\": 2.0, \"new_deaths\": 0.0, \"cnn_articles\": 1.0, \"fox_articles\": 1.0}, {\"date\": \"2020-01-12T00:00:00\", \"Tweets\": 10045, \"total_cases\": 118.0, \"new_cases\": 0.0, \"new_deaths\": 0.0, \"cnn_articles\": 0.0, \"fox_articles\": 0.0}, {\"date\": \"2020-01-11T00:00:00\", \"Tweets\": 2812, \"total_cases\": 118.0, \"new_cases\": 0.0, \"new_deaths\": 2.0, \"cnn_articles\": 0.0, \"fox_articles\": 0.0}, {\"date\": \"2020-01-10T00:00:00\", \"Tweets\": 2347, \"total_cases\": 118.0, \"new_cases\": 0.0, \"new_deaths\": 0.0, \"cnn_articles\": 0.0, \"fox_articles\": 0.0}, {\"date\": \"2020-01-09T00:00:00\", \"Tweets\": 3451, \"total_cases\": 118.0, \"new_cases\": 0.0, \"new_deaths\": 0.0, \"cnn_articles\": 1.0, \"fox_articles\": 1.0}, {\"date\": \"2020-01-08T00:00:00\", \"Tweets\": 421, \"total_cases\": 118.0, \"new_cases\": 0.0, \"new_deaths\": 0.0, \"cnn_articles\": 0.0, \"fox_articles\": 0.0}, {\"date\": \"2020-01-07T00:00:00\", \"Tweets\": 293, \"total_cases\": 118.0, \"new_cases\": 0.0, \"new_deaths\": 0.0, \"cnn_articles\": 0.0, \"fox_articles\": 0.0}, {\"date\": \"2020-01-06T00:00:00\", \"Tweets\": 86, \"total_cases\": 118.0, \"new_cases\": 0.0, \"new_deaths\": 0.0, \"cnn_articles\": 0.0, \"fox_articles\": 0.0}, {\"date\": \"2020-01-05T00:00:00\", \"Tweets\": 127, \"total_cases\": 118.0, \"new_cases\": 30.0, \"new_deaths\": 0.0, \"cnn_articles\": 0.0, \"fox_articles\": 0.0}, {\"date\": \"2020-01-04T00:00:00\", \"Tweets\": 172, \"total_cases\": 88.0, \"new_cases\": 0.0, \"new_deaths\": 0.0, \"cnn_articles\": 0.0, \"fox_articles\": 0.0}, {\"date\": \"2020-01-03T00:00:00\", \"Tweets\": 94, \"total_cases\": 88.0, \"new_cases\": 34.0, \"new_deaths\": 0.0, \"cnn_articles\": 0.0, \"fox_articles\": 0.0}, {\"date\": \"2020-01-02T00:00:00\", \"Tweets\": 41, \"total_cases\": 54.0, \"new_cases\": 0.0, \"new_deaths\": 0.0, \"cnn_articles\": 0.0, \"fox_articles\": 0.0}, {\"date\": \"2020-01-01T00:00:00\", \"Tweets\": 63, \"total_cases\": 54.0, \"new_cases\": 0.0, \"new_deaths\": 0.0, \"cnn_articles\": 0.0, \"fox_articles\": 0.0}]}}, {\"mode\": \"vega-lite\"});\n",
              "</script>"
            ]
          },
          "metadata": {
            "tags": []
          },
          "execution_count": 56
        }
      ]
    },
    {
      "cell_type": "markdown",
      "metadata": {
        "id": "AxBIXU5NLJ47"
      },
      "source": [
        "# Load downloaded twitter raw data from Github"
      ]
    },
    {
      "cell_type": "code",
      "metadata": {
        "id": "Nm7qoGToLJ49"
      },
      "source": [
        "import pandas as pd\n",
        "import os\n",
        "\n",
        "#path = r'C:/Users/rapha/DATA_VIS/twitter_project/data/raw_data/'\n",
        "onlinepath = \"https://raw.githubusercontent.com/xxz-jessica/COVID-19_UCD_Challenge/master/Tweet_Raw_Data/raw_data/\"\n",
        "#files = os.listdir(path)\n",
        "\n",
        "### filelist generated through download\n",
        "files_gen = ['covid2019_0120.csv',\n",
        " 'covid2019_0121.csv',\n",
        " 'covid2019_0122.csv',\n",
        " 'covid2019_0123.csv',\n",
        " 'covid2019_0124.csv',\n",
        " 'covid2019_0125.csv',\n",
        " 'covid2019_0126.csv',\n",
        " 'covid2019_0127.csv',\n",
        " 'covid2019_0128.csv',\n",
        " 'covid2019_0129.csv',\n",
        " 'covid2019_0130.csv',\n",
        " 'covid2019_0131.csv',\n",
        " 'covid2019_0201.csv',\n",
        " 'covid2019_0202.csv',\n",
        " 'covid2019_0203.csv',\n",
        " 'covid2019_0204.csv',\n",
        " 'covid2019_0205.csv',\n",
        " 'covid2019_0206.csv',\n",
        " 'covid2019_0207.csv',\n",
        " 'covid2019_0208.csv',\n",
        " 'covid2019_0209.csv',\n",
        " 'covid2019_0210.csv',\n",
        " 'covid2019_0211.csv',\n",
        " 'covid2019_0212.csv',\n",
        " 'covid2019_0213.csv',\n",
        " 'covid2019_0214.csv',\n",
        " 'covid2019_0215.csv',\n",
        " 'covid2019_0216.csv',\n",
        " 'covid2019_0217.csv',\n",
        " 'covid2019_0218.csv',\n",
        " 'covid2019_0219.csv',\n",
        " 'covid2019_0220.csv',\n",
        " 'covid2019_0308.csv',\n",
        " 'covid2019_0309.csv',\n",
        " 'covid2019_0310.csv',\n",
        " 'covid2019_0311.csv',\n",
        " 'covid2019_0312.csv',\n",
        " 'covid2019_0313.csv',\n",
        " 'covid2019_0314.csv',\n",
        " 'covid2019_0315.csv',\n",
        " 'covid2019_0316.csv',\n",
        " 'covid2019_0317.csv',\n",
        " 'covid2019_0318.csv',\n",
        " 'covid2019_0319.csv',\n",
        " 'covid2019_0320.csv',\n",
        " 'covid2019_0321.csv',\n",
        " 'covid2019_0322.csv',\n",
        " 'covid2019_0323.csv',\n",
        " 'covid2019_0324.csv',\n",
        " 'covid2019_0325.csv',\n",
        " 'covid2019_0326.csv',\n",
        " 'covid2019_0327.csv',\n",
        " 'covid2019_0328.csv',\n",
        " 'covid2019_0329.csv',\n",
        " 'covid2019_0330.csv',\n",
        " 'covid2019_0331.csv',\n",
        " 'covid2019_0401.csv',\n",
        " 'covid2019_0402.csv',\n",
        " 'covid2019_0403.csv',\n",
        " 'covid2019_0404.csv',\n",
        " 'covid2019_0405.csv',\n",
        " 'covid2019_0406.csv',\n",
        " 'covid2019_0407.csv',\n",
        " 'covid2019_0408.csv',\n",
        " 'random tweet 2020-02-21.csv',\n",
        " 'random tweet 2020-02-22.csv',\n",
        " 'random tweet 2020-02-23.csv',\n",
        " 'random tweet 2020-02-24.csv',\n",
        " 'random tweet 2020-02-25.csv',\n",
        " 'random tweet 2020-02-26.csv',\n",
        " 'random tweet 2020-02-27.csv',\n",
        " 'random tweet 2020-02-28.csv',\n",
        " 'random tweet 2020-02-29.csv',\n",
        " 'random tweet 2020-03-01.csv',\n",
        " 'random tweet 2020-03-02.csv',\n",
        " 'random tweet 2020-03-03.csv',\n",
        " 'random tweet 2020-03-04.csv',\n",
        " 'random tweet 2020-03-05.csv',\n",
        " 'random tweet 2020-03-06.csv',\n",
        " 'random tweet 2020-03-07.csv']"
      ],
      "execution_count": null,
      "outputs": []
    },
    {
      "cell_type": "code",
      "metadata": {
        "id": "LbRr3nbwLJ5D",
        "outputId": "4db80264-a5be-40ce-a234-82788506edc4",
        "colab": {
          "base_uri": "https://localhost:8080/",
          "height": 215
        }
      },
      "source": [
        "covid_twitter_data = pd.DataFrame()\n",
        "# Concat the Twitters data into one-table\n",
        "for file in files_gen:\n",
        "    data = pd.read_csv(str(path) + file)\n",
        "    covid_twitter_data = covid_twitter_data.append(data, ignore_index=True)"
      ],
      "execution_count": null,
      "outputs": [
        {
          "output_type": "error",
          "ename": "NameError",
          "evalue": "ignored",
          "traceback": [
            "\u001b[0;31m---------------------------------------------------------------------------\u001b[0m",
            "\u001b[0;31mNameError\u001b[0m                                 Traceback (most recent call last)",
            "\u001b[0;32m<ipython-input-58-9274306111c3>\u001b[0m in \u001b[0;36m<module>\u001b[0;34m()\u001b[0m\n\u001b[1;32m      2\u001b[0m \u001b[0;31m# Concat the Twitters data into one-table\u001b[0m\u001b[0;34m\u001b[0m\u001b[0;34m\u001b[0m\u001b[0;34m\u001b[0m\u001b[0m\n\u001b[1;32m      3\u001b[0m \u001b[0;32mfor\u001b[0m \u001b[0mfile\u001b[0m \u001b[0;32min\u001b[0m \u001b[0mfiles_gen\u001b[0m\u001b[0;34m:\u001b[0m\u001b[0;34m\u001b[0m\u001b[0;34m\u001b[0m\u001b[0m\n\u001b[0;32m----> 4\u001b[0;31m     \u001b[0mdata\u001b[0m \u001b[0;34m=\u001b[0m \u001b[0mpd\u001b[0m\u001b[0;34m.\u001b[0m\u001b[0mread_csv\u001b[0m\u001b[0;34m(\u001b[0m\u001b[0mstr\u001b[0m\u001b[0;34m(\u001b[0m\u001b[0mpath\u001b[0m\u001b[0;34m)\u001b[0m \u001b[0;34m+\u001b[0m \u001b[0mfile\u001b[0m\u001b[0;34m)\u001b[0m\u001b[0;34m\u001b[0m\u001b[0;34m\u001b[0m\u001b[0m\n\u001b[0m\u001b[1;32m      5\u001b[0m     \u001b[0mcovid_twitter_data\u001b[0m \u001b[0;34m=\u001b[0m \u001b[0mcovid_twitter_data\u001b[0m\u001b[0;34m.\u001b[0m\u001b[0mappend\u001b[0m\u001b[0;34m(\u001b[0m\u001b[0mdata\u001b[0m\u001b[0;34m,\u001b[0m \u001b[0mignore_index\u001b[0m\u001b[0;34m=\u001b[0m\u001b[0;32mTrue\u001b[0m\u001b[0;34m)\u001b[0m\u001b[0;34m\u001b[0m\u001b[0;34m\u001b[0m\u001b[0m\n",
            "\u001b[0;31mNameError\u001b[0m: name 'path' is not defined"
          ]
        }
      ]
    },
    {
      "cell_type": "code",
      "metadata": {
        "id": "WLovsyhxLJ5M"
      },
      "source": [
        "#covid_twitter_data.info()\n",
        "\n",
        "#covid_sample = pd.read_csv(\"https://raw.githubusercontent.com/xxz-jessica/COVID-19_UCD_Challenge/master/Tweet_Raw_Data/raw_data/covid2019_0120.csv\")\n",
        "\n",
        "covid_twitter_data.info()"
      ],
      "execution_count": null,
      "outputs": []
    },
    {
      "cell_type": "markdown",
      "metadata": {
        "id": "q2M4MvMOLJ5R"
      },
      "source": [
        "# Find keywords in the data\n",
        "\n",
        "keyword_list: global list of keywords we want to search for in the data\n",
        "\n",
        "count_keywords: function to count keywords in a tweet dataframe, best done for each day individually\n"
      ]
    },
    {
      "cell_type": "code",
      "metadata": {
        "id": "nUbLugSrLJ5S"
      },
      "source": [
        "#use singular word (if plural just adds an \"s\")\n",
        "#for several words use space (eg. \"social distancing\"; \"social_distancing\" and \"socialdistancing\" automatically searched for)\n",
        "#if there are different words with the same meaning that do not contain each other, use \"|\" (eg. \"New York|NY\")\n",
        "#if two words should be in there but not necessarily together, use &\n",
        "keyword_list = [\"trump\", \"social distancing\", \"Wuhan\", \"chinese virus\", \"New York\", \"Los Angeles\", \"Chicago\", \"Washington\", \n",
        "               \"mask\", \"economy\", \"healthcare\", \"fauci\", \"death|deadly|mortality\"  ]"
      ],
      "execution_count": null,
      "outputs": []
    },
    {
      "cell_type": "code",
      "metadata": {
        "id": "6JCYftbfLJ5Z"
      },
      "source": [
        "# Trump counter\n",
        "import re\n",
        "\n",
        "def count_keywords(keywords, tweetlist):\n",
        "    #function takes a list of keyword and a twitter dataset and counts the number of tweets containing each keyword\n",
        "    #return the keywords and the corresponding tweet counts\n",
        "    #search for words is case insensitive \n",
        "    #if word contains space (social distancing) it also searches for socialdistancing and social_distancing\n",
        "    date = pd.to_datetime(tweetlist[\"timestamp\"][0]).date()\n",
        "    counterdf = pd.DataFrame({'date': [date] })\n",
        "    counterlist = []\n",
        "    for word in keywords:\n",
        "        counter = 0\n",
        "        if \" \" in word:\n",
        "            searchword = word + \"|\" + word.replace(\" \", \"_\")\n",
        "            searchword = searchword + \"|\" + word.replace(\" \", \"\")\n",
        "        else:\n",
        "            searchword = word\n",
        "        for tweet in tweetlist[\"text\"].dropna():\n",
        "            if re.search(searchword, tweet, re.IGNORECASE):\n",
        "                counter = counter + 1\n",
        "        counterdf[word] = counter\n",
        "\n",
        "    return counterdf\n"
      ],
      "execution_count": null,
      "outputs": []
    },
    {
      "cell_type": "code",
      "metadata": {
        "id": "D0C4GXZ7LJ5c",
        "outputId": "5f076bc7-8387-41ce-9e8b-e22517b1ccc1",
        "colab": {
          "base_uri": "https://localhost:8080/",
          "height": 358
        }
      },
      "source": [
        "\n",
        "def count_keywords_complete(path = \"https://raw.githubusercontent.com/xxz-jessica/COVID-19_UCD_Challenge/master/Tweet_Raw_Data/raw_data/\", \n",
        "                            files_gen = files_gen,\n",
        "                            keywords = keyword_list):\n",
        "    #create dataframe that gives number of tweets containing hashtag for all dates for which data is available\n",
        "    countdata = pd.DataFrame()\n",
        "    for file in files_gen:\n",
        "        data = pd.read_csv(path + file)\n",
        "        countdata = countdata.append(count_keywords(keywords, data))\n",
        "    countdata.sort_values(by = \"date\")\n",
        "    return countdata\n",
        "    \n",
        "df = count_keywords_complete(files_gen = files_gen)"
      ],
      "execution_count": null,
      "outputs": [
        {
          "output_type": "error",
          "ename": "InvalidURL",
          "evalue": "ignored",
          "traceback": [
            "\u001b[0;31m---------------------------------------------------------------------------\u001b[0m",
            "\u001b[0;31mInvalidURL\u001b[0m                                Traceback (most recent call last)",
            "\u001b[0;32m<ipython-input-46-2f003c6dec6a>\u001b[0m in \u001b[0;36m<module>\u001b[0;34m()\u001b[0m\n\u001b[1;32m     11\u001b[0m     \u001b[0;32mreturn\u001b[0m \u001b[0mcountdata\u001b[0m\u001b[0;34m\u001b[0m\u001b[0;34m\u001b[0m\u001b[0m\n\u001b[1;32m     12\u001b[0m \u001b[0;34m\u001b[0m\u001b[0m\n\u001b[0;32m---> 13\u001b[0;31m \u001b[0mdf\u001b[0m \u001b[0;34m=\u001b[0m \u001b[0mcount_keywords_complete\u001b[0m\u001b[0;34m(\u001b[0m\u001b[0mfiles_gen\u001b[0m \u001b[0;34m=\u001b[0m \u001b[0mfiles_gen\u001b[0m\u001b[0;34m)\u001b[0m\u001b[0;34m\u001b[0m\u001b[0;34m\u001b[0m\u001b[0m\n\u001b[0m",
            "\u001b[0;32m<ipython-input-46-2f003c6dec6a>\u001b[0m in \u001b[0;36mcount_keywords_complete\u001b[0;34m(path, files_gen, keywords)\u001b[0m\n\u001b[1;32m      6\u001b[0m     \u001b[0mcountdata\u001b[0m \u001b[0;34m=\u001b[0m \u001b[0mpd\u001b[0m\u001b[0;34m.\u001b[0m\u001b[0mDataFrame\u001b[0m\u001b[0;34m(\u001b[0m\u001b[0;34m)\u001b[0m\u001b[0;34m\u001b[0m\u001b[0;34m\u001b[0m\u001b[0m\n\u001b[1;32m      7\u001b[0m     \u001b[0;32mfor\u001b[0m \u001b[0mfile\u001b[0m \u001b[0;32min\u001b[0m \u001b[0mfiles_gen\u001b[0m\u001b[0;34m:\u001b[0m\u001b[0;34m\u001b[0m\u001b[0;34m\u001b[0m\u001b[0m\n\u001b[0;32m----> 8\u001b[0;31m         \u001b[0mdata\u001b[0m \u001b[0;34m=\u001b[0m \u001b[0mpd\u001b[0m\u001b[0;34m.\u001b[0m\u001b[0mread_csv\u001b[0m\u001b[0;34m(\u001b[0m\u001b[0mstr\u001b[0m\u001b[0;34m(\u001b[0m\u001b[0mpath\u001b[0m\u001b[0;34m)\u001b[0m \u001b[0;34m+\u001b[0m \u001b[0mfile\u001b[0m\u001b[0;34m)\u001b[0m\u001b[0;34m\u001b[0m\u001b[0;34m\u001b[0m\u001b[0m\n\u001b[0m\u001b[1;32m      9\u001b[0m         \u001b[0mcountdata\u001b[0m \u001b[0;34m=\u001b[0m \u001b[0mcountdata\u001b[0m\u001b[0;34m.\u001b[0m\u001b[0mappend\u001b[0m\u001b[0;34m(\u001b[0m\u001b[0mcount_keywords\u001b[0m\u001b[0;34m(\u001b[0m\u001b[0mkeywords\u001b[0m\u001b[0;34m,\u001b[0m \u001b[0mdata\u001b[0m\u001b[0;34m)\u001b[0m\u001b[0;34m)\u001b[0m\u001b[0;34m\u001b[0m\u001b[0;34m\u001b[0m\u001b[0m\n\u001b[1;32m     10\u001b[0m     \u001b[0mcountdata\u001b[0m\u001b[0;34m.\u001b[0m\u001b[0msort_values\u001b[0m\u001b[0;34m(\u001b[0m\u001b[0mby\u001b[0m \u001b[0;34m=\u001b[0m \u001b[0;34m\"date\"\u001b[0m\u001b[0;34m)\u001b[0m\u001b[0;34m\u001b[0m\u001b[0;34m\u001b[0m\u001b[0m\n",
            "\u001b[0;32m/usr/local/lib/python3.6/dist-packages/pandas/io/parsers.py\u001b[0m in \u001b[0;36mread_csv\u001b[0;34m(filepath_or_buffer, sep, delimiter, header, names, index_col, usecols, squeeze, prefix, mangle_dupe_cols, dtype, engine, converters, true_values, false_values, skipinitialspace, skiprows, skipfooter, nrows, na_values, keep_default_na, na_filter, verbose, skip_blank_lines, parse_dates, infer_datetime_format, keep_date_col, date_parser, dayfirst, cache_dates, iterator, chunksize, compression, thousands, decimal, lineterminator, quotechar, quoting, doublequote, escapechar, comment, encoding, dialect, error_bad_lines, warn_bad_lines, delim_whitespace, low_memory, memory_map, float_precision)\u001b[0m\n\u001b[1;32m    684\u001b[0m     )\n\u001b[1;32m    685\u001b[0m \u001b[0;34m\u001b[0m\u001b[0m\n\u001b[0;32m--> 686\u001b[0;31m     \u001b[0;32mreturn\u001b[0m \u001b[0m_read\u001b[0m\u001b[0;34m(\u001b[0m\u001b[0mfilepath_or_buffer\u001b[0m\u001b[0;34m,\u001b[0m \u001b[0mkwds\u001b[0m\u001b[0;34m)\u001b[0m\u001b[0;34m\u001b[0m\u001b[0;34m\u001b[0m\u001b[0m\n\u001b[0m\u001b[1;32m    687\u001b[0m \u001b[0;34m\u001b[0m\u001b[0m\n\u001b[1;32m    688\u001b[0m \u001b[0;34m\u001b[0m\u001b[0m\n",
            "\u001b[0;32m/usr/local/lib/python3.6/dist-packages/pandas/io/parsers.py\u001b[0m in \u001b[0;36m_read\u001b[0;34m(filepath_or_buffer, kwds)\u001b[0m\n\u001b[1;32m    433\u001b[0m     \u001b[0;31m# See https://github.com/python/mypy/issues/1297\u001b[0m\u001b[0;34m\u001b[0m\u001b[0;34m\u001b[0m\u001b[0;34m\u001b[0m\u001b[0m\n\u001b[1;32m    434\u001b[0m     fp_or_buf, _, compression, should_close = get_filepath_or_buffer(\n\u001b[0;32m--> 435\u001b[0;31m         \u001b[0mfilepath_or_buffer\u001b[0m\u001b[0;34m,\u001b[0m \u001b[0mencoding\u001b[0m\u001b[0;34m,\u001b[0m \u001b[0mcompression\u001b[0m\u001b[0;34m\u001b[0m\u001b[0;34m\u001b[0m\u001b[0m\n\u001b[0m\u001b[1;32m    436\u001b[0m     )\n\u001b[1;32m    437\u001b[0m     \u001b[0mkwds\u001b[0m\u001b[0;34m[\u001b[0m\u001b[0;34m\"compression\"\u001b[0m\u001b[0;34m]\u001b[0m \u001b[0;34m=\u001b[0m \u001b[0mcompression\u001b[0m\u001b[0;34m\u001b[0m\u001b[0;34m\u001b[0m\u001b[0m\n",
            "\u001b[0;32m/usr/local/lib/python3.6/dist-packages/pandas/io/common.py\u001b[0m in \u001b[0;36mget_filepath_or_buffer\u001b[0;34m(filepath_or_buffer, encoding, compression, mode, storage_options)\u001b[0m\n\u001b[1;32m    181\u001b[0m     \u001b[0;32mif\u001b[0m \u001b[0misinstance\u001b[0m\u001b[0;34m(\u001b[0m\u001b[0mfilepath_or_buffer\u001b[0m\u001b[0;34m,\u001b[0m \u001b[0mstr\u001b[0m\u001b[0;34m)\u001b[0m \u001b[0;32mand\u001b[0m \u001b[0mis_url\u001b[0m\u001b[0;34m(\u001b[0m\u001b[0mfilepath_or_buffer\u001b[0m\u001b[0;34m)\u001b[0m\u001b[0;34m:\u001b[0m\u001b[0;34m\u001b[0m\u001b[0;34m\u001b[0m\u001b[0m\n\u001b[1;32m    182\u001b[0m         \u001b[0;31m# TODO: fsspec can also handle HTTP via requests, but leaving this unchanged\u001b[0m\u001b[0;34m\u001b[0m\u001b[0;34m\u001b[0m\u001b[0;34m\u001b[0m\u001b[0m\n\u001b[0;32m--> 183\u001b[0;31m         \u001b[0mreq\u001b[0m \u001b[0;34m=\u001b[0m \u001b[0murlopen\u001b[0m\u001b[0;34m(\u001b[0m\u001b[0mfilepath_or_buffer\u001b[0m\u001b[0;34m)\u001b[0m\u001b[0;34m\u001b[0m\u001b[0;34m\u001b[0m\u001b[0m\n\u001b[0m\u001b[1;32m    184\u001b[0m         \u001b[0mcontent_encoding\u001b[0m \u001b[0;34m=\u001b[0m \u001b[0mreq\u001b[0m\u001b[0;34m.\u001b[0m\u001b[0mheaders\u001b[0m\u001b[0;34m.\u001b[0m\u001b[0mget\u001b[0m\u001b[0;34m(\u001b[0m\u001b[0;34m\"Content-Encoding\"\u001b[0m\u001b[0;34m,\u001b[0m \u001b[0;32mNone\u001b[0m\u001b[0;34m)\u001b[0m\u001b[0;34m\u001b[0m\u001b[0;34m\u001b[0m\u001b[0m\n\u001b[1;32m    185\u001b[0m         \u001b[0;32mif\u001b[0m \u001b[0mcontent_encoding\u001b[0m \u001b[0;34m==\u001b[0m \u001b[0;34m\"gzip\"\u001b[0m\u001b[0;34m:\u001b[0m\u001b[0;34m\u001b[0m\u001b[0;34m\u001b[0m\u001b[0m\n",
            "\u001b[0;32m/usr/local/lib/python3.6/dist-packages/pandas/io/common.py\u001b[0m in \u001b[0;36murlopen\u001b[0;34m(*args, **kwargs)\u001b[0m\n\u001b[1;32m    135\u001b[0m     \u001b[0;32mimport\u001b[0m \u001b[0murllib\u001b[0m\u001b[0;34m.\u001b[0m\u001b[0mrequest\u001b[0m\u001b[0;34m\u001b[0m\u001b[0;34m\u001b[0m\u001b[0m\n\u001b[1;32m    136\u001b[0m \u001b[0;34m\u001b[0m\u001b[0m\n\u001b[0;32m--> 137\u001b[0;31m     \u001b[0;32mreturn\u001b[0m \u001b[0murllib\u001b[0m\u001b[0;34m.\u001b[0m\u001b[0mrequest\u001b[0m\u001b[0;34m.\u001b[0m\u001b[0murlopen\u001b[0m\u001b[0;34m(\u001b[0m\u001b[0;34m*\u001b[0m\u001b[0margs\u001b[0m\u001b[0;34m,\u001b[0m \u001b[0;34m**\u001b[0m\u001b[0mkwargs\u001b[0m\u001b[0;34m)\u001b[0m\u001b[0;34m\u001b[0m\u001b[0;34m\u001b[0m\u001b[0m\n\u001b[0m\u001b[1;32m    138\u001b[0m \u001b[0;34m\u001b[0m\u001b[0m\n\u001b[1;32m    139\u001b[0m \u001b[0;34m\u001b[0m\u001b[0m\n",
            "\u001b[0;32m/usr/lib/python3.6/urllib/request.py\u001b[0m in \u001b[0;36murlopen\u001b[0;34m(url, data, timeout, cafile, capath, cadefault, context)\u001b[0m\n\u001b[1;32m    221\u001b[0m     \u001b[0;32melse\u001b[0m\u001b[0;34m:\u001b[0m\u001b[0;34m\u001b[0m\u001b[0;34m\u001b[0m\u001b[0m\n\u001b[1;32m    222\u001b[0m         \u001b[0mopener\u001b[0m \u001b[0;34m=\u001b[0m \u001b[0m_opener\u001b[0m\u001b[0;34m\u001b[0m\u001b[0;34m\u001b[0m\u001b[0m\n\u001b[0;32m--> 223\u001b[0;31m     \u001b[0;32mreturn\u001b[0m \u001b[0mopener\u001b[0m\u001b[0;34m.\u001b[0m\u001b[0mopen\u001b[0m\u001b[0;34m(\u001b[0m\u001b[0murl\u001b[0m\u001b[0;34m,\u001b[0m \u001b[0mdata\u001b[0m\u001b[0;34m,\u001b[0m \u001b[0mtimeout\u001b[0m\u001b[0;34m)\u001b[0m\u001b[0;34m\u001b[0m\u001b[0;34m\u001b[0m\u001b[0m\n\u001b[0m\u001b[1;32m    224\u001b[0m \u001b[0;34m\u001b[0m\u001b[0m\n\u001b[1;32m    225\u001b[0m \u001b[0;32mdef\u001b[0m \u001b[0minstall_opener\u001b[0m\u001b[0;34m(\u001b[0m\u001b[0mopener\u001b[0m\u001b[0;34m)\u001b[0m\u001b[0;34m:\u001b[0m\u001b[0;34m\u001b[0m\u001b[0;34m\u001b[0m\u001b[0m\n",
            "\u001b[0;32m/usr/lib/python3.6/urllib/request.py\u001b[0m in \u001b[0;36mopen\u001b[0;34m(self, fullurl, data, timeout)\u001b[0m\n\u001b[1;32m    524\u001b[0m             \u001b[0mreq\u001b[0m \u001b[0;34m=\u001b[0m \u001b[0mmeth\u001b[0m\u001b[0;34m(\u001b[0m\u001b[0mreq\u001b[0m\u001b[0;34m)\u001b[0m\u001b[0;34m\u001b[0m\u001b[0;34m\u001b[0m\u001b[0m\n\u001b[1;32m    525\u001b[0m \u001b[0;34m\u001b[0m\u001b[0m\n\u001b[0;32m--> 526\u001b[0;31m         \u001b[0mresponse\u001b[0m \u001b[0;34m=\u001b[0m \u001b[0mself\u001b[0m\u001b[0;34m.\u001b[0m\u001b[0m_open\u001b[0m\u001b[0;34m(\u001b[0m\u001b[0mreq\u001b[0m\u001b[0;34m,\u001b[0m \u001b[0mdata\u001b[0m\u001b[0;34m)\u001b[0m\u001b[0;34m\u001b[0m\u001b[0;34m\u001b[0m\u001b[0m\n\u001b[0m\u001b[1;32m    527\u001b[0m \u001b[0;34m\u001b[0m\u001b[0m\n\u001b[1;32m    528\u001b[0m         \u001b[0;31m# post-process response\u001b[0m\u001b[0;34m\u001b[0m\u001b[0;34m\u001b[0m\u001b[0;34m\u001b[0m\u001b[0m\n",
            "\u001b[0;32m/usr/lib/python3.6/urllib/request.py\u001b[0m in \u001b[0;36m_open\u001b[0;34m(self, req, data)\u001b[0m\n\u001b[1;32m    542\u001b[0m         \u001b[0mprotocol\u001b[0m \u001b[0;34m=\u001b[0m \u001b[0mreq\u001b[0m\u001b[0;34m.\u001b[0m\u001b[0mtype\u001b[0m\u001b[0;34m\u001b[0m\u001b[0;34m\u001b[0m\u001b[0m\n\u001b[1;32m    543\u001b[0m         result = self._call_chain(self.handle_open, protocol, protocol +\n\u001b[0;32m--> 544\u001b[0;31m                                   '_open', req)\n\u001b[0m\u001b[1;32m    545\u001b[0m         \u001b[0;32mif\u001b[0m \u001b[0mresult\u001b[0m\u001b[0;34m:\u001b[0m\u001b[0;34m\u001b[0m\u001b[0;34m\u001b[0m\u001b[0m\n\u001b[1;32m    546\u001b[0m             \u001b[0;32mreturn\u001b[0m \u001b[0mresult\u001b[0m\u001b[0;34m\u001b[0m\u001b[0;34m\u001b[0m\u001b[0m\n",
            "\u001b[0;32m/usr/lib/python3.6/urllib/request.py\u001b[0m in \u001b[0;36m_call_chain\u001b[0;34m(self, chain, kind, meth_name, *args)\u001b[0m\n\u001b[1;32m    502\u001b[0m         \u001b[0;32mfor\u001b[0m \u001b[0mhandler\u001b[0m \u001b[0;32min\u001b[0m \u001b[0mhandlers\u001b[0m\u001b[0;34m:\u001b[0m\u001b[0;34m\u001b[0m\u001b[0;34m\u001b[0m\u001b[0m\n\u001b[1;32m    503\u001b[0m             \u001b[0mfunc\u001b[0m \u001b[0;34m=\u001b[0m \u001b[0mgetattr\u001b[0m\u001b[0;34m(\u001b[0m\u001b[0mhandler\u001b[0m\u001b[0;34m,\u001b[0m \u001b[0mmeth_name\u001b[0m\u001b[0;34m)\u001b[0m\u001b[0;34m\u001b[0m\u001b[0;34m\u001b[0m\u001b[0m\n\u001b[0;32m--> 504\u001b[0;31m             \u001b[0mresult\u001b[0m \u001b[0;34m=\u001b[0m \u001b[0mfunc\u001b[0m\u001b[0;34m(\u001b[0m\u001b[0;34m*\u001b[0m\u001b[0margs\u001b[0m\u001b[0;34m)\u001b[0m\u001b[0;34m\u001b[0m\u001b[0;34m\u001b[0m\u001b[0m\n\u001b[0m\u001b[1;32m    505\u001b[0m             \u001b[0;32mif\u001b[0m \u001b[0mresult\u001b[0m \u001b[0;32mis\u001b[0m \u001b[0;32mnot\u001b[0m \u001b[0;32mNone\u001b[0m\u001b[0;34m:\u001b[0m\u001b[0;34m\u001b[0m\u001b[0;34m\u001b[0m\u001b[0m\n\u001b[1;32m    506\u001b[0m                 \u001b[0;32mreturn\u001b[0m \u001b[0mresult\u001b[0m\u001b[0;34m\u001b[0m\u001b[0;34m\u001b[0m\u001b[0m\n",
            "\u001b[0;32m/usr/lib/python3.6/urllib/request.py\u001b[0m in \u001b[0;36mhttps_open\u001b[0;34m(self, req)\u001b[0m\n\u001b[1;32m   1366\u001b[0m         \u001b[0;32mdef\u001b[0m \u001b[0mhttps_open\u001b[0m\u001b[0;34m(\u001b[0m\u001b[0mself\u001b[0m\u001b[0;34m,\u001b[0m \u001b[0mreq\u001b[0m\u001b[0;34m)\u001b[0m\u001b[0;34m:\u001b[0m\u001b[0;34m\u001b[0m\u001b[0;34m\u001b[0m\u001b[0m\n\u001b[1;32m   1367\u001b[0m             return self.do_open(http.client.HTTPSConnection, req,\n\u001b[0;32m-> 1368\u001b[0;31m                 context=self._context, check_hostname=self._check_hostname)\n\u001b[0m\u001b[1;32m   1369\u001b[0m \u001b[0;34m\u001b[0m\u001b[0m\n\u001b[1;32m   1370\u001b[0m         \u001b[0mhttps_request\u001b[0m \u001b[0;34m=\u001b[0m \u001b[0mAbstractHTTPHandler\u001b[0m\u001b[0;34m.\u001b[0m\u001b[0mdo_request_\u001b[0m\u001b[0;34m\u001b[0m\u001b[0;34m\u001b[0m\u001b[0m\n",
            "\u001b[0;32m/usr/lib/python3.6/urllib/request.py\u001b[0m in \u001b[0;36mdo_open\u001b[0;34m(self, http_class, req, **http_conn_args)\u001b[0m\n\u001b[1;32m   1323\u001b[0m             \u001b[0;32mtry\u001b[0m\u001b[0;34m:\u001b[0m\u001b[0;34m\u001b[0m\u001b[0;34m\u001b[0m\u001b[0m\n\u001b[1;32m   1324\u001b[0m                 h.request(req.get_method(), req.selector, req.data, headers,\n\u001b[0;32m-> 1325\u001b[0;31m                           encode_chunked=req.has_header('Transfer-encoding'))\n\u001b[0m\u001b[1;32m   1326\u001b[0m             \u001b[0;32mexcept\u001b[0m \u001b[0mOSError\u001b[0m \u001b[0;32mas\u001b[0m \u001b[0merr\u001b[0m\u001b[0;34m:\u001b[0m \u001b[0;31m# timeout error\u001b[0m\u001b[0;34m\u001b[0m\u001b[0;34m\u001b[0m\u001b[0m\n\u001b[1;32m   1327\u001b[0m                 \u001b[0;32mraise\u001b[0m \u001b[0mURLError\u001b[0m\u001b[0;34m(\u001b[0m\u001b[0merr\u001b[0m\u001b[0;34m)\u001b[0m\u001b[0;34m\u001b[0m\u001b[0;34m\u001b[0m\u001b[0m\n",
            "\u001b[0;32m/usr/lib/python3.6/http/client.py\u001b[0m in \u001b[0;36mrequest\u001b[0;34m(self, method, url, body, headers, encode_chunked)\u001b[0m\n\u001b[1;32m   1262\u001b[0m                 encode_chunked=False):\n\u001b[1;32m   1263\u001b[0m         \u001b[0;34m\"\"\"Send a complete request to the server.\"\"\"\u001b[0m\u001b[0;34m\u001b[0m\u001b[0;34m\u001b[0m\u001b[0m\n\u001b[0;32m-> 1264\u001b[0;31m         \u001b[0mself\u001b[0m\u001b[0;34m.\u001b[0m\u001b[0m_send_request\u001b[0m\u001b[0;34m(\u001b[0m\u001b[0mmethod\u001b[0m\u001b[0;34m,\u001b[0m \u001b[0murl\u001b[0m\u001b[0;34m,\u001b[0m \u001b[0mbody\u001b[0m\u001b[0;34m,\u001b[0m \u001b[0mheaders\u001b[0m\u001b[0;34m,\u001b[0m \u001b[0mencode_chunked\u001b[0m\u001b[0;34m)\u001b[0m\u001b[0;34m\u001b[0m\u001b[0;34m\u001b[0m\u001b[0m\n\u001b[0m\u001b[1;32m   1265\u001b[0m \u001b[0;34m\u001b[0m\u001b[0m\n\u001b[1;32m   1266\u001b[0m     \u001b[0;32mdef\u001b[0m \u001b[0m_send_request\u001b[0m\u001b[0;34m(\u001b[0m\u001b[0mself\u001b[0m\u001b[0;34m,\u001b[0m \u001b[0mmethod\u001b[0m\u001b[0;34m,\u001b[0m \u001b[0murl\u001b[0m\u001b[0;34m,\u001b[0m \u001b[0mbody\u001b[0m\u001b[0;34m,\u001b[0m \u001b[0mheaders\u001b[0m\u001b[0;34m,\u001b[0m \u001b[0mencode_chunked\u001b[0m\u001b[0;34m)\u001b[0m\u001b[0;34m:\u001b[0m\u001b[0;34m\u001b[0m\u001b[0;34m\u001b[0m\u001b[0m\n",
            "\u001b[0;32m/usr/lib/python3.6/http/client.py\u001b[0m in \u001b[0;36m_send_request\u001b[0;34m(self, method, url, body, headers, encode_chunked)\u001b[0m\n\u001b[1;32m   1273\u001b[0m             \u001b[0mskips\u001b[0m\u001b[0;34m[\u001b[0m\u001b[0;34m'skip_accept_encoding'\u001b[0m\u001b[0;34m]\u001b[0m \u001b[0;34m=\u001b[0m \u001b[0;36m1\u001b[0m\u001b[0;34m\u001b[0m\u001b[0;34m\u001b[0m\u001b[0m\n\u001b[1;32m   1274\u001b[0m \u001b[0;34m\u001b[0m\u001b[0m\n\u001b[0;32m-> 1275\u001b[0;31m         \u001b[0mself\u001b[0m\u001b[0;34m.\u001b[0m\u001b[0mputrequest\u001b[0m\u001b[0;34m(\u001b[0m\u001b[0mmethod\u001b[0m\u001b[0;34m,\u001b[0m \u001b[0murl\u001b[0m\u001b[0;34m,\u001b[0m \u001b[0;34m**\u001b[0m\u001b[0mskips\u001b[0m\u001b[0;34m)\u001b[0m\u001b[0;34m\u001b[0m\u001b[0;34m\u001b[0m\u001b[0m\n\u001b[0m\u001b[1;32m   1276\u001b[0m \u001b[0;34m\u001b[0m\u001b[0m\n\u001b[1;32m   1277\u001b[0m         \u001b[0;31m# chunked encoding will happen if HTTP/1.1 is used and either\u001b[0m\u001b[0;34m\u001b[0m\u001b[0;34m\u001b[0m\u001b[0;34m\u001b[0m\u001b[0m\n",
            "\u001b[0;32m/usr/lib/python3.6/http/client.py\u001b[0m in \u001b[0;36mputrequest\u001b[0;34m(self, method, url, skip_host, skip_accept_encoding)\u001b[0m\n\u001b[1;32m   1127\u001b[0m         \u001b[0mmatch\u001b[0m \u001b[0;34m=\u001b[0m \u001b[0m_contains_disallowed_url_pchar_re\u001b[0m\u001b[0;34m.\u001b[0m\u001b[0msearch\u001b[0m\u001b[0;34m(\u001b[0m\u001b[0murl\u001b[0m\u001b[0;34m)\u001b[0m\u001b[0;34m\u001b[0m\u001b[0;34m\u001b[0m\u001b[0m\n\u001b[1;32m   1128\u001b[0m         \u001b[0;32mif\u001b[0m \u001b[0mmatch\u001b[0m\u001b[0;34m:\u001b[0m\u001b[0;34m\u001b[0m\u001b[0;34m\u001b[0m\u001b[0m\n\u001b[0;32m-> 1129\u001b[0;31m             raise InvalidURL(f\"URL can't contain control characters. {url!r} \"\n\u001b[0m\u001b[1;32m   1130\u001b[0m                              f\"(found at least {match.group()!r})\")\n\u001b[1;32m   1131\u001b[0m         \u001b[0mrequest\u001b[0m \u001b[0;34m=\u001b[0m \u001b[0;34m'%s %s %s'\u001b[0m \u001b[0;34m%\u001b[0m \u001b[0;34m(\u001b[0m\u001b[0mmethod\u001b[0m\u001b[0;34m,\u001b[0m \u001b[0murl\u001b[0m\u001b[0;34m,\u001b[0m \u001b[0mself\u001b[0m\u001b[0;34m.\u001b[0m\u001b[0m_http_vsn_str\u001b[0m\u001b[0;34m)\u001b[0m\u001b[0;34m\u001b[0m\u001b[0;34m\u001b[0m\u001b[0m\n",
            "\u001b[0;31mInvalidURL\u001b[0m: URL can't contain control characters. '/xxz-jessica/COVID-19_UCD_Challenge/master/Tweet_Raw_Data/raw_data/random tweet 2020-02-21.csv' (found at least ' ')"
          ]
        }
      ]
    },
    {
      "cell_type": "code",
      "metadata": {
        "id": "x3ZVVnDwLJ5g"
      },
      "source": [
        "df"
      ],
      "execution_count": null,
      "outputs": []
    },
    {
      "cell_type": "markdown",
      "metadata": {
        "id": "sH7LqR0FLJ5o"
      },
      "source": [
        "# Load data of trending topics from github\n",
        "\n",
        "selecting the fifty most talked about trending topics on twitter\n",
        "\n",
        "manually annotate the wider topic the trend belongs to (C: Coronavirus, P: Politics, D: Tweets related to a special day of the week/year, O: Other topics)\n",
        "\n"
      ]
    },
    {
      "cell_type": "code",
      "metadata": {
        "id": "BMBWFuiqLJ5p"
      },
      "source": [
        "#trending = pd.read_csv(\"trending_topics_usa.csv\")\n",
        "\n",
        "trending = pd.read_csv(\"https://raw.githubusercontent.com/xxz-jessica/COVID-19_UCD_Challenge/master/Twitter_Trending_Topics/usa_trending.csv\", encoding='latin1')\n",
        "trending[\"date\"] = pd.to_datetime(trending[\"date\"])\n",
        "\n",
        "\n",
        "trending_counted = trending.groupby('trending')['date'].apply(list).reset_index(name='dates')\n",
        "trending_counted2 = trending.groupby(\"trending\").count().reset_index()\n",
        "\n",
        "#trending_counted = trending_counted.sort_values(\"num_dates\", ascending = False)\n",
        "\n",
        "#trending_counted.merge(trending_counted2, left_on =)\n",
        "\n",
        "trending_selected = trending_counted.merge(trending_counted2).sort_values(\"date\", ascending = False)\n",
        "\n",
        "trending_selected = trending_selected[0:50]\n",
        "\n",
        "trending_selected[\"annotation\"] = [\"P\", \"C\", \"O\", \"O\", \"C\", \"P\", \"P\", \"C\", \"P\", \"P\", \"D\", \"D\", \"O\", \"D\", \"D\", \n",
        "                                    \"D\", \"O\", \"D\", \"O\", \"P\", \"D\", \"C\", \"P\", \"D\", \"C\", \"P\", \"C\", \"P\", \"O\", \"O\",\n",
        "                                    \"P\", \"P\", \"O\", \"C\", \"O\", \"O\", \"O\", \"D\", \"P\", \"O\", \"P\", \"P\", \"D\", \"C\", \"P\", \n",
        "                                    \"P\", \"P\", \"P\", \"D\", \"P\"]\n"
      ],
      "execution_count": null,
      "outputs": []
    },
    {
      "cell_type": "markdown",
      "metadata": {
        "id": "tZE9HV_GLJ5t"
      },
      "source": [
        "# Create wordcloud using brunel"
      ]
    },
    {
      "cell_type": "code",
      "metadata": {
        "id": "KEbGwy2JLJ5u"
      },
      "source": [
        "import brunel"
      ],
      "execution_count": null,
      "outputs": []
    },
    {
      "cell_type": "code",
      "metadata": {
        "id": "il_zoVPaLJ5z"
      },
      "source": [
        "trending_select\n",
        "%brunel cloud data(\"trending_selected\") size(date) label(trending) tooltip(dates) color(annotation)"
      ],
      "execution_count": null,
      "outputs": []
    },
    {
      "cell_type": "code",
      "metadata": {
        "id": "C6g-J87FLJ54"
      },
      "source": [
        ""
      ],
      "execution_count": null,
      "outputs": []
    }
  ]
}