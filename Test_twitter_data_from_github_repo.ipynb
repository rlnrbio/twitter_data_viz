{
 "cells": [
  {
   "cell_type": "markdown",
   "metadata": {
    "id": "4eZ1MYQmLJ3b"
   },
   "source": [
    "\n",
    "# Test twitter data from github repo\n",
    "\n",
    "Load data from github repo"
   ]
  },
  {
   "cell_type": "code",
   "execution_count": 1,
   "metadata": {
    "id": "RgO98q3_LJ3d"
   },
   "outputs": [],
   "source": [
    "import pandas as pd\n",
    "import os\n",
    "\n",
    "import altair as alt"
   ]
  },
  {
   "cell_type": "markdown",
   "metadata": {
    "id": "l1JS-d7lLJ3o"
   },
   "source": [
    "# Load Corona data\n"
   ]
  },
  {
   "cell_type": "code",
   "execution_count": 2,
   "metadata": {
    "colab": {
     "base_uri": "https://localhost:8080/",
     "height": 889
    },
    "id": "PmQVrwcoLJ3s",
    "outputId": "7fc4299d-a7aa-426a-ed82-de75113075dc"
   },
   "outputs": [
    {
     "name": "stdout",
     "output_type": "stream",
     "text": [
      "<class 'pandas.core.frame.DataFrame'>\n",
      "RangeIndex: 50513 entries, 0 to 50512\n",
      "Data columns (total 41 columns):\n",
      " #   Column                           Non-Null Count  Dtype         \n",
      "---  ------                           --------------  -----         \n",
      " 0   iso_code                         50222 non-null  object        \n",
      " 1   continent                        49931 non-null  object        \n",
      " 2   location                         50513 non-null  object        \n",
      " 3   date                             50513 non-null  datetime64[ns]\n",
      " 4   total_cases                      46865 non-null  float64       \n",
      " 5   new_cases                        49650 non-null  float64       \n",
      " 6   new_cases_smoothed               48867 non-null  float64       \n",
      " 7   total_deaths                     38215 non-null  float64       \n",
      " 8   new_deaths                       49650 non-null  float64       \n",
      " 9   new_deaths_smoothed              48867 non-null  float64       \n",
      " 10  total_cases_per_million          46610 non-null  float64       \n",
      " 11  new_cases_per_million            49586 non-null  float64       \n",
      " 12  new_cases_smoothed_per_million   48802 non-null  float64       \n",
      " 13  total_deaths_per_million         37975 non-null  float64       \n",
      " 14  new_deaths_per_million           49586 non-null  float64       \n",
      " 15  new_deaths_smoothed_per_million  48802 non-null  float64       \n",
      " 16  new_tests                        18456 non-null  float64       \n",
      " 17  total_tests                      18826 non-null  float64       \n",
      " 18  total_tests_per_thousand         18826 non-null  float64       \n",
      " 19  new_tests_per_thousand           18456 non-null  float64       \n",
      " 20  new_tests_smoothed               20832 non-null  float64       \n",
      " 21  new_tests_smoothed_per_thousand  20832 non-null  float64       \n",
      " 22  tests_per_case                   19148 non-null  float64       \n",
      " 23  positive_rate                    19467 non-null  float64       \n",
      " 24  tests_units                      21776 non-null  object        \n",
      " 25  stringency_index                 41952 non-null  float64       \n",
      " 26  population                       50222 non-null  float64       \n",
      " 27  population_density               47906 non-null  float64       \n",
      " 28  median_age                       45005 non-null  float64       \n",
      " 29  aged_65_older                    44332 non-null  float64       \n",
      " 30  aged_70_older                    44771 non-null  float64       \n",
      " 31  gdp_per_capita                   44414 non-null  float64       \n",
      " 32  extreme_poverty                  29619 non-null  float64       \n",
      " 33  cardiovasc_death_rate            44992 non-null  float64       \n",
      " 34  diabetes_prevalence              46608 non-null  float64       \n",
      " 35  female_smokers                   35167 non-null  float64       \n",
      " 36  male_smokers                     34718 non-null  float64       \n",
      " 37  handwashing_facilities           21148 non-null  float64       \n",
      " 38  hospital_beds_per_thousand       40594 non-null  float64       \n",
      " 39  life_expectancy                  49583 non-null  float64       \n",
      " 40  human_development_index          43422 non-null  float64       \n",
      "dtypes: datetime64[ns](1), float64(36), object(4)\n",
      "memory usage: 15.8+ MB\n"
     ]
    }
   ],
   "source": [
    "covid_data = pd.read_csv(\"https://covid.ourworldindata.org/data/owid-covid-data.csv\")\n",
    "\n",
    "covid_data[\"date\"] = pd.to_datetime(covid_data[\"date\"])\n",
    "\n",
    "covid_data.info()"
   ]
  },
  {
   "cell_type": "code",
   "execution_count": 3,
   "metadata": {
    "colab": {
     "base_uri": "https://localhost:8080/",
     "height": 204
    },
    "id": "j7-T_lnILJ3_",
    "outputId": "9573e879-fbfa-460f-fdbe-e2bbe3db2d43"
   },
   "outputs": [
    {
     "name": "stdout",
     "output_type": "stream",
     "text": [
      "<class 'pandas.core.frame.DataFrame'>\n",
      "Int64Index: 98 entries, 1 to 98\n",
      "Data columns (total 4 columns):\n",
      " #   Column       Non-Null Count  Dtype         \n",
      "---  ------       --------------  -----         \n",
      " 0   date         98 non-null     datetime64[ns]\n",
      " 1   total_cases  98 non-null     float64       \n",
      " 2   new_cases    98 non-null     float64       \n",
      " 3   new_deaths   98 non-null     float64       \n",
      "dtypes: datetime64[ns](1), float64(3)\n",
      "memory usage: 3.8 KB\n"
     ]
    }
   ],
   "source": [
    "covid_data[\"date\"] = pd.to_datetime(covid_data[\"date\"])\n",
    "\n",
    "cov_selection = covid_data[[\"date\", \"total_cases\", \"new_cases\", \"new_deaths\"]]\n",
    "\n",
    "cov_selection = cov_selection.groupby('date').sum().reset_index()\n",
    "\n",
    "start_date = '12-31-2019'\n",
    "end_date = '04-07-2020'\n",
    "\n",
    "mask = (cov_selection['date'] > start_date) & (cov_selection['date'] <= end_date)\n",
    "\n",
    "cov_selection = cov_selection.loc[mask]\n",
    "\n",
    "cov_selection.info()"
   ]
  },
  {
   "cell_type": "markdown",
   "metadata": {
    "id": "-ar54jx0LJ4H"
   },
   "source": [
    "# Load news articles from github project\n",
    "\n",
    "Load CNN articles from xlsx file"
   ]
  },
  {
   "cell_type": "code",
   "execution_count": 4,
   "metadata": {
    "colab": {
     "base_uri": "https://localhost:8080/",
     "height": 170
    },
    "id": "Px4YSULxLJ4I",
    "outputId": "850c80bf-596f-4df2-ac84-37882f134116"
   },
   "outputs": [
    {
     "name": "stdout",
     "output_type": "stream",
     "text": [
      "<class 'pandas.core.frame.DataFrame'>\n",
      "RangeIndex: 66 entries, 0 to 65\n",
      "Data columns (total 2 columns):\n",
      " #   Column        Non-Null Count  Dtype         \n",
      "---  ------        --------------  -----         \n",
      " 0   date          66 non-null     datetime64[ns]\n",
      " 1   cnn_articles  66 non-null     int64         \n",
      "dtypes: datetime64[ns](1), int64(1)\n",
      "memory usage: 1.2 KB\n"
     ]
    }
   ],
   "source": [
    "cnn_news = pd.read_excel(\"https://github.com/xxz-jessica/COVID-19_UCD_Challenge/blob/master/News_Fox_CNN/CNN_full.xlsx?raw=true\")\n",
    "cnn_news = cnn_news.dropna()\n",
    "\n",
    "cnn_news = cnn_news.rename(columns = {\"true_time\": \"published_date\"})\n",
    "cnn_news[\"published_date\"] = pd.to_datetime(cnn_news[\"published_date\"])\n",
    "\n",
    "counted_news_cnn = cnn_news[\"published_date\"].value_counts()\n",
    "counted_news_cnn = counted_news_cnn.to_frame()\n",
    "mask2 = (counted_news_cnn.index > start_date) & (counted_news_cnn.index <= end_date)\n",
    "counted_news_cnn = counted_news_cnn.loc[mask2]\n",
    "\n",
    "counted_news_cnn.reset_index(level=0, inplace=True)\n",
    "counted_news_cnn = counted_news_cnn.rename(columns = {\"index\" : \"date\", \"published_date\" : \"cnn_articles\"})\n",
    "\n",
    "\n",
    "counted_news_cnn.info()"
   ]
  },
  {
   "cell_type": "code",
   "execution_count": 5,
   "metadata": {
    "colab": {
     "base_uri": "https://localhost:8080/",
     "height": 170
    },
    "id": "_dQsR0BdLJ4P",
    "outputId": "1de1e645-c69a-4595-dc3e-dac90029e449"
   },
   "outputs": [
    {
     "name": "stdout",
     "output_type": "stream",
     "text": [
      "<class 'pandas.core.frame.DataFrame'>\n",
      "RangeIndex: 84 entries, 0 to 83\n",
      "Data columns (total 2 columns):\n",
      " #   Column        Non-Null Count  Dtype         \n",
      "---  ------        --------------  -----         \n",
      " 0   date          84 non-null     datetime64[ns]\n",
      " 1   fox_articles  84 non-null     int64         \n",
      "dtypes: datetime64[ns](1), int64(1)\n",
      "memory usage: 1.4 KB\n"
     ]
    }
   ],
   "source": [
    "fox_news = pd.read_excel(\"https://github.com/xxz-jessica/COVID-19_UCD_Challenge/blob/master/News_Fox_CNN/foxnews_article_form.xlsx?raw=true\")\n",
    "\n",
    "fox_news = fox_news.dropna()\n",
    "\n",
    "fox_news = fox_news.rename(columns = {\"true_time\": \"published_date\"})\n",
    "\n",
    "fox_news[\"published_date\"] = pd.to_datetime(fox_news[\"published_date\"])\n",
    "\n",
    "counted_news_fox = fox_news[\"published_date\"].value_counts()\n",
    "counted_news_fox = counted_news_fox.to_frame()\n",
    "mask3 = (counted_news_fox.index > start_date) & (counted_news_fox.index <= end_date)\n",
    "counted_news_fox = counted_news_fox.loc[mask3]\n",
    "\n",
    "counted_news_fox.reset_index(level=0, inplace=True)\n",
    "counted_news_fox = counted_news_fox.rename(columns = {\"index\" : \"date\", \"published_date\" : \"fox_articles\"})\n",
    "\n",
    "\n",
    "counted_news_fox.info()"
   ]
  },
  {
   "cell_type": "markdown",
   "metadata": {
    "id": "3pwe_6T2LJ4V"
   },
   "source": [
    "# Visualize number of daily tweets, news articles and Covid cases from github project"
   ]
  },
  {
   "cell_type": "code",
   "execution_count": 6,
   "metadata": {
    "colab": {
     "base_uri": "https://localhost:8080/",
     "height": 170
    },
    "id": "U3Ul1Ck5LJ4Y",
    "outputId": "f1260098-4db3-4716-87b5-f902dac84aaf"
   },
   "outputs": [
    {
     "name": "stdout",
     "output_type": "stream",
     "text": [
      "<class 'pandas.core.frame.DataFrame'>\n",
      "RangeIndex: 98 entries, 0 to 97\n",
      "Data columns (total 2 columns):\n",
      " #   Column  Non-Null Count  Dtype         \n",
      "---  ------  --------------  -----         \n",
      " 0   date    98 non-null     datetime64[ns]\n",
      " 1   Tweets  98 non-null     int32         \n",
      "dtypes: datetime64[ns](1), int32(1)\n",
      "memory usage: 1.3 KB\n"
     ]
    }
   ],
   "source": [
    "num_tweets = pd.read_csv(\"https://raw.githubusercontent.com/xxz-jessica/COVID-19_UCD_Challenge/master/Tweet_Raw_Data/tweet_per_day_1.csv\")\n",
    "\n",
    "num_tweets[\"Tweets\"] = num_tweets[\"Tweets\"].str.replace(\",\", \"\").astype(int)\n",
    "num_tweets[\"Day\"] = pd.to_datetime(num_tweets[\"Day\"])\n",
    "\n",
    "num_tweets = num_tweets.rename(columns = {\"Day\": \"date\"})\n",
    "\n",
    "num_tweets.info()\n"
   ]
  },
  {
   "cell_type": "code",
   "execution_count": 7,
   "metadata": {
    "colab": {
     "base_uri": "https://localhost:8080/",
     "height": 255
    },
    "id": "aqWvVAgsLJ4g",
    "outputId": "ed49175d-dc72-4247-ff42-422abfb4225c"
   },
   "outputs": [
    {
     "name": "stdout",
     "output_type": "stream",
     "text": [
      "<class 'pandas.core.frame.DataFrame'>\n",
      "Int64Index: 98 entries, 0 to 97\n",
      "Data columns (total 7 columns):\n",
      " #   Column        Non-Null Count  Dtype         \n",
      "---  ------        --------------  -----         \n",
      " 0   date          98 non-null     datetime64[ns]\n",
      " 1   Tweets        98 non-null     int32         \n",
      " 2   total_cases   98 non-null     float64       \n",
      " 3   new_cases     98 non-null     float64       \n",
      " 4   new_deaths    98 non-null     float64       \n",
      " 5   cnn_articles  66 non-null     float64       \n",
      " 6   fox_articles  84 non-null     float64       \n",
      "dtypes: datetime64[ns](1), float64(5), int32(1)\n",
      "memory usage: 5.7 KB\n"
     ]
    }
   ],
   "source": [
    "#merge data\n",
    "merged_3 = pd.merge(num_tweets, cov_selection).merge(counted_news_cnn, how = \"outer\").merge(counted_news_fox, how = \"outer\")\n",
    "merged_3.info()\n",
    "\n",
    "merged_3 = merged_3.fillna(0)"
   ]
  },
  {
   "cell_type": "code",
   "execution_count": 8,
   "metadata": {
    "colab": {
     "base_uri": "https://localhost:8080/",
     "height": 253
    },
    "id": "6-A2haLYLJ4m",
    "outputId": "01ba0fdf-74cf-4db9-9877-145266f8fca8"
   },
   "outputs": [
    {
     "data": {
      "text/html": [
       "\n",
       "<div id=\"altair-viz-8eb3b4a7470844d88a9d0820434cee29\"></div>\n",
       "<script type=\"text/javascript\">\n",
       "  (function(spec, embedOpt){\n",
       "    let outputDiv = document.currentScript.previousElementSibling;\n",
       "    if (outputDiv.id !== \"altair-viz-8eb3b4a7470844d88a9d0820434cee29\") {\n",
       "      outputDiv = document.getElementById(\"altair-viz-8eb3b4a7470844d88a9d0820434cee29\");\n",
       "    }\n",
       "    const paths = {\n",
       "      \"vega\": \"https://cdn.jsdelivr.net/npm//vega@5?noext\",\n",
       "      \"vega-lib\": \"https://cdn.jsdelivr.net/npm//vega-lib?noext\",\n",
       "      \"vega-lite\": \"https://cdn.jsdelivr.net/npm//vega-lite@4.8.1?noext\",\n",
       "      \"vega-embed\": \"https://cdn.jsdelivr.net/npm//vega-embed@6?noext\",\n",
       "    };\n",
       "\n",
       "    function loadScript(lib) {\n",
       "      return new Promise(function(resolve, reject) {\n",
       "        var s = document.createElement('script');\n",
       "        s.src = paths[lib];\n",
       "        s.async = true;\n",
       "        s.onload = () => resolve(paths[lib]);\n",
       "        s.onerror = () => reject(`Error loading script: ${paths[lib]}`);\n",
       "        document.getElementsByTagName(\"head\")[0].appendChild(s);\n",
       "      });\n",
       "    }\n",
       "\n",
       "    function showError(err) {\n",
       "      outputDiv.innerHTML = `<div class=\"error\" style=\"color:red;\">${err}</div>`;\n",
       "      throw err;\n",
       "    }\n",
       "\n",
       "    function displayChart(vegaEmbed) {\n",
       "      vegaEmbed(outputDiv, spec, embedOpt)\n",
       "        .catch(err => showError(`Javascript Error: ${err.message}<br>This usually means there's a typo in your chart specification. See the javascript console for the full traceback.`));\n",
       "    }\n",
       "\n",
       "    if(typeof define === \"function\" && define.amd) {\n",
       "      requirejs.config({paths});\n",
       "      require([\"vega-embed\"], displayChart, err => showError(`Error loading script: ${err.message}`));\n",
       "    } else if (typeof vegaEmbed === \"function\") {\n",
       "      displayChart(vegaEmbed);\n",
       "    } else {\n",
       "      loadScript(\"vega\")\n",
       "        .then(() => loadScript(\"vega-lite\"))\n",
       "        .then(() => loadScript(\"vega-embed\"))\n",
       "        .catch(showError)\n",
       "        .then(() => displayChart(vegaEmbed));\n",
       "    }\n",
       "  })({\"config\": {\"view\": {\"continuousWidth\": 400, \"continuousHeight\": 300}}, \"layer\": [{\"mark\": {\"type\": \"line\", \"interpolate\": \"monotone\", \"stroke\": \"#1da1f2\"}, \"encoding\": {\"x\": {\"type\": \"temporal\", \"axis\": {\"title\": null}, \"field\": \"date\"}, \"y\": {\"type\": \"quantitative\", \"axis\": {\"title\": \"Number of tweets\", \"titleColor\": \"#1da1f2\"}, \"field\": \"Tweets\"}}, \"height\": 200, \"width\": 500}, {\"mark\": {\"type\": \"line\", \"interpolate\": \"monotone\", \"stroke\": \"#eb34eb\"}, \"encoding\": {\"x\": {\"type\": \"temporal\", \"axis\": {\"title\": null}, \"field\": \"date\"}, \"y\": {\"type\": \"quantitative\", \"axis\": {\"title\": \"New cases\", \"titleColor\": \"#eb34eb\"}, \"field\": \"new_cases\"}}, \"height\": 200, \"width\": 500}], \"data\": {\"name\": \"data-d8b54515c5c785b307ffeaa1524073e9\"}, \"resolve\": {\"scale\": {\"y\": \"independent\"}}, \"$schema\": \"https://vega.github.io/schema/vega-lite/v4.8.1.json\", \"datasets\": {\"data-d8b54515c5c785b307ffeaa1524073e9\": [{\"date\": \"2020-04-07T00:00:00\", \"Tweets\": 7877346, \"total_cases\": 2687108.0, \"new_cases\": 145976.0, \"new_deaths\": 10680.0, \"cnn_articles\": 77.0, \"fox_articles\": 230.0}, {\"date\": \"2020-04-06T00:00:00\", \"Tweets\": 8153966, \"total_cases\": 2541132.0, \"new_cases\": 132552.0, \"new_deaths\": 9512.0, \"cnn_articles\": 74.0, \"fox_articles\": 169.0}, {\"date\": \"2020-04-05T00:00:00\", \"Tweets\": 7421877, \"total_cases\": 2408425.0, \"new_cases\": 170486.0, \"new_deaths\": 12616.0, \"cnn_articles\": 48.0, \"fox_articles\": 96.0}, {\"date\": \"2020-04-04T00:00:00\", \"Tweets\": 7928225, \"total_cases\": 2238094.0, \"new_cases\": 163660.0, \"new_deaths\": 13552.0, \"cnn_articles\": 36.0, \"fox_articles\": 120.0}, {\"date\": \"2020-04-03T00:00:00\", \"Tweets\": 9357113, \"total_cases\": 2074434.0, \"new_cases\": 154914.0, \"new_deaths\": 10018.0, \"cnn_articles\": 80.0, \"fox_articles\": 235.0}, {\"date\": \"2020-04-02T00:00:00\", \"Tweets\": 9767918, \"total_cases\": 1919520.0, \"new_cases\": 154946.0, \"new_deaths\": 10020.0, \"cnn_articles\": 85.0, \"fox_articles\": 260.0}, {\"date\": \"2020-04-01T00:00:00\", \"Tweets\": 10402981, \"total_cases\": 1764569.0, \"new_cases\": 149348.0, \"new_deaths\": 9348.0, \"cnn_articles\": 71.0, \"fox_articles\": 260.0}, {\"date\": \"2020-03-31T00:00:00\", \"Tweets\": 10442432, \"total_cases\": 1615134.0, \"new_cases\": 128976.0, \"new_deaths\": 7972.0, \"cnn_articles\": 75.0, \"fox_articles\": 144.0}, {\"date\": \"2020-03-30T00:00:00\", \"Tweets\": 10125714, \"total_cases\": 1486250.0, \"new_cases\": 114726.0, \"new_deaths\": 6456.0, \"cnn_articles\": 60.0, \"fox_articles\": 204.0}, {\"date\": \"2020-03-29T00:00:00\", \"Tweets\": 9333426, \"total_cases\": 1371524.0, \"new_cases\": 125628.0, \"new_deaths\": 7174.0, \"cnn_articles\": 33.0, \"fox_articles\": 108.0}, {\"date\": \"2020-03-28T00:00:00\", \"Tweets\": 10434671, \"total_cases\": 1245896.0, \"new_cases\": 130188.0, \"new_deaths\": 6982.0, \"cnn_articles\": 29.0, \"fox_articles\": 84.0}, {\"date\": \"2020-03-27T00:00:00\", \"Tweets\": 12209011, \"total_cases\": 1115708.0, \"new_cases\": 122032.0, \"new_deaths\": 5610.0, \"cnn_articles\": 61.0, \"fox_articles\": 210.0}, {\"date\": \"2020-03-26T00:00:00\", \"Tweets\": 12236719, \"total_cases\": 993676.0, \"new_cases\": 107500.0, \"new_deaths\": 5288.0, \"cnn_articles\": 81.0, \"fox_articles\": 256.0}, {\"date\": \"2020-03-25T00:00:00\", \"Tweets\": 13000269, \"total_cases\": 886169.0, \"new_cases\": 84772.0, \"new_deaths\": 4610.0, \"cnn_articles\": 61.0, \"fox_articles\": 260.0}, {\"date\": \"2020-03-24T00:00:00\", \"Tweets\": 14445841, \"total_cases\": 801402.0, \"new_cases\": 88972.0, \"new_deaths\": 3708.0, \"cnn_articles\": 69.0, \"fox_articles\": 253.0}, {\"date\": \"2020-03-23T00:00:00\", \"Tweets\": 15446246, \"total_cases\": 712423.0, \"new_cases\": 68572.0, \"new_deaths\": 3376.0, \"cnn_articles\": 54.0, \"fox_articles\": 231.0}, {\"date\": \"2020-03-22T00:00:00\", \"Tweets\": 14392561, \"total_cases\": 643851.0, \"new_cases\": 68412.0, \"new_deaths\": 3434.0, \"cnn_articles\": 33.0, \"fox_articles\": 101.0}, {\"date\": \"2020-03-21T00:00:00\", \"Tweets\": 12861351, \"total_cases\": 575439.0, \"new_cases\": 63818.0, \"new_deaths\": 2770.0, \"cnn_articles\": 30.0, \"fox_articles\": 75.0}, {\"date\": \"2020-03-20T00:00:00\", \"Tweets\": 15200259, \"total_cases\": 511626.0, \"new_cases\": 62188.0, \"new_deaths\": 2148.0, \"cnn_articles\": 54.0, \"fox_articles\": 186.0}, {\"date\": \"2020-03-19T00:00:00\", \"Tweets\": 16582131, \"total_cases\": 449434.0, \"new_cases\": 40428.0, \"new_deaths\": 1916.0, \"cnn_articles\": 67.0, \"fox_articles\": 246.0}, {\"date\": \"2020-03-18T00:00:00\", \"Tweets\": 16561524, \"total_cases\": 409006.0, \"new_cases\": 34012.0, \"new_deaths\": 1624.0, \"cnn_articles\": 57.0, \"fox_articles\": 241.0}, {\"date\": \"2020-03-17T00:00:00\", \"Tweets\": 17417142, \"total_cases\": 374982.0, \"new_cases\": 28402.0, \"new_deaths\": 1212.0, \"cnn_articles\": 57.0, \"fox_articles\": 247.0}, {\"date\": \"2020-03-16T00:00:00\", \"Tweets\": 17227182, \"total_cases\": 346564.0, \"new_cases\": 24910.0, \"new_deaths\": 1500.0, \"cnn_articles\": 57.0, \"fox_articles\": 204.0}, {\"date\": \"2020-03-15T00:00:00\", \"Tweets\": 16438760, \"total_cases\": 321583.0, \"new_cases\": 24330.0, \"new_deaths\": 734.0, \"cnn_articles\": 17.0, \"fox_articles\": 91.0}, {\"date\": \"2020-03-14T00:00:00\", \"Tweets\": 16823148, \"total_cases\": 297129.0, \"new_cases\": 20808.0, \"new_deaths\": 884.0, \"cnn_articles\": 25.0, \"fox_articles\": 49.0}, {\"date\": \"2020-03-13T00:00:00\", \"Tweets\": 19802671, \"total_cases\": 276054.0, \"new_cases\": 18902.0, \"new_deaths\": 702.0, \"cnn_articles\": 44.0, \"fox_articles\": 159.0}, {\"date\": \"2020-03-12T00:00:00\", \"Tweets\": 18799722, \"total_cases\": 257471.0, \"new_cases\": 15796.0, \"new_deaths\": 662.0, \"cnn_articles\": 43.0, \"fox_articles\": 185.0}, {\"date\": \"2020-03-11T00:00:00\", \"Tweets\": 9923317, \"total_cases\": 241730.0, \"new_cases\": 10214.0, \"new_deaths\": 544.0, \"cnn_articles\": 24.0, \"fox_articles\": 107.0}, {\"date\": \"2020-03-10T00:00:00\", \"Tweets\": 8284672, \"total_cases\": 231310.0, \"new_cases\": 9632.0, \"new_deaths\": 418.0, \"cnn_articles\": 21.0, \"fox_articles\": 104.0}, {\"date\": \"2020-03-09T00:00:00\", \"Tweets\": 6386122, \"total_cases\": 221758.0, \"new_cases\": 8354.0, \"new_deaths\": 456.0, \"cnn_articles\": 24.0, \"fox_articles\": 89.0}, {\"date\": \"2020-03-08T00:00:00\", \"Tweets\": 4533476, \"total_cases\": 213417.0, \"new_cases\": 7954.0, \"new_deaths\": 194.0, \"cnn_articles\": 7.0, \"fox_articles\": 39.0}, {\"date\": \"2020-03-07T00:00:00\", \"Tweets\": 4632239, \"total_cases\": 205479.0, \"new_cases\": 8240.0, \"new_deaths\": 208.0, \"cnn_articles\": 9.0, \"fox_articles\": 37.0}, {\"date\": \"2020-03-06T00:00:00\", \"Tweets\": 4581032, \"total_cases\": 197347.0, \"new_cases\": 6116.0, \"new_deaths\": 204.0, \"cnn_articles\": 16.0, \"fox_articles\": 60.0}, {\"date\": \"2020-03-05T00:00:00\", \"Tweets\": 4323687, \"total_cases\": 191161.0, \"new_cases\": 4708.0, \"new_deaths\": 160.0, \"cnn_articles\": 12.0, \"fox_articles\": 50.0}, {\"date\": \"2020-03-04T00:00:00\", \"Tweets\": 4323670, \"total_cases\": 186440.0, \"new_cases\": 4624.0, \"new_deaths\": 168.0, \"cnn_articles\": 14.0, \"fox_articles\": 65.0}, {\"date\": \"2020-03-03T00:00:00\", \"Tweets\": 4342139, \"total_cases\": 181779.0, \"new_cases\": 3714.0, \"new_deaths\": 144.0, \"cnn_articles\": 7.0, \"fox_articles\": 49.0}, {\"date\": \"2020-03-02T00:00:00\", \"Tweets\": 4240721, \"total_cases\": 178298.0, \"new_cases\": 4138.0, \"new_deaths\": 134.0, \"cnn_articles\": 9.0, \"fox_articles\": 62.0}, {\"date\": \"2020-03-01T00:00:00\", \"Tweets\": 3632689, \"total_cases\": 174160.0, \"new_cases\": 3688.0, \"new_deaths\": 116.0, \"cnn_articles\": 9.0, \"fox_articles\": 24.0}, {\"date\": \"2020-02-29T00:00:00\", \"Tweets\": 4666121, \"total_cases\": 170472.0, \"new_cases\": 3718.0, \"new_deaths\": 128.0, \"cnn_articles\": 6.0, \"fox_articles\": 27.0}, {\"date\": \"2020-02-28T00:00:00\", \"Tweets\": 5685321, \"total_cases\": 166754.0, \"new_cases\": 2532.0, \"new_deaths\": 114.0, \"cnn_articles\": 6.0, \"fox_articles\": 43.0}, {\"date\": \"2020-02-27T00:00:00\", \"Tweets\": 4597412, \"total_cases\": 164222.0, \"new_cases\": 2228.0, \"new_deaths\": 76.0, \"cnn_articles\": 10.0, \"fox_articles\": 69.0}, {\"date\": \"2020-02-26T00:00:00\", \"Tweets\": 3989533, \"total_cases\": 161994.0, \"new_cases\": 1734.0, \"new_deaths\": 128.0, \"cnn_articles\": 9.0, \"fox_articles\": 52.0}, {\"date\": \"2020-02-25T00:00:00\", \"Tweets\": 2844369, \"total_cases\": 160260.0, \"new_cases\": 1586.0, \"new_deaths\": 158.0, \"cnn_articles\": 8.0, \"fox_articles\": 22.0}, {\"date\": \"2020-02-24T00:00:00\", \"Tweets\": 1643544, \"total_cases\": 158674.0, \"new_cases\": 1046.0, \"new_deaths\": 312.0, \"cnn_articles\": 6.0, \"fox_articles\": 19.0}, {\"date\": \"2020-02-23T00:00:00\", \"Tweets\": 1233511, \"total_cases\": 157628.0, \"new_cases\": 2018.0, \"new_deaths\": 208.0, \"cnn_articles\": 2.0, \"fox_articles\": 4.0}, {\"date\": \"2020-02-22T00:00:00\", \"Tweets\": 997638, \"total_cases\": 155610.0, \"new_cases\": 2170.0, \"new_deaths\": 224.0, \"cnn_articles\": 1.0, \"fox_articles\": 4.0}, {\"date\": \"2020-02-21T00:00:00\", \"Tweets\": 954321, \"total_cases\": 153440.0, \"new_cases\": 1992.0, \"new_deaths\": 238.0, \"cnn_articles\": 3.0, \"fox_articles\": 19.0}, {\"date\": \"2020-02-20T00:00:00\", \"Tweets\": 622349, \"total_cases\": 151448.0, \"new_cases\": 1064.0, \"new_deaths\": 232.0, \"cnn_articles\": 2.0, \"fox_articles\": 9.0}, {\"date\": \"2020-02-19T00:00:00\", \"Tweets\": 626237, \"total_cases\": 150384.0, \"new_cases\": 3728.0, \"new_deaths\": 278.0, \"cnn_articles\": 3.0, \"fox_articles\": 12.0}, {\"date\": \"2020-02-18T00:00:00\", \"Tweets\": 628043, \"total_cases\": 146656.0, \"new_cases\": 3990.0, \"new_deaths\": 196.0, \"cnn_articles\": 4.0, \"fox_articles\": 17.0}, {\"date\": \"2020-02-17T00:00:00\", \"Tweets\": 626732, \"total_cases\": 142666.0, \"new_cases\": 4134.0, \"new_deaths\": 212.0, \"cnn_articles\": 5.0, \"fox_articles\": 18.0}, {\"date\": \"2020-02-16T00:00:00\", \"Tweets\": 625127, \"total_cases\": 138532.0, \"new_cases\": 4324.0, \"new_deaths\": 284.0, \"cnn_articles\": 4.0, \"fox_articles\": 6.0}, {\"date\": \"2020-02-15T00:00:00\", \"Tweets\": 624555, \"total_cases\": 134208.0, \"new_cases\": 5120.0, \"new_deaths\": 288.0, \"cnn_articles\": 3.0, \"fox_articles\": 8.0}, {\"date\": \"2020-02-14T00:00:00\", \"Tweets\": 622722, \"total_cases\": 129088.0, \"new_cases\": 8430.0, \"new_deaths\": 26.0, \"cnn_articles\": 6.0, \"fox_articles\": 14.0}, {\"date\": \"2020-02-13T00:00:00\", \"Tweets\": 956877, \"total_cases\": 120658.0, \"new_cases\": 30302.0, \"new_deaths\": 510.0, \"cnn_articles\": 4.0, \"fox_articles\": 21.0}, {\"date\": \"2020-02-12T00:00:00\", \"Tweets\": 911098, \"total_cases\": 90356.0, \"new_cases\": 4144.0, \"new_deaths\": 194.0, \"cnn_articles\": 2.0, \"fox_articles\": 20.0}, {\"date\": \"2020-02-11T00:00:00\", \"Tweets\": 908627, \"total_cases\": 86212.0, \"new_cases\": 5124.0, \"new_deaths\": 216.0, \"cnn_articles\": 4.0, \"fox_articles\": 18.0}, {\"date\": \"2020-02-10T00:00:00\", \"Tweets\": 807654, \"total_cases\": 81088.0, \"new_cases\": 5984.0, \"new_deaths\": 194.0, \"cnn_articles\": 1.0, \"fox_articles\": 13.0}, {\"date\": \"2020-02-09T00:00:00\", \"Tweets\": 796739, \"total_cases\": 75104.0, \"new_cases\": 5236.0, \"new_deaths\": 178.0, \"cnn_articles\": 0.0, \"fox_articles\": 10.0}, {\"date\": \"2020-02-08T00:00:00\", \"Tweets\": 803453, \"total_cases\": 69868.0, \"new_cases\": 6884.0, \"new_deaths\": 172.0, \"cnn_articles\": 0.0, \"fox_articles\": 11.0}, {\"date\": \"2020-02-07T00:00:00\", \"Tweets\": 987563, \"total_cases\": 62984.0, \"new_cases\": 6436.0, \"new_deaths\": 146.0, \"cnn_articles\": 0.0, \"fox_articles\": 22.0}, {\"date\": \"2020-02-06T00:00:00\", \"Tweets\": 834673, \"total_cases\": 56548.0, \"new_cases\": 7502.0, \"new_deaths\": 144.0, \"cnn_articles\": 1.0, \"fox_articles\": 17.0}, {\"date\": \"2020-02-05T00:00:00\", \"Tweets\": 803587, \"total_cases\": 49046.0, \"new_cases\": 7816.0, \"new_deaths\": 132.0, \"cnn_articles\": 0.0, \"fox_articles\": 20.0}, {\"date\": \"2020-02-04T00:00:00\", \"Tweets\": 997862, \"total_cases\": 41230.0, \"new_cases\": 6486.0, \"new_deaths\": 130.0, \"cnn_articles\": 1.0, \"fox_articles\": 28.0}, {\"date\": \"2020-02-03T00:00:00\", \"Tweets\": 1000752, \"total_cases\": 34744.0, \"new_cases\": 5636.0, \"new_deaths\": 114.0, \"cnn_articles\": 0.0, \"fox_articles\": 20.0}, {\"date\": \"2020-02-02T00:00:00\", \"Tweets\": 1298476, \"total_cases\": 29108.0, \"new_cases\": 5216.0, \"new_deaths\": 92.0, \"cnn_articles\": 0.0, \"fox_articles\": 7.0}, {\"date\": \"2020-02-01T00:00:00\", \"Tweets\": 1287963, \"total_cases\": 23892.0, \"new_cases\": 4244.0, \"new_deaths\": 92.0, \"cnn_articles\": 0.0, \"fox_articles\": 7.0}, {\"date\": \"2020-01-31T00:00:00\", \"Tweets\": 1997635, \"total_cases\": 19648.0, \"new_cases\": 4002.0, \"new_deaths\": 86.0, \"cnn_articles\": 1.0, \"fox_articles\": 19.0}, {\"date\": \"2020-01-30T00:00:00\", \"Tweets\": 2010976, \"total_cases\": 15646.0, \"new_cases\": 3512.0, \"new_deaths\": 76.0, \"cnn_articles\": 1.0, \"fox_articles\": 32.0}, {\"date\": \"2020-01-29T00:00:00\", \"Tweets\": 1623497, \"total_cases\": 12134.0, \"new_cases\": 2960.0, \"new_deaths\": 52.0, \"cnn_articles\": 1.0, \"fox_articles\": 33.0}, {\"date\": \"2020-01-28T00:00:00\", \"Tweets\": 1497653, \"total_cases\": 9174.0, \"new_cases\": 3534.0, \"new_deaths\": 50.0, \"cnn_articles\": 0.0, \"fox_articles\": 22.0}, {\"date\": \"2020-01-27T00:00:00\", \"Tweets\": 1467598, \"total_cases\": 5640.0, \"new_cases\": 1594.0, \"new_deaths\": 50.0, \"cnn_articles\": 0.0, \"fox_articles\": 20.0}, {\"date\": \"2020-01-26T00:00:00\", \"Tweets\": 1678953, \"total_cases\": 4046.0, \"new_cases\": 1346.0, \"new_deaths\": 30.0, \"cnn_articles\": 0.0, \"fox_articles\": 9.0}, {\"date\": \"2020-01-25T00:00:00\", \"Tweets\": 1536784, \"total_cases\": 2700.0, \"new_cases\": 906.0, \"new_deaths\": 30.0, \"cnn_articles\": 0.0, \"fox_articles\": 5.0}, {\"date\": \"2020-01-24T00:00:00\", \"Tweets\": 1153245, \"total_cases\": 1794.0, \"new_cases\": 532.0, \"new_deaths\": 18.0, \"cnn_articles\": 0.0, \"fox_articles\": 10.0}, {\"date\": \"2020-01-23T00:00:00\", \"Tweets\": 905673, \"total_cases\": 1262.0, \"new_cases\": 194.0, \"new_deaths\": 0.0, \"cnn_articles\": 2.0, \"fox_articles\": 20.0}, {\"date\": \"2020-01-22T00:00:00\", \"Tweets\": 508623, \"total_cases\": 1068.0, \"new_cases\": 284.0, \"new_deaths\": 22.0, \"cnn_articles\": 2.0, \"fox_articles\": 10.0}, {\"date\": \"2020-01-21T00:00:00\", \"Tweets\": 259864, \"total_cases\": 784.0, \"new_cases\": 306.0, \"new_deaths\": 6.0, \"cnn_articles\": 0.0, \"fox_articles\": 6.0}, {\"date\": \"2020-01-20T00:00:00\", \"Tweets\": 100124, \"total_cases\": 478.0, \"new_cases\": 40.0, \"new_deaths\": 0.0, \"cnn_articles\": 0.0, \"fox_articles\": 3.0}, {\"date\": \"2020-01-19T00:00:00\", \"Tweets\": 20987, \"total_cases\": 438.0, \"new_cases\": 272.0, \"new_deaths\": 2.0, \"cnn_articles\": 0.0, \"fox_articles\": 0.0}, {\"date\": \"2020-01-18T00:00:00\", \"Tweets\": 23432, \"total_cases\": 166.0, \"new_cases\": 34.0, \"new_deaths\": 0.0, \"cnn_articles\": 0.0, \"fox_articles\": 0.0}, {\"date\": \"2020-01-17T00:00:00\", \"Tweets\": 22431, \"total_cases\": 132.0, \"new_cases\": 10.0, \"new_deaths\": 0.0, \"cnn_articles\": 1.0, \"fox_articles\": 2.0}, {\"date\": \"2020-01-16T00:00:00\", \"Tweets\": 22342, \"total_cases\": 122.0, \"new_cases\": 0.0, \"new_deaths\": 0.0, \"cnn_articles\": 0.0, \"fox_articles\": 1.0}, {\"date\": \"2020-01-15T00:00:00\", \"Tweets\": 10987, \"total_cases\": 122.0, \"new_cases\": 2.0, \"new_deaths\": 2.0, \"cnn_articles\": 0.0, \"fox_articles\": 1.0}, {\"date\": \"2020-01-14T00:00:00\", \"Tweets\": 10023, \"total_cases\": 120.0, \"new_cases\": 0.0, \"new_deaths\": 0.0, \"cnn_articles\": 0.0, \"fox_articles\": 0.0}, {\"date\": \"2020-01-13T00:00:00\", \"Tweets\": 16475, \"total_cases\": 120.0, \"new_cases\": 2.0, \"new_deaths\": 0.0, \"cnn_articles\": 0.0, \"fox_articles\": 1.0}, {\"date\": \"2020-01-12T00:00:00\", \"Tweets\": 10045, \"total_cases\": 118.0, \"new_cases\": 0.0, \"new_deaths\": 0.0, \"cnn_articles\": 0.0, \"fox_articles\": 0.0}, {\"date\": \"2020-01-11T00:00:00\", \"Tweets\": 2812, \"total_cases\": 118.0, \"new_cases\": 0.0, \"new_deaths\": 2.0, \"cnn_articles\": 0.0, \"fox_articles\": 0.0}, {\"date\": \"2020-01-10T00:00:00\", \"Tweets\": 2347, \"total_cases\": 118.0, \"new_cases\": 0.0, \"new_deaths\": 0.0, \"cnn_articles\": 0.0, \"fox_articles\": 0.0}, {\"date\": \"2020-01-09T00:00:00\", \"Tweets\": 3451, \"total_cases\": 118.0, \"new_cases\": 0.0, \"new_deaths\": 0.0, \"cnn_articles\": 0.0, \"fox_articles\": 1.0}, {\"date\": \"2020-01-08T00:00:00\", \"Tweets\": 421, \"total_cases\": 118.0, \"new_cases\": 0.0, \"new_deaths\": 0.0, \"cnn_articles\": 0.0, \"fox_articles\": 0.0}, {\"date\": \"2020-01-07T00:00:00\", \"Tweets\": 293, \"total_cases\": 118.0, \"new_cases\": 0.0, \"new_deaths\": 0.0, \"cnn_articles\": 0.0, \"fox_articles\": 0.0}, {\"date\": \"2020-01-06T00:00:00\", \"Tweets\": 86, \"total_cases\": 118.0, \"new_cases\": 0.0, \"new_deaths\": 0.0, \"cnn_articles\": 0.0, \"fox_articles\": 0.0}, {\"date\": \"2020-01-05T00:00:00\", \"Tweets\": 127, \"total_cases\": 118.0, \"new_cases\": 30.0, \"new_deaths\": 0.0, \"cnn_articles\": 0.0, \"fox_articles\": 0.0}, {\"date\": \"2020-01-04T00:00:00\", \"Tweets\": 172, \"total_cases\": 88.0, \"new_cases\": 0.0, \"new_deaths\": 0.0, \"cnn_articles\": 0.0, \"fox_articles\": 0.0}, {\"date\": \"2020-01-03T00:00:00\", \"Tweets\": 94, \"total_cases\": 88.0, \"new_cases\": 34.0, \"new_deaths\": 0.0, \"cnn_articles\": 0.0, \"fox_articles\": 0.0}, {\"date\": \"2020-01-02T00:00:00\", \"Tweets\": 41, \"total_cases\": 54.0, \"new_cases\": 0.0, \"new_deaths\": 0.0, \"cnn_articles\": 0.0, \"fox_articles\": 0.0}, {\"date\": \"2020-01-01T00:00:00\", \"Tweets\": 63, \"total_cases\": 54.0, \"new_cases\": 0.0, \"new_deaths\": 0.0, \"cnn_articles\": 0.0, \"fox_articles\": 0.0}]}}, {\"mode\": \"vega-lite\"});\n",
       "</script>"
      ],
      "text/plain": [
       "alt.LayerChart(...)"
      ]
     },
     "execution_count": 8,
     "metadata": {},
     "output_type": "execute_result"
    }
   ],
   "source": [
    "base = alt.Chart(merged_3).encode(\n",
    "    alt.X('date:T', axis=alt.Axis(title=None))\n",
    ").properties(\n",
    "    width=500,\n",
    "    height=200\n",
    ")\n",
    "\n",
    "\n",
    "line_tweets = base.mark_line(stroke='#1da1f2', interpolate='monotone').encode(\n",
    "    alt.Y('Tweets',\n",
    "          axis=alt.Axis(title='Number of tweets', titleColor='#1da1f2'))\n",
    ")\n",
    "\n",
    "line_cases = base.mark_line( interpolate='monotone', stroke='#eb34eb').encode(\n",
    "    alt.Y('new_cases',\n",
    "          axis=alt.Axis(title='New cases', titleColor='#eb34eb'))\n",
    ")\n",
    "\n",
    "alt.layer(line_tweets, line_cases).resolve_scale(\n",
    "    y = 'independent'\n",
    ")"
   ]
  },
  {
   "cell_type": "code",
   "execution_count": 9,
   "metadata": {
    "colab": {
     "base_uri": "https://localhost:8080/",
     "height": 275
    },
    "id": "R-xNp6Y6LJ4s",
    "outputId": "9f71b45c-8ba9-4b14-ac9a-e4ab7d2d7044"
   },
   "outputs": [
    {
     "data": {
      "text/html": [
       "\n",
       "<div id=\"altair-viz-d05a22f3fe45426992849447f34669ab\"></div>\n",
       "<script type=\"text/javascript\">\n",
       "  (function(spec, embedOpt){\n",
       "    let outputDiv = document.currentScript.previousElementSibling;\n",
       "    if (outputDiv.id !== \"altair-viz-d05a22f3fe45426992849447f34669ab\") {\n",
       "      outputDiv = document.getElementById(\"altair-viz-d05a22f3fe45426992849447f34669ab\");\n",
       "    }\n",
       "    const paths = {\n",
       "      \"vega\": \"https://cdn.jsdelivr.net/npm//vega@5?noext\",\n",
       "      \"vega-lib\": \"https://cdn.jsdelivr.net/npm//vega-lib?noext\",\n",
       "      \"vega-lite\": \"https://cdn.jsdelivr.net/npm//vega-lite@4.8.1?noext\",\n",
       "      \"vega-embed\": \"https://cdn.jsdelivr.net/npm//vega-embed@6?noext\",\n",
       "    };\n",
       "\n",
       "    function loadScript(lib) {\n",
       "      return new Promise(function(resolve, reject) {\n",
       "        var s = document.createElement('script');\n",
       "        s.src = paths[lib];\n",
       "        s.async = true;\n",
       "        s.onload = () => resolve(paths[lib]);\n",
       "        s.onerror = () => reject(`Error loading script: ${paths[lib]}`);\n",
       "        document.getElementsByTagName(\"head\")[0].appendChild(s);\n",
       "      });\n",
       "    }\n",
       "\n",
       "    function showError(err) {\n",
       "      outputDiv.innerHTML = `<div class=\"error\" style=\"color:red;\">${err}</div>`;\n",
       "      throw err;\n",
       "    }\n",
       "\n",
       "    function displayChart(vegaEmbed) {\n",
       "      vegaEmbed(outputDiv, spec, embedOpt)\n",
       "        .catch(err => showError(`Javascript Error: ${err.message}<br>This usually means there's a typo in your chart specification. See the javascript console for the full traceback.`));\n",
       "    }\n",
       "\n",
       "    if(typeof define === \"function\" && define.amd) {\n",
       "      requirejs.config({paths});\n",
       "      require([\"vega-embed\"], displayChart, err => showError(`Error loading script: ${err.message}`));\n",
       "    } else if (typeof vegaEmbed === \"function\") {\n",
       "      displayChart(vegaEmbed);\n",
       "    } else {\n",
       "      loadScript(\"vega\")\n",
       "        .then(() => loadScript(\"vega-lite\"))\n",
       "        .then(() => loadScript(\"vega-embed\"))\n",
       "        .catch(showError)\n",
       "        .then(() => displayChart(vegaEmbed));\n",
       "    }\n",
       "  })({\"config\": {\"view\": {\"continuousWidth\": 400, \"continuousHeight\": 300}}, \"layer\": [{\"mark\": {\"type\": \"line\", \"interpolate\": \"monotone\", \"stroke\": \"#1da1f2\"}, \"encoding\": {\"x\": {\"type\": \"temporal\", \"axis\": {\"title\": null}, \"field\": \"date\"}, \"y\": {\"type\": \"quantitative\", \"axis\": {\"title\": \"Number of tweets\", \"titleColor\": \"#1da1f2\"}, \"field\": \"Tweets\"}}, \"height\": 200, \"width\": 500}, {\"mark\": {\"type\": \"line\", \"interpolate\": \"monotone\", \"stroke\": \"#eb34eb\"}, \"encoding\": {\"x\": {\"type\": \"temporal\", \"axis\": {\"title\": null}, \"field\": \"date\"}, \"y\": {\"type\": \"quantitative\", \"axis\": {\"title\": \"value\", \"titleColor\": \"#eb34eb\"}, \"field\": \"value\"}}, \"height\": 200, \"selection\": {\"selector001\": {\"type\": \"single\", \"fields\": [\"column\"], \"bind\": {\"input\": \"select\", \"options\": [\"new_cases\", \"new_deaths\"], \"name\": \"Pandemic data\"}, \"init\": {\"column\": \"new_cases\"}}}, \"transform\": [{\"fold\": [\"new_cases\", \"new_deaths\"], \"as\": [\"column\", \"value\"]}, {\"filter\": {\"selection\": \"selector001\"}}], \"width\": 500}], \"data\": {\"name\": \"data-d8b54515c5c785b307ffeaa1524073e9\"}, \"resolve\": {\"scale\": {\"y\": \"independent\"}}, \"$schema\": \"https://vega.github.io/schema/vega-lite/v4.8.1.json\", \"datasets\": {\"data-d8b54515c5c785b307ffeaa1524073e9\": [{\"date\": \"2020-04-07T00:00:00\", \"Tweets\": 7877346, \"total_cases\": 2687108.0, \"new_cases\": 145976.0, \"new_deaths\": 10680.0, \"cnn_articles\": 77.0, \"fox_articles\": 230.0}, {\"date\": \"2020-04-06T00:00:00\", \"Tweets\": 8153966, \"total_cases\": 2541132.0, \"new_cases\": 132552.0, \"new_deaths\": 9512.0, \"cnn_articles\": 74.0, \"fox_articles\": 169.0}, {\"date\": \"2020-04-05T00:00:00\", \"Tweets\": 7421877, \"total_cases\": 2408425.0, \"new_cases\": 170486.0, \"new_deaths\": 12616.0, \"cnn_articles\": 48.0, \"fox_articles\": 96.0}, {\"date\": \"2020-04-04T00:00:00\", \"Tweets\": 7928225, \"total_cases\": 2238094.0, \"new_cases\": 163660.0, \"new_deaths\": 13552.0, \"cnn_articles\": 36.0, \"fox_articles\": 120.0}, {\"date\": \"2020-04-03T00:00:00\", \"Tweets\": 9357113, \"total_cases\": 2074434.0, \"new_cases\": 154914.0, \"new_deaths\": 10018.0, \"cnn_articles\": 80.0, \"fox_articles\": 235.0}, {\"date\": \"2020-04-02T00:00:00\", \"Tweets\": 9767918, \"total_cases\": 1919520.0, \"new_cases\": 154946.0, \"new_deaths\": 10020.0, \"cnn_articles\": 85.0, \"fox_articles\": 260.0}, {\"date\": \"2020-04-01T00:00:00\", \"Tweets\": 10402981, \"total_cases\": 1764569.0, \"new_cases\": 149348.0, \"new_deaths\": 9348.0, \"cnn_articles\": 71.0, \"fox_articles\": 260.0}, {\"date\": \"2020-03-31T00:00:00\", \"Tweets\": 10442432, \"total_cases\": 1615134.0, \"new_cases\": 128976.0, \"new_deaths\": 7972.0, \"cnn_articles\": 75.0, \"fox_articles\": 144.0}, {\"date\": \"2020-03-30T00:00:00\", \"Tweets\": 10125714, \"total_cases\": 1486250.0, \"new_cases\": 114726.0, \"new_deaths\": 6456.0, \"cnn_articles\": 60.0, \"fox_articles\": 204.0}, {\"date\": \"2020-03-29T00:00:00\", \"Tweets\": 9333426, \"total_cases\": 1371524.0, \"new_cases\": 125628.0, \"new_deaths\": 7174.0, \"cnn_articles\": 33.0, \"fox_articles\": 108.0}, {\"date\": \"2020-03-28T00:00:00\", \"Tweets\": 10434671, \"total_cases\": 1245896.0, \"new_cases\": 130188.0, \"new_deaths\": 6982.0, \"cnn_articles\": 29.0, \"fox_articles\": 84.0}, {\"date\": \"2020-03-27T00:00:00\", \"Tweets\": 12209011, \"total_cases\": 1115708.0, \"new_cases\": 122032.0, \"new_deaths\": 5610.0, \"cnn_articles\": 61.0, \"fox_articles\": 210.0}, {\"date\": \"2020-03-26T00:00:00\", \"Tweets\": 12236719, \"total_cases\": 993676.0, \"new_cases\": 107500.0, \"new_deaths\": 5288.0, \"cnn_articles\": 81.0, \"fox_articles\": 256.0}, {\"date\": \"2020-03-25T00:00:00\", \"Tweets\": 13000269, \"total_cases\": 886169.0, \"new_cases\": 84772.0, \"new_deaths\": 4610.0, \"cnn_articles\": 61.0, \"fox_articles\": 260.0}, {\"date\": \"2020-03-24T00:00:00\", \"Tweets\": 14445841, \"total_cases\": 801402.0, \"new_cases\": 88972.0, \"new_deaths\": 3708.0, \"cnn_articles\": 69.0, \"fox_articles\": 253.0}, {\"date\": \"2020-03-23T00:00:00\", \"Tweets\": 15446246, \"total_cases\": 712423.0, \"new_cases\": 68572.0, \"new_deaths\": 3376.0, \"cnn_articles\": 54.0, \"fox_articles\": 231.0}, {\"date\": \"2020-03-22T00:00:00\", \"Tweets\": 14392561, \"total_cases\": 643851.0, \"new_cases\": 68412.0, \"new_deaths\": 3434.0, \"cnn_articles\": 33.0, \"fox_articles\": 101.0}, {\"date\": \"2020-03-21T00:00:00\", \"Tweets\": 12861351, \"total_cases\": 575439.0, \"new_cases\": 63818.0, \"new_deaths\": 2770.0, \"cnn_articles\": 30.0, \"fox_articles\": 75.0}, {\"date\": \"2020-03-20T00:00:00\", \"Tweets\": 15200259, \"total_cases\": 511626.0, \"new_cases\": 62188.0, \"new_deaths\": 2148.0, \"cnn_articles\": 54.0, \"fox_articles\": 186.0}, {\"date\": \"2020-03-19T00:00:00\", \"Tweets\": 16582131, \"total_cases\": 449434.0, \"new_cases\": 40428.0, \"new_deaths\": 1916.0, \"cnn_articles\": 67.0, \"fox_articles\": 246.0}, {\"date\": \"2020-03-18T00:00:00\", \"Tweets\": 16561524, \"total_cases\": 409006.0, \"new_cases\": 34012.0, \"new_deaths\": 1624.0, \"cnn_articles\": 57.0, \"fox_articles\": 241.0}, {\"date\": \"2020-03-17T00:00:00\", \"Tweets\": 17417142, \"total_cases\": 374982.0, \"new_cases\": 28402.0, \"new_deaths\": 1212.0, \"cnn_articles\": 57.0, \"fox_articles\": 247.0}, {\"date\": \"2020-03-16T00:00:00\", \"Tweets\": 17227182, \"total_cases\": 346564.0, \"new_cases\": 24910.0, \"new_deaths\": 1500.0, \"cnn_articles\": 57.0, \"fox_articles\": 204.0}, {\"date\": \"2020-03-15T00:00:00\", \"Tweets\": 16438760, \"total_cases\": 321583.0, \"new_cases\": 24330.0, \"new_deaths\": 734.0, \"cnn_articles\": 17.0, \"fox_articles\": 91.0}, {\"date\": \"2020-03-14T00:00:00\", \"Tweets\": 16823148, \"total_cases\": 297129.0, \"new_cases\": 20808.0, \"new_deaths\": 884.0, \"cnn_articles\": 25.0, \"fox_articles\": 49.0}, {\"date\": \"2020-03-13T00:00:00\", \"Tweets\": 19802671, \"total_cases\": 276054.0, \"new_cases\": 18902.0, \"new_deaths\": 702.0, \"cnn_articles\": 44.0, \"fox_articles\": 159.0}, {\"date\": \"2020-03-12T00:00:00\", \"Tweets\": 18799722, \"total_cases\": 257471.0, \"new_cases\": 15796.0, \"new_deaths\": 662.0, \"cnn_articles\": 43.0, \"fox_articles\": 185.0}, {\"date\": \"2020-03-11T00:00:00\", \"Tweets\": 9923317, \"total_cases\": 241730.0, \"new_cases\": 10214.0, \"new_deaths\": 544.0, \"cnn_articles\": 24.0, \"fox_articles\": 107.0}, {\"date\": \"2020-03-10T00:00:00\", \"Tweets\": 8284672, \"total_cases\": 231310.0, \"new_cases\": 9632.0, \"new_deaths\": 418.0, \"cnn_articles\": 21.0, \"fox_articles\": 104.0}, {\"date\": \"2020-03-09T00:00:00\", \"Tweets\": 6386122, \"total_cases\": 221758.0, \"new_cases\": 8354.0, \"new_deaths\": 456.0, \"cnn_articles\": 24.0, \"fox_articles\": 89.0}, {\"date\": \"2020-03-08T00:00:00\", \"Tweets\": 4533476, \"total_cases\": 213417.0, \"new_cases\": 7954.0, \"new_deaths\": 194.0, \"cnn_articles\": 7.0, \"fox_articles\": 39.0}, {\"date\": \"2020-03-07T00:00:00\", \"Tweets\": 4632239, \"total_cases\": 205479.0, \"new_cases\": 8240.0, \"new_deaths\": 208.0, \"cnn_articles\": 9.0, \"fox_articles\": 37.0}, {\"date\": \"2020-03-06T00:00:00\", \"Tweets\": 4581032, \"total_cases\": 197347.0, \"new_cases\": 6116.0, \"new_deaths\": 204.0, \"cnn_articles\": 16.0, \"fox_articles\": 60.0}, {\"date\": \"2020-03-05T00:00:00\", \"Tweets\": 4323687, \"total_cases\": 191161.0, \"new_cases\": 4708.0, \"new_deaths\": 160.0, \"cnn_articles\": 12.0, \"fox_articles\": 50.0}, {\"date\": \"2020-03-04T00:00:00\", \"Tweets\": 4323670, \"total_cases\": 186440.0, \"new_cases\": 4624.0, \"new_deaths\": 168.0, \"cnn_articles\": 14.0, \"fox_articles\": 65.0}, {\"date\": \"2020-03-03T00:00:00\", \"Tweets\": 4342139, \"total_cases\": 181779.0, \"new_cases\": 3714.0, \"new_deaths\": 144.0, \"cnn_articles\": 7.0, \"fox_articles\": 49.0}, {\"date\": \"2020-03-02T00:00:00\", \"Tweets\": 4240721, \"total_cases\": 178298.0, \"new_cases\": 4138.0, \"new_deaths\": 134.0, \"cnn_articles\": 9.0, \"fox_articles\": 62.0}, {\"date\": \"2020-03-01T00:00:00\", \"Tweets\": 3632689, \"total_cases\": 174160.0, \"new_cases\": 3688.0, \"new_deaths\": 116.0, \"cnn_articles\": 9.0, \"fox_articles\": 24.0}, {\"date\": \"2020-02-29T00:00:00\", \"Tweets\": 4666121, \"total_cases\": 170472.0, \"new_cases\": 3718.0, \"new_deaths\": 128.0, \"cnn_articles\": 6.0, \"fox_articles\": 27.0}, {\"date\": \"2020-02-28T00:00:00\", \"Tweets\": 5685321, \"total_cases\": 166754.0, \"new_cases\": 2532.0, \"new_deaths\": 114.0, \"cnn_articles\": 6.0, \"fox_articles\": 43.0}, {\"date\": \"2020-02-27T00:00:00\", \"Tweets\": 4597412, \"total_cases\": 164222.0, \"new_cases\": 2228.0, \"new_deaths\": 76.0, \"cnn_articles\": 10.0, \"fox_articles\": 69.0}, {\"date\": \"2020-02-26T00:00:00\", \"Tweets\": 3989533, \"total_cases\": 161994.0, \"new_cases\": 1734.0, \"new_deaths\": 128.0, \"cnn_articles\": 9.0, \"fox_articles\": 52.0}, {\"date\": \"2020-02-25T00:00:00\", \"Tweets\": 2844369, \"total_cases\": 160260.0, \"new_cases\": 1586.0, \"new_deaths\": 158.0, \"cnn_articles\": 8.0, \"fox_articles\": 22.0}, {\"date\": \"2020-02-24T00:00:00\", \"Tweets\": 1643544, \"total_cases\": 158674.0, \"new_cases\": 1046.0, \"new_deaths\": 312.0, \"cnn_articles\": 6.0, \"fox_articles\": 19.0}, {\"date\": \"2020-02-23T00:00:00\", \"Tweets\": 1233511, \"total_cases\": 157628.0, \"new_cases\": 2018.0, \"new_deaths\": 208.0, \"cnn_articles\": 2.0, \"fox_articles\": 4.0}, {\"date\": \"2020-02-22T00:00:00\", \"Tweets\": 997638, \"total_cases\": 155610.0, \"new_cases\": 2170.0, \"new_deaths\": 224.0, \"cnn_articles\": 1.0, \"fox_articles\": 4.0}, {\"date\": \"2020-02-21T00:00:00\", \"Tweets\": 954321, \"total_cases\": 153440.0, \"new_cases\": 1992.0, \"new_deaths\": 238.0, \"cnn_articles\": 3.0, \"fox_articles\": 19.0}, {\"date\": \"2020-02-20T00:00:00\", \"Tweets\": 622349, \"total_cases\": 151448.0, \"new_cases\": 1064.0, \"new_deaths\": 232.0, \"cnn_articles\": 2.0, \"fox_articles\": 9.0}, {\"date\": \"2020-02-19T00:00:00\", \"Tweets\": 626237, \"total_cases\": 150384.0, \"new_cases\": 3728.0, \"new_deaths\": 278.0, \"cnn_articles\": 3.0, \"fox_articles\": 12.0}, {\"date\": \"2020-02-18T00:00:00\", \"Tweets\": 628043, \"total_cases\": 146656.0, \"new_cases\": 3990.0, \"new_deaths\": 196.0, \"cnn_articles\": 4.0, \"fox_articles\": 17.0}, {\"date\": \"2020-02-17T00:00:00\", \"Tweets\": 626732, \"total_cases\": 142666.0, \"new_cases\": 4134.0, \"new_deaths\": 212.0, \"cnn_articles\": 5.0, \"fox_articles\": 18.0}, {\"date\": \"2020-02-16T00:00:00\", \"Tweets\": 625127, \"total_cases\": 138532.0, \"new_cases\": 4324.0, \"new_deaths\": 284.0, \"cnn_articles\": 4.0, \"fox_articles\": 6.0}, {\"date\": \"2020-02-15T00:00:00\", \"Tweets\": 624555, \"total_cases\": 134208.0, \"new_cases\": 5120.0, \"new_deaths\": 288.0, \"cnn_articles\": 3.0, \"fox_articles\": 8.0}, {\"date\": \"2020-02-14T00:00:00\", \"Tweets\": 622722, \"total_cases\": 129088.0, \"new_cases\": 8430.0, \"new_deaths\": 26.0, \"cnn_articles\": 6.0, \"fox_articles\": 14.0}, {\"date\": \"2020-02-13T00:00:00\", \"Tweets\": 956877, \"total_cases\": 120658.0, \"new_cases\": 30302.0, \"new_deaths\": 510.0, \"cnn_articles\": 4.0, \"fox_articles\": 21.0}, {\"date\": \"2020-02-12T00:00:00\", \"Tweets\": 911098, \"total_cases\": 90356.0, \"new_cases\": 4144.0, \"new_deaths\": 194.0, \"cnn_articles\": 2.0, \"fox_articles\": 20.0}, {\"date\": \"2020-02-11T00:00:00\", \"Tweets\": 908627, \"total_cases\": 86212.0, \"new_cases\": 5124.0, \"new_deaths\": 216.0, \"cnn_articles\": 4.0, \"fox_articles\": 18.0}, {\"date\": \"2020-02-10T00:00:00\", \"Tweets\": 807654, \"total_cases\": 81088.0, \"new_cases\": 5984.0, \"new_deaths\": 194.0, \"cnn_articles\": 1.0, \"fox_articles\": 13.0}, {\"date\": \"2020-02-09T00:00:00\", \"Tweets\": 796739, \"total_cases\": 75104.0, \"new_cases\": 5236.0, \"new_deaths\": 178.0, \"cnn_articles\": 0.0, \"fox_articles\": 10.0}, {\"date\": \"2020-02-08T00:00:00\", \"Tweets\": 803453, \"total_cases\": 69868.0, \"new_cases\": 6884.0, \"new_deaths\": 172.0, \"cnn_articles\": 0.0, \"fox_articles\": 11.0}, {\"date\": \"2020-02-07T00:00:00\", \"Tweets\": 987563, \"total_cases\": 62984.0, \"new_cases\": 6436.0, \"new_deaths\": 146.0, \"cnn_articles\": 0.0, \"fox_articles\": 22.0}, {\"date\": \"2020-02-06T00:00:00\", \"Tweets\": 834673, \"total_cases\": 56548.0, \"new_cases\": 7502.0, \"new_deaths\": 144.0, \"cnn_articles\": 1.0, \"fox_articles\": 17.0}, {\"date\": \"2020-02-05T00:00:00\", \"Tweets\": 803587, \"total_cases\": 49046.0, \"new_cases\": 7816.0, \"new_deaths\": 132.0, \"cnn_articles\": 0.0, \"fox_articles\": 20.0}, {\"date\": \"2020-02-04T00:00:00\", \"Tweets\": 997862, \"total_cases\": 41230.0, \"new_cases\": 6486.0, \"new_deaths\": 130.0, \"cnn_articles\": 1.0, \"fox_articles\": 28.0}, {\"date\": \"2020-02-03T00:00:00\", \"Tweets\": 1000752, \"total_cases\": 34744.0, \"new_cases\": 5636.0, \"new_deaths\": 114.0, \"cnn_articles\": 0.0, \"fox_articles\": 20.0}, {\"date\": \"2020-02-02T00:00:00\", \"Tweets\": 1298476, \"total_cases\": 29108.0, \"new_cases\": 5216.0, \"new_deaths\": 92.0, \"cnn_articles\": 0.0, \"fox_articles\": 7.0}, {\"date\": \"2020-02-01T00:00:00\", \"Tweets\": 1287963, \"total_cases\": 23892.0, \"new_cases\": 4244.0, \"new_deaths\": 92.0, \"cnn_articles\": 0.0, \"fox_articles\": 7.0}, {\"date\": \"2020-01-31T00:00:00\", \"Tweets\": 1997635, \"total_cases\": 19648.0, \"new_cases\": 4002.0, \"new_deaths\": 86.0, \"cnn_articles\": 1.0, \"fox_articles\": 19.0}, {\"date\": \"2020-01-30T00:00:00\", \"Tweets\": 2010976, \"total_cases\": 15646.0, \"new_cases\": 3512.0, \"new_deaths\": 76.0, \"cnn_articles\": 1.0, \"fox_articles\": 32.0}, {\"date\": \"2020-01-29T00:00:00\", \"Tweets\": 1623497, \"total_cases\": 12134.0, \"new_cases\": 2960.0, \"new_deaths\": 52.0, \"cnn_articles\": 1.0, \"fox_articles\": 33.0}, {\"date\": \"2020-01-28T00:00:00\", \"Tweets\": 1497653, \"total_cases\": 9174.0, \"new_cases\": 3534.0, \"new_deaths\": 50.0, \"cnn_articles\": 0.0, \"fox_articles\": 22.0}, {\"date\": \"2020-01-27T00:00:00\", \"Tweets\": 1467598, \"total_cases\": 5640.0, \"new_cases\": 1594.0, \"new_deaths\": 50.0, \"cnn_articles\": 0.0, \"fox_articles\": 20.0}, {\"date\": \"2020-01-26T00:00:00\", \"Tweets\": 1678953, \"total_cases\": 4046.0, \"new_cases\": 1346.0, \"new_deaths\": 30.0, \"cnn_articles\": 0.0, \"fox_articles\": 9.0}, {\"date\": \"2020-01-25T00:00:00\", \"Tweets\": 1536784, \"total_cases\": 2700.0, \"new_cases\": 906.0, \"new_deaths\": 30.0, \"cnn_articles\": 0.0, \"fox_articles\": 5.0}, {\"date\": \"2020-01-24T00:00:00\", \"Tweets\": 1153245, \"total_cases\": 1794.0, \"new_cases\": 532.0, \"new_deaths\": 18.0, \"cnn_articles\": 0.0, \"fox_articles\": 10.0}, {\"date\": \"2020-01-23T00:00:00\", \"Tweets\": 905673, \"total_cases\": 1262.0, \"new_cases\": 194.0, \"new_deaths\": 0.0, \"cnn_articles\": 2.0, \"fox_articles\": 20.0}, {\"date\": \"2020-01-22T00:00:00\", \"Tweets\": 508623, \"total_cases\": 1068.0, \"new_cases\": 284.0, \"new_deaths\": 22.0, \"cnn_articles\": 2.0, \"fox_articles\": 10.0}, {\"date\": \"2020-01-21T00:00:00\", \"Tweets\": 259864, \"total_cases\": 784.0, \"new_cases\": 306.0, \"new_deaths\": 6.0, \"cnn_articles\": 0.0, \"fox_articles\": 6.0}, {\"date\": \"2020-01-20T00:00:00\", \"Tweets\": 100124, \"total_cases\": 478.0, \"new_cases\": 40.0, \"new_deaths\": 0.0, \"cnn_articles\": 0.0, \"fox_articles\": 3.0}, {\"date\": \"2020-01-19T00:00:00\", \"Tweets\": 20987, \"total_cases\": 438.0, \"new_cases\": 272.0, \"new_deaths\": 2.0, \"cnn_articles\": 0.0, \"fox_articles\": 0.0}, {\"date\": \"2020-01-18T00:00:00\", \"Tweets\": 23432, \"total_cases\": 166.0, \"new_cases\": 34.0, \"new_deaths\": 0.0, \"cnn_articles\": 0.0, \"fox_articles\": 0.0}, {\"date\": \"2020-01-17T00:00:00\", \"Tweets\": 22431, \"total_cases\": 132.0, \"new_cases\": 10.0, \"new_deaths\": 0.0, \"cnn_articles\": 1.0, \"fox_articles\": 2.0}, {\"date\": \"2020-01-16T00:00:00\", \"Tweets\": 22342, \"total_cases\": 122.0, \"new_cases\": 0.0, \"new_deaths\": 0.0, \"cnn_articles\": 0.0, \"fox_articles\": 1.0}, {\"date\": \"2020-01-15T00:00:00\", \"Tweets\": 10987, \"total_cases\": 122.0, \"new_cases\": 2.0, \"new_deaths\": 2.0, \"cnn_articles\": 0.0, \"fox_articles\": 1.0}, {\"date\": \"2020-01-14T00:00:00\", \"Tweets\": 10023, \"total_cases\": 120.0, \"new_cases\": 0.0, \"new_deaths\": 0.0, \"cnn_articles\": 0.0, \"fox_articles\": 0.0}, {\"date\": \"2020-01-13T00:00:00\", \"Tweets\": 16475, \"total_cases\": 120.0, \"new_cases\": 2.0, \"new_deaths\": 0.0, \"cnn_articles\": 0.0, \"fox_articles\": 1.0}, {\"date\": \"2020-01-12T00:00:00\", \"Tweets\": 10045, \"total_cases\": 118.0, \"new_cases\": 0.0, \"new_deaths\": 0.0, \"cnn_articles\": 0.0, \"fox_articles\": 0.0}, {\"date\": \"2020-01-11T00:00:00\", \"Tweets\": 2812, \"total_cases\": 118.0, \"new_cases\": 0.0, \"new_deaths\": 2.0, \"cnn_articles\": 0.0, \"fox_articles\": 0.0}, {\"date\": \"2020-01-10T00:00:00\", \"Tweets\": 2347, \"total_cases\": 118.0, \"new_cases\": 0.0, \"new_deaths\": 0.0, \"cnn_articles\": 0.0, \"fox_articles\": 0.0}, {\"date\": \"2020-01-09T00:00:00\", \"Tweets\": 3451, \"total_cases\": 118.0, \"new_cases\": 0.0, \"new_deaths\": 0.0, \"cnn_articles\": 0.0, \"fox_articles\": 1.0}, {\"date\": \"2020-01-08T00:00:00\", \"Tweets\": 421, \"total_cases\": 118.0, \"new_cases\": 0.0, \"new_deaths\": 0.0, \"cnn_articles\": 0.0, \"fox_articles\": 0.0}, {\"date\": \"2020-01-07T00:00:00\", \"Tweets\": 293, \"total_cases\": 118.0, \"new_cases\": 0.0, \"new_deaths\": 0.0, \"cnn_articles\": 0.0, \"fox_articles\": 0.0}, {\"date\": \"2020-01-06T00:00:00\", \"Tweets\": 86, \"total_cases\": 118.0, \"new_cases\": 0.0, \"new_deaths\": 0.0, \"cnn_articles\": 0.0, \"fox_articles\": 0.0}, {\"date\": \"2020-01-05T00:00:00\", \"Tweets\": 127, \"total_cases\": 118.0, \"new_cases\": 30.0, \"new_deaths\": 0.0, \"cnn_articles\": 0.0, \"fox_articles\": 0.0}, {\"date\": \"2020-01-04T00:00:00\", \"Tweets\": 172, \"total_cases\": 88.0, \"new_cases\": 0.0, \"new_deaths\": 0.0, \"cnn_articles\": 0.0, \"fox_articles\": 0.0}, {\"date\": \"2020-01-03T00:00:00\", \"Tweets\": 94, \"total_cases\": 88.0, \"new_cases\": 34.0, \"new_deaths\": 0.0, \"cnn_articles\": 0.0, \"fox_articles\": 0.0}, {\"date\": \"2020-01-02T00:00:00\", \"Tweets\": 41, \"total_cases\": 54.0, \"new_cases\": 0.0, \"new_deaths\": 0.0, \"cnn_articles\": 0.0, \"fox_articles\": 0.0}, {\"date\": \"2020-01-01T00:00:00\", \"Tweets\": 63, \"total_cases\": 54.0, \"new_cases\": 0.0, \"new_deaths\": 0.0, \"cnn_articles\": 0.0, \"fox_articles\": 0.0}]}}, {\"mode\": \"vega-lite\"});\n",
       "</script>"
      ],
      "text/plain": [
       "alt.LayerChart(...)"
      ]
     },
     "execution_count": 9,
     "metadata": {},
     "output_type": "execute_result"
    }
   ],
   "source": [
    "columns = ['new_cases', 'new_deaths']\n",
    "\n",
    "select_box = alt.binding_select(options=columns, name='Pandemic data')\n",
    "sel = alt.selection_single(fields=['column'], bind=select_box, init={'column': 'new_cases'})\n",
    "\n",
    "base = alt.Chart(merged_3).encode(\n",
    "    alt.X('date:T', axis=alt.Axis(title=None))\n",
    ").properties(\n",
    "    width=500,\n",
    "    height=200\n",
    ")\n",
    "\n",
    "\n",
    "line_cases = base.transform_fold(\n",
    "    columns,\n",
    "    as_=['column', 'value']\n",
    ").transform_filter(\n",
    "    sel  \n",
    ").mark_line( interpolate='monotone', stroke='#eb34eb').encode(\n",
    "    alt.Y('value:Q',\n",
    "          axis=alt.Axis(title=\"value\", titleColor='#eb34eb'))\n",
    ").add_selection(\n",
    "    sel\n",
    ")\n",
    "\n",
    "line_tweets = base.mark_line(stroke='#1da1f2', interpolate='monotone').encode(\n",
    "    alt.Y('Tweets',\n",
    "          axis=alt.Axis(title='Number of tweets', titleColor='#1da1f2'))\n",
    ")\n",
    "\n",
    "alt.layer(line_tweets, line_cases).resolve_scale(\n",
    "    y = 'independent'\n",
    ")"
   ]
  },
  {
   "cell_type": "markdown",
   "metadata": {
    "id": "Uj1o1urnLJ4y"
   },
   "source": [
    "# Compare tweet numbers to news articles on CNN and Fox News"
   ]
  },
  {
   "cell_type": "code",
   "execution_count": 10,
   "metadata": {
    "colab": {
     "base_uri": "https://localhost:8080/",
     "height": 275
    },
    "id": "6x3F76Y9LJ4z",
    "outputId": "fb0b6fa2-3419-41df-8d66-530e5eebbf74"
   },
   "outputs": [
    {
     "data": {
      "text/html": [
       "\n",
       "<div id=\"altair-viz-1fbf4bfe5255455d8bde64f97f17a46d\"></div>\n",
       "<script type=\"text/javascript\">\n",
       "  (function(spec, embedOpt){\n",
       "    let outputDiv = document.currentScript.previousElementSibling;\n",
       "    if (outputDiv.id !== \"altair-viz-1fbf4bfe5255455d8bde64f97f17a46d\") {\n",
       "      outputDiv = document.getElementById(\"altair-viz-1fbf4bfe5255455d8bde64f97f17a46d\");\n",
       "    }\n",
       "    const paths = {\n",
       "      \"vega\": \"https://cdn.jsdelivr.net/npm//vega@5?noext\",\n",
       "      \"vega-lib\": \"https://cdn.jsdelivr.net/npm//vega-lib?noext\",\n",
       "      \"vega-lite\": \"https://cdn.jsdelivr.net/npm//vega-lite@4.8.1?noext\",\n",
       "      \"vega-embed\": \"https://cdn.jsdelivr.net/npm//vega-embed@6?noext\",\n",
       "    };\n",
       "\n",
       "    function loadScript(lib) {\n",
       "      return new Promise(function(resolve, reject) {\n",
       "        var s = document.createElement('script');\n",
       "        s.src = paths[lib];\n",
       "        s.async = true;\n",
       "        s.onload = () => resolve(paths[lib]);\n",
       "        s.onerror = () => reject(`Error loading script: ${paths[lib]}`);\n",
       "        document.getElementsByTagName(\"head\")[0].appendChild(s);\n",
       "      });\n",
       "    }\n",
       "\n",
       "    function showError(err) {\n",
       "      outputDiv.innerHTML = `<div class=\"error\" style=\"color:red;\">${err}</div>`;\n",
       "      throw err;\n",
       "    }\n",
       "\n",
       "    function displayChart(vegaEmbed) {\n",
       "      vegaEmbed(outputDiv, spec, embedOpt)\n",
       "        .catch(err => showError(`Javascript Error: ${err.message}<br>This usually means there's a typo in your chart specification. See the javascript console for the full traceback.`));\n",
       "    }\n",
       "\n",
       "    if(typeof define === \"function\" && define.amd) {\n",
       "      requirejs.config({paths});\n",
       "      require([\"vega-embed\"], displayChart, err => showError(`Error loading script: ${err.message}`));\n",
       "    } else if (typeof vegaEmbed === \"function\") {\n",
       "      displayChart(vegaEmbed);\n",
       "    } else {\n",
       "      loadScript(\"vega\")\n",
       "        .then(() => loadScript(\"vega-lite\"))\n",
       "        .then(() => loadScript(\"vega-embed\"))\n",
       "        .catch(showError)\n",
       "        .then(() => displayChart(vegaEmbed));\n",
       "    }\n",
       "  })({\"config\": {\"view\": {\"continuousWidth\": 400, \"continuousHeight\": 300}}, \"layer\": [{\"mark\": {\"type\": \"line\", \"interpolate\": \"monotone\", \"stroke\": \"#eb34eb\"}, \"encoding\": {\"x\": {\"type\": \"temporal\", \"axis\": {\"title\": null}, \"field\": \"date\"}, \"y\": {\"type\": \"quantitative\", \"axis\": {\"title\": \"value\", \"titleColor\": \"#eb34eb\"}, \"field\": \"value\"}}, \"height\": 200, \"selection\": {\"selector002\": {\"type\": \"single\", \"fields\": [\"column\"], \"bind\": {\"input\": \"select\", \"options\": [\"fox_articles\", \"cnn_articles\"], \"name\": \"News source\"}, \"init\": {\"column\": \"cnn_articles\"}}}, \"transform\": [{\"fold\": [\"fox_articles\", \"cnn_articles\"], \"as\": [\"column\", \"value\"]}, {\"filter\": {\"selection\": \"selector002\"}}], \"width\": 500}, {\"mark\": {\"type\": \"line\", \"interpolate\": \"monotone\", \"stroke\": \"#1da1f2\"}, \"encoding\": {\"x\": {\"type\": \"temporal\", \"axis\": {\"title\": null}, \"field\": \"date\"}, \"y\": {\"type\": \"quantitative\", \"axis\": {\"title\": \"Number of tweets\", \"titleColor\": \"#1da1f2\"}, \"field\": \"Tweets\"}}, \"height\": 200, \"width\": 500}], \"data\": {\"name\": \"data-d8b54515c5c785b307ffeaa1524073e9\"}, \"resolve\": {\"scale\": {\"y\": \"independent\"}}, \"$schema\": \"https://vega.github.io/schema/vega-lite/v4.8.1.json\", \"datasets\": {\"data-d8b54515c5c785b307ffeaa1524073e9\": [{\"date\": \"2020-04-07T00:00:00\", \"Tweets\": 7877346, \"total_cases\": 2687108.0, \"new_cases\": 145976.0, \"new_deaths\": 10680.0, \"cnn_articles\": 77.0, \"fox_articles\": 230.0}, {\"date\": \"2020-04-06T00:00:00\", \"Tweets\": 8153966, \"total_cases\": 2541132.0, \"new_cases\": 132552.0, \"new_deaths\": 9512.0, \"cnn_articles\": 74.0, \"fox_articles\": 169.0}, {\"date\": \"2020-04-05T00:00:00\", \"Tweets\": 7421877, \"total_cases\": 2408425.0, \"new_cases\": 170486.0, \"new_deaths\": 12616.0, \"cnn_articles\": 48.0, \"fox_articles\": 96.0}, {\"date\": \"2020-04-04T00:00:00\", \"Tweets\": 7928225, \"total_cases\": 2238094.0, \"new_cases\": 163660.0, \"new_deaths\": 13552.0, \"cnn_articles\": 36.0, \"fox_articles\": 120.0}, {\"date\": \"2020-04-03T00:00:00\", \"Tweets\": 9357113, \"total_cases\": 2074434.0, \"new_cases\": 154914.0, \"new_deaths\": 10018.0, \"cnn_articles\": 80.0, \"fox_articles\": 235.0}, {\"date\": \"2020-04-02T00:00:00\", \"Tweets\": 9767918, \"total_cases\": 1919520.0, \"new_cases\": 154946.0, \"new_deaths\": 10020.0, \"cnn_articles\": 85.0, \"fox_articles\": 260.0}, {\"date\": \"2020-04-01T00:00:00\", \"Tweets\": 10402981, \"total_cases\": 1764569.0, \"new_cases\": 149348.0, \"new_deaths\": 9348.0, \"cnn_articles\": 71.0, \"fox_articles\": 260.0}, {\"date\": \"2020-03-31T00:00:00\", \"Tweets\": 10442432, \"total_cases\": 1615134.0, \"new_cases\": 128976.0, \"new_deaths\": 7972.0, \"cnn_articles\": 75.0, \"fox_articles\": 144.0}, {\"date\": \"2020-03-30T00:00:00\", \"Tweets\": 10125714, \"total_cases\": 1486250.0, \"new_cases\": 114726.0, \"new_deaths\": 6456.0, \"cnn_articles\": 60.0, \"fox_articles\": 204.0}, {\"date\": \"2020-03-29T00:00:00\", \"Tweets\": 9333426, \"total_cases\": 1371524.0, \"new_cases\": 125628.0, \"new_deaths\": 7174.0, \"cnn_articles\": 33.0, \"fox_articles\": 108.0}, {\"date\": \"2020-03-28T00:00:00\", \"Tweets\": 10434671, \"total_cases\": 1245896.0, \"new_cases\": 130188.0, \"new_deaths\": 6982.0, \"cnn_articles\": 29.0, \"fox_articles\": 84.0}, {\"date\": \"2020-03-27T00:00:00\", \"Tweets\": 12209011, \"total_cases\": 1115708.0, \"new_cases\": 122032.0, \"new_deaths\": 5610.0, \"cnn_articles\": 61.0, \"fox_articles\": 210.0}, {\"date\": \"2020-03-26T00:00:00\", \"Tweets\": 12236719, \"total_cases\": 993676.0, \"new_cases\": 107500.0, \"new_deaths\": 5288.0, \"cnn_articles\": 81.0, \"fox_articles\": 256.0}, {\"date\": \"2020-03-25T00:00:00\", \"Tweets\": 13000269, \"total_cases\": 886169.0, \"new_cases\": 84772.0, \"new_deaths\": 4610.0, \"cnn_articles\": 61.0, \"fox_articles\": 260.0}, {\"date\": \"2020-03-24T00:00:00\", \"Tweets\": 14445841, \"total_cases\": 801402.0, \"new_cases\": 88972.0, \"new_deaths\": 3708.0, \"cnn_articles\": 69.0, \"fox_articles\": 253.0}, {\"date\": \"2020-03-23T00:00:00\", \"Tweets\": 15446246, \"total_cases\": 712423.0, \"new_cases\": 68572.0, \"new_deaths\": 3376.0, \"cnn_articles\": 54.0, \"fox_articles\": 231.0}, {\"date\": \"2020-03-22T00:00:00\", \"Tweets\": 14392561, \"total_cases\": 643851.0, \"new_cases\": 68412.0, \"new_deaths\": 3434.0, \"cnn_articles\": 33.0, \"fox_articles\": 101.0}, {\"date\": \"2020-03-21T00:00:00\", \"Tweets\": 12861351, \"total_cases\": 575439.0, \"new_cases\": 63818.0, \"new_deaths\": 2770.0, \"cnn_articles\": 30.0, \"fox_articles\": 75.0}, {\"date\": \"2020-03-20T00:00:00\", \"Tweets\": 15200259, \"total_cases\": 511626.0, \"new_cases\": 62188.0, \"new_deaths\": 2148.0, \"cnn_articles\": 54.0, \"fox_articles\": 186.0}, {\"date\": \"2020-03-19T00:00:00\", \"Tweets\": 16582131, \"total_cases\": 449434.0, \"new_cases\": 40428.0, \"new_deaths\": 1916.0, \"cnn_articles\": 67.0, \"fox_articles\": 246.0}, {\"date\": \"2020-03-18T00:00:00\", \"Tweets\": 16561524, \"total_cases\": 409006.0, \"new_cases\": 34012.0, \"new_deaths\": 1624.0, \"cnn_articles\": 57.0, \"fox_articles\": 241.0}, {\"date\": \"2020-03-17T00:00:00\", \"Tweets\": 17417142, \"total_cases\": 374982.0, \"new_cases\": 28402.0, \"new_deaths\": 1212.0, \"cnn_articles\": 57.0, \"fox_articles\": 247.0}, {\"date\": \"2020-03-16T00:00:00\", \"Tweets\": 17227182, \"total_cases\": 346564.0, \"new_cases\": 24910.0, \"new_deaths\": 1500.0, \"cnn_articles\": 57.0, \"fox_articles\": 204.0}, {\"date\": \"2020-03-15T00:00:00\", \"Tweets\": 16438760, \"total_cases\": 321583.0, \"new_cases\": 24330.0, \"new_deaths\": 734.0, \"cnn_articles\": 17.0, \"fox_articles\": 91.0}, {\"date\": \"2020-03-14T00:00:00\", \"Tweets\": 16823148, \"total_cases\": 297129.0, \"new_cases\": 20808.0, \"new_deaths\": 884.0, \"cnn_articles\": 25.0, \"fox_articles\": 49.0}, {\"date\": \"2020-03-13T00:00:00\", \"Tweets\": 19802671, \"total_cases\": 276054.0, \"new_cases\": 18902.0, \"new_deaths\": 702.0, \"cnn_articles\": 44.0, \"fox_articles\": 159.0}, {\"date\": \"2020-03-12T00:00:00\", \"Tweets\": 18799722, \"total_cases\": 257471.0, \"new_cases\": 15796.0, \"new_deaths\": 662.0, \"cnn_articles\": 43.0, \"fox_articles\": 185.0}, {\"date\": \"2020-03-11T00:00:00\", \"Tweets\": 9923317, \"total_cases\": 241730.0, \"new_cases\": 10214.0, \"new_deaths\": 544.0, \"cnn_articles\": 24.0, \"fox_articles\": 107.0}, {\"date\": \"2020-03-10T00:00:00\", \"Tweets\": 8284672, \"total_cases\": 231310.0, \"new_cases\": 9632.0, \"new_deaths\": 418.0, \"cnn_articles\": 21.0, \"fox_articles\": 104.0}, {\"date\": \"2020-03-09T00:00:00\", \"Tweets\": 6386122, \"total_cases\": 221758.0, \"new_cases\": 8354.0, \"new_deaths\": 456.0, \"cnn_articles\": 24.0, \"fox_articles\": 89.0}, {\"date\": \"2020-03-08T00:00:00\", \"Tweets\": 4533476, \"total_cases\": 213417.0, \"new_cases\": 7954.0, \"new_deaths\": 194.0, \"cnn_articles\": 7.0, \"fox_articles\": 39.0}, {\"date\": \"2020-03-07T00:00:00\", \"Tweets\": 4632239, \"total_cases\": 205479.0, \"new_cases\": 8240.0, \"new_deaths\": 208.0, \"cnn_articles\": 9.0, \"fox_articles\": 37.0}, {\"date\": \"2020-03-06T00:00:00\", \"Tweets\": 4581032, \"total_cases\": 197347.0, \"new_cases\": 6116.0, \"new_deaths\": 204.0, \"cnn_articles\": 16.0, \"fox_articles\": 60.0}, {\"date\": \"2020-03-05T00:00:00\", \"Tweets\": 4323687, \"total_cases\": 191161.0, \"new_cases\": 4708.0, \"new_deaths\": 160.0, \"cnn_articles\": 12.0, \"fox_articles\": 50.0}, {\"date\": \"2020-03-04T00:00:00\", \"Tweets\": 4323670, \"total_cases\": 186440.0, \"new_cases\": 4624.0, \"new_deaths\": 168.0, \"cnn_articles\": 14.0, \"fox_articles\": 65.0}, {\"date\": \"2020-03-03T00:00:00\", \"Tweets\": 4342139, \"total_cases\": 181779.0, \"new_cases\": 3714.0, \"new_deaths\": 144.0, \"cnn_articles\": 7.0, \"fox_articles\": 49.0}, {\"date\": \"2020-03-02T00:00:00\", \"Tweets\": 4240721, \"total_cases\": 178298.0, \"new_cases\": 4138.0, \"new_deaths\": 134.0, \"cnn_articles\": 9.0, \"fox_articles\": 62.0}, {\"date\": \"2020-03-01T00:00:00\", \"Tweets\": 3632689, \"total_cases\": 174160.0, \"new_cases\": 3688.0, \"new_deaths\": 116.0, \"cnn_articles\": 9.0, \"fox_articles\": 24.0}, {\"date\": \"2020-02-29T00:00:00\", \"Tweets\": 4666121, \"total_cases\": 170472.0, \"new_cases\": 3718.0, \"new_deaths\": 128.0, \"cnn_articles\": 6.0, \"fox_articles\": 27.0}, {\"date\": \"2020-02-28T00:00:00\", \"Tweets\": 5685321, \"total_cases\": 166754.0, \"new_cases\": 2532.0, \"new_deaths\": 114.0, \"cnn_articles\": 6.0, \"fox_articles\": 43.0}, {\"date\": \"2020-02-27T00:00:00\", \"Tweets\": 4597412, \"total_cases\": 164222.0, \"new_cases\": 2228.0, \"new_deaths\": 76.0, \"cnn_articles\": 10.0, \"fox_articles\": 69.0}, {\"date\": \"2020-02-26T00:00:00\", \"Tweets\": 3989533, \"total_cases\": 161994.0, \"new_cases\": 1734.0, \"new_deaths\": 128.0, \"cnn_articles\": 9.0, \"fox_articles\": 52.0}, {\"date\": \"2020-02-25T00:00:00\", \"Tweets\": 2844369, \"total_cases\": 160260.0, \"new_cases\": 1586.0, \"new_deaths\": 158.0, \"cnn_articles\": 8.0, \"fox_articles\": 22.0}, {\"date\": \"2020-02-24T00:00:00\", \"Tweets\": 1643544, \"total_cases\": 158674.0, \"new_cases\": 1046.0, \"new_deaths\": 312.0, \"cnn_articles\": 6.0, \"fox_articles\": 19.0}, {\"date\": \"2020-02-23T00:00:00\", \"Tweets\": 1233511, \"total_cases\": 157628.0, \"new_cases\": 2018.0, \"new_deaths\": 208.0, \"cnn_articles\": 2.0, \"fox_articles\": 4.0}, {\"date\": \"2020-02-22T00:00:00\", \"Tweets\": 997638, \"total_cases\": 155610.0, \"new_cases\": 2170.0, \"new_deaths\": 224.0, \"cnn_articles\": 1.0, \"fox_articles\": 4.0}, {\"date\": \"2020-02-21T00:00:00\", \"Tweets\": 954321, \"total_cases\": 153440.0, \"new_cases\": 1992.0, \"new_deaths\": 238.0, \"cnn_articles\": 3.0, \"fox_articles\": 19.0}, {\"date\": \"2020-02-20T00:00:00\", \"Tweets\": 622349, \"total_cases\": 151448.0, \"new_cases\": 1064.0, \"new_deaths\": 232.0, \"cnn_articles\": 2.0, \"fox_articles\": 9.0}, {\"date\": \"2020-02-19T00:00:00\", \"Tweets\": 626237, \"total_cases\": 150384.0, \"new_cases\": 3728.0, \"new_deaths\": 278.0, \"cnn_articles\": 3.0, \"fox_articles\": 12.0}, {\"date\": \"2020-02-18T00:00:00\", \"Tweets\": 628043, \"total_cases\": 146656.0, \"new_cases\": 3990.0, \"new_deaths\": 196.0, \"cnn_articles\": 4.0, \"fox_articles\": 17.0}, {\"date\": \"2020-02-17T00:00:00\", \"Tweets\": 626732, \"total_cases\": 142666.0, \"new_cases\": 4134.0, \"new_deaths\": 212.0, \"cnn_articles\": 5.0, \"fox_articles\": 18.0}, {\"date\": \"2020-02-16T00:00:00\", \"Tweets\": 625127, \"total_cases\": 138532.0, \"new_cases\": 4324.0, \"new_deaths\": 284.0, \"cnn_articles\": 4.0, \"fox_articles\": 6.0}, {\"date\": \"2020-02-15T00:00:00\", \"Tweets\": 624555, \"total_cases\": 134208.0, \"new_cases\": 5120.0, \"new_deaths\": 288.0, \"cnn_articles\": 3.0, \"fox_articles\": 8.0}, {\"date\": \"2020-02-14T00:00:00\", \"Tweets\": 622722, \"total_cases\": 129088.0, \"new_cases\": 8430.0, \"new_deaths\": 26.0, \"cnn_articles\": 6.0, \"fox_articles\": 14.0}, {\"date\": \"2020-02-13T00:00:00\", \"Tweets\": 956877, \"total_cases\": 120658.0, \"new_cases\": 30302.0, \"new_deaths\": 510.0, \"cnn_articles\": 4.0, \"fox_articles\": 21.0}, {\"date\": \"2020-02-12T00:00:00\", \"Tweets\": 911098, \"total_cases\": 90356.0, \"new_cases\": 4144.0, \"new_deaths\": 194.0, \"cnn_articles\": 2.0, \"fox_articles\": 20.0}, {\"date\": \"2020-02-11T00:00:00\", \"Tweets\": 908627, \"total_cases\": 86212.0, \"new_cases\": 5124.0, \"new_deaths\": 216.0, \"cnn_articles\": 4.0, \"fox_articles\": 18.0}, {\"date\": \"2020-02-10T00:00:00\", \"Tweets\": 807654, \"total_cases\": 81088.0, \"new_cases\": 5984.0, \"new_deaths\": 194.0, \"cnn_articles\": 1.0, \"fox_articles\": 13.0}, {\"date\": \"2020-02-09T00:00:00\", \"Tweets\": 796739, \"total_cases\": 75104.0, \"new_cases\": 5236.0, \"new_deaths\": 178.0, \"cnn_articles\": 0.0, \"fox_articles\": 10.0}, {\"date\": \"2020-02-08T00:00:00\", \"Tweets\": 803453, \"total_cases\": 69868.0, \"new_cases\": 6884.0, \"new_deaths\": 172.0, \"cnn_articles\": 0.0, \"fox_articles\": 11.0}, {\"date\": \"2020-02-07T00:00:00\", \"Tweets\": 987563, \"total_cases\": 62984.0, \"new_cases\": 6436.0, \"new_deaths\": 146.0, \"cnn_articles\": 0.0, \"fox_articles\": 22.0}, {\"date\": \"2020-02-06T00:00:00\", \"Tweets\": 834673, \"total_cases\": 56548.0, \"new_cases\": 7502.0, \"new_deaths\": 144.0, \"cnn_articles\": 1.0, \"fox_articles\": 17.0}, {\"date\": \"2020-02-05T00:00:00\", \"Tweets\": 803587, \"total_cases\": 49046.0, \"new_cases\": 7816.0, \"new_deaths\": 132.0, \"cnn_articles\": 0.0, \"fox_articles\": 20.0}, {\"date\": \"2020-02-04T00:00:00\", \"Tweets\": 997862, \"total_cases\": 41230.0, \"new_cases\": 6486.0, \"new_deaths\": 130.0, \"cnn_articles\": 1.0, \"fox_articles\": 28.0}, {\"date\": \"2020-02-03T00:00:00\", \"Tweets\": 1000752, \"total_cases\": 34744.0, \"new_cases\": 5636.0, \"new_deaths\": 114.0, \"cnn_articles\": 0.0, \"fox_articles\": 20.0}, {\"date\": \"2020-02-02T00:00:00\", \"Tweets\": 1298476, \"total_cases\": 29108.0, \"new_cases\": 5216.0, \"new_deaths\": 92.0, \"cnn_articles\": 0.0, \"fox_articles\": 7.0}, {\"date\": \"2020-02-01T00:00:00\", \"Tweets\": 1287963, \"total_cases\": 23892.0, \"new_cases\": 4244.0, \"new_deaths\": 92.0, \"cnn_articles\": 0.0, \"fox_articles\": 7.0}, {\"date\": \"2020-01-31T00:00:00\", \"Tweets\": 1997635, \"total_cases\": 19648.0, \"new_cases\": 4002.0, \"new_deaths\": 86.0, \"cnn_articles\": 1.0, \"fox_articles\": 19.0}, {\"date\": \"2020-01-30T00:00:00\", \"Tweets\": 2010976, \"total_cases\": 15646.0, \"new_cases\": 3512.0, \"new_deaths\": 76.0, \"cnn_articles\": 1.0, \"fox_articles\": 32.0}, {\"date\": \"2020-01-29T00:00:00\", \"Tweets\": 1623497, \"total_cases\": 12134.0, \"new_cases\": 2960.0, \"new_deaths\": 52.0, \"cnn_articles\": 1.0, \"fox_articles\": 33.0}, {\"date\": \"2020-01-28T00:00:00\", \"Tweets\": 1497653, \"total_cases\": 9174.0, \"new_cases\": 3534.0, \"new_deaths\": 50.0, \"cnn_articles\": 0.0, \"fox_articles\": 22.0}, {\"date\": \"2020-01-27T00:00:00\", \"Tweets\": 1467598, \"total_cases\": 5640.0, \"new_cases\": 1594.0, \"new_deaths\": 50.0, \"cnn_articles\": 0.0, \"fox_articles\": 20.0}, {\"date\": \"2020-01-26T00:00:00\", \"Tweets\": 1678953, \"total_cases\": 4046.0, \"new_cases\": 1346.0, \"new_deaths\": 30.0, \"cnn_articles\": 0.0, \"fox_articles\": 9.0}, {\"date\": \"2020-01-25T00:00:00\", \"Tweets\": 1536784, \"total_cases\": 2700.0, \"new_cases\": 906.0, \"new_deaths\": 30.0, \"cnn_articles\": 0.0, \"fox_articles\": 5.0}, {\"date\": \"2020-01-24T00:00:00\", \"Tweets\": 1153245, \"total_cases\": 1794.0, \"new_cases\": 532.0, \"new_deaths\": 18.0, \"cnn_articles\": 0.0, \"fox_articles\": 10.0}, {\"date\": \"2020-01-23T00:00:00\", \"Tweets\": 905673, \"total_cases\": 1262.0, \"new_cases\": 194.0, \"new_deaths\": 0.0, \"cnn_articles\": 2.0, \"fox_articles\": 20.0}, {\"date\": \"2020-01-22T00:00:00\", \"Tweets\": 508623, \"total_cases\": 1068.0, \"new_cases\": 284.0, \"new_deaths\": 22.0, \"cnn_articles\": 2.0, \"fox_articles\": 10.0}, {\"date\": \"2020-01-21T00:00:00\", \"Tweets\": 259864, \"total_cases\": 784.0, \"new_cases\": 306.0, \"new_deaths\": 6.0, \"cnn_articles\": 0.0, \"fox_articles\": 6.0}, {\"date\": \"2020-01-20T00:00:00\", \"Tweets\": 100124, \"total_cases\": 478.0, \"new_cases\": 40.0, \"new_deaths\": 0.0, \"cnn_articles\": 0.0, \"fox_articles\": 3.0}, {\"date\": \"2020-01-19T00:00:00\", \"Tweets\": 20987, \"total_cases\": 438.0, \"new_cases\": 272.0, \"new_deaths\": 2.0, \"cnn_articles\": 0.0, \"fox_articles\": 0.0}, {\"date\": \"2020-01-18T00:00:00\", \"Tweets\": 23432, \"total_cases\": 166.0, \"new_cases\": 34.0, \"new_deaths\": 0.0, \"cnn_articles\": 0.0, \"fox_articles\": 0.0}, {\"date\": \"2020-01-17T00:00:00\", \"Tweets\": 22431, \"total_cases\": 132.0, \"new_cases\": 10.0, \"new_deaths\": 0.0, \"cnn_articles\": 1.0, \"fox_articles\": 2.0}, {\"date\": \"2020-01-16T00:00:00\", \"Tweets\": 22342, \"total_cases\": 122.0, \"new_cases\": 0.0, \"new_deaths\": 0.0, \"cnn_articles\": 0.0, \"fox_articles\": 1.0}, {\"date\": \"2020-01-15T00:00:00\", \"Tweets\": 10987, \"total_cases\": 122.0, \"new_cases\": 2.0, \"new_deaths\": 2.0, \"cnn_articles\": 0.0, \"fox_articles\": 1.0}, {\"date\": \"2020-01-14T00:00:00\", \"Tweets\": 10023, \"total_cases\": 120.0, \"new_cases\": 0.0, \"new_deaths\": 0.0, \"cnn_articles\": 0.0, \"fox_articles\": 0.0}, {\"date\": \"2020-01-13T00:00:00\", \"Tweets\": 16475, \"total_cases\": 120.0, \"new_cases\": 2.0, \"new_deaths\": 0.0, \"cnn_articles\": 0.0, \"fox_articles\": 1.0}, {\"date\": \"2020-01-12T00:00:00\", \"Tweets\": 10045, \"total_cases\": 118.0, \"new_cases\": 0.0, \"new_deaths\": 0.0, \"cnn_articles\": 0.0, \"fox_articles\": 0.0}, {\"date\": \"2020-01-11T00:00:00\", \"Tweets\": 2812, \"total_cases\": 118.0, \"new_cases\": 0.0, \"new_deaths\": 2.0, \"cnn_articles\": 0.0, \"fox_articles\": 0.0}, {\"date\": \"2020-01-10T00:00:00\", \"Tweets\": 2347, \"total_cases\": 118.0, \"new_cases\": 0.0, \"new_deaths\": 0.0, \"cnn_articles\": 0.0, \"fox_articles\": 0.0}, {\"date\": \"2020-01-09T00:00:00\", \"Tweets\": 3451, \"total_cases\": 118.0, \"new_cases\": 0.0, \"new_deaths\": 0.0, \"cnn_articles\": 0.0, \"fox_articles\": 1.0}, {\"date\": \"2020-01-08T00:00:00\", \"Tweets\": 421, \"total_cases\": 118.0, \"new_cases\": 0.0, \"new_deaths\": 0.0, \"cnn_articles\": 0.0, \"fox_articles\": 0.0}, {\"date\": \"2020-01-07T00:00:00\", \"Tweets\": 293, \"total_cases\": 118.0, \"new_cases\": 0.0, \"new_deaths\": 0.0, \"cnn_articles\": 0.0, \"fox_articles\": 0.0}, {\"date\": \"2020-01-06T00:00:00\", \"Tweets\": 86, \"total_cases\": 118.0, \"new_cases\": 0.0, \"new_deaths\": 0.0, \"cnn_articles\": 0.0, \"fox_articles\": 0.0}, {\"date\": \"2020-01-05T00:00:00\", \"Tweets\": 127, \"total_cases\": 118.0, \"new_cases\": 30.0, \"new_deaths\": 0.0, \"cnn_articles\": 0.0, \"fox_articles\": 0.0}, {\"date\": \"2020-01-04T00:00:00\", \"Tweets\": 172, \"total_cases\": 88.0, \"new_cases\": 0.0, \"new_deaths\": 0.0, \"cnn_articles\": 0.0, \"fox_articles\": 0.0}, {\"date\": \"2020-01-03T00:00:00\", \"Tweets\": 94, \"total_cases\": 88.0, \"new_cases\": 34.0, \"new_deaths\": 0.0, \"cnn_articles\": 0.0, \"fox_articles\": 0.0}, {\"date\": \"2020-01-02T00:00:00\", \"Tweets\": 41, \"total_cases\": 54.0, \"new_cases\": 0.0, \"new_deaths\": 0.0, \"cnn_articles\": 0.0, \"fox_articles\": 0.0}, {\"date\": \"2020-01-01T00:00:00\", \"Tweets\": 63, \"total_cases\": 54.0, \"new_cases\": 0.0, \"new_deaths\": 0.0, \"cnn_articles\": 0.0, \"fox_articles\": 0.0}]}}, {\"mode\": \"vega-lite\"});\n",
       "</script>"
      ],
      "text/plain": [
       "alt.LayerChart(...)"
      ]
     },
     "execution_count": 10,
     "metadata": {},
     "output_type": "execute_result"
    }
   ],
   "source": [
    "columns = ['fox_articles', 'cnn_articles']\n",
    "\n",
    "select_box = alt.binding_select(options=columns, name='News source')\n",
    "sel = alt.selection_single(fields=['column'], bind=select_box, init={'column': 'cnn_articles'})\n",
    "\n",
    "base = alt.Chart(merged_3).encode(\n",
    "    alt.X('date:T', axis=alt.Axis(title=None))\n",
    ").properties(\n",
    "    width=500,\n",
    "    height=200\n",
    ")\n",
    "\n",
    "line_articles = base.transform_fold(\n",
    "    columns,\n",
    "    as_=['column', 'value']\n",
    ").transform_filter(\n",
    "    sel\n",
    ").mark_line( interpolate='monotone', stroke='#eb34eb').encode(\n",
    "    alt.Y('value:Q',\n",
    "          axis=alt.Axis(title=\"value\", titleColor='#eb34eb'))\n",
    ").add_selection(\n",
    "    sel\n",
    ")\n",
    "\n",
    "line_tweets = base.mark_line(stroke='#1da1f2', interpolate='monotone').encode(\n",
    "    alt.Y('Tweets',\n",
    "          axis=alt.Axis(title='Number of tweets', titleColor='#1da1f2'))\n",
    ")\n",
    "\n",
    "alt.layer(line_articles, line_tweets).resolve_scale(\n",
    "    y = 'independent'\n",
    ")"
   ]
  },
  {
   "cell_type": "markdown",
   "metadata": {
    "id": "AxBIXU5NLJ47"
   },
   "source": [
    "# Load downloaded twitter raw data from Github"
   ]
  },
  {
   "cell_type": "code",
   "execution_count": 11,
   "metadata": {
    "id": "Nm7qoGToLJ49"
   },
   "outputs": [],
   "source": [
    "import pandas as pd\n",
    "import os\n",
    "\n",
    "#path = r'C:/Users/rapha/DATA_VIS/twitter_project/data/raw_data/'\n",
    "onlinepath = \"https://raw.githubusercontent.com/xxz-jessica/COVID-19_UCD_Challenge/master/Tweet_Raw_Data/raw_data/\"\n",
    "#files = os.listdir(path)\n",
    "\n",
    "### filelist generated through download\n",
    "files_gen = ['covid2019_0120.csv',\n",
    " 'covid2019_0121.csv',\n",
    " 'covid2019_0122.csv',\n",
    " 'covid2019_0123.csv',\n",
    " 'covid2019_0124.csv',\n",
    " 'covid2019_0125.csv',\n",
    " 'covid2019_0126.csv',\n",
    " 'covid2019_0127.csv',\n",
    " 'covid2019_0128.csv',\n",
    " 'covid2019_0129.csv',\n",
    " 'covid2019_0130.csv',\n",
    " 'covid2019_0131.csv',\n",
    " 'covid2019_0201.csv',\n",
    " 'covid2019_0202.csv',\n",
    " 'covid2019_0203.csv',\n",
    " 'covid2019_0204.csv',\n",
    " 'covid2019_0205.csv',\n",
    " 'covid2019_0206.csv',\n",
    " 'covid2019_0207.csv',\n",
    " 'covid2019_0208.csv',\n",
    " 'covid2019_0209.csv',\n",
    " 'covid2019_0210.csv',\n",
    " 'covid2019_0211.csv',\n",
    " 'covid2019_0212.csv',\n",
    " 'covid2019_0213.csv',\n",
    " 'covid2019_0214.csv',\n",
    " 'covid2019_0215.csv',\n",
    " 'covid2019_0216.csv',\n",
    " 'covid2019_0217.csv',\n",
    " 'covid2019_0218.csv',\n",
    " 'covid2019_0219.csv',\n",
    " 'covid2019_0220.csv',\n",
    " 'covid2019_0308.csv',\n",
    " 'covid2019_0309.csv',\n",
    " 'covid2019_0310.csv',\n",
    " 'covid2019_0311.csv',\n",
    " 'covid2019_0312.csv',\n",
    " 'covid2019_0313.csv',\n",
    " 'covid2019_0314.csv',\n",
    " 'covid2019_0315.csv',\n",
    " 'covid2019_0316.csv',\n",
    " 'covid2019_0317.csv',\n",
    " 'covid2019_0318.csv',\n",
    " 'covid2019_0319.csv',\n",
    " 'covid2019_0320.csv',\n",
    " 'covid2019_0321.csv',\n",
    " 'covid2019_0322.csv',\n",
    " 'covid2019_0323.csv',\n",
    " 'covid2019_0324.csv',\n",
    " 'covid2019_0325.csv',\n",
    " 'covid2019_0326.csv',\n",
    " 'covid2019_0327.csv',\n",
    " 'covid2019_0328.csv',\n",
    " 'covid2019_0329.csv',\n",
    " 'covid2019_0330.csv',\n",
    " 'covid2019_0331.csv',\n",
    " 'covid2019_0401.csv',\n",
    " 'covid2019_0402.csv',\n",
    " 'covid2019_0403.csv',\n",
    " 'covid2019_0404.csv',\n",
    " 'covid2019_0405.csv',\n",
    " 'covid2019_0406.csv',\n",
    " 'covid2019_0407.csv',\n",
    " 'covid2019_0408.csv',\n",
    " 'random tweet 2020-02-21.csv',\n",
    " 'random tweet 2020-02-22.csv',\n",
    " 'random tweet 2020-02-23.csv',\n",
    " 'random tweet 2020-02-24.csv',\n",
    " 'random tweet 2020-02-25.csv',\n",
    " 'random tweet 2020-02-26.csv',\n",
    " 'random tweet 2020-02-27.csv',\n",
    " 'random tweet 2020-02-28.csv',\n",
    " 'random tweet 2020-02-29.csv',\n",
    " 'random tweet 2020-03-01.csv',\n",
    " 'random tweet 2020-03-02.csv',\n",
    " 'random tweet 2020-03-03.csv',\n",
    " 'random tweet 2020-03-04.csv',\n",
    " 'random tweet 2020-03-05.csv',\n",
    " 'random tweet 2020-03-06.csv',\n",
    " 'random tweet 2020-03-07.csv']"
   ]
  },
  {
   "cell_type": "code",
   "execution_count": 12,
   "metadata": {
    "colab": {
     "base_uri": "https://localhost:8080/",
     "height": 215
    },
    "id": "LbRr3nbwLJ5D",
    "outputId": "4db80264-a5be-40ce-a234-82788506edc4"
   },
   "outputs": [
    {
     "name": "stdout",
     "output_type": "stream",
     "text": [
      "covid2019_0120.csv\n",
      "covid2019_0121.csv\n",
      "covid2019_0122.csv\n",
      "covid2019_0123.csv\n",
      "covid2019_0124.csv\n",
      "covid2019_0125.csv\n",
      "covid2019_0126.csv\n",
      "covid2019_0127.csv\n",
      "covid2019_0128.csv\n",
      "covid2019_0129.csv\n",
      "covid2019_0130.csv\n",
      "covid2019_0131.csv\n",
      "covid2019_0201.csv\n",
      "covid2019_0202.csv\n",
      "covid2019_0203.csv\n",
      "covid2019_0204.csv\n",
      "covid2019_0205.csv\n",
      "covid2019_0206.csv\n",
      "covid2019_0207.csv\n",
      "covid2019_0208.csv\n",
      "covid2019_0209.csv\n",
      "covid2019_0210.csv\n",
      "covid2019_0211.csv\n",
      "covid2019_0212.csv\n",
      "covid2019_0213.csv\n",
      "covid2019_0214.csv\n",
      "covid2019_0215.csv\n",
      "covid2019_0216.csv\n",
      "covid2019_0217.csv\n",
      "covid2019_0218.csv\n",
      "covid2019_0219.csv\n",
      "covid2019_0220.csv\n",
      "covid2019_0308.csv\n",
      "covid2019_0309.csv\n",
      "covid2019_0310.csv\n",
      "covid2019_0311.csv\n",
      "covid2019_0312.csv\n",
      "covid2019_0313.csv\n",
      "covid2019_0314.csv\n",
      "covid2019_0315.csv\n",
      "covid2019_0316.csv\n",
      "covid2019_0317.csv\n",
      "covid2019_0318.csv\n",
      "covid2019_0319.csv\n",
      "covid2019_0320.csv\n",
      "covid2019_0321.csv\n",
      "covid2019_0322.csv\n",
      "covid2019_0323.csv\n",
      "covid2019_0324.csv\n",
      "covid2019_0325.csv\n",
      "covid2019_0326.csv\n",
      "covid2019_0327.csv\n",
      "covid2019_0328.csv\n",
      "covid2019_0329.csv\n",
      "covid2019_0330.csv\n",
      "covid2019_0331.csv\n",
      "covid2019_0401.csv\n",
      "covid2019_0402.csv\n",
      "covid2019_0403.csv\n",
      "covid2019_0404.csv\n"
     ]
    },
    {
     "ename": "KeyboardInterrupt",
     "evalue": "",
     "output_type": "error",
     "traceback": [
      "\u001b[1;31m---------------------------------------------------------------------------\u001b[0m",
      "\u001b[1;31mKeyboardInterrupt\u001b[0m                         Traceback (most recent call last)",
      "\u001b[1;32m<ipython-input-12-fc3f21b4876c>\u001b[0m in \u001b[0;36m<module>\u001b[1;34m\u001b[0m\n\u001b[0;32m      5\u001b[0m     \u001b[0mdpath\u001b[0m \u001b[1;33m=\u001b[0m \u001b[1;33m(\u001b[0m\u001b[0monlinepath\u001b[0m \u001b[1;33m+\u001b[0m \u001b[0mfile\u001b[0m\u001b[1;33m)\u001b[0m\u001b[1;33m.\u001b[0m\u001b[0mreplace\u001b[0m\u001b[1;33m(\u001b[0m\u001b[1;34m\" \"\u001b[0m\u001b[1;33m,\u001b[0m \u001b[1;34m\"%20\"\u001b[0m\u001b[1;33m)\u001b[0m\u001b[1;33m\u001b[0m\u001b[1;33m\u001b[0m\u001b[0m\n\u001b[0;32m      6\u001b[0m     \u001b[0mprint\u001b[0m\u001b[1;33m(\u001b[0m\u001b[0mfile\u001b[0m\u001b[1;33m)\u001b[0m\u001b[1;33m\u001b[0m\u001b[1;33m\u001b[0m\u001b[0m\n\u001b[1;32m----> 7\u001b[1;33m     \u001b[0mdata\u001b[0m \u001b[1;33m=\u001b[0m \u001b[0mpd\u001b[0m\u001b[1;33m.\u001b[0m\u001b[0mread_csv\u001b[0m\u001b[1;33m(\u001b[0m\u001b[0mdpath\u001b[0m\u001b[1;33m)\u001b[0m\u001b[1;33m\u001b[0m\u001b[1;33m\u001b[0m\u001b[0m\n\u001b[0m\u001b[0;32m      8\u001b[0m     \u001b[0mcovid_twitter_data\u001b[0m \u001b[1;33m=\u001b[0m \u001b[0mcovid_twitter_data\u001b[0m\u001b[1;33m.\u001b[0m\u001b[0mappend\u001b[0m\u001b[1;33m(\u001b[0m\u001b[0mdata\u001b[0m\u001b[1;33m,\u001b[0m \u001b[0mignore_index\u001b[0m\u001b[1;33m=\u001b[0m\u001b[1;32mTrue\u001b[0m\u001b[1;33m)\u001b[0m\u001b[1;33m\u001b[0m\u001b[1;33m\u001b[0m\u001b[0m\n\u001b[0;32m      9\u001b[0m \u001b[1;33m\u001b[0m\u001b[0m\n",
      "\u001b[1;32m~\\Anaconda3\\envs\\data sci env\\lib\\site-packages\\pandas\\io\\parsers.py\u001b[0m in \u001b[0;36mread_csv\u001b[1;34m(filepath_or_buffer, sep, delimiter, header, names, index_col, usecols, squeeze, prefix, mangle_dupe_cols, dtype, engine, converters, true_values, false_values, skipinitialspace, skiprows, skipfooter, nrows, na_values, keep_default_na, na_filter, verbose, skip_blank_lines, parse_dates, infer_datetime_format, keep_date_col, date_parser, dayfirst, cache_dates, iterator, chunksize, compression, thousands, decimal, lineterminator, quotechar, quoting, doublequote, escapechar, comment, encoding, dialect, error_bad_lines, warn_bad_lines, delim_whitespace, low_memory, memory_map, float_precision)\u001b[0m\n\u001b[0;32m    684\u001b[0m     )\n\u001b[0;32m    685\u001b[0m \u001b[1;33m\u001b[0m\u001b[0m\n\u001b[1;32m--> 686\u001b[1;33m     \u001b[1;32mreturn\u001b[0m \u001b[0m_read\u001b[0m\u001b[1;33m(\u001b[0m\u001b[0mfilepath_or_buffer\u001b[0m\u001b[1;33m,\u001b[0m \u001b[0mkwds\u001b[0m\u001b[1;33m)\u001b[0m\u001b[1;33m\u001b[0m\u001b[1;33m\u001b[0m\u001b[0m\n\u001b[0m\u001b[0;32m    687\u001b[0m \u001b[1;33m\u001b[0m\u001b[0m\n\u001b[0;32m    688\u001b[0m \u001b[1;33m\u001b[0m\u001b[0m\n",
      "\u001b[1;32m~\\Anaconda3\\envs\\data sci env\\lib\\site-packages\\pandas\\io\\parsers.py\u001b[0m in \u001b[0;36m_read\u001b[1;34m(filepath_or_buffer, kwds)\u001b[0m\n\u001b[0;32m    433\u001b[0m     \u001b[1;31m# See https://github.com/python/mypy/issues/1297\u001b[0m\u001b[1;33m\u001b[0m\u001b[1;33m\u001b[0m\u001b[1;33m\u001b[0m\u001b[0m\n\u001b[0;32m    434\u001b[0m     fp_or_buf, _, compression, should_close = get_filepath_or_buffer(\n\u001b[1;32m--> 435\u001b[1;33m         \u001b[0mfilepath_or_buffer\u001b[0m\u001b[1;33m,\u001b[0m \u001b[0mencoding\u001b[0m\u001b[1;33m,\u001b[0m \u001b[0mcompression\u001b[0m\u001b[1;33m\u001b[0m\u001b[1;33m\u001b[0m\u001b[0m\n\u001b[0m\u001b[0;32m    436\u001b[0m     )\n\u001b[0;32m    437\u001b[0m     \u001b[0mkwds\u001b[0m\u001b[1;33m[\u001b[0m\u001b[1;34m\"compression\"\u001b[0m\u001b[1;33m]\u001b[0m \u001b[1;33m=\u001b[0m \u001b[0mcompression\u001b[0m\u001b[1;33m\u001b[0m\u001b[1;33m\u001b[0m\u001b[0m\n",
      "\u001b[1;32m~\\Anaconda3\\envs\\data sci env\\lib\\site-packages\\pandas\\io\\common.py\u001b[0m in \u001b[0;36mget_filepath_or_buffer\u001b[1;34m(filepath_or_buffer, encoding, compression, mode, storage_options)\u001b[0m\n\u001b[0;32m    186\u001b[0m             \u001b[1;31m# Override compression based on Content-Encoding header\u001b[0m\u001b[1;33m\u001b[0m\u001b[1;33m\u001b[0m\u001b[1;33m\u001b[0m\u001b[0m\n\u001b[0;32m    187\u001b[0m             \u001b[0mcompression\u001b[0m \u001b[1;33m=\u001b[0m \u001b[1;34m\"gzip\"\u001b[0m\u001b[1;33m\u001b[0m\u001b[1;33m\u001b[0m\u001b[0m\n\u001b[1;32m--> 188\u001b[1;33m         \u001b[0mreader\u001b[0m \u001b[1;33m=\u001b[0m \u001b[0mBytesIO\u001b[0m\u001b[1;33m(\u001b[0m\u001b[0mreq\u001b[0m\u001b[1;33m.\u001b[0m\u001b[0mread\u001b[0m\u001b[1;33m(\u001b[0m\u001b[1;33m)\u001b[0m\u001b[1;33m)\u001b[0m\u001b[1;33m\u001b[0m\u001b[1;33m\u001b[0m\u001b[0m\n\u001b[0m\u001b[0;32m    189\u001b[0m         \u001b[0mreq\u001b[0m\u001b[1;33m.\u001b[0m\u001b[0mclose\u001b[0m\u001b[1;33m(\u001b[0m\u001b[1;33m)\u001b[0m\u001b[1;33m\u001b[0m\u001b[1;33m\u001b[0m\u001b[0m\n\u001b[0;32m    190\u001b[0m         \u001b[1;32mreturn\u001b[0m \u001b[0mreader\u001b[0m\u001b[1;33m,\u001b[0m \u001b[0mencoding\u001b[0m\u001b[1;33m,\u001b[0m \u001b[0mcompression\u001b[0m\u001b[1;33m,\u001b[0m \u001b[1;32mTrue\u001b[0m\u001b[1;33m\u001b[0m\u001b[1;33m\u001b[0m\u001b[0m\n",
      "\u001b[1;32m~\\Anaconda3\\envs\\data sci env\\lib\\http\\client.py\u001b[0m in \u001b[0;36mread\u001b[1;34m(self, amt)\u001b[0m\n\u001b[0;32m    472\u001b[0m             \u001b[1;32melse\u001b[0m\u001b[1;33m:\u001b[0m\u001b[1;33m\u001b[0m\u001b[1;33m\u001b[0m\u001b[0m\n\u001b[0;32m    473\u001b[0m                 \u001b[1;32mtry\u001b[0m\u001b[1;33m:\u001b[0m\u001b[1;33m\u001b[0m\u001b[1;33m\u001b[0m\u001b[0m\n\u001b[1;32m--> 474\u001b[1;33m                     \u001b[0ms\u001b[0m \u001b[1;33m=\u001b[0m \u001b[0mself\u001b[0m\u001b[1;33m.\u001b[0m\u001b[0m_safe_read\u001b[0m\u001b[1;33m(\u001b[0m\u001b[0mself\u001b[0m\u001b[1;33m.\u001b[0m\u001b[0mlength\u001b[0m\u001b[1;33m)\u001b[0m\u001b[1;33m\u001b[0m\u001b[1;33m\u001b[0m\u001b[0m\n\u001b[0m\u001b[0;32m    475\u001b[0m                 \u001b[1;32mexcept\u001b[0m \u001b[0mIncompleteRead\u001b[0m\u001b[1;33m:\u001b[0m\u001b[1;33m\u001b[0m\u001b[1;33m\u001b[0m\u001b[0m\n\u001b[0;32m    476\u001b[0m                     \u001b[0mself\u001b[0m\u001b[1;33m.\u001b[0m\u001b[0m_close_conn\u001b[0m\u001b[1;33m(\u001b[0m\u001b[1;33m)\u001b[0m\u001b[1;33m\u001b[0m\u001b[1;33m\u001b[0m\u001b[0m\n",
      "\u001b[1;32m~\\Anaconda3\\envs\\data sci env\\lib\\http\\client.py\u001b[0m in \u001b[0;36m_safe_read\u001b[1;34m(self, amt)\u001b[0m\n\u001b[0;32m    622\u001b[0m         \u001b[0ms\u001b[0m \u001b[1;33m=\u001b[0m \u001b[1;33m[\u001b[0m\u001b[1;33m]\u001b[0m\u001b[1;33m\u001b[0m\u001b[1;33m\u001b[0m\u001b[0m\n\u001b[0;32m    623\u001b[0m         \u001b[1;32mwhile\u001b[0m \u001b[0mamt\u001b[0m \u001b[1;33m>\u001b[0m \u001b[1;36m0\u001b[0m\u001b[1;33m:\u001b[0m\u001b[1;33m\u001b[0m\u001b[1;33m\u001b[0m\u001b[0m\n\u001b[1;32m--> 624\u001b[1;33m             \u001b[0mchunk\u001b[0m \u001b[1;33m=\u001b[0m \u001b[0mself\u001b[0m\u001b[1;33m.\u001b[0m\u001b[0mfp\u001b[0m\u001b[1;33m.\u001b[0m\u001b[0mread\u001b[0m\u001b[1;33m(\u001b[0m\u001b[0mmin\u001b[0m\u001b[1;33m(\u001b[0m\u001b[0mamt\u001b[0m\u001b[1;33m,\u001b[0m \u001b[0mMAXAMOUNT\u001b[0m\u001b[1;33m)\u001b[0m\u001b[1;33m)\u001b[0m\u001b[1;33m\u001b[0m\u001b[1;33m\u001b[0m\u001b[0m\n\u001b[0m\u001b[0;32m    625\u001b[0m             \u001b[1;32mif\u001b[0m \u001b[1;32mnot\u001b[0m \u001b[0mchunk\u001b[0m\u001b[1;33m:\u001b[0m\u001b[1;33m\u001b[0m\u001b[1;33m\u001b[0m\u001b[0m\n\u001b[0;32m    626\u001b[0m                 \u001b[1;32mraise\u001b[0m \u001b[0mIncompleteRead\u001b[0m\u001b[1;33m(\u001b[0m\u001b[1;34mb''\u001b[0m\u001b[1;33m.\u001b[0m\u001b[0mjoin\u001b[0m\u001b[1;33m(\u001b[0m\u001b[0ms\u001b[0m\u001b[1;33m)\u001b[0m\u001b[1;33m,\u001b[0m \u001b[0mamt\u001b[0m\u001b[1;33m)\u001b[0m\u001b[1;33m\u001b[0m\u001b[1;33m\u001b[0m\u001b[0m\n",
      "\u001b[1;32m~\\Anaconda3\\envs\\data sci env\\lib\\socket.py\u001b[0m in \u001b[0;36mreadinto\u001b[1;34m(self, b)\u001b[0m\n\u001b[0;32m    587\u001b[0m         \u001b[1;32mwhile\u001b[0m \u001b[1;32mTrue\u001b[0m\u001b[1;33m:\u001b[0m\u001b[1;33m\u001b[0m\u001b[1;33m\u001b[0m\u001b[0m\n\u001b[0;32m    588\u001b[0m             \u001b[1;32mtry\u001b[0m\u001b[1;33m:\u001b[0m\u001b[1;33m\u001b[0m\u001b[1;33m\u001b[0m\u001b[0m\n\u001b[1;32m--> 589\u001b[1;33m                 \u001b[1;32mreturn\u001b[0m \u001b[0mself\u001b[0m\u001b[1;33m.\u001b[0m\u001b[0m_sock\u001b[0m\u001b[1;33m.\u001b[0m\u001b[0mrecv_into\u001b[0m\u001b[1;33m(\u001b[0m\u001b[0mb\u001b[0m\u001b[1;33m)\u001b[0m\u001b[1;33m\u001b[0m\u001b[1;33m\u001b[0m\u001b[0m\n\u001b[0m\u001b[0;32m    590\u001b[0m             \u001b[1;32mexcept\u001b[0m \u001b[0mtimeout\u001b[0m\u001b[1;33m:\u001b[0m\u001b[1;33m\u001b[0m\u001b[1;33m\u001b[0m\u001b[0m\n\u001b[0;32m    591\u001b[0m                 \u001b[0mself\u001b[0m\u001b[1;33m.\u001b[0m\u001b[0m_timeout_occurred\u001b[0m \u001b[1;33m=\u001b[0m \u001b[1;32mTrue\u001b[0m\u001b[1;33m\u001b[0m\u001b[1;33m\u001b[0m\u001b[0m\n",
      "\u001b[1;32m~\\Anaconda3\\envs\\data sci env\\lib\\ssl.py\u001b[0m in \u001b[0;36mrecv_into\u001b[1;34m(self, buffer, nbytes, flags)\u001b[0m\n\u001b[0;32m   1069\u001b[0m                   \u001b[1;34m\"non-zero flags not allowed in calls to recv_into() on %s\"\u001b[0m \u001b[1;33m%\u001b[0m\u001b[1;33m\u001b[0m\u001b[1;33m\u001b[0m\u001b[0m\n\u001b[0;32m   1070\u001b[0m                   self.__class__)\n\u001b[1;32m-> 1071\u001b[1;33m             \u001b[1;32mreturn\u001b[0m \u001b[0mself\u001b[0m\u001b[1;33m.\u001b[0m\u001b[0mread\u001b[0m\u001b[1;33m(\u001b[0m\u001b[0mnbytes\u001b[0m\u001b[1;33m,\u001b[0m \u001b[0mbuffer\u001b[0m\u001b[1;33m)\u001b[0m\u001b[1;33m\u001b[0m\u001b[1;33m\u001b[0m\u001b[0m\n\u001b[0m\u001b[0;32m   1072\u001b[0m         \u001b[1;32melse\u001b[0m\u001b[1;33m:\u001b[0m\u001b[1;33m\u001b[0m\u001b[1;33m\u001b[0m\u001b[0m\n\u001b[0;32m   1073\u001b[0m             \u001b[1;32mreturn\u001b[0m \u001b[0msuper\u001b[0m\u001b[1;33m(\u001b[0m\u001b[1;33m)\u001b[0m\u001b[1;33m.\u001b[0m\u001b[0mrecv_into\u001b[0m\u001b[1;33m(\u001b[0m\u001b[0mbuffer\u001b[0m\u001b[1;33m,\u001b[0m \u001b[0mnbytes\u001b[0m\u001b[1;33m,\u001b[0m \u001b[0mflags\u001b[0m\u001b[1;33m)\u001b[0m\u001b[1;33m\u001b[0m\u001b[1;33m\u001b[0m\u001b[0m\n",
      "\u001b[1;32m~\\Anaconda3\\envs\\data sci env\\lib\\ssl.py\u001b[0m in \u001b[0;36mread\u001b[1;34m(self, len, buffer)\u001b[0m\n\u001b[0;32m    927\u001b[0m         \u001b[1;32mtry\u001b[0m\u001b[1;33m:\u001b[0m\u001b[1;33m\u001b[0m\u001b[1;33m\u001b[0m\u001b[0m\n\u001b[0;32m    928\u001b[0m             \u001b[1;32mif\u001b[0m \u001b[0mbuffer\u001b[0m \u001b[1;32mis\u001b[0m \u001b[1;32mnot\u001b[0m \u001b[1;32mNone\u001b[0m\u001b[1;33m:\u001b[0m\u001b[1;33m\u001b[0m\u001b[1;33m\u001b[0m\u001b[0m\n\u001b[1;32m--> 929\u001b[1;33m                 \u001b[1;32mreturn\u001b[0m \u001b[0mself\u001b[0m\u001b[1;33m.\u001b[0m\u001b[0m_sslobj\u001b[0m\u001b[1;33m.\u001b[0m\u001b[0mread\u001b[0m\u001b[1;33m(\u001b[0m\u001b[0mlen\u001b[0m\u001b[1;33m,\u001b[0m \u001b[0mbuffer\u001b[0m\u001b[1;33m)\u001b[0m\u001b[1;33m\u001b[0m\u001b[1;33m\u001b[0m\u001b[0m\n\u001b[0m\u001b[0;32m    930\u001b[0m             \u001b[1;32melse\u001b[0m\u001b[1;33m:\u001b[0m\u001b[1;33m\u001b[0m\u001b[1;33m\u001b[0m\u001b[0m\n\u001b[0;32m    931\u001b[0m                 \u001b[1;32mreturn\u001b[0m \u001b[0mself\u001b[0m\u001b[1;33m.\u001b[0m\u001b[0m_sslobj\u001b[0m\u001b[1;33m.\u001b[0m\u001b[0mread\u001b[0m\u001b[1;33m(\u001b[0m\u001b[0mlen\u001b[0m\u001b[1;33m)\u001b[0m\u001b[1;33m\u001b[0m\u001b[1;33m\u001b[0m\u001b[0m\n",
      "\u001b[1;31mKeyboardInterrupt\u001b[0m: "
     ]
    }
   ],
   "source": [
    "covid_twitter_data = pd.DataFrame()\n",
    "# Concat the Twitters data into one-table\n",
    "\n",
    "for file in files_gen:\n",
    "    dpath = (onlinepath + file).replace(\" \", \"%20\")\n",
    "    print(file)\n",
    "    data = pd.read_csv(dpath)\n",
    "    covid_twitter_data = covid_twitter_data.append(data, ignore_index=True)\n",
    "    \n",
    "covid_twitter_data.info()    "
   ]
  },
  {
   "cell_type": "markdown",
   "metadata": {
    "id": "q2M4MvMOLJ5R"
   },
   "source": [
    "# Find keywords in the data\n",
    "\n",
    "keyword_list: global list of keywords we want to search for in the data\n",
    "\n",
    "count_keywords: function to count keywords in a tweet dataframe, best done for each day individually\n"
   ]
  },
  {
   "cell_type": "code",
   "execution_count": 13,
   "metadata": {
    "id": "nUbLugSrLJ5S"
   },
   "outputs": [],
   "source": [
    "#use singular word (if plural just adds an \"s\")\n",
    "#for several words use space (eg. \"social distancing\"; \"social_distancing\" and \"socialdistancing\" automatically searched for)\n",
    "#if there are different words with the same meaning that do not contain each other, use \"|\" (eg. \"New York|NY\")\n",
    "#if two words should be in there but not necessarily together, use &\n",
    "keyword_list = [\"trump\", \"social distancing\", \"Wuhan\", \"chinese virus\", \"New York\", \"Los Angeles\", \"Chicago\", \"Washington\", \n",
    "               \"mask\", \"economy\", \"healthcare\", \"fauci\", \"death|deadly|mortality\"  ]"
   ]
  },
  {
   "cell_type": "code",
   "execution_count": 14,
   "metadata": {
    "id": "6JCYftbfLJ5Z"
   },
   "outputs": [],
   "source": [
    "# Trump counter\n",
    "import re\n",
    "\n",
    "def count_keywords(keywords, tweetlist):\n",
    "    #function takes a list of keyword and a twitter dataset and counts the number of tweets containing each keyword\n",
    "    #return the keywords and the corresponding tweet counts\n",
    "    #search for words is case insensitive \n",
    "    #if word contains space (social distancing) it also searches for socialdistancing and social_distancing\n",
    "    date = pd.to_datetime(tweetlist[\"timestamp\"][0]).date()\n",
    "    counterdf = pd.DataFrame({'date': [date] })\n",
    "    counterlist = []\n",
    "    for word in keywords:\n",
    "        counter = 0\n",
    "        if \" \" in word:\n",
    "            searchword = word + \"|\" + word.replace(\" \", \"_\")\n",
    "            searchword = searchword + \"|\" + word.replace(\" \", \"\")\n",
    "        else:\n",
    "            searchword = word\n",
    "        for tweet in tweetlist[\"text\"].dropna():\n",
    "            if re.search(searchword, tweet, re.IGNORECASE):\n",
    "                counter = counter + 1\n",
    "        counterdf[word] = counter\n",
    "\n",
    "    return counterdf\n"
   ]
  },
  {
   "cell_type": "code",
   "execution_count": 31,
   "metadata": {
    "colab": {
     "base_uri": "https://localhost:8080/",
     "height": 358
    },
    "id": "D0C4GXZ7LJ5c",
    "outputId": "5f076bc7-8387-41ce-9e8b-e22517b1ccc1"
   },
   "outputs": [
    {
     "name": "stdout",
     "output_type": "stream",
     "text": [
      "covid2019_0120.csv\n",
      "covid2019_0121.csv\n",
      "covid2019_0122.csv\n",
      "covid2019_0123.csv\n",
      "covid2019_0124.csv\n",
      "covid2019_0125.csv\n",
      "covid2019_0126.csv\n",
      "covid2019_0127.csv\n",
      "covid2019_0128.csv\n",
      "covid2019_0129.csv\n",
      "covid2019_0130.csv\n",
      "covid2019_0131.csv\n",
      "covid2019_0201.csv\n",
      "covid2019_0202.csv\n",
      "covid2019_0203.csv\n",
      "covid2019_0204.csv\n",
      "covid2019_0205.csv\n",
      "covid2019_0206.csv\n",
      "covid2019_0207.csv\n",
      "covid2019_0208.csv\n",
      "covid2019_0209.csv\n",
      "covid2019_0210.csv\n",
      "covid2019_0211.csv\n",
      "covid2019_0212.csv\n",
      "covid2019_0213.csv\n",
      "covid2019_0214.csv\n",
      "covid2019_0215.csv\n",
      "covid2019_0216.csv\n",
      "covid2019_0217.csv\n",
      "covid2019_0218.csv\n",
      "covid2019_0219.csv\n",
      "covid2019_0220.csv\n",
      "covid2019_0308.csv\n",
      "covid2019_0309.csv\n",
      "covid2019_0310.csv\n",
      "covid2019_0311.csv\n",
      "covid2019_0312.csv\n",
      "covid2019_0313.csv\n",
      "covid2019_0314.csv\n",
      "covid2019_0315.csv\n",
      "covid2019_0316.csv\n",
      "covid2019_0317.csv\n",
      "covid2019_0318.csv\n",
      "covid2019_0319.csv\n",
      "covid2019_0320.csv\n",
      "covid2019_0321.csv\n",
      "covid2019_0322.csv\n",
      "covid2019_0323.csv\n",
      "covid2019_0324.csv\n",
      "covid2019_0325.csv\n",
      "covid2019_0326.csv\n",
      "covid2019_0327.csv\n",
      "covid2019_0328.csv\n",
      "covid2019_0329.csv\n",
      "covid2019_0330.csv\n",
      "covid2019_0331.csv\n",
      "covid2019_0401.csv\n",
      "covid2019_0402.csv\n",
      "covid2019_0403.csv\n",
      "covid2019_0404.csv\n",
      "covid2019_0405.csv\n",
      "covid2019_0406.csv\n",
      "covid2019_0407.csv\n",
      "covid2019_0408.csv\n",
      "random tweet 2020-02-21.csv\n",
      "random tweet 2020-02-22.csv\n",
      "random tweet 2020-02-23.csv\n",
      "random tweet 2020-02-24.csv\n",
      "random tweet 2020-02-25.csv\n",
      "random tweet 2020-02-26.csv\n",
      "random tweet 2020-02-27.csv\n",
      "random tweet 2020-02-28.csv\n",
      "random tweet 2020-02-29.csv\n",
      "random tweet 2020-03-01.csv\n",
      "random tweet 2020-03-02.csv\n",
      "random tweet 2020-03-03.csv\n",
      "random tweet 2020-03-04.csv\n",
      "random tweet 2020-03-05.csv\n",
      "random tweet 2020-03-06.csv\n",
      "random tweet 2020-03-07.csv\n"
     ]
    }
   ],
   "source": [
    "def count_keywords_complete(path = \"https://raw.githubusercontent.com/xxz-jessica/COVID-19_UCD_Challenge/master/Tweet_Raw_Data/raw_data/\", \n",
    "                            files_gen = files_gen,\n",
    "                            keywords = keyword_list):\n",
    "    #create dataframe that gives number of tweets containing hashtag for all dates for which data is available\n",
    "    countdata = pd.DataFrame()\n",
    "    for file in files_gen:\n",
    "        dpath = (path + file).replace(\" \", \"%20\")\n",
    "        print(file)\n",
    "        data = pd.read_csv(dpath)\n",
    "        countdata = countdata.append(count_keywords(keywords, data))\n",
    "    countdata[\"date\"] = pd.to_datetime(countdata[\"date\"])\n",
    "    countdata = countdata.sort_values(by = [\"date\"])\n",
    "    return countdata\n",
    "    \n",
    "keyword_data = count_keywords_complete(files_gen = files_gen)"
   ]
  },
  {
   "cell_type": "code",
   "execution_count": 33,
   "metadata": {},
   "outputs": [],
   "source": [
    "#save keyword data\n",
    "\n",
    "keyword_data.to_csv(\"keyword_counts.csv\")"
   ]
  },
  {
   "cell_type": "code",
   "execution_count": 34,
   "metadata": {},
   "outputs": [],
   "source": [
    "#load keyword data\n",
    "\n",
    "keyword_data = pd.read_csv(\"keyword_counts.csv\", index_col = 0)"
   ]
  },
  {
   "cell_type": "code",
   "execution_count": 35,
   "metadata": {},
   "outputs": [
    {
     "name": "stdout",
     "output_type": "stream",
     "text": [
      "<class 'pandas.core.frame.DataFrame'>\n",
      "Int64Index: 80 entries, 0 to 0\n",
      "Data columns (total 14 columns):\n",
      " #   Column                  Non-Null Count  Dtype \n",
      "---  ------                  --------------  ----- \n",
      " 0   date                    80 non-null     object\n",
      " 1   trump                   80 non-null     int64 \n",
      " 2   social distancing       80 non-null     int64 \n",
      " 3   Wuhan                   80 non-null     int64 \n",
      " 4   chinese virus           80 non-null     int64 \n",
      " 5   New York                80 non-null     int64 \n",
      " 6   Los Angeles             80 non-null     int64 \n",
      " 7   Chicago                 80 non-null     int64 \n",
      " 8   Washington              80 non-null     int64 \n",
      " 9   mask                    80 non-null     int64 \n",
      " 10  economy                 80 non-null     int64 \n",
      " 11  healthcare              80 non-null     int64 \n",
      " 12  fauci                   80 non-null     int64 \n",
      " 13  death|deadly|mortality  80 non-null     int64 \n",
      "dtypes: int64(13), object(1)\n",
      "memory usage: 9.4+ KB\n",
      "<class 'pandas.core.frame.DataFrame'>\n",
      "Int64Index: 98 entries, 0 to 97\n",
      "Data columns (total 7 columns):\n",
      " #   Column        Non-Null Count  Dtype         \n",
      "---  ------        --------------  -----         \n",
      " 0   date          98 non-null     datetime64[ns]\n",
      " 1   Tweets        98 non-null     int32         \n",
      " 2   total_cases   98 non-null     float64       \n",
      " 3   new_cases     98 non-null     float64       \n",
      " 4   new_deaths    98 non-null     float64       \n",
      " 5   cnn_articles  98 non-null     float64       \n",
      " 6   fox_articles  98 non-null     float64       \n",
      "dtypes: datetime64[ns](1), float64(5), int32(1)\n",
      "memory usage: 5.7 KB\n",
      "<class 'pandas.core.frame.DataFrame'>\n",
      "Int64Index: 79 entries, 0 to 78\n",
      "Data columns (total 20 columns):\n",
      " #   Column                  Non-Null Count  Dtype         \n",
      "---  ------                  --------------  -----         \n",
      " 0   date                    79 non-null     datetime64[ns]\n",
      " 1   trump                   79 non-null     int64         \n",
      " 2   social distancing       79 non-null     int64         \n",
      " 3   Wuhan                   79 non-null     int64         \n",
      " 4   chinese virus           79 non-null     int64         \n",
      " 5   New York                79 non-null     int64         \n",
      " 6   Los Angeles             79 non-null     int64         \n",
      " 7   Chicago                 79 non-null     int64         \n",
      " 8   Washington              79 non-null     int64         \n",
      " 9   mask                    79 non-null     int64         \n",
      " 10  economy                 79 non-null     int64         \n",
      " 11  healthcare              79 non-null     int64         \n",
      " 12  fauci                   79 non-null     int64         \n",
      " 13  death|deadly|mortality  79 non-null     int64         \n",
      " 14  Tweets                  79 non-null     int32         \n",
      " 15  total_cases             79 non-null     float64       \n",
      " 16  new_cases               79 non-null     float64       \n",
      " 17  new_deaths              79 non-null     float64       \n",
      " 18  cnn_articles            79 non-null     float64       \n",
      " 19  fox_articles            79 non-null     float64       \n",
      "dtypes: datetime64[ns](1), float64(5), int32(1), int64(13)\n",
      "memory usage: 12.7 KB\n"
     ]
    }
   ],
   "source": [
    "keyword_data.info()\n",
    "merged_3.info()\n",
    "keyword_data[\"date\"] = pd.to_datetime(keyword_data[\"date\"])\n",
    "key_merged = keyword_data.merge(merged_3)\n",
    "key_merged.info()"
   ]
  },
  {
   "cell_type": "markdown",
   "metadata": {},
   "source": [
    "# Visualize keywords over time\n",
    "\n",
    "collect possible visualizations over time"
   ]
  },
  {
   "cell_type": "code",
   "execution_count": 36,
   "metadata": {},
   "outputs": [],
   "source": [
    "columns1 = list(keyword_data.columns)[1:]\n",
    "columns2 = list(merged_3.columns)[1:]\n",
    "select_box1 = alt.binding_select(options=columns1, name='Keyword')\n",
    "sel1 = alt.selection_single(fields=['column'], bind=select_box1, init={'column': 'social distancing'})\n",
    "select_box2 = alt.binding_select(options=columns2, name='Compare to value')\n",
    "sel2 = alt.selection_single(fields=['column'], bind=select_box2, init={'column': 'new_cases'})\n"
   ]
  },
  {
   "cell_type": "code",
   "execution_count": 38,
   "metadata": {},
   "outputs": [
    {
     "name": "stdout",
     "output_type": "stream",
     "text": [
      "<class 'pandas.core.frame.DataFrame'>\n",
      "Int64Index: 80 entries, 0 to 0\n",
      "Data columns (total 14 columns):\n",
      " #   Column                  Non-Null Count  Dtype         \n",
      "---  ------                  --------------  -----         \n",
      " 0   date                    80 non-null     datetime64[ns]\n",
      " 1   trump                   80 non-null     int64         \n",
      " 2   social distancing       80 non-null     int64         \n",
      " 3   Wuhan                   80 non-null     int64         \n",
      " 4   chinese virus           80 non-null     int64         \n",
      " 5   New York                80 non-null     int64         \n",
      " 6   Los Angeles             80 non-null     int64         \n",
      " 7   Chicago                 80 non-null     int64         \n",
      " 8   Washington              80 non-null     int64         \n",
      " 9   mask                    80 non-null     int64         \n",
      " 10  economy                 80 non-null     int64         \n",
      " 11  healthcare              80 non-null     int64         \n",
      " 12  fauci                   80 non-null     int64         \n",
      " 13  death|deadly|mortality  80 non-null     int64         \n",
      "dtypes: datetime64[ns](1), int64(13)\n",
      "memory usage: 9.4 KB\n"
     ]
    },
    {
     "data": {
      "text/html": [
       "\n",
       "<div id=\"altair-viz-8703963e05db49ae907d6aed2bec1ca5\"></div>\n",
       "<script type=\"text/javascript\">\n",
       "  (function(spec, embedOpt){\n",
       "    let outputDiv = document.currentScript.previousElementSibling;\n",
       "    if (outputDiv.id !== \"altair-viz-8703963e05db49ae907d6aed2bec1ca5\") {\n",
       "      outputDiv = document.getElementById(\"altair-viz-8703963e05db49ae907d6aed2bec1ca5\");\n",
       "    }\n",
       "    const paths = {\n",
       "      \"vega\": \"https://cdn.jsdelivr.net/npm//vega@5?noext\",\n",
       "      \"vega-lib\": \"https://cdn.jsdelivr.net/npm//vega-lib?noext\",\n",
       "      \"vega-lite\": \"https://cdn.jsdelivr.net/npm//vega-lite@4.8.1?noext\",\n",
       "      \"vega-embed\": \"https://cdn.jsdelivr.net/npm//vega-embed@6?noext\",\n",
       "    };\n",
       "\n",
       "    function loadScript(lib) {\n",
       "      return new Promise(function(resolve, reject) {\n",
       "        var s = document.createElement('script');\n",
       "        s.src = paths[lib];\n",
       "        s.async = true;\n",
       "        s.onload = () => resolve(paths[lib]);\n",
       "        s.onerror = () => reject(`Error loading script: ${paths[lib]}`);\n",
       "        document.getElementsByTagName(\"head\")[0].appendChild(s);\n",
       "      });\n",
       "    }\n",
       "\n",
       "    function showError(err) {\n",
       "      outputDiv.innerHTML = `<div class=\"error\" style=\"color:red;\">${err}</div>`;\n",
       "      throw err;\n",
       "    }\n",
       "\n",
       "    function displayChart(vegaEmbed) {\n",
       "      vegaEmbed(outputDiv, spec, embedOpt)\n",
       "        .catch(err => showError(`Javascript Error: ${err.message}<br>This usually means there's a typo in your chart specification. See the javascript console for the full traceback.`));\n",
       "    }\n",
       "\n",
       "    if(typeof define === \"function\" && define.amd) {\n",
       "      requirejs.config({paths});\n",
       "      require([\"vega-embed\"], displayChart, err => showError(`Error loading script: ${err.message}`));\n",
       "    } else if (typeof vegaEmbed === \"function\") {\n",
       "      displayChart(vegaEmbed);\n",
       "    } else {\n",
       "      loadScript(\"vega\")\n",
       "        .then(() => loadScript(\"vega-lite\"))\n",
       "        .then(() => loadScript(\"vega-embed\"))\n",
       "        .catch(showError)\n",
       "        .then(() => displayChart(vegaEmbed));\n",
       "    }\n",
       "  })({\"config\": {\"view\": {\"continuousWidth\": 400, \"continuousHeight\": 300}}, \"layer\": [{\"mark\": {\"type\": \"line\", \"interpolate\": \"monotone\", \"stroke\": \"#eb34eb\"}, \"encoding\": {\"x\": {\"type\": \"temporal\", \"axis\": {\"title\": null}, \"field\": \"date\"}, \"y\": {\"type\": \"quantitative\", \"axis\": {\"title\": \"Keyword appearances\", \"titleColor\": \"#eb34eb\"}, \"field\": \"value\"}}, \"height\": 200, \"selection\": {\"selector007\": {\"type\": \"single\", \"fields\": [\"column\"], \"bind\": {\"input\": \"select\", \"options\": [\"trump\", \"social distancing\", \"Wuhan\", \"chinese virus\", \"New York\", \"Los Angeles\", \"Chicago\", \"Washington\", \"mask\", \"economy\", \"healthcare\", \"fauci\", \"death|deadly|mortality\"], \"name\": \"Keyword\"}, \"init\": {\"column\": \"social distancing\"}}}, \"transform\": [{\"fold\": [\"trump\", \"social distancing\", \"Wuhan\", \"chinese virus\", \"New York\", \"Los Angeles\", \"Chicago\", \"Washington\", \"mask\", \"economy\", \"healthcare\", \"fauci\", \"death|deadly|mortality\"], \"as\": [\"column\", \"value\"]}, {\"filter\": {\"selection\": \"selector007\"}}], \"width\": 500}, {\"mark\": {\"type\": \"line\", \"interpolate\": \"monotone\", \"stroke\": \"#1da1f2\"}, \"encoding\": {\"x\": {\"type\": \"temporal\", \"axis\": {\"title\": null}, \"field\": \"date\"}, \"y\": {\"type\": \"quantitative\", \"axis\": {\"title\": \"Data value\", \"titleColor\": \"#1da1f2\"}, \"field\": \"value\"}}, \"height\": 200, \"selection\": {\"selector008\": {\"type\": \"single\", \"fields\": [\"column\"], \"bind\": {\"input\": \"select\", \"options\": [\"Tweets\", \"total_cases\", \"new_cases\", \"new_deaths\", \"cnn_articles\", \"fox_articles\"], \"name\": \"Compare to value\"}, \"init\": {\"column\": \"new_cases\"}}}, \"transform\": [{\"fold\": [\"Tweets\", \"total_cases\", \"new_cases\", \"new_deaths\", \"cnn_articles\", \"fox_articles\"], \"as\": [\"column\", \"value\"]}, {\"filter\": {\"selection\": \"selector008\"}}], \"width\": 500}], \"data\": {\"name\": \"data-4f6135866ac88a338e77d5349eed2abe\"}, \"resolve\": {\"scale\": {\"y\": \"independent\"}}, \"$schema\": \"https://vega.github.io/schema/vega-lite/v4.8.1.json\", \"datasets\": {\"data-4f6135866ac88a338e77d5349eed2abe\": [{\"date\": \"2020-01-20T00:00:00\", \"trump\": 36, \"social distancing\": 0, \"Wuhan\": 1310, \"chinese virus\": 18, \"New York\": 56, \"Los Angeles\": 16, \"Chicago\": 3, \"Washington\": 16, \"mask\": 41, \"economy\": 11, \"healthcare\": 63, \"fauci\": 1, \"death|deadly|mortality\": 611, \"Tweets\": 100124, \"total_cases\": 478.0, \"new_cases\": 40.0, \"new_deaths\": 0.0, \"cnn_articles\": 0.0, \"fox_articles\": 3.0}, {\"date\": \"2020-01-21T00:00:00\", \"trump\": 151, \"social distancing\": 0, \"Wuhan\": 2138, \"chinese virus\": 12, \"New York\": 91, \"Los Angeles\": 17, \"Chicago\": 53, \"Washington\": 1150, \"mask\": 60, \"economy\": 10, \"healthcare\": 40, \"fauci\": 0, \"death|deadly|mortality\": 827, \"Tweets\": 259864, \"total_cases\": 784.0, \"new_cases\": 306.0, \"new_deaths\": 6.0, \"cnn_articles\": 0.0, \"fox_articles\": 6.0}, {\"date\": \"2020-01-22T00:00:00\", \"trump\": 153, \"social distancing\": 0, \"Wuhan\": 1989, \"chinese virus\": 1, \"New York\": 17, \"Los Angeles\": 3, \"Chicago\": 7, \"Washington\": 105, \"mask\": 70, \"economy\": 6, \"healthcare\": 17, \"fauci\": 0, \"death|deadly|mortality\": 520, \"Tweets\": 508623, \"total_cases\": 1068.0, \"new_cases\": 284.0, \"new_deaths\": 22.0, \"cnn_articles\": 2.0, \"fox_articles\": 10.0}, {\"date\": \"2020-01-23T00:00:00\", \"trump\": 128, \"social distancing\": 0, \"Wuhan\": 1536, \"chinese virus\": 0, \"New York\": 25, \"Los Angeles\": 68, \"Chicago\": 5, \"Washington\": 66, \"mask\": 128, \"economy\": 42, \"healthcare\": 21, \"fauci\": 5, \"death|deadly|mortality\": 511, \"Tweets\": 905673, \"total_cases\": 1262.0, \"new_cases\": 194.0, \"new_deaths\": 0.0, \"cnn_articles\": 2.0, \"fox_articles\": 20.0}, {\"date\": \"2020-01-24T00:00:00\", \"trump\": 194, \"social distancing\": 0, \"Wuhan\": 1305, \"chinese virus\": 3, \"New York\": 65, \"Los Angeles\": 1, \"Chicago\": 211, \"Washington\": 90, \"mask\": 98, \"economy\": 5, \"healthcare\": 20, \"fauci\": 0, \"death|deadly|mortality\": 552, \"Tweets\": 1153245, \"total_cases\": 1794.0, \"new_cases\": 532.0, \"new_deaths\": 18.0, \"cnn_articles\": 0.0, \"fox_articles\": 10.0}, {\"date\": \"2020-01-25T00:00:00\", \"trump\": 94, \"social distancing\": 0, \"Wuhan\": 1127, \"chinese virus\": 3, \"New York\": 20, \"Los Angeles\": 2, \"Chicago\": 39, \"Washington\": 43, \"mask\": 162, \"economy\": 12, \"healthcare\": 25, \"fauci\": 2, \"death|deadly|mortality\": 515, \"Tweets\": 1536784, \"total_cases\": 2700.0, \"new_cases\": 906.0, \"new_deaths\": 30.0, \"cnn_articles\": 0.0, \"fox_articles\": 5.0}, {\"date\": \"2020-01-26T00:00:00\", \"trump\": 215, \"social distancing\": 0, \"Wuhan\": 1252, \"chinese virus\": 4, \"New York\": 22, \"Los Angeles\": 60, \"Chicago\": 22, \"Washington\": 66, \"mask\": 177, \"economy\": 42, \"healthcare\": 23, \"fauci\": 0, \"death|deadly|mortality\": 689, \"Tweets\": 1678953, \"total_cases\": 4046.0, \"new_cases\": 1346.0, \"new_deaths\": 30.0, \"cnn_articles\": 0.0, \"fox_articles\": 9.0}, {\"date\": \"2020-01-27T00:00:00\", \"trump\": 147, \"social distancing\": 0, \"Wuhan\": 1068, \"chinese virus\": 5, \"New York\": 23, \"Los Angeles\": 10, \"Chicago\": 9, \"Washington\": 110, \"mask\": 208, \"economy\": 46, \"healthcare\": 30, \"fauci\": 2, \"death|deadly|mortality\": 422, \"Tweets\": 1467598, \"total_cases\": 5640.0, \"new_cases\": 1594.0, \"new_deaths\": 50.0, \"cnn_articles\": 0.0, \"fox_articles\": 20.0}, {\"date\": \"2020-01-28T00:00:00\", \"trump\": 168, \"social distancing\": 1, \"Wuhan\": 882, \"chinese virus\": 1, \"New York\": 18, \"Los Angeles\": 6, \"Chicago\": 9, \"Washington\": 29, \"mask\": 140, \"economy\": 27, \"healthcare\": 25, \"fauci\": 0, \"death|deadly|mortality\": 400, \"Tweets\": 1497653, \"total_cases\": 9174.0, \"new_cases\": 3534.0, \"new_deaths\": 50.0, \"cnn_articles\": 0.0, \"fox_articles\": 22.0}, {\"date\": \"2020-01-29T00:00:00\", \"trump\": 129, \"social distancing\": 0, \"Wuhan\": 911, \"chinese virus\": 2, \"New York\": 29, \"Los Angeles\": 10, \"Chicago\": 14, \"Washington\": 30, \"mask\": 221, \"economy\": 36, \"healthcare\": 16, \"fauci\": 1, \"death|deadly|mortality\": 426, \"Tweets\": 1623497, \"total_cases\": 12134.0, \"new_cases\": 2960.0, \"new_deaths\": 52.0, \"cnn_articles\": 1.0, \"fox_articles\": 33.0}, {\"date\": \"2020-01-30T00:00:00\", \"trump\": 247, \"social distancing\": 0, \"Wuhan\": 863, \"chinese virus\": 1, \"New York\": 17, \"Los Angeles\": 3, \"Chicago\": 53, \"Washington\": 29, \"mask\": 217, \"economy\": 49, \"healthcare\": 22, \"fauci\": 2, \"death|deadly|mortality\": 396, \"Tweets\": 2010976, \"total_cases\": 15646.0, \"new_cases\": 3512.0, \"new_deaths\": 76.0, \"cnn_articles\": 1.0, \"fox_articles\": 32.0}, {\"date\": \"2020-01-31T00:00:00\", \"trump\": 386, \"social distancing\": 0, \"Wuhan\": 657, \"chinese virus\": 6, \"New York\": 22, \"Los Angeles\": 2, \"Chicago\": 15, \"Washington\": 26, \"mask\": 200, \"economy\": 42, \"healthcare\": 23, \"fauci\": 6, \"death|deadly|mortality\": 308, \"Tweets\": 1997635, \"total_cases\": 19648.0, \"new_cases\": 4002.0, \"new_deaths\": 86.0, \"cnn_articles\": 1.0, \"fox_articles\": 19.0}, {\"date\": \"2020-02-01T00:00:00\", \"trump\": 242, \"social distancing\": 0, \"Wuhan\": 946, \"chinese virus\": 3, \"New York\": 205, \"Los Angeles\": 13, \"Chicago\": 7, \"Washington\": 56, \"mask\": 196, \"economy\": 59, \"healthcare\": 15, \"fauci\": 3, \"death|deadly|mortality\": 580, \"Tweets\": 1287963, \"total_cases\": 23892.0, \"new_cases\": 4244.0, \"new_deaths\": 92.0, \"cnn_articles\": 0.0, \"fox_articles\": 7.0}, {\"date\": \"2020-02-02T00:00:00\", \"trump\": 368, \"social distancing\": 2, \"Wuhan\": 1204, \"chinese virus\": 0, \"New York\": 57, \"Los Angeles\": 4, \"Chicago\": 9, \"Washington\": 61, \"mask\": 162, \"economy\": 81, \"healthcare\": 21, \"fauci\": 5, \"death|deadly|mortality\": 688, \"Tweets\": 1298476, \"total_cases\": 29108.0, \"new_cases\": 5216.0, \"new_deaths\": 92.0, \"cnn_articles\": 0.0, \"fox_articles\": 7.0}, {\"date\": \"2020-02-03T00:00:00\", \"trump\": 147, \"social distancing\": 6, \"Wuhan\": 1038, \"chinese virus\": 3, \"New York\": 38, \"Los Angeles\": 20, \"Chicago\": 13, \"Washington\": 49, \"mask\": 167, \"economy\": 120, \"healthcare\": 26, \"fauci\": 15, \"death|deadly|mortality\": 676, \"Tweets\": 1000752, \"total_cases\": 34744.0, \"new_cases\": 5636.0, \"new_deaths\": 114.0, \"cnn_articles\": 0.0, \"fox_articles\": 20.0}, {\"date\": \"2020-02-04T00:00:00\", \"trump\": 166, \"social distancing\": 1, \"Wuhan\": 935, \"chinese virus\": 0, \"New York\": 53, \"Los Angeles\": 14, \"Chicago\": 16, \"Washington\": 37, \"mask\": 182, \"economy\": 60, \"healthcare\": 24, \"fauci\": 4, \"death|deadly|mortality\": 611, \"Tweets\": 997862, \"total_cases\": 41230.0, \"new_cases\": 6486.0, \"new_deaths\": 130.0, \"cnn_articles\": 1.0, \"fox_articles\": 28.0}, {\"date\": \"2020-02-05T00:00:00\", \"trump\": 252, \"social distancing\": 0, \"Wuhan\": 920, \"chinese virus\": 6, \"New York\": 37, \"Los Angeles\": 16, \"Chicago\": 10, \"Washington\": 35, \"mask\": 194, \"economy\": 117, \"healthcare\": 36, \"fauci\": 2, \"death|deadly|mortality\": 667, \"Tweets\": 803587, \"total_cases\": 49046.0, \"new_cases\": 7816.0, \"new_deaths\": 132.0, \"cnn_articles\": 0.0, \"fox_articles\": 20.0}, {\"date\": \"2020-02-06T00:00:00\", \"trump\": 240, \"social distancing\": 1, \"Wuhan\": 1479, \"chinese virus\": 1, \"New York\": 53, \"Los Angeles\": 7, \"Chicago\": 3, \"Washington\": 44, \"mask\": 190, \"economy\": 72, \"healthcare\": 39, \"fauci\": 2, \"death|deadly|mortality\": 616, \"Tweets\": 834673, \"total_cases\": 56548.0, \"new_cases\": 7502.0, \"new_deaths\": 144.0, \"cnn_articles\": 1.0, \"fox_articles\": 17.0}, {\"date\": \"2020-02-07T00:00:00\", \"trump\": 224, \"social distancing\": 0, \"Wuhan\": 998, \"chinese virus\": 1, \"New York\": 75, \"Los Angeles\": 3, \"Chicago\": 23, \"Washington\": 56, \"mask\": 200, \"economy\": 99, \"healthcare\": 31, \"fauci\": 4, \"death|deadly|mortality\": 862, \"Tweets\": 987563, \"total_cases\": 62984.0, \"new_cases\": 6436.0, \"new_deaths\": 146.0, \"cnn_articles\": 0.0, \"fox_articles\": 22.0}, {\"date\": \"2020-02-08T00:00:00\", \"trump\": 292, \"social distancing\": 0, \"Wuhan\": 1087, \"chinese virus\": 1, \"New York\": 46, \"Los Angeles\": 3, \"Chicago\": 10, \"Washington\": 64, \"mask\": 181, \"economy\": 96, \"healthcare\": 28, \"fauci\": 4, \"death|deadly|mortality\": 1106, \"Tweets\": 803453, \"total_cases\": 69868.0, \"new_cases\": 6884.0, \"new_deaths\": 172.0, \"cnn_articles\": 0.0, \"fox_articles\": 11.0}, {\"date\": \"2020-02-09T00:00:00\", \"trump\": 286, \"social distancing\": 1, \"Wuhan\": 1021, \"chinese virus\": 0, \"New York\": 57, \"Los Angeles\": 14, \"Chicago\": 3, \"Washington\": 143, \"mask\": 200, \"economy\": 87, \"healthcare\": 28, \"fauci\": 2, \"death|deadly|mortality\": 849, \"Tweets\": 796739, \"total_cases\": 75104.0, \"new_cases\": 5236.0, \"new_deaths\": 178.0, \"cnn_articles\": 0.0, \"fox_articles\": 10.0}, {\"date\": \"2020-02-10T00:00:00\", \"trump\": 514, \"social distancing\": 0, \"Wuhan\": 738, \"chinese virus\": 1, \"New York\": 27, \"Los Angeles\": 7, \"Chicago\": 6, \"Washington\": 62, \"mask\": 156, \"economy\": 114, \"healthcare\": 40, \"fauci\": 2, \"death|deadly|mortality\": 805, \"Tweets\": 807654, \"total_cases\": 81088.0, \"new_cases\": 5984.0, \"new_deaths\": 194.0, \"cnn_articles\": 1.0, \"fox_articles\": 13.0}, {\"date\": \"2020-02-11T00:00:00\", \"trump\": 345, \"social distancing\": 0, \"Wuhan\": 881, \"chinese virus\": 0, \"New York\": 32, \"Los Angeles\": 3, \"Chicago\": 8, \"Washington\": 33, \"mask\": 180, \"economy\": 119, \"healthcare\": 47, \"fauci\": 4, \"death|deadly|mortality\": 628, \"Tweets\": 908627, \"total_cases\": 86212.0, \"new_cases\": 5124.0, \"new_deaths\": 216.0, \"cnn_articles\": 4.0, \"fox_articles\": 18.0}, {\"date\": \"2020-02-12T00:00:00\", \"trump\": 296, \"social distancing\": 3, \"Wuhan\": 660, \"chinese virus\": 2, \"New York\": 62, \"Los Angeles\": 12, \"Chicago\": 8, \"Washington\": 34, \"mask\": 187, \"economy\": 90, \"healthcare\": 33, \"fauci\": 6, \"death|deadly|mortality\": 470, \"Tweets\": 911098, \"total_cases\": 90356.0, \"new_cases\": 4144.0, \"new_deaths\": 194.0, \"cnn_articles\": 2.0, \"fox_articles\": 20.0}, {\"date\": \"2020-02-13T00:00:00\", \"trump\": 285, \"social distancing\": 3, \"Wuhan\": 652, \"chinese virus\": 1, \"New York\": 82, \"Los Angeles\": 14, \"Chicago\": 20, \"Washington\": 38, \"mask\": 178, \"economy\": 126, \"healthcare\": 28, \"fauci\": 2, \"death|deadly|mortality\": 579, \"Tweets\": 956877, \"total_cases\": 120658.0, \"new_cases\": 30302.0, \"new_deaths\": 510.0, \"cnn_articles\": 4.0, \"fox_articles\": 21.0}, {\"date\": \"2020-02-14T00:00:00\", \"trump\": 372, \"social distancing\": 1, \"Wuhan\": 820, \"chinese virus\": 0, \"New York\": 54, \"Los Angeles\": 23, \"Chicago\": 24, \"Washington\": 55, \"mask\": 252, \"economy\": 118, \"healthcare\": 53, \"fauci\": 3, \"death|deadly|mortality\": 464, \"Tweets\": 622722, \"total_cases\": 129088.0, \"new_cases\": 8430.0, \"new_deaths\": 26.0, \"cnn_articles\": 6.0, \"fox_articles\": 14.0}, {\"date\": \"2020-02-15T00:00:00\", \"trump\": 348, \"social distancing\": 0, \"Wuhan\": 921, \"chinese virus\": 1, \"New York\": 70, \"Los Angeles\": 7, \"Chicago\": 23, \"Washington\": 48, \"mask\": 222, \"economy\": 95, \"healthcare\": 29, \"fauci\": 1, \"death|deadly|mortality\": 814, \"Tweets\": 624555, \"total_cases\": 134208.0, \"new_cases\": 5120.0, \"new_deaths\": 288.0, \"cnn_articles\": 3.0, \"fox_articles\": 8.0}, {\"date\": \"2020-02-16T00:00:00\", \"trump\": 441, \"social distancing\": 1, \"Wuhan\": 973, \"chinese virus\": 1, \"New York\": 42, \"Los Angeles\": 5, \"Chicago\": 14, \"Washington\": 97, \"mask\": 187, \"economy\": 114, \"healthcare\": 20, \"fauci\": 23, \"death|deadly|mortality\": 599, \"Tweets\": 625127, \"total_cases\": 138532.0, \"new_cases\": 4324.0, \"new_deaths\": 284.0, \"cnn_articles\": 4.0, \"fox_articles\": 6.0}, {\"date\": \"2020-02-17T00:00:00\", \"trump\": 321, \"social distancing\": 2, \"Wuhan\": 724, \"chinese virus\": 0, \"New York\": 74, \"Los Angeles\": 13, \"Chicago\": 8, \"Washington\": 98, \"mask\": 157, \"economy\": 144, \"healthcare\": 40, \"fauci\": 13, \"death|deadly|mortality\": 441, \"Tweets\": 626732, \"total_cases\": 142666.0, \"new_cases\": 4134.0, \"new_deaths\": 212.0, \"cnn_articles\": 5.0, \"fox_articles\": 18.0}, {\"date\": \"2020-02-18T00:00:00\", \"trump\": 316, \"social distancing\": 1, \"Wuhan\": 898, \"chinese virus\": 1, \"New York\": 33, \"Los Angeles\": 20, \"Chicago\": 1, \"Washington\": 97, \"mask\": 197, \"economy\": 126, \"healthcare\": 35, \"fauci\": 5, \"death|deadly|mortality\": 665, \"Tweets\": 628043, \"total_cases\": 146656.0, \"new_cases\": 3990.0, \"new_deaths\": 196.0, \"cnn_articles\": 4.0, \"fox_articles\": 17.0}, {\"date\": \"2020-02-19T00:00:00\", \"trump\": 310, \"social distancing\": 0, \"Wuhan\": 705, \"chinese virus\": 0, \"New York\": 44, \"Los Angeles\": 4, \"Chicago\": 3, \"Washington\": 107, \"mask\": 182, \"economy\": 164, \"healthcare\": 43, \"fauci\": 13, \"death|deadly|mortality\": 547, \"Tweets\": 626237, \"total_cases\": 150384.0, \"new_cases\": 3728.0, \"new_deaths\": 278.0, \"cnn_articles\": 3.0, \"fox_articles\": 12.0}, {\"date\": \"2020-02-20T00:00:00\", \"trump\": 350, \"social distancing\": 1, \"Wuhan\": 590, \"chinese virus\": 0, \"New York\": 37, \"Los Angeles\": 3, \"Chicago\": 9, \"Washington\": 311, \"mask\": 186, \"economy\": 147, \"healthcare\": 48, \"fauci\": 4, \"death|deadly|mortality\": 521, \"Tweets\": 622349, \"total_cases\": 151448.0, \"new_cases\": 1064.0, \"new_deaths\": 232.0, \"cnn_articles\": 2.0, \"fox_articles\": 9.0}, {\"date\": \"2020-02-21T00:00:00\", \"trump\": 307, \"social distancing\": 0, \"Wuhan\": 466, \"chinese virus\": 1, \"New York\": 38, \"Los Angeles\": 3, \"Chicago\": 2, \"Washington\": 92, \"mask\": 123, \"economy\": 109, \"healthcare\": 35, \"fauci\": 3, \"death|deadly|mortality\": 392, \"Tweets\": 954321, \"total_cases\": 153440.0, \"new_cases\": 1992.0, \"new_deaths\": 238.0, \"cnn_articles\": 3.0, \"fox_articles\": 19.0}, {\"date\": \"2020-02-22T00:00:00\", \"trump\": 70, \"social distancing\": 0, \"Wuhan\": 111, \"chinese virus\": 0, \"New York\": 2, \"Los Angeles\": 2, \"Chicago\": 0, \"Washington\": 6, \"mask\": 25, \"economy\": 14, \"healthcare\": 3, \"fauci\": 2, \"death|deadly|mortality\": 88, \"Tweets\": 997638, \"total_cases\": 155610.0, \"new_cases\": 2170.0, \"new_deaths\": 224.0, \"cnn_articles\": 1.0, \"fox_articles\": 4.0}, {\"date\": \"2020-02-23T00:00:00\", \"trump\": 507, \"social distancing\": 1, \"Wuhan\": 444, \"chinese virus\": 0, \"New York\": 38, \"Los Angeles\": 6, \"Chicago\": 2, \"Washington\": 35, \"mask\": 148, \"economy\": 90, \"healthcare\": 27, \"fauci\": 1, \"death|deadly|mortality\": 320, \"Tweets\": 1233511, \"total_cases\": 157628.0, \"new_cases\": 2018.0, \"new_deaths\": 208.0, \"cnn_articles\": 2.0, \"fox_articles\": 4.0}, {\"date\": \"2020-02-24T00:00:00\", \"trump\": 1802, \"social distancing\": 3, \"Wuhan\": 549, \"chinese virus\": 2, \"New York\": 44, \"Los Angeles\": 5, \"Chicago\": 8, \"Washington\": 115, \"mask\": 192, \"economy\": 324, \"healthcare\": 134, \"fauci\": 4, \"death|deadly|mortality\": 511, \"Tweets\": 1643544, \"total_cases\": 158674.0, \"new_cases\": 1046.0, \"new_deaths\": 312.0, \"cnn_articles\": 6.0, \"fox_articles\": 19.0}, {\"date\": \"2020-02-25T00:00:00\", \"trump\": 908, \"social distancing\": 1, \"Wuhan\": 156, \"chinese virus\": 0, \"New York\": 16, \"Los Angeles\": 4, \"Chicago\": 7, \"Washington\": 70, \"mask\": 94, \"economy\": 92, \"healthcare\": 58, \"fauci\": 5, \"death|deadly|mortality\": 246, \"Tweets\": 2844369, \"total_cases\": 160260.0, \"new_cases\": 1586.0, \"new_deaths\": 158.0, \"cnn_articles\": 8.0, \"fox_articles\": 22.0}, {\"date\": \"2020-02-26T00:00:00\", \"trump\": 3498, \"social distancing\": 1, \"Wuhan\": 94, \"chinese virus\": 0, \"New York\": 80, \"Los Angeles\": 19, \"Chicago\": 7, \"Washington\": 191, \"mask\": 100, \"economy\": 50, \"healthcare\": 57, \"fauci\": 25, \"death|deadly|mortality\": 244, \"Tweets\": 3989533, \"total_cases\": 161994.0, \"new_cases\": 1734.0, \"new_deaths\": 128.0, \"cnn_articles\": 9.0, \"fox_articles\": 52.0}, {\"date\": \"2020-02-27T00:00:00\", \"trump\": 1284, \"social distancing\": 0, \"Wuhan\": 100, \"chinese virus\": 0, \"New York\": 65, \"Los Angeles\": 8, \"Chicago\": 12, \"Washington\": 107, \"mask\": 111, \"economy\": 108, \"healthcare\": 52, \"fauci\": 6, \"death|deadly|mortality\": 203, \"Tweets\": 4597412, \"total_cases\": 164222.0, \"new_cases\": 2228.0, \"new_deaths\": 76.0, \"cnn_articles\": 10.0, \"fox_articles\": 69.0}, {\"date\": \"2020-02-28T00:00:00\", \"trump\": 1165, \"social distancing\": 0, \"Wuhan\": 93, \"chinese virus\": 2, \"New York\": 40, \"Los Angeles\": 7, \"Chicago\": 10, \"Washington\": 105, \"mask\": 107, \"economy\": 100, \"healthcare\": 38, \"fauci\": 24, \"death|deadly|mortality\": 211, \"Tweets\": 5685321, \"total_cases\": 166754.0, \"new_cases\": 2532.0, \"new_deaths\": 114.0, \"cnn_articles\": 6.0, \"fox_articles\": 43.0}, {\"date\": \"2020-02-29T00:00:00\", \"trump\": 1401, \"social distancing\": 2, \"Wuhan\": 107, \"chinese virus\": 0, \"New York\": 56, \"Los Angeles\": 5, \"Chicago\": 9, \"Washington\": 326, \"mask\": 170, \"economy\": 63, \"healthcare\": 63, \"fauci\": 26, \"death|deadly|mortality\": 589, \"Tweets\": 4666121, \"total_cases\": 170472.0, \"new_cases\": 3718.0, \"new_deaths\": 128.0, \"cnn_articles\": 6.0, \"fox_articles\": 27.0}, {\"date\": \"2020-03-01T00:00:00\", \"trump\": 960, \"social distancing\": 3, \"Wuhan\": 141, \"chinese virus\": 1, \"New York\": 51, \"Los Angeles\": 6, \"Chicago\": 22, \"Washington\": 239, \"mask\": 173, \"economy\": 100, \"healthcare\": 75, \"fauci\": 12, \"death|deadly|mortality\": 332, \"Tweets\": 3632689, \"total_cases\": 174160.0, \"new_cases\": 3688.0, \"new_deaths\": 116.0, \"cnn_articles\": 9.0, \"fox_articles\": 24.0}, {\"date\": \"2020-03-02T00:00:00\", \"trump\": 877, \"social distancing\": 6, \"Wuhan\": 122, \"chinese virus\": 0, \"New York\": 79, \"Los Angeles\": 3, \"Chicago\": 18, \"Washington\": 300, \"mask\": 206, \"economy\": 84, \"healthcare\": 64, \"fauci\": 15, \"death|deadly|mortality\": 489, \"Tweets\": 4240721, \"total_cases\": 178298.0, \"new_cases\": 4138.0, \"new_deaths\": 134.0, \"cnn_articles\": 9.0, \"fox_articles\": 62.0}, {\"date\": \"2020-03-03T00:00:00\", \"trump\": 832, \"social distancing\": 4, \"Wuhan\": 95, \"chinese virus\": 1, \"New York\": 105, \"Los Angeles\": 9, \"Chicago\": 15, \"Washington\": 167, \"mask\": 150, \"economy\": 78, \"healthcare\": 62, \"fauci\": 26, \"death|deadly|mortality\": 369, \"Tweets\": 4342139, \"total_cases\": 181779.0, \"new_cases\": 3714.0, \"new_deaths\": 144.0, \"cnn_articles\": 7.0, \"fox_articles\": 49.0}, {\"date\": \"2020-03-04T00:00:00\", \"trump\": 642, \"social distancing\": 4, \"Wuhan\": 153, \"chinese virus\": 0, \"New York\": 92, \"Los Angeles\": 51, \"Chicago\": 14, \"Washington\": 103, \"mask\": 186, \"economy\": 115, \"healthcare\": 57, \"fauci\": 6, \"death|deadly|mortality\": 361, \"Tweets\": 4323670, \"total_cases\": 186440.0, \"new_cases\": 4624.0, \"new_deaths\": 168.0, \"cnn_articles\": 14.0, \"fox_articles\": 65.0}, {\"date\": \"2020-03-05T00:00:00\", \"trump\": 818, \"social distancing\": 3, \"Wuhan\": 100, \"chinese virus\": 0, \"New York\": 78, \"Los Angeles\": 26, \"Chicago\": 9, \"Washington\": 125, \"mask\": 144, \"economy\": 72, \"healthcare\": 69, \"fauci\": 5, \"death|deadly|mortality\": 389, \"Tweets\": 4323687, \"total_cases\": 191161.0, \"new_cases\": 4708.0, \"new_deaths\": 160.0, \"cnn_articles\": 12.0, \"fox_articles\": 50.0}, {\"date\": \"2020-03-06T00:00:00\", \"trump\": 937, \"social distancing\": 7, \"Wuhan\": 64, \"chinese virus\": 1, \"New York\": 95, \"Los Angeles\": 26, \"Chicago\": 14, \"Washington\": 209, \"mask\": 92, \"economy\": 102, \"healthcare\": 46, \"fauci\": 8, \"death|deadly|mortality\": 300, \"Tweets\": 4581032, \"total_cases\": 197347.0, \"new_cases\": 6116.0, \"new_deaths\": 204.0, \"cnn_articles\": 16.0, \"fox_articles\": 60.0}, {\"date\": \"2020-03-07T00:00:00\", \"trump\": 841, \"social distancing\": 8, \"Wuhan\": 106, \"chinese virus\": 0, \"New York\": 265, \"Los Angeles\": 23, \"Chicago\": 14, \"Washington\": 248, \"mask\": 164, \"economy\": 45, \"healthcare\": 59, \"fauci\": 4, \"death|deadly|mortality\": 398, \"Tweets\": 4632239, \"total_cases\": 205479.0, \"new_cases\": 8240.0, \"new_deaths\": 208.0, \"cnn_articles\": 9.0, \"fox_articles\": 37.0}, {\"date\": \"2020-03-08T00:00:00\", \"trump\": 334, \"social distancing\": 6, \"Wuhan\": 21, \"chinese virus\": 0, \"New York\": 25, \"Los Angeles\": 4, \"Chicago\": 4, \"Washington\": 75, \"mask\": 43, \"economy\": 28, \"healthcare\": 19, \"fauci\": 7, \"death|deadly|mortality\": 140, \"Tweets\": 4533476, \"total_cases\": 213417.0, \"new_cases\": 7954.0, \"new_deaths\": 194.0, \"cnn_articles\": 7.0, \"fox_articles\": 39.0}, {\"date\": \"2020-03-09T00:00:00\", \"trump\": 1240, \"social distancing\": 13, \"Wuhan\": 109, \"chinese virus\": 0, \"New York\": 65, \"Los Angeles\": 5, \"Chicago\": 11, \"Washington\": 99, \"mask\": 111, \"economy\": 106, \"healthcare\": 44, \"fauci\": 6, \"death|deadly|mortality\": 296, \"Tweets\": 6386122, \"total_cases\": 221758.0, \"new_cases\": 8354.0, \"new_deaths\": 456.0, \"cnn_articles\": 24.0, \"fox_articles\": 89.0}, {\"date\": \"2020-03-10T00:00:00\", \"trump\": 727, \"social distancing\": 40, \"Wuhan\": 108, \"chinese virus\": 3, \"New York\": 71, \"Los Angeles\": 7, \"Chicago\": 15, \"Washington\": 79, \"mask\": 82, \"economy\": 91, \"healthcare\": 60, \"fauci\": 11, \"death|deadly|mortality\": 212, \"Tweets\": 8284672, \"total_cases\": 231310.0, \"new_cases\": 9632.0, \"new_deaths\": 418.0, \"cnn_articles\": 21.0, \"fox_articles\": 104.0}, {\"date\": \"2020-03-11T00:00:00\", \"trump\": 860, \"social distancing\": 48, \"Wuhan\": 82, \"chinese virus\": 3, \"New York\": 57, \"Los Angeles\": 3, \"Chicago\": 29, \"Washington\": 113, \"mask\": 51, \"economy\": 100, \"healthcare\": 54, \"fauci\": 44, \"death|deadly|mortality\": 220, \"Tweets\": 9923317, \"total_cases\": 241730.0, \"new_cases\": 10214.0, \"new_deaths\": 544.0, \"cnn_articles\": 24.0, \"fox_articles\": 107.0}, {\"date\": \"2020-03-12T00:00:00\", \"trump\": 592, \"social distancing\": 28, \"Wuhan\": 78, \"chinese virus\": 1, \"New York\": 31, \"Los Angeles\": 4, \"Chicago\": 12, \"Washington\": 50, \"mask\": 29, \"economy\": 63, \"healthcare\": 40, \"fauci\": 18, \"death|deadly|mortality\": 146, \"Tweets\": 18799722, \"total_cases\": 257471.0, \"new_cases\": 15796.0, \"new_deaths\": 662.0, \"cnn_articles\": 43.0, \"fox_articles\": 185.0}, {\"date\": \"2020-03-13T00:00:00\", \"trump\": 1550, \"social distancing\": 84, \"Wuhan\": 183, \"chinese virus\": 4, \"New York\": 61, \"Los Angeles\": 21, \"Chicago\": 22, \"Washington\": 113, \"mask\": 116, \"economy\": 68, \"healthcare\": 78, \"fauci\": 26, \"death|deadly|mortality\": 230, \"Tweets\": 19802671, \"total_cases\": 276054.0, \"new_cases\": 18902.0, \"new_deaths\": 702.0, \"cnn_articles\": 44.0, \"fox_articles\": 159.0}, {\"date\": \"2020-03-14T00:00:00\", \"trump\": 1396, \"social distancing\": 108, \"Wuhan\": 92, \"chinese virus\": 0, \"New York\": 55, \"Los Angeles\": 12, \"Chicago\": 9, \"Washington\": 112, \"mask\": 68, \"economy\": 26, \"healthcare\": 33, \"fauci\": 5, \"death|deadly|mortality\": 150, \"Tweets\": 16823148, \"total_cases\": 297129.0, \"new_cases\": 20808.0, \"new_deaths\": 884.0, \"cnn_articles\": 25.0, \"fox_articles\": 49.0}, {\"date\": \"2020-03-15T00:00:00\", \"trump\": 536, \"social distancing\": 138, \"Wuhan\": 62, \"chinese virus\": 0, \"New York\": 69, \"Los Angeles\": 9, \"Chicago\": 14, \"Washington\": 119, \"mask\": 46, \"economy\": 80, \"healthcare\": 61, \"fauci\": 29, \"death|deadly|mortality\": 190, \"Tweets\": 16438760, \"total_cases\": 321583.0, \"new_cases\": 24330.0, \"new_deaths\": 734.0, \"cnn_articles\": 17.0, \"fox_articles\": 91.0}, {\"date\": \"2020-03-16T00:00:00\", \"trump\": 618, \"social distancing\": 132, \"Wuhan\": 81, \"chinese virus\": 145, \"New York\": 60, \"Los Angeles\": 16, \"Chicago\": 13, \"Washington\": 72, \"mask\": 34, \"economy\": 48, \"healthcare\": 55, \"fauci\": 4, \"death|deadly|mortality\": 127, \"Tweets\": 17227182, \"total_cases\": 346564.0, \"new_cases\": 24910.0, \"new_deaths\": 1500.0, \"cnn_articles\": 57.0, \"fox_articles\": 204.0}, {\"date\": \"2020-03-17T00:00:00\", \"trump\": 446, \"social distancing\": 135, \"Wuhan\": 106, \"chinese virus\": 83, \"New York\": 46, \"Los Angeles\": 17, \"Chicago\": 21, \"Washington\": 52, \"mask\": 41, \"economy\": 64, \"healthcare\": 50, \"fauci\": 1, \"death|deadly|mortality\": 159, \"Tweets\": 17417142, \"total_cases\": 374982.0, \"new_cases\": 28402.0, \"new_deaths\": 1212.0, \"cnn_articles\": 57.0, \"fox_articles\": 247.0}, {\"date\": \"2020-03-18T00:00:00\", \"trump\": 711, \"social distancing\": 152, \"Wuhan\": 159, \"chinese virus\": 161, \"New York\": 61, \"Los Angeles\": 7, \"Chicago\": 18, \"Washington\": 125, \"mask\": 52, \"economy\": 86, \"healthcare\": 57, \"fauci\": 7, \"death|deadly|mortality\": 220, \"Tweets\": 16561524, \"total_cases\": 409006.0, \"new_cases\": 34012.0, \"new_deaths\": 1624.0, \"cnn_articles\": 57.0, \"fox_articles\": 241.0}, {\"date\": \"2020-03-19T00:00:00\", \"trump\": 592, \"social distancing\": 117, \"Wuhan\": 134, \"chinese virus\": 67, \"New York\": 65, \"Los Angeles\": 21, \"Chicago\": 18, \"Washington\": 96, \"mask\": 61, \"economy\": 60, \"healthcare\": 49, \"fauci\": 22, \"death|deadly|mortality\": 215, \"Tweets\": 16582131, \"total_cases\": 449434.0, \"new_cases\": 40428.0, \"new_deaths\": 1916.0, \"cnn_articles\": 67.0, \"fox_articles\": 246.0}, {\"date\": \"2020-03-20T00:00:00\", \"trump\": 580, \"social distancing\": 120, \"Wuhan\": 75, \"chinese virus\": 47, \"New York\": 103, \"Los Angeles\": 16, \"Chicago\": 23, \"Washington\": 71, \"mask\": 98, \"economy\": 63, \"healthcare\": 50, \"fauci\": 40, \"death|deadly|mortality\": 217, \"Tweets\": 15200259, \"total_cases\": 511626.0, \"new_cases\": 62188.0, \"new_deaths\": 2148.0, \"cnn_articles\": 54.0, \"fox_articles\": 186.0}, {\"date\": \"2020-03-21T00:00:00\", \"trump\": 593, \"social distancing\": 125, \"Wuhan\": 94, \"chinese virus\": 29, \"New York\": 74, \"Los Angeles\": 15, \"Chicago\": 12, \"Washington\": 75, \"mask\": 99, \"economy\": 46, \"healthcare\": 59, \"fauci\": 21, \"death|deadly|mortality\": 331, \"Tweets\": 12861351, \"total_cases\": 575439.0, \"new_cases\": 63818.0, \"new_deaths\": 2770.0, \"cnn_articles\": 30.0, \"fox_articles\": 75.0}, {\"date\": \"2020-03-22T00:00:00\", \"trump\": 815, \"social distancing\": 191, \"Wuhan\": 83, \"chinese virus\": 48, \"New York\": 131, \"Los Angeles\": 9, \"Chicago\": 17, \"Washington\": 116, \"mask\": 107, \"economy\": 62, \"healthcare\": 72, \"fauci\": 56, \"death|deadly|mortality\": 209, \"Tweets\": 14392561, \"total_cases\": 643851.0, \"new_cases\": 68412.0, \"new_deaths\": 3434.0, \"cnn_articles\": 33.0, \"fox_articles\": 101.0}, {\"date\": \"2020-03-23T00:00:00\", \"trump\": 1121, \"social distancing\": 162, \"Wuhan\": 88, \"chinese virus\": 44, \"New York\": 134, \"Los Angeles\": 13, \"Chicago\": 19, \"Washington\": 90, \"mask\": 95, \"economy\": 135, \"healthcare\": 66, \"fauci\": 133, \"death|deadly|mortality\": 293, \"Tweets\": 15446246, \"total_cases\": 712423.0, \"new_cases\": 68572.0, \"new_deaths\": 3376.0, \"cnn_articles\": 54.0, \"fox_articles\": 231.0}, {\"date\": \"2020-03-24T00:00:00\", \"trump\": 792, \"social distancing\": 134, \"Wuhan\": 68, \"chinese virus\": 29, \"New York\": 134, \"Los Angeles\": 27, \"Chicago\": 12, \"Washington\": 56, \"mask\": 71, \"economy\": 129, \"healthcare\": 70, \"fauci\": 41, \"death|deadly|mortality\": 307, \"Tweets\": 14445841, \"total_cases\": 801402.0, \"new_cases\": 88972.0, \"new_deaths\": 3708.0, \"cnn_articles\": 69.0, \"fox_articles\": 253.0}, {\"date\": \"2020-03-25T00:00:00\", \"trump\": 799, \"social distancing\": 134, \"Wuhan\": 93, \"chinese virus\": 31, \"New York\": 124, \"Los Angeles\": 24, \"Chicago\": 14, \"Washington\": 96, \"mask\": 76, \"economy\": 87, \"healthcare\": 67, \"fauci\": 46, \"death|deadly|mortality\": 322, \"Tweets\": 13000269, \"total_cases\": 886169.0, \"new_cases\": 84772.0, \"new_deaths\": 4610.0, \"cnn_articles\": 61.0, \"fox_articles\": 260.0}, {\"date\": \"2020-03-26T00:00:00\", \"trump\": 916, \"social distancing\": 127, \"Wuhan\": 66, \"chinese virus\": 58, \"New York\": 135, \"Los Angeles\": 13, \"Chicago\": 30, \"Washington\": 82, \"mask\": 114, \"economy\": 88, \"healthcare\": 96, \"fauci\": 33, \"death|deadly|mortality\": 361, \"Tweets\": 12236719, \"total_cases\": 993676.0, \"new_cases\": 107500.0, \"new_deaths\": 5288.0, \"cnn_articles\": 81.0, \"fox_articles\": 256.0}, {\"date\": \"2020-03-27T00:00:00\", \"trump\": 902, \"social distancing\": 134, \"Wuhan\": 90, \"chinese virus\": 17, \"New York\": 112, \"Los Angeles\": 17, \"Chicago\": 23, \"Washington\": 86, \"mask\": 106, \"economy\": 66, \"healthcare\": 78, \"fauci\": 27, \"death|deadly|mortality\": 409, \"Tweets\": 12209011, \"total_cases\": 1115708.0, \"new_cases\": 122032.0, \"new_deaths\": 5610.0, \"cnn_articles\": 61.0, \"fox_articles\": 210.0}, {\"date\": \"2020-03-28T00:00:00\", \"trump\": 712, \"social distancing\": 96, \"Wuhan\": 113, \"chinese virus\": 20, \"New York\": 206, \"Los Angeles\": 16, \"Chicago\": 32, \"Washington\": 100, \"mask\": 123, \"economy\": 67, \"healthcare\": 61, \"fauci\": 32, \"death|deadly|mortality\": 546, \"Tweets\": 10434671, \"total_cases\": 1245896.0, \"new_cases\": 130188.0, \"new_deaths\": 6982.0, \"cnn_articles\": 29.0, \"fox_articles\": 84.0}, {\"date\": \"2020-03-29T00:00:00\", \"trump\": 1257, \"social distancing\": 231, \"Wuhan\": 120, \"chinese virus\": 20, \"New York\": 167, \"Los Angeles\": 13, \"Chicago\": 21, \"Washington\": 69, \"mask\": 140, \"economy\": 84, \"healthcare\": 54, \"fauci\": 100, \"death|deadly|mortality\": 577, \"Tweets\": 9333426, \"total_cases\": 1371524.0, \"new_cases\": 125628.0, \"new_deaths\": 7174.0, \"cnn_articles\": 33.0, \"fox_articles\": 108.0}, {\"date\": \"2020-03-30T00:00:00\", \"trump\": 906, \"social distancing\": 173, \"Wuhan\": 87, \"chinese virus\": 22, \"New York\": 133, \"Los Angeles\": 20, \"Chicago\": 24, \"Washington\": 70, \"mask\": 187, \"economy\": 71, \"healthcare\": 107, \"fauci\": 29, \"death|deadly|mortality\": 373, \"Tweets\": 10125714, \"total_cases\": 1486250.0, \"new_cases\": 114726.0, \"new_deaths\": 6456.0, \"cnn_articles\": 60.0, \"fox_articles\": 204.0}, {\"date\": \"2020-03-31T00:00:00\", \"trump\": 1191, \"social distancing\": 163, \"Wuhan\": 71, \"chinese virus\": 18, \"New York\": 133, \"Los Angeles\": 23, \"Chicago\": 9, \"Washington\": 83, \"mask\": 170, \"economy\": 79, \"healthcare\": 96, \"fauci\": 49, \"death|deadly|mortality\": 575, \"Tweets\": 10442432, \"total_cases\": 1615134.0, \"new_cases\": 128976.0, \"new_deaths\": 7972.0, \"cnn_articles\": 75.0, \"fox_articles\": 144.0}, {\"date\": \"2020-04-01T00:00:00\", \"trump\": 1034, \"social distancing\": 131, \"Wuhan\": 110, \"chinese virus\": 23, \"New York\": 140, \"Los Angeles\": 29, \"Chicago\": 21, \"Washington\": 90, \"mask\": 145, \"economy\": 46, \"healthcare\": 71, \"fauci\": 37, \"death|deadly|mortality\": 523, \"Tweets\": 10402981, \"total_cases\": 1764569.0, \"new_cases\": 149348.0, \"new_deaths\": 9348.0, \"cnn_articles\": 71.0, \"fox_articles\": 260.0}, {\"date\": \"2020-04-02T00:00:00\", \"trump\": 1442, \"social distancing\": 140, \"Wuhan\": 103, \"chinese virus\": 20, \"New York\": 180, \"Los Angeles\": 29, \"Chicago\": 41, \"Washington\": 151, \"mask\": 393, \"economy\": 108, \"healthcare\": 108, \"fauci\": 63, \"death|deadly|mortality\": 551, \"Tweets\": 9767918, \"total_cases\": 1919520.0, \"new_cases\": 154946.0, \"new_deaths\": 10020.0, \"cnn_articles\": 85.0, \"fox_articles\": 260.0}, {\"date\": \"2020-04-03T00:00:00\", \"trump\": 820, \"social distancing\": 113, \"Wuhan\": 96, \"chinese virus\": 13, \"New York\": 171, \"Los Angeles\": 42, \"Chicago\": 21, \"Washington\": 109, \"mask\": 432, \"economy\": 96, \"healthcare\": 71, \"fauci\": 58, \"death|deadly|mortality\": 415, \"Tweets\": 9357113, \"total_cases\": 2074434.0, \"new_cases\": 154914.0, \"new_deaths\": 10018.0, \"cnn_articles\": 80.0, \"fox_articles\": 235.0}, {\"date\": \"2020-04-04T00:00:00\", \"trump\": 1002, \"social distancing\": 109, \"Wuhan\": 94, \"chinese virus\": 19, \"New York\": 201, \"Los Angeles\": 23, \"Chicago\": 23, \"Washington\": 117, \"mask\": 265, \"economy\": 79, \"healthcare\": 64, \"fauci\": 64, \"death|deadly|mortality\": 541, \"Tweets\": 7928225, \"total_cases\": 2238094.0, \"new_cases\": 163660.0, \"new_deaths\": 13552.0, \"cnn_articles\": 36.0, \"fox_articles\": 120.0}, {\"date\": \"2020-04-05T00:00:00\", \"trump\": 1394, \"social distancing\": 121, \"Wuhan\": 74, \"chinese virus\": 13, \"New York\": 222, \"Los Angeles\": 15, \"Chicago\": 34, \"Washington\": 109, \"mask\": 242, \"economy\": 71, \"healthcare\": 70, \"fauci\": 149, \"death|deadly|mortality\": 554, \"Tweets\": 7421877, \"total_cases\": 2408425.0, \"new_cases\": 170486.0, \"new_deaths\": 12616.0, \"cnn_articles\": 48.0, \"fox_articles\": 96.0}, {\"date\": \"2020-04-06T00:00:00\", \"trump\": 964, \"social distancing\": 124, \"Wuhan\": 79, \"chinese virus\": 21, \"New York\": 165, \"Los Angeles\": 20, \"Chicago\": 39, \"Washington\": 109, \"mask\": 214, \"economy\": 84, \"healthcare\": 87, \"fauci\": 79, \"death|deadly|mortality\": 446, \"Tweets\": 8153966, \"total_cases\": 2541132.0, \"new_cases\": 132552.0, \"new_deaths\": 9512.0, \"cnn_articles\": 74.0, \"fox_articles\": 169.0}, {\"date\": \"2020-04-07T00:00:00\", \"trump\": 1108, \"social distancing\": 134, \"Wuhan\": 157, \"chinese virus\": 13, \"New York\": 132, \"Los Angeles\": 31, \"Chicago\": 42, \"Washington\": 110, \"mask\": 214, \"economy\": 71, \"healthcare\": 96, \"fauci\": 76, \"death|deadly|mortality\": 622, \"Tweets\": 7877346, \"total_cases\": 2687108.0, \"new_cases\": 145976.0, \"new_deaths\": 10680.0, \"cnn_articles\": 77.0, \"fox_articles\": 230.0}]}}, {\"mode\": \"vega-lite\"});\n",
       "</script>"
      ],
      "text/plain": [
       "alt.LayerChart(...)"
      ]
     },
     "execution_count": 38,
     "metadata": {},
     "output_type": "execute_result"
    }
   ],
   "source": [
    "keyword_data.info()\n",
    "\n",
    "base = alt.Chart(key_merged).encode(\n",
    "    alt.X('date:T', axis=alt.Axis(title=None))\n",
    ").properties(\n",
    "    width=500,\n",
    "    height=200\n",
    ")\n",
    "\n",
    "line_one = base.transform_fold(\n",
    "    columns1,\n",
    "    as_=['column', 'value']\n",
    ").transform_filter(\n",
    "    sel1\n",
    ").mark_line( interpolate='monotone', stroke='#eb34eb').encode(\n",
    "    alt.Y('value:Q',\n",
    "          axis=alt.Axis(title=\"Keyword appearances\", titleColor='#eb34eb'))\n",
    ").add_selection(\n",
    "    sel1\n",
    ")\n",
    "\n",
    "\n",
    "line_two = base.transform_fold(\n",
    "    columns2,\n",
    "    as_=['column', 'value']\n",
    ").transform_filter(\n",
    "    sel2\n",
    ").mark_line( interpolate='monotone', stroke='#1da1f2').encode(\n",
    "    alt.Y('value:Q',\n",
    "          axis=alt.Axis(title=\"Data value\", titleColor='#1da1f2'))\n",
    ").add_selection(\n",
    "    sel2\n",
    ")\n",
    "\n",
    "alt.layer(line_one, line_two).resolve_scale(\n",
    "    y = 'independent'\n",
    ")"
   ]
  },
  {
   "cell_type": "markdown",
   "metadata": {
    "id": "sH7LqR0FLJ5o"
   },
   "source": [
    "# Load data of trending topics from github\n",
    "\n",
    "selecting the fifty most talked about trending topics on twitter\n",
    "\n",
    "manually annotate the wider topic the trend belongs to (C: Coronavirus, P: Politics, D: Tweets related to a special day of the week/year, O: Other topics)\n",
    "\n"
   ]
  },
  {
   "cell_type": "code",
   "execution_count": null,
   "metadata": {
    "id": "BMBWFuiqLJ5p"
   },
   "outputs": [],
   "source": [
    "#trending = pd.read_csv(\"trending_topics_usa.csv\")\n",
    "\n",
    "trending = pd.read_csv(\"https://raw.githubusercontent.com/xxz-jessica/COVID-19_UCD_Challenge/master/Twitter_Trending_Topics/usa_trending.csv\", encoding='latin1')\n",
    "trending[\"date\"] = pd.to_datetime(trending[\"date\"])\n",
    "\n",
    "\n",
    "trending_counted = trending.groupby('trending')['date'].apply(list).reset_index(name='dates')\n",
    "trending_counted2 = trending.groupby(\"trending\").count().reset_index()\n",
    "\n",
    "#trending_counted = trending_counted.sort_values(\"num_dates\", ascending = False)\n",
    "\n",
    "#trending_counted.merge(trending_counted2, left_on =)\n",
    "\n",
    "trending_selected = trending_counted.merge(trending_counted2).sort_values(\"date\", ascending = False)\n",
    "\n",
    "trending_selected = trending_selected[0:50]\n",
    "\n",
    "trending_selected[\"annotation\"] = [\"P\", \"C\", \"O\", \"O\", \"C\", \"P\", \"P\", \"C\", \"P\", \"P\", \"D\", \"D\", \"O\", \"D\", \"D\", \n",
    "                                    \"D\", \"O\", \"D\", \"O\", \"P\", \"D\", \"C\", \"P\", \"D\", \"C\", \"P\", \"C\", \"P\", \"O\", \"O\",\n",
    "                                    \"P\", \"P\", \"O\", \"C\", \"O\", \"O\", \"O\", \"D\", \"P\", \"O\", \"P\", \"P\", \"D\", \"C\", \"P\", \n",
    "                                    \"P\", \"P\", \"P\", \"D\", \"P\"]\n"
   ]
  },
  {
   "cell_type": "markdown",
   "metadata": {
    "id": "tZE9HV_GLJ5t"
   },
   "source": [
    "# Create wordcloud using brunel"
   ]
  },
  {
   "cell_type": "code",
   "execution_count": null,
   "metadata": {
    "id": "KEbGwy2JLJ5u"
   },
   "outputs": [],
   "source": [
    "import brunel"
   ]
  },
  {
   "cell_type": "code",
   "execution_count": null,
   "metadata": {
    "id": "il_zoVPaLJ5z"
   },
   "outputs": [],
   "source": [
    "trending_select\n",
    "%brunel cloud data(\"trending_selected\") size(date) label(trending) tooltip(dates) color(annotation)"
   ]
  }
 ],
 "metadata": {
  "colab": {
   "collapsed_sections": [],
   "name": "Test twitter data from github repo.ipynb",
   "provenance": [],
   "toc_visible": true
  },
  "kernelspec": {
   "display_name": "Python 3",
   "language": "python",
   "name": "python3"
  },
  "language_info": {
   "codemirror_mode": {
    "name": "ipython",
    "version": 3
   },
   "file_extension": ".py",
   "mimetype": "text/x-python",
   "name": "python",
   "nbconvert_exporter": "python",
   "pygments_lexer": "ipython3",
   "version": "3.7.9"
  }
 },
 "nbformat": 4,
 "nbformat_minor": 1
}
